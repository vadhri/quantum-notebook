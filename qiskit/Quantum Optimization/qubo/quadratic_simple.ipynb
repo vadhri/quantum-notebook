{
 "cells": [
  {
   "cell_type": "markdown",
   "metadata": {},
   "source": [
    "Solve the following qubo problem for minimum value. \n",
    "\n",
    "$ y = -5x_1 -3x_2 - 8x_3 -6x_4 + 4x_1.x_2 + 8x_1.x_3 + 2x_2.x_3 + 10x_3.x_4 $"
   ]
  },
  {
   "cell_type": "code",
   "execution_count": 17,
   "metadata": {},
   "outputs": [],
   "source": [
    "from qiskit_optimization import QuadraticProgram\n",
    "from qiskit import BasicAer\n",
    "from qiskit_optimization.algorithms import MinimumEigenOptimizer\n",
    "from qiskit.utils import QuantumInstance\n",
    "from qiskit.algorithms.minimum_eigen_solvers import QAOA\n"
   ]
  },
  {
   "cell_type": "markdown",
   "metadata": {},
   "source": [
    "Construct the qubo matrix that satisfies the equation below. \n",
    "\n",
    "$ X^T Q X $"
   ]
  },
  {
   "cell_type": "code",
   "execution_count": 18,
   "metadata": {},
   "outputs": [
    {
     "name": "stdout",
     "output_type": "stream",
     "text": [
      "Problem name: qproblem\n",
      "\n",
      "Minimize\n",
      "  -5*x0^2 + 4*x0*x1 + 8*x0*x2 - 3*x1^2 + 2*x1*x2 - 8*x2^2 + 10*x2*x3 - 6*x3^2\n",
      "\n",
      "Subject to\n",
      "  No constraints\n",
      "\n",
      "  Binary variables (4)\n",
      "    x0 x1 x2 x3\n",
      "\n"
     ]
    }
   ],
   "source": [
    "\n",
    "Q = [\n",
    "    [-5,2,4,0],\n",
    "    [2,-3,1,0],\n",
    "    [4,1,-8,5],\n",
    "    [0,0,5,-6]\n",
    "]\n",
    "\n",
    "mod = QuadraticProgram(\"qproblem\")\n",
    "[mod.binary_var() for _ in range(4)]\n",
    "mod.minimize(quadratic=Q)\n",
    "print(mod.prettyprint())"
   ]
  },
  {
   "cell_type": "code",
   "execution_count": 19,
   "metadata": {},
   "outputs": [
    {
     "name": "stderr",
     "output_type": "stream",
     "text": [
      "/var/folders/n5/sr7wwb8n1wggd7jsk_k37l_w0000gn/T/ipykernel_9722/3523063853.py:1: DeprecationWarning: The class ``qiskit.utils.quantum_instance.QuantumInstance`` is deprecated as of qiskit-terra 0.24.0. It will be removed no earlier than 3 months after the release date. For code migration guidelines, visit https://qisk.it/qi_migration.\n",
      "  quantum_instance = QuantumInstance(BasicAer.get_backend('qasm_simulator'))\n",
      "/var/folders/n5/sr7wwb8n1wggd7jsk_k37l_w0000gn/T/ipykernel_9722/3523063853.py:2: DeprecationWarning: The class ``qiskit.algorithms.minimum_eigen_solvers.qaoa.QAOA`` is deprecated as of qiskit-terra 0.24.0. It will be removed no earlier than 3 months after the release date. Instead, use the class ``qiskit.algorithms.minimum_eigensolvers.QAOA``. See https://qisk.it/algo_migration for a migration guide.\n",
      "  qaoa_mes = QAOA(quantum_instance=quantum_instance)\n"
     ]
    },
    {
     "data": {
      "text/plain": [
       "([array([1., 0., 0., 1.])], [-11.0])"
      ]
     },
     "execution_count": 19,
     "metadata": {},
     "output_type": "execute_result"
    }
   ],
   "source": [
    "quantum_instance = QuantumInstance(BasicAer.get_backend('qasm_simulator'))\n",
    "qaoa_mes = QAOA(quantum_instance=quantum_instance)\n",
    "qaoa = MinimumEigenOptimizer(qaoa_mes)\n",
    "\n",
    "qaoa_result = qaoa.solve(mod)\n",
    "[qaoa_result.x], [qaoa_result.fval]\n"
   ]
  }
 ],
 "metadata": {
  "kernelspec": {
   "display_name": "QCML",
   "language": "python",
   "name": "python3"
  },
  "language_info": {
   "codemirror_mode": {
    "name": "ipython",
    "version": 3
   },
   "file_extension": ".py",
   "mimetype": "text/x-python",
   "name": "python",
   "nbconvert_exporter": "python",
   "pygments_lexer": "ipython3",
   "version": "3.9.16"
  },
  "orig_nbformat": 4
 },
 "nbformat": 4,
 "nbformat_minor": 2
}

{
 "cells": [
  {
   "cell_type": "markdown",
   "metadata": {},
   "source": [
    "#### Minimum vertex cover\n",
    "Find a subset of the vertices of the graph such that for each edges ( connected by two vertices a,b ) either of the edges ( a or b ) is in the subset. \n",
    "\n",
    "$ min (y) = \\sum_{i} x_i $\n",
    "\n",
    "The constraint is that we need to minimize the presence of either of the vertices of a edge with a penalty. \n",
    "\n",
    "$ min (y) = \\sum_{i} x_i + P(\\sum_{i,j \\in E} (1 - x_i - x_j + x_i.x_j)) $"
   ]
  },
  {
   "cell_type": "code",
   "execution_count": 127,
   "metadata": {},
   "outputs": [
    {
     "data": {
      "image/png": "[encoded data removed]",
      "text/plain": [
       "<Figure size 200x200 with 1 Axes>"
      ]
     },
     "metadata": {},
     "output_type": "display_data"
    }
   ],
   "source": [
    "import networkx as nx \n",
    "import matplotlib.pyplot as plt\n",
    "fig = plt.figure(1, figsize=(2, 2))\n",
    "\n",
    "G = nx.Graph()\n",
    "\n",
    "nodes = [1,2,3,4,5]\n",
    "edges = [(1,2),(1,3),(2,4),(3,4),(3,5),(4,5)]\n",
    "\n",
    "linear = [0]*len(nodes)\n",
    "\n",
    "G.add_nodes_from(nodes)\n",
    "for s,e in edges:\n",
    "    G.add_edge(s,e)\n",
    "    linear[s-1]+=1\n",
    "    linear[e-1]+=1\n",
    "\n",
    "nx.draw(G, with_labels=True)"
   ]
  },
  {
   "cell_type": "markdown",
   "metadata": {},
   "source": [
    "For the above graph, the minimize function would be as below. \n",
    "\n",
    "$ minimize (y) = x_1 + x_2 + x_3 + x_4 + x_5 + P(\\sum_{i,j \\in E} (1 - x_i - x_j + x_i.x_j)) $\n",
    "\n",
    "E = [[1,3],[1,2],[2,4],[3,4],[3,5],[4,5]]\n",
    "\n",
    "$ minimize (y) = x_1 + x_2 + x_3 + x_4 + x_5 \\\\\n",
    "    \\quad + P(1 - x_4 - x_5 + x_4.x_5) \\\\\n",
    "    \\quad + P(1 - x_3 - x_5 + x_3.x_5) \\\\\n",
    "    \\quad + P(1 - x_3 - x_4 + x_3.x_4) \\\\\n",
    "    \\quad + P(1 - x_2 - x_4 + x_2.x_4) \\\\\n",
    "    \\quad + P(1 - x_1 - x_3 + x_1.x_3) \\\\\n",
    "    \\quad + P(1 - x_1 - x_2 + x_1.x_2) $\n",
    "\n",
    "\n",
    "Arbitrarility choose P = 50. \n",
    "\n",
    "$ minimize (y) = 6.P + (1-2P).x_1 + (1-2P).x_2 + (1-3P).x_3 + (1-3P).x_4 + (1-2P).x_5 + \\\\ \n",
    "    \\quad Px_1.x_2 + Px_1.x_3 + Px_2.x_4 + Px_3.x_4 + Px_3.x_5 + Px_4.x_5 $  \n",
    "\n",
    "$ minimize (y) = 300 + -99.x_1 + -99.x_2 + -149.x_3 + -149.x_4 + -99.x_5 + \\\\ \n",
    "    \\quad 50.x_1.x_2 + 50.x_1.x_3 + 50.x_2.x_4 + 50.x_3.x_4 + 50.x_3.x_5 + 50.x_4.x_5 $  \n"
   ]
  },
  {
   "cell_type": "code",
   "execution_count": 128,
   "metadata": {},
   "outputs": [],
   "source": [
    "from qiskit_optimization import QuadraticProgram\n",
    "from qiskit import BasicAer\n",
    "from qiskit_optimization.algorithms import MinimumEigenOptimizer\n",
    "from qiskit.utils import QuantumInstance\n",
    "from qiskit.primitives import Sampler\n",
    "from qiskit.algorithms.minimum_eigensolvers import QAOA\n",
    "from qiskit_algorithms.optimizers import COBYLA"
   ]
  },
  {
   "cell_type": "code",
   "execution_count": 129,
   "metadata": {},
   "outputs": [
    {
     "name": "stdout",
     "output_type": "stream",
     "text": [
      "Problem name: \n",
      "\n",
      "Minimize\n",
      "  -99*x1^2 + 50*x1*x2 + 50*x1*x3 - 99*x2^2 + 50*x2*x4 - 149*x3^2 + 50*x3*x4\n",
      "  + 50*x3*x5 - 149*x4^2 + 50*x4*x5 - 99*x5^2\n",
      "\n",
      "Subject to\n",
      "  Linear constraints (6)\n",
      "    x1 + x2 >= 1  'lin_eq1'\n",
      "    x1 + x3 >= 1  'lin_eq2'\n",
      "    x2 + x4 >= 1  'lin_eq3'\n",
      "    x3 + x4 >= 1  'lin_eq4'\n",
      "    x3 + x5 >= 1  'lin_eq5'\n",
      "    x4 + x5 >= 1  'lin_eq6'\n",
      "\n",
      "  Binary variables (5)\n",
      "    x1 x2 x3 x4 x5\n",
      "\n"
     ]
    }
   ],
   "source": [
    "mod = QuadraticProgram()\n",
    "[mod.binary_var(\"x\"+str(i+1)) for i in range(len(nodes))]\n",
    "\n",
    "cnt = 1\n",
    "for s,e in edges:\n",
    "    linear_constraints = {}\n",
    "    linear_constraints[\"x\"+str(s)] = 1\n",
    "    linear_constraints[\"x\"+str(e)] = 1\n",
    "    \n",
    "    mod.linear_constraint(linear=linear_constraints, sense=\">=\", rhs=1, name=\"lin_eq\" + str(cnt))\n",
    "    cnt += 1\n",
    "\n",
    "mod.minimize(quadratic={\n",
    "    (\"x1\", \"x1\"):-99, \n",
    "    (\"x2\", \"x2\"):-99, \n",
    "    (\"x3\", \"x3\"):-149, \n",
    "    (\"x4\", \"x4\"):-149, \n",
    "    (\"x5\", \"x5\"):-99,\n",
    "\n",
    "    (\"x1\", \"x2\"):50,\n",
    "    (\"x1\", \"x3\"):50,\n",
    "    (\"x2\", \"x4\"):50,\n",
    "    (\"x3\", \"x4\"):50,\n",
    "    (\"x3\", \"x5\"):50,\n",
    "    (\"x4\", \"x5\"):50,\n",
    "})\n",
    "\n",
    "print (mod.prettyprint())  "
   ]
  },
  {
   "cell_type": "code",
   "execution_count": 130,
   "metadata": {},
   "outputs": [
    {
     "data": {
      "text/plain": [
       "([array([1., 0., 1., 1., 0.])], [3.0])"
      ]
     },
     "execution_count": 130,
     "metadata": {},
     "output_type": "execute_result"
    }
   ],
   "source": [
    "quantum_instance = Sampler()\n",
    "qaoa_mes = QAOA(quantum_instance, COBYLA(), reps=2)\n",
    "qaoa = MinimumEigenOptimizer(qaoa_mes)\n",
    "\n",
    "qaoa_result = qaoa.solve(mod)\n",
    "[qaoa_result.x], [300+qaoa_result.fval]\n"
   ]
  }
 ],
 "metadata": {
  "kernelspec": {
   "display_name": "QCML",
   "language": "python",
   "name": "python3"
  },
  "language_info": {
   "codemirror_mode": {
    "name": "ipython",
    "version": 3
   },
   "file_extension": ".py",
   "mimetype": "text/x-python",
   "name": "python",
   "nbconvert_exporter": "python",
   "pygments_lexer": "ipython3",
   "version": "3.9.16"
  },
  "orig_nbformat": 4
 },
 "nbformat": 4,
 "nbformat_minor": 2
}

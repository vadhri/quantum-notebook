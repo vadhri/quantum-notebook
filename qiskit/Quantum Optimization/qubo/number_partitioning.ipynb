{
 "cells": [
  {
   "cell_type": "markdown",
   "metadata": {},
   "source": [
    "#### Number partitioning problem. \n",
    "Patition a set of numbers so that the sum of both partitions is as close as possible. \n"
   ]
  },
  {
   "cell_type": "markdown",
   "metadata": {},
   "source": [
    "##### Theory \n",
    "$ S = \\{s1, s2, ... sn \\} $\n",
    "\n",
    "lets assume that in the binary allocation partition 1 becomes $ x_i = 1 $ and 0 otherwise.\n",
    "\n",
    "$ sum_1 = \\sum_{i=1}^m s_i.x_i $\n",
    "\n",
    "$ sum_2 = total - sum_1 = \\sum_{i=1}^m s_i - \\sum_{i=1}^m s_i.x_i $\n",
    "\n",
    "$ diff = sum_2 - sum_1 = \\sum_{i=1}^m s_i - \\sum_{i=1}^m s_i.x_i - \\sum_{i=1}^m s_i.x_i = \\sum_{i=1}^m s_i - 2.\\sum_{i=1}^m s_i.x_i $\n",
    "\n",
    "The goal is to minimize diff. \n",
    "\n",
    "$ diff^2 = ( total - 2.\\sum_{i=1}^m s_i.x_i )^2 = total^2 + 4.x^tQx $\n",
    "\n",
    "Where $ Q_{ii} = s_i(s_i - total) $ and $ Q_{ij} = s_i.s_j $"
   ]
  },
  {
   "cell_type": "code",
   "execution_count": 10,
   "metadata": {},
   "outputs": [],
   "source": [
    "from qiskit_optimization import QuadraticProgram\n",
    "from qiskit import BasicAer\n",
    "from qiskit_optimization.algorithms import MinimumEigenOptimizer\n",
    "from qiskit.utils import QuantumInstance\n",
    "from qiskit.primitives import Sampler\n",
    "from qiskit.algorithms.minimum_eigensolvers import QAOA\n",
    "from qiskit_algorithms.optimizers import COBYLA"
   ]
  },
  {
   "cell_type": "code",
   "execution_count": 11,
   "metadata": {},
   "outputs": [
    {
     "name": "stdout",
     "output_type": "stream",
     "text": [
      "Problem name: qproblem\n",
      "\n",
      "Minimize\n",
      "  -7675*x0^2 + 350*x0*x1 + 650*x0*x10 + 1550*x0*x11 + 2100*x0*x12 + 850*x0*x13\n",
      "  + 1050*x0*x14 + 500*x0*x15 + 650*x0*x2 + 1550*x0*x3 + 2100*x0*x4 + 850*x0*x5\n",
      "  + 1050*x0*x6 + 500*x0*x7 + 1250*x0*x8 + 350*x0*x9 - 2275*x1^2 + 182*x1*x10\n",
      "  + 434*x1*x11 + 588*x1*x12 + 238*x1*x13 + 294*x1*x14 + 140*x1*x15 + 182*x1*x2\n",
      "  + 434*x1*x3 + 588*x1*x4 + 238*x1*x5 + 294*x1*x6 + 140*x1*x7 + 350*x1*x8\n",
      "  + 98*x1*x9 - 4147*x10^2 + 806*x10*x11 + 1092*x10*x12 + 442*x10*x13\n",
      "  + 546*x10*x14 + 260*x10*x15 - 9331*x11^2 + 2604*x11*x12 + 1054*x11*x13\n",
      "  + 1302*x11*x14 + 620*x11*x15 - 12180*x12^2 + 1428*x12*x13 + 1764*x12*x14\n",
      "  + 840*x12*x15 - 5355*x13^2 + 714*x13*x14 + 340*x13*x15 - 6531*x14^2\n",
      "  + 420*x14*x15 - 3220*x15^2 + 338*x2*x10 + 806*x2*x11 + 1092*x2*x12\n",
      "  + 442*x2*x13 + 546*x2*x14 + 260*x2*x15 - 4147*x2^2 + 806*x2*x3 + 1092*x2*x4\n",
      "  + 442*x2*x5 + 546*x2*x6 + 260*x2*x7 + 650*x2*x8 + 182*x2*x9 + 806*x3*x10\n",
      "  + 1922*x3*x11 + 2604*x3*x12 + 1054*x3*x13 + 1302*x3*x14 + 620*x3*x15\n",
      "  - 9331*x3^2 + 2604*x3*x4 + 1054*x3*x5 + 1302*x3*x6 + 620*x3*x7 + 1550*x3*x8\n",
      "  + 434*x3*x9 + 1092*x4*x10 + 2604*x4*x11 + 3528*x4*x12 + 1428*x4*x13\n",
      "  + 1764*x4*x14 + 840*x4*x15 - 12180*x4^2 + 1428*x4*x5 + 1764*x4*x6 + 840*x4*x7\n",
      "  + 2100*x4*x8 + 588*x4*x9 + 442*x5*x10 + 1054*x5*x11 + 1428*x5*x12 + 578*x5*x13\n",
      "  + 714*x5*x14 + 340*x5*x15 - 5355*x5^2 + 714*x5*x6 + 340*x5*x7 + 850*x5*x8\n",
      "  + 238*x5*x9 + 546*x6*x10 + 1302*x6*x11 + 1764*x6*x12 + 714*x6*x13 + 882*x6*x14\n",
      "  + 420*x6*x15 - 6531*x6^2 + 420*x6*x7 + 1050*x6*x8 + 294*x6*x9 + 260*x7*x10\n",
      "  + 620*x7*x11 + 840*x7*x12 + 340*x7*x13 + 420*x7*x14 + 200*x7*x15 - 3220*x7^2\n",
      "  + 500*x7*x8 + 140*x7*x9 + 650*x8*x10 + 1550*x8*x11 + 2100*x8*x12 + 850*x8*x13\n",
      "  + 1050*x8*x14 + 500*x8*x15 - 7675*x8^2 + 350*x8*x9 + 182*x9*x10 + 434*x9*x11\n",
      "  + 588*x9*x12 + 238*x9*x13 + 294*x9*x14 + 140*x9*x15 - 2275*x9^2\n",
      "\n",
      "Subject to\n",
      "  No constraints\n",
      "\n",
      "  Binary variables (16)\n",
      "    x0 x1 x2 x3 x4 x5 x6 x7 x8 x9 x10 x11 x12 x13 x14 x15\n",
      "\n"
     ]
    }
   ],
   "source": [
    "S =[25, 7,13, 31, 42,17, 21,10,25, 7,13, 31, 42,17, 21,10]\n",
    "C = sum(S)\n",
    "Q = [[0 for _ in range(len(S))] for _ in range(len(S))]\n",
    "\n",
    "for i in range(len(S)):\n",
    "    for j in range(len(S)):\n",
    "        if i == j:\n",
    "            Q[i][j] = S[i]*(S[i]-C)\n",
    "        else:\n",
    "            Q[i][j] = S[i]*S[j]\n",
    "\n",
    "mod = QuadraticProgram(\"qproblem\")\n",
    "[mod.binary_var() for _ in range(len(S))]\n",
    "mod.minimize(quadratic=Q)\n",
    "print(mod.prettyprint())"
   ]
  },
  {
   "cell_type": "code",
   "execution_count": 12,
   "metadata": {},
   "outputs": [
    {
     "name": "stdout",
     "output_type": "stream",
     "text": [
      "[array([1., 1., 1., 1., 1., 1., 1., 1., 0., 0., 0., 0., 0., 0., 0., 0.])] [-27556.0]\n",
      "166 166\n"
     ]
    }
   ],
   "source": [
    "quantum_instance = Sampler()\n",
    "qaoa_mes = QAOA(quantum_instance, COBYLA(), reps=2)\n",
    "qaoa = MinimumEigenOptimizer(qaoa_mes)\n",
    "\n",
    "qaoa_result = qaoa.solve(mod)\n",
    "print([qaoa_result.x], [qaoa_result.fval])\n",
    "\n",
    "p1 = 0\n",
    "p2 = 0\n",
    "\n",
    "for i in range(len(S)):\n",
    "    if qaoa_result.x[i] == 1:\n",
    "        p1 += S[i]\n",
    "    else:\n",
    "        p2 += S[i]\n",
    "\n",
    "print (p1, p2)\n"
   ]
  }
 ],
 "metadata": {
  "kernelspec": {
   "display_name": "QCML",
   "language": "python",
   "name": "python3"
  },
  "language_info": {
   "codemirror_mode": {
    "name": "ipython",
    "version": 3
   },
   "file_extension": ".py",
   "mimetype": "text/x-python",
   "name": "python",
   "nbconvert_exporter": "python",
   "pygments_lexer": "ipython3",
   "version": "3.9.16"
  },
  "orig_nbformat": 4
 },
 "nbformat": 4,
 "nbformat_minor": 2
}

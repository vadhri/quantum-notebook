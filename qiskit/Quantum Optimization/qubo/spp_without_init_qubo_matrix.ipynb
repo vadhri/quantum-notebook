{
 "cells": [
  {
   "cell_type": "markdown",
   "metadata": {},
   "source": [
    "Solve the following qubo problem for maximum value. \n",
    "\n",
    "$ y = x_1+ x_2 + x_3 + x_4 $ with the constraints below. \n",
    "\n",
    "- $ x_1 + x_3 + x_4 <= 1 $\n",
    "- $ x_1 + x_2 <= 1 $\n"
   ]
  },
  {
   "cell_type": "code",
   "execution_count": 34,
   "metadata": {},
   "outputs": [],
   "source": [
    "from qiskit_optimization import QuadraticProgram\n",
    "from qiskit import BasicAer\n",
    "from qiskit_optimization.algorithms import MinimumEigenOptimizer\n",
    "from qiskit.utils import QuantumInstance\n",
    "from qiskit.primitives import Sampler\n",
    "from qiskit.algorithms.minimum_eigensolvers import QAOA\n",
    "from qiskit_algorithms.optimizers import COBYLA\n",
    "from qiskit_optimization.converters import MinimizeToMaximize, QuadraticProgramToQubo"
   ]
  },
  {
   "cell_type": "markdown",
   "metadata": {},
   "source": [
    "Construct the qubo matrix that satisfies the equation below and with constaints above.\n",
    "\n",
    "$ X^T Q X $"
   ]
  },
  {
   "cell_type": "code",
   "execution_count": 51,
   "metadata": {},
   "outputs": [
    {
     "name": "stdout",
     "output_type": "stream",
     "text": [
      "Problem name: qproblem\n",
      "\n",
      "Maximize\n",
      "  -50*x0*x1 - 50*x0*x3 - 50*x1*x3 - 50*x2*x3 + x0 + x1 + x2 + x3\n",
      "\n",
      "Subject to\n",
      "  Linear constraints (2)\n",
      "    x0 + x2 + x3 <= 1  'lin_eq1'\n",
      "    x0 + x1 <= 1  'lin_eq2'\n",
      "\n",
      "  Binary variables (4)\n",
      "    x0 x1 x2 x3\n",
      "\n"
     ]
    }
   ],
   "source": [
    "Q = QuadraticProgram(\"qproblem\")\n",
    "[Q.binary_var() for _ in range(4)]\n",
    "Q.linear_constraint(linear={\"x0\": 1, \"x2\": 1, \"x3\": 1}, sense=\"<=\", rhs=1, name=\"lin_eq1\")\n",
    "Q.linear_constraint(linear={\"x0\": 1, \"x1\": 1}, sense=\"<=\", rhs=1, name=\"lin_eq2\")\n",
    "Q.maximize(linear=[1,1,1,1], quadratic={(\"x1\", \"x3\"):-50, (\"x0\", \"x3\"): -50, (\"x2\", \"x3\"): -50, (\"x0\", \"x1\"):-50})\n",
    "print(Q.prettyprint())"
   ]
  },
  {
   "cell_type": "code",
   "execution_count": 52,
   "metadata": {},
   "outputs": [
    {
     "data": {
      "text/plain": [
       "([array([0., 1., 1., 0.])], [2.0])"
      ]
     },
     "execution_count": 52,
     "metadata": {},
     "output_type": "execute_result"
    }
   ],
   "source": [
    "quantum_instance = Sampler()\n",
    "qaoa_mes = QAOA(quantum_instance, COBYLA(), reps=2)\n",
    "qaoa = MinimumEigenOptimizer(qaoa_mes)\n",
    "\n",
    "qaoa_result = qaoa.solve(Q)\n",
    "[qaoa_result.x], [qaoa_result.fval]\n"
   ]
  }
 ],
 "metadata": {
  "kernelspec": {
   "display_name": "QCML",
   "language": "python",
   "name": "python3"
  },
  "language_info": {
   "codemirror_mode": {
    "name": "ipython",
    "version": 3
   },
   "file_extension": ".py",
   "mimetype": "text/x-python",
   "name": "python",
   "nbconvert_exporter": "python",
   "pygments_lexer": "ipython3",
   "version": "3.9.16"
  },
  "orig_nbformat": 4
 },
 "nbformat": 4,
 "nbformat_minor": 2
}

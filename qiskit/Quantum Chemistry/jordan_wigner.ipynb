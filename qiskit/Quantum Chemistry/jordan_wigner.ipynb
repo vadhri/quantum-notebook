{
 "cells": [
  {
   "cell_type": "markdown",
   "metadata": {},
   "source": [
    "### Example jordan wigner mapping for annihilation on 2nd orbital and creation on 3rd. "
   ]
  },
  {
   "cell_type": "markdown",
   "metadata": {},
   "source": [
    "$ a^{\\dagger}_j = \\prod_{i=1}^{j-1} \\sigma^z_i \\otimes (\\sigma^x_j - i.\\sigma^y_j) $ \n",
    "\n",
    "$ a_j = \\prod_{i=1}^{j-1} \\sigma^z_i \\otimes (\\sigma^x_j + i.\\sigma^y_j) $ \n",
    "\n",
    "$ {a^{\\dagger}}_{2} = \\prod_{i=1}^{1} \\sigma^z_i \\otimes (\\sigma^x_2 - i.\\sigma^y_2) = \\sigma^z_1 \\otimes (\\sigma^x_2 - i.\\sigma^y_2) = ZXII - i ZYII $\n",
    "\n",
    "$ a_{3} = \\prod_{i=1}^{2} \\sigma^z_i \\otimes (\\sigma^x_3 + i.\\sigma^y_3) = \\sigma^z_1 \\sigma^z_2 \\otimes (\\sigma^x_3 + i.\\sigma^y_3) = ZZXI + iZZYI$\n",
    "\n",
    "$ {a^{\\dagger}}_{2} a_{3} = (ZXII - i ZYII)*(ZZXI + iZZYI) = (ZZ)(XZ)XI +i (ZZ)(XZ)YI -i(ZZ)(YZ)XI + (ZZ)(YZ)YI $\n",
    "\n",
    "$ XZ = \\begin{pmatrix}0&1\\\\1&0\\end{pmatrix} * \\begin{pmatrix}1&0\\\\0&-1\\end{pmatrix} = \\begin{pmatrix}0&-1\\\\1&0\\end{pmatrix} = -iY $\n",
    "\n",
    "$ YZ = \\begin{pmatrix}0&-i\\\\i&0\\end{pmatrix} * \\begin{pmatrix}1&0\\\\0&-1\\end{pmatrix} = \\begin{pmatrix}0&i\\\\i&0\\end{pmatrix} = iX $\n",
    "\n",
    "$ {a^{\\dagger}}_{2} a_{3} = (ZZ)(XZ)XI +i Z(XZ)YI -i(ZZ)(YZ)XI + (ZZ)(YZ)YI $\n",
    "\n",
    "$ \\quad = I (-iY) XI + i I(-iY)YI -i I(iX)XI + I (iX) YI $\n",
    "\n",
    "$ \\quad = I (-iY) XI + i I(-iY)YI -i I(iX)XI + I (iX) YI $\n",
    "\n",
    "$ \\quad = -iIYXI + IYYI + IXXI + iIXYI $\n"
   ]
  },
  {
   "cell_type": "markdown",
   "metadata": {},
   "source": []
  }
 ],
 "metadata": {
  "language_info": {
   "name": "python"
  },
  "orig_nbformat": 4
 },
 "nbformat": 4,
 "nbformat_minor": 2
}

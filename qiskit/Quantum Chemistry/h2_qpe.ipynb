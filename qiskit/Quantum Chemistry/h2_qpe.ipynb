{
 "cells": [
  {
   "cell_type": "code",
   "execution_count": 25,
   "metadata": {},
   "outputs": [
    {
     "name": "stdout",
     "output_type": "stream",
     "text": [
      "Electonic structue problem (Molecule) \n",
      "Molecule:\n",
      "\tMultiplicity: 1\n",
      "\tCharge: 0\n",
      "\tUnit: Bohr\n",
      "\tGeometry:\n",
      "\t\tH\t(0.0, 0.0, 0.0)\n",
      "\t\tH\t(0.0, 0.0, 1.3889487015553204)\n",
      "\tMasses:\n",
      "\t\tH\t1\n",
      "\t\tH\t1\n",
      "(Basis) =  ElectronicBasis.MO\n",
      "(num_spatial_orbitals) =  2\n"
     ]
    }
   ],
   "source": [
    "from qiskit import *\n",
    "from qiskit.algorithms.optimizers import SLSQP \n",
    "from qiskit.quantum_info import SparsePauliOp \n",
    "from qiskit.primitives import Estimator \n",
    "import numpy as np \n",
    "from qiskit_nature.units import DistanceUnit\n",
    "from qiskit_nature.second_q.circuit.library import HartreeFock\n",
    "from qiskit_nature.second_q.drivers import PySCFDriver\n",
    "from qiskit_nature.second_q.operators import FermionicOp\n",
    "from qiskit_nature.second_q.mappers import JordanWignerMapper\n",
    "from qiskit.algorithms.minimum_eigen_solvers import NumPyMinimumEigensolver\n",
    "from qiskit_nature.second_q.mappers import ParityMapper\n",
    "from qiskit_nature.second_q.transformers import ActiveSpaceTransformer\n",
    "\n",
    "from qiskit_nature import settings\n",
    "settings.tensor_unwrapping = False\n",
    "settings.use_pauli_sum_op = False\n",
    "\n",
    "distance = 0.735\n",
    "driver = PySCFDriver(atom='H .0 .0 .0; H .0 .0 {}'.format(distance),\n",
    "                     unit=DistanceUnit.ANGSTROM, charge=0, spin=0, basis='sto3g')\n",
    "\n",
    "electronic_structure_problem = driver.run()\n",
    "\n",
    "print('Electonic structue problem (Molecule) ')\n",
    "print(electronic_structure_problem.molecule)\n",
    "print('(Basis) = ', electronic_structure_problem.basis)\n",
    "print('(num_spatial_orbitals) = ', electronic_structure_problem.num_spatial_orbitals)"
   ]
  },
  {
   "cell_type": "code",
   "execution_count": 26,
   "metadata": {},
   "outputs": [
    {
     "name": "stderr",
     "output_type": "stream",
     "text": [
      "/var/folders/n5/sr7wwb8n1wggd7jsk_k37l_w0000gn/T/ipykernel_13578/1989761901.py:2: DeprecationWarning: The class ``qiskit.algorithms.minimum_eigen_solvers.numpy_minimum_eigen_solver.NumPyMinimumEigensolver`` is deprecated as of qiskit-terra 0.24.0. It will be removed no earlier than 3 months after the release date. Instead, use the class ``qiskit.algorithms.minimum_eigensolvers.NumPyMinimumEigensolver``. See https://qisk.it/algo_migration for a migration guide.\n",
      "  np_classical_solver = NumPyMinimumEigensolver()\n"
     ]
    }
   ],
   "source": [
    "mapper = JordanWignerMapper()\n",
    "np_classical_solver = NumPyMinimumEigensolver()"
   ]
  },
  {
   "cell_type": "markdown",
   "metadata": {},
   "source": [
    "#### Calculate initial state to be provided to the QPE"
   ]
  },
  {
   "cell_type": "code",
   "execution_count": 28,
   "metadata": {},
   "outputs": [
    {
     "data": {
      "text/html": [
       "<pre style=\"word-wrap: normal;white-space: pre;background: #fff0;line-height: 1.1;font-family: &quot;Courier New&quot;,Courier,monospace\">     ┌───┐\n",
       "q_0: ┤ X ├\n",
       "     └───┘\n",
       "q_1: ─────\n",
       "     ┌───┐\n",
       "q_2: ┤ X ├\n",
       "     └───┘\n",
       "q_3: ─────\n",
       "          </pre>"
      ],
      "text/plain": [
       "     ┌───┐\n",
       "q_0: ┤ X ├\n",
       "     └───┘\n",
       "q_1: ─────\n",
       "     ┌───┐\n",
       "q_2: ┤ X ├\n",
       "     └───┘\n",
       "q_3: ─────\n",
       "          "
      ]
     },
     "execution_count": 28,
     "metadata": {},
     "output_type": "execute_result"
    }
   ],
   "source": [
    "initial_state=HartreeFock(\n",
    "    electronic_structure_problem.num_spatial_orbitals,\n",
    "    electronic_structure_problem.num_particles,\n",
    "    mapper)\n",
    "\n",
    "initial_state.draw()"
   ]
  },
  {
   "cell_type": "code",
   "execution_count": 29,
   "metadata": {},
   "outputs": [
    {
     "name": "stdout",
     "output_type": "stream",
     "text": [
      "Number of spin orbitals: 4 (1, 1)\n"
     ]
    }
   ],
   "source": [
    "from qiskit.algorithms import HamiltonianPhaseEstimation\n",
    "from qiskit.primitives import Sampler\n",
    "from qiskit.algorithms.minimum_eigensolvers import NumPyMinimumEigensolver\n",
    "\n",
    "\n",
    "FermionicOpWithCoefficients = electronic_structure_problem.hamiltonian.second_q_op()\n",
    "print(\"Number of spin orbitals:\", FermionicOpWithCoefficients.num_spin_orbitals, electronic_structure_problem.num_particles)\n",
    "\n",
    "qubit_mapper = ParityMapper(num_particles=electronic_structure_problem.num_particles)\n",
    "qubit_hamiltonian = mapper.map(FermionicOpWithCoefficients)\n"
   ]
  },
  {
   "cell_type": "markdown",
   "metadata": {},
   "source": [
    "#### Classical solution"
   ]
  },
  {
   "cell_type": "code",
   "execution_count": 30,
   "metadata": {},
   "outputs": [
    {
     "name": "stdout",
     "output_type": "stream",
     "text": [
      "[-1.85727503]\n"
     ]
    }
   ],
   "source": [
    "numpy_solver = NumPyMinimumEigensolver()\n",
    "from qiskit_nature.second_q.algorithms import GroundStateEigensolver\n",
    "calc = GroundStateEigensolver(qubit_mapper, numpy_solver)\n",
    "\n",
    "res = calc.solve(electronic_structure_problem)\n",
    "\n",
    "print(res.eigenvalues.real)"
   ]
  },
  {
   "cell_type": "markdown",
   "metadata": {},
   "source": [
    "#### Quantum Phase estimation "
   ]
  },
  {
   "cell_type": "code",
   "execution_count": 31,
   "metadata": {},
   "outputs": [
    {
     "name": "stdout",
     "output_type": "stream",
     "text": [
      "No of qubits required for the solution :  4\n",
      "-1.85971577670655\n"
     ]
    }
   ],
   "source": [
    "print('No of qubits required for the solution : ', qubit_hamiltonian.num_qubits)\n",
    "sampler = Sampler()\n",
    "pe = HamiltonianPhaseEstimation(num_evaluation_qubits=8, sampler=sampler)\n",
    "result = pe.estimate(qubit_hamiltonian, initial_state)\n",
    "print(result.most_likely_eigenvalue.real)"
   ]
  }
 ],
 "metadata": {
  "kernelspec": {
   "display_name": "QCML",
   "language": "python",
   "name": "python3"
  },
  "language_info": {
   "codemirror_mode": {
    "name": "ipython",
    "version": 3
   },
   "file_extension": ".py",
   "mimetype": "text/x-python",
   "name": "python",
   "nbconvert_exporter": "python",
   "pygments_lexer": "ipython3",
   "version": "3.9.16"
  },
  "orig_nbformat": 4
 },
 "nbformat": 4,
 "nbformat_minor": 2
}

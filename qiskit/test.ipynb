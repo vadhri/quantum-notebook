{
 "cells": [
  {
   "cell_type": "code",
   "execution_count": 123,
   "metadata": {},
   "outputs": [],
   "source": [
    "import qiskit\n",
    "import sys\n",
    "import os\n",
    "import glob\n",
    "import numpy as np\n",
    "from matplotlib import pyplot as plt\n",
    "from sklearn.metrics import confusion_matrix, ConfusionMatrixDisplay, classification_report\n",
    "from qiskit import execute\n",
    "from qiskit.circuit import Parameter,ControlledGate\n",
    "from qiskit import Aer\n",
    "import random\n",
    "import time\n",
    "from torchsummary import summary\n",
    "from collections import defaultdict\n",
    "\n",
    "import torch\n",
    "from torch.autograd import Function\n",
    "import torch.optim as optim\n",
    "import torch.nn as nn\n",
    "import torch.nn.functional as F\n",
    "%matplotlib inline\n",
    "\n",
    "from qiskit import *\n",
    "provider = qiskit\n",
    "backend = Aer.get_backend(\"aer_simulator\", device=\"GPU\")"
   ]
  },
  {
   "cell_type": "code",
   "execution_count": 53,
   "metadata": {},
   "outputs": [],
   "source": [
    "class QCNeuron():\n",
    "    def __init__(self, n_qubits, backend, shots):\n",
    "        self.qc = qiskit.QuantumCircuit(n_qubits)\n",
    "        n_qubits = n_qubits\n",
    "        thetas = {k : Parameter('Theta'+str(k))for k in range(2*n_qubits)}\n",
    "        \n",
    "        all_qubits = [i for i in range(n_qubits)]\n",
    "        self.qc.h(all_qubits)\n",
    "        self.qc.barrier()\n",
    "\n",
    "        for k in range(0, 4):\n",
    "          self.qc.ry(thetas[k], k)\n",
    "\n",
    "        self.qc.barrier()\n",
    "        self.qc.cx(1, 0)\n",
    "        self.qc.cx(2, 0)\n",
    "        self.qc.cx(3, 0)\n",
    "        self.qc.cx(2, 1)\n",
    "        self.qc.cx(3, 1)\n",
    "        self.qc.cx(3, 2)\n",
    "        self.qc.barrier()\n",
    "\n",
    "        for k in range(0, 4):\n",
    "          self.qc.ry(thetas[k+4], k)\n",
    "\n",
    "        self.qc.measure_all()\n",
    "        # ---------------------------\n",
    "        \n",
    "        backend = backend\n",
    "        shots = shots\n",
    "\n",
    "        tqc = transpile(qc, backend=backend)\n",
    "\n",
    "    def run(self, i):\n",
    "        parameters = {}\n",
    "\n",
    "        for k in range(2*n_qubits):\n",
    "          parameters[self.thetas[k]] = params[k].item()\n",
    "\n",
    "        qobj = assemble(self.tqc,\n",
    "                        shots=self.shots,\n",
    "                        parameter_binds = [parameters])\n",
    "\n",
    "        return self.backend.run(qobj).get_counts()"
   ]
  },
  {
   "cell_type": "code",
   "execution_count": 54,
   "metadata": {},
   "outputs": [
    {
     "ename": "NameError",
     "evalue": "name 'Aer' is not defined",
     "output_type": "error",
     "traceback": [
      "\u001b[0;31m---------------------------------------------------------------------------\u001b[0m",
      "\u001b[0;31mNameError\u001b[0m                                 Traceback (most recent call last)",
      "Cell \u001b[0;32mIn[54], line 1\u001b[0m\n\u001b[0;32m----> 1\u001b[0m QC \u001b[39m=\u001b[39m QCNeuron(\u001b[39m4\u001b[39m, Aer\u001b[39m.\u001b[39mget_backend(\u001b[39m'\u001b[39m\u001b[39maer_simulator\u001b[39m\u001b[39m'\u001b[39m, device\u001b[39m=\u001b[39m\u001b[39m\"\u001b[39m\u001b[39mGPU\u001b[39m\u001b[39m\"\u001b[39m), \u001b[39m5000\u001b[39m)\n\u001b[1;32m      2\u001b[0m QC\u001b[39m.\u001b[39mqc\u001b[39m.\u001b[39mdraw(fold\u001b[39m=\u001b[39m\u001b[39m2000\u001b[39m, output\u001b[39m=\u001b[39m\u001b[39m'\u001b[39m\u001b[39mmpl\u001b[39m\u001b[39m'\u001b[39m)\n",
      "\u001b[0;31mNameError\u001b[0m: name 'Aer' is not defined"
     ]
    }
   ],
   "source": [
    "QC = QCNeuron(4, Aer.get_backend('aer_simulator', device=\"GPU\"), 5000)\n",
    "QC.qc.draw(fold=2000, output='mpl')"
   ]
  }
 ],
 "metadata": {
  "kernelspec": {
   "display_name": "QCML",
   "language": "python",
   "name": "python3"
  },
  "language_info": {
   "codemirror_mode": {
    "name": "ipython",
    "version": 3
   },
   "file_extension": ".py",
   "mimetype": "text/x-python",
   "name": "python",
   "nbconvert_exporter": "python",
   "pygments_lexer": "ipython3",
   "version": "3.9.16"
  },
  "orig_nbformat": 4
 },
 "nbformat": 4,
 "nbformat_minor": 2
}

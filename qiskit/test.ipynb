{
 "cells": [
  {
   "cell_type": "code",
   "execution_count": 123,
   "metadata": {},
   "outputs": [],
   "source": [
    "import qiskit\n",
    "import sys\n",
    "import os\n",
    "import glob\n",
    "import numpy as np\n",
    "from matplotlib import pyplot as plt\n",
    "from sklearn.metrics import confusion_matrix, ConfusionMatrixDisplay, classification_report\n",
    "from qiskit import execute\n",
    "from qiskit.circuit import Parameter,ControlledGate\n",
    "from qiskit import Aer\n",
    "import random\n",
    "import time\n",
    "from torchsummary import summary\n",
    "from collections import defaultdict\n",
    "\n",
    "import torch\n",
    "from torch.autograd import Function\n",
    "import torch.optim as optim\n",
    "import torch.nn as nn\n",
    "import torch.nn.functional as F\n",
    "%matplotlib inline\n",
    "\n",
    "from qiskit import *\n",
    "provider = qiskit\n",
    "backend = Aer.get_backend(\"aer_simulator\", device=\"GPU\")"
   ]
  },
  {
   "cell_type": "code",
   "execution_count": 124,
   "metadata": {},
   "outputs": [],
   "source": [
    "class QCNeuron():\n",
    "    def __init__(self, n_qubits, backend, shots):\n",
    "        self.qc = qiskit.QuantumCircuit(n_qubits)\n",
    "        n_qubits = n_qubits\n",
    "        thetas = {k : Parameter('Theta'+str(k))for k in range(2*n_qubits)}\n",
    "        \n",
    "        all_qubits = [i for i in range(n_qubits)]\n",
    "        qc.h(all_qubits)\n",
    "        qc.barrier()\n",
    "\n",
    "        #circuit.h(0)\n",
    "\n",
    "        for k in range(0, 4):\n",
    "          qc.ry(thetas[k], k)\n",
    "\n",
    "        # qc.barrier()\n",
    "        # qc.cx(1, 0)\n",
    "        # qc.cx(2, 0)\n",
    "        # qc.cx(3, 0)\n",
    "        # qc.cx(2, 1)\n",
    "        # qc.cx(3, 1)\n",
    "        # qc.cx(3, 2)\n",
    "        # qc.barrier()\n",
    "\n",
    "        # for k in range(0, 4):\n",
    "        #   qc.ry(thetas[k+4], k)\n",
    "\n",
    "        qc.measure_all()\n",
    "        # ---------------------------\n",
    "        \n",
    "        backend = backend\n",
    "        shots = shots\n",
    "\n",
    "        tqc = transpile(qc, backend=backend)\n",
    "\n",
    "\n",
    "    def N_qubit_expectation_Z(self,counts, shots, nr_qubits):\n",
    "        expects = np.zeros(len(QC_OUTPUTS))\n",
    "        for k in range(len(QC_OUTPUTS)):\n",
    "            key = QC_OUTPUTS[k]\n",
    "            perc = counts.get(key, 0)/shots\n",
    "            expects[k] = perc\n",
    "        return expects\n",
    "\n",
    "    def run(self, i):\n",
    "        params = i.cpu().data.numpy()\n",
    "        parameters = {}\n",
    "\n",
    "        for k in range(2*n_qubits):\n",
    "          parameters[thetas[k]] = params[k].item()\n",
    "\n",
    "        qobj = assemble(tqc,\n",
    "                        shots=shots,\n",
    "                        parameter_binds = [parameters])\n",
    "\n",
    "        job = backend.run(qobj)\n",
    "        res =  N_qubit_expectation_Z(job.result().get_counts(), shots, n_qubits)\n",
    "        return res"
   ]
  },
  {
   "cell_type": "code",
   "execution_count": 125,
   "metadata": {},
   "outputs": [
    {
     "data": {
      "image/png": "[encoded data removed]",
      "text/plain": [
       "<Figure size 831.22x451.5 with 1 Axes>"
      ]
     },
     "execution_count": 125,
     "metadata": {},
     "output_type": "execute_result"
    }
   ],
   "source": [
    "QC = QCNeuron(4, Aer.get_backend('aer_simulator', device=\"GPU\"), 5000)\n",
    "QC.qc.draw(fold=2000, output='mpl')"
   ]
  },
  {
   "cell_type": "code",
   "execution_count": 130,
   "metadata": {},
   "outputs": [],
   "source": [
    "from qiskit.circuit.library import TwoLocal, ZZFeatureMap\n",
    "from qcircha.expressivity import compute_espressivity"
   ]
  },
  {
   "cell_type": "code",
   "execution_count": 132,
   "metadata": {},
   "outputs": [
    {
     "ename": "SyntaxError",
     "evalue": "invalid syntax (1755612731.py, line 1)",
     "output_type": "error",
     "traceback": [
      "\u001b[0;36m  Cell \u001b[0;32mIn[132], line 1\u001b[0;36m\u001b[0m\n\u001b[0;31m    c = compute_espressivity(4, 4, feature_map=QC.qc', var_ansatz=QC.qc, backend='Aer', path=None, plot=True, save=False)\u001b[0m\n\u001b[0m                                                    ^\u001b[0m\n\u001b[0;31mSyntaxError\u001b[0m\u001b[0;31m:\u001b[0m invalid syntax\n"
     ]
    }
   ],
   "source": [
    "c = compute_espressivity(4, 4, feature_map=QC.qc, var_ansatz=QC.qc, backend='Aer', path=None, plot=True, save=False)"
   ]
  },
  {
   "cell_type": "markdown",
   "metadata": {},
   "source": [
    "Derivative of the function $ f(x) = sin(x) $ is identical to $ f(x) = \\frac{1}{2}sin(x + \\frac{\\pi}{2}) - \\frac{1}{2}sin(x - \\frac{\\pi}{2}) $"
   ]
  },
  {
   "cell_type": "markdown",
   "metadata": {},
   "source": [
    "Derivative of the function $ f(x) = sin(x) $ is identical to $ f(x) = \\frac{1}{2}sin(x + \\frac{\\pi}{2}) - \\frac{1}{2}sin(x - \\frac{\\pi}{2}) $"
   ]
  },
  {
   "cell_type": "code",
   "execution_count": 7,
   "metadata": {},
   "outputs": [
    {
     "data": {
      "text/latex": [
       "$$\\frac{1}{4} |0000\\rangle+\\frac{1}{4} |0001\\rangle+\\frac{1}{4} |0010\\rangle+\\frac{1}{4} |0011\\rangle+\\frac{1}{4} |0100\\rangle+\\frac{1}{4} |0101\\rangle + \\ldots +\\frac{1}{4} |1011\\rangle+\\frac{1}{4} |1100\\rangle+\\frac{1}{4} |1101\\rangle+\\frac{1}{4} |1110\\rangle+\\frac{1}{4} |1111\\rangle$$"
      ],
      "text/plain": [
       "<IPython.core.display.Latex object>"
      ]
     },
     "execution_count": 7,
     "metadata": {},
     "output_type": "execute_result"
    }
   ],
   "source": [
    "import qiskit \n",
    "from qiskit.circuit import * \n",
    "from qiskit.quantum_info import *\n",
    "\n",
    "n_qubits=4\n",
    "qc = qiskit.QuantumCircuit(n_qubits)\n",
    "n_qubits = n_qubits\n",
    "thetas = {k : Parameter('Theta'+str(k))for k in range(2*n_qubits)}\n",
    "\n",
    "all_qubits = [i for i in range(n_qubits)]\n",
    "qc.h(all_qubits)\n",
    "qc.barrier()\n",
    "\n",
    "state = Statevector(qc)\n",
    "state.draw(\"Latex\")\n"
   ]
  },
  {
   "cell_type": "code",
   "execution_count": null,
   "metadata": {},
   "outputs": [],
   "source": [
    "\n",
    "for k in range(0, 4):\n",
    "  qc.ry(thetas[k], k)\n",
    "\n",
    "qc.barrier()\n",
    "\n",
    "qc.cx(1, 0)\n",
    "qc.cx(2, 0)\n",
    "qc.cx(3, 0)\n",
    "qc.cx(2, 1)\n",
    "qc.cx(3, 1)\n",
    "qc.cx(3, 2)\n",
    "qc.barrier()\n",
    "\n",
    "for k in range(0, 4):\n",
    "  qc.ry(thetas[k+4], k)\n",
    "\n",
    "qc.measure_all()\n"
   ]
  },
  {
   "cell_type": "code",
   "execution_count": null,
   "metadata": {},
   "outputs": [],
   "source": [
    "qc = QCNeuron(4, )"
   ]
  }
 ],
 "metadata": {
  "kernelspec": {
   "display_name": "QCML",
   "language": "python",
   "name": "python3"
  },
  "language_info": {
   "codemirror_mode": {
    "name": "ipython",
    "version": 3
   },
   "file_extension": ".py",
   "mimetype": "text/x-python",
   "name": "python",
   "nbconvert_exporter": "python",
   "pygments_lexer": "ipython3",
   "version": "3.9.16"
  },
  "orig_nbformat": 4
 },
 "nbformat": 4,
 "nbformat_minor": 2
}

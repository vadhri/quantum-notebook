{
 "cells": [
  {
   "cell_type": "code",
   "execution_count": 96,
   "metadata": {},
   "outputs": [
    {
     "data": {
      "text/html": [
       "<pre style=\"word-wrap: normal;white-space: pre;background: #fff0;line-height: 1.1;font-family: &quot;Courier New&quot;,Courier,monospace\">            ┌───┐                                      ┌──────────┐┌─┐   \n",
       "q2787_0: ───┤ H ├────────────■─────────────────────────┤0         ├┤M├───\n",
       "            ├───┤            │                         │  IQFT_dg │└╥┘┌─┐\n",
       "q2787_1: ───┤ H ├────────────┼────────────────■────────┤1         ├─╫─┤M├\n",
       "         ┌──┴───┴───┐┌───────┴───────┐┌───────┴───────┐└──────────┘ ║ └╥┘\n",
       "  q2788: ┤ U(π,0,π) ├┤ hamiltonian^1 ├┤ hamiltonian^2 ├─────────────╫──╫─\n",
       "         └──────────┘└───────────────┘└───────────────┘             ║  ║ \n",
       "  c49: 2/═══════════════════════════════════════════════════════════╩══╩═\n",
       "                                                                    0  1 </pre>"
      ],
      "text/plain": [
       "            ┌───┐                                      ┌──────────┐┌─┐   \n",
       "q2787_0: ───┤ H ├────────────■─────────────────────────┤0         ├┤M├───\n",
       "            ├───┤            │                         │  IQFT_dg │└╥┘┌─┐\n",
       "q2787_1: ───┤ H ├────────────┼────────────────■────────┤1         ├─╫─┤M├\n",
       "         ┌──┴───┴───┐┌───────┴───────┐┌───────┴───────┐└──────────┘ ║ └╥┘\n",
       "  q2788: ┤ U(π,0,π) ├┤ hamiltonian^1 ├┤ hamiltonian^2 ├─────────────╫──╫─\n",
       "         └──────────┘└───────────────┘└───────────────┘             ║  ║ \n",
       "  c49: 2/═══════════════════════════════════════════════════════════╩══╩═\n",
       "                                                                    0  1 "
      ]
     },
     "execution_count": 96,
     "metadata": {},
     "output_type": "execute_result"
    }
   ],
   "source": [
    "from qiskit import *\n",
    "from qiskit.circuit.library import *\n",
    "from qiskit.primitives import Sampler\n",
    "import numpy as np \n",
    "from qiskit.extensions import HamiltonianGate\n",
    "\n",
    "A = [\n",
    "        [1,-1/3],\n",
    "        [-1/3,1]\n",
    "    ]\n",
    "\n",
    "# A = [\n",
    "#         [0,1],\n",
    "#         [1,0]\n",
    "#     ]\n",
    "\n",
    "precision = 2\n",
    "qreg = QuantumRegister(precision)\n",
    "qregb = QuantumRegister(1)\n",
    "creg = ClassicalRegister(precision)\n",
    "\n",
    "QC = QuantumCircuit(qreg, qregb, creg)\n",
    "QC.x(-1)\n",
    "pe = PhaseEstimation(precision, HamiltonianGate(A, 3*np.pi/4), QFT(precision, inverse=True, do_swaps=True))\n",
    "\n",
    "QC.append(pe, range(precision+1))\n",
    "QC.measure(qreg, creg)\n",
    "QC.decompose().decompose().decompose().draw()\n"
   ]
  },
  {
   "cell_type": "code",
   "execution_count": 97,
   "metadata": {},
   "outputs": [
    {
     "name": "stdout",
     "output_type": "stream",
     "text": [
      "10 0.47 1\n",
      "11 0.53 3\n"
     ]
    }
   ],
   "source": [
    "def binaryToPhase(binary):\n",
    "    binary=list(binary[::-1])\n",
    "    length = len(binary)\n",
    "    res=0\n",
    "    \n",
    "    for i in range(length):\n",
    "        digit=int(binary.pop())\n",
    "        if digit==1:\n",
    "            res=res+pow(2,i)  \n",
    "    return res\n",
    "\n",
    "job = Sampler().run(QC, shots=100)\n",
    "for k,v in job.result().quasi_dists[0].items():\n",
    "    print (bin(k)[2:], v, binaryToPhase(bin(k)[2:]))"
   ]
  }
 ],
 "metadata": {
  "kernelspec": {
   "display_name": "QCML",
   "language": "python",
   "name": "python3"
  },
  "language_info": {
   "codemirror_mode": {
    "name": "ipython",
    "version": 3
   },
   "file_extension": ".py",
   "mimetype": "text/x-python",
   "name": "python",
   "nbconvert_exporter": "python",
   "pygments_lexer": "ipython3",
   "version": "3.9.16"
  },
  "orig_nbformat": 4
 },
 "nbformat": 4,
 "nbformat_minor": 2
}

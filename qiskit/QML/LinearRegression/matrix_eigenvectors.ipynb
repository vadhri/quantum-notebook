{
 "cells": [
  {
   "cell_type": "markdown",
   "metadata": {},
   "source": [
    "### Compute pauli z eigen value using QPE."
   ]
  },
  {
   "cell_type": "code",
   "execution_count": 262,
   "metadata": {},
   "outputs": [],
   "source": [
    "from qiskit import *\n",
    "from qiskit.circuit.library import *\n",
    "from qiskit.primitives import Sampler\n",
    "import numpy as np \n",
    "from qiskit.extensions import *\n",
    "from qiskit.algorithms import HamiltonianPhaseEstimation\n",
    "from qiskit.quantum_info.operators import Operator, Pauli\n",
    "\n",
    "A = [\n",
    "        [1,0],\n",
    "        [0,-1]\n",
    "    ]\n"
   ]
  },
  {
   "cell_type": "code",
   "execution_count": 263,
   "metadata": {},
   "outputs": [],
   "source": [
    "def convertBinaryToDecimal(str):\n",
    "    str = list(str)\n",
    "    o = 0 \n",
    "    multiplication_factor = 2\n",
    "    while str:\n",
    "        if int(str.pop(0)): \n",
    "            o += 1/multiplication_factor\n",
    "        multiplication_factor *= 2\n",
    "    return o"
   ]
  },
  {
   "cell_type": "code",
   "execution_count": 264,
   "metadata": {},
   "outputs": [
    {
     "name": "stdout",
     "output_type": "stream",
     "text": [
      "Operator([[ 1.+0.j,  0.+0.j],\n",
      "          [ 0.+0.j, -1.+0.j]],\n",
      "         input_dims=(2,), output_dims=(2,))\n"
     ]
    },
    {
     "data": {
      "text/html": [
       "<pre style=\"word-wrap: normal;white-space: pre;background: #fff0;line-height: 1.1;font-family: &quot;Courier New&quot;,Courier,monospace\">                  ░ ┌───┐                                                                                           ┌──────────┐┌─┐            \n",
       "q_0: ─────────────░─┤ H ├────────■──────────────────────────────────────────────────────────────────────────────────┤4         ├┤M├────────────\n",
       "                  ░ ├───┤        │                                                                                  │          │└╥┘┌─┐         \n",
       "q_1: ─────────────░─┤ H ├────────┼─────────────────■────────────────────────────────────────────────────────────────┤3         ├─╫─┤M├─────────\n",
       "                  ░ ├───┤        │                 │                                                                │          │ ║ └╥┘┌─┐      \n",
       "q_2: ─────────────░─┤ H ├────────┼─────────────────┼─────────────────■──────────────────────────────────────────────┤2 IQFT_dg ├─╫──╫─┤M├──────\n",
       "                  ░ ├───┤        │                 │                 │                                              │          │ ║  ║ └╥┘┌─┐   \n",
       "q_3: ─────────────░─┤ H ├────────┼─────────────────┼─────────────────┼─────────────────■────────────────────────────┤1         ├─╫──╫──╫─┤M├───\n",
       "                  ░ ├───┤        │                 │                 │                 │                            │          │ ║  ║  ║ └╥┘┌─┐\n",
       "q_4: ─────────────░─┤ H ├────────┼─────────────────┼─────────────────┼─────────────────┼──────────────────■─────────┤0         ├─╫──╫──╫──╫─┤M├\n",
       "     ┌──────────┐ ░ └───┘┌───────┴────────┐┌───────┴────────┐┌───────┴────────┐┌───────┴────────┐┌────────┴────────┐└──────────┘ ║  ║  ║  ║ └╥┘\n",
       "q_5: ┤ U(π,0,π) ├─░──────┤ circuit-8471^1 ├┤ circuit-8471^2 ├┤ circuit-8471^4 ├┤ circuit-8471^8 ├┤ circuit-8471^16 ├─────────────╫──╫──╫──╫──╫─\n",
       "     └──────────┘ ░      └────────────────┘└────────────────┘└────────────────┘└────────────────┘└─────────────────┘             ║  ║  ║  ║  ║ \n",
       "c: 5/════════════════════════════════════════════════════════════════════════════════════════════════════════════════════════════╩══╩══╩══╩══╩═\n",
       "                                                                                                                                 0  1  2  3  4 </pre>"
      ],
      "text/plain": [
       "                  ░ ┌───┐                                                                                           ┌──────────┐┌─┐            \n",
       "q_0: ─────────────░─┤ H ├────────■──────────────────────────────────────────────────────────────────────────────────┤4         ├┤M├────────────\n",
       "                  ░ ├───┤        │                                                                                  │          │└╥┘┌─┐         \n",
       "q_1: ─────────────░─┤ H ├────────┼─────────────────■────────────────────────────────────────────────────────────────┤3         ├─╫─┤M├─────────\n",
       "                  ░ ├───┤        │                 │                                                                │          │ ║ └╥┘┌─┐      \n",
       "q_2: ─────────────░─┤ H ├────────┼─────────────────┼─────────────────■──────────────────────────────────────────────┤2 IQFT_dg ├─╫──╫─┤M├──────\n",
       "                  ░ ├───┤        │                 │                 │                                              │          │ ║  ║ └╥┘┌─┐   \n",
       "q_3: ─────────────░─┤ H ├────────┼─────────────────┼─────────────────┼─────────────────■────────────────────────────┤1         ├─╫──╫──╫─┤M├───\n",
       "                  ░ ├───┤        │                 │                 │                 │                            │          │ ║  ║  ║ └╥┘┌─┐\n",
       "q_4: ─────────────░─┤ H ├────────┼─────────────────┼─────────────────┼─────────────────┼──────────────────■─────────┤0         ├─╫──╫──╫──╫─┤M├\n",
       "     ┌──────────┐ ░ └───┘┌───────┴────────┐┌───────┴────────┐┌───────┴────────┐┌───────┴────────┐┌────────┴────────┐└──────────┘ ║  ║  ║  ║ └╥┘\n",
       "q_5: ┤ U(π,0,π) ├─░──────┤ circuit-8471^1 ├┤ circuit-8471^2 ├┤ circuit-8471^4 ├┤ circuit-8471^8 ├┤ circuit-8471^16 ├─────────────╫──╫──╫──╫──╫─\n",
       "     └──────────┘ ░      └────────────────┘└────────────────┘└────────────────┘└────────────────┘└─────────────────┘             ║  ║  ║  ║  ║ \n",
       "c: 5/════════════════════════════════════════════════════════════════════════════════════════════════════════════════════════════╩══╩══╩══╩══╩═\n",
       "                                                                                                                                 0  1  2  3  4 "
      ]
     },
     "execution_count": 264,
     "metadata": {},
     "output_type": "execute_result"
    }
   ],
   "source": [
    "import itertools\n",
    "import functools as ft\n",
    "from qiskit.quantum_info import SparsePauliOp\n",
    "\n",
    "## ref : https://obliviateandsurrender.github.io/blogs/vqe.html\n",
    "def decompose_ham_to_pauli(H):\n",
    "    n = int(np.log2(len(H)))\n",
    "    N = 2 ** n\n",
    "    \n",
    "    sI = np.eye(2, 2, dtype=complex)\n",
    "    sX = np.array([[0, 1], [1, 0]], dtype=complex)\n",
    "    sZ = np.array([[1, 0], [0,-1]], dtype=complex)\n",
    "    sY = complex(0,-1)*np.matmul(sZ,sX)\n",
    "    paulis = [sI, sX, sY, sZ]\n",
    "    paulis_label = ['I', 'X', 'Y', 'Z']\n",
    "    obs = []\n",
    "    coeffs = []\n",
    "    matrix = []\n",
    "    for term in itertools.product(paulis, repeat=n):\n",
    "        matrices = [pauli for pauli in term]\n",
    "        coeff = np.trace(ft.reduce(np.kron, matrices) @ H) / N \n",
    "        coeff = np.real_if_close(coeff).item()\n",
    "        # Hilbert-Schmidt-Product\n",
    "        if not np.allclose(coeff, 0): \n",
    "            coeffs.append(coeff)\n",
    "            obs.append(''.join([paulis_label[[i for i, x in enumerate(paulis)\n",
    "            if np.all(x == t)][0]] for idx, t in enumerate(reversed(term))]))\n",
    "            matrix.append(ft.reduce(np.kron, matrices))\n",
    "\n",
    "    return obs, coeffs , matrix\n",
    "\n",
    "o, amplitudes, _ = decompose_ham_to_pauli(A)\n",
    "randHamiltonian = SparsePauliOp.from_list(list(zip(o, amplitudes))).to_operator()\n",
    "\n",
    "print (randHamiltonian)\n",
    "\n",
    "Q = QuantumCircuit(1)\n",
    "Q.append(randHamiltonian, [0])\n",
    "\n",
    "pe = PhaseEstimation(5, unitary=Q.to_gate())\n",
    "\n",
    "state = QuantumCircuit(6, 5)\n",
    "state.x(5)\n",
    "state.barrier()\n",
    "state.append(pe, [0,1,2,3,4,5])\n",
    "\n",
    "for i in range(5):\n",
    "    state.measure(i,i)\n",
    "state.decompose().decompose().draw(fold=1000)"
   ]
  },
  {
   "cell_type": "code",
   "execution_count": 265,
   "metadata": {},
   "outputs": [
    {
     "name": "stdout",
     "output_type": "stream",
     "text": [
      "SamplerResult(quasi_dists=[{1: 0.9999999999999984}], metadata=[{}])\n",
      "1 0.5 prob =  1.0  Eigen value =  (-1+0j)\n"
     ]
    }
   ],
   "source": [
    "s = Sampler()\n",
    "job = s.run(state)\n",
    "\n",
    "print (job.result())\n",
    "\n",
    "for key, value in job.result().quasi_dists[0].items():\n",
    "    val = convertBinaryToDecimal(bin(key)[2:])\n",
    "    if round(value, 3) > 0.1:\n",
    "        print(key,val, \"prob = \", round(value, 3), \" Eigen value = \", np.round(np.cos(2*np.pi*val)+1j*np.sin(2*np.pi*val), 2))"
   ]
  }
 ],
 "metadata": {
  "kernelspec": {
   "display_name": "QCML",
   "language": "python",
   "name": "python3"
  },
  "language_info": {
   "codemirror_mode": {
    "name": "ipython",
    "version": 3
   },
   "file_extension": ".py",
   "mimetype": "text/x-python",
   "name": "python",
   "nbconvert_exporter": "python",
   "pygments_lexer": "ipython3",
   "version": "3.9.16"
  },
  "orig_nbformat": 4
 },
 "nbformat": 4,
 "nbformat_minor": 2
}

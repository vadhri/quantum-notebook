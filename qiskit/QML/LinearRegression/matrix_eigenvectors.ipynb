{
 "cells": [
  {
   "cell_type": "code",
   "execution_count": 242,
   "metadata": {},
   "outputs": [
    {
     "name": "stdout",
     "output_type": "stream",
     "text": [
      "{'most_likely_eigenvalue': -6.75, 'phase': 0.625}\n"
     ]
    }
   ],
   "source": [
    "from qiskit import *\n",
    "from qiskit.circuit.library import *\n",
    "from qiskit.primitives import Sampler\n",
    "import numpy as np \n",
    "from qiskit.extensions import *\n",
    "from qiskit.algorithms import HamiltonianPhaseEstimation\n",
    "from qiskit.quantum_info.operators import Operator, Pauli\n",
    "\n",
    "A = [\n",
    "        [1,0],\n",
    "        [0,-1]\n",
    "    ]\n",
    "\n",
    "A = [\n",
    "        [0,0,5,4],\n",
    "        [0,0,1,2],\n",
    "        [5,1,0,0],\n",
    "        [4,2,0,0]\n",
    "    ]\n",
    "\n",
    "precision = 3\n",
    "qreg = QuantumRegister(precision)\n",
    "qregb = QuantumRegister(1)\n",
    "creg = ClassicalRegister(precision)\n",
    "\n",
    "QC = QuantumCircuit(qreg, qregb, creg)\n",
    "QC.x(-1)\n",
    "pe = HamiltonianPhaseEstimation(5, sampler=Sampler())\n",
    "z = pe.estimate(randHamiltonian)\n",
    "print (z)"
   ]
  },
  {
   "cell_type": "markdown",
   "metadata": {},
   "source": []
  },
  {
   "cell_type": "code",
   "execution_count": 243,
   "metadata": {},
   "outputs": [],
   "source": [
    "def binaryToPhase(binary):\n",
    "    binary=list(binary[::-1])\n",
    "    length = len(binary)\n",
    "    res=0\n",
    "    \n",
    "    for i in range(length):\n",
    "        digit=int(binary.pop())\n",
    "        if digit==1:\n",
    "            res=res+pow(2,i)  \n",
    "    return res\n",
    "\n",
    "# job = Sampler().run(QC, shots=100)\n",
    "# for k,v in job.result().quasi_dists[0].items():\n",
    "#     print (bin(k)[2:], v, binaryToPhase(bin(k)[2:]))"
   ]
  },
  {
   "cell_type": "code",
   "execution_count": 244,
   "metadata": {},
   "outputs": [],
   "source": [
    "import itertools\n",
    "import functools as ft\n",
    "from qiskit.quantum_info import SparsePauliOp\n",
    "\n",
    "## ref : https://obliviateandsurrender.github.io/blogs/vqe.html\n",
    "def decompose_ham_to_pauli(H):\n",
    "    n = int(np.log2(len(H)))\n",
    "    N = 2 ** n\n",
    "    \n",
    "    sI = np.eye(2, 2, dtype=complex)\n",
    "    sX = np.array([[0, 1], [1, 0]], dtype=complex)\n",
    "    sZ = np.array([[1, 0], [0,-1]], dtype=complex)\n",
    "    sY = complex(0,-1)*np.matmul(sZ,sX)\n",
    "    paulis = [sI, sX, sY, sZ]\n",
    "    paulis_label = ['I', 'X', 'Y', 'Z']\n",
    "    obs = []\n",
    "    coeffs = []\n",
    "    matrix = []\n",
    "    for term in itertools.product(paulis, repeat=n):\n",
    "        matrices = [pauli for pauli in term]\n",
    "        coeff = np.trace(ft.reduce(np.kron, matrices) @ H) / N \n",
    "        coeff = np.real_if_close(coeff).item()\n",
    "        # Hilbert-Schmidt-Product\n",
    "        if not np.allclose(coeff, 0): \n",
    "            coeffs.append(coeff)\n",
    "            obs.append(''.join([paulis_label[[i for i, x in enumerate(paulis)\n",
    "            if np.all(x == t)][0]] for idx, t in enumerate(reversed(term))]))\n",
    "            matrix.append(ft.reduce(np.kron, matrices))\n",
    "\n",
    "    return obs, coeffs , matrix\n",
    "\n",
    "o, amplitudes, _ = decompose_ham_to_pauli(A)\n",
    "randHamiltonian = SparsePauliOp.from_list(list(zip(o, amplitudes)))"
   ]
  }
 ],
 "metadata": {
  "kernelspec": {
   "display_name": "QCML",
   "language": "python",
   "name": "python3"
  },
  "language_info": {
   "codemirror_mode": {
    "name": "ipython",
    "version": 3
   },
   "file_extension": ".py",
   "mimetype": "text/x-python",
   "name": "python",
   "nbconvert_exporter": "python",
   "pygments_lexer": "ipython3",
   "version": "3.9.16"
  },
  "orig_nbformat": 4
 },
 "nbformat": 4,
 "nbformat_minor": 2
}

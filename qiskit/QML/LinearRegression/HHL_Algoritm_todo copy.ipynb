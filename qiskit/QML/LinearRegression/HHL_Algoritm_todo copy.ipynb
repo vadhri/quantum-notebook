{
 "cells": [
  {
   "attachments": {},
   "cell_type": "markdown",
   "metadata": {},
   "source": [
    "### Quantum Linear regression"
   ]
  },
  {
   "cell_type": "code",
   "execution_count": 80,
   "metadata": {},
   "outputs": [
    {
     "data": {
      "text/html": [
       "<pre style=\"word-wrap: normal;white-space: pre;background: #fff0;line-height: 1.1;font-family: &quot;Courier New&quot;,Courier,monospace\">                           \n",
       "   anc: ───────────────────\n",
       "                           \n",
       "q621_0: ───────────────────\n",
       "                           \n",
       "q621_1: ───────────────────\n",
       "        ┌─────────────────┐\n",
       "     B: ┤ Initialize(0,1) ├\n",
       "        └─────────────────┘\n",
       " c10: 2/═══════════════════\n",
       "                           </pre>"
      ],
      "text/plain": [
       "                           \n",
       "   anc: ───────────────────\n",
       "                           \n",
       "q621_0: ───────────────────\n",
       "                           \n",
       "q621_1: ───────────────────\n",
       "        ┌─────────────────┐\n",
       "     B: ┤ Initialize(0,1) ├\n",
       "        └─────────────────┘\n",
       " c10: 2/═══════════════════\n",
       "                           "
      ]
     },
     "execution_count": 80,
     "metadata": {},
     "output_type": "execute_result"
    }
   ],
   "source": [
    "from qiskit import *\n",
    "from  qiskit.extensions import *\n",
    "import numpy as np\n",
    "from qiskit.circuit.library import *\n",
    "from qiskit.visualization import *\n",
    "from qiskit.quantum_info import Statevector\n",
    "from qiskit.circuit.library.standard_gates import RYGate\n",
    "\n",
    "A = [[1,-1/3],[-1/3, 1]]\n",
    "\n",
    "B = [0,1]\n",
    "\n",
    "BNorm = B / np.linalg.norm(B)\n",
    "\n",
    "NL = 2\n",
    "NB = int(np.ceil(np.log2(len(B))))\n",
    "             \n",
    "breg = QuantumRegister(NB, name=\"B\")\n",
    "lreg = QuantumRegister(NL)\n",
    "creg = ClassicalRegister(NL)\n",
    "areg = QuantumRegister(1, name=\"anc\")\n",
    "\n",
    "QC = QuantumCircuit(areg, creg, lreg, breg)\n",
    "QC.initialize(BNorm, breg)\n",
    "QC.draw()\n"
   ]
  },
  {
   "cell_type": "code",
   "execution_count": 81,
   "metadata": {},
   "outputs": [
    {
     "data": {
      "text/latex": [
       "$$ |1000\\rangle$$"
      ],
      "text/plain": [
       "<IPython.core.display.Latex object>"
      ]
     },
     "execution_count": 81,
     "metadata": {},
     "output_type": "execute_result"
    }
   ],
   "source": [
    "S = Statevector(QC)\n",
    "S.draw(output=\"Latex\")"
   ]
  },
  {
   "cell_type": "code",
   "execution_count": 82,
   "metadata": {},
   "outputs": [
    {
     "data": {
      "text/plain": [
       "[2, 1, 3]"
      ]
     },
     "execution_count": 82,
     "metadata": {},
     "output_type": "execute_result"
    }
   ],
   "source": [
    "\n",
    "U = HamiltonianGate(A, time=3*np.pi/4)\n",
    "PE = PhaseEstimation(NL, U, QFT(NL, inverse=True, do_swaps=True), name=\"QPE\").decompose()\n",
    "R = list(range(1,NL+1))[::-1]+list(range(NL+1, NL+NB+1))\n",
    "R"
   ]
  },
  {
   "cell_type": "code",
   "execution_count": 83,
   "metadata": {},
   "outputs": [
    {
     "data": {
      "image/png": "[encoded data removed]",
      "text/plain": [
       "<Figure size 714.566x225.75 with 1 Axes>"
      ]
     },
     "execution_count": 83,
     "metadata": {},
     "output_type": "execute_result"
    }
   ],
   "source": [
    "\n",
    "QC.barrier()\n",
    "QC.append(PE,R)\n",
    "QC.barrier()\n",
    "\n",
    "QC = QC.decompose()\n",
    "QC.draw(output=\"mpl\", scale=0.5)\n"
   ]
  },
  {
   "cell_type": "code",
   "execution_count": 84,
   "metadata": {},
   "outputs": [
    {
     "data": {
      "text/latex": [
       "$$- \\frac{1}{2} |0010\\rangle+\\frac{1}{2} |0110\\rangle+\\frac{1}{2} |1010\\rangle+\\frac{1}{2} |1110\\rangle$$"
      ],
      "text/plain": [
       "<IPython.core.display.Latex object>"
      ]
     },
     "execution_count": 84,
     "metadata": {},
     "output_type": "execute_result"
    }
   ],
   "source": [
    "S = Statevector(QC)\n",
    "S.draw(output=\"Latex\")\n"
   ]
  },
  {
   "cell_type": "code",
   "execution_count": 85,
   "metadata": {},
   "outputs": [
    {
     "name": "stdout",
     "output_type": "stream",
     "text": [
      "1 0.56 1\n",
      "11 0.44 3\n"
     ]
    }
   ],
   "source": [
    "from qiskit.primitives import Sampler \n",
    "\n",
    "def binaryToPhase(binary):\n",
    "    binary=list(binary[::-1])\n",
    "    length = len(binary)\n",
    "    res=0\n",
    "    \n",
    "    for i in range(length):\n",
    "        digit=int(binary.pop())\n",
    "        if digit==1:\n",
    "            res=res+pow(2,i)  \n",
    "    return res\n",
    "\n",
    "QC.measure(1,0)\n",
    "QC.measure(2,1)\n",
    "\n",
    "job = Sampler().run(QC, shots=100)\n",
    "for k,v in job.result().quasi_dists[0].items():\n",
    "    print (bin(k)[2:], v, binaryToPhase(bin(k)[2:]))"
   ]
  },
  {
   "cell_type": "code",
   "execution_count": 86,
   "metadata": {},
   "outputs": [
    {
     "ename": "CircuitError",
     "evalue": "'Index 4 out of range for size 4.'",
     "output_type": "error",
     "traceback": [
      "\u001b[0;31m---------------------------------------------------------------------------\u001b[0m",
      "\u001b[0;31mIndexError\u001b[0m                                Traceback (most recent call last)",
      "File \u001b[0;32m~/opt/anaconda3/envs/QCML/lib/python3.9/site-packages/qiskit/circuit/quantumcircuit.py:5147\u001b[0m, in \u001b[0;36m_bit_argument_conversion\u001b[0;34m(specifier, bit_sequence, bit_set, type_)\u001b[0m\n\u001b[1;32m   5146\u001b[0m \u001b[39mtry\u001b[39;00m:\n\u001b[0;32m-> 5147\u001b[0m     \u001b[39mreturn\u001b[39;00m [bit_sequence[specifier]]\n\u001b[1;32m   5148\u001b[0m \u001b[39mexcept\u001b[39;00m \u001b[39mIndexError\u001b[39;00m \u001b[39mas\u001b[39;00m ex:\n",
      "\u001b[0;31mIndexError\u001b[0m: list index out of range",
      "\nThe above exception was the direct cause of the following exception:\n",
      "\u001b[0;31mCircuitError\u001b[0m                              Traceback (most recent call last)",
      "Cell \u001b[0;32mIn[86], line 6\u001b[0m\n\u001b[1;32m      4\u001b[0m QC\u001b[39m.\u001b[39mappend(U, \u001b[39mlist\u001b[39m(\u001b[39mrange\u001b[39m(NL, \u001b[39m-\u001b[39m\u001b[39m1\u001b[39m, \u001b[39m-\u001b[39m\u001b[39m1\u001b[39m)))\n\u001b[1;32m      5\u001b[0m QC\u001b[39m.\u001b[39mx(\u001b[39m3\u001b[39m)\n\u001b[0;32m----> 6\u001b[0m QC\u001b[39m.\u001b[39;49mx(\u001b[39m4\u001b[39;49m)\n\u001b[1;32m      8\u001b[0m QC\u001b[39m.\u001b[39mbarrier()\n\u001b[1;32m     10\u001b[0m U \u001b[39m=\u001b[39m RYGate(\u001b[39m2\u001b[39m\u001b[39m*\u001b[39mnp\u001b[39m.\u001b[39marcsin(C\u001b[39m/\u001b[39m\u001b[39m5\u001b[39m))\u001b[39m.\u001b[39mcontrol(NL)\n",
      "File \u001b[0;32m~/opt/anaconda3/envs/QCML/lib/python3.9/site-packages/qiskit/circuit/quantumcircuit.py:3832\u001b[0m, in \u001b[0;36mQuantumCircuit.x\u001b[0;34m(self, qubit, label)\u001b[0m\n\u001b[1;32m   3819\u001b[0m \u001b[39mr\u001b[39m\u001b[39m\"\"\"Apply :class:`~qiskit.circuit.library.XGate`.\u001b[39;00m\n\u001b[1;32m   3820\u001b[0m \n\u001b[1;32m   3821\u001b[0m \u001b[39mFor the full matrix form of this gate, see the underlying gate documentation.\u001b[39;00m\n\u001b[0;32m   (...)\u001b[0m\n\u001b[1;32m   3828\u001b[0m \u001b[39m    A handle to the instructions created.\u001b[39;00m\n\u001b[1;32m   3829\u001b[0m \u001b[39m\"\"\"\u001b[39;00m\n\u001b[1;32m   3830\u001b[0m \u001b[39mfrom\u001b[39;00m \u001b[39m.\u001b[39;00m\u001b[39mlibrary\u001b[39;00m\u001b[39m.\u001b[39;00m\u001b[39mstandard_gates\u001b[39;00m\u001b[39m.\u001b[39;00m\u001b[39mx\u001b[39;00m \u001b[39mimport\u001b[39;00m XGate\n\u001b[0;32m-> 3832\u001b[0m \u001b[39mreturn\u001b[39;00m \u001b[39mself\u001b[39;49m\u001b[39m.\u001b[39;49mappend(XGate(label\u001b[39m=\u001b[39;49mlabel), [qubit], [])\n",
      "File \u001b[0;32m~/opt/anaconda3/envs/QCML/lib/python3.9/site-packages/qiskit/circuit/quantumcircuit.py:1302\u001b[0m, in \u001b[0;36mQuantumCircuit.append\u001b[0;34m(self, instruction, qargs, cargs)\u001b[0m\n\u001b[1;32m   1299\u001b[0m     \u001b[39mif\u001b[39;00m is_parameter:\n\u001b[1;32m   1300\u001b[0m         operation \u001b[39m=\u001b[39m copy\u001b[39m.\u001b[39mdeepcopy(operation)\n\u001b[0;32m-> 1302\u001b[0m expanded_qargs \u001b[39m=\u001b[39m [\u001b[39mself\u001b[39m\u001b[39m.\u001b[39mqbit_argument_conversion(qarg) \u001b[39mfor\u001b[39;00m qarg \u001b[39min\u001b[39;00m qargs \u001b[39mor\u001b[39;00m []]\n\u001b[1;32m   1303\u001b[0m expanded_cargs \u001b[39m=\u001b[39m [\u001b[39mself\u001b[39m\u001b[39m.\u001b[39mcbit_argument_conversion(carg) \u001b[39mfor\u001b[39;00m carg \u001b[39min\u001b[39;00m cargs \u001b[39mor\u001b[39;00m []]\n\u001b[1;32m   1305\u001b[0m \u001b[39mif\u001b[39;00m \u001b[39mself\u001b[39m\u001b[39m.\u001b[39m_control_flow_scopes:\n",
      "File \u001b[0;32m~/opt/anaconda3/envs/QCML/lib/python3.9/site-packages/qiskit/circuit/quantumcircuit.py:1302\u001b[0m, in \u001b[0;36m<listcomp>\u001b[0;34m(.0)\u001b[0m\n\u001b[1;32m   1299\u001b[0m     \u001b[39mif\u001b[39;00m is_parameter:\n\u001b[1;32m   1300\u001b[0m         operation \u001b[39m=\u001b[39m copy\u001b[39m.\u001b[39mdeepcopy(operation)\n\u001b[0;32m-> 1302\u001b[0m expanded_qargs \u001b[39m=\u001b[39m [\u001b[39mself\u001b[39;49m\u001b[39m.\u001b[39;49mqbit_argument_conversion(qarg) \u001b[39mfor\u001b[39;00m qarg \u001b[39min\u001b[39;00m qargs \u001b[39mor\u001b[39;00m []]\n\u001b[1;32m   1303\u001b[0m expanded_cargs \u001b[39m=\u001b[39m [\u001b[39mself\u001b[39m\u001b[39m.\u001b[39mcbit_argument_conversion(carg) \u001b[39mfor\u001b[39;00m carg \u001b[39min\u001b[39;00m cargs \u001b[39mor\u001b[39;00m []]\n\u001b[1;32m   1305\u001b[0m \u001b[39mif\u001b[39;00m \u001b[39mself\u001b[39m\u001b[39m.\u001b[39m_control_flow_scopes:\n",
      "File \u001b[0;32m~/opt/anaconda3/envs/QCML/lib/python3.9/site-packages/qiskit/circuit/quantumcircuit.py:1183\u001b[0m, in \u001b[0;36mQuantumCircuit.qbit_argument_conversion\u001b[0;34m(self, qubit_representation)\u001b[0m\n\u001b[1;32m   1172\u001b[0m \u001b[39mdef\u001b[39;00m \u001b[39mqbit_argument_conversion\u001b[39m(\u001b[39mself\u001b[39m, qubit_representation: QubitSpecifier) \u001b[39m-\u001b[39m\u001b[39m>\u001b[39m \u001b[39mlist\u001b[39m[Qubit]:\n\u001b[1;32m   1173\u001b[0m     \u001b[39m\"\"\"\u001b[39;00m\n\u001b[1;32m   1174\u001b[0m \u001b[39m    Converts several qubit representations (such as indexes, range, etc.)\u001b[39;00m\n\u001b[1;32m   1175\u001b[0m \u001b[39m    into a list of qubits.\u001b[39;00m\n\u001b[0;32m   (...)\u001b[0m\n\u001b[1;32m   1181\u001b[0m \u001b[39m        List(Qubit): the resolved instances of the qubits.\u001b[39;00m\n\u001b[1;32m   1182\u001b[0m \u001b[39m    \"\"\"\u001b[39;00m\n\u001b[0;32m-> 1183\u001b[0m     \u001b[39mreturn\u001b[39;00m _bit_argument_conversion(\n\u001b[1;32m   1184\u001b[0m         qubit_representation, \u001b[39mself\u001b[39;49m\u001b[39m.\u001b[39;49mqubits, \u001b[39mself\u001b[39;49m\u001b[39m.\u001b[39;49m_qubit_indices, Qubit\n\u001b[1;32m   1185\u001b[0m     )\n",
      "File \u001b[0;32m~/opt/anaconda3/envs/QCML/lib/python3.9/site-packages/qiskit/circuit/quantumcircuit.py:5149\u001b[0m, in \u001b[0;36m_bit_argument_conversion\u001b[0;34m(specifier, bit_sequence, bit_set, type_)\u001b[0m\n\u001b[1;32m   5147\u001b[0m         \u001b[39mreturn\u001b[39;00m [bit_sequence[specifier]]\n\u001b[1;32m   5148\u001b[0m     \u001b[39mexcept\u001b[39;00m \u001b[39mIndexError\u001b[39;00m \u001b[39mas\u001b[39;00m ex:\n\u001b[0;32m-> 5149\u001b[0m         \u001b[39mraise\u001b[39;00m CircuitError(\n\u001b[1;32m   5150\u001b[0m             \u001b[39mf\u001b[39m\u001b[39m\"\u001b[39m\u001b[39mIndex \u001b[39m\u001b[39m{\u001b[39;00mspecifier\u001b[39m}\u001b[39;00m\u001b[39m out of range for size \u001b[39m\u001b[39m{\u001b[39;00m\u001b[39mlen\u001b[39m(bit_sequence)\u001b[39m}\u001b[39;00m\u001b[39m.\u001b[39m\u001b[39m\"\u001b[39m\n\u001b[1;32m   5151\u001b[0m         ) \u001b[39mfrom\u001b[39;00m \u001b[39mex\u001b[39;00m\n\u001b[1;32m   5152\u001b[0m \u001b[39m# Slices can't raise IndexError - they just return an empty list.\u001b[39;00m\n\u001b[1;32m   5153\u001b[0m \u001b[39mif\u001b[39;00m \u001b[39misinstance\u001b[39m(specifier, \u001b[39mslice\u001b[39m):\n",
      "\u001b[0;31mCircuitError\u001b[0m: 'Index 4 out of range for size 4.'"
     ]
    }
   ],
   "source": [
    "C = 1/6\n",
    "U = RYGate(2*np.arcsin(C/1)).control(NL)\n",
    "QC.x(0)\n",
    "QC.append(U, list(range(NL, -1, -1)))\n",
    "QC.x(3)\n",
    "QC.x(4)\n",
    "\n",
    "QC.barrier()\n",
    "\n",
    "U = RYGate(2*np.arcsin(C/5)).control(NL)\n",
    "QC.x(2)\n",
    "QC.x(4)\n",
    "QC.append(U, list(range(NL, -1, -1)))\n",
    "QC.x(2)\n",
    "QC.x(4)\n",
    "\n",
    "QC.append(QFT(NL, inverse=False), list(range(1,NL+1))[::-1])  \n",
    "i = 8\n",
    "j = 1\n",
    "while i > 0:\n",
    "    U = HamiltonianGate(A, time=-3*np.pi/4)\n",
    "    g = QuantumCircuit(NB,name=\"H^\"+str(i))\n",
    "\n",
    "    for _ in range(i):\n",
    "        g.append(U, list(range(NB)))\n",
    "    \n",
    "    g = g.to_gate().control(1)\n",
    "\n",
    "    QC.append(g, [j]+list(range(NL+1, NL+NB+1)))\n",
    "    i //= 2\n",
    "    j += 1\n",
    "    \n",
    "QC.barrier()\n",
    "for i in range(NL):\n",
    "    QC.h(i+1)\n",
    "\n",
    "S = Statevector(QC)\n",
    "S.draw(output=\"Latex\")"
   ]
  },
  {
   "cell_type": "code",
   "execution_count": null,
   "metadata": {},
   "outputs": [
    {
     "data": {
      "image/png": "[encoded data removed]",
      "text/plain": [
       "<Figure size 1801.61x309.361 with 1 Axes>"
      ]
     },
     "execution_count": 52,
     "metadata": {},
     "output_type": "execute_result"
    }
   ],
   "source": [
    "QC.barrier()\n",
    "for i in range(5):\n",
    "    QC.measure(i,i)\n",
    "\n",
    "QC.draw(output=\"mpl\", scale=0.5, fold=1200)"
   ]
  },
  {
   "cell_type": "code",
   "execution_count": null,
   "metadata": {},
   "outputs": [
    {
     "data": {
      "image/png": "[encoded data removed]",
      "text/plain": [
       "<Figure size 200x300 with 1 Axes>"
      ]
     },
     "execution_count": 53,
     "metadata": {},
     "output_type": "execute_result"
    }
   ],
   "source": [
    "\n",
    "backend = Aer.get_backend(\"aer_simulator\")\n",
    "job_sim = backend.run(transpile(QC, backend), shots=5000)\n",
    "\n",
    "# Grab the results from the job.\n",
    "result_sim = job_sim.result()\n",
    "prob_1 = 0\n",
    "ans = []\n",
    "plot_histogram(result_sim.get_counts(), figsize=(2,3))"
   ]
  },
  {
   "cell_type": "code",
   "execution_count": null,
   "metadata": {},
   "outputs": [
    {
     "ename": "KeyError",
     "evalue": "'000001'",
     "output_type": "error",
     "traceback": [
      "\u001b[0;31m---------------------------------------------------------------------------\u001b[0m",
      "\u001b[0;31mKeyError\u001b[0m                                  Traceback (most recent call last)",
      "Cell \u001b[0;32mIn[54], line 11\u001b[0m\n\u001b[1;32m      9\u001b[0m \u001b[39mfor\u001b[39;00m k,v \u001b[39min\u001b[39;00m result_sim\u001b[39m.\u001b[39mget_counts()\u001b[39m.\u001b[39mitems():\n\u001b[1;32m     10\u001b[0m     \u001b[39mif\u001b[39;00m k[\u001b[39m-\u001b[39m\u001b[39m1\u001b[39m] \u001b[39m==\u001b[39m \u001b[39m'\u001b[39m\u001b[39m1\u001b[39m\u001b[39m'\u001b[39m:\n\u001b[0;32m---> 11\u001b[0m         ans\u001b[39m.\u001b[39mappend(amp_value[k])\n\u001b[1;32m     13\u001b[0m P1 \u001b[39m=\u001b[39m \u001b[39msum\u001b[39m([i\u001b[39m*\u001b[39m\u001b[39m*\u001b[39m\u001b[39m2\u001b[39m \u001b[39mfor\u001b[39;00m i \u001b[39min\u001b[39;00m ans])\u001b[39m*\u001b[39m\u001b[39m9\u001b[39m\n\u001b[1;32m     15\u001b[0m scaling \u001b[39m=\u001b[39m (C\u001b[39m/\u001b[39mnp\u001b[39m.\u001b[39msqrt(P1))\n",
      "\u001b[0;31mKeyError\u001b[0m: '000001'"
     ]
    }
   ],
   "source": [
    "nshots = 10000\n",
    "amp_value = {}\n",
    "\n",
    "for i in range(32,64):\n",
    "    value = np.round(S[i-32], 10)\n",
    "    if value:\n",
    "        amp_value[bin(i)[3:]] = value\n",
    "\n",
    "for k,v in result_sim.get_counts().items():\n",
    "    if k[-1] == '1':\n",
    "        ans.append(amp_value[k])\n",
    "\n",
    "P1 = sum([i**2 for i in ans])*9\n",
    "\n",
    "scaling = (C/np.sqrt(P1))\n",
    "ans = [i/(scaling*np.linalg.norm(ans)) for i in ans]\n",
    "print (scaling,)\n",
    "print (ans, )\n",
    "print (np.dot(ans, A))"
   ]
  },
  {
   "cell_type": "code",
   "execution_count": 87,
   "metadata": {},
   "outputs": [
    {
     "data": {
      "text/plain": [
       "<qiskit.circuit.instructionset.InstructionSet at 0x7fceafe76970>"
      ]
     },
     "execution_count": 87,
     "metadata": {},
     "output_type": "execute_result"
    }
   ],
   "source": [
    "from qiskit import QuantumRegister, ClassicalRegister, QuantumCircuit\n",
    "from numpy import pi\n",
    "\n",
    "qreg_q = QuantumRegister(2, 'q')\n",
    "creg_c = ClassicalRegister(2, 'c')\n",
    "circuit = QuantumCircuit(qreg_q, creg_c)\n",
    "\n",
    "circuit.x(qreg_q[0])\n",
    "circuit.x(qreg_q[1])\n",
    "circuit.barrier(qreg_q[0], qreg_q[1])\n",
    "circuit.h(qreg_q[0])\n",
    "circuit.cx(qreg_q[0], qreg_q[1])\n",
    "circuit.z(qreg_q[0])\n",
    "circuit.cx(qreg_q[0], qreg_q[1])\n",
    "circuit.h(qreg_q[0])"
   ]
  },
  {
   "cell_type": "code",
   "execution_count": null,
   "metadata": {},
   "outputs": [],
   "source": [
    "job = Sampler().run(circuit, shots=1)\n",
    "print (job.result())"
   ]
  }
 ],
 "metadata": {
  "kernelspec": {
   "display_name": "QCML",
   "language": "python",
   "name": "python3"
  },
  "language_info": {
   "codemirror_mode": {
    "name": "ipython",
    "version": 3
   },
   "file_extension": ".py",
   "mimetype": "text/x-python",
   "name": "python",
   "nbconvert_exporter": "python",
   "pygments_lexer": "ipython3",
   "version": "3.9.16"
  },
  "orig_nbformat": 4
 },
 "nbformat": 4,
 "nbformat_minor": 2
}

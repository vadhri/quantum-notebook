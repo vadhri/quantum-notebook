{
 "cells": [
  {
   "cell_type": "code",
   "execution_count": 100,
   "metadata": {},
   "outputs": [
    {
     "name": "stdout",
     "output_type": "stream",
     "text": [
      "[[ 9.998e-01+0.000e+00j -6.660e-05+0.000e+00j  0.000e+00-3.649e-03j\n",
      "   0.000e+00+2.190e-02j]\n",
      " [-6.660e-05+0.000e+00j  9.993e-01+0.000e+00j  0.000e+00-3.649e-02j\n",
      "   0.000e+00-4.862e-07j]\n",
      " [ 0.000e+00-3.649e-03j  0.000e+00-3.649e-02j  9.993e-01+0.000e+00j\n",
      "   3.996e-05+0.000e+00j]\n",
      " [ 0.000e+00+2.190e-02j  0.000e+00-4.862e-07j  3.996e-05+0.000e+00j\n",
      "   9.998e-01+0.000e+00j]]\n"
     ]
    },
    {
     "data": {
      "text/html": [
       "<pre style=\"word-wrap: normal;white-space: pre;background: #fff0;line-height: 1.1;font-family: &quot;Courier New&quot;,Courier,monospace\">     ┌──────────┐\n",
       "q_0: ┤0         ├\n",
       "     │  Unitary │\n",
       "q_1: ┤1         ├\n",
       "     └──────────┘</pre>"
      ],
      "text/plain": [
       "     ┌──────────┐\n",
       "q_0: ┤0         ├\n",
       "     │  Unitary │\n",
       "q_1: ┤1         ├\n",
       "     └──────────┘"
      ]
     },
     "execution_count": 100,
     "metadata": {},
     "output_type": "execute_result"
    }
   ],
   "source": [
    "from qiskit import *\n",
    "from qiskit.extensions import HamiltonianGate\n",
    "from qiskit.quantum_info import Statevector\n",
    "import numpy as np\n",
    "np.set_printoptions(precision=3)\n",
    "\n",
    "data = [[0,0,0.073,0.-0.438],\n",
    "        [0,0,0.730,0],\n",
    "        [0.073,0.730,0,0],\n",
    "        [-0.438,0,0,0]]\n",
    "gate = HamiltonianGate(data, 0.05, label=\"H\")\n",
    "Unitary = gate.to_matrix()\n",
    "print (Unitary)\n",
    "\n",
    "QC = QuantumCircuit(2)\n",
    "QC.append(gate, [0,1])\n",
    "\n",
    "QC.draw()\n",
    "decom = QC.decompose()\n",
    "decom.draw()\n",
    "\n"
   ]
  },
  {
   "cell_type": "code",
   "execution_count": 101,
   "metadata": {},
   "outputs": [
    {
     "data": {
      "text/latex": [
       "$$0.999753544614 |00\\rangle-6.6602369 \\cdot 10^{-5} |01\\rangle- 0.003648889763 i |10\\rangle+0.021898200844 i |11\\rangle$$"
      ],
      "text/plain": [
       "<IPython.core.display.Latex object>"
      ]
     },
     "execution_count": 101,
     "metadata": {},
     "output_type": "execute_result"
    }
   ],
   "source": [
    "state = Statevector(QC)\n",
    "state.draw(output=\"Latex\")"
   ]
  },
  {
   "cell_type": "code",
   "execution_count": 103,
   "metadata": {},
   "outputs": [
    {
     "name": "stdout",
     "output_type": "stream",
     "text": [
      "[[ 1.   -0.j     0.   +0.j     0.   +0.002j  0.   +0.022j]\n",
      " [ 0.   +0.j     0.999+0.j     0.   -0.037j -0.   -0.002j]\n",
      " [ 0.   +0.002j  0.   -0.037j  0.999+0.j    -0.   -0.j   ]\n",
      " [ 0.   +0.022j -0.   -0.002j -0.   -0.j     1.   -0.j   ]]\n",
      "[[ 1.   +0.j    -0.   +0.j     0.   -0.004j  0.   +0.022j]\n",
      " [-0.   +0.j     0.999+0.j     0.   -0.036j  0.   -0.j   ]\n",
      " [ 0.   -0.004j  0.   -0.036j  0.999+0.j     0.   +0.j   ]\n",
      " [ 0.   +0.022j  0.   -0.j     0.   +0.j     1.   +0.j   ]]\n"
     ]
    }
   ],
   "source": [
    "import numpy as np\n",
    "\n",
    "eigval, eigvec = np.linalg.eig(data)\n",
    "\n",
    "A = np.array(eigvec[0])\n",
    "AT = np.atleast_2d(A).transpose()\n",
    "l1 = numpy.kron(A, AT)\n",
    "\n",
    "A = np.array(eigvec[1])\n",
    "AT = np.atleast_2d(A).transpose()\n",
    "l2 = numpy.kron(A, AT)\n",
    "\n",
    "A = np.array(eigvec[2])\n",
    "AT = np.atleast_2d(A).transpose()\n",
    "l3 = numpy.kron(A, AT)\n",
    "\n",
    "A = np.array(eigvec[3])\n",
    "AT = np.atleast_2d(A).transpose()\n",
    "l4 = numpy.kron(A, AT)\n",
    "\n",
    "Z = np.exp(1j*eigval[0]*0.05)*l1 + np.exp(1j*eigval[1]*0.05)*l2 + np.exp(1j*eigval[2]*0.05)*l3 + np.exp(1j*eigval[3]*0.05)*l4\n",
    "print(numpy.matrix.round(Z, 3))\n",
    "print(numpy.matrix.round(Unitary, 3))\n"
   ]
  }
 ],
 "metadata": {
  "kernelspec": {
   "display_name": "QCML",
   "language": "python",
   "name": "python3"
  },
  "language_info": {
   "codemirror_mode": {
    "name": "ipython",
    "version": 3
   },
   "file_extension": ".py",
   "mimetype": "text/x-python",
   "name": "python",
   "nbconvert_exporter": "python",
   "pygments_lexer": "ipython3",
   "version": "3.9.16"
  },
  "orig_nbformat": 4
 },
 "nbformat": 4,
 "nbformat_minor": 2
}

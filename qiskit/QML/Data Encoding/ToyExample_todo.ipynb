{
 "cells": [
  {
   "cell_type": "code",
   "execution_count": 1,
   "metadata": {},
   "outputs": [
    {
     "data": {
      "text/plain": [
       "<qiskit.circuit.instructionset.InstructionSet at 0x7ff30e591100>"
      ]
     },
     "execution_count": 1,
     "metadata": {},
     "output_type": "execute_result"
    }
   ],
   "source": [
    "from qiskit import *\n",
    "import math \n",
    "\n",
    "from qiskit.quantum_info import Statevector\n",
    "\n",
    "data = [[0.85, 0.36], \n",
    "        [0.12, 0.84],\n",
    "        [0.78, 0.45]]\n",
    "\n",
    "def normalize_data(arr):\n",
    "    sqr = math.sqrt(sum([x*x for x in arr]))\n",
    "    return [y/sqr for y in arr]\n",
    "\n",
    "all_data_points = []\n",
    "\n",
    "for d in data:\n",
    "    all_data_points += normalize_data(d)\n",
    "\n",
    "all_data_points += all_data_points[4:]\n",
    "dp = [0,0.921/2, 0,0.39/2, 0.141/2,0,0.99/2,0,0,0.866/2,0,0.5/2,0.866/2,0,0.5/2,0]\n",
    "\n",
    "dp = normalize_data(dp)\n",
    "\n",
    "QC = QuantumCircuit(4, 1)\n",
    "QC.prepare_state(dp, [0, 1, 2, 3], label=\"prep\")\n",
    "# for i in range(1):\n",
    "#     QC.h(i)\n",
    "QC.h(-1)\n"
   ]
  },
  {
   "cell_type": "code",
   "execution_count": 2,
   "metadata": {},
   "outputs": [
    {
     "data": {
      "text/latex": [
       "$$0.631781429654 |0001\\rangle+0.314653314153 |0011\\rangle+0.356017850958 |0100\\rangle+0.526779143919 |0110\\rangle+0.019444867729 |1001\\rangle-0.038889735457 |1011\\rangle-0.256318710967 |1100\\rangle+0.173236094309 |1110\\rangle$$"
      ],
      "text/plain": [
       "<IPython.core.display.Latex object>"
      ]
     },
     "execution_count": 2,
     "metadata": {},
     "output_type": "execute_result"
    }
   ],
   "source": [
    "state = Statevector(QC)\n",
    "state.draw(output=\"Latex\")"
   ]
  },
  {
   "cell_type": "code",
   "execution_count": 3,
   "metadata": {},
   "outputs": [
    {
     "data": {
      "image/png": "[encoded data removed]",
      "text/plain": [
       "<Figure size 436.387x225.75 with 1 Axes>"
      ]
     },
     "execution_count": 3,
     "metadata": {},
     "output_type": "execute_result"
    }
   ],
   "source": [
    "QC.measure(3,0)\n",
    "QC.draw(output=\"mpl\", scale=0.5)"
   ]
  }
 ],
 "metadata": {
  "kernelspec": {
   "display_name": "QCML",
   "language": "python",
   "name": "python3"
  },
  "language_info": {
   "codemirror_mode": {
    "name": "ipython",
    "version": 3
   },
   "file_extension": ".py",
   "mimetype": "text/x-python",
   "name": "python",
   "nbconvert_exporter": "python",
   "pygments_lexer": "ipython3",
   "version": "3.9.16"
  },
  "orig_nbformat": 4
 },
 "nbformat": 4,
 "nbformat_minor": 2
}

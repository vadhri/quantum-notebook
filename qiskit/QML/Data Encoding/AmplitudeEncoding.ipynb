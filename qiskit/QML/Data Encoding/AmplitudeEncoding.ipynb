{
 "cells": [
  {
   "attachments": {},
   "cell_type": "markdown",
   "metadata": {},
   "source": [
    "The example below is of amplitude encoding which generates 16 random numbers, normalizes the array and prepares a quantum state."
   ]
  },
  {
   "cell_type": "code",
   "execution_count": 23,
   "metadata": {},
   "outputs": [
    {
     "data": {
      "image/png": "[encoded data removed]",
      "text/plain": [
       "<Figure size 519.998x183.944 with 1 Axes>"
      ]
     },
     "execution_count": 23,
     "metadata": {},
     "output_type": "execute_result"
    }
   ],
   "source": [
    "from qiskit import *\n",
    "from qiskit.quantum_info import Statevector\n",
    "import math\n",
    "import random\n",
    "\n",
    "data = [random.randrange(1000,100000) for _ in range(16)]\n",
    "total = math.sqrt(sum([i*i for i in data]))\n",
    "normalized_data = [i/total for i in data]\n",
    "\n",
    "num_qubits = 4\n",
    "circ = QuantumCircuit(num_qubits)\n",
    "circ.prepare_state(normalized_data, [0, 1, 2, 3])\n",
    "circ.decompose()\n",
    "circ.draw(output=\"mpl\", scale=0.5)"
   ]
  },
  {
   "cell_type": "code",
   "execution_count": 24,
   "metadata": {},
   "outputs": [
    {
     "data": {
      "text/latex": [
       "$$0.037415592902 |0000\\rangle+0.383966036044 |0001\\rangle+0.210145089522 |0010\\rangle+0.160917679099 |0011\\rangle+0.195175401136 |0100\\rangle+0.02888675315 |0101\\rangle + \\ldots +0.417235844929 |1011\\rangle+0.274471609268 |1100\\rangle+0.091090769528 |1101\\rangle+0.395838250003 |1110\\rangle+0.156085964115 |1111\\rangle$$"
      ],
      "text/plain": [
       "<IPython.core.display.Latex object>"
      ]
     },
     "execution_count": 24,
     "metadata": {},
     "output_type": "execute_result"
    }
   ],
   "source": [
    "state = Statevector(circ)\n",
    "state.draw(\"Latex\")"
   ]
  }
 ],
 "metadata": {
  "kernelspec": {
   "display_name": "QCML",
   "language": "python",
   "name": "python3"
  },
  "language_info": {
   "codemirror_mode": {
    "name": "ipython",
    "version": 3
   },
   "file_extension": ".py",
   "mimetype": "text/x-python",
   "name": "python",
   "nbconvert_exporter": "python",
   "pygments_lexer": "ipython3",
   "version": "3.9.16"
  },
  "orig_nbformat": 4
 },
 "nbformat": 4,
 "nbformat_minor": 2
}

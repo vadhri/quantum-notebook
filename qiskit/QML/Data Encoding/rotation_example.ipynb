{
 "cells": [
  {
   "cell_type": "code",
   "execution_count": 21,
   "metadata": {},
   "outputs": [
    {
     "ename": "QiskitError",
     "evalue": "'Sum of amplitudes-squared does not equal one.'",
     "output_type": "error",
     "traceback": [
      "\u001b[0;31m---------------------------------------------------------------------------\u001b[0m",
      "\u001b[0;31mQiskitError\u001b[0m                               Traceback (most recent call last)",
      "Cell \u001b[0;32mIn[21], line 7\u001b[0m\n\u001b[1;32m      4\u001b[0m \u001b[39mimport\u001b[39;00m \u001b[39mnumpy\u001b[39;00m \u001b[39mas\u001b[39;00m \u001b[39mnp\u001b[39;00m\n\u001b[1;32m      6\u001b[0m QC \u001b[39m=\u001b[39m QuantumCircuit(\u001b[39m2\u001b[39m)\n\u001b[0;32m----> 7\u001b[0m QC\u001b[39m.\u001b[39;49minitialize([\u001b[39m0.2\u001b[39;49m, \u001b[39m0\u001b[39;49m,\u001b[39m0\u001b[39;49m,\u001b[39m0.8\u001b[39;49m], [\u001b[39m0\u001b[39;49m,\u001b[39m1\u001b[39;49m])\n\u001b[1;32m      8\u001b[0m QC\u001b[39m.\u001b[39mdraw(output\u001b[39m=\u001b[39m\u001b[39m\"\u001b[39m\u001b[39mmpl\u001b[39m\u001b[39m\"\u001b[39m)\n",
      "File \u001b[0;32m~/opt/anaconda3/envs/QCML/lib/python3.9/site-packages/qiskit/extensions/quantum_initializer/initializer.py:191\u001b[0m, in \u001b[0;36minitialize\u001b[0;34m(self, params, qubits)\u001b[0m\n\u001b[1;32m    188\u001b[0m     qubits \u001b[39m=\u001b[39m [qubits]\n\u001b[1;32m    189\u001b[0m num_qubits \u001b[39m=\u001b[39m \u001b[39mlen\u001b[39m(qubits) \u001b[39mif\u001b[39;00m \u001b[39misinstance\u001b[39m(params, \u001b[39mint\u001b[39m) \u001b[39melse\u001b[39;00m \u001b[39mNone\u001b[39;00m\n\u001b[0;32m--> 191\u001b[0m \u001b[39mreturn\u001b[39;00m \u001b[39mself\u001b[39m\u001b[39m.\u001b[39mappend(Initialize(params, num_qubits), qubits)\n",
      "File \u001b[0;32m~/opt/anaconda3/envs/QCML/lib/python3.9/site-packages/qiskit/extensions/quantum_initializer/initializer.py:57\u001b[0m, in \u001b[0;36mInitialize.__init__\u001b[0;34m(self, params, num_qubits)\u001b[0m\n\u001b[1;32m     36\u001b[0m \u001b[39mdef\u001b[39;00m \u001b[39m__init__\u001b[39m(\u001b[39mself\u001b[39m, params, num_qubits\u001b[39m=\u001b[39m\u001b[39mNone\u001b[39;00m):\n\u001b[1;32m     37\u001b[0m     \u001b[39mr\u001b[39m\u001b[39m\"\"\"Create new initialize composite.\u001b[39;00m\n\u001b[1;32m     38\u001b[0m \n\u001b[1;32m     39\u001b[0m \u001b[39m    Args:\u001b[39;00m\n\u001b[0;32m   (...)\u001b[0m\n\u001b[1;32m     55\u001b[0m \u001b[39m            and the remaining 3 qubits to be initialized to :math:`|0\\rangle`.\u001b[39;00m\n\u001b[1;32m     56\u001b[0m \u001b[39m    \"\"\"\u001b[39;00m\n\u001b[0;32m---> 57\u001b[0m     \u001b[39mself\u001b[39m\u001b[39m.\u001b[39m_stateprep \u001b[39m=\u001b[39m StatePreparation(params, num_qubits)\n\u001b[1;32m     59\u001b[0m     \u001b[39msuper\u001b[39m()\u001b[39m.\u001b[39m\u001b[39m__init__\u001b[39m(\u001b[39m\"\u001b[39m\u001b[39minitialize\u001b[39m\u001b[39m\"\u001b[39m, \u001b[39mself\u001b[39m\u001b[39m.\u001b[39m_stateprep\u001b[39m.\u001b[39mnum_qubits, \u001b[39m0\u001b[39m, \u001b[39mself\u001b[39m\u001b[39m.\u001b[39m_stateprep\u001b[39m.\u001b[39mparams)\n",
      "File \u001b[0;32m~/opt/anaconda3/envs/QCML/lib/python3.9/site-packages/qiskit/circuit/library/data_preparation/state_preparation.py:99\u001b[0m, in \u001b[0;36mStatePreparation.__init__\u001b[0;34m(self, params, num_qubits, inverse, label)\u001b[0m\n\u001b[1;32m     96\u001b[0m \u001b[39mself\u001b[39m\u001b[39m.\u001b[39m_from_label \u001b[39m=\u001b[39m \u001b[39misinstance\u001b[39m(params, \u001b[39mstr\u001b[39m)\n\u001b[1;32m     97\u001b[0m \u001b[39mself\u001b[39m\u001b[39m.\u001b[39m_from_int \u001b[39m=\u001b[39m \u001b[39misinstance\u001b[39m(params, \u001b[39mint\u001b[39m)\n\u001b[0;32m---> 99\u001b[0m num_qubits \u001b[39m=\u001b[39m \u001b[39mself\u001b[39;49m\u001b[39m.\u001b[39;49m_get_num_qubits(num_qubits, params)\n\u001b[1;32m    101\u001b[0m params \u001b[39m=\u001b[39m [params] \u001b[39mif\u001b[39;00m \u001b[39misinstance\u001b[39m(params, \u001b[39mint\u001b[39m) \u001b[39melse\u001b[39;00m params\n\u001b[1;32m    103\u001b[0m \u001b[39msuper\u001b[39m()\u001b[39m.\u001b[39m\u001b[39m__init__\u001b[39m(\u001b[39mself\u001b[39m\u001b[39m.\u001b[39m_name, num_qubits, params, label\u001b[39m=\u001b[39m\u001b[39mself\u001b[39m\u001b[39m.\u001b[39m_label)\n",
      "File \u001b[0;32m~/opt/anaconda3/envs/QCML/lib/python3.9/site-packages/qiskit/circuit/library/data_preparation/state_preparation.py:202\u001b[0m, in \u001b[0;36mStatePreparation._get_num_qubits\u001b[0;34m(self, num_qubits, params)\u001b[0m\n\u001b[1;32m    200\u001b[0m     \u001b[39m# Check if probabilities (amplitudes squared) sum to 1\u001b[39;00m\n\u001b[1;32m    201\u001b[0m     \u001b[39mif\u001b[39;00m \u001b[39mnot\u001b[39;00m math\u001b[39m.\u001b[39misclose(\u001b[39msum\u001b[39m(np\u001b[39m.\u001b[39mabsolute(params) \u001b[39m*\u001b[39m\u001b[39m*\u001b[39m \u001b[39m2\u001b[39m), \u001b[39m1.0\u001b[39m, abs_tol\u001b[39m=\u001b[39m_EPS):\n\u001b[0;32m--> 202\u001b[0m         \u001b[39mraise\u001b[39;00m QiskitError(\u001b[39m\"\u001b[39m\u001b[39mSum of amplitudes-squared does not equal one.\u001b[39m\u001b[39m\"\u001b[39m)\n\u001b[1;32m    204\u001b[0m     num_qubits \u001b[39m=\u001b[39m \u001b[39mint\u001b[39m(num_qubits)\n\u001b[1;32m    205\u001b[0m \u001b[39mreturn\u001b[39;00m num_qubits\n",
      "\u001b[0;31mQiskitError\u001b[0m: 'Sum of amplitudes-squared does not equal one.'"
     ]
    }
   ],
   "source": [
    "from qiskit import *\n",
    "from qiskit.quantum_info import Statevector\n",
    "from qiskit.circuit.library import RYGate\n",
    "import numpy as np\n",
    "\n",
    "QC = QuantumCircuit(2)\n",
    "QC.initialize([np.sqrt(0.2), 0,0,np.sqrt(0.8)], [0,1])\n",
    "QC.draw(output=\"mpl\")"
   ]
  },
  {
   "cell_type": "code",
   "execution_count": 16,
   "metadata": {},
   "outputs": [
    {
     "data": {
      "text/latex": [
       "$$0.6881909602 |000\\rangle+0.601500955 |011\\rangle+0.1624598481 |100\\rangle+0.3717480345 |111\\rangle$$"
      ],
      "text/plain": [
       "<IPython.core.display.Latex object>"
      ]
     },
     "execution_count": 16,
     "metadata": {},
     "output_type": "execute_result"
    }
   ],
   "source": [
    "state = Statevector(QC)\n",
    "state.draw(output=\"Latex\")"
   ]
  },
  {
   "cell_type": "code",
   "execution_count": null,
   "metadata": {},
   "outputs": [],
   "source": []
  }
 ],
 "metadata": {
  "kernelspec": {
   "display_name": "QCML",
   "language": "python",
   "name": "python3"
  },
  "language_info": {
   "codemirror_mode": {
    "name": "ipython",
    "version": 3
   },
   "file_extension": ".py",
   "mimetype": "text/x-python",
   "name": "python",
   "nbconvert_exporter": "python",
   "pygments_lexer": "ipython3",
   "version": "3.9.16"
  },
  "orig_nbformat": 4
 },
 "nbformat": 4,
 "nbformat_minor": 2
}

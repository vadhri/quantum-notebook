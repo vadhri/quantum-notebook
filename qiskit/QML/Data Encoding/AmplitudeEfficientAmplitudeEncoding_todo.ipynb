{
 "cells": [
  {
   "cell_type": "code",
   "execution_count": 26,
   "metadata": {},
   "outputs": [],
   "source": [
    "from qiskit import *\n",
    "from qiskit.quantum_info import *\n",
    "from qiskit.circuit.library import *\n",
    "\n",
    "import math "
   ]
  },
  {
   "cell_type": "code",
   "execution_count": 27,
   "metadata": {},
   "outputs": [
    {
     "name": "stdout",
     "output_type": "stream",
     "text": [
      "1 1 -2.0137073708685356\n",
      "1 2 -1.2309594173407745\n",
      "1 3 0\n",
      "1 4 0\n",
      "2 1 -1.159279480727409\n",
      "2 2 0\n",
      "3 1 0\n"
     ]
    },
    {
     "data": {
      "text/latex": [
       "$$\\frac{\\sqrt{5}}{5} |000\\rangle+\\frac{\\sqrt{2}}{2} |001\\rangle+\\frac{\\sqrt{5}}{5} |010\\rangle+\\frac{\\sqrt{10}}{10} |011\\rangle$$"
      ],
      "text/plain": [
       "<IPython.core.display.Latex object>"
      ]
     },
     "execution_count": 27,
     "metadata": {},
     "output_type": "execute_result"
    }
   ],
   "source": [
    "def beta_j_s(j, s, alpha):\n",
    "    num = math.sqrt(sum([alpha[(((2*j)-1)*(2**(s-1)))+l]**1 for l in range(1,2**(s-1)+1)]))\n",
    "    den = math.sqrt(sum([alpha[((j-1)*(2**s))+l]**1 for l in range(1,2**s+1)]))\n",
    "    return (-2*math.asin(num/den) if num else 0)\n",
    "\n",
    "alpha = [0,0.2,0.5,0.2,0.1,0,0,0,0]\n",
    "alpha_sqrt = [math.sqrt(i) for i in alpha]\n",
    "num_qubits = 3\n",
    "\n",
    "h = {}\n",
    "\n",
    "s = 1\n",
    "for i in range(num_qubits):\n",
    "    total = 2**(num_qubits-s)\n",
    "    jlist = range(1, total+1)\n",
    "\n",
    "    for j in jlist:\n",
    "        h[(s,j)] = beta_j_s(j,s,alpha)\n",
    "        print (s,j, h[(s,j)])\n",
    "\n",
    "    s += 1\n",
    "\n",
    "QC = QuantumCircuit(num_qubits)\n",
    "QC.initialize(alpha_sqrt[1:], list(range(num_qubits)))\n",
    "state = Statevector(QC)\n",
    "state.draw(output=\"Latex\")"
   ]
  },
  {
   "cell_type": "code",
   "execution_count": 28,
   "metadata": {},
   "outputs": [
    {
     "name": "stdout",
     "output_type": "stream",
     "text": [
      "1 1 -2.0137073708685356 [0, 1]\n",
      "cond_qubits ->  [] [2]\n",
      "1 2 -1.2309594173407745 [0, 1]\n",
      "cond_qubits ->  [1] [2]\n",
      "1 3 0 [0, 1]\n",
      "cond_qubits ->  [0] [2]\n",
      "1 4 0 [0, 1]\n",
      "cond_qubits ->  [0, 1] [2]\n",
      "2 1 -1.159279480727409 [0]\n",
      "cond_qubits ->  [] [1]\n",
      "2 2 0 [0]\n",
      "cond_qubits ->  [0] [1]\n",
      "3 1 0 []\n",
      "cond_qubits ->  [] [0]\n"
     ]
    },
    {
     "data": {
      "image/png": "[encoded data removed]",
      "text/plain": [
       "<Figure size 1625.27x284.278 with 1 Axes>"
      ]
     },
     "execution_count": 28,
     "metadata": {},
     "output_type": "execute_result"
    }
   ],
   "source": [
    "for s in range(1,num_qubits+1):\n",
    "    for j in range(1, 2**(num_qubits-s)+1):\n",
    "        print (s,j, h[(s,j)], list(range(0,num_qubits-s)))\n",
    "        sint = '{:0'+str(num_qubits-s)+'b}'\n",
    "\n",
    "\n",
    "        cond_qubits = []\n",
    "        for sj,sp in zip(sint.format(j-1), range(0,num_qubits-s)):\n",
    "            if sj == '1':\n",
    "                cond_qubits.append(sp)\n",
    "\n",
    "        print ('cond_qubits -> ', cond_qubits, list([num_qubits-s]))\n",
    "\n",
    "        if len(cond_qubits):\n",
    "            gate = RYGate(h[(s,j)]).control(len(cond_qubits))\n",
    "            QC.append(gate, cond_qubits+[num_qubits-s])\n",
    "        else:\n",
    "            QC.ry(h[(s,j)], num_qubits-s)\n",
    "\n",
    "        QC.barrier()\n",
    "\n",
    "QC.draw(output='mpl')"
   ]
  },
  {
   "cell_type": "code",
   "execution_count": 29,
   "metadata": {},
   "outputs": [
    {
     "data": {
      "text/latex": [
       "$$0.1873816358 |000\\rangle+0.3073052351 |001\\rangle-0.1502056038 |010\\rangle-0.2206490588 |011\\rangle-0.5608515116 |100\\rangle-0.6729751093 |101\\rangle-0.1666492758 |110\\rangle+0.0631029914 |111\\rangle$$"
      ],
      "text/plain": [
       "<IPython.core.display.Latex object>"
      ]
     },
     "execution_count": 29,
     "metadata": {},
     "output_type": "execute_result"
    }
   ],
   "source": [
    "state = Statevector(QC)\n",
    "state.draw(output=\"Latex\")"
   ]
  }
 ],
 "metadata": {
  "kernelspec": {
   "display_name": "QCML",
   "language": "python",
   "name": "python3"
  },
  "language_info": {
   "codemirror_mode": {
    "name": "ipython",
    "version": 3
   },
   "file_extension": ".py",
   "mimetype": "text/x-python",
   "name": "python",
   "nbconvert_exporter": "python",
   "pygments_lexer": "ipython3",
   "version": "3.9.16"
  },
  "orig_nbformat": 4
 },
 "nbformat": 4,
 "nbformat_minor": 2
}

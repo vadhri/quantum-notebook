{
 "cells": [
  {
   "cell_type": "code",
   "execution_count": 344,
   "metadata": {},
   "outputs": [],
   "source": [
    "from qiskit import *\n",
    "from qiskit.quantum_info import *\n",
    "from qiskit.circuit.library import *\n",
    "\n",
    "import math "
   ]
  },
  {
   "cell_type": "code",
   "execution_count": 345,
   "metadata": {},
   "outputs": [
    {
     "name": "stdout",
     "output_type": "stream",
     "text": [
      "1 1 2.0137073708685356\n",
      "1 2 1.2309594173407745\n",
      "2 1 1.159279480727409\n"
     ]
    },
    {
     "data": {
      "text/latex": [
       "$$ |00\\rangle$$"
      ],
      "text/plain": [
       "<IPython.core.display.Latex object>"
      ]
     },
     "execution_count": 345,
     "metadata": {},
     "output_type": "execute_result"
    }
   ],
   "source": [
    "def beta_j_s(j, s, alpha):\n",
    "    num = math.sqrt(sum([alpha[(((2*j)-1)*(2**(s-1)))+l]**1 for l in range(1,2**(s-1)+1)]))\n",
    "    den = math.sqrt(sum([alpha[((j-1)*(2**s))+l]**1 for l in range(1,2**s+1)]))\n",
    "    return (2*math.asin(num/den) if num else 0)\n",
    "\n",
    "alpha = [0,0.2,0.5,0.2,0.1]\n",
    "num_qubits = 2\n",
    "\n",
    "h = {}\n",
    "\n",
    "s = 1\n",
    "for i in range(num_qubits):\n",
    "    total = 2**(num_qubits-s)\n",
    "    jlist = range(1, total+1)\n",
    "\n",
    "    for j in jlist:\n",
    "        h[(s,j)] = beta_j_s(j,s,alpha)\n",
    "        print (s,j, h[(s,j)])\n",
    "\n",
    "    s += 1\n",
    "\n",
    "QC = QuantumCircuit(num_qubits)\n",
    "\n",
    "state = Statevector(QC)\n",
    "state.draw(output=\"Latex\")"
   ]
  },
  {
   "cell_type": "code",
   "execution_count": 346,
   "metadata": {},
   "outputs": [
    {
     "name": "stdout",
     "output_type": "stream",
     "text": [
      "1 1 2.0137073708685356 [0]\n",
      "cond_qubits ->  [] [1]\n",
      "1 2 1.2309594173407745 [0]\n",
      "cond_qubits ->  [0] [1]\n",
      "2 1 1.159279480727409 []\n",
      "cond_qubits ->  [] [0]\n"
     ]
    },
    {
     "data": {
      "image/png": "[encoded data removed]",
      "text/plain": [
       "<Figure size 621.739x200.667 with 1 Axes>"
      ]
     },
     "execution_count": 346,
     "metadata": {},
     "output_type": "execute_result"
    }
   ],
   "source": [
    "for s in range(1,num_qubits+1):\n",
    "    for j in range(1, 2**(num_qubits-s)+1):\n",
    "        print (s,j, h[(s,j)], list(range(0,num_qubits-s)))\n",
    "        sint = '{:0'+str(num_qubits-s)+'b}'\n",
    "        \n",
    "        if not h[(s,j)]:\n",
    "            continue\n",
    "\n",
    "        cond_qubits = []\n",
    "        for sj,sp in zip(sint.format(j-1), range(0,num_qubits-s)):\n",
    "            if sj == '1':\n",
    "                cond_qubits.append(sp)\n",
    "\n",
    "        print ('cond_qubits -> ', cond_qubits, list([num_qubits-s]))\n",
    "\n",
    "        if len(cond_qubits):\n",
    "            gate = RYGate(h[(s,j)]).control(len(cond_qubits))\n",
    "            QC.append(gate, cond_qubits+[num_qubits-s])\n",
    "        else:\n",
    "            QC.ry(h[(s,j)], num_qubits-s)\n",
    "\n",
    "        QC.barrier()\n",
    "\n",
    "QC.draw(output='mpl')"
   ]
  },
  {
   "cell_type": "code",
   "execution_count": 347,
   "metadata": {},
   "outputs": [
    {
     "data": {
      "text/latex": [
       "$$\\frac{\\sqrt{5}}{5} |00\\rangle+0.292770021885 |01\\rangle+\\frac{\\sqrt{2}}{2} |10\\rangle+\\frac{\\sqrt{42}}{14} |11\\rangle$$"
      ],
      "text/plain": [
       "<IPython.core.display.Latex object>"
      ]
     },
     "execution_count": 347,
     "metadata": {},
     "output_type": "execute_result"
    }
   ],
   "source": [
    "state = Statevector(QC)\n",
    "state.draw(output=\"Latex\")"
   ]
  }
 ],
 "metadata": {
  "kernelspec": {
   "display_name": "QCML",
   "language": "python",
   "name": "python3"
  },
  "language_info": {
   "codemirror_mode": {
    "name": "ipython",
    "version": 3
   },
   "file_extension": ".py",
   "mimetype": "text/x-python",
   "name": "python",
   "nbconvert_exporter": "python",
   "pygments_lexer": "ipython3",
   "version": "3.9.16"
  },
  "orig_nbformat": 4
 },
 "nbformat": 4,
 "nbformat_minor": 2
}

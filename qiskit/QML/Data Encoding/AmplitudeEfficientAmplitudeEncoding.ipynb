{
 "cells": [
  {
   "attachments": {},
   "cell_type": "markdown",
   "metadata": {},
   "source": [
    "#### Encode inputs into the amplitude of a vector using rotation encoding."
   ]
  },
  {
   "cell_type": "code",
   "execution_count": 1,
   "metadata": {},
   "outputs": [],
   "source": [
    "from qiskit import *\n",
    "from qiskit.quantum_info import *\n",
    "from qiskit.circuit.library import *\n",
    "\n",
    "import math \n",
    "import numpy as np\n",
    "from random import randrange"
   ]
  },
  {
   "cell_type": "code",
   "execution_count": 2,
   "metadata": {},
   "outputs": [
    {
     "data": {
      "text/plain": [
       "[0.10852851252348514,\n",
       " 0.27793807862864467,\n",
       " 0.2307991578696609,\n",
       " 0.07912402419893048,\n",
       " 0.29694968790639936,\n",
       " 0.30050184397819496,\n",
       " 0.3156568057483953,\n",
       " 0.16988960762091695,\n",
       " 0.21997067253202995,\n",
       " 0.2854716408418839,\n",
       " 0.24528663804772127,\n",
       " 0.2101014388361457,\n",
       " 0.26940795304016235,\n",
       " 0.3144780352186374,\n",
       " 0.2992633854215878,\n",
       " 0.22189185025329008]"
      ]
     },
     "execution_count": 2,
     "metadata": {},
     "output_type": "execute_result"
    }
   ],
   "source": [
    "def beta_j_s(j, s, alpha):\n",
    "    num = math.sqrt(sum([alpha[(((2*j)-1)*(2**(s-1)))+l]**1 for l in range(1,2**(s-1)+1)]))\n",
    "    den = math.sqrt(sum([alpha[((j-1)*(2**s))+l]**1 for l in range(1,2**s+1)]))\n",
    "    return (2*math.asin(num/den) if num else 0)\n",
    "\n",
    "alpha = [0]+[randrange(1,1000) for _ in range(16) ]\n",
    "alpha = np.round(alpha/np.linalg.norm(alpha,1.0), 20)\n",
    "\n",
    "num_qubits = int(np.ceil(np.log2(len(alpha)-1)))\n",
    "total_len = 2**num_qubits\n",
    "alpha = np.append(alpha, [0]*(total_len-len(alpha)+1))\n",
    "[np.sqrt(i) for i in alpha[1:]]"
   ]
  },
  {
   "attachments": {},
   "cell_type": "markdown",
   "metadata": {},
   "source": [
    "#### Calculate the rotation angles."
   ]
  },
  {
   "cell_type": "code",
   "execution_count": 3,
   "metadata": {},
   "outputs": [
    {
     "name": "stdout",
     "output_type": "stream",
     "text": [
      "[0.         0.01177844 0.07724958 0.05326825 0.00626061 0.08817912\n",
      " 0.09030136 0.09963922 0.02886248 0.0483871  0.08149406 0.06016553\n",
      " 0.04414261 0.07258065 0.09889643 0.08955857 0.04923599] 4\n",
      "(1, 1) 2.3970520533129034\n",
      "(1, 2) 0.6605395341150059\n",
      "(1, 3) 1.5826872134288987\n",
      "(1, 4) 0.9874924915268188\n",
      "(1, 5) 1.8285426402586566\n",
      "(1, 6) 1.4165743126096049\n",
      "(1, 7) 1.7248705413149577\n",
      "(1, 8) 1.2760262225663512\n",
      "(2, 1) 1.3708962192254706\n",
      "(2, 2) 1.4072616079273241\n",
      "(2, 3) 1.4613801310697028\n",
      "(2, 4) 1.4652653994595242\n",
      "(3, 1) 1.9259937252218424\n",
      "(3, 2) 1.7109939911577978\n",
      "(4, 1) 1.6598358330618797\n"
     ]
    },
    {
     "data": {
      "text/latex": [
       "$$ |0000\\rangle$$"
      ],
      "text/plain": [
       "<IPython.core.display.Latex object>"
      ]
     },
     "execution_count": 3,
     "metadata": {},
     "output_type": "execute_result"
    }
   ],
   "source": [
    "print (alpha, num_qubits)\n",
    "\n",
    "h = {}\n",
    "\n",
    "s = 1\n",
    "for i in range(num_qubits):\n",
    "    total = 2**(num_qubits-s)\n",
    "    jlist = range(1, total+1)\n",
    "\n",
    "    for j in jlist:\n",
    "        h[(s,j)] = beta_j_s(j,s,alpha)\n",
    "        print ((s,j), h[(s,j)])\n",
    "\n",
    "    s += 1\n",
    "\n",
    "QC = QuantumCircuit(num_qubits)\n",
    "state = Statevector(QC)\n",
    "state.draw(output=\"Latex\")"
   ]
  },
  {
   "cell_type": "code",
   "execution_count": 4,
   "metadata": {},
   "outputs": [
    {
     "name": "stdout",
     "output_type": "stream",
     "text": [
      "Beta  (4, 1) 0 Binary string :   1.6598358330618797\n",
      "Beta  (3, 1) 1 Binary string :  0 1.9259937252218424\n",
      "Beta  (3, 2) 1 Binary string :  1 1.7109939911577978\n",
      "Beta  (2, 1) 2 Binary string :  00 1.3708962192254706\n",
      "Beta  (2, 2) 2 Binary string :  01 1.4072616079273241\n",
      "Beta  (2, 3) 2 Binary string :  10 1.4613801310697028\n",
      "Beta  (2, 4) 2 Binary string :  11 1.4652653994595242\n",
      "Beta  (1, 1) 3 Binary string :  000 2.3970520533129034\n",
      "Beta  (1, 2) 3 Binary string :  001 0.6605395341150059\n",
      "Beta  (1, 3) 3 Binary string :  010 1.5826872134288987\n",
      "Beta  (1, 4) 3 Binary string :  011 0.9874924915268188\n",
      "Beta  (1, 5) 3 Binary string :  100 1.8285426402586566\n",
      "Beta  (1, 6) 3 Binary string :  101 1.4165743126096049\n",
      "Beta  (1, 7) 3 Binary string :  110 1.7248705413149577\n",
      "Beta  (1, 8) 3 Binary string :  111 1.2760262225663512\n"
     ]
    },
    {
     "data": {
      "image/png": "[encoded data removed]",
      "text/plain": [
       "<Figure size 1105.28x392.972 with 1 Axes>"
      ]
     },
     "execution_count": 4,
     "metadata": {},
     "output_type": "execute_result"
    }
   ],
   "source": [
    "for wire in range(num_qubits, 0, -1):\n",
    "    for j in range(1, 2**(num_qubits-wire)+1):\n",
    "        bitstring = format(j-1, \"#010b\")[-(num_qubits-wire):] if wire != num_qubits else \"\"\n",
    "        print (\"Beta \", (wire,j),num_qubits-wire, \"Binary string : \", bitstring, h[(wire,j)])\n",
    "        control_wires = []\n",
    "        \n",
    "        if not h[(wire,j)]: \n",
    "            continue\n",
    "\n",
    "        for i,b in zip(bitstring, range(wire, num_qubits)):\n",
    "            if i == '0': \n",
    "                QC.x(b)\n",
    "            control_wires.append(b)\n",
    "                \n",
    "        G = RYGate(h[(wire,j)], label=\"RY(\" + str(wire) + str(j) + \")\").control(len(control_wires)) if len(control_wires) else RYGate(h[(wire,j)])\n",
    "        QC.append(G, control_wires + [wire-1])\n",
    "\n",
    "        for i,b in zip(bitstring, range(wire, num_qubits)):\n",
    "            if i == '0': \n",
    "                QC.x(b)\n",
    "\n",
    "QC.draw(output='mpl', scale=0.5)"
   ]
  },
  {
   "cell_type": "code",
   "execution_count": 5,
   "metadata": {},
   "outputs": [
    {
     "data": {
      "text/latex": [
       "$$0.1085285125 |0000\\rangle+0.2779380786 |0001\\rangle+0.1489208493 |0010\\rangle+0.1932652145 |0011\\rangle+0.2900237987 |0100\\rangle+0.2934931063 |0101\\rangle + \\ldots +0.2036813613 |1011\\rangle+0.3646395434 |1100\\rangle+0.1962526004 |1101\\rangle+0.2992633854 |1110\\rangle+0.2218918503 |1111\\rangle$$"
      ],
      "text/plain": [
       "<IPython.core.display.Latex object>"
      ]
     },
     "execution_count": 5,
     "metadata": {},
     "output_type": "execute_result"
    }
   ],
   "source": [
    "state = Statevector(QC)\n",
    "state.draw(output=\"Latex\")"
   ]
  }
 ],
 "metadata": {
  "kernelspec": {
   "display_name": "QCML",
   "language": "python",
   "name": "python3"
  },
  "language_info": {
   "codemirror_mode": {
    "name": "ipython",
    "version": 3
   },
   "file_extension": ".py",
   "mimetype": "text/x-python",
   "name": "python",
   "nbconvert_exporter": "python",
   "pygments_lexer": "ipython3",
   "version": "3.9.16"
  },
  "orig_nbformat": 4
 },
 "nbformat": 4,
 "nbformat_minor": 2
}

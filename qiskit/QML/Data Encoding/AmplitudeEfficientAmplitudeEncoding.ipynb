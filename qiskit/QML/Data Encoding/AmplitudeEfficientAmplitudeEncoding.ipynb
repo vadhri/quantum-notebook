{
 "cells": [
  {
   "attachments": {},
   "cell_type": "markdown",
   "metadata": {},
   "source": [
    "#### Encode inputs into the amplitude of a vector using rotation encoding."
   ]
  },
  {
   "cell_type": "code",
   "execution_count": 1,
   "metadata": {},
   "outputs": [],
   "source": [
    "from qiskit import *\n",
    "from qiskit.quantum_info import *\n",
    "from qiskit.circuit.library import *\n",
    "\n",
    "import math \n",
    "import numpy as np\n",
    "from random import randrange"
   ]
  },
  {
   "cell_type": "code",
   "execution_count": 2,
   "metadata": {},
   "outputs": [
    {
     "data": {
      "text/plain": [
       "[0.447213595499958, 0.7071067811865476, 0.447213595499958, 0.31622776601683794]"
      ]
     },
     "execution_count": 2,
     "metadata": {},
     "output_type": "execute_result"
    }
   ],
   "source": [
    "def beta_j_s(j, s, alpha):\n",
    "    num = math.sqrt(sum([alpha[(((2*j)-1)*(2**(s-1)))+l]**1 for l in range(1,2**(s-1)+1)]))\n",
    "    den = math.sqrt(sum([alpha[((j-1)*(2**s))+l]**1 for l in range(1,2**s+1)]))\n",
    "    return (2*math.asin(num/den) if num else 0)\n",
    "\n",
    "alpha = [0]+[0.2, 0.8]\n",
    "alpha = [0] + [0.2,0.5,0.2,0.1]\n",
    "# alpha = [0 ,963, 383, 863, 351, 648, 784, 182, 39, 77, 654]\n",
    "\n",
    "\n",
    "alpha = np.round(alpha/np.linalg.norm(alpha,1.0), 20)\n",
    "\n",
    "num_qubits = int(np.ceil(np.log2(len(alpha)-1)))\n",
    "total_len = 2**num_qubits\n",
    "alpha = np.append(alpha, [0]*(total_len-len(alpha)+1))\n",
    "[np.sqrt(i) for i in alpha[1:]]"
   ]
  },
  {
   "attachments": {},
   "cell_type": "markdown",
   "metadata": {},
   "source": [
    "#### Calculate the rotation angles."
   ]
  },
  {
   "cell_type": "code",
   "execution_count": 3,
   "metadata": {},
   "outputs": [
    {
     "name": "stdout",
     "output_type": "stream",
     "text": [
      "[0.  0.2 0.5 0.2 0.1] 2\n",
      "(1, 1) 2.013707370868535\n",
      "(1, 2) 1.2309594173407745\n",
      "(2, 1) 1.1592794807274087\n"
     ]
    },
    {
     "data": {
      "text/latex": [
       "$$ |00\\rangle$$"
      ],
      "text/plain": [
       "<IPython.core.display.Latex object>"
      ]
     },
     "execution_count": 3,
     "metadata": {},
     "output_type": "execute_result"
    }
   ],
   "source": [
    "print (alpha, num_qubits)\n",
    "\n",
    "h = {}\n",
    "\n",
    "s = 1\n",
    "for i in range(num_qubits):\n",
    "    total = 2**(num_qubits-s)\n",
    "    jlist = range(1, total+1)\n",
    "\n",
    "    for j in jlist:\n",
    "        h[(s,j)] = beta_j_s(j,s,alpha)\n",
    "        print ((s,j), h[(s,j)])\n",
    "\n",
    "    s += 1\n",
    "\n",
    "QC = QuantumCircuit(num_qubits)\n",
    "state = Statevector(QC)\n",
    "state.draw(output=\"Latex\")"
   ]
  },
  {
   "cell_type": "code",
   "execution_count": 4,
   "metadata": {},
   "outputs": [
    {
     "name": "stdout",
     "output_type": "stream",
     "text": [
      "Beta  (2, 1) 0 Binary string :   1.1592794807274087\n",
      "Beta  (1, 1) 1 Binary string :  0 2.013707370868535\n",
      "Beta  (1, 2) 1 Binary string :  1 1.2309594173407745\n"
     ]
    },
    {
     "data": {
      "image/png": "[encoded data removed]",
      "text/plain": [
       "<Figure size 705.35x200.667 with 1 Axes>"
      ]
     },
     "execution_count": 4,
     "metadata": {},
     "output_type": "execute_result"
    }
   ],
   "source": [
    "for wire in range(num_qubits, 0, -1):\n",
    "    for j in range(1, 2**(num_qubits-wire)+1):\n",
    "        bitstring = format(j-1, \"#010b\")[-(num_qubits-wire):] if wire != num_qubits else \"\"\n",
    "        print (\"Beta \", (wire,j),num_qubits-wire, \"Binary string : \", bitstring, h[(wire,j)])\n",
    "        control_wires = []\n",
    "        \n",
    "        if not h[(wire,j)]: \n",
    "            continue\n",
    "\n",
    "        for i,b in zip(bitstring, range(wire, num_qubits)):\n",
    "            if i == '0': \n",
    "                QC.x(b)\n",
    "            control_wires.append(b)\n",
    "                \n",
    "        G = RYGate(h[(wire,j)], label=\"RY(\" + str(wire) + str(j) + \")\").control(len(control_wires)) if len(control_wires) else RYGate(h[(wire,j)])\n",
    "        QC.append(G, control_wires + [wire-1])\n",
    "\n",
    "        for i,b in zip(bitstring, range(wire, num_qubits)):\n",
    "            if i == '0': \n",
    "                QC.x(b)\n",
    "\n",
    "QC.draw(output='mpl', scale=1)"
   ]
  },
  {
   "cell_type": "code",
   "execution_count": 5,
   "metadata": {},
   "outputs": [
    {
     "data": {
      "text/latex": [
       "$$\\frac{\\sqrt{5}}{5} |00\\rangle+\\frac{\\sqrt{2}}{2} |01\\rangle+\\frac{\\sqrt{5}}{5} |10\\rangle+\\frac{\\sqrt{10}}{10} |11\\rangle$$"
      ],
      "text/plain": [
       "<IPython.core.display.Latex object>"
      ]
     },
     "execution_count": 5,
     "metadata": {},
     "output_type": "execute_result"
    }
   ],
   "source": [
    "state = Statevector(QC)\n",
    "state.draw(output=\"Latex\")"
   ]
  }
 ],
 "metadata": {
  "kernelspec": {
   "display_name": "QCML",
   "language": "python",
   "name": "python3"
  },
  "language_info": {
   "codemirror_mode": {
    "name": "ipython",
    "version": 3
   },
   "file_extension": ".py",
   "mimetype": "text/x-python",
   "name": "python",
   "nbconvert_exporter": "python",
   "pygments_lexer": "ipython3",
   "version": "3.9.16"
  },
  "orig_nbformat": 4
 },
 "nbformat": 4,
 "nbformat_minor": 2
}

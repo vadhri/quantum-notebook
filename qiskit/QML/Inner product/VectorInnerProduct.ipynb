{
 "cells": [
  {
   "attachments": {},
   "cell_type": "markdown",
   "metadata": {},
   "source": [
    "Inner product between vectors ( overlap ) using swap test. "
   ]
  },
  {
   "cell_type": "code",
   "execution_count": 7,
   "metadata": {},
   "outputs": [],
   "source": [
    "from qiskit_ibm_runtime import QiskitRuntimeService"
   ]
  },
  {
   "cell_type": "code",
   "execution_count": 8,
   "metadata": {},
   "outputs": [
    {
     "data": {
      "text/plain": [
       "<qiskit.circuit.instructionset.InstructionSet at 0x7fb550d33ac0>"
      ]
     },
     "execution_count": 8,
     "metadata": {},
     "output_type": "execute_result"
    }
   ],
   "source": [
    "from qiskit import *\n",
    "from qiskit.quantum_info import Statevector\n",
    "from qiskit.visualization import plot_state_city, plot_bloch_multivector, plot_histogram\n",
    "from IPython.display import display, Latex\n",
    "from math import pi\n",
    "import math\n",
    "from qiskit.circuit.library import QFT, CUGate\n",
    "from qiskit.circuit.library import UGate\n",
    "\n",
    "import numpy as np\n",
    "\n",
    "qreg_q = QuantumRegister(3, 'q')\n",
    "creg_c = ClassicalRegister(1, 'c')\n",
    "circuit = QuantumCircuit(qreg_q, creg_c)\n",
    "\n",
    "circuit.h(qreg_q[1])\n",
    "circuit.x(qreg_q[0])\n",
    "\n",
    "circuit.barrier(qreg_q[0], qreg_q[1], qreg_q[2])\n",
    "circuit.h(qreg_q[2])\n",
    "circuit.barrier(qreg_q)\n",
    "circuit.cswap(qreg_q[2], qreg_q[0], qreg_q[1])\n",
    "circuit.h(qreg_q[2])\n",
    "circuit.barrier(qreg_q)"
   ]
  },
  {
   "cell_type": "code",
   "execution_count": 9,
   "metadata": {},
   "outputs": [
    {
     "data": {
      "text/latex": [
       "$$\\frac{\\sqrt{2}}{4} |001\\rangle+\\frac{\\sqrt{2}}{4} |010\\rangle+\\frac{\\sqrt{2}}{2} |011\\rangle+\\frac{\\sqrt{2}}{4} |101\\rangle- \\frac{\\sqrt{2}}{4} |110\\rangle$$"
      ],
      "text/plain": [
       "<IPython.core.display.Latex object>"
      ]
     },
     "execution_count": 9,
     "metadata": {},
     "output_type": "execute_result"
    }
   ],
   "source": [
    "state = Statevector(circuit)\n",
    "state.draw(output=\"Latex\")\n"
   ]
  },
  {
   "cell_type": "code",
   "execution_count": 10,
   "metadata": {},
   "outputs": [
    {
     "data": {
      "image/png": "[encoded data removed]",
      "text/plain": [
       "<Figure size 394.582x183.944 with 1 Axes>"
      ]
     },
     "execution_count": 10,
     "metadata": {},
     "output_type": "execute_result"
    }
   ],
   "source": [
    "circuit.measure(qreg_q[2], creg_c[0])\n",
    "circuit.draw(output='mpl', scale=0.5)"
   ]
  },
  {
   "cell_type": "code",
   "execution_count": 11,
   "metadata": {},
   "outputs": [
    {
     "name": "stdout",
     "output_type": "stream",
     "text": [
      "job id: dfab0adb-f080-4959-af3f-c3ad23f5114d\n"
     ]
    },
    {
     "data": {
      "image/png": "[encoded data removed]",
      "text/plain": [
       "<Figure size 200x200 with 1 Axes>"
      ]
     },
     "execution_count": 11,
     "metadata": {},
     "output_type": "execute_result"
    }
   ],
   "source": [
    "nShots = 5000\n",
    "backend = Aer.get_backend('aer_simulator_statevector') \n",
    "\n",
    "job = backend.run(circuit)\n",
    "print(f\"job id: {job.job_id()}\")\n",
    "result = job.result()\n",
    "plot_histogram(result.get_counts(), figsize=(2,2))"
   ]
  },
  {
   "cell_type": "code",
   "execution_count": 12,
   "metadata": {},
   "outputs": [
    {
     "name": "stdout",
     "output_type": "stream",
     "text": [
      "Squared Inner Product: 0.6928000000000001\n",
      "Counts:  {'1': 256, '0': 768}\n"
     ]
    }
   ],
   "source": [
    "counts = result.get_counts()\n",
    "if '0' in counts:\n",
    "    b = counts['0']\n",
    "else:\n",
    "    b = 0\n",
    "    \n",
    "s = abs(1 - (2*(b/nShots)))\n",
    "\n",
    "print(\"Squared Inner Product:\",str(s))\n",
    "print(\"Counts: \",counts)"
   ]
  }
 ],
 "metadata": {
  "kernelspec": {
   "display_name": "QCML",
   "language": "python",
   "name": "python3"
  },
  "language_info": {
   "codemirror_mode": {
    "name": "ipython",
    "version": 3
   },
   "file_extension": ".py",
   "mimetype": "text/x-python",
   "name": "python",
   "nbconvert_exporter": "python",
   "pygments_lexer": "ipython3",
   "version": "3.9.16"
  },
  "orig_nbformat": 4
 },
 "nbformat": 4,
 "nbformat_minor": 2
}

{
 "cells": [
  {
   "cell_type": "markdown",
   "metadata": {},
   "source": [
    "Apply the following phase operator to the state |00>\n",
    "\n",
    "$\\begin{bmatrix}\n",
    "    e^{-i\\pi/2} & 0 & 0 & 0 \\\\\n",
    "    0 & e^{-i\\pi/4} & 0 & 0 \\\\\n",
    "    0 & 0 & e^{-i\\pi/2} & 0 \\\\\n",
    "    0 & 0 & 0 & e^{-i\\pi/4} \n",
    "\\end{bmatrix}$"
   ]
  },
  {
   "cell_type": "code",
   "execution_count": 12,
   "metadata": {},
   "outputs": [
    {
     "data": {
      "image/png": "[encoded data removed]",
      "text/plain": [
       "<Figure size 1207.02x142.139 with 1 Axes>"
      ]
     },
     "execution_count": 12,
     "metadata": {},
     "output_type": "execute_result"
    }
   ],
   "source": [
    "from qiskit import *\n",
    "from qiskit.quantum_info import Statevector\n",
    "import numpy as np \n",
    "no_of_qubits = 2\n",
    "\n",
    "phases = {\n",
    "    '00': np.pi/4,\n",
    "    '01': -np.pi/2,\n",
    "    '10': -np.pi/4,\n",
    "    '11': np.pi/2,\n",
    "}\n",
    "\n",
    "q = QuantumRegister(no_of_qubits)\n",
    "a = QuantumRegister(1)\n",
    "\n",
    "QC = QuantumCircuit(q, a)\n",
    "\n",
    "for i in range(no_of_qubits):\n",
    "    QC.h(q[i])\n",
    "\n",
    "for xgates,phase in phases.items():\n",
    "    for n in range(no_of_qubits):\n",
    "        if xgates[n] == '0':\n",
    "            QC.x(q[n])\n",
    "    \n",
    "    # activate ancilla. \n",
    "    QC.ccx(q[0], q[1], a[0])\n",
    "\n",
    "    QC.cu(phase, 0,0,0, a[0], q[0])\n",
    "\n",
    "    # deactivate ancilla\n",
    "    QC.ccx(q[0], q[1], a[0])\n",
    "\n",
    "    for n in range(no_of_qubits):\n",
    "        if xgates[n] == '0':\n",
    "            QC.x(q[n])\n",
    "\n",
    "    QC.barrier()\n",
    "QC.draw(fold=1000, output=\"mpl\", scale=0.5)\n"
   ]
  },
  {
   "cell_type": "code",
   "execution_count": 13,
   "metadata": {},
   "outputs": [
    {
     "data": {
      "text/latex": [
       "$$0.4619397663 |000\\rangle+0.410163071 |001\\rangle+\\frac{\\sqrt{2}}{4} |010\\rangle+0.4492242487 |011\\rangle+0.3193582308 |100\\rangle+0.1280165146 |101\\rangle-0.2578825325 |110\\rangle+0.3266407412 |111\\rangle$$"
      ],
      "text/plain": [
       "<IPython.core.display.Latex object>"
      ]
     },
     "execution_count": 13,
     "metadata": {},
     "output_type": "execute_result"
    }
   ],
   "source": [
    "state = Statevector(QC)\n",
    "state.draw(output=\"Latex\")"
   ]
  }
 ],
 "metadata": {
  "kernelspec": {
   "display_name": "QCML",
   "language": "python",
   "name": "python3"
  },
  "language_info": {
   "codemirror_mode": {
    "name": "ipython",
    "version": 3
   },
   "file_extension": ".py",
   "mimetype": "text/x-python",
   "name": "python",
   "nbconvert_exporter": "python",
   "pygments_lexer": "ipython3",
   "version": "3.9.16"
  },
  "orig_nbformat": 4
 },
 "nbformat": 4,
 "nbformat_minor": 2
}

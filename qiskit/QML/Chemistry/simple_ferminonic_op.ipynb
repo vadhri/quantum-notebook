{
 "cells": [
  {
   "cell_type": "markdown",
   "metadata": {},
   "source": [
    "Find eigen value corresponding to fermionic operator +_1 -_2"
   ]
  },
  {
   "cell_type": "code",
   "execution_count": 1,
   "metadata": {},
   "outputs": [
    {
     "name": "stdout",
     "output_type": "stream",
     "text": [
      "Collecting qiskit_nature\n",
      "  Obtaining dependency information for qiskit_nature from https://files.pythonhosted.org/packages/9c/91/b2867b7cc8b0e81940d2a04e41f04024467e8055cf964ea4e22213f7e9a1/qiskit_nature-0.6.2-py3-none-any.whl.metadata\n",
      "  Downloading qiskit_nature-0.6.2-py3-none-any.whl.metadata (7.4 kB)\n",
      "Requirement already satisfied: qiskit-terra>=0.24 in /Users/venkat/opt/anaconda3/envs/QCML/lib/python3.9/site-packages (from qiskit_nature) (0.25.1)\n",
      "Requirement already satisfied: scipy>=1.4 in /Users/venkat/opt/anaconda3/envs/QCML/lib/python3.9/site-packages (from qiskit_nature) (1.10.0)\n",
      "Requirement already satisfied: numpy>=1.17 in /Users/venkat/opt/anaconda3/envs/QCML/lib/python3.9/site-packages (from qiskit_nature) (1.23.5)\n",
      "Requirement already satisfied: psutil>=5 in /Users/venkat/opt/anaconda3/envs/QCML/lib/python3.9/site-packages (from qiskit_nature) (5.9.0)\n",
      "Requirement already satisfied: scikit-learn>=0.20.0 in /Users/venkat/opt/anaconda3/envs/QCML/lib/python3.9/site-packages (from qiskit_nature) (1.2.2)\n",
      "Requirement already satisfied: setuptools>=40.1.0 in /Users/venkat/opt/anaconda3/envs/QCML/lib/python3.9/site-packages (from qiskit_nature) (65.6.3)\n",
      "Requirement already satisfied: typing-extensions in /Users/venkat/opt/anaconda3/envs/QCML/lib/python3.9/site-packages (from qiskit_nature) (4.4.0)\n",
      "Requirement already satisfied: h5py in /Users/venkat/opt/anaconda3/envs/QCML/lib/python3.9/site-packages (from qiskit_nature) (3.9.0)\n",
      "Requirement already satisfied: rustworkx in /Users/venkat/opt/anaconda3/envs/QCML/lib/python3.9/site-packages (from qiskit_nature) (0.13.1)\n",
      "Requirement already satisfied: ply>=3.10 in /Users/venkat/opt/anaconda3/envs/QCML/lib/python3.9/site-packages (from qiskit-terra>=0.24->qiskit_nature) (3.11)\n",
      "Requirement already satisfied: sympy>=1.3 in /Users/venkat/opt/anaconda3/envs/QCML/lib/python3.9/site-packages (from qiskit-terra>=0.24->qiskit_nature) (1.11.1)\n",
      "Requirement already satisfied: dill>=0.3 in /Users/venkat/opt/anaconda3/envs/QCML/lib/python3.9/site-packages (from qiskit-terra>=0.24->qiskit_nature) (0.3.6)\n",
      "Requirement already satisfied: python-dateutil>=2.8.0 in /Users/venkat/opt/anaconda3/envs/QCML/lib/python3.9/site-packages (from qiskit-terra>=0.24->qiskit_nature) (2.8.2)\n",
      "Requirement already satisfied: stevedore>=3.0.0 in /Users/venkat/opt/anaconda3/envs/QCML/lib/python3.9/site-packages (from qiskit-terra>=0.24->qiskit_nature) (5.0.0)\n",
      "Requirement already satisfied: symengine<0.10,>=0.9 in /Users/venkat/opt/anaconda3/envs/QCML/lib/python3.9/site-packages (from qiskit-terra>=0.24->qiskit_nature) (0.9.2)\n",
      "Requirement already satisfied: joblib>=1.1.1 in /Users/venkat/opt/anaconda3/envs/QCML/lib/python3.9/site-packages (from scikit-learn>=0.20.0->qiskit_nature) (1.2.0)\n",
      "Requirement already satisfied: threadpoolctl>=2.0.0 in /Users/venkat/opt/anaconda3/envs/QCML/lib/python3.9/site-packages (from scikit-learn>=0.20.0->qiskit_nature) (3.1.0)\n",
      "Requirement already satisfied: six>=1.5 in /Users/venkat/opt/anaconda3/envs/QCML/lib/python3.9/site-packages (from python-dateutil>=2.8.0->qiskit-terra>=0.24->qiskit_nature) (1.16.0)\n",
      "Requirement already satisfied: pbr!=2.1.0,>=2.0.0 in /Users/venkat/opt/anaconda3/envs/QCML/lib/python3.9/site-packages (from stevedore>=3.0.0->qiskit-terra>=0.24->qiskit_nature) (5.11.1)\n",
      "Requirement already satisfied: mpmath>=0.19 in /Users/venkat/opt/anaconda3/envs/QCML/lib/python3.9/site-packages (from sympy>=1.3->qiskit-terra>=0.24->qiskit_nature) (1.2.1)\n",
      "Downloading qiskit_nature-0.6.2-py3-none-any.whl (4.1 MB)\n",
      "\u001b[2K   \u001b[90m━━━━━━━━━━━━━━━━━━━━━━━━━━━━━━━━━━━━━━━━\u001b[0m \u001b[32m4.1/4.1 MB\u001b[0m \u001b[31m4.5 MB/s\u001b[0m eta \u001b[36m0:00:00\u001b[0m00:01\u001b[0m00:01\u001b[0m\n",
      "\u001b[?25hInstalling collected packages: qiskit_nature\n",
      "Successfully installed qiskit_nature-0.6.2\n"
     ]
    }
   ],
   "source": [
    "!pip install qiskit_nature"
   ]
  },
  {
   "cell_type": "code",
   "execution_count": 12,
   "metadata": {},
   "outputs": [
    {
     "name": "stdout",
     "output_type": "stream",
     "text": [
      "Fermionic Operator\n",
      "number spin orbitals=4, number terms=1\n",
      "  1.0 * ( +_1 -_2 )\n",
      "-0.25j * IXYI\n",
      "+ 0.25 * IYYI\n",
      "+ 0.25 * IXXI\n",
      "+ 0.25j * IYXI\n",
      "eigen value =  (-0.4999993752336385+0.00023841393847332513j)\n"
     ]
    }
   ],
   "source": [
    "from qiskit_nature.second_q.operators import FermionicOp\n",
    "from qiskit_nature.second_q.mappers import JordanWignerMapper\n",
    "from qiskit.quantum_info import SparsePauliOp\n",
    "from qiskit import *\n",
    "from qiskit.algorithms.minimum_eigensolvers import VQE \n",
    "from qiskit.algorithms.optimizers import SLSQP \n",
    "from qiskit.circuit.library import TwoLocal \n",
    "from qiskit.quantum_info import SparsePauliOp \n",
    "from qiskit.primitives import Estimator \n",
    " \n",
    "op = FermionicOp({\"+_1 -_2\": 1.0}, num_spin_orbitals=4)\n",
    "print (op)\n",
    "\n",
    "mapper = JordanWignerMapper()\n",
    "qop = mapper.map(op)\n",
    "\n",
    "print (qop)\n",
    "\n",
    "A = SparsePauliOp(['IXYI', 'IYYI', 'IXXI', 'IYXI'], coeffs=[-0.25j, 0.25, 0.25, 0.25j])\n",
    "\n",
    "estimator = Estimator() \n",
    "optimizer = SLSQP() \n",
    "ansatz = TwoLocal(rotation_blocks=[\"ry\", \"rz\"], entanglement_blocks=\"cz\") \n",
    " \n",
    "vqe = VQE(estimator, ansatz, optimizer) \n",
    "result = vqe.compute_minimum_eigenvalue(operator=A) \n",
    "eigenvalue = result.eigenvalue\n",
    "\n",
    "print ('eigen value = ', eigenvalue)"
   ]
  }
 ],
 "metadata": {
  "kernelspec": {
   "display_name": "QCML",
   "language": "python",
   "name": "python3"
  },
  "language_info": {
   "codemirror_mode": {
    "name": "ipython",
    "version": 3
   },
   "file_extension": ".py",
   "mimetype": "text/x-python",
   "name": "python",
   "nbconvert_exporter": "python",
   "pygments_lexer": "ipython3",
   "version": "3.9.16"
  },
  "orig_nbformat": 4
 },
 "nbformat": 4,
 "nbformat_minor": 2
}

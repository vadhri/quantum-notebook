{
  "cells": [
    {
      "cell_type": "code",
      "execution_count": 1,
      "metadata": {
        "colab": {
          "base_uri": "https://localhost:8080/"
        },
        "id": "0csY8iPuGfgF",
        "outputId": "c265f958-ab60-4460-c8da-e0726b86a00a"
      },
      "outputs": [
        {
          "output_type": "stream",
          "name": "stdout",
          "text": [
            "Collecting pennylane-lightning-gpu\n",
            "  Downloading PennyLane_Lightning_GPU-0.32.0-cp310-cp310-manylinux_2_17_x86_64.manylinux2014_x86_64.whl (28.1 MB)\n",
            "\u001b[2K     \u001b[90m━━━━━━━━━━━━━━━━━━━━━━━━━━━━━━━━━━━━━━━━\u001b[0m \u001b[32m28.1/28.1 MB\u001b[0m \u001b[31m4.1 MB/s\u001b[0m eta \u001b[36m0:00:00\u001b[0m\n",
            "\u001b[?25hCollecting pennylane-lightning>=0.30 (from pennylane-lightning-gpu)\n",
            "  Downloading PennyLane_Lightning-0.32.0-cp310-cp310-manylinux_2_17_x86_64.manylinux2014_x86_64.whl (13.6 MB)\n",
            "\u001b[2K     \u001b[90m━━━━━━━━━━━━━━━━━━━━━━━━━━━━━━━━━━━━━━━━\u001b[0m \u001b[32m13.6/13.6 MB\u001b[0m \u001b[31m108.1 MB/s\u001b[0m eta \u001b[36m0:00:00\u001b[0m\n",
            "\u001b[?25hCollecting pennylane>=0.30 (from pennylane-lightning-gpu)\n",
            "  Downloading PennyLane-0.32.0-py3-none-any.whl (1.5 MB)\n",
            "\u001b[2K     \u001b[90m━━━━━━━━━━━━━━━━━━━━━━━━━━━━━━━━━━━━━━━━\u001b[0m \u001b[32m1.5/1.5 MB\u001b[0m \u001b[31m95.0 MB/s\u001b[0m eta \u001b[36m0:00:00\u001b[0m\n",
            "\u001b[?25hRequirement already satisfied: numpy<1.24 in /usr/local/lib/python3.10/dist-packages (from pennylane>=0.30->pennylane-lightning-gpu) (1.23.5)\n",
            "Requirement already satisfied: scipy in /usr/local/lib/python3.10/dist-packages (from pennylane>=0.30->pennylane-lightning-gpu) (1.11.3)\n",
            "Requirement already satisfied: networkx in /usr/local/lib/python3.10/dist-packages (from pennylane>=0.30->pennylane-lightning-gpu) (3.2)\n",
            "Collecting rustworkx (from pennylane>=0.30->pennylane-lightning-gpu)\n",
            "  Downloading rustworkx-0.13.2-cp310-cp310-manylinux_2_17_x86_64.manylinux2014_x86_64.whl (2.0 MB)\n",
            "\u001b[2K     \u001b[90m━━━━━━━━━━━━━━━━━━━━━━━━━━━━━━━━━━━━━━━━\u001b[0m \u001b[32m2.0/2.0 MB\u001b[0m \u001b[31m85.6 MB/s\u001b[0m eta \u001b[36m0:00:00\u001b[0m\n",
            "\u001b[?25hCollecting autograd<=1.5 (from pennylane>=0.30->pennylane-lightning-gpu)\n",
            "  Downloading autograd-1.5-py3-none-any.whl (48 kB)\n",
            "\u001b[2K     \u001b[90m━━━━━━━━━━━━━━━━━━━━━━━━━━━━━━━━━━━━━━━━\u001b[0m \u001b[32m48.9/48.9 kB\u001b[0m \u001b[31m6.6 MB/s\u001b[0m eta \u001b[36m0:00:00\u001b[0m\n",
            "\u001b[?25hRequirement already satisfied: toml in /usr/local/lib/python3.10/dist-packages (from pennylane>=0.30->pennylane-lightning-gpu) (0.10.2)\n",
            "Requirement already satisfied: appdirs in /usr/local/lib/python3.10/dist-packages (from pennylane>=0.30->pennylane-lightning-gpu) (1.4.4)\n",
            "Collecting semantic-version>=2.7 (from pennylane>=0.30->pennylane-lightning-gpu)\n",
            "  Downloading semantic_version-2.10.0-py2.py3-none-any.whl (15 kB)\n",
            "Collecting autoray>=0.3.1 (from pennylane>=0.30->pennylane-lightning-gpu)\n",
            "  Downloading autoray-0.6.7-py3-none-any.whl (49 kB)\n",
            "\u001b[2K     \u001b[90m━━━━━━━━━━━━━━━━━━━━━━━━━━━━━━━━━━━━━━━━\u001b[0m \u001b[32m49.9/49.9 kB\u001b[0m \u001b[31m7.0 MB/s\u001b[0m eta \u001b[36m0:00:00\u001b[0m\n",
            "\u001b[?25hRequirement already satisfied: cachetools in /usr/local/lib/python3.10/dist-packages (from pennylane>=0.30->pennylane-lightning-gpu) (5.3.2)\n",
            "Requirement already satisfied: requests in /usr/local/lib/python3.10/dist-packages (from pennylane>=0.30->pennylane-lightning-gpu) (2.31.0)\n",
            "Requirement already satisfied: typing-extensions in /usr/local/lib/python3.10/dist-packages (from pennylane>=0.30->pennylane-lightning-gpu) (4.5.0)\n",
            "Requirement already satisfied: future>=0.15.2 in /usr/local/lib/python3.10/dist-packages (from autograd<=1.5->pennylane>=0.30->pennylane-lightning-gpu) (0.18.3)\n",
            "Requirement already satisfied: charset-normalizer<4,>=2 in /usr/local/lib/python3.10/dist-packages (from requests->pennylane>=0.30->pennylane-lightning-gpu) (3.3.1)\n",
            "Requirement already satisfied: idna<4,>=2.5 in /usr/local/lib/python3.10/dist-packages (from requests->pennylane>=0.30->pennylane-lightning-gpu) (3.4)\n",
            "Requirement already satisfied: urllib3<3,>=1.21.1 in /usr/local/lib/python3.10/dist-packages (from requests->pennylane>=0.30->pennylane-lightning-gpu) (2.0.7)\n",
            "Requirement already satisfied: certifi>=2017.4.17 in /usr/local/lib/python3.10/dist-packages (from requests->pennylane>=0.30->pennylane-lightning-gpu) (2023.7.22)\n",
            "Installing collected packages: semantic-version, rustworkx, autoray, autograd, pennylane-lightning, pennylane, pennylane-lightning-gpu\n",
            "  Attempting uninstall: autograd\n",
            "    Found existing installation: autograd 1.6.2\n",
            "    Uninstalling autograd-1.6.2:\n",
            "      Successfully uninstalled autograd-1.6.2\n",
            "Successfully installed autograd-1.5 autoray-0.6.7 pennylane-0.32.0 pennylane-lightning-0.32.0 pennylane-lightning-gpu-0.32.0 rustworkx-0.13.2 semantic-version-2.10.0\n",
            "Requirement already satisfied: pennylane in /usr/local/lib/python3.10/dist-packages (0.32.0)\n",
            "Requirement already satisfied: pennylane-lightning-gpu in /usr/local/lib/python3.10/dist-packages (0.32.0)\n",
            "Collecting custatevec-cu12\n",
            "  Downloading custatevec_cu12-1.4.1-py3-none-manylinux2014_x86_64.whl (38.7 MB)\n",
            "\u001b[2K     \u001b[90m━━━━━━━━━━━━━━━━━━━━━━━━━━━━━━━━━━━━━━━━\u001b[0m \u001b[32m38.7/38.7 MB\u001b[0m \u001b[31m4.0 MB/s\u001b[0m eta \u001b[36m0:00:00\u001b[0m\n",
            "\u001b[?25hRequirement already satisfied: numpy<1.24 in /usr/local/lib/python3.10/dist-packages (from pennylane) (1.23.5)\n",
            "Requirement already satisfied: scipy in /usr/local/lib/python3.10/dist-packages (from pennylane) (1.11.3)\n",
            "Requirement already satisfied: networkx in /usr/local/lib/python3.10/dist-packages (from pennylane) (3.2)\n",
            "Requirement already satisfied: rustworkx in /usr/local/lib/python3.10/dist-packages (from pennylane) (0.13.2)\n",
            "Requirement already satisfied: autograd<=1.5 in /usr/local/lib/python3.10/dist-packages (from pennylane) (1.5)\n",
            "Requirement already satisfied: toml in /usr/local/lib/python3.10/dist-packages (from pennylane) (0.10.2)\n",
            "Requirement already satisfied: appdirs in /usr/local/lib/python3.10/dist-packages (from pennylane) (1.4.4)\n",
            "Requirement already satisfied: semantic-version>=2.7 in /usr/local/lib/python3.10/dist-packages (from pennylane) (2.10.0)\n",
            "Requirement already satisfied: autoray>=0.3.1 in /usr/local/lib/python3.10/dist-packages (from pennylane) (0.6.7)\n",
            "Requirement already satisfied: cachetools in /usr/local/lib/python3.10/dist-packages (from pennylane) (5.3.2)\n",
            "Requirement already satisfied: pennylane-lightning>=0.32 in /usr/local/lib/python3.10/dist-packages (from pennylane) (0.32.0)\n",
            "Requirement already satisfied: requests in /usr/local/lib/python3.10/dist-packages (from pennylane) (2.31.0)\n",
            "Requirement already satisfied: typing-extensions in /usr/local/lib/python3.10/dist-packages (from pennylane) (4.5.0)\n",
            "Requirement already satisfied: future>=0.15.2 in /usr/local/lib/python3.10/dist-packages (from autograd<=1.5->pennylane) (0.18.3)\n",
            "Requirement already satisfied: charset-normalizer<4,>=2 in /usr/local/lib/python3.10/dist-packages (from requests->pennylane) (3.3.1)\n",
            "Requirement already satisfied: idna<4,>=2.5 in /usr/local/lib/python3.10/dist-packages (from requests->pennylane) (3.4)\n",
            "Requirement already satisfied: urllib3<3,>=1.21.1 in /usr/local/lib/python3.10/dist-packages (from requests->pennylane) (2.0.7)\n",
            "Requirement already satisfied: certifi>=2017.4.17 in /usr/local/lib/python3.10/dist-packages (from requests->pennylane) (2023.7.22)\n",
            "Installing collected packages: custatevec-cu12\n",
            "Successfully installed custatevec-cu12-1.4.1\n"
          ]
        }
      ],
      "source": [
        "!pip install pennylane-lightning-gpu\n",
        "!pip install pennylane pennylane-lightning-gpu custatevec-cu12 --upgrade\n"
      ]
    },
    {
      "cell_type": "code",
      "execution_count": 2,
      "metadata": {
        "colab": {
          "base_uri": "https://localhost:8080/"
        },
        "id": "8LswQdyF7G5I",
        "outputId": "ac308874-b737-4e49-fffe-8b214456fcb7"
      },
      "outputs": [
        {
          "output_type": "stream",
          "name": "stdout",
          "text": [
            "Requirement already satisfied: jax in /usr/local/lib/python3.10/dist-packages (0.4.16)\n",
            "Requirement already satisfied: ml-dtypes>=0.2.0 in /usr/local/lib/python3.10/dist-packages (from jax) (0.2.0)\n",
            "Requirement already satisfied: numpy>=1.22 in /usr/local/lib/python3.10/dist-packages (from jax) (1.23.5)\n",
            "Requirement already satisfied: opt-einsum in /usr/local/lib/python3.10/dist-packages (from jax) (3.3.0)\n",
            "Requirement already satisfied: scipy>=1.7 in /usr/local/lib/python3.10/dist-packages (from jax) (1.11.3)\n",
            "Requirement already satisfied: scikit-learn in /usr/local/lib/python3.10/dist-packages (1.2.2)\n",
            "Requirement already satisfied: numpy>=1.17.3 in /usr/local/lib/python3.10/dist-packages (from scikit-learn) (1.23.5)\n",
            "Requirement already satisfied: scipy>=1.3.2 in /usr/local/lib/python3.10/dist-packages (from scikit-learn) (1.11.3)\n",
            "Requirement already satisfied: joblib>=1.1.1 in /usr/local/lib/python3.10/dist-packages (from scikit-learn) (1.3.2)\n",
            "Requirement already satisfied: threadpoolctl>=2.0.0 in /usr/local/lib/python3.10/dist-packages (from scikit-learn) (3.2.0)\n",
            "Requirement already satisfied: pennylane in /usr/local/lib/python3.10/dist-packages (0.32.0)\n",
            "Requirement already satisfied: numpy<1.24 in /usr/local/lib/python3.10/dist-packages (from pennylane) (1.23.5)\n",
            "Requirement already satisfied: scipy in /usr/local/lib/python3.10/dist-packages (from pennylane) (1.11.3)\n",
            "Requirement already satisfied: networkx in /usr/local/lib/python3.10/dist-packages (from pennylane) (3.2)\n",
            "Requirement already satisfied: rustworkx in /usr/local/lib/python3.10/dist-packages (from pennylane) (0.13.2)\n",
            "Requirement already satisfied: autograd<=1.5 in /usr/local/lib/python3.10/dist-packages (from pennylane) (1.5)\n",
            "Requirement already satisfied: toml in /usr/local/lib/python3.10/dist-packages (from pennylane) (0.10.2)\n",
            "Requirement already satisfied: appdirs in /usr/local/lib/python3.10/dist-packages (from pennylane) (1.4.4)\n",
            "Requirement already satisfied: semantic-version>=2.7 in /usr/local/lib/python3.10/dist-packages (from pennylane) (2.10.0)\n",
            "Requirement already satisfied: autoray>=0.3.1 in /usr/local/lib/python3.10/dist-packages (from pennylane) (0.6.7)\n",
            "Requirement already satisfied: cachetools in /usr/local/lib/python3.10/dist-packages (from pennylane) (5.3.2)\n",
            "Requirement already satisfied: pennylane-lightning>=0.32 in /usr/local/lib/python3.10/dist-packages (from pennylane) (0.32.0)\n",
            "Requirement already satisfied: requests in /usr/local/lib/python3.10/dist-packages (from pennylane) (2.31.0)\n",
            "Requirement already satisfied: typing-extensions in /usr/local/lib/python3.10/dist-packages (from pennylane) (4.5.0)\n",
            "Requirement already satisfied: future>=0.15.2 in /usr/local/lib/python3.10/dist-packages (from autograd<=1.5->pennylane) (0.18.3)\n",
            "Requirement already satisfied: charset-normalizer<4,>=2 in /usr/local/lib/python3.10/dist-packages (from requests->pennylane) (3.3.1)\n",
            "Requirement already satisfied: idna<4,>=2.5 in /usr/local/lib/python3.10/dist-packages (from requests->pennylane) (3.4)\n",
            "Requirement already satisfied: urllib3<3,>=1.21.1 in /usr/local/lib/python3.10/dist-packages (from requests->pennylane) (2.0.7)\n",
            "Requirement already satisfied: certifi>=2017.4.17 in /usr/local/lib/python3.10/dist-packages (from requests->pennylane) (2023.7.22)\n"
          ]
        }
      ],
      "source": [
        "!pip install jax\n",
        "!pip install scikit-learn\n",
        "!pip install pennylane"
      ]
    },
    {
      "cell_type": "code",
      "execution_count": 6,
      "metadata": {
        "colab": {
          "base_uri": "https://localhost:8080/"
        },
        "id": "Qlf7YIjn7BwD",
        "outputId": "0006377d-341d-496c-f7e3-0e4384d2f124"
      },
      "outputs": [
        {
          "output_type": "stream",
          "name": "stdout",
          "text": [
            "Number of qubits being used :  2\n",
            "2 2 0.9888888888888889\n",
            "Number of qubits being used :  4\n",
            "2 4 1.0\n",
            "Number of qubits being used :  6\n",
            "2 6 0.9888888888888889\n",
            "Number of qubits being used :  2\n",
            "5 2 0.8230088495575221\n",
            "Number of qubits being used :  4\n",
            "5 4 0.9424778761061947\n",
            "Number of qubits being used :  6\n",
            "5 6 0.9513274336283186\n",
            "defaultdict(<class 'list'>, {'quantum': defaultdict(<class 'list'>, {2: [(2, 0.9888888888888889), (4, 1.0), (6, 0.9888888888888889)], 5: [(2, 0.8230088495575221), (4, 0.9424778761061947), (6, 0.9513274336283186)]}), 'classical': defaultdict(<class 'list'>, {2: [(2, 1.0), (4, 1.0), (6, 1.0)], 5: [(2, 0.8185840707964602), (4, 0.9424778761061947), (6, 0.9734513274336283)]})})\n"
          ]
        }
      ],
      "source": [
        "import sklearn.datasets\n",
        "import numpy as np\n",
        "import torch\n",
        "from torch.nn.functional import relu\n",
        "\n",
        "from sklearn.svm import SVC\n",
        "from sklearn.datasets import load_iris\n",
        "from sklearn.preprocessing import StandardScaler\n",
        "from sklearn.model_selection import train_test_split\n",
        "from sklearn.metrics import accuracy_score\n",
        "\n",
        "import pennylane as qml\n",
        "from pennylane.templates import AngleEmbedding, StronglyEntanglingLayers\n",
        "from pennylane.operation import Tensor\n",
        "\n",
        "import matplotlib.pyplot as plt\n",
        "from sklearn.decomposition import PCA\n",
        "\n",
        "from collections import defaultdict\n",
        "\n",
        "results = defaultdict(list)\n",
        "from jax.config import config\n",
        "config.update(\"jax_enable_x64\", True)\n",
        "\n",
        "import jax\n",
        "import jax.numpy as jnp\n",
        "\n",
        "results[\"quantum\"] = defaultdict(list)\n",
        "results[\"classical\"] = defaultdict(list)\n",
        "\n",
        "for no_of_classes in [2,5]:\n",
        "    for p in [2,4,6]:\n",
        "        X = sklearn.datasets.load_digits(n_class=no_of_classes)\n",
        "\n",
        "        scaler = StandardScaler().fit(X.data)\n",
        "        X_scaled = scaler.transform(X.data)\n",
        "\n",
        "        pca = PCA(n_components=p)\n",
        "        pca.fit(X_scaled)\n",
        "        X_transform_pca = pca.transform(X_scaled)\n",
        "\n",
        "        y_scaled = 2 * (X.target - 0.5)\n",
        "\n",
        "        X_train, X_test, y_train, y_test = train_test_split(X_transform_pca, y_scaled)\n",
        "\n",
        "        for x in range(len(X_train)):\n",
        "            X_train[x] = X_train[x]/np.linalg.norm(X_train[x])\n",
        "\n",
        "        for x in range(len(X_test)):\n",
        "            X_test[x] = X_test[x]/np.linalg.norm(X_test[x])\n",
        "\n",
        "        n_qubits = len(X_train[0])\n",
        "\n",
        "        print('Number of qubits being used : ', n_qubits)\n",
        "\n",
        "        dev_kernel = qml.device(\"default.qubit.jax\", wires=n_qubits)\n",
        "\n",
        "        projector = np.zeros((2**n_qubits, 2**n_qubits))\n",
        "        projector[0, 0] = 1\n",
        "\n",
        "        @jax.jit\n",
        "        @qml.qnode(dev_kernel, interface=\"jax\")\n",
        "        def kernel(x):\n",
        "            AngleEmbedding(x[0], wires=range(n_qubits))\n",
        "            qml.adjoint(AngleEmbedding)(x[1], wires=range(n_qubits))\n",
        "            return qml.expval(qml.Hermitian(projector, wires=range(n_qubits)))\n",
        "\n",
        "        jit_circuit = jax.jit(kernel)\n",
        "\n",
        "        def kernel_matrix(A, B):\n",
        "            return np.array([[jit_circuit(jnp.array([a, b])) for b in B] for a in A])\n",
        "\n",
        "        qclassifier = SVC(kernel=kernel_matrix).fit(X_train, y_train)\n",
        "\n",
        "        predictions = qclassifier.predict(X_test)\n",
        "        score = accuracy_score(predictions, y_test)\n",
        "\n",
        "        results['quantum'][no_of_classes].append((p,score))\n",
        "        print (no_of_classes, p, score)\n",
        "\n",
        "        clf = SVC(kernel='rbf')\n",
        "        clf.fit(X_train, y_train)\n",
        "        predictions = clf.predict(X_test)\n",
        "        results['classical'][no_of_classes].append((p,accuracy_score(predictions, y_test)))\n",
        "\n",
        "print (results)"
      ]
    },
    {
      "cell_type": "code",
      "source": [
        "for i in results['quantum'].keys():\n",
        "        print ('No of dimensions used for 10 classes - ', i)\n",
        "        qubits, accuracies = list(zip(*results['quantum'][i]))\n",
        "\n",
        "        plt.bar(qubits, accuracies)\n",
        "        plt.show()\n",
        "\n",
        "for i in results['classical'].keys():\n",
        "        print ('No of dimensions used for 10 classes - ', i)\n",
        "        qubits, accuracies = list(zip(*results['quantum'][i]))\n",
        "\n",
        "        plt.bar(qubits, accuracies)\n",
        "        plt.show()\n"
      ],
      "metadata": {
        "colab": {
          "base_uri": "https://localhost:8080/",
          "height": 1000
        },
        "id": "tDX83I2JEE5Q",
        "outputId": "48e0089e-ef7a-43ac-903c-e94d366512e6"
      },
      "execution_count": 7,
      "outputs": [
        {
          "output_type": "stream",
          "name": "stdout",
          "text": [
            "No of dimensions used for 10 classes -  2\n"
          ]
        },
        {
          "output_type": "display_data",
          "data": {
            "text/plain": [
              "<Figure size 640x480 with 1 Axes>"
            ],
            "image/png": "[encoded data removed]"
          },
          "metadata": {}
        },
        {
          "output_type": "stream",
          "name": "stdout",
          "text": [
            "No of dimensions used for 10 classes -  5\n"
          ]
        },
        {
          "output_type": "display_data",
          "data": {
            "text/plain": [
              "<Figure size 640x480 with 1 Axes>"
            ],
            "image/png": "[encoded data removed]"
          },
          "metadata": {}
        },
        {
          "output_type": "stream",
          "name": "stdout",
          "text": [
            "No of dimensions used for 10 classes -  2\n"
          ]
        },
        {
          "output_type": "display_data",
          "data": {
            "text/plain": [
              "<Figure size 640x480 with 1 Axes>"
            ],
            "image/png": "[encoded data removed]"
          },
          "metadata": {}
        },
        {
          "output_type": "stream",
          "name": "stdout",
          "text": [
            "No of dimensions used for 10 classes -  5\n"
          ]
        },
        {
          "output_type": "display_data",
          "data": {
            "text/plain": [
              "<Figure size 640x480 with 1 Axes>"
            ],
            "image/png": "[encoded data removed]"
          },
          "metadata": {}
        }
      ]
    },
    {
      "cell_type": "code",
      "source": [
        "for i in results['quantum'].keys():\n",
        "  print('\\nNo of features ( before PCA ) : ', i)\n",
        "  print ('PCA\\t Quantum\\t\\t Classical')\n",
        "  for j in range(len(results['quantum'][i])):\n",
        "    pca, accuracy = results['quantum'][i][j]\n",
        "    print(pca,'\\t', accuracy, '\\t',results['classical'][i][j][1])"
      ],
      "metadata": {
        "colab": {
          "base_uri": "https://localhost:8080/"
        },
        "id": "t7jk2HVuKePx",
        "outputId": "81f30859-5789-468b-adff-4ff6eb95afb8"
      },
      "execution_count": 25,
      "outputs": [
        {
          "output_type": "stream",
          "name": "stdout",
          "text": [
            "\n",
            "No of features ( before PCA ) :  2\n",
            "PCA\t Quantum\t\t Classical\n",
            "2 \t 0.9888888888888889 \t 1.0\n",
            "4 \t 1.0 \t 1.0\n",
            "6 \t 0.9888888888888889 \t 1.0\n",
            "\n",
            "No of features ( before PCA ) :  5\n",
            "PCA\t Quantum\t\t Classical\n",
            "2 \t 0.8230088495575221 \t 0.8185840707964602\n",
            "4 \t 0.9424778761061947 \t 0.9424778761061947\n",
            "6 \t 0.9513274336283186 \t 0.9734513274336283\n"
          ]
        }
      ]
    }
  ],
  "metadata": {
    "accelerator": "GPU",
    "colab": {
      "provenance": []
    },
    "kernelspec": {
      "display_name": "Python 3",
      "name": "python3"
    },
    "language_info": {
      "name": "python"
    }
  },
  "nbformat": 4,
  "nbformat_minor": 0
}
{
 "cells": [
  {
   "cell_type": "code",
   "execution_count": 12,
   "metadata": {},
   "outputs": [
    {
     "data": {
      "text/plain": [
       "<qiskit.circuit.instructionset.InstructionSet at 0x7fcac22a6f10>"
      ]
     },
     "execution_count": 12,
     "metadata": {},
     "output_type": "execute_result"
    }
   ],
   "source": [
    "from qiskit import *\n",
    "from qiskit.circuit import Parameter\n",
    "from qiskit.visualization import *\n",
    "from qiskit.quantum_info import *\n",
    "import numpy as np\n",
    "\n",
    "x1 = Parameter('x1')\n",
    "x2 = Parameter('x2')\n",
    "x1x2 = Parameter('x1x2')\n",
    "\n",
    "QC = QuantumCircuit(2, 1)\n",
    "\n",
    "QC.h(0)\n",
    "QC.h(1)\n",
    "QC.rz(x1, 0)\n",
    "QC.rz(x2, 1)\n",
    "QC.cx(0,1)\n",
    "QC.barrier()\n",
    "\n",
    "QC.rz(x1x2,1)"
   ]
  },
  {
   "cell_type": "code",
   "execution_count": 13,
   "metadata": {},
   "outputs": [
    {
     "data": {
      "image/png": "[encoded data removed]",
      "text/plain": [
       "<Figure size 269.064x142.139 with 1 Axes>"
      ]
     },
     "execution_count": 13,
     "metadata": {},
     "output_type": "execute_result"
    }
   ],
   "source": [
    "# QC.measure(0,0)\n",
    "QC.draw(output=\"mpl\", scale=0.5)"
   ]
  },
  {
   "cell_type": "code",
   "execution_count": 14,
   "metadata": {},
   "outputs": [
    {
     "data": {
      "text/html": [
       "<pre style=\"word-wrap: normal;white-space: pre;background: #fff0;line-height: 1.1;font-family: &quot;Courier New&quot;,Courier,monospace\">        ┌───┐┌─────────┐      ░                 ░ ┌─┐   \n",
       "   q_0: ┤ H ├┤ Rz(π/4) ├──■───░─────────────────░─┤M├───\n",
       "        ├───┤├─────────┤┌─┴─┐ ░ ┌─────────────┐ ░ └╥┘┌─┐\n",
       "   q_1: ┤ H ├┤ Rz(π/4) ├┤ X ├─░─┤ Rz(0.61685) ├─░──╫─┤M├\n",
       "        └───┘└─────────┘└───┘ ░ └─────────────┘ ░  ║ └╥┘\n",
       "   c: 1/═══════════════════════════════════════════╬══╬═\n",
       "                                                   ║  ║ \n",
       "meas: 2/═══════════════════════════════════════════╩══╩═\n",
       "                                                   0  1 </pre>"
      ],
      "text/plain": [
       "        ┌───┐┌─────────┐      ░                 ░ ┌─┐   \n",
       "   q_0: ┤ H ├┤ Rz(π/4) ├──■───░─────────────────░─┤M├───\n",
       "        ├───┤├─────────┤┌─┴─┐ ░ ┌─────────────┐ ░ └╥┘┌─┐\n",
       "   q_1: ┤ H ├┤ Rz(π/4) ├┤ X ├─░─┤ Rz(0.61685) ├─░──╫─┤M├\n",
       "        └───┘└─────────┘└───┘ ░ └─────────────┘ ░  ║ └╥┘\n",
       "   c: 1/═══════════════════════════════════════════╬══╬═\n",
       "                                                   ║  ║ \n",
       "meas: 2/═══════════════════════════════════════════╩══╩═\n",
       "                                                   0  1 "
      ]
     },
     "execution_count": 14,
     "metadata": {},
     "output_type": "execute_result"
    }
   ],
   "source": [
    "data = [np.pi/4,np.pi/4]\n",
    "\n",
    "c = QC.bind_parameters({x1: data[0], x2: data[1]})\n",
    "c = QC.bind_parameters({x1: data[0], x2: data[1], x1x2: data[0]*data[1]})\n",
    "c.measure_all()\n",
    "c.draw()"
   ]
  },
  {
   "cell_type": "code",
   "execution_count": 15,
   "metadata": {},
   "outputs": [
    {
     "data": {
      "image/png": "[encoded data removed]",
      "text/plain": [
       "<Figure size 200x200 with 1 Axes>"
      ]
     },
     "execution_count": 15,
     "metadata": {},
     "output_type": "execute_result"
    }
   ],
   "source": [
    "backend = BasicAer.get_backend('qasm_simulator')\n",
    "job = backend.run(transpile(c, backend))\n",
    "counts = job.result().get_counts()\n",
    "\n",
    "plot_histogram(counts, figsize=(2,2))"
   ]
  },
  {
   "cell_type": "code",
   "execution_count": 16,
   "metadata": {},
   "outputs": [
    {
     "name": "stdout",
     "output_type": "stream",
     "text": [
      "[7.  3.2 4.7 1.4] [2.39474331 0.21203379 1.27506221 1.09190459] 1\n",
      "[6.4 3.2 4.5 1.5] [1.45501408 0.21203379 1.13639313 1.26973921] 1\n",
      "[6.9 3.1 4.9 1.5] [2.23812177e+00 2.09934449e-03 1.41373130e+00 1.26973921e+00] 1\n",
      "[5.5 2.3 4.  1.3] [ 0.04542025 -1.67737625  0.78972042  0.91406997] 1\n",
      "[6.5 2.8 4.6 1.5] [ 1.61163562 -0.627704    1.20572767  1.26973921] 1\n",
      "[5.7 2.8 4.5 1.3] [ 0.35866332 -0.627704    1.13639313  0.91406997] 1\n",
      "[6.3 3.3 4.7 1.6] [1.29839254 0.42196824 1.27506221 1.44757384] 1\n",
      "[4.9 2.4 3.3 1. ] [-0.89430898 -1.4674418   0.30437864  0.38056609] 1\n",
      "[6.6 2.9 4.6 1.3] [ 1.76825716 -0.41776955  1.20572767  0.91406997] 1\n",
      "[5.2 2.7 3.9 1.4] [-0.42444437 -0.83763845  0.72038588  1.09190459] 1\n",
      "[5.  2.  3.5 1. ] [-0.73768744 -2.30717959  0.44304772  0.38056609] 1\n",
      "[5.9 3.  4.2 1.5] [ 0.6719064  -0.2078351   0.92838951  1.26973921] 1\n",
      "[6.  2.2 4.  1. ] [ 0.82852793 -1.88731069  0.78972042  0.38056609] 1\n",
      "[6.1 2.9 4.7 1.4] [ 0.98514947 -0.41776955  1.27506221  1.09190459] 1\n",
      "[5.6 2.9 3.6 1.3] [ 0.20204178 -0.41776955  0.51238226  0.91406997] 1\n",
      "[6.7 3.1 4.4 1.4] [1.92487869 0.00209934 1.06705859 1.09190459] 1\n",
      "[5.6 3.  4.5 1.5] [ 0.20204178 -0.2078351   1.13639313  1.26973921] 1\n",
      "[5.8 2.7 4.1 1. ] [ 0.51528486 -0.83763845  0.85905497  0.38056609] 1\n",
      "[6.2 2.2 4.5 1.5] [ 1.14177101 -1.88731069  1.13639313  1.26973921] 1\n",
      "[5.6 2.5 3.9 1.1] [ 0.20204178 -1.25750735  0.72038588  0.55840072] 1\n",
      "[5.9 3.2 4.8 1.8] [0.6719064  0.21203379 1.34439675 1.80324308] 1\n",
      "[6.1 2.8 4.  1.3] [ 0.98514947 -0.627704    0.78972042  0.91406997] 1\n",
      "[6.3 2.5 4.9 1.5] [ 1.29839254 -1.25750735  1.4137313   1.26973921] 1\n",
      "[6.1 2.8 4.7 1.2] [ 0.98514947 -0.627704    1.27506221  0.73623534] 1\n",
      "[6.4 2.9 4.3 1.3] [ 1.45501408 -0.41776955  0.99772405  0.91406997] 1\n",
      "[6.6 3.  4.4 1.4] [ 1.76825716 -0.2078351   1.06705859  1.09190459] 1\n",
      "[6.8 2.8 4.8 1.4] [ 2.08150023 -0.627704    1.34439675  1.09190459] 1\n",
      "[6.7 3.  5.  1.7] [ 1.92487869 -0.2078351   1.48306584  1.62540846] 1\n",
      "[6.  2.9 4.5 1.5] [ 0.82852793 -0.41776955  1.13639313  1.26973921] 1\n",
      "[5.7 2.6 3.5 1. ] [ 0.35866332 -1.0475729   0.44304772  0.38056609] 1\n",
      "[5.5 2.4 3.8 1.1] [ 0.04542025 -1.4674418   0.65105134  0.55840072] 1\n",
      "[5.5 2.4 3.7 1. ] [ 0.04542025 -1.4674418   0.5817168   0.38056609] 1\n",
      "[5.8 2.7 3.9 1.2] [ 0.51528486 -0.83763845  0.72038588  0.73623534] 1\n",
      "[6.  2.7 5.1 1.6] [ 0.82852793 -0.83763845  1.55240038  1.44757384] 1\n",
      "[5.4 3.  4.5 1.5] [-0.11120129 -0.2078351   1.13639313  1.26973921] 1\n",
      "[6.  3.4 4.5 1.6] [0.82852793 0.63190269 1.13639313 1.44757384] 1\n",
      "[6.7 3.1 4.7 1.5] [1.92487869 0.00209934 1.27506221 1.26973921] 1\n",
      "[6.3 2.3 4.4 1.3] [ 1.29839254 -1.67737625  1.06705859  0.91406997] 1\n",
      "[5.6 3.  4.1 1.3] [ 0.20204178 -0.2078351   0.85905497  0.91406997] 1\n",
      "[5.5 2.5 4.  1.3] [ 0.04542025 -1.25750735  0.78972042  0.91406997] 1\n",
      "[5.5 2.6 4.4 1.2] [ 0.04542025 -1.0475729   1.06705859  0.73623534] 1\n",
      "[6.1 3.  4.6 1.4] [ 0.98514947 -0.2078351   1.20572767  1.09190459] 1\n",
      "[5.8 2.6 4.  1.2] [ 0.51528486 -1.0475729   0.78972042  0.73623534] 1\n",
      "[5.  2.3 3.3 1. ] [-0.73768744 -1.67737625  0.30437864  0.38056609] 1\n",
      "[5.6 2.7 4.2 1.3] [ 0.20204178 -0.83763845  0.92838951  0.91406997] 1\n",
      "[5.7 3.  4.2 1.2] [ 0.35866332 -0.2078351   0.92838951  0.73623534] 1\n",
      "[5.7 2.9 4.2 1.3] [ 0.35866332 -0.41776955  0.92838951  0.91406997] 1\n",
      "[6.2 2.9 4.3 1.3] [ 1.14177101 -0.41776955  0.99772405  0.91406997] 1\n",
      "[5.1 2.5 3.  1.1] [-0.5810659  -1.25750735  0.09637501  0.55840072] 1\n",
      "[5.7 2.8 4.1 1.3] [ 0.35866332 -0.627704    0.85905497  0.91406997] 1\n"
     ]
    },
    {
     "data": {
      "text/plain": [
       "4"
      ]
     },
     "execution_count": 16,
     "metadata": {},
     "output_type": "execute_result"
    }
   ],
   "source": [
    "import numpy as np\n",
    "import torch\n",
    "from torch.nn.functional import relu\n",
    "\n",
    "from sklearn.svm import SVC\n",
    "from sklearn.datasets import load_iris\n",
    "from sklearn.preprocessing import StandardScaler\n",
    "from sklearn.model_selection import train_test_split\n",
    "from sklearn.metrics import accuracy_score\n",
    "\n",
    "import pennylane as qml\n",
    "from pennylane.templates import AngleEmbedding, StronglyEntanglingLayers\n",
    "from pennylane.operation import Tensor\n",
    "\n",
    "import matplotlib.pyplot as plt\n",
    "\n",
    "n_qubits = 2\n",
    "\n",
    "X, y = load_iris(return_X_y=True)\n",
    "\n",
    "# pick inputs and labels from the first two classes only,\n",
    "# corresponding to the first 100 samples\n",
    "X = X[:100]\n",
    "y = y[:100]\n",
    "\n",
    "# scaling the inputs is important since the embedding we use is periodic\n",
    "scaler = StandardScaler().fit(X)\n",
    "X_scaled = scaler.transform(X)\n",
    "\n",
    "for i in range(50, 100):\n",
    "    print (X[i], X_scaled[i], y[i])\n",
    "\n",
    "# scaling the labels to -1, 1 is important for the SVM and the\n",
    "# definition of a hinge loss\n",
    "y_scaled = 2 * (y - 0.5)\n",
    "\n",
    "X_train, X_test, y_train, y_test = train_test_split(X_scaled, y_scaled)\n",
    "n_qubits = len(X_train[0])\n",
    "n_qubits"
   ]
  },
  {
   "cell_type": "markdown",
   "metadata": {},
   "source": [
    "### Pennylane SVC example"
   ]
  },
  {
   "cell_type": "code",
   "execution_count": 17,
   "metadata": {},
   "outputs": [
    {
     "data": {
      "text/plain": [
       "tensor(1., requires_grad=True)"
      ]
     },
     "execution_count": 17,
     "metadata": {},
     "output_type": "execute_result"
    }
   ],
   "source": [
    "dev_kernel = qml.device(\"default.qubit\", wires=n_qubits)\n",
    "\n",
    "projector = np.zeros((2**n_qubits, 2**n_qubits))\n",
    "projector[0, 0] = 1\n",
    "\n",
    "@qml.qnode(dev_kernel, interface=\"autograd\")\n",
    "def kernel(x1, x2):\n",
    "    \"\"\"The quantum kernel.\"\"\"\n",
    "    AngleEmbedding(x1, wires=range(n_qubits))\n",
    "    qml.adjoint(AngleEmbedding)(x2, wires=range(n_qubits))\n",
    "    return qml.expval(qml.Hermitian(projector, wires=range(n_qubits)))\n",
    "\n",
    "kernel(X_train[0], X_train[0])\n"
   ]
  },
  {
   "cell_type": "code",
   "execution_count": 18,
   "metadata": {},
   "outputs": [
    {
     "name": "stdout",
     "output_type": "stream",
     "text": [
      "1.0\n"
     ]
    }
   ],
   "source": [
    "a = kernel(X_train[0], X_train[0])\n",
    "print(a)"
   ]
  },
  {
   "cell_type": "code",
   "execution_count": 19,
   "metadata": {},
   "outputs": [
    {
     "data": {
      "text/plain": [
       "1.0"
      ]
     },
     "execution_count": 19,
     "metadata": {},
     "output_type": "execute_result"
    }
   ],
   "source": [
    "def kernel_matrix(A, B):\n",
    "    \"\"\"Compute the matrix whose entries are the kernel\n",
    "       evaluated on pairwise data from sets A and B.\"\"\"\n",
    "    return np.array([[kernel(a, b) for b in B] for a in A])\n",
    "\n",
    "svm = SVC(kernel=kernel_matrix).fit(X_train, y_train)\n",
    "\n",
    "predictions = svm.predict(X_test)\n",
    "accuracy_score(predictions, y_test)"
   ]
  }
 ],
 "metadata": {
  "kernelspec": {
   "display_name": "QCML",
   "language": "python",
   "name": "python3"
  },
  "language_info": {
   "codemirror_mode": {
    "name": "ipython",
    "version": 3
   },
   "file_extension": ".py",
   "mimetype": "text/x-python",
   "name": "python",
   "nbconvert_exporter": "python",
   "pygments_lexer": "ipython3",
   "version": "3.9.16"
  },
  "orig_nbformat": 4
 },
 "nbformat": 4,
 "nbformat_minor": 2
}

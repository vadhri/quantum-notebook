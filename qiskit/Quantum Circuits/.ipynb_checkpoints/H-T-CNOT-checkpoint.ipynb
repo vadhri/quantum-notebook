{
 "cells": [
  {
   "cell_type": "code",
   "execution_count": 1,
   "id": "9b76a2fa",
   "metadata": {},
   "outputs": [],
   "source": [
    "import numpy as np\n",
    "from qiskit import QuantumCircuit, QuantumRegister, ClassicalRegister\n",
    "from qiskit import IBMQ, Aer, transpile, assemble\n",
    "from qiskit.visualization import plot_histogram, plot_bloch_multivector, array_to_latex\n",
    "from qiskit.extensions import Initialize\n",
    "from qiskit.quantum_info import random_statevector\n",
    "from qiskit.quantum_info.states import Statevector, partial_trace\n",
    "from qiskit import *\n",
    "from qiskit.tools.jupyter import *\n",
    "from qiskit.visualization import *\n",
    "import matplotlib.pyplot as plotter\n",
    "import numpy as np\n",
    "from IPython.display import display, Math, Latex\n",
    "%matplotlib inline"
   ]
  },
  {
   "cell_type": "code",
   "execution_count": 2,
   "id": "887ce736",
   "metadata": {},
   "outputs": [
    {
     "data": {
      "image/png": "[encoded data removed]",
      "text/plain": [
       "<Figure size 375.309x200.667 with 1 Axes>"
      ]
     },
     "execution_count": 2,
     "metadata": {},
     "output_type": "execute_result"
    }
   ],
   "source": [
    "cq = QuantumRegister(2, \"Q\")\n",
    "cr = QuantumCircuit(cq)\n",
    "\n",
    "cr.h(0)\n",
    "cr.t(0)\n",
    "cr.cx(cq[0], cq[1])\n",
    "\n",
    "cr.draw(output='mpl')"
   ]
  },
  {
   "cell_type": "code",
   "execution_count": 3,
   "id": "edef43aa",
   "metadata": {},
   "outputs": [],
   "source": [
    "def measure_and_plot(circuit):\n",
    "    circuit.measure_all()\n",
    "    sim = Aer.get_backend('aer_simulator')\n",
    "    job = execute(circuit, sim)\n",
    "    result = job.result()\n",
    "    counts = result.get_counts()\n",
    "    return counts\n",
    "\n",
    "# plot_histogram(measure_and_plot(cr))"
   ]
  },
  {
   "cell_type": "code",
   "execution_count": 4,
   "id": "110924f4",
   "metadata": {},
   "outputs": [
    {
     "name": "stdout",
     "output_type": "stream",
     "text": [
      "Statevector([0.70710678+0.j , 0.        +0.j , 0.        +0.j ,\n",
      "             0.5       +0.5j],\n",
      "            dims=(2, 2))\n"
     ]
    }
   ],
   "source": [
    "sim = Aer.get_backend('aer_simulator')\n",
    "cr.save_statevector()   # Tell simulator to save statevector\n",
    "qobj = assemble(cr)     # Create a Qobj from the circuit for the simulator to run\n",
    "result = sim.run(qobj).result() # Do the simulation and return the result\n",
    "out_state = result.get_statevector()\n",
    "print(out_state) # Display the output state vector"
   ]
  }
 ],
 "metadata": {
  "kernelspec": {
   "display_name": "Python 3 (ipykernel)",
   "language": "python",
   "name": "python3"
  },
  "language_info": {
   "codemirror_mode": {
    "name": "ipython",
    "version": 3
   },
   "file_extension": ".py",
   "mimetype": "text/x-python",
   "name": "python",
   "nbconvert_exporter": "python",
   "pygments_lexer": "ipython3",
   "version": "3.9.16"
  }
 },
 "nbformat": 4,
 "nbformat_minor": 5
}

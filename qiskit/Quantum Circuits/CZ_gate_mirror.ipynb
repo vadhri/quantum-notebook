{
 "cells": [
  {
   "attachments": {},
   "cell_type": "markdown",
   "metadata": {},
   "source": [
    "### Show that control z gate can have any control or target qubits.   \n",
    "\n",
    "CZ  = $ |0 \\rangle \\langle 0| \\otimes I +  |1 \\rangle \\langle 1| \\otimes Z $ = $ I \\otimes |0 \\rangle \\langle 0| +  Z \\otimes |1 \\rangle \\langle 1| $\n",
    "\n"
   ]
  },
  {
   "cell_type": "code",
   "execution_count": 1,
   "metadata": {},
   "outputs": [
    {
     "data": {
      "text/latex": [
       "$$ |01\\rangle$$"
      ],
      "text/plain": [
       "<IPython.core.display.Latex object>"
      ]
     },
     "execution_count": 1,
     "metadata": {},
     "output_type": "execute_result"
    }
   ],
   "source": [
    "from qiskit import *\n",
    "from qiskit.quantum_info import Statevector\n",
    "\n",
    "QC = QuantumCircuit(2)\n",
    "QC.x(0)\n",
    "QC.cz(0, 1)\n",
    "\n",
    "backend = Aer.get_backend(\"statevector_simulator\")\n",
    "result = execute(QC, backend = backend, shots = 1).result()\n",
    "z = Statevector(result.get_statevector())\n",
    "z.draw(\"Latex\")\n"
   ]
  },
  {
   "cell_type": "code",
   "execution_count": 2,
   "metadata": {},
   "outputs": [
    {
     "data": {
      "text/latex": [
       "$$ |01\\rangle$$"
      ],
      "text/plain": [
       "<IPython.core.display.Latex object>"
      ]
     },
     "execution_count": 2,
     "metadata": {},
     "output_type": "execute_result"
    }
   ],
   "source": [
    "from qiskit import *\n",
    "from qiskit.quantum_info import Statevector\n",
    "\n",
    "QC = QuantumCircuit(2)\n",
    "QC.x(0)\n",
    "QC.cz(1, 0)\n",
    "\n",
    "backend = Aer.get_backend(\"statevector_simulator\")\n",
    "result = execute(QC, backend = backend, shots = 1).result()\n",
    "z = Statevector(result.get_statevector())\n",
    "z.draw(\"Latex\")\n"
   ]
  },
  {
   "attachments": {},
   "cell_type": "markdown",
   "metadata": {},
   "source": []
  }
 ],
 "metadata": {
  "kernelspec": {
   "display_name": "QCML",
   "language": "python",
   "name": "python3"
  },
  "language_info": {
   "codemirror_mode": {
    "name": "ipython",
    "version": 3
   },
   "file_extension": ".py",
   "mimetype": "text/x-python",
   "name": "python",
   "nbconvert_exporter": "python",
   "pygments_lexer": "ipython3",
   "version": "3.9.16"
  },
  "orig_nbformat": 4
 },
 "nbformat": 4,
 "nbformat_minor": 2
}

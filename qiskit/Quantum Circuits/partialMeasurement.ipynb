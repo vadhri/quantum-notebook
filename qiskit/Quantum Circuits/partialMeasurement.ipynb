{
 "cells": [
  {
   "cell_type": "code",
   "execution_count": 1,
   "metadata": {},
   "outputs": [
    {
     "data": {
      "text/latex": [
       "$$0.809016994375 |00\\rangle+0.587785252292 |10\\rangle$$"
      ],
      "text/plain": [
       "<IPython.core.display.Latex object>"
      ]
     },
     "execution_count": 1,
     "metadata": {},
     "output_type": "execute_result"
    }
   ],
   "source": [
    "from qiskit import Aer, QuantumRegister, ClassicalRegister, QuantumCircuit, execute\n",
    "from numpy import pi\n",
    "from qiskit.quantum_info import Statevector\n",
    "\n",
    "qreg_q = QuantumRegister(2, 'q')\n",
    "creg_c = ClassicalRegister(1, 'c')\n",
    "circuit = QuantumCircuit(qreg_q, creg_c)\n",
    "\n",
    "circuit.ry(2*pi/5, qreg_q[1])\n",
    "\n",
    "state = Statevector(circuit)\n",
    "state.draw(\"Latex\")\n"
   ]
  },
  {
   "cell_type": "code",
   "execution_count": 2,
   "metadata": {},
   "outputs": [
    {
     "data": {
      "image/png": "[encoded data removed]",
      "text/plain": [
       "<Figure size 310.869x142.139 with 1 Axes>"
      ]
     },
     "execution_count": 2,
     "metadata": {},
     "output_type": "execute_result"
    }
   ],
   "source": [
    "\n",
    "circuit.barrier(qreg_q[0], qreg_q[1])\n",
    "circuit.h(qreg_q[0])\n",
    "circuit.cx(qreg_q[0], qreg_q[1])\n",
    "circuit.h(qreg_q[0])\n",
    "circuit.measure(qreg_q[0], creg_c[0])\n",
    "circuit.draw(output=\"mpl\", scale=0.5)"
   ]
  },
  {
   "cell_type": "code",
   "execution_count": 3,
   "metadata": {},
   "outputs": [
    {
     "name": "stdout",
     "output_type": "stream",
     "text": [
      "State after first measurement: Statevector([ 0.70710678-3.64401045e-17j,  0.        +0.00000000e+00j,\n",
      "              0.70710678-5.01555011e-17j, -0.        +0.00000000e+00j],\n",
      "            dims=(2, 2))\n"
     ]
    },
    {
     "data": {
      "text/latex": [
       "$$\\frac{\\sqrt{2}}{2} |00\\rangle+\\frac{\\sqrt{2}}{2} |10\\rangle$$"
      ],
      "text/plain": [
       "<IPython.core.display.Latex object>"
      ]
     },
     "execution_count": 3,
     "metadata": {},
     "output_type": "execute_result"
    }
   ],
   "source": [
    "backend = Aer.get_backend(\"statevector_simulator\")\n",
    "\n",
    "result = execute(circuit, backend=backend, shots=1).result()\n",
    "print('State after first measurement:', result.get_statevector() )\n",
    "\n",
    "result.get_statevector().draw(\"Latex\")"
   ]
  }
 ],
 "metadata": {
  "kernelspec": {
   "display_name": "QCML",
   "language": "python",
   "name": "python3"
  },
  "language_info": {
   "codemirror_mode": {
    "name": "ipython",
    "version": 3
   },
   "file_extension": ".py",
   "mimetype": "text/x-python",
   "name": "python",
   "nbconvert_exporter": "python",
   "pygments_lexer": "ipython3",
   "version": "3.9.16"
  },
  "orig_nbformat": 4
 },
 "nbformat": 4,
 "nbformat_minor": 2
}

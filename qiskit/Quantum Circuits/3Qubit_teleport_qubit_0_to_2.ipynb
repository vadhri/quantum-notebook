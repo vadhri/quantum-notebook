{
 "cells": [
  {
   "attachments": {},
   "cell_type": "markdown",
   "metadata": {},
   "source": [
    "## Design a circuit to flip the states between 0,1,2 qubits to 2,1,0 qubits with 1,2 qubits starting with + and 0 as inputs."
   ]
  },
  {
   "cell_type": "code",
   "execution_count": 1,
   "metadata": {},
   "outputs": [
    {
     "data": {
      "text/latex": [
       "$$\\frac{\\sqrt{2}}{4} |000\\rangle+\\frac{\\sqrt{6}}{4} |001\\rangle+\\frac{\\sqrt{2}}{4} |010\\rangle+\\frac{\\sqrt{6}}{4} |011\\rangle$$"
      ],
      "text/plain": [
       "<IPython.core.display.Latex object>"
      ]
     },
     "execution_count": 1,
     "metadata": {},
     "output_type": "execute_result"
    }
   ],
   "source": [
    "from qiskit import *\n",
    "from qiskit.quantum_info import Statevector\n",
    "import math\n",
    "\n",
    "QC = QuantumCircuit(3)\n",
    "\n",
    "initial_state = [math.sqrt(3)/2,1/2]  \n",
    "QC.initialize(initial_state, 0)\n",
    "\n",
    "QC.h(1)\n",
    "QC.barrier()\n",
    "\n",
    "QC.x(0)\n",
    "\n",
    "state = Statevector(QC)\n",
    "state.draw(\"Latex\")\n"
   ]
  },
  {
   "cell_type": "code",
   "execution_count": 2,
   "metadata": {},
   "outputs": [
    {
     "data": {
      "text/html": [
       "<pre style=\"word-wrap: normal;white-space: pre;background: #fff0;line-height: 1.1;font-family: &quot;Courier New&quot;,Courier,monospace\">     ┌─────────────────────────┐ ░ ┌───┐ ░                ┌───┐\n",
       "q_0: ┤ Initialize(0.86603,0.5) ├─░─┤ X ├─░────────■───────┤ X ├\n",
       "     └──────────┬───┬──────────┘ ░ └───┘ ░      ┌─┴─┐     └─┬─┘\n",
       "q_1: ───────────┤ H ├────────────░───────░───■──┤ X ├──■────┼──\n",
       "                └───┘            ░       ░ ┌─┴─┐└───┘┌─┴─┐  │  \n",
       "q_2: ────────────────────────────░───────░─┤ X ├─────┤ X ├──■──\n",
       "                                 ░       ░ └───┘     └───┘     </pre>"
      ],
      "text/plain": [
       "     ┌─────────────────────────┐ ░ ┌───┐ ░                ┌───┐\n",
       "q_0: ┤ Initialize(0.86603,0.5) ├─░─┤ X ├─░────────■───────┤ X ├\n",
       "     └──────────┬───┬──────────┘ ░ └───┘ ░      ┌─┴─┐     └─┬─┘\n",
       "q_1: ───────────┤ H ├────────────░───────░───■──┤ X ├──■────┼──\n",
       "                └───┘            ░       ░ ┌─┴─┐└───┘┌─┴─┐  │  \n",
       "q_2: ────────────────────────────░───────░─┤ X ├─────┤ X ├──■──\n",
       "                                 ░       ░ └───┘     └───┘     "
      ]
     },
     "execution_count": 2,
     "metadata": {},
     "output_type": "execute_result"
    }
   ],
   "source": [
    "\n",
    "QC.barrier()\n",
    "QC.cx(1,2)\n",
    "QC.cx(0,1)\n",
    "QC.cx(1,2)\n",
    "QC.cx(2,0)\n",
    "\n",
    "QC.draw()"
   ]
  },
  {
   "cell_type": "code",
   "execution_count": 3,
   "metadata": {},
   "outputs": [
    {
     "data": {
      "text/latex": [
       "$$\\frac{\\sqrt{2}}{4} |000\\rangle+\\frac{\\sqrt{2}}{4} |010\\rangle+\\frac{\\sqrt{6}}{4} |100\\rangle+\\frac{\\sqrt{6}}{4} |110\\rangle$$"
      ],
      "text/plain": [
       "<IPython.core.display.Latex object>"
      ]
     },
     "execution_count": 3,
     "metadata": {},
     "output_type": "execute_result"
    }
   ],
   "source": [
    "backend = Aer.get_backend(\"statevector_simulator\")\n",
    "result = execute(QC, backend = backend, shots = 1).result()\n",
    "z = Statevector(result.get_statevector())\n",
    "z.draw(\"Latex\")"
   ]
  }
 ],
 "metadata": {
  "kernelspec": {
   "display_name": "QCML",
   "language": "python",
   "name": "python3"
  },
  "language_info": {
   "codemirror_mode": {
    "name": "ipython",
    "version": 3
   },
   "file_extension": ".py",
   "mimetype": "text/x-python",
   "name": "python",
   "nbconvert_exporter": "python",
   "pygments_lexer": "ipython3",
   "version": "3.9.16"
  },
  "orig_nbformat": 4
 },
 "nbformat": 4,
 "nbformat_minor": 2
}

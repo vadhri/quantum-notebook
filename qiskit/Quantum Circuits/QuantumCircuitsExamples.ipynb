{
 "cells": [
  {
   "cell_type": "markdown",
   "id": "639d8209",
   "metadata": {
    "tags": []
   },
   "source": [
    "# Quantum circuits"
   ]
  },
  {
   "cell_type": "code",
   "execution_count": 12,
   "id": "47e786d2",
   "metadata": {},
   "outputs": [],
   "source": [
    "import numpy as np\n",
    "from qiskit import QuantumCircuit, QuantumRegister, ClassicalRegister\n",
    "from qiskit import IBMQ, Aer, transpile, assemble\n",
    "from qiskit.visualization import plot_histogram, plot_bloch_multivector, array_to_latex\n",
    "from qiskit.extensions import Initialize\n",
    "from qiskit.quantum_info import random_statevector\n",
    "from qiskit.quantum_info.states import Statevector, partial_trace\n",
    "from qiskit import *\n",
    "from qiskit.tools.jupyter import *\n",
    "from qiskit.visualization import *\n",
    "import matplotlib.pyplot as plotter\n",
    "import numpy as np\n",
    "from IPython.display import display, Math, Latex\n",
    "%matplotlib inline"
   ]
  },
  {
   "cell_type": "code",
   "execution_count": 13,
   "id": "1230a562",
   "metadata": {},
   "outputs": [],
   "source": [
    "# helpers\n",
    "\n",
    "def measure_and_plot(circuit):\n",
    "    circuit.measure_all()\n",
    "    sim = Aer.get_backend('aer_simulator')\n",
    "    job = execute(QC, sim)\n",
    "    result = job.result()\n",
    "    counts = result.get_counts()\n",
    "    return counts\n"
   ]
  },
  {
   "cell_type": "markdown",
   "id": "fdc406c4-0532-4fbf-b17e-3fbb467b8c03",
   "metadata": {
    "tags": []
   },
   "source": [
    "## Circuit 1"
   ]
  },
  {
   "cell_type": "code",
   "execution_count": 14,
   "id": "15a9e6a0",
   "metadata": {},
   "outputs": [
    {
     "data": {
      "text/html": [
       "<pre style=\"word-wrap: normal;white-space: pre;background: #fff0;line-height: 1.1;font-family: &quot;Courier New&quot;,Courier,monospace\">               \n",
       "q_0: ──■───────\n",
       "     ┌─┴─┐     \n",
       "q_1: ┤ X ├──■──\n",
       "     └───┘┌─┴─┐\n",
       "q_2: ─────┤ X ├\n",
       "          └───┘</pre>"
      ],
      "text/plain": [
       "               \n",
       "q_0: ──■───────\n",
       "     ┌─┴─┐     \n",
       "q_1: ┤ X ├──■──\n",
       "     └───┘┌─┴─┐\n",
       "q_2: ─────┤ X ├\n",
       "          └───┘"
      ]
     },
     "execution_count": 14,
     "metadata": {},
     "output_type": "execute_result"
    }
   ],
   "source": [
    "##1 \n",
    "\n",
    "QC = QuantumCircuit(3)\n",
    "QC.cx(0,1)\n",
    "QC.cx(1,2)\n",
    "QC.draw()"
   ]
  },
  {
   "cell_type": "markdown",
   "id": "aed09d2c-b25b-4e4e-8d6a-edab76b3e78c",
   "metadata": {},
   "source": [
    "### Math"
   ]
  },
  {
   "cell_type": "markdown",
   "id": "59a7d107",
   "metadata": {},
   "source": [
    "line 1 : $|0\\rangle$\n",
    "\n",
    "line 2 : $ CNOT(|0 \\rangle, |0 \\rangle) = |0 \\rangle $\n",
    "\n",
    "line 3 : $ CNOT(|0 \\rangle, |0 \\rangle) = |0 \\rangle $\n",
    "\n",
    "output : $ |000 \\rangle $"
   ]
  },
  {
   "cell_type": "code",
   "execution_count": 15,
   "id": "9a92d96c",
   "metadata": {},
   "outputs": [
    {
     "data": {
      "image/png": "[encoded data removed]",
      "text/plain": [
       "<Figure size 200x200 with 1 Axes>"
      ]
     },
     "execution_count": 15,
     "metadata": {},
     "output_type": "execute_result"
    }
   ],
   "source": [
    "plot_histogram(measure_and_plot(QC), figsize=(2,2))"
   ]
  },
  {
   "cell_type": "markdown",
   "id": "6581c4b7-d57b-449a-9c58-77c065b59679",
   "metadata": {},
   "source": [
    "## Circuit 2"
   ]
  },
  {
   "cell_type": "code",
   "execution_count": 16,
   "id": "86ea56c7-0198-4e89-940f-db23411274f9",
   "metadata": {},
   "outputs": [
    {
     "data": {
      "text/html": [
       "<pre style=\"word-wrap: normal;white-space: pre;background: #fff0;line-height: 1.1;font-family: &quot;Courier New&quot;,Courier,monospace\">     ┌───┐          \n",
       "q_0: ┤ H ├──■────■──\n",
       "     └───┘┌─┴─┐  │  \n",
       "q_1: ─────┤ X ├──┼──\n",
       "          └───┘┌─┴─┐\n",
       "q_2: ──────────┤ X ├\n",
       "               └───┘</pre>"
      ],
      "text/plain": [
       "     ┌───┐          \n",
       "q_0: ┤ H ├──■────■──\n",
       "     └───┘┌─┴─┐  │  \n",
       "q_1: ─────┤ X ├──┼──\n",
       "          └───┘┌─┴─┐\n",
       "q_2: ──────────┤ X ├\n",
       "               └───┘"
      ]
     },
     "execution_count": 16,
     "metadata": {},
     "output_type": "execute_result"
    }
   ],
   "source": [
    "QC = QuantumCircuit(3)\n",
    "QC.h(0)\n",
    "QC.cx(0,1)\n",
    "QC.cx(0,2)\n",
    "QC.draw()"
   ]
  },
  {
   "cell_type": "markdown",
   "id": "7ce3ff42-28ad-42c1-9bc6-7ff92d511bb2",
   "metadata": {},
   "source": [
    "### Math"
   ]
  },
  {
   "cell_type": "code",
   "execution_count": null,
   "id": "9faf7743-0886-479d-a61e-0af8438f7aa6",
   "metadata": {},
   "outputs": [],
   "source": []
  },
  {
   "cell_type": "code",
   "execution_count": 17,
   "id": "dbaf60fa-0ad6-4988-a6ae-04ca9ac12620",
   "metadata": {},
   "outputs": [
    {
     "data": {
      "image/png": "[encoded data removed]",
      "text/plain": [
       "<Figure size 200x200 with 1 Axes>"
      ]
     },
     "execution_count": 17,
     "metadata": {},
     "output_type": "execute_result"
    }
   ],
   "source": [
    "plot_histogram(measure_and_plot(QC), figsize=(2,2))"
   ]
  }
 ],
 "metadata": {
  "kernelspec": {
   "display_name": "Python 3 (ipykernel)",
   "language": "python",
   "name": "python3"
  },
  "language_info": {
   "codemirror_mode": {
    "name": "ipython",
    "version": 3
   },
   "file_extension": ".py",
   "mimetype": "text/x-python",
   "name": "python",
   "nbconvert_exporter": "python",
   "pygments_lexer": "ipython3",
   "version": "3.9.16"
  }
 },
 "nbformat": 4,
 "nbformat_minor": 5
}

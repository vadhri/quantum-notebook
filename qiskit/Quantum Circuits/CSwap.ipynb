{
 "cells": [
  {
   "attachments": {},
   "cell_type": "markdown",
   "metadata": {},
   "source": [
    "### Swapping isolated qubit states. "
   ]
  },
  {
   "cell_type": "code",
   "execution_count": 37,
   "metadata": {},
   "outputs": [
    {
     "data": {
      "text/latex": [
       "$$\\frac{\\sqrt{2}}{2} |100\\rangle+\\frac{\\sqrt{2}}{2} |101\\rangle$$"
      ],
      "text/plain": [
       "<IPython.core.display.Latex object>"
      ]
     },
     "execution_count": 37,
     "metadata": {},
     "output_type": "execute_result"
    }
   ],
   "source": [
    "from qiskit import *\n",
    "from qiskit.quantum_info import Statevector\n",
    "\n",
    "QReg = QuantumRegister(3)\n",
    "QC = QuantumCircuit(QReg)\n",
    "\n",
    "QC.h(0)\n",
    "QC.x(2)\n",
    "\n",
    "state = Statevector(QC)\n",
    "state.draw(output=\"Latex\")"
   ]
  },
  {
   "cell_type": "code",
   "execution_count": 38,
   "metadata": {},
   "outputs": [
    {
     "data": {
      "text/latex": [
       "$$\\frac{\\sqrt{2}}{2} |100\\rangle+\\frac{\\sqrt{2}}{2} |110\\rangle$$"
      ],
      "text/plain": [
       "<IPython.core.display.Latex object>"
      ]
     },
     "execution_count": 38,
     "metadata": {},
     "output_type": "execute_result"
    }
   ],
   "source": [
    "QC.cswap(QReg[2],QReg[0],QReg[1])\n",
    "state = Statevector(QC)\n",
    "state.draw(output=\"Latex\")"
   ]
  },
  {
   "attachments": {},
   "cell_type": "markdown",
   "metadata": {},
   "source": [
    "Swapping entangled states"
   ]
  },
  {
   "cell_type": "code",
   "execution_count": 39,
   "metadata": {},
   "outputs": [
    {
     "data": {
      "text/latex": [
       "$$\\frac{1}{2} |00000\\rangle+\\frac{1}{2} |00111\\rangle- \\frac{1}{2} |11001\\rangle- \\frac{1}{2} |11110\\rangle$$"
      ],
      "text/plain": [
       "<IPython.core.display.Latex object>"
      ]
     },
     "execution_count": 39,
     "metadata": {},
     "output_type": "execute_result"
    }
   ],
   "source": [
    "from qiskit import *\n",
    "from qiskit.quantum_info import Statevector\n",
    "from qiskit.visualization import *\n",
    "\n",
    "QReg = QuantumRegister(5)\n",
    "CReg = ClassicalRegister(1)\n",
    "\n",
    "QC = QuantumCircuit(QReg, CReg)\n",
    "\n",
    "QC.h(1)\n",
    "QC.cx(1,2)\n",
    "\n",
    "QC.x(3)\n",
    "QC.h(3)\n",
    "QC.cx(3,4)\n",
    "QC.barrier()\n",
    "\n",
    "QC.h(0)\n",
    "QC.cswap(0,1,3)\n",
    "QC.cswap(0,2,4)\n",
    "QC.h(0)\n",
    "\n",
    "state = Statevector(QC)\n",
    "state.draw(output=\"Latex\")"
   ]
  },
  {
   "cell_type": "code",
   "execution_count": 40,
   "metadata": {},
   "outputs": [
    {
     "data": {
      "image/png": "[encoded data removed]",
      "text/plain": [
       "<Figure size 454.719x267.556 with 1 Axes>"
      ]
     },
     "execution_count": 40,
     "metadata": {},
     "output_type": "execute_result"
    }
   ],
   "source": [
    "\n",
    "QC.measure(0,0)\n",
    "QC.draw(output=\"mpl\", scale=0.5)"
   ]
  },
  {
   "cell_type": "code",
   "execution_count": 41,
   "metadata": {},
   "outputs": [
    {
     "data": {
      "text/latex": [
       "$$\\frac{1}{2} |00000\\rangle+\\frac{1}{2} |00110\\rangle- \\frac{1}{2} |11000\\rangle- \\frac{1}{2} |11110\\rangle$$"
      ],
      "text/plain": [
       "<IPython.core.display.Latex object>"
      ]
     },
     "execution_count": 41,
     "metadata": {},
     "output_type": "execute_result"
    }
   ],
   "source": [
    "QReg = QuantumRegister(5)\n",
    "CReg = ClassicalRegister(1)\n",
    "\n",
    "QC = QuantumCircuit(QReg, CReg)\n",
    "\n",
    "QC.h(1)\n",
    "QC.cx(1,2)\n",
    "\n",
    "QC.x(3)\n",
    "QC.h(3)\n",
    "QC.cx(3,4)\n",
    "\n",
    "QC.barrier()\n",
    "state = Statevector(QC)\n",
    "state.draw(output=\"Latex\")"
   ]
  },
  {
   "cell_type": "code",
   "execution_count": 42,
   "metadata": {},
   "outputs": [
    {
     "data": {
      "text/html": [
       "<pre style=\"word-wrap: normal;white-space: pre;background: #fff0;line-height: 1.1;font-family: &quot;Courier New&quot;,Courier,monospace\">                       ░ \n",
       "q20_0: ────────────────░─\n",
       "       ┌───┐           ░ \n",
       "q20_1: ┤ H ├──■────────░─\n",
       "       └───┘┌─┴─┐      ░ \n",
       "q20_2: ─────┤ X ├──────░─\n",
       "       ┌───┐├───┤      ░ \n",
       "q20_3: ┤ X ├┤ H ├──■───░─\n",
       "       └───┘└───┘┌─┴─┐ ░ \n",
       "q20_4: ──────────┤ X ├─░─\n",
       "                 └───┘ ░ \n",
       "c12: 1/══════════════════\n",
       "                         </pre>"
      ],
      "text/plain": [
       "                       ░ \n",
       "q20_0: ────────────────░─\n",
       "       ┌───┐           ░ \n",
       "q20_1: ┤ H ├──■────────░─\n",
       "       └───┘┌─┴─┐      ░ \n",
       "q20_2: ─────┤ X ├──────░─\n",
       "       ┌───┐├───┤      ░ \n",
       "q20_3: ┤ X ├┤ H ├──■───░─\n",
       "       └───┘└───┘┌─┴─┐ ░ \n",
       "q20_4: ──────────┤ X ├─░─\n",
       "                 └───┘ ░ \n",
       "c12: 1/══════════════════\n",
       "                         "
      ]
     },
     "execution_count": 42,
     "metadata": {},
     "output_type": "execute_result"
    }
   ],
   "source": [
    "QC.draw()"
   ]
  },
  {
   "cell_type": "code",
   "execution_count": 43,
   "metadata": {},
   "outputs": [
    {
     "data": {
      "text/latex": [
       "$$\\frac{1}{2} |00000\\rangle- \\frac{1}{2} |00110\\rangle+\\frac{1}{2} |11000\\rangle- \\frac{1}{2} |11110\\rangle$$"
      ],
      "text/plain": [
       "<IPython.core.display.Latex object>"
      ]
     },
     "execution_count": 43,
     "metadata": {},
     "output_type": "execute_result"
    }
   ],
   "source": [
    "QReg = QuantumRegister(5)\n",
    "CReg = ClassicalRegister(1)\n",
    "\n",
    "QC = QuantumCircuit(QReg, CReg)\n",
    "\n",
    "QC.h(3)\n",
    "QC.cx(3,4)\n",
    "\n",
    "QC.x(1)\n",
    "QC.h(1)\n",
    "QC.cx(1,2)\n",
    "\n",
    "QC.barrier()\n",
    "state = Statevector(QC)\n",
    "state.draw(output=\"Latex\")"
   ]
  },
  {
   "cell_type": "code",
   "execution_count": 44,
   "metadata": {},
   "outputs": [
    {
     "data": {
      "text/html": [
       "<pre style=\"word-wrap: normal;white-space: pre;background: #fff0;line-height: 1.1;font-family: &quot;Courier New&quot;,Courier,monospace\">                       ░ \n",
       "q21_0: ────────────────░─\n",
       "       ┌───┐┌───┐      ░ \n",
       "q21_1: ┤ X ├┤ H ├──■───░─\n",
       "       └───┘└───┘┌─┴─┐ ░ \n",
       "q21_2: ──────────┤ X ├─░─\n",
       "       ┌───┐     └───┘ ░ \n",
       "q21_3: ┤ H ├──■────────░─\n",
       "       └───┘┌─┴─┐      ░ \n",
       "q21_4: ─────┤ X ├──────░─\n",
       "            └───┘      ░ \n",
       "c13: 1/══════════════════\n",
       "                         </pre>"
      ],
      "text/plain": [
       "                       ░ \n",
       "q21_0: ────────────────░─\n",
       "       ┌───┐┌───┐      ░ \n",
       "q21_1: ┤ X ├┤ H ├──■───░─\n",
       "       └───┘└───┘┌─┴─┐ ░ \n",
       "q21_2: ──────────┤ X ├─░─\n",
       "       ┌───┐     └───┘ ░ \n",
       "q21_3: ┤ H ├──■────────░─\n",
       "       └───┘┌─┴─┐      ░ \n",
       "q21_4: ─────┤ X ├──────░─\n",
       "            └───┘      ░ \n",
       "c13: 1/══════════════════\n",
       "                         "
      ]
     },
     "execution_count": 44,
     "metadata": {},
     "output_type": "execute_result"
    }
   ],
   "source": [
    "QC.draw()"
   ]
  }
 ],
 "metadata": {
  "kernelspec": {
   "display_name": "QCML",
   "language": "python",
   "name": "python3"
  },
  "language_info": {
   "codemirror_mode": {
    "name": "ipython",
    "version": 3
   },
   "file_extension": ".py",
   "mimetype": "text/x-python",
   "name": "python",
   "nbconvert_exporter": "python",
   "pygments_lexer": "ipython3",
   "version": "3.9.16"
  },
  "orig_nbformat": 4
 },
 "nbformat": 4,
 "nbformat_minor": 2
}

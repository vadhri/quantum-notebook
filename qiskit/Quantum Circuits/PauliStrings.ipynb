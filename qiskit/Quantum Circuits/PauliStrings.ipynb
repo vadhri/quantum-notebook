{
 "cells": [
  {
   "cell_type": "code",
   "execution_count": 29,
   "metadata": {},
   "outputs": [
    {
     "data": {
      "text/latex": [
       "$$- i |11100101\\rangle$$"
      ],
      "text/plain": [
       "<IPython.core.display.Latex object>"
      ]
     },
     "execution_count": 29,
     "metadata": {},
     "output_type": "execute_result"
    }
   ],
   "source": [
    "from qiskit import *\n",
    "from qiskit.quantum_info import *\n",
    "\n",
    "A = Pauli(\"iXYXZ\")\n",
    "A = A.tensor(Pauli(\"ZYZX\"))\n",
    "\n",
    "Q = QuantumCircuit(8, 8)\n",
    "Q.append(A, [0,1,2,3,4,5,6,7])\n",
    "state = Statevector(Q)\n",
    "state.draw(output=\"Latex\")"
   ]
  },
  {
   "cell_type": "code",
   "execution_count": 30,
   "metadata": {},
   "outputs": [
    {
     "data": {
      "text/html": [
       "<pre style=\"word-wrap: normal;white-space: pre;background: #fff0;line-height: 1.1;font-family: &quot;Courier New&quot;,Courier,monospace\">     ┌────────────┐┌─┐                     \n",
       "q_0: ┤0           ├┤M├─────────────────────\n",
       "     │            │└╥┘┌─┐                  \n",
       "q_1: ┤1           ├─╫─┤M├──────────────────\n",
       "     │            │ ║ └╥┘┌─┐               \n",
       "q_2: ┤2           ├─╫──╫─┤M├───────────────\n",
       "     │            │ ║  ║ └╥┘┌─┐            \n",
       "q_3: ┤3           ├─╫──╫──╫─┤M├────────────\n",
       "     │  iXYXZZYZX │ ║  ║  ║ └╥┘┌─┐         \n",
       "q_4: ┤4           ├─╫──╫──╫──╫─┤M├─────────\n",
       "     │            │ ║  ║  ║  ║ └╥┘┌─┐      \n",
       "q_5: ┤5           ├─╫──╫──╫──╫──╫─┤M├──────\n",
       "     │            │ ║  ║  ║  ║  ║ └╥┘┌─┐   \n",
       "q_6: ┤6           ├─╫──╫──╫──╫──╫──╫─┤M├───\n",
       "     │            │ ║  ║  ║  ║  ║  ║ └╥┘┌─┐\n",
       "q_7: ┤7           ├─╫──╫──╫──╫──╫──╫──╫─┤M├\n",
       "     └────────────┘ ║  ║  ║  ║  ║  ║  ║ └╥┘\n",
       "c: 8/═══════════════╩══╩══╩══╩══╩══╩══╩══╩═\n",
       "                    0  1  2  3  4  5  6  7 </pre>"
      ],
      "text/plain": [
       "     ┌────────────┐┌─┐                     \n",
       "q_0: ┤0           ├┤M├─────────────────────\n",
       "     │            │└╥┘┌─┐                  \n",
       "q_1: ┤1           ├─╫─┤M├──────────────────\n",
       "     │            │ ║ └╥┘┌─┐               \n",
       "q_2: ┤2           ├─╫──╫─┤M├───────────────\n",
       "     │            │ ║  ║ └╥┘┌─┐            \n",
       "q_3: ┤3           ├─╫──╫──╫─┤M├────────────\n",
       "     │  iXYXZZYZX │ ║  ║  ║ └╥┘┌─┐         \n",
       "q_4: ┤4           ├─╫──╫──╫──╫─┤M├─────────\n",
       "     │            │ ║  ║  ║  ║ └╥┘┌─┐      \n",
       "q_5: ┤5           ├─╫──╫──╫──╫──╫─┤M├──────\n",
       "     │            │ ║  ║  ║  ║  ║ └╥┘┌─┐   \n",
       "q_6: ┤6           ├─╫──╫──╫──╫──╫──╫─┤M├───\n",
       "     │            │ ║  ║  ║  ║  ║  ║ └╥┘┌─┐\n",
       "q_7: ┤7           ├─╫──╫──╫──╫──╫──╫──╫─┤M├\n",
       "     └────────────┘ ║  ║  ║  ║  ║  ║  ║ └╥┘\n",
       "c: 8/═══════════════╩══╩══╩══╩══╩══╩══╩══╩═\n",
       "                    0  1  2  3  4  5  6  7 "
      ]
     },
     "execution_count": 30,
     "metadata": {},
     "output_type": "execute_result"
    }
   ],
   "source": [
    "for i in range(8):\n",
    "    Q.measure(i,i)\n",
    "Q.draw()\n"
   ]
  },
  {
   "cell_type": "code",
   "execution_count": 31,
   "metadata": {},
   "outputs": [
    {
     "name": "stdout",
     "output_type": "stream",
     "text": [
      "SamplerResult(quasi_dists=[{229: 1.0}], metadata=[{}])\n"
     ]
    }
   ],
   "source": [
    "from qiskit.primitives import Sampler\n",
    "sampler = Sampler()\n",
    "job = sampler.run(Q)\n",
    "print(job.result())"
   ]
  }
 ],
 "metadata": {
  "kernelspec": {
   "display_name": "QCML",
   "language": "python",
   "name": "python3"
  },
  "language_info": {
   "codemirror_mode": {
    "name": "ipython",
    "version": 3
   },
   "file_extension": ".py",
   "mimetype": "text/x-python",
   "name": "python",
   "nbconvert_exporter": "python",
   "pygments_lexer": "ipython3",
   "version": "3.9.16"
  },
  "orig_nbformat": 4
 },
 "nbformat": 4,
 "nbformat_minor": 2
}

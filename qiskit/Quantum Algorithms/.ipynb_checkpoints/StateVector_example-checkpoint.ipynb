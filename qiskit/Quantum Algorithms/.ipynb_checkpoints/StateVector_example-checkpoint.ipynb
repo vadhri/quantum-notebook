{
 "cells": [
  {
   "cell_type": "code",
   "execution_count": null,
   "id": "000d2de6",
   "metadata": {},
   "outputs": [],
   "source": [
    "## Simple 2-qubit quantum state with CNOT gate. \n",
    "\n",
    "from qiskit import QuantumCircuit, QuantumRegister, ClassicalRegister, Aer\n",
    "\n",
    "X = QuantumRegister(1, \"x\")\n",
    "Y = QuantumRegister(1, \"y\")\n",
    "\n",
    "A = ClassicalRegister(1, \"a\")\n",
    "B = ClassicalRegister(1, \"b\")\n",
    "\n",
    "circuit = QuantumCircuit(X, Y, B, A)\n",
    "\n",
    "circuit.h(X)\n",
    "circuit.cx(Y, X)\n",
    "\n",
    "backend = Aer.get_backend('unitary_simulator')\n",
    "job = backend.run(circuit)\n",
    "result = job.result()\n",
    "\n",
    "print(result)"
   ]
  },
  {
   "cell_type": "code",
   "execution_count": null,
   "id": "1060e366",
   "metadata": {},
   "outputs": [],
   "source": []
  }
 ],
 "metadata": {
  "kernelspec": {
   "display_name": "Python 3 (ipykernel)",
   "language": "python",
   "name": "python3"
  },
  "language_info": {
   "codemirror_mode": {
    "name": "ipython",
    "version": 3
   },
   "file_extension": ".py",
   "mimetype": "text/x-python",
   "name": "python",
   "nbconvert_exporter": "python",
   "pygments_lexer": "ipython3",
   "version": "3.9.16"
  }
 },
 "nbformat": 4,
 "nbformat_minor": 5
}

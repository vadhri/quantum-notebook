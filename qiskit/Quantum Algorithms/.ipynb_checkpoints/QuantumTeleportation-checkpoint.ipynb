{
 "cells": [
  {
   "cell_type": "markdown",
   "id": "8b7cefc1",
   "metadata": {},
   "source": [
    "# Quantum teleportation. \n"
   ]
  },
  {
   "cell_type": "code",
   "execution_count": 1,
   "id": "e1cdd3fe",
   "metadata": {},
   "outputs": [
    {
     "name": "stderr",
     "output_type": "stream",
     "text": [
      "/var/folders/n5/sr7wwb8n1wggd7jsk_k37l_w0000gn/T/ipykernel_16295/1648348982.py:6: DeprecationWarning: The qiskit.ignis package is deprecated and has been supersceded by the qiskit-experiments project. Refer to the migration guide: https://github.com/Qiskit/qiskit-ignis#migration-guide on how to migrate to the new project.\n",
      "  from qiskit.ignis.verification import marginal_counts\n"
     ]
    }
   ],
   "source": [
    "import numpy as np\n",
    "from qiskit import QuantumCircuit, QuantumRegister, ClassicalRegister\n",
    "from qiskit import IBMQ, Aer, transpile, assemble\n",
    "from qiskit.visualization import plot_histogram, plot_bloch_multivector, array_to_latex\n",
    "from qiskit.extensions import Initialize\n",
    "from qiskit.ignis.verification import marginal_counts\n",
    "from qiskit.quantum_info import random_statevector\n",
    "from qiskit.quantum_info.states import Statevector, partial_trace\n",
    "from qiskit import *\n",
    "from qiskit.tools.jupyter import *\n",
    "from qiskit.visualization import *\n",
    "import matplotlib.pyplot as plotter\n",
    "import numpy as np\n",
    "from IPython.display import display, Math, Latex\n",
    "%matplotlib inline\n"
   ]
  },
  {
   "cell_type": "code",
   "execution_count": 2,
   "id": "f3af5fa6",
   "metadata": {},
   "outputs": [
    {
     "data": {
      "text/plain": [
       "<qiskit.circuit.instructionset.InstructionSet at 0x7fc6949d7a60>"
      ]
     },
     "execution_count": 2,
     "metadata": {},
     "output_type": "execute_result"
    }
   ],
   "source": [
    "# Prepare the Qubit state to be trasferred. \n",
    "import math\n",
    "\n",
    "qbits = QuantumRegister(3, name=\"qubits\")\n",
    "creg1 = ClassicalRegister(1, name=\"Creg1\")\n",
    "creg2 = ClassicalRegister(2, name=\"Creg2\")\n",
    "\n",
    "quantum_teleportation_circuit = QuantumCircuit(qbits, creg1, creg2)\n",
    "\n",
    "initial_state = [1/math.sqrt(2),1/math.sqrt(2)]   # Define initial_state as |1>\n",
    "# quantum_teleportation_circuit.initialize(initial_state, 0)\n",
    "quantum_teleportation_circuit.x(0)\n",
    "\n",
    "quantum_teleportation_circuit.h(0)\n",
    "quantum_teleportation_circuit.barrier()\n"
   ]
  },
  {
   "cell_type": "markdown",
   "id": "e79e983c",
   "metadata": {},
   "source": [
    "# Prepare Bell states"
   ]
  },
  {
   "cell_type": "code",
   "execution_count": 3,
   "id": "6efb1168",
   "metadata": {},
   "outputs": [],
   "source": [
    "def create_bell_states(circuit, bit_1, bit_2):\n",
    "    circuit.h(bit_1)\n",
    "    circuit.cx(bit_1, bit_2)\n",
    "    circuit.barrier(0,1,2, label=\"#1\")\n"
   ]
  },
  {
   "cell_type": "code",
   "execution_count": 4,
   "id": "465eb54f",
   "metadata": {},
   "outputs": [],
   "source": [
    "create_bell_states(quantum_teleportation_circuit, 1, 2)"
   ]
  },
  {
   "cell_type": "code",
   "execution_count": 5,
   "id": "e12f7b8a",
   "metadata": {},
   "outputs": [],
   "source": [
    "# Alice prepare state for transfer. \n",
    "\n",
    "def alice_prepare_transfer(circuit, bit_1, bit_2):\n",
    "    circuit.cx(bit_2, bit_1)\n",
    "    circuit.h(bit_2)\n",
    "    circuit.barrier(0,1,2, label=\"#2\")\n",
    "\n",
    "def alice_send(circuit, bit_1, bit_2):\n",
    "    circuit.measure(0,bit_1)\n",
    "    circuit.measure(1,bit_2[0])"
   ]
  },
  {
   "cell_type": "code",
   "execution_count": 6,
   "id": "7f2b8206",
   "metadata": {},
   "outputs": [
    {
     "data": {
      "image/png": "[encoded data removed]",
      "text/plain": [
       "<Figure size 943.889x451.5 with 1 Axes>"
      ]
     },
     "execution_count": 6,
     "metadata": {},
     "output_type": "execute_result"
    }
   ],
   "source": [
    "alice_prepare_transfer(quantum_teleportation_circuit, 1, 0)\n",
    "quantum_teleportation_circuit.draw(output='mpl')"
   ]
  },
  {
   "cell_type": "markdown",
   "id": "09fd3bb2",
   "metadata": {},
   "source": [
    "# Alice measure states"
   ]
  },
  {
   "cell_type": "code",
   "execution_count": 7,
   "id": "d0c86bba",
   "metadata": {},
   "outputs": [
    {
     "ename": "CircuitError",
     "evalue": "\"Incorrect bit type: expected 'Qubit' but got 'Clbit'\"",
     "output_type": "error",
     "traceback": [
      "\u001b[0;31m---------------------------------------------------------------------------\u001b[0m",
      "\u001b[0;31mCircuitError\u001b[0m                              Traceback (most recent call last)",
      "Cell \u001b[0;32mIn[7], line 1\u001b[0m\n\u001b[0;32m----> 1\u001b[0m \u001b[43malice_send\u001b[49m\u001b[43m(\u001b[49m\u001b[43mquantum_teleportation_circuit\u001b[49m\u001b[43m,\u001b[49m\u001b[43m \u001b[49m\u001b[43mcreg1\u001b[49m\u001b[43m,\u001b[49m\u001b[43m \u001b[49m\u001b[43mcreg2\u001b[49m\u001b[43m)\u001b[49m\n",
      "Cell \u001b[0;32mIn[5], line 9\u001b[0m, in \u001b[0;36malice_send\u001b[0;34m(circuit, bit_1, bit_2)\u001b[0m\n\u001b[1;32m      8\u001b[0m \u001b[38;5;28;01mdef\u001b[39;00m \u001b[38;5;21malice_send\u001b[39m(circuit, bit_1, bit_2):\n\u001b[0;32m----> 9\u001b[0m     \u001b[43mcircuit\u001b[49m\u001b[38;5;241;43m.\u001b[39;49m\u001b[43mmeasure\u001b[49m\u001b[43m(\u001b[49m\u001b[43mbit_1\u001b[49m\u001b[43m,\u001b[49m\u001b[43m \u001b[49m\u001b[38;5;241;43m0\u001b[39;49m\u001b[43m)\u001b[49m\n\u001b[1;32m     10\u001b[0m     circuit\u001b[38;5;241m.\u001b[39mmeasure(bit_2[\u001b[38;5;241m0\u001b[39m], \u001b[38;5;241m1\u001b[39m)\n",
      "File \u001b[0;32m~/opt/anaconda3/envs/QCML/lib/python3.9/site-packages/qiskit/circuit/quantumcircuit.py:2280\u001b[0m, in \u001b[0;36mQuantumCircuit.measure\u001b[0;34m(self, qubit, cbit)\u001b[0m\n\u001b[1;32m   2267\u001b[0m \u001b[38;5;28;01mdef\u001b[39;00m \u001b[38;5;21mmeasure\u001b[39m(\u001b[38;5;28mself\u001b[39m, qubit: QubitSpecifier, cbit: ClbitSpecifier) \u001b[38;5;241m-\u001b[39m\u001b[38;5;241m>\u001b[39m InstructionSet:\n\u001b[1;32m   2268\u001b[0m     \u001b[38;5;124;03m\"\"\"Measure quantum bit into classical bit (tuples).\u001b[39;00m\n\u001b[1;32m   2269\u001b[0m \n\u001b[1;32m   2270\u001b[0m \u001b[38;5;124;03m    Args:\u001b[39;00m\n\u001b[0;32m   (...)\u001b[0m\n\u001b[1;32m   2278\u001b[0m \u001b[38;5;124;03m        CircuitError: if arguments have bad format.\u001b[39;00m\n\u001b[1;32m   2279\u001b[0m \u001b[38;5;124;03m    \"\"\"\u001b[39;00m\n\u001b[0;32m-> 2280\u001b[0m     \u001b[38;5;28;01mreturn\u001b[39;00m \u001b[38;5;28;43mself\u001b[39;49m\u001b[38;5;241;43m.\u001b[39;49m\u001b[43mappend\u001b[49m\u001b[43m(\u001b[49m\u001b[43mMeasure\u001b[49m\u001b[43m(\u001b[49m\u001b[43m)\u001b[49m\u001b[43m,\u001b[49m\u001b[43m \u001b[49m\u001b[43m[\u001b[49m\u001b[43mqubit\u001b[49m\u001b[43m]\u001b[49m\u001b[43m,\u001b[49m\u001b[43m \u001b[49m\u001b[43m[\u001b[49m\u001b[43mcbit\u001b[49m\u001b[43m]\u001b[49m\u001b[43m)\u001b[49m\n",
      "File \u001b[0;32m~/opt/anaconda3/envs/QCML/lib/python3.9/site-packages/qiskit/circuit/quantumcircuit.py:1253\u001b[0m, in \u001b[0;36mQuantumCircuit.append\u001b[0;34m(self, instruction, qargs, cargs)\u001b[0m\n\u001b[1;32m   1250\u001b[0m     \u001b[38;5;28;01mif\u001b[39;00m is_parameter:\n\u001b[1;32m   1251\u001b[0m         operation \u001b[38;5;241m=\u001b[39m copy\u001b[38;5;241m.\u001b[39mdeepcopy(operation)\n\u001b[0;32m-> 1253\u001b[0m expanded_qargs \u001b[38;5;241m=\u001b[39m [\u001b[38;5;28mself\u001b[39m\u001b[38;5;241m.\u001b[39mqbit_argument_conversion(qarg) \u001b[38;5;28;01mfor\u001b[39;00m qarg \u001b[38;5;129;01min\u001b[39;00m qargs \u001b[38;5;129;01mor\u001b[39;00m []]\n\u001b[1;32m   1254\u001b[0m expanded_cargs \u001b[38;5;241m=\u001b[39m [\u001b[38;5;28mself\u001b[39m\u001b[38;5;241m.\u001b[39mcbit_argument_conversion(carg) \u001b[38;5;28;01mfor\u001b[39;00m carg \u001b[38;5;129;01min\u001b[39;00m cargs \u001b[38;5;129;01mor\u001b[39;00m []]\n\u001b[1;32m   1256\u001b[0m \u001b[38;5;28;01mif\u001b[39;00m \u001b[38;5;28mself\u001b[39m\u001b[38;5;241m.\u001b[39m_control_flow_scopes:\n",
      "File \u001b[0;32m~/opt/anaconda3/envs/QCML/lib/python3.9/site-packages/qiskit/circuit/quantumcircuit.py:1253\u001b[0m, in \u001b[0;36m<listcomp>\u001b[0;34m(.0)\u001b[0m\n\u001b[1;32m   1250\u001b[0m     \u001b[38;5;28;01mif\u001b[39;00m is_parameter:\n\u001b[1;32m   1251\u001b[0m         operation \u001b[38;5;241m=\u001b[39m copy\u001b[38;5;241m.\u001b[39mdeepcopy(operation)\n\u001b[0;32m-> 1253\u001b[0m expanded_qargs \u001b[38;5;241m=\u001b[39m [\u001b[38;5;28;43mself\u001b[39;49m\u001b[38;5;241;43m.\u001b[39;49m\u001b[43mqbit_argument_conversion\u001b[49m\u001b[43m(\u001b[49m\u001b[43mqarg\u001b[49m\u001b[43m)\u001b[49m \u001b[38;5;28;01mfor\u001b[39;00m qarg \u001b[38;5;129;01min\u001b[39;00m qargs \u001b[38;5;129;01mor\u001b[39;00m []]\n\u001b[1;32m   1254\u001b[0m expanded_cargs \u001b[38;5;241m=\u001b[39m [\u001b[38;5;28mself\u001b[39m\u001b[38;5;241m.\u001b[39mcbit_argument_conversion(carg) \u001b[38;5;28;01mfor\u001b[39;00m carg \u001b[38;5;129;01min\u001b[39;00m cargs \u001b[38;5;129;01mor\u001b[39;00m []]\n\u001b[1;32m   1256\u001b[0m \u001b[38;5;28;01mif\u001b[39;00m \u001b[38;5;28mself\u001b[39m\u001b[38;5;241m.\u001b[39m_control_flow_scopes:\n",
      "File \u001b[0;32m~/opt/anaconda3/envs/QCML/lib/python3.9/site-packages/qiskit/circuit/quantumcircuit.py:1133\u001b[0m, in \u001b[0;36mQuantumCircuit.qbit_argument_conversion\u001b[0;34m(self, qubit_representation)\u001b[0m\n\u001b[1;32m   1122\u001b[0m \u001b[38;5;28;01mdef\u001b[39;00m \u001b[38;5;21mqbit_argument_conversion\u001b[39m(\u001b[38;5;28mself\u001b[39m, qubit_representation: QubitSpecifier) \u001b[38;5;241m-\u001b[39m\u001b[38;5;241m>\u001b[39m List[Qubit]:\n\u001b[1;32m   1123\u001b[0m     \u001b[38;5;124;03m\"\"\"\u001b[39;00m\n\u001b[1;32m   1124\u001b[0m \u001b[38;5;124;03m    Converts several qubit representations (such as indexes, range, etc.)\u001b[39;00m\n\u001b[1;32m   1125\u001b[0m \u001b[38;5;124;03m    into a list of qubits.\u001b[39;00m\n\u001b[0;32m   (...)\u001b[0m\n\u001b[1;32m   1131\u001b[0m \u001b[38;5;124;03m        List(Qubit): the resolved instances of the qubits.\u001b[39;00m\n\u001b[1;32m   1132\u001b[0m \u001b[38;5;124;03m    \"\"\"\u001b[39;00m\n\u001b[0;32m-> 1133\u001b[0m     \u001b[38;5;28;01mreturn\u001b[39;00m \u001b[43m_bit_argument_conversion\u001b[49m\u001b[43m(\u001b[49m\n\u001b[1;32m   1134\u001b[0m \u001b[43m        \u001b[49m\u001b[43mqubit_representation\u001b[49m\u001b[43m,\u001b[49m\u001b[43m \u001b[49m\u001b[38;5;28;43mself\u001b[39;49m\u001b[38;5;241;43m.\u001b[39;49m\u001b[43mqubits\u001b[49m\u001b[43m,\u001b[49m\u001b[43m \u001b[49m\u001b[38;5;28;43mself\u001b[39;49m\u001b[38;5;241;43m.\u001b[39;49m\u001b[43m_qubit_indices\u001b[49m\u001b[43m,\u001b[49m\u001b[43m \u001b[49m\u001b[43mQubit\u001b[49m\n\u001b[1;32m   1135\u001b[0m \u001b[43m    \u001b[49m\u001b[43m)\u001b[49m\n",
      "File \u001b[0;32m~/opt/anaconda3/envs/QCML/lib/python3.9/site-packages/qiskit/circuit/quantumcircuit.py:4928\u001b[0m, in \u001b[0;36m_bit_argument_conversion\u001b[0;34m(specifier, bit_sequence, bit_set, type_)\u001b[0m\n\u001b[1;32m   4926\u001b[0m     \u001b[38;5;28;01mreturn\u001b[39;00m bit_sequence[specifier]\n\u001b[1;32m   4927\u001b[0m \u001b[38;5;28;01mtry\u001b[39;00m:\n\u001b[0;32m-> 4928\u001b[0m     \u001b[38;5;28;01mreturn\u001b[39;00m [\n\u001b[1;32m   4929\u001b[0m         _bit_argument_conversion_scalar(index, bit_sequence, bit_set, type_)\n\u001b[1;32m   4930\u001b[0m         \u001b[38;5;28;01mfor\u001b[39;00m index \u001b[38;5;129;01min\u001b[39;00m specifier\n\u001b[1;32m   4931\u001b[0m     ]\n\u001b[1;32m   4932\u001b[0m \u001b[38;5;28;01mexcept\u001b[39;00m \u001b[38;5;167;01mTypeError\u001b[39;00m \u001b[38;5;28;01mas\u001b[39;00m ex:\n\u001b[1;32m   4933\u001b[0m     message \u001b[38;5;241m=\u001b[39m (\n\u001b[1;32m   4934\u001b[0m         \u001b[38;5;124mf\u001b[39m\u001b[38;5;124m\"\u001b[39m\u001b[38;5;124mIncorrect bit type: expected \u001b[39m\u001b[38;5;124m'\u001b[39m\u001b[38;5;132;01m{\u001b[39;00mtype_\u001b[38;5;241m.\u001b[39m\u001b[38;5;18m__name__\u001b[39m\u001b[38;5;132;01m}\u001b[39;00m\u001b[38;5;124m'\u001b[39m\u001b[38;5;124m but got \u001b[39m\u001b[38;5;124m'\u001b[39m\u001b[38;5;132;01m{\u001b[39;00m\u001b[38;5;28mtype\u001b[39m(specifier)\u001b[38;5;241m.\u001b[39m\u001b[38;5;18m__name__\u001b[39m\u001b[38;5;132;01m}\u001b[39;00m\u001b[38;5;124m'\u001b[39m\u001b[38;5;124m\"\u001b[39m\n\u001b[1;32m   4935\u001b[0m         \u001b[38;5;28;01mif\u001b[39;00m \u001b[38;5;28misinstance\u001b[39m(specifier, Bit)\n\u001b[1;32m   4936\u001b[0m         \u001b[38;5;28;01melse\u001b[39;00m \u001b[38;5;124mf\u001b[39m\u001b[38;5;124m\"\u001b[39m\u001b[38;5;124mInvalid bit index: \u001b[39m\u001b[38;5;124m'\u001b[39m\u001b[38;5;132;01m{\u001b[39;00mspecifier\u001b[38;5;132;01m}\u001b[39;00m\u001b[38;5;124m'\u001b[39m\u001b[38;5;124m of type \u001b[39m\u001b[38;5;124m'\u001b[39m\u001b[38;5;132;01m{\u001b[39;00m\u001b[38;5;28mtype\u001b[39m(specifier)\u001b[38;5;132;01m}\u001b[39;00m\u001b[38;5;124m'\u001b[39m\u001b[38;5;124m\"\u001b[39m\n\u001b[1;32m   4937\u001b[0m     )\n",
      "File \u001b[0;32m~/opt/anaconda3/envs/QCML/lib/python3.9/site-packages/qiskit/circuit/quantumcircuit.py:4929\u001b[0m, in \u001b[0;36m<listcomp>\u001b[0;34m(.0)\u001b[0m\n\u001b[1;32m   4926\u001b[0m     \u001b[38;5;28;01mreturn\u001b[39;00m bit_sequence[specifier]\n\u001b[1;32m   4927\u001b[0m \u001b[38;5;28;01mtry\u001b[39;00m:\n\u001b[1;32m   4928\u001b[0m     \u001b[38;5;28;01mreturn\u001b[39;00m [\n\u001b[0;32m-> 4929\u001b[0m         \u001b[43m_bit_argument_conversion_scalar\u001b[49m\u001b[43m(\u001b[49m\u001b[43mindex\u001b[49m\u001b[43m,\u001b[49m\u001b[43m \u001b[49m\u001b[43mbit_sequence\u001b[49m\u001b[43m,\u001b[49m\u001b[43m \u001b[49m\u001b[43mbit_set\u001b[49m\u001b[43m,\u001b[49m\u001b[43m \u001b[49m\u001b[43mtype_\u001b[49m\u001b[43m)\u001b[49m\n\u001b[1;32m   4930\u001b[0m         \u001b[38;5;28;01mfor\u001b[39;00m index \u001b[38;5;129;01min\u001b[39;00m specifier\n\u001b[1;32m   4931\u001b[0m     ]\n\u001b[1;32m   4932\u001b[0m \u001b[38;5;28;01mexcept\u001b[39;00m \u001b[38;5;167;01mTypeError\u001b[39;00m \u001b[38;5;28;01mas\u001b[39;00m ex:\n\u001b[1;32m   4933\u001b[0m     message \u001b[38;5;241m=\u001b[39m (\n\u001b[1;32m   4934\u001b[0m         \u001b[38;5;124mf\u001b[39m\u001b[38;5;124m\"\u001b[39m\u001b[38;5;124mIncorrect bit type: expected \u001b[39m\u001b[38;5;124m'\u001b[39m\u001b[38;5;132;01m{\u001b[39;00mtype_\u001b[38;5;241m.\u001b[39m\u001b[38;5;18m__name__\u001b[39m\u001b[38;5;132;01m}\u001b[39;00m\u001b[38;5;124m'\u001b[39m\u001b[38;5;124m but got \u001b[39m\u001b[38;5;124m'\u001b[39m\u001b[38;5;132;01m{\u001b[39;00m\u001b[38;5;28mtype\u001b[39m(specifier)\u001b[38;5;241m.\u001b[39m\u001b[38;5;18m__name__\u001b[39m\u001b[38;5;132;01m}\u001b[39;00m\u001b[38;5;124m'\u001b[39m\u001b[38;5;124m\"\u001b[39m\n\u001b[1;32m   4935\u001b[0m         \u001b[38;5;28;01mif\u001b[39;00m \u001b[38;5;28misinstance\u001b[39m(specifier, Bit)\n\u001b[1;32m   4936\u001b[0m         \u001b[38;5;28;01melse\u001b[39;00m \u001b[38;5;124mf\u001b[39m\u001b[38;5;124m\"\u001b[39m\u001b[38;5;124mInvalid bit index: \u001b[39m\u001b[38;5;124m'\u001b[39m\u001b[38;5;132;01m{\u001b[39;00mspecifier\u001b[38;5;132;01m}\u001b[39;00m\u001b[38;5;124m'\u001b[39m\u001b[38;5;124m of type \u001b[39m\u001b[38;5;124m'\u001b[39m\u001b[38;5;132;01m{\u001b[39;00m\u001b[38;5;28mtype\u001b[39m(specifier)\u001b[38;5;132;01m}\u001b[39;00m\u001b[38;5;124m'\u001b[39m\u001b[38;5;124m\"\u001b[39m\n\u001b[1;32m   4937\u001b[0m     )\n",
      "File \u001b[0;32m~/opt/anaconda3/envs/QCML/lib/python3.9/site-packages/qiskit/circuit/quantumcircuit.py:4958\u001b[0m, in \u001b[0;36m_bit_argument_conversion_scalar\u001b[0;34m(specifier, bit_sequence, bit_set, type_)\u001b[0m\n\u001b[1;32m   4950\u001b[0m         \u001b[38;5;28;01mraise\u001b[39;00m CircuitError(\n\u001b[1;32m   4951\u001b[0m             \u001b[38;5;124mf\u001b[39m\u001b[38;5;124m\"\u001b[39m\u001b[38;5;124mIndex \u001b[39m\u001b[38;5;132;01m{\u001b[39;00mspecifier\u001b[38;5;132;01m}\u001b[39;00m\u001b[38;5;124m out of range for size \u001b[39m\u001b[38;5;132;01m{\u001b[39;00m\u001b[38;5;28mlen\u001b[39m(bit_sequence)\u001b[38;5;132;01m}\u001b[39;00m\u001b[38;5;124m.\u001b[39m\u001b[38;5;124m\"\u001b[39m\n\u001b[1;32m   4952\u001b[0m         ) \u001b[38;5;28;01mfrom\u001b[39;00m \u001b[38;5;21;01mex\u001b[39;00m\n\u001b[1;32m   4953\u001b[0m message \u001b[38;5;241m=\u001b[39m (\n\u001b[1;32m   4954\u001b[0m     \u001b[38;5;124mf\u001b[39m\u001b[38;5;124m\"\u001b[39m\u001b[38;5;124mIncorrect bit type: expected \u001b[39m\u001b[38;5;124m'\u001b[39m\u001b[38;5;132;01m{\u001b[39;00mtype_\u001b[38;5;241m.\u001b[39m\u001b[38;5;18m__name__\u001b[39m\u001b[38;5;132;01m}\u001b[39;00m\u001b[38;5;124m'\u001b[39m\u001b[38;5;124m but got \u001b[39m\u001b[38;5;124m'\u001b[39m\u001b[38;5;132;01m{\u001b[39;00m\u001b[38;5;28mtype\u001b[39m(specifier)\u001b[38;5;241m.\u001b[39m\u001b[38;5;18m__name__\u001b[39m\u001b[38;5;132;01m}\u001b[39;00m\u001b[38;5;124m'\u001b[39m\u001b[38;5;124m\"\u001b[39m\n\u001b[1;32m   4955\u001b[0m     \u001b[38;5;28;01mif\u001b[39;00m \u001b[38;5;28misinstance\u001b[39m(specifier, Bit)\n\u001b[1;32m   4956\u001b[0m     \u001b[38;5;28;01melse\u001b[39;00m \u001b[38;5;124mf\u001b[39m\u001b[38;5;124m\"\u001b[39m\u001b[38;5;124mInvalid bit index: \u001b[39m\u001b[38;5;124m'\u001b[39m\u001b[38;5;132;01m{\u001b[39;00mspecifier\u001b[38;5;132;01m}\u001b[39;00m\u001b[38;5;124m'\u001b[39m\u001b[38;5;124m of type \u001b[39m\u001b[38;5;124m'\u001b[39m\u001b[38;5;132;01m{\u001b[39;00m\u001b[38;5;28mtype\u001b[39m(specifier)\u001b[38;5;132;01m}\u001b[39;00m\u001b[38;5;124m'\u001b[39m\u001b[38;5;124m\"\u001b[39m\n\u001b[1;32m   4957\u001b[0m )\n\u001b[0;32m-> 4958\u001b[0m \u001b[38;5;28;01mraise\u001b[39;00m CircuitError(message)\n",
      "\u001b[0;31mCircuitError\u001b[0m: \"Incorrect bit type: expected 'Qubit' but got 'Clbit'\""
     ]
    }
   ],
   "source": [
    "alice_send(quantum_teleportation_circuit, creg1, creg2)"
   ]
  },
  {
   "cell_type": "code",
   "execution_count": null,
   "id": "5dcbd22b",
   "metadata": {},
   "outputs": [],
   "source": [
    "# Bob's functions \n",
    "\n",
    "def bob_receive(circuit, qubit, cbit1, cbit2):\n",
    "    circuit.x(qubit).c_if(cbit2, 1)\n",
    "    circuit.z(qubit).c_if(cbit1, 1)\n",
    "    circuit.h(qubit)\n",
    "    "
   ]
  },
  {
   "cell_type": "code",
   "execution_count": null,
   "id": "54e93da9",
   "metadata": {},
   "outputs": [],
   "source": [
    "bob_receive(quantum_teleportation_circuit, 2, creg1, creg2)\n",
    "quantum_teleportation_circuit.measure(2, creg2[1])\n",
    "quantum_teleportation_circuit.draw(output='mpl')"
   ]
  },
  {
   "cell_type": "code",
   "execution_count": null,
   "id": "47e3ba93",
   "metadata": {},
   "outputs": [],
   "source": [
    "sim = Aer.get_backend('aer_simulator')\n",
    "job = execute(quantum_teleportation_circuit, sim)\n",
    "result = job.result()\n",
    "counts = result.get_counts()\n",
    "plot_histogram(counts)"
   ]
  },
  {
   "cell_type": "code",
   "execution_count": null,
   "id": "6d327b43",
   "metadata": {},
   "outputs": [],
   "source": []
  }
 ],
 "metadata": {
  "kernelspec": {
   "display_name": "Python 3 (ipykernel)",
   "language": "python",
   "name": "python3"
  },
  "language_info": {
   "codemirror_mode": {
    "name": "ipython",
    "version": 3
   },
   "file_extension": ".py",
   "mimetype": "text/x-python",
   "name": "python",
   "nbconvert_exporter": "python",
   "pygments_lexer": "ipython3",
   "version": "3.9.16"
  }
 },
 "nbformat": 4,
 "nbformat_minor": 5
}

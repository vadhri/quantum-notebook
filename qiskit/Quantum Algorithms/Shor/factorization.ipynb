{
 "cells": [
  {
   "cell_type": "code",
   "execution_count": 208,
   "metadata": {},
   "outputs": [],
   "source": [
    "from qiskit import *\n",
    "from math import gcd\n",
    "from qiskit.circuit.library import QFT\n",
    "from qiskit.visualization import plot_histogram\n",
    "from qiskit import QuantumCircuit, Aer, execute\n",
    "from numpy.random import seed, randint"
   ]
  },
  {
   "cell_type": "code",
   "execution_count": 209,
   "metadata": {},
   "outputs": [],
   "source": [
    "def initialize_qubits(qc, n, m):\n",
    "    qc.h(range(n))\n",
    "    qc.x(n+m-1)"
   ]
  },
  {
   "cell_type": "code",
   "execution_count": 210,
   "metadata": {},
   "outputs": [],
   "source": [
    "def a_x_mod15(a, x):\n",
    "    U = QuantumCircuit(4)        \n",
    "    for iteration in range(x):\n",
    "        U.swap(1,3)\n",
    "        U.swap(0,2)\n",
    "        for q in range(4):\n",
    "            U.x(q)\n",
    "    U = U.to_gate()\n",
    "    U.name = f\"U({x})\"\n",
    "    c_U = U.control()\n",
    "    return c_U"
   ]
  },
  {
   "cell_type": "code",
   "execution_count": 211,
   "metadata": {},
   "outputs": [],
   "source": [
    "def modular_exponentiation(qc, n, m, a):\n",
    "    for x in range(n):\n",
    "        exponent = 2**x\n",
    "        qc.append(a_x_mod15(a, exponent), \n",
    "                     [x] + list(range(n, n+m))) \n",
    "        \n",
    "def measure(qc, n):\n",
    "    qc.measure(n, n)"
   ]
  },
  {
   "cell_type": "code",
   "execution_count": 212,
   "metadata": {},
   "outputs": [],
   "source": [
    "def apply_iqft(qc, measurement_qubits):\n",
    "    qc.append(QFT(len(measurement_qubits),do_swaps=False).inverse(),measurement_qubits)"
   ]
  },
  {
   "cell_type": "code",
   "execution_count": 213,
   "metadata": {},
   "outputs": [
    {
     "data": {
      "text/html": [
       "<pre style=\"word-wrap: normal;white-space: pre;background: #fff0;line-height: 1.1;font-family: &quot;Courier New&quot;,Courier,monospace\">     ┌───┐ ░                                      ░ ┌───────┐ ░ ┌─┐         \n",
       "q_0: ┤ H ├─░─────■────────────────────────────────░─┤0      ├─░─┤M├─────────\n",
       "     ├───┤ ░     │                                ░ │       │ ░ └╥┘┌─┐      \n",
       "q_1: ┤ H ├─░─────┼────────■───────────────────────░─┤1      ├─░──╫─┤M├──────\n",
       "     ├───┤ ░     │        │                       ░ │  IQFT │ ░  ║ └╥┘┌─┐   \n",
       "q_2: ┤ H ├─░─────┼────────┼────────■──────────────░─┤2      ├─░──╫──╫─┤M├───\n",
       "     ├───┤ ░     │        │        │              ░ │       │ ░  ║  ║ └╥┘┌─┐\n",
       "q_3: ┤ H ├─░─────┼────────┼────────┼────────■─────░─┤3      ├─░──╫──╫──╫─┤M├\n",
       "     └───┘ ░ ┌───┴───┐┌───┴───┐┌───┴───┐┌───┴───┐ ░ └───────┘ ░  ║  ║  ║ └╥┘\n",
       "q_4: ──────░─┤0      ├┤0      ├┤0      ├┤0      ├─░───────────░──╫──╫──╫──╫─\n",
       "           ░ │       ││       ││       ││       │ ░           ░  ║  ║  ║  ║ \n",
       "q_5: ──────░─┤1      ├┤1      ├┤1      ├┤1      ├─░───────────░──╫──╫──╫──╫─\n",
       "           ░ │  U(1) ││  U(2) ││  U(4) ││  U(8) │ ░           ░  ║  ║  ║  ║ \n",
       "q_6: ──────░─┤2      ├┤2      ├┤2      ├┤2      ├─░───────────░──╫──╫──╫──╫─\n",
       "     ┌───┐ ░ │       ││       ││       ││       │ ░           ░  ║  ║  ║  ║ \n",
       "q_7: ┤ X ├─░─┤3      ├┤3      ├┤3      ├┤3      ├─░───────────░──╫──╫──╫──╫─\n",
       "     └───┘ ░ └───────┘└───────┘└───────┘└───────┘ ░           ░  ║  ║  ║  ║ \n",
       "c: 4/════════════════════════════════════════════════════════════╩══╩══╩══╩═\n",
       "                                                                 0  1  2  3 </pre>"
      ],
      "text/plain": [
       "     ┌───┐ ░                                      ░ ┌───────┐ ░ ┌─┐         \n",
       "q_0: ┤ H ├─░─────■────────────────────────────────░─┤0      ├─░─┤M├─────────\n",
       "     ├───┤ ░     │                                ░ │       │ ░ └╥┘┌─┐      \n",
       "q_1: ┤ H ├─░─────┼────────■───────────────────────░─┤1      ├─░──╫─┤M├──────\n",
       "     ├───┤ ░     │        │                       ░ │  IQFT │ ░  ║ └╥┘┌─┐   \n",
       "q_2: ┤ H ├─░─────┼────────┼────────■──────────────░─┤2      ├─░──╫──╫─┤M├───\n",
       "     ├───┤ ░     │        │        │              ░ │       │ ░  ║  ║ └╥┘┌─┐\n",
       "q_3: ┤ H ├─░─────┼────────┼────────┼────────■─────░─┤3      ├─░──╫──╫──╫─┤M├\n",
       "     └───┘ ░ ┌───┴───┐┌───┴───┐┌───┴───┐┌───┴───┐ ░ └───────┘ ░  ║  ║  ║ └╥┘\n",
       "q_4: ──────░─┤0      ├┤0      ├┤0      ├┤0      ├─░───────────░──╫──╫──╫──╫─\n",
       "           ░ │       ││       ││       ││       │ ░           ░  ║  ║  ║  ║ \n",
       "q_5: ──────░─┤1      ├┤1      ├┤1      ├┤1      ├─░───────────░──╫──╫──╫──╫─\n",
       "           ░ │  U(1) ││  U(2) ││  U(4) ││  U(8) │ ░           ░  ║  ║  ║  ║ \n",
       "q_6: ──────░─┤2      ├┤2      ├┤2      ├┤2      ├─░───────────░──╫──╫──╫──╫─\n",
       "     ┌───┐ ░ │       ││       ││       ││       │ ░           ░  ║  ║  ║  ║ \n",
       "q_7: ┤ X ├─░─┤3      ├┤3      ├┤3      ├┤3      ├─░───────────░──╫──╫──╫──╫─\n",
       "     └───┘ ░ └───────┘└───────┘└───────┘└───────┘ ░           ░  ║  ║  ║  ║ \n",
       "c: 4/════════════════════════════════════════════════════════════╩══╩══╩══╩═\n",
       "                                                                 0  1  2  3 "
      ]
     },
     "execution_count": 213,
     "metadata": {},
     "output_type": "execute_result"
    }
   ],
   "source": [
    "def period_finder(n, m, a):\n",
    "    qc = QuantumCircuit(n+m, n)\n",
    "    initialize_qubits(qc, n, m)\n",
    "    qc.barrier()\n",
    "    modular_exponentiation(qc, n, m, a)\n",
    "    qc.barrier()\n",
    "    apply_iqft(qc, range(n))\n",
    "    qc.barrier()\n",
    "    measure(qc, range(n))\n",
    "    \n",
    "    return qc\n",
    "\n",
    "n = 4; m = 4; a = 11\n",
    "final_circuit = period_finder(n, m, a)\n",
    "\n",
    "final_circuit.draw(fold=1000)"
   ]
  },
  {
   "cell_type": "code",
   "execution_count": 214,
   "metadata": {},
   "outputs": [
    {
     "data": {
      "image/png": "[encoded data removed]",
      "text/plain": [
       "<Figure size 700x500 with 1 Axes>"
      ]
     },
     "execution_count": 214,
     "metadata": {},
     "output_type": "execute_result"
    }
   ],
   "source": [
    "simulator = Aer.get_backend('qasm_simulator')\n",
    "counts = execute(final_circuit, backend=simulator).result().get_counts(final_circuit)\n",
    "\n",
    "plot_histogram(counts)"
   ]
  },
  {
   "cell_type": "code",
   "execution_count": 215,
   "metadata": {},
   "outputs": [
    {
     "name": "stdout",
     "output_type": "stream",
     "text": [
      "(3, 5)\n",
      "(1, 15)\n",
      "(1, 15)\n",
      "(3, 5)\n",
      "(1, 15)\n"
     ]
    }
   ],
   "source": [
    "for i in counts:\n",
    "    measured_value = int(i[::-1], 2)\n",
    "    if measured_value % 2 != 0:\n",
    "        continue \n",
    "    x = int((a ** (measured_value/2)) % 15)\n",
    "    if (x + 1) % 15 == 0:\n",
    "        continue\n",
    "    factors = gcd(x + 1, 15), gcd(x - 1, 15) \n",
    "    print(factors)"
   ]
  }
 ],
 "metadata": {
  "kernelspec": {
   "display_name": "QCML",
   "language": "python",
   "name": "python3"
  },
  "language_info": {
   "codemirror_mode": {
    "name": "ipython",
    "version": 3
   },
   "file_extension": ".py",
   "mimetype": "text/x-python",
   "name": "python",
   "nbconvert_exporter": "python",
   "pygments_lexer": "ipython3",
   "version": "3.9.16"
  },
  "orig_nbformat": 4
 },
 "nbformat": 4,
 "nbformat_minor": 2
}

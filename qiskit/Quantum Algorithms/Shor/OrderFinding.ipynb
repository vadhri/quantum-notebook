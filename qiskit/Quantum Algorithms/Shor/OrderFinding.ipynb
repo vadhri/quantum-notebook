{
 "cells": [
  {
   "cell_type": "code",
   "execution_count": 39,
   "metadata": {},
   "outputs": [
    {
     "name": "stdout",
     "output_type": "stream",
     "text": [
      "64 6 3\n"
     ]
    },
    {
     "data": {
      "image/png": "[encoded data removed]",
      "text/plain": [
       "<Figure size 140.243x392.972 with 1 Axes>"
      ]
     },
     "execution_count": 39,
     "metadata": {},
     "output_type": "execute_result"
    }
   ],
   "source": [
    "from qiskit import *\n",
    "import numpy as np\n",
    "import math \n",
    "\n",
    "N = 6\n",
    "T = 0\n",
    "t = 0\n",
    "L = math.ceil(math.log2(N))\n",
    "\n",
    "for j in range(0,20):\n",
    "    i = 2**j\n",
    "    if i >= N*N and i <= 2*N*N:\n",
    "        T = i\n",
    "        t = j\n",
    "        break\n",
    "\n",
    "print (T, t, L)\n",
    "\n",
    "first_register = QuantumRegister(t, name=\"t\")\n",
    "second_register = QuantumRegister(L, name=\"l\")\n",
    "\n",
    "QC = QuantumCircuit(first_register, second_register)\n",
    "\n",
    "for i in range(t):\n",
    "    QC.h(i)\n",
    "\n",
    "for i in range(t, t+L):\n",
    "    QC.x(i)\n",
    "\n",
    "QC.barrier()    \n",
    "\n",
    "QC.draw(output=\"mpl\", scale=0.5)\n"
   ]
  }
 ],
 "metadata": {
  "kernelspec": {
   "display_name": "QCML",
   "language": "python",
   "name": "python3"
  },
  "language_info": {
   "codemirror_mode": {
    "name": "ipython",
    "version": 3
   },
   "file_extension": ".py",
   "mimetype": "text/x-python",
   "name": "python",
   "nbconvert_exporter": "python",
   "pygments_lexer": "ipython3",
   "version": "3.9.16"
  },
  "orig_nbformat": 4
 },
 "nbformat": 4,
 "nbformat_minor": 2
}

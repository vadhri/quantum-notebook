{
 "cells": [
  {
   "cell_type": "code",
   "execution_count": 10,
   "metadata": {},
   "outputs": [
    {
     "data": {
      "text/html": [
       "<pre style=\"word-wrap: normal;white-space: pre;background: #fff0;line-height: 1.1;font-family: &quot;Courier New&quot;,Courier,monospace\">     ┌───┐┌───┐                           \n",
       "q_0: ┤ X ├┤ H ├─■────────■────────■───────\n",
       "     └───┘└───┘ │P(π/2)  │        │       \n",
       "q_1: ───────────■────────┼────────┼───────\n",
       "                         │P(π/4)  │       \n",
       "q_2: ────────────────────■────────┼───────\n",
       "                                  │P(π/8) \n",
       "q_3: ─────────────────────────────■───────\n",
       "                                          </pre>"
      ],
      "text/plain": [
       "     ┌───┐┌───┐                           \n",
       "q_0: ┤ X ├┤ H ├─■────────■────────■───────\n",
       "     └───┘└───┘ │P(π/2)  │        │       \n",
       "q_1: ───────────■────────┼────────┼───────\n",
       "                         │P(π/4)  │       \n",
       "q_2: ────────────────────■────────┼───────\n",
       "                                  │P(π/8) \n",
       "q_3: ─────────────────────────────■───────\n",
       "                                          "
      ]
     },
     "execution_count": 10,
     "metadata": {},
     "output_type": "execute_result"
    }
   ],
   "source": [
    "from qiskit import *\n",
    "from qiskit.quantum_info import Statevector\n",
    "import math\n",
    "\n",
    "QC = QuantumCircuit(4)\n",
    "QC.h(0)\n",
    "QC.cp(math.pi/2, 0, 1)\n",
    "QC.cp(math.pi/4, 0, 2)\n",
    "QC.cp(math.pi/8, 0, 3)\n",
    "\n",
    "QC.draw()"
   ]
  },
  {
   "cell_type": "code",
   "execution_count": 11,
   "metadata": {},
   "outputs": [
    {
     "data": {
      "text/latex": [
       "$$\\frac{\\sqrt{2}}{2} |0000\\rangle- \\frac{\\sqrt{2}}{2} |0001\\rangle$$"
      ],
      "text/plain": [
       "<IPython.core.display.Latex object>"
      ]
     },
     "execution_count": 11,
     "metadata": {},
     "output_type": "execute_result"
    }
   ],
   "source": [
    "state = Statevector(QC)\n",
    "state.draw(\"Latex\")"
   ]
  }
 ],
 "metadata": {
  "kernelspec": {
   "display_name": "QCML",
   "language": "python",
   "name": "python3"
  },
  "language_info": {
   "codemirror_mode": {
    "name": "ipython",
    "version": 3
   },
   "file_extension": ".py",
   "mimetype": "text/x-python",
   "name": "python",
   "nbconvert_exporter": "python",
   "pygments_lexer": "ipython3",
   "version": "3.9.16"
  },
  "orig_nbformat": 4
 },
 "nbformat": 4,
 "nbformat_minor": 2
}

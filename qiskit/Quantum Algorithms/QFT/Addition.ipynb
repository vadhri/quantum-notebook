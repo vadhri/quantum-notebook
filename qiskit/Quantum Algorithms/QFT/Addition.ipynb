{
 "cells": [
  {
   "attachments": {},
   "cell_type": "markdown",
   "metadata": {},
   "source": [
    "The circuit below adds two numbers using QFT for 6 bits each and an output that fits into 6 bits. The steps are below. \n",
    "\n",
    "- Load the values using basis embeddeding into the 12 qubits. \n",
    "- Apply QFT into the target qubits to shift them into fourier basis. \n",
    "- Load value of A onto target qubits. Use the formula $ \\frac{2*A*pi}{2^j} $ where j = 0,1,2,3,4,5,6\n",
    "- Load value of B onto target qubits. Use the formula $ \\frac{2*B*pi}{2^j} $ where j = 0,1,2,3,4,5,6\n",
    "- Apply IQFT to get the value. \n",
    "- Use simulator to get the values."
   ]
  },
  {
   "cell_type": "code",
   "execution_count": 253,
   "metadata": {},
   "outputs": [
    {
     "name": "stdout",
     "output_type": "stream",
     "text": [
      "24 19 43\n",
      "16 1 17\n",
      "15 22 37\n",
      "20 6 26\n",
      "12 15 27\n",
      "20 5 25\n",
      "19 11 30\n",
      "19 3 22\n",
      "1 21 22\n",
      "16 16 32\n"
     ]
    }
   ],
   "source": [
    "from qiskit import *\n",
    "import math \n",
    "from qiskit.visualization import plot_state_city, plot_bloch_multivector, plot_histogram\n",
    "from qiskit.circuit.library import QFT\n",
    "from qiskit.quantum_info import Statevector\n",
    "import numpy as np\n",
    "from random import randrange\n",
    "\n",
    "def add_numbers(A,B):\n",
    "    tbits_a = 6\n",
    "    tbits_b = 6\n",
    "    target_bits = 6\n",
    "\n",
    "    total = tbits_a+tbits_b+target_bits\n",
    "    QR = QuantumRegister(total)\n",
    "    CR = ClassicalRegister(target_bits)\n",
    "    QC = QuantumCircuit(QR, CR)\n",
    "\n",
    "    bits_a = format(A, '#010b')[::-1]\n",
    "    bits_b = format(B, '#010b')[::-1]\n",
    "\n",
    "    for bit,idx in zip(bits_a, range(len(bits_a))):\n",
    "        if bit == '1':\n",
    "            QC.x(idx)\n",
    "\n",
    "    for bit,idx in zip(bits_b, range(len(bits_b))):\n",
    "        if bit == '1':\n",
    "            QC.x(4+idx)\n",
    "\n",
    "    QC.append(QFT(target_bits, 0, False), list(range(tbits_a+tbits_b, total)))\n",
    "    QC.barrier()\n",
    "\n",
    "    for i in range(target_bits):\n",
    "        QC.rz(A*math.pi/(2**i), i+tbits_a+tbits_b)\n",
    "\n",
    "    for i in range(target_bits):\n",
    "        QC.rz(B*math.pi/(2**i), i+tbits_a+tbits_b)    \n",
    "\n",
    "    QC.barrier()\n",
    "\n",
    "    QC.append(QFT(target_bits, 0, False, True), list(range(tbits_a+tbits_b, total)))\n",
    "    \n",
    "    for i in range(target_bits):\n",
    "        QC.measure(i+tbits_a+tbits_b,i)\n",
    "\n",
    "    backend = BasicAer.get_backend('qasm_simulator') # the device to run on\n",
    "    result = backend.run(transpile(QC, backend), shots=1).result()\n",
    "    counts  = result.get_counts(QC)\n",
    "    value = list(counts.keys())[0]\n",
    "    return (QC, (int(value, 2)))\n",
    "\n",
    "for i in range(10):\n",
    "    x, y = randrange(0,25), randrange(0,25)\n",
    "    circ, ans = add_numbers(x,y)\n",
    "    print (x,y, ans)\n",
    "    circ.draw()\n",
    "    \n"
   ]
  }
 ],
 "metadata": {
  "kernelspec": {
   "display_name": "QCML",
   "language": "python",
   "name": "python3"
  },
  "language_info": {
   "codemirror_mode": {
    "name": "ipython",
    "version": 3
   },
   "file_extension": ".py",
   "mimetype": "text/x-python",
   "name": "python",
   "nbconvert_exporter": "python",
   "pygments_lexer": "ipython3",
   "version": "3.9.16"
  },
  "orig_nbformat": 4
 },
 "nbformat": 4,
 "nbformat_minor": 2
}

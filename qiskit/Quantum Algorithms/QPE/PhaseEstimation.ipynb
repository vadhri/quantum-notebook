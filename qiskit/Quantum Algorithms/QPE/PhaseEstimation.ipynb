{
 "cells": [
  {
   "attachments": {},
   "cell_type": "markdown",
   "metadata": {},
   "source": [
    "Describe a QPE procedure to find $ \\theta $ when $ U |\\psi\\rangle = e^{2\\pi i \\theta} |\\psi \\rangle $\n"
   ]
  },
  {
   "cell_type": "code",
   "execution_count": 97,
   "metadata": {},
   "outputs": [],
   "source": [
    "from qiskit import *\n",
    "from qiskit.quantum_info import Statevector\n",
    "from qiskit.visualization import plot_state_city, plot_bloch_multivector, plot_histogram\n",
    "from IPython.display import display, Latex\n",
    "from math import pi\n",
    "import math\n",
    "from qiskit.circuit.library import QFT, CUGate\n",
    "from qiskit.circuit.library import UGate\n",
    "\n",
    "import numpy as np"
   ]
  },
  {
   "attachments": {},
   "cell_type": "markdown",
   "metadata": {},
   "source": [
    "Lets take the example of U as pauli X opearator. "
   ]
  },
  {
   "cell_type": "code",
   "execution_count": 98,
   "metadata": {},
   "outputs": [],
   "source": [
    "def IQFT(no_of_Qubits):\n",
    "    qc = QuantumCircuit(no_of_Qubits, name=\"myIQFT\")\n",
    "    \n",
    "        \n",
    "    for q in range(no_of_Qubits-1, -1, -1):\n",
    "        for i in range(no_of_Qubits-1, q, -1):\n",
    "            qc.cp(-pi/(2**(i-q)), i, q)\n",
    "        qc.h(q)\n",
    "        \n",
    "    qc.to_gate()\n",
    "    return qc\n",
    "        "
   ]
  },
  {
   "cell_type": "code",
   "execution_count": 99,
   "metadata": {},
   "outputs": [
    {
     "data": {
      "text/latex": [
       "$$ |00000\\rangle$$"
      ],
      "text/plain": [
       "<IPython.core.display.Latex object>"
      ]
     },
     "execution_count": 99,
     "metadata": {},
     "output_type": "execute_result"
    }
   ],
   "source": [
    "Precision = 4\n",
    "\n",
    "QREG = QuantumRegister(Precision+1)\n",
    "CREG = ClassicalRegister(Precision)\n",
    "\n",
    "QC = QuantumCircuit(QREG, CREG)\n",
    "# QC.x(Precision)\n",
    "QC.barrier()\n",
    "\n",
    "angle = 3*pi/8\n",
    "\n",
    "for i in range(Precision):\n",
    "    QC.h(i)\n",
    "\n",
    "for i in range(Precision):\n",
    "    for t in range(2**(i)):\n",
    "        # QC.cp(angle, Precision-i-1, Precision)\n",
    "        QC.cz(Precision-i-1, Precision)\n",
    "myIQfT = IQFT(Precision)\n",
    "# QC.append(myIQfT, range(Precision))\n",
    "QC.append(QFT(Precision, 0, inverse=True, do_swaps=False), range(Precision) )\n",
    "state = Statevector(QC)\n",
    "state.draw(output=\"latex\")\n"
   ]
  },
  {
   "cell_type": "code",
   "execution_count": 100,
   "metadata": {},
   "outputs": [
    {
     "data": {
      "text/html": [
       "<pre style=\"word-wrap: normal;white-space: pre;background: #fff0;line-height: 1.1;font-family: &quot;Courier New&quot;,Courier,monospace\">         ░ ┌───┐                                             ┌───────┐┌─┐         \n",
       "q162_0: ─░─┤ H ├──────────────────────■──■──■──■──■──■──■──■─┤0      ├┤M├─────────\n",
       "         ░ ├───┤                      │  │  │  │  │  │  │  │ │       │└╥┘┌─┐      \n",
       "q162_1: ─░─┤ H ├──────────■──■──■──■──┼──┼──┼──┼──┼──┼──┼──┼─┤1      ├─╫─┤M├──────\n",
       "         ░ ├───┤          │  │  │  │  │  │  │  │  │  │  │  │ │  IQFT │ ║ └╥┘┌─┐   \n",
       "q162_2: ─░─┤ H ├────■──■──┼──┼──┼──┼──┼──┼──┼──┼──┼──┼──┼──┼─┤2      ├─╫──╫─┤M├───\n",
       "         ░ ├───┤    │  │  │  │  │  │  │  │  │  │  │  │  │  │ │       │ ║  ║ └╥┘┌─┐\n",
       "q162_3: ─░─┤ H ├─■──┼──┼──┼──┼──┼──┼──┼──┼──┼──┼──┼──┼──┼──┼─┤3      ├─╫──╫──╫─┤M├\n",
       "         ░ └───┘ │  │  │  │  │  │  │  │  │  │  │  │  │  │  │ └───────┘ ║  ║  ║ └╥┘\n",
       "q162_4: ─░───────■──■──■──■──■──■──■──■──■──■──■──■──■──■──■───────────╫──╫──╫──╫─\n",
       "         ░                                                             ║  ║  ║  ║ \n",
       " c13: 4/═══════════════════════════════════════════════════════════════╩══╩══╩══╩═\n",
       "                                                                       0  1  2  3 </pre>"
      ],
      "text/plain": [
       "         ░ ┌───┐                                             ┌───────┐┌─┐         \n",
       "q162_0: ─░─┤ H ├──────────────────────■──■──■──■──■──■──■──■─┤0      ├┤M├─────────\n",
       "         ░ ├───┤                      │  │  │  │  │  │  │  │ │       │└╥┘┌─┐      \n",
       "q162_1: ─░─┤ H ├──────────■──■──■──■──┼──┼──┼──┼──┼──┼──┼──┼─┤1      ├─╫─┤M├──────\n",
       "         ░ ├───┤          │  │  │  │  │  │  │  │  │  │  │  │ │  IQFT │ ║ └╥┘┌─┐   \n",
       "q162_2: ─░─┤ H ├────■──■──┼──┼──┼──┼──┼──┼──┼──┼──┼──┼──┼──┼─┤2      ├─╫──╫─┤M├───\n",
       "         ░ ├───┤    │  │  │  │  │  │  │  │  │  │  │  │  │  │ │       │ ║  ║ └╥┘┌─┐\n",
       "q162_3: ─░─┤ H ├─■──┼──┼──┼──┼──┼──┼──┼──┼──┼──┼──┼──┼──┼──┼─┤3      ├─╫──╫──╫─┤M├\n",
       "         ░ └───┘ │  │  │  │  │  │  │  │  │  │  │  │  │  │  │ └───────┘ ║  ║  ║ └╥┘\n",
       "q162_4: ─░───────■──■──■──■──■──■──■──■──■──■──■──■──■──■──■───────────╫──╫──╫──╫─\n",
       "         ░                                                             ║  ║  ║  ║ \n",
       " c13: 4/═══════════════════════════════════════════════════════════════╩══╩══╩══╩═\n",
       "                                                                       0  1  2  3 "
      ]
     },
     "execution_count": 100,
     "metadata": {},
     "output_type": "execute_result"
    }
   ],
   "source": [
    "QC.measure(range(Precision),range(Precision))\n",
    "QC.draw(scale=0.5, fold=1000)"
   ]
  },
  {
   "cell_type": "code",
   "execution_count": 101,
   "metadata": {},
   "outputs": [
    {
     "ename": "TypeError",
     "evalue": "plot_histogram() got an unexpected keyword argument 'scale'",
     "output_type": "error",
     "traceback": [
      "\u001b[0;31m---------------------------------------------------------------------------\u001b[0m",
      "\u001b[0;31mTypeError\u001b[0m                                 Traceback (most recent call last)",
      "Cell \u001b[0;32mIn[101], line 4\u001b[0m\n\u001b[1;32m      2\u001b[0m result \u001b[39m=\u001b[39m backend\u001b[39m.\u001b[39mrun(transpile(QC, backend), shots\u001b[39m=\u001b[39m\u001b[39m1000\u001b[39m)\u001b[39m.\u001b[39mresult()\n\u001b[1;32m      3\u001b[0m counts  \u001b[39m=\u001b[39m result\u001b[39m.\u001b[39mget_counts(QC)\n\u001b[0;32m----> 4\u001b[0m plot_histogram(counts, scale\u001b[39m=\u001b[39;49m\u001b[39m0.5\u001b[39;49m)\n",
      "\u001b[0;31mTypeError\u001b[0m: plot_histogram() got an unexpected keyword argument 'scale'"
     ]
    }
   ],
   "source": [
    "backend = Aer.get_backend('aer_simulator') \n",
    "QC.save_statevector()  \n",
    "result = backend.run(transpile(QC, backend), shots=5000).result()\n",
    "out_state = result.get_statevector()\n",
    "plot_histogram(result.get_counts(), figsize=(3,2))"
   ]
  },
  {
   "cell_type": "code",
   "execution_count": null,
   "metadata": {},
   "outputs": [],
   "source": [
    "def convertBinaryToDecimal(str):\n",
    "    str = list(str)\n",
    "    o = 0 \n",
    "    multiplication_factor = 2\n",
    "    while str:\n",
    "        if int(str.pop(0)): \n",
    "            o += 1/multiplication_factor\n",
    "        multiplication_factor *= 2\n",
    "    return o\n"
   ]
  },
  {
   "cell_type": "code",
   "execution_count": null,
   "metadata": {},
   "outputs": [
    {
     "name": "stdout",
     "output_type": "stream",
     "text": [
      "{'0000': 1000}\n",
      "0000 0\n"
     ]
    }
   ],
   "source": [
    "print (counts)\n",
    "\n",
    "for i in counts.keys():\n",
    "    print(i, convertBinaryToDecimal(i))"
   ]
  }
 ],
 "metadata": {
  "kernelspec": {
   "display_name": "QCML",
   "language": "python",
   "name": "python3"
  },
  "language_info": {
   "codemirror_mode": {
    "name": "ipython",
    "version": 3
   },
   "file_extension": ".py",
   "mimetype": "text/x-python",
   "name": "python",
   "nbconvert_exporter": "python",
   "pygments_lexer": "ipython3",
   "version": "3.9.16"
  },
  "orig_nbformat": 4
 },
 "nbformat": 4,
 "nbformat_minor": 2
}

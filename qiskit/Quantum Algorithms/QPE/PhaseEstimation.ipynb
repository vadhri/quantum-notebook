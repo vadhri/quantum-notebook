{
 "cells": [
  {
   "attachments": {},
   "cell_type": "markdown",
   "metadata": {},
   "source": [
    "Describe a QPE procedure to find $ \\theta $ when $ U |\\psi\\rangle = e^{2\\pi i \\theta} |\\psi \\rangle $\n"
   ]
  },
  {
   "cell_type": "code",
   "execution_count": 353,
   "metadata": {},
   "outputs": [],
   "source": [
    "from qiskit import *\n",
    "from qiskit.quantum_info import Statevector\n",
    "from qiskit.visualization import plot_state_city, plot_bloch_multivector, plot_histogram\n",
    "from IPython.display import display, Latex\n",
    "from math import pi\n",
    "import math\n",
    "from qiskit.circuit.library import QFT, CUGate\n",
    "from qiskit.circuit.library import UGate\n",
    "\n",
    "import numpy as np"
   ]
  },
  {
   "attachments": {},
   "cell_type": "markdown",
   "metadata": {},
   "source": [
    "Lets take the example of U as pauli X opearator. "
   ]
  },
  {
   "cell_type": "code",
   "execution_count": 354,
   "metadata": {},
   "outputs": [],
   "source": [
    "def IQFT(no_of_Qubits):\n",
    "    qc = QuantumCircuit(no_of_Qubits, name=\"myIQFT\")\n",
    "    \n",
    "        \n",
    "    for q in range(no_of_Qubits-1, -1, -1):\n",
    "        for i in range(no_of_Qubits-1, q, -1):\n",
    "            qc.cp(-pi/(2**(i-q)), i, q)\n",
    "        qc.h(q)\n",
    "        \n",
    "    qc.to_gate()\n",
    "    return qc\n",
    "        "
   ]
  },
  {
   "cell_type": "code",
   "execution_count": 355,
   "metadata": {},
   "outputs": [
    {
     "data": {
      "text/latex": [
       "$$(0.125 + 0.187075720333 i) |1000\\rangle+(0.125 + 0.628417436516 i) |1001\\rangle+(0.125 - 0.628417436516 i) |1010\\rangle+(0.125 - 0.187075720333 i) |1011\\rangle+(0.125 - 0.08352232974 i) |1100\\rangle+(0.125 - 0.024864045922 i) |1101\\rangle+(0.125 + 0.024864045922 i) |1110\\rangle+(0.125 + 0.08352232974 i) |1111\\rangle$$"
      ],
      "text/plain": [
       "<IPython.core.display.Latex object>"
      ]
     },
     "execution_count": 355,
     "metadata": {},
     "output_type": "execute_result"
    }
   ],
   "source": [
    "Precision = 3\n",
    "\n",
    "QREG = QuantumRegister(Precision+1)\n",
    "CREG = ClassicalRegister(Precision)\n",
    "\n",
    "QC = QuantumCircuit(QREG, CREG)\n",
    "QC.x(Precision)\n",
    "QC.barrier()\n",
    "\n",
    "angle = 3*pi/8\n",
    "\n",
    "for i in range(Precision):\n",
    "    QC.h(i)\n",
    "\n",
    "for i in range(Precision):\n",
    "    for t in range(2**(i)):\n",
    "        QC.cp(angle, Precision-i-1, Precision)\n",
    "\n",
    "myIQfT = IQFT(Precision)\n",
    "# QC.append(myIQfT, range(Precision))\n",
    "QC.append(QFT(Precision, 0, inverse=True, do_swaps=False), range(Precision) )\n",
    "state = Statevector(QC)\n",
    "state.draw(output=\"latex\")\n"
   ]
  },
  {
   "cell_type": "code",
   "execution_count": 356,
   "metadata": {},
   "outputs": [
    {
     "data": {
      "text/html": [
       "<pre style=\"word-wrap: normal;white-space: pre;background: #fff0;line-height: 1.1;font-family: &quot;Courier New&quot;,Courier,monospace\">              ░ ┌───┐                                                                      ┌───────┐┌─┐      \n",
       "q441_0: ──────░─┤ H ├───────────────────────────────■─────────■─────────■─────────■────────┤0      ├┤M├──────\n",
       "              ░ ├───┤                               │         │         │         │        │       │└╥┘┌─┐   \n",
       "q441_1: ──────░─┤ H ├───────────■─────────■─────────┼─────────┼─────────┼─────────┼────────┤1 IQFT ├─╫─┤M├───\n",
       "              ░ ├───┤           │         │         │         │         │         │        │       │ ║ └╥┘┌─┐\n",
       "q441_2: ──────░─┤ H ├─■─────────┼─────────┼─────────┼─────────┼─────────┼─────────┼────────┤2      ├─╫──╫─┤M├\n",
       "        ┌───┐ ░ └───┘ │P(3π/8)  │P(3π/8)  │P(3π/8)  │P(3π/8)  │P(3π/8)  │P(3π/8)  │P(3π/8) └───────┘ ║  ║ └╥┘\n",
       "q441_3: ┤ X ├─░───────■─────────■─────────■─────────■─────────■─────────■─────────■──────────────────╫──╫──╫─\n",
       "        └───┘ ░                                                                                      ║  ║  ║ \n",
       " c64: 3/═════════════════════════════════════════════════════════════════════════════════════════════╩══╩══╩═\n",
       "                                                                                                     0  1  2 </pre>"
      ],
      "text/plain": [
       "              ░ ┌───┐                                                                      ┌───────┐┌─┐      \n",
       "q441_0: ──────░─┤ H ├───────────────────────────────■─────────■─────────■─────────■────────┤0      ├┤M├──────\n",
       "              ░ ├───┤                               │         │         │         │        │       │└╥┘┌─┐   \n",
       "q441_1: ──────░─┤ H ├───────────■─────────■─────────┼─────────┼─────────┼─────────┼────────┤1 IQFT ├─╫─┤M├───\n",
       "              ░ ├───┤           │         │         │         │         │         │        │       │ ║ └╥┘┌─┐\n",
       "q441_2: ──────░─┤ H ├─■─────────┼─────────┼─────────┼─────────┼─────────┼─────────┼────────┤2      ├─╫──╫─┤M├\n",
       "        ┌───┐ ░ └───┘ │P(3π/8)  │P(3π/8)  │P(3π/8)  │P(3π/8)  │P(3π/8)  │P(3π/8)  │P(3π/8) └───────┘ ║  ║ └╥┘\n",
       "q441_3: ┤ X ├─░───────■─────────■─────────■─────────■─────────■─────────■─────────■──────────────────╫──╫──╫─\n",
       "        └───┘ ░                                                                                      ║  ║  ║ \n",
       " c64: 3/═════════════════════════════════════════════════════════════════════════════════════════════╩══╩══╩═\n",
       "                                                                                                     0  1  2 "
      ]
     },
     "execution_count": 356,
     "metadata": {},
     "output_type": "execute_result"
    }
   ],
   "source": [
    "QC.measure(range(Precision),range(Precision))\n",
    "QC.draw(scale=0.5, fold=1000)"
   ]
  },
  {
   "cell_type": "code",
   "execution_count": 357,
   "metadata": {},
   "outputs": [
    {
     "data": {
      "image/png": "[encoded data removed]",
      "text/plain": [
       "<Figure size 300x200 with 1 Axes>"
      ]
     },
     "execution_count": 357,
     "metadata": {},
     "output_type": "execute_result"
    }
   ],
   "source": [
    "backend = Aer.get_backend('aer_simulator_statevector') \n",
    "QC.save_statevector()  \n",
    "result = backend.run(transpile(QC, backend), shots=5000).result()\n",
    "out_state = result.get_statevector()\n",
    "plot_histogram(result.get_counts(), figsize=(3,2))"
   ]
  },
  {
   "cell_type": "code",
   "execution_count": 365,
   "metadata": {},
   "outputs": [
    {
     "name": "stdout",
     "output_type": "stream",
     "text": [
      "0.1875\n",
      "66.66666666666667\n",
      "133.33333333333334\n",
      "200.0\n",
      "333.3333333333333\n"
     ]
    }
   ],
   "source": [
    "def convertBinaryToDecimal(str):\n",
    "    str = list(str)\n",
    "    o = 0 \n",
    "    multiplication_factor = 2\n",
    "    while str:\n",
    "        if int(str.pop(0)): \n",
    "            o += 1/multiplication_factor\n",
    "        multiplication_factor *= 2\n",
    "    return o\n"
   ]
  }
 ],
 "metadata": {
  "kernelspec": {
   "display_name": "QCML",
   "language": "python",
   "name": "python3"
  },
  "language_info": {
   "codemirror_mode": {
    "name": "ipython",
    "version": 3
   },
   "file_extension": ".py",
   "mimetype": "text/x-python",
   "name": "python",
   "nbconvert_exporter": "python",
   "pygments_lexer": "ipython3",
   "version": "3.9.16"
  },
  "orig_nbformat": 4
 },
 "nbformat": 4,
 "nbformat_minor": 2
}

{
  "cells": [
    {
      "cell_type": "code",
      "execution_count": null,
      "metadata": {
        "id": "0GDm6UUHYsR6"
      },
      "outputs": [],
      "source": []
    },
    {
      "cell_type": "markdown",
      "metadata": {
        "id": "PxsfCA0DY_SX"
      },
      "source": [
        "# Introduction\n",
        "\n",
        "This notebook demonstrates hybrid cnn with one layer of quantum for multi-class classification problem using eurosat dataset and bell circuit as the hidden layer."
      ]
    },
    {
      "cell_type": "markdown",
      "metadata": {
        "id": "p2X5m6n1ZJuL"
      },
      "source": [
        "# Runtime req"
      ]
    },
    {
      "cell_type": "code",
      "execution_count": 1,
      "metadata": {
        "colab": {
          "base_uri": "https://localhost:8080/"
        },
        "id": "RdcLTbjyYvJV",
        "outputId": "917648e6-e347-4084-bc39-a504a9744726"
      },
      "outputs": [
        {
          "name": "stdout",
          "output_type": "stream",
          "text": [
            "Drive already mounted at /content/drive; to attempt to forcibly remount, call drive.mount(\"/content/drive\", force_remount=True).\n"
          ]
        }
      ],
      "source": [
        "from google.colab import drive\n",
        "drive.mount('/content/drive')"
      ]
    },
    {
      "cell_type": "code",
      "execution_count": 2,
      "metadata": {
        "colab": {
          "base_uri": "https://localhost:8080/"
        },
        "id": "vNmFdplIZSMu",
        "outputId": "8e5410cd-d5d3-4001-f6d6-ad669aad9d8e"
      },
      "outputs": [
        {
          "name": "stdout",
          "output_type": "stream",
          "text": [
            "Requirement already satisfied: pylatexenc in /usr/local/lib/python3.10/dist-packages (2.10)\n",
            "replace EuroSAT_RGB/Forest/Forest_864.jpg? [y]es, [n]o, [A]ll, [N]one, [r]ename: A\n"
          ]
        }
      ],
      "source": [
        "!pip install -q torch\n",
        "!pip install -q matplotlib\n",
        "!pip install -q visualkeras\n",
        "!pip install -q qiskit\n",
        "!pip install pylatexenc\n",
        "!pip install torchsummary\n",
        "\n",
        "!unzip -q \"/content/drive/MyDrive/colab_notebooks/IITD-QML/EuroSAT_RGB.zip\""
      ]
    },
    {
      "cell_type": "code",
      "execution_count": 3,
      "metadata": {
        "id": "C2Y8IB9dY6pw"
      },
      "outputs": [],
      "source": [
        "import qiskit\n",
        "import sys\n",
        "import os\n",
        "import glob\n",
        "import numpy as np\n",
        "from matplotlib import pyplot as plt\n",
        "from sklearn.metrics import confusion_matrix, ConfusionMatrixDisplay, classification_report\n",
        "from qiskit import execute\n",
        "from qiskit.circuit import Parameter,ControlledGate\n",
        "from qiskit import Aer\n",
        "import random\n",
        "import time\n",
        "from torchsummary import summary\n",
        "from collections import defaultdict\n",
        "\n",
        "import torch\n",
        "from torch.autograd import Function\n",
        "import torch.optim as optim\n",
        "import torch.nn as nn\n",
        "import torch.nn.functional as F\n",
        "%matplotlib inline\n",
        "\n",
        "from qiskit import *\n",
        "provider = qiskit\n",
        "backend = Aer.get_backend(\"aer_simulator\", device=\"GPU\")\n"
      ]
    },
    {
      "cell_type": "markdown",
      "metadata": {
        "id": "XKr7FQb6VmOT"
      },
      "source": [
        "## GPU and CPU detection choice"
      ]
    },
    {
      "cell_type": "code",
      "execution_count": 4,
      "metadata": {
        "colab": {
          "base_uri": "https://localhost:8080/"
        },
        "id": "p6w27nOSd-JA",
        "outputId": "9ba6ca71-7a10-4b4d-b562-e376658f8b7c"
      },
      "outputs": [
        {
          "data": {
            "text/plain": [
              "device(type='cuda', index=0)"
            ]
          },
          "execution_count": 4,
          "metadata": {},
          "output_type": "execute_result"
        }
      ],
      "source": [
        "device = torch.device(\"cuda:0\" if torch.cuda.is_available() else \"cpu\")\n",
        "device"
      ]
    },
    {
      "cell_type": "markdown",
      "metadata": {
        "id": "dyGRrDmLb-UL"
      },
      "source": [
        "# Dataset handling for loading, splitting, training.\n",
        "\n",
        "The following section has the utilities required for operating with the data.\n",
        "- Detect list of classes from the dataset root directory provided ( inside the constructor )\n",
        "- Load path labels, ( image paths and labels per class ) and shuffle the data set to generate randomness.\n",
        "- Provide a generator which can be provided into the torch circuit with random data set selection insde the training or test data set.\n",
        "\n"
      ]
    },
    {
      "cell_type": "code",
      "execution_count": 5,
      "metadata": {
        "id": "xVdItZWEcKz6"
      },
      "outputs": [],
      "source": [
        "import glob\n",
        "import os\n",
        "import numpy as np\n",
        "import random\n",
        "\n",
        "class DatasetHandler:\n",
        "    def __init__(self, ds_root_path):\n",
        "        print ('Datahandler init -> ', ds_root_path)\n",
        "        self.dataset_path = ds_root_path\n",
        "        self.classes = glob.glob(os.path.join(ds_root_path, '*'))\n",
        "        self.classes_dict = {}\n",
        "        for c, i in zip(self.classes, range(len(self.classes))):\n",
        "          self.classes_dict[c] = i\n",
        "        self.dataset_mixer = 0\n",
        "        self.dataset_mixer_val = 0\n",
        "        self.img_cache = {}\n",
        "        self.img_cache_val = {}\n",
        "\n",
        "    def print_classes(self):\n",
        "        print('Classes in the path: ')\n",
        "        for i,c in enumerate(self.classes):\n",
        "            print(i, ' ->', c)\n",
        "\n",
        "    def load_paths_labels(self, root, classes):\n",
        "        imgs_path = []\n",
        "        imgs_label = []\n",
        "\n",
        "        for clss in classes:\n",
        "            for path in glob.glob(os.path.join(root, clss+'/*')):\n",
        "              imgs_path.append(path)\n",
        "              imgs_label.append(self.classes_dict[clss])\n",
        "\n",
        "        dataset = list(zip(imgs_path, imgs_label))\n",
        "        random.shuffle(dataset)\n",
        "        paths, labels = zip(*dataset)\n",
        "        return np.array(paths), np.array(labels)\n",
        "\n",
        "    # Split the dataset into training and validation dataset\n",
        "    def train_validation_split(self, images, labels, split_factor = 0.2):\n",
        "        val_size = int(len(images)*split_factor)\n",
        "        train_size = int(len(images) - val_size)\n",
        "        return images[0:train_size], labels[0:train_size, ...], images[train_size:train_size+val_size], labels[train_size:train_size+val_size, ...]\n",
        "\n",
        "    # Data genertor: given images paths and images labels yield a batch of images and labels\n",
        "    def cnn_data_loader(self, imgs_path, imgs_label, batch_size = 1, img_shape = (64, 64, 3), vald=False):\n",
        "      # Initialize the vectors to be yield\n",
        "      batch_in = np.zeros((batch_size, img_shape[2], img_shape[0], img_shape[1]))\n",
        "      batch_out = np.zeros((batch_size))\n",
        "\n",
        "      from collections import defaultdict\n",
        "\n",
        "      while True:\n",
        "        for i in range(batch_size):\n",
        "          index = self.dataset_mixer\n",
        "          self.dataset_mixer += 1\n",
        "          if self.dataset_mixer >= len(imgs_path):\n",
        "            self.dataset_mixer = 0\n",
        "\n",
        "          if index not in self.img_cache:\n",
        "            self.img_cache[index] = np.transpose(plt.imread(imgs_path[index])/255.0)\n",
        "\n",
        "          batch_in[i, ...] = self.img_cache[index]\n",
        "          batch_out[i] = imgs_label[index]\n",
        "          yield  torch.tensor(batch_in).type(torch.float).to(device),  torch.tensor(batch_out).type(torch.float).to(device)\n",
        "\n",
        "    # Data genertor: given images paths and images labels yield a batch of images and labels\n",
        "    def cnn_val_loader(self, imgs_path, imgs_label, batch_size = 1, img_shape = (64, 64, 3), vald=False):\n",
        "      # Initialize the vectors to be yield\n",
        "      batch_in = np.zeros((batch_size, img_shape[2], img_shape[0], img_shape[1]))\n",
        "      batch_out = np.zeros((batch_size))\n",
        "\n",
        "      from collections import defaultdict\n",
        "\n",
        "      while True:\n",
        "        for i in range(batch_size):\n",
        "          index = self.dataset_mixer_val\n",
        "          self.dataset_mixer_val += 1\n",
        "          if self.dataset_mixer_val >= len(imgs_path):\n",
        "            self.dataset_mixer_val = 0\n",
        "\n",
        "          if index not in self.img_cache_val:\n",
        "            self.img_cache_val[index] = np.transpose(plt.imread(imgs_path[index])/255.0)\n",
        "\n",
        "          batch_in[i, ...] = self.img_cache_val[index]\n",
        "          batch_out[i] = imgs_label[index]\n",
        "          yield  torch.tensor(batch_in).type(torch.float).to(device),  torch.tensor(batch_out).type(torch.float).to(device)\n",
        "\n"
      ]
    },
    {
      "cell_type": "code",
      "execution_count": 6,
      "metadata": {
        "id": "WnvcGbCpbfuf"
      },
      "outputs": [],
      "source": [
        "sys.path.append('/content/drive/MyDrive/colab_notebooks/IITD-QML/')\n",
        "dataset_root_path = '/content/EuroSAT_RGB'\n"
      ]
    },
    {
      "cell_type": "code",
      "execution_count": 7,
      "metadata": {
        "colab": {
          "base_uri": "https://localhost:8080/"
        },
        "id": "QA6Q08-gb9Qv",
        "outputId": "75953a58-3c09-458a-cbd3-947b248ed1ca"
      },
      "outputs": [
        {
          "name": "stdout",
          "output_type": "stream",
          "text": [
            "Datahandler init ->  /content/EuroSAT_RGB\n",
            "Dataset images: 27000 Dataset labels: 27000\n",
            "Dataset sample -> /content/EuroSAT_RGB/Residential/Residential_889.jpg 4\n"
          ]
        }
      ],
      "source": [
        "handler = DatasetHandler(dataset_root_path)\n",
        "imgs_path, imgs_label = handler.load_paths_labels(dataset_root_path, handler.classes)\n",
        "print('Dataset images:', len(imgs_path), 'Dataset labels:', len(imgs_label))\n",
        "print('Dataset sample ->', imgs_path[0], imgs_label[0])"
      ]
    },
    {
      "cell_type": "code",
      "execution_count": 8,
      "metadata": {
        "colab": {
          "base_uri": "https://localhost:8080/"
        },
        "id": "0xIl3QV0coKo",
        "outputId": "1707f1a5-981c-41f5-b243-1075b690b6ff"
      },
      "outputs": [
        {
          "name": "stdout",
          "output_type": "stream",
          "text": [
            "X_train shape: (21600,) Y_train shape: (21600,)\n",
            "  X_val shape:  (5400,)   Y_val shape:  (5400,)\n"
          ]
        }
      ],
      "source": [
        "train_imgs, train_labels, val_images, val_labels = handler.train_validation_split(imgs_path, imgs_label, split_factor=0.2)\n",
        "print('X_train shape:', train_imgs.shape, 'Y_train shape:', train_labels.shape)\n",
        "print('  X_val shape: ', val_images.shape, '  Y_val shape: ', val_labels.shape)"
      ]
    },
    {
      "cell_type": "code",
      "execution_count": 9,
      "metadata": {
        "colab": {
          "base_uri": "https://localhost:8080/",
          "height": 461
        },
        "id": "yoeU5baMcqR_",
        "outputId": "b06028f9-ce83-457c-d138-3bed2a374566"
      },
      "outputs": [
        {
          "data": {
            "image/png": "[encoded data removed]",
            "text/plain": [
              "<Figure size 2000x800 with 10 Axes>"
            ]
          },
          "metadata": {},
          "output_type": "display_data"
        }
      ],
      "source": [
        "def plotDataset(images, labels, classes, columns, rows):\n",
        "    fig, axes = plt.subplots(nrows = rows, ncols = columns, figsize = (columns*4,rows*4))\n",
        "    for x in range(columns):\n",
        "        for y in range(rows):\n",
        "            index = random.randint(0, len(images)-1)\n",
        "\n",
        "            axes[y,x].imshow(plt.imread(images[index]))\n",
        "            axes[y,x].set_title('Label: ' + str(labels[index]) +\n",
        "                                '\\n Class: ' + classes[labels[index]].split('/')[-1])\n",
        "            axes[y,x].axis(False)\n",
        "\n",
        "    plt.show()\n",
        "plotDataset(train_imgs, train_labels, handler.classes, columns = 5, rows = 2)"
      ]
    },
    {
      "cell_type": "markdown",
      "metadata": {
        "id": "emh69EvabWrj"
      },
      "source": [
        "# Classical multi-class classification CNN"
      ]
    },
    {
      "cell_type": "code",
      "execution_count": 10,
      "metadata": {
        "colab": {
          "base_uri": "https://localhost:8080/"
        },
        "id": "cdlUd5xN_KN0",
        "outputId": "926b246b-f85b-4dd0-d8bd-232b87030e66"
      },
      "outputs": [
        {
          "name": "stdout",
          "output_type": "stream",
          "text": [
            "Requirement already satisfied: torchview in /usr/local/lib/python3.10/dist-packages (0.2.6)\n"
          ]
        }
      ],
      "source": [
        "!pip install torchview"
      ]
    },
    {
      "cell_type": "markdown",
      "metadata": {
        "id": "pAXg_Cwp7U2U"
      },
      "source": [
        "# Quantum classification layer."
      ]
    },
    {
      "cell_type": "code",
      "execution_count": 11,
      "metadata": {
        "id": "yICpAeq3BOZT"
      },
      "outputs": [],
      "source": [
        "NUM_QUBITS = 4\n",
        "NUM_SHOTS = 750\n",
        "SHIFT = np.pi/4\n",
        "LEARNING_RATE = 0.0001\n",
        "MOMENTUM = 0.5\n",
        "\n",
        "SIMULATOR = Aer.get_backend('aer_simulator')"
      ]
    },
    {
      "cell_type": "code",
      "execution_count": 12,
      "metadata": {
        "colab": {
          "base_uri": "https://localhost:8080/"
        },
        "id": "0rRkPVWTZLt3",
        "outputId": "7cf028c9-02e3-4bd2-af25-95733ffcb8b6"
      },
      "outputs": [
        {
          "name": "stdout",
          "output_type": "stream",
          "text": [
            "Datahandler init ->  /content/EuroSAT_RGB\n",
            "Dataset images: 27000 Dataset labels: 27000\n",
            "Dataset sample -> /content/EuroSAT_RGB/AnnualCrop/AnnualCrop_2433.jpg 5\n"
          ]
        }
      ],
      "source": [
        "handler = DatasetHandler(dataset_root_path)\n",
        "imgs_path, imgs_label = handler.load_paths_labels(dataset_root_path, handler.classes)\n",
        "print('Dataset images:', len(imgs_path), 'Dataset labels:', len(imgs_label))\n",
        "print('Dataset sample ->', imgs_path[0], imgs_label[0])"
      ]
    },
    {
      "cell_type": "code",
      "execution_count": 13,
      "metadata": {
        "colab": {
          "base_uri": "https://localhost:8080/"
        },
        "id": "9XtikCgSZP2d",
        "outputId": "2c5d4183-e24e-4cbb-8ddd-4a0bd233ba38"
      },
      "outputs": [
        {
          "name": "stdout",
          "output_type": "stream",
          "text": [
            "X_train shape: (21600,) Y_train shape: (21600,)\n",
            "  X_val shape:  (5400,)   Y_val shape:  (5400,)\n"
          ]
        }
      ],
      "source": [
        "train_imgs, train_labels, val_images, val_labels = handler.train_validation_split(imgs_path, imgs_label, split_factor=0.2)\n",
        "print('X_train shape:', train_imgs.shape, 'Y_train shape:', train_labels.shape)\n",
        "print('  X_val shape: ', val_images.shape, '  Y_val shape: ', val_labels.shape)"
      ]
    },
    {
      "cell_type": "markdown",
      "metadata": {
        "id": "EWVLg7QlEvgU"
      },
      "source": [
        "## Quantum circuit to be embedded into the layer.\n",
        "\n",
        "The following circuit code below, generates a bell circuit of 4 Qubits for usage in the CNN down under.\n",
        "4 Qubit circuit generates, 16 states which can be used as inputs to the state next.\n",
        "The previous layer in quantum has 4 as outputs which are connected to the QC circuit as inputs."
      ]
    },
    {
      "cell_type": "code",
      "execution_count": 14,
      "metadata": {
        "colab": {
          "base_uri": "https://localhost:8080/"
        },
        "id": "vdsFCbycM0U3",
        "outputId": "7e3679ad-c9da-40df-8937-418624d4784d"
      },
      "outputs": [
        {
          "name": "stdout",
          "output_type": "stream",
          "text": [
            "['0000', '0001', '0010', '0011', '0100', '0101', '0110', '0111', '1000', '1001', '1010', '1011', '1100', '1101', '1110', '1111']\n"
          ]
        }
      ],
      "source": [
        "import itertools\n",
        "def create_QC_OUTPUTS():\n",
        "    measurements = list(itertools.product([0, 1], repeat=NUM_QUBITS))\n",
        "    return [''.join([str(bit) for bit in measurement]) for measurement in measurements]\n",
        "\n",
        "QC_OUTPUTS = create_QC_OUTPUTS()\n",
        "print(QC_OUTPUTS)"
      ]
    },
    {
      "cell_type": "code",
      "execution_count": 15,
      "metadata": {
        "id": "ECgepAaMBGUZ"
      },
      "outputs": [],
      "source": [
        "class QCNeuron():\n",
        "    def __init__(self, n_qubits, backend, shots):\n",
        "        self.qc = QuantumCircuit(n_qubits)\n",
        "        self.n_qubits = n_qubits\n",
        "        self.thetas = {k : Parameter('Theta'+str(k)) for k in range(self.n_qubits)}\n",
        "\n",
        "        self.qc.h(0)\n",
        "        self.qc.cx(1, 0)\n",
        "        self.qc.cx(2, 1)\n",
        "        self.qc.cx(3, 2)\n",
        "\n",
        "        self.qc.barrier()\n",
        "\n",
        "        for k in range(0, 4):\n",
        "            self.qc.ry(self.thetas[k], k)\n",
        "\n",
        "        self.qc.barrier()\n",
        "\n",
        "        self.qc.cx(3, 2)\n",
        "        self.qc.cx(2, 1)\n",
        "        self.qc.cx(1, 0)\n",
        "        self.qc.h(0)\n",
        "\n",
        "        self.qc.measure_all()\n",
        "        # ---------------------------\n",
        "\n",
        "        self.backend = backend\n",
        "        self.shots = shots\n",
        "\n",
        "        self.tqc = transpile(self.qc, backend=self.backend)\n",
        "\n",
        "\n",
        "    def N_qubit_expectation_Z(self,counts, shots, nr_qubits):\n",
        "        expects = np.zeros(len(QC_OUTPUTS))\n",
        "        for k in range(len(QC_OUTPUTS)):\n",
        "            key = QC_OUTPUTS[k]\n",
        "            perc = counts.get(key, 0)/shots\n",
        "            expects[k] = perc\n",
        "        return expects\n",
        "\n",
        "    def run(self, i):\n",
        "        params = i.cpu().data.numpy()\n",
        "        parameters = {}\n",
        "\n",
        "        for k in range(self.n_qubits):\n",
        "          parameters[self.thetas[k]] = params[k].item()\n",
        "\n",
        "        qobj = assemble(self.tqc,\n",
        "                        shots=self.shots,\n",
        "                        parameter_binds = [parameters])\n",
        "\n",
        "        job = self.backend.run(qobj)\n",
        "        res =  self.N_qubit_expectation_Z(job.result().get_counts(), self.shots, self.n_qubits)\n",
        "        return res"
      ]
    },
    {
      "cell_type": "markdown",
      "metadata": {
        "id": "dqIntqC9UioT"
      },
      "source": [
        "## Sample QC circuit with 4 parameters is below."
      ]
    },
    {
      "cell_type": "code",
      "execution_count": 16,
      "metadata": {
        "colab": {
          "base_uri": "https://localhost:8080/",
          "height": 186
        },
        "id": "Cl8dJiVJBKvL",
        "outputId": "bdf10da9-53ff-474a-f107-01d765e7441e"
      },
      "outputs": [
        {
          "data": {
            "text/html": [
              "<pre style=\"word-wrap: normal;white-space: pre;background: #fff0;line-height: 1.1;font-family: &quot;Courier New&quot;,Courier,monospace\">        ┌───┐┌───┐           ░ ┌────────────┐ ░           ┌───┐┌───┐ ░ ┌─┐         \n",
              "   q_0: ┤ H ├┤ X ├───────────░─┤ Ry(Theta0) ├─░───────────┤ X ├┤ H ├─░─┤M├─────────\n",
              "        └───┘└─┬─┘┌───┐      ░ ├────────────┤ ░      ┌───┐└─┬─┘└───┘ ░ └╥┘┌─┐      \n",
              "   q_1: ───────■──┤ X ├──────░─┤ Ry(Theta1) ├─░──────┤ X ├──■────────░──╫─┤M├──────\n",
              "                  └─┬─┘┌───┐ ░ ├────────────┤ ░ ┌───┐└─┬─┘           ░  ║ └╥┘┌─┐   \n",
              "   q_2: ────────────■──┤ X ├─░─┤ Ry(Theta2) ├─░─┤ X ├──■─────────────░──╫──╫─┤M├───\n",
              "                       └─┬─┘ ░ ├────────────┤ ░ └─┬─┘                ░  ║  ║ └╥┘┌─┐\n",
              "   q_3: ─────────────────■───░─┤ Ry(Theta3) ├─░───■──────────────────░──╫──╫──╫─┤M├\n",
              "                             ░ └────────────┘ ░                      ░  ║  ║  ║ └╥┘\n",
              "meas: 4/════════════════════════════════════════════════════════════════╩══╩══╩══╩═\n",
              "                                                                        0  1  2  3 </pre>"
            ],
            "text/plain": [
              "        ┌───┐┌───┐           ░ ┌────────────┐ ░           ┌───┐┌───┐ ░ ┌─┐         \n",
              "   q_0: ┤ H ├┤ X ├───────────░─┤ Ry(Theta0) ├─░───────────┤ X ├┤ H ├─░─┤M├─────────\n",
              "        └───┘└─┬─┘┌───┐      ░ ├────────────┤ ░      ┌───┐└─┬─┘└───┘ ░ └╥┘┌─┐      \n",
              "   q_1: ───────■──┤ X ├──────░─┤ Ry(Theta1) ├─░──────┤ X ├──■────────░──╫─┤M├──────\n",
              "                  └─┬─┘┌───┐ ░ ├────────────┤ ░ ┌───┐└─┬─┘           ░  ║ └╥┘┌─┐   \n",
              "   q_2: ────────────■──┤ X ├─░─┤ Ry(Theta2) ├─░─┤ X ├──■─────────────░──╫──╫─┤M├───\n",
              "                       └─┬─┘ ░ ├────────────┤ ░ └─┬─┘                ░  ║  ║ └╥┘┌─┐\n",
              "   q_3: ─────────────────■───░─┤ Ry(Theta3) ├─░───■──────────────────░──╫──╫──╫─┤M├\n",
              "                             ░ └────────────┘ ░                      ░  ║  ║  ║ └╥┘\n",
              "meas: 4/════════════════════════════════════════════════════════════════╩══╩══╩══╩═\n",
              "                                                                        0  1  2  3 "
            ]
          },
          "execution_count": 16,
          "metadata": {},
          "output_type": "execute_result"
        }
      ],
      "source": [
        "circuit = QCNeuron(NUM_QUBITS, Aer.get_backend('aer_simulator', device=\"GPU\"), NUM_SHOTS)\n",
        "circuit.qc.draw(fold=2000)"
      ]
    },
    {
      "cell_type": "code",
      "execution_count": 17,
      "metadata": {
        "colab": {
          "base_uri": "https://localhost:8080/"
        },
        "id": "WwNvB4s1oIaj",
        "outputId": "e5ce7b81-2708-4515-81d1-76b47a3f7fb1"
      },
      "outputs": [
        {
          "name": "stderr",
          "output_type": "stream",
          "text": [
            "<ipython-input-15-5540ea416a65>:52: DeprecationWarning: Using a qobj for run() is deprecated as of qiskit-aer 0.9.0 and will be removed no sooner than 3 months from that release date. Transpiled circuits should now be passed directly using `backend.run(circuits, **run_options).\n",
            "  job = self.backend.run(qobj)\n"
          ]
        },
        {
          "data": {
            "text/plain": [
              "array([0.12666667, 0.06      , 0.028     , 0.008     , 0.008     ,\n",
              "       0.00266667, 0.03333333, 0.02266667, 0.08933333, 0.04533333,\n",
              "       0.01333333, 0.004     , 0.04266667, 0.03333333, 0.31733333,\n",
              "       0.16533333])"
            ]
          },
          "execution_count": 17,
          "metadata": {},
          "output_type": "execute_result"
        }
      ],
      "source": [
        "np_array = np.array([5, 7, 1, 2])\n",
        "\n",
        "# Convert Numpy array to torch.Tensor\n",
        "tensor_a = torch.from_numpy(np_array)\n",
        "\n",
        "circuit.run(tensor_a)"
      ]
    },
    {
      "cell_type": "markdown",
      "metadata": {
        "id": "DavrLqfrFPBP"
      },
      "source": [
        "## Quantum neural network hidden layer"
      ]
    },
    {
      "cell_type": "code",
      "execution_count": 18,
      "metadata": {
        "id": "9xdFEeM3Dvbt"
      },
      "outputs": [],
      "source": [
        "class QuantumLayer(Function):\n",
        "    @staticmethod\n",
        "    def forward(ctx, i):\n",
        "        if not hasattr(ctx, 'qc'):\n",
        "            ctx.qc = QCNeuron(NUM_QUBITS, SIMULATOR, shots=NUM_SHOTS)\n",
        "\n",
        "        exp_value = ctx.qc.run(i)\n",
        "        result = torch.tensor([exp_value]).to(device)\n",
        "        ctx.save_for_backward(result, i)\n",
        "        return result\n",
        "\n",
        "    @staticmethod\n",
        "    def backward(ctx, grad_output):\n",
        "        forward_tensor, i = ctx.saved_tensors\n",
        "        input_numbers = i\n",
        "        gradients = torch.Tensor()\n",
        "\n",
        "        for k in range(NUM_QUBITS):\n",
        "            shift_right = input_numbers.detach().clone()\n",
        "            shift_right[k] = shift_right[k] + SHIFT\n",
        "            shift_left = input_numbers.detach().clone()\n",
        "            shift_left[k] = shift_left[k] - SHIFT\n",
        "\n",
        "            expectation_right = ctx.qc.run(shift_right)\n",
        "            expectation_left  = ctx.qc.run(shift_left)\n",
        "\n",
        "            gradient = torch.tensor([expectation_right]) - torch.tensor([expectation_left])\n",
        "            gradients = torch.cat((gradients, gradient.float()))\n",
        "\n",
        "        result = torch.Tensor(gradients).to(device)\n",
        "\n",
        "        return (result.float() * grad_output.float()).T"
      ]
    },
    {
      "cell_type": "code",
      "execution_count": 19,
      "metadata": {
        "id": "yToACOCwFMOa"
      },
      "outputs": [],
      "source": [
        "class Net(nn.Module):\n",
        "    def __init__(self):\n",
        "        super(Net, self).__init__()\n",
        "        self.conv1 = nn.Conv2d(3, 16, kernel_size=3)\n",
        "        self.conv2 = nn.Conv2d(16, 32, kernel_size=3)\n",
        "        self.conv3 = nn.Conv2d(32, 64, kernel_size=3)\n",
        "\n",
        "        self.fc1 = nn.Linear(2304, 4)\n",
        "        self.qc = QuantumLayer.apply\n",
        "        self.fc2 = nn.Linear(16, 10)\n",
        "\n",
        "    def forward(self, x):\n",
        "        x = F.relu(F.max_pool2d(self.conv1(x), 2))\n",
        "        x = F.relu(F.max_pool2d(self.conv2(x), 2))\n",
        "        x = F.relu(F.max_pool2d(self.conv3(x), 2))\n",
        "\n",
        "        x = x.view(-1, 2304)\n",
        "        x = self.fc1(x)\n",
        "        x = np.pi*torch.tanh(x)\n",
        "\n",
        "        x = self.qc(x[0]) # QUANTUM LAYER\n",
        "        x = F.relu(x)\n",
        "        x = self.fc2(x.float())\n",
        "        x = F.softmax(x, 1)\n",
        "        return x\n",
        "\n",
        "    def predict(self, x):\n",
        "        pred = self.forward(x)\n",
        "        ans = torch.argmax(pred[0]).item()\n",
        "        return torch.tensor(ans)\n",
        "\n",
        "hybrid_network = Net().to(device)\n",
        "optimizer = optim.Adam(hybrid_network.parameters(), lr=0.0002)"
      ]
    },
    {
      "cell_type": "code",
      "execution_count": 20,
      "metadata": {
        "colab": {
          "base_uri": "https://localhost:8080/"
        },
        "id": "Oj6jT3o8GK19",
        "outputId": "d7fcdcc2-f91b-451b-b0e7-169baee7a53b"
      },
      "outputs": [
        {
          "name": "stdout",
          "output_type": "stream",
          "text": [
            "----------------------------------------------------------------\n",
            "        Layer (type)               Output Shape         Param #\n",
            "================================================================\n",
            "            Conv2d-1           [-1, 16, 62, 62]             448\n",
            "            Conv2d-2           [-1, 32, 29, 29]           4,640\n",
            "            Conv2d-3           [-1, 64, 12, 12]          18,496\n",
            "            Linear-4                    [-1, 4]           9,220\n",
            "            Linear-5                   [-1, 10]             170\n",
            "================================================================\n",
            "Total params: 32,974\n",
            "Trainable params: 32,974\n",
            "Non-trainable params: 0\n",
            "----------------------------------------------------------------\n",
            "Input size (MB): 0.05\n",
            "Forward/backward pass size (MB): 0.74\n",
            "Params size (MB): 0.13\n",
            "Estimated Total Size (MB): 0.92\n",
            "----------------------------------------------------------------\n"
          ]
        },
        {
          "name": "stderr",
          "output_type": "stream",
          "text": [
            "<ipython-input-15-5540ea416a65>:52: DeprecationWarning: Using a qobj for run() is deprecated as of qiskit-aer 0.9.0 and will be removed no sooner than 3 months from that release date. Transpiled circuits should now be passed directly using `backend.run(circuits, **run_options).\n",
            "  job = self.backend.run(qobj)\n",
            "<ipython-input-18-2fcf0791b6ac>:8: UserWarning: Creating a tensor from a list of numpy.ndarrays is extremely slow. Please consider converting the list to a single numpy.ndarray with numpy.array() before converting to a tensor. (Triggered internally at ../torch/csrc/utils/tensor_new.cpp:245.)\n",
            "  result = torch.tensor([exp_value]).to(device)\n"
          ]
        }
      ],
      "source": [
        "summary(hybrid_network, (3, 64, 64))"
      ]
    },
    {
      "cell_type": "code",
      "execution_count": 21,
      "metadata": {
        "colab": {
          "base_uri": "https://localhost:8080/"
        },
        "id": "1KfyCkL3Obji",
        "outputId": "762d24ab-8daf-4ced-f549-f4c373dd74d9"
      },
      "outputs": [
        {
          "name": "stderr",
          "output_type": "stream",
          "text": [
            "<ipython-input-15-5540ea416a65>:52: DeprecationWarning: Using a qobj for run() is deprecated as of qiskit-aer 0.9.0 and will be removed no sooner than 3 months from that release date. Transpiled circuits should now be passed directly using `backend.run(circuits, **run_options).\n",
            "  job = self.backend.run(qobj)\n"
          ]
        },
        {
          "name": "stdout",
          "output_type": "stream",
          "text": [
            "Epoch 0 ~ Batch 21599 (21599) ~ Loss 2.361274 \t\tTraining [5%]\t Training Loss: 2.2530 Validation Loss: 2.2037\n",
            "[[0.         0.00413223 0.         0.         0.60743802 0.00206612\n",
            "  0.         0.         0.36363636 0.02272727]\n",
            " [0.         0.01428571 0.         0.02244898 0.36530612 0.0122449\n",
            "  0.         0.         0.37142857 0.21428571]\n",
            " [0.         0.02827763 0.         0.05141388 0.37275064 0.00514139\n",
            "  0.         0.         0.09511568 0.44730077]\n",
            " [0.         0.00166389 0.         0.01331115 0.01996672 0.\n",
            "  0.         0.         0.00332779 0.96173045]\n",
            " [0.         0.         0.         0.         0.98679868 0.\n",
            "  0.         0.         0.01320132 0.        ]\n",
            " [0.         0.00156006 0.         0.         0.62558502 0.\n",
            "  0.         0.         0.33385335 0.03900156]\n",
            " [0.         0.         0.         0.00206186 0.93608247 0.\n",
            "  0.         0.         0.0556701  0.00618557]\n",
            " [0.         0.         0.         0.00330579 0.94049587 0.\n",
            "  0.         0.         0.01652893 0.03966942]\n",
            " [0.         0.         0.         0.         0.19628099 0.\n",
            "  0.         0.         0.80371901 0.        ]\n",
            " [0.         0.00325203 0.         0.00325203 0.08617886 0.00162602\n",
            "  0.         0.         0.00162602 0.90406504]]\n",
            "                                           precision    recall  f1-score   support\n",
            "\n",
            "             /content/EuroSAT_RGB/Highway     0.2917    0.0143    0.0272       490\n",
            "               /content/EuroSAT_RGB/River     0.1818    0.0133    0.0248       601\n",
            "             /content/EuroSAT_RGB/Pasture     0.2136    0.9868    0.3511       606\n",
            "              /content/EuroSAT_RGB/Forest     0.0000    0.0000    0.0000       641\n",
            "         /content/EuroSAT_RGB/Residential     0.3719    0.8037    0.5085       484\n",
            "          /content/EuroSAT_RGB/AnnualCrop     0.3767    0.9041    0.5318       615\n",
            "\n",
            "                                micro avg     0.2885    0.4533    0.3526      3437\n",
            "                                macro avg     0.2393    0.4537    0.2406      3437\n",
            "                             weighted avg     0.2308    0.4533    0.2369      3437\n",
            "\n",
            "Epoch 1 ~ Batch 3 (21599) ~ Loss 2.328514 \t\t"
          ]
        },
        {
          "name": "stderr",
          "output_type": "stream",
          "text": [
            "/usr/local/lib/python3.10/dist-packages/sklearn/metrics/_classification.py:2326: UserWarning: labels size, 6, does not match size of target_names, 10\n",
            "  warnings.warn(\n",
            "<ipython-input-15-5540ea416a65>:52: DeprecationWarning: Using a qobj for run() is deprecated as of qiskit-aer 0.9.0 and will be removed no sooner than 3 months from that release date. Transpiled circuits should now be passed directly using `backend.run(circuits, **run_options).\n",
            "  job = self.backend.run(qobj)\n"
          ]
        },
        {
          "name": "stdout",
          "output_type": "stream",
          "text": [
            "Epoch 1 ~ Batch 21599 (21599) ~ Loss 2.402129 \t\tTraining [10%]\t Training Loss: 2.1606 Validation Loss: 2.1173\n",
            "[[0.         0.38016529 0.         0.01033058 0.23760331 0.\n",
            "  0.         0.00413223 0.36363636 0.00413223]\n",
            " [0.         0.74081633 0.         0.09183673 0.03061224 0.\n",
            "  0.         0.         0.10816327 0.02857143]\n",
            " [0.         0.57326478 0.         0.18766067 0.08997429 0.\n",
            "  0.         0.01028278 0.00514139 0.13367609]\n",
            " [0.         0.03494176 0.         0.08652246 0.         0.\n",
            "  0.         0.00166389 0.00166389 0.87520799]\n",
            " [0.         0.0049505  0.         0.00165017 0.91749175 0.\n",
            "  0.         0.00330033 0.0660066  0.00660066]\n",
            " [0.         0.45085803 0.         0.01404056 0.29953198 0.\n",
            "  0.         0.00624025 0.21372855 0.01560062]\n",
            " [0.         0.05979381 0.         0.01237113 0.73195876 0.\n",
            "  0.         0.01030928 0.18350515 0.00206186]\n",
            " [0.         0.0231405  0.         0.0214876  0.83471074 0.\n",
            "  0.         0.03140496 0.03636364 0.05289256]\n",
            " [0.         0.         0.         0.         0.05785124 0.\n",
            "  0.         0.         0.94214876 0.        ]\n",
            " [0.         0.03089431 0.         0.03089431 0.03739837 0.\n",
            "  0.         0.01300813 0.00162602 0.88617886]]\n",
            "                                           precision    recall  f1-score   support\n",
            "\n",
            "             /content/EuroSAT_RGB/Highway     0.3170    0.7408    0.4440       490\n",
            "               /content/EuroSAT_RGB/River     0.2332    0.0865    0.1262       601\n",
            "             /content/EuroSAT_RGB/Pasture     0.3048    0.9175    0.4576       606\n",
            "              /content/EuroSAT_RGB/Forest     0.4222    0.0314    0.0585       605\n",
            "         /content/EuroSAT_RGB/Residential     0.4667    0.9421    0.6242       484\n",
            "          /content/EuroSAT_RGB/AnnualCrop     0.4595    0.8862    0.6052       615\n",
            "\n",
            "                                micro avg     0.3687    0.5854    0.4524      3401\n",
            "                                macro avg     0.3673    0.6008    0.3860      3401\n",
            "                             weighted avg     0.3658    0.5854    0.3765      3401\n",
            "\n",
            "Epoch 2 ~ Batch 2 (21599) ~ Loss 2.002762 \t\t"
          ]
        },
        {
          "name": "stderr",
          "output_type": "stream",
          "text": [
            "/usr/local/lib/python3.10/dist-packages/sklearn/metrics/_classification.py:2326: UserWarning: labels size, 6, does not match size of target_names, 10\n",
            "  warnings.warn(\n",
            "<ipython-input-15-5540ea416a65>:52: DeprecationWarning: Using a qobj for run() is deprecated as of qiskit-aer 0.9.0 and will be removed no sooner than 3 months from that release date. Transpiled circuits should now be passed directly using `backend.run(circuits, **run_options).\n",
            "  job = self.backend.run(qobj)\n"
          ]
        },
        {
          "name": "stdout",
          "output_type": "stream",
          "text": [
            "Epoch 2 ~ Batch 21599 (21599) ~ Loss 2.425755 \t\tTraining [15%]\t Training Loss: 2.0924 Validation Loss: 2.0740\n",
            "[[0.         0.36570248 0.         0.00413223 0.32231405 0.\n",
            "  0.         0.00619835 0.29958678 0.00206612]\n",
            " [0.         0.84897959 0.         0.02040816 0.03877551 0.\n",
            "  0.         0.00612245 0.08163265 0.00408163]\n",
            " [0.         0.61696658 0.         0.19280206 0.08226221 0.\n",
            "  0.         0.02570694 0.         0.08226221]\n",
            " [0.         0.03327787 0.         0.16306156 0.00166389 0.\n",
            "  0.         0.00166389 0.         0.80033278]\n",
            " [0.         0.0049505  0.         0.         0.95874587 0.\n",
            "  0.         0.0049505  0.02970297 0.00165017]\n",
            " [0.         0.51014041 0.         0.01872075 0.31825273 0.\n",
            "  0.         0.05148206 0.08892356 0.0124805 ]\n",
            " [0.         0.07010309 0.         0.00618557 0.81030928 0.\n",
            "  0.         0.01649485 0.09072165 0.00618557]\n",
            " [0.         0.03471074 0.         0.01818182 0.79008264 0.\n",
            "  0.         0.09917355 0.02644628 0.03140496]\n",
            " [0.         0.         0.         0.         0.10330579 0.\n",
            "  0.         0.         0.89669421 0.        ]\n",
            " [0.         0.05853659 0.         0.09593496 0.00813008 0.\n",
            "  0.         0.03089431 0.00162602 0.80487805]]\n",
            "                                           precision    recall  f1-score   support\n",
            "\n",
            "             /content/EuroSAT_RGB/Highway     0.3265    0.8490    0.4717       490\n",
            "               /content/EuroSAT_RGB/River     0.3630    0.1631    0.2250       601\n",
            "             /content/EuroSAT_RGB/Pasture     0.3028    0.9587    0.4602       606\n",
            "              /content/EuroSAT_RGB/Forest     0.4286    0.0992    0.1611       605\n",
            "         /content/EuroSAT_RGB/Residential     0.5748    0.8967    0.7006       484\n",
            "          /content/EuroSAT_RGB/AnnualCrop     0.4750    0.8049    0.5975       615\n",
            "\n",
            "                                micro avg     0.3859    0.6128    0.4736      3401\n",
            "                                macro avg     0.4118    0.6286    0.4360      3401\n",
            "                             weighted avg     0.4091    0.6128    0.4261      3401\n",
            "\n",
            "Epoch 3 ~ Batch 3 (21599) ~ Loss 1.895077 \t\t"
          ]
        },
        {
          "name": "stderr",
          "output_type": "stream",
          "text": [
            "/usr/local/lib/python3.10/dist-packages/sklearn/metrics/_classification.py:2326: UserWarning: labels size, 6, does not match size of target_names, 10\n",
            "  warnings.warn(\n",
            "<ipython-input-15-5540ea416a65>:52: DeprecationWarning: Using a qobj for run() is deprecated as of qiskit-aer 0.9.0 and will be removed no sooner than 3 months from that release date. Transpiled circuits should now be passed directly using `backend.run(circuits, **run_options).\n",
            "  job = self.backend.run(qobj)\n"
          ]
        },
        {
          "name": "stdout",
          "output_type": "stream",
          "text": [
            "Epoch 3 ~ Batch 21599 (21599) ~ Loss 2.419133 \t\tTraining [20%]\t Training Loss: 2.0460 Validation Loss: 2.0208\n",
            "[[0.         0.48553719 0.         0.00619835 0.16735537 0.00206612\n",
            "  0.         0.12809917 0.19834711 0.01239669]\n",
            " [0.         0.91836735 0.         0.02040816 0.00816327 0.\n",
            "  0.         0.01632653 0.03469388 0.00204082]\n",
            " [0.         0.56812339 0.         0.28020566 0.00257069 0.\n",
            "  0.         0.12082262 0.         0.02827763]\n",
            " [0.         0.02995008 0.         0.92678869 0.         0.\n",
            "  0.         0.00166389 0.         0.04159734]\n",
            " [0.         0.00165017 0.         0.         0.96039604 0.\n",
            "  0.         0.00165017 0.03630363 0.        ]\n",
            " [0.         0.56474259 0.         0.04680187 0.02340094 0.01092044\n",
            "  0.         0.29797192 0.03276131 0.02340094]\n",
            " [0.         0.09484536 0.         0.01237113 0.19381443 0.00412371\n",
            "  0.         0.62680412 0.06597938 0.00206186]\n",
            " [0.         0.04628099 0.         0.02644628 0.14876033 0.\n",
            "  0.         0.69421488 0.02809917 0.05619835]\n",
            " [0.         0.         0.         0.         0.04752066 0.\n",
            "  0.         0.00206612 0.95041322 0.        ]\n",
            " [0.         0.04715447 0.         0.25853659 0.         0.\n",
            "  0.         0.01788618 0.         0.67642276]]\n",
            "                                           precision    recall  f1-score   support\n",
            "\n",
            "             /content/EuroSAT_RGB/Highway     0.3237    0.9184    0.4787       490\n",
            "               /content/EuroSAT_RGB/River     0.6258    0.9268    0.7471       601\n",
            "             /content/EuroSAT_RGB/Pasture     0.6539    0.9604    0.7781       606\n",
            "              /content/EuroSAT_RGB/Forest     0.7000    0.0109    0.0215       641\n",
            "         /content/EuroSAT_RGB/Residential     0.4015    0.6942    0.5088       605\n",
            "          /content/EuroSAT_RGB/AnnualCrop     0.6917    0.9504    0.8007       484\n",
            "       /content/EuroSAT_RGB/PermanentCrop     0.8173    0.6764    0.7402       615\n",
            "\n",
            "                                micro avg     0.5356    0.7155    0.6126      4042\n",
            "                                macro avg     0.6020    0.7339    0.5822      4042\n",
            "                             weighted avg     0.6086    0.7155    0.5738      4042\n",
            "\n",
            "Epoch 4 ~ Batch 3 (21599) ~ Loss 1.724437 \t\t"
          ]
        },
        {
          "name": "stderr",
          "output_type": "stream",
          "text": [
            "/usr/local/lib/python3.10/dist-packages/sklearn/metrics/_classification.py:2326: UserWarning: labels size, 7, does not match size of target_names, 10\n",
            "  warnings.warn(\n",
            "<ipython-input-15-5540ea416a65>:52: DeprecationWarning: Using a qobj for run() is deprecated as of qiskit-aer 0.9.0 and will be removed no sooner than 3 months from that release date. Transpiled circuits should now be passed directly using `backend.run(circuits, **run_options).\n",
            "  job = self.backend.run(qobj)\n"
          ]
        },
        {
          "name": "stdout",
          "output_type": "stream",
          "text": [
            "Epoch 4 ~ Batch 21599 (21599) ~ Loss 2.420007 \t\tTraining [25%]\t Training Loss: 1.9963 Validation Loss: 1.9683\n",
            "[[0.         0.37396694 0.         0.00206612 0.1177686  0.12809917\n",
            "  0.         0.19834711 0.17975207 0.        ]\n",
            " [0.         0.8755102  0.         0.01020408 0.00612245 0.02653061\n",
            "  0.         0.02653061 0.05306122 0.00204082]\n",
            " [0.         0.55784062 0.         0.22365039 0.         0.03341902\n",
            "  0.         0.1748072  0.00257069 0.00771208]\n",
            " [0.         0.03161398 0.         0.9234609  0.         0.\n",
            "  0.         0.01830283 0.         0.0266223 ]\n",
            " [0.         0.00165017 0.         0.         0.97524752 0.00165017\n",
            "  0.         0.00825083 0.01320132 0.        ]\n",
            " [0.         0.25273011 0.         0.0124805  0.00312012 0.38221529\n",
            "  0.         0.26209048 0.08112324 0.00624025]\n",
            " [0.         0.02886598 0.         0.00412371 0.04948454 0.09690722\n",
            "  0.         0.78762887 0.03298969 0.        ]\n",
            " [0.         0.0446281  0.         0.0214876  0.05785124 0.01157025\n",
            "  0.         0.84297521 0.00826446 0.01322314]\n",
            " [0.         0.         0.         0.         0.10743802 0.\n",
            "  0.         0.00413223 0.88842975 0.        ]\n",
            " [0.         0.03252033 0.         0.16097561 0.         0.00162602\n",
            "  0.         0.04390244 0.         0.76097561]]\n",
            "                                           precision    recall  f1-score   support\n",
            "\n",
            "             /content/EuroSAT_RGB/Highway     0.4009    0.8755    0.5500       490\n",
            "               /content/EuroSAT_RGB/River     0.7208    0.9235    0.8096       601\n",
            "             /content/EuroSAT_RGB/Pasture     0.7736    0.9752    0.8628       606\n",
            "              /content/EuroSAT_RGB/Forest     0.6298    0.3822    0.4757       641\n",
            "         /content/EuroSAT_RGB/Residential     0.3978    0.8430    0.5405       605\n",
            "          /content/EuroSAT_RGB/AnnualCrop     0.6880    0.8884    0.7755       484\n",
            "       /content/EuroSAT_RGB/PermanentCrop     0.9360    0.7610    0.8395       615\n",
            "\n",
            "                                micro avg     0.5978    0.7986    0.6838      4042\n",
            "                                macro avg     0.6496    0.8070    0.6934      4042\n",
            "                             weighted avg     0.6560    0.7986    0.6933      4042\n",
            "\n",
            "Epoch 5 ~ Batch 3 (21599) ~ Loss 1.852324 \t\t"
          ]
        },
        {
          "name": "stderr",
          "output_type": "stream",
          "text": [
            "/usr/local/lib/python3.10/dist-packages/sklearn/metrics/_classification.py:2326: UserWarning: labels size, 7, does not match size of target_names, 10\n",
            "  warnings.warn(\n",
            "<ipython-input-15-5540ea416a65>:52: DeprecationWarning: Using a qobj for run() is deprecated as of qiskit-aer 0.9.0 and will be removed no sooner than 3 months from that release date. Transpiled circuits should now be passed directly using `backend.run(circuits, **run_options).\n",
            "  job = self.backend.run(qobj)\n"
          ]
        },
        {
          "name": "stdout",
          "output_type": "stream",
          "text": [
            "Epoch 5 ~ Batch 21599 (21599) ~ Loss 2.426969 \t\tTraining [30%]\t Training Loss: 1.9386 Validation Loss: 1.9048\n",
            "[[0.         0.32231405 0.         0.02066116 0.10743802 0.26239669\n",
            "  0.         0.21280992 0.07438017 0.        ]\n",
            " [0.         0.79387755 0.         0.03673469 0.00204082 0.1122449\n",
            "  0.         0.02040816 0.03265306 0.00204082]\n",
            " [0.         0.40874036 0.         0.30848329 0.         0.09254499\n",
            "  0.         0.1722365  0.         0.01799486]\n",
            " [0.         0.00998336 0.         0.94509151 0.         0.\n",
            "  0.         0.01663894 0.         0.02828619]\n",
            " [0.         0.00165017 0.         0.00165017 0.97194719 0.\n",
            "  0.         0.01815182 0.00660066 0.        ]\n",
            " [0.         0.07956318 0.         0.024961   0.         0.75663027\n",
            "  0.         0.12948518 0.00156006 0.00780031]\n",
            " [0.         0.01649485 0.         0.00824742 0.02474227 0.18969072\n",
            "  0.         0.75051546 0.01030928 0.        ]\n",
            " [0.         0.0214876  0.         0.02644628 0.03140496 0.01818182\n",
            "  0.         0.87438017 0.00495868 0.0231405 ]\n",
            " [0.         0.00206612 0.         0.         0.13636364 0.00206612\n",
            "  0.         0.00826446 0.85123967 0.        ]\n",
            " [0.         0.01626016 0.         0.15284553 0.         0.00487805\n",
            "  0.         0.02926829 0.         0.79674797]]\n",
            "                                           precision    recall  f1-score   support\n",
            "\n",
            "             /content/EuroSAT_RGB/Highway     0.4899    0.7939    0.6059       490\n",
            "               /content/EuroSAT_RGB/River     0.6706    0.9451    0.7845       601\n",
            "             /content/EuroSAT_RGB/Pasture     0.7970    0.9719    0.8758       606\n",
            "              /content/EuroSAT_RGB/Forest     0.5988    0.7566    0.6685       641\n",
            "         /content/EuroSAT_RGB/Residential     0.4412    0.8744    0.5865       605\n",
            "          /content/EuroSAT_RGB/AnnualCrop     0.8637    0.8512    0.8574       484\n",
            "       /content/EuroSAT_RGB/PermanentCrop     0.9176    0.7967    0.8529       615\n",
            "\n",
            "                                micro avg     0.6411    0.8565    0.7333      4042\n",
            "                                macro avg     0.6827    0.8557    0.7474      4042\n",
            "                             weighted avg     0.6826    0.8565    0.7477      4042\n",
            "\n",
            "Epoch 6 ~ Batch 3 (21599) ~ Loss 2.009306 \t\t"
          ]
        },
        {
          "name": "stderr",
          "output_type": "stream",
          "text": [
            "/usr/local/lib/python3.10/dist-packages/sklearn/metrics/_classification.py:2326: UserWarning: labels size, 7, does not match size of target_names, 10\n",
            "  warnings.warn(\n",
            "<ipython-input-15-5540ea416a65>:52: DeprecationWarning: Using a qobj for run() is deprecated as of qiskit-aer 0.9.0 and will be removed no sooner than 3 months from that release date. Transpiled circuits should now be passed directly using `backend.run(circuits, **run_options).\n",
            "  job = self.backend.run(qobj)\n"
          ]
        },
        {
          "name": "stdout",
          "output_type": "stream",
          "text": [
            "Epoch 6 ~ Batch 21599 (21599) ~ Loss 2.429354 \t\tTraining [35%]\t Training Loss: 1.8849 Validation Loss: 1.8920\n",
            "[[0.         0.30165289 0.         0.03099174 0.09710744 0.23966942\n",
            "  0.         0.26239669 0.06818182 0.        ]\n",
            " [0.         0.80204082 0.         0.02653061 0.00816327 0.11020408\n",
            "  0.         0.02857143 0.02244898 0.00204082]\n",
            " [0.         0.35218509 0.         0.34447301 0.         0.11311054\n",
            "  0.         0.18508997 0.         0.00514139]\n",
            " [0.         0.00166389 0.         0.94342762 0.         0.\n",
            "  0.         0.02995008 0.         0.0249584 ]\n",
            " [0.         0.00330033 0.         0.         0.94719472 0.\n",
            "  0.         0.04950495 0.         0.        ]\n",
            " [0.         0.03900156 0.         0.02184087 0.         0.81123245\n",
            "  0.         0.12168487 0.         0.00624025]\n",
            " [0.         0.01649485 0.         0.00824742 0.0185567  0.1814433\n",
            "  0.         0.77113402 0.00412371 0.        ]\n",
            " [0.         0.02975207 0.         0.02809917 0.02644628 0.01322314\n",
            "  0.         0.88099174 0.         0.0214876 ]\n",
            " [0.         0.00619835 0.         0.         0.24380165 0.00413223\n",
            "  0.         0.01239669 0.73347107 0.        ]\n",
            " [0.         0.03089431 0.         0.31056911 0.         0.00650407\n",
            "  0.         0.02113821 0.         0.63089431]]\n",
            "                                           precision    recall  f1-score   support\n",
            "\n",
            "             /content/EuroSAT_RGB/Highway     0.5226    0.8020    0.6329       490\n",
            "               /content/EuroSAT_RGB/River     0.5937    0.9434    0.7288       601\n",
            "             /content/EuroSAT_RGB/Pasture     0.7474    0.9472    0.8355       606\n",
            "              /content/EuroSAT_RGB/Forest     0.6220    0.8112    0.7041       641\n",
            "         /content/EuroSAT_RGB/Residential     0.4213    0.8810    0.5701       605\n",
            "          /content/EuroSAT_RGB/AnnualCrop     0.8853    0.7335    0.8023       484\n",
            "       /content/EuroSAT_RGB/PermanentCrop     0.9173    0.6309    0.7476       615\n",
            "\n",
            "                                micro avg     0.6167    0.8238    0.7054      4042\n",
            "                                macro avg     0.6728    0.8213    0.7173      4042\n",
            "                             weighted avg     0.6710    0.8238    0.7171      4042\n",
            "\n",
            "Epoch 7 ~ Batch 3 (21599) ~ Loss 1.874948 \t\t"
          ]
        },
        {
          "name": "stderr",
          "output_type": "stream",
          "text": [
            "/usr/local/lib/python3.10/dist-packages/sklearn/metrics/_classification.py:2326: UserWarning: labels size, 7, does not match size of target_names, 10\n",
            "  warnings.warn(\n",
            "<ipython-input-15-5540ea416a65>:52: DeprecationWarning: Using a qobj for run() is deprecated as of qiskit-aer 0.9.0 and will be removed no sooner than 3 months from that release date. Transpiled circuits should now be passed directly using `backend.run(circuits, **run_options).\n",
            "  job = self.backend.run(qobj)\n"
          ]
        },
        {
          "name": "stdout",
          "output_type": "stream",
          "text": [
            "Epoch 7 ~ Batch 21599 (21599) ~ Loss 2.405358 \t\tTraining [40%]\t Training Loss: 1.8462 Validation Loss: 1.8414\n",
            "[[0.         0.42561983 0.         0.00826446 0.06404959 0.19834711\n",
            "  0.         0.13016529 0.17355372 0.        ]\n",
            " [0.         0.87346939 0.         0.00816327 0.00408163 0.06938776\n",
            "  0.         0.00408163 0.03877551 0.00204082]\n",
            " [0.         0.35732648 0.         0.19537275 0.         0.33161954\n",
            "  0.         0.06683805 0.         0.04884319]\n",
            " [0.         0.01663894 0.         0.95673877 0.         0.01497504\n",
            "  0.         0.00332779 0.         0.00831947]\n",
            " [0.         0.00825083 0.         0.00165017 0.94719472 0.\n",
            "  0.         0.00825083 0.0330033  0.00165017]\n",
            " [0.         0.03900156 0.         0.00156006 0.         0.87051482\n",
            "  0.         0.07644306 0.00936037 0.00312012]\n",
            " [0.         0.05773196 0.         0.00206186 0.01649485 0.26391753\n",
            "  0.         0.61649485 0.04123711 0.00206186]\n",
            " [0.         0.05619835 0.         0.02809917 0.0231405  0.01983471\n",
            "  0.         0.84132231 0.01652893 0.01487603]\n",
            " [0.         0.01033058 0.         0.         0.03099174 0.\n",
            "  0.         0.00413223 0.95454545 0.        ]\n",
            " [0.         0.04227642 0.         0.24390244 0.         0.01300813\n",
            "  0.         0.01463415 0.         0.68617886]]\n",
            "                                           precision    recall  f1-score   support\n",
            "\n",
            "             /content/EuroSAT_RGB/Highway     0.4724    0.8735    0.6132       490\n",
            "               /content/EuroSAT_RGB/River     0.6936    0.9567    0.8042       601\n",
            "             /content/EuroSAT_RGB/Pasture     0.8913    0.9472    0.9184       606\n",
            "              /content/EuroSAT_RGB/Forest     0.5729    0.8705    0.6910       641\n",
            "         /content/EuroSAT_RGB/Residential     0.5269    0.8413    0.6480       605\n",
            "          /content/EuroSAT_RGB/AnnualCrop     0.7440    0.9545    0.8362       484\n",
            "       /content/EuroSAT_RGB/PermanentCrop     0.9174    0.6862    0.7851       615\n",
            "\n",
            "                                micro avg     0.6533    0.8728    0.7473      4042\n",
            "                                macro avg     0.6884    0.8757    0.7566      4042\n",
            "                             weighted avg     0.6924    0.8728    0.7578      4042\n",
            "\n",
            "Epoch 8 ~ Batch 3 (21599) ~ Loss 2.168988 \t\t"
          ]
        },
        {
          "name": "stderr",
          "output_type": "stream",
          "text": [
            "/usr/local/lib/python3.10/dist-packages/sklearn/metrics/_classification.py:2326: UserWarning: labels size, 7, does not match size of target_names, 10\n",
            "  warnings.warn(\n",
            "<ipython-input-15-5540ea416a65>:52: DeprecationWarning: Using a qobj for run() is deprecated as of qiskit-aer 0.9.0 and will be removed no sooner than 3 months from that release date. Transpiled circuits should now be passed directly using `backend.run(circuits, **run_options).\n",
            "  job = self.backend.run(qobj)\n"
          ]
        },
        {
          "name": "stdout",
          "output_type": "stream",
          "text": [
            "Epoch 8 ~ Batch 21599 (21599) ~ Loss 2.404112 \t\tTraining [45%]\t Training Loss: 1.8248 Validation Loss: 1.8320\n",
            "[[0.         0.46900826 0.         0.03305785 0.09297521 0.15702479\n",
            "  0.         0.14049587 0.10330579 0.00413223]\n",
            " [0.         0.87959184 0.         0.02244898 0.00612245 0.05918367\n",
            "  0.         0.00612245 0.02244898 0.00408163]\n",
            " [0.         0.23907455 0.         0.39588689 0.         0.23393316\n",
            "  0.         0.10025707 0.         0.03084833]\n",
            " [0.         0.00998336 0.         0.98003328 0.         0.00166389\n",
            "  0.         0.00499168 0.         0.00332779]\n",
            " [0.         0.01815182 0.         0.00330033 0.93234323 0.\n",
            "  0.         0.02145215 0.00825083 0.01650165]\n",
            " [0.         0.03900156 0.         0.01716069 0.00156006 0.76911076\n",
            "  0.         0.16068643 0.00780031 0.00468019]\n",
            " [0.         0.04329897 0.         0.01443299 0.02474227 0.14226804\n",
            "  0.         0.74226804 0.02886598 0.00412371]\n",
            " [0.         0.05454545 0.         0.05785124 0.04793388 0.00495868\n",
            "  0.         0.79504132 0.00826446 0.03140496]\n",
            " [0.         0.03305785 0.         0.         0.09504132 0.00206612\n",
            "  0.         0.00206612 0.8677686  0.        ]\n",
            " [0.         0.02439024 0.         0.10406504 0.         0.00813008\n",
            "  0.         0.01788618 0.         0.84552846]]\n",
            "                                           precision    recall  f1-score   support\n",
            "\n",
            "             /content/EuroSAT_RGB/Highway     0.4909    0.8796    0.6301       490\n",
            "               /content/EuroSAT_RGB/River     0.6625    0.9800    0.7906       601\n",
            "             /content/EuroSAT_RGB/Pasture     0.8060    0.9323    0.8646       606\n",
            "              /content/EuroSAT_RGB/Forest     0.6419    0.7691    0.6998       641\n",
            "         /content/EuroSAT_RGB/Residential     0.4445    0.7950    0.5702       605\n",
            "          /content/EuroSAT_RGB/AnnualCrop     0.8235    0.8678    0.8451       484\n",
            "       /content/EuroSAT_RGB/PermanentCrop     0.9091    0.8455    0.8762       615\n",
            "\n",
            "                                micro avg     0.6480    0.8657    0.7412      4042\n",
            "                                macro avg     0.6826    0.8671    0.7538      4042\n",
            "                             weighted avg     0.6841    0.8657    0.7544      4042\n",
            "\n",
            "Epoch 9 ~ Batch 2 (21599) ~ Loss 1.510834 \t\t"
          ]
        },
        {
          "name": "stderr",
          "output_type": "stream",
          "text": [
            "/usr/local/lib/python3.10/dist-packages/sklearn/metrics/_classification.py:2326: UserWarning: labels size, 7, does not match size of target_names, 10\n",
            "  warnings.warn(\n",
            "<ipython-input-15-5540ea416a65>:52: DeprecationWarning: Using a qobj for run() is deprecated as of qiskit-aer 0.9.0 and will be removed no sooner than 3 months from that release date. Transpiled circuits should now be passed directly using `backend.run(circuits, **run_options).\n",
            "  job = self.backend.run(qobj)\n"
          ]
        },
        {
          "name": "stdout",
          "output_type": "stream",
          "text": [
            "Epoch 9 ~ Batch 21599 (21599) ~ Loss 2.408508 \t\tTraining [50%]\t Training Loss: 1.8091 Validation Loss: 1.7953\n",
            "[[0.         0.40909091 0.         0.02066116 0.09090909 0.19421488\n",
            "  0.         0.1446281  0.14049587 0.        ]\n",
            " [0.         0.86326531 0.         0.02653061 0.00816327 0.05510204\n",
            "  0.         0.01020408 0.02857143 0.00816327]\n",
            " [0.         0.33676093 0.         0.34190231 0.         0.10796915\n",
            "  0.         0.15938303 0.00257069 0.05141388]\n",
            " [0.         0.00665557 0.         0.95507488 0.         0.\n",
            "  0.         0.00831947 0.         0.02995008]\n",
            " [0.         0.01155116 0.         0.         0.94719472 0.\n",
            "  0.         0.02640264 0.01485149 0.        ]\n",
            " [0.         0.02808112 0.         0.02652106 0.         0.8798752\n",
            "  0.         0.04680187 0.00468019 0.01404056]\n",
            " [0.         0.03505155 0.         0.00824742 0.01649485 0.29278351\n",
            "  0.         0.63092784 0.01649485 0.        ]\n",
            " [0.         0.03966942 0.         0.0231405  0.02809917 0.03140496\n",
            "  0.         0.83966942 0.00495868 0.03305785]\n",
            " [0.         0.01859504 0.         0.         0.06818182 0.00206612\n",
            "  0.         0.00413223 0.90702479 0.        ]\n",
            " [0.         0.01626016 0.         0.04227642 0.         0.00325203\n",
            "  0.         0.         0.         0.93821138]]\n",
            "                                           precision    recall  f1-score   support\n",
            "\n",
            "             /content/EuroSAT_RGB/Highway     0.5030    0.8633    0.6356       490\n",
            "               /content/EuroSAT_RGB/River     0.7257    0.9551    0.8247       601\n",
            "             /content/EuroSAT_RGB/Pasture     0.8441    0.9472    0.8927       606\n",
            "              /content/EuroSAT_RGB/Forest     0.6330    0.8799    0.7363       641\n",
            "         /content/EuroSAT_RGB/Residential     0.5060    0.8397    0.6314       605\n",
            "          /content/EuroSAT_RGB/AnnualCrop     0.8055    0.9070    0.8533       484\n",
            "       /content/EuroSAT_RGB/PermanentCrop     0.8904    0.9382    0.9137       615\n",
            "\n",
            "                                micro avg     0.6776    0.9052    0.7750      4042\n",
            "                                macro avg     0.7011    0.9043    0.7840      4042\n",
            "                             weighted avg     0.7035    0.9052    0.7860      4042\n",
            "\n",
            "Epoch 10 ~ Batch 3 (21599) ~ Loss 2.316885 \t\t"
          ]
        },
        {
          "name": "stderr",
          "output_type": "stream",
          "text": [
            "/usr/local/lib/python3.10/dist-packages/sklearn/metrics/_classification.py:2326: UserWarning: labels size, 7, does not match size of target_names, 10\n",
            "  warnings.warn(\n",
            "<ipython-input-15-5540ea416a65>:52: DeprecationWarning: Using a qobj for run() is deprecated as of qiskit-aer 0.9.0 and will be removed no sooner than 3 months from that release date. Transpiled circuits should now be passed directly using `backend.run(circuits, **run_options).\n",
            "  job = self.backend.run(qobj)\n"
          ]
        },
        {
          "name": "stdout",
          "output_type": "stream",
          "text": [
            "Epoch 10 ~ Batch 21599 (21599) ~ Loss 2.375942 \t\tTraining [55%]\t Training Loss: 1.7993 Validation Loss: 1.7983\n",
            "[[0.         0.35123967 0.         0.01652893 0.17768595 0.12603306\n",
            "  0.         0.13016529 0.19628099 0.00206612]\n",
            " [0.         0.86122449 0.         0.02040816 0.02040816 0.04489796\n",
            "  0.         0.00816327 0.04081633 0.00408163]\n",
            " [0.         0.38560411 0.         0.38303342 0.         0.10282776\n",
            "  0.         0.11311054 0.         0.01542416]\n",
            " [0.         0.00166389 0.         0.96838602 0.         0.00166389\n",
            "  0.         0.01331115 0.         0.01497504]\n",
            " [0.         0.         0.         0.         0.98679868 0.\n",
            "  0.         0.00330033 0.00990099 0.        ]\n",
            " [0.         0.04836193 0.         0.02808112 0.00156006 0.8549142\n",
            "  0.         0.05460218 0.01092044 0.00156006]\n",
            " [0.         0.03092784 0.         0.01030928 0.09896907 0.16907216\n",
            "  0.         0.65360825 0.03505155 0.00206186]\n",
            " [0.         0.01983471 0.         0.02479339 0.10413223 0.00826446\n",
            "  0.         0.81157025 0.00826446 0.0231405 ]\n",
            " [0.         0.00206612 0.         0.         0.07438017 0.00206612\n",
            "  0.         0.         0.9214876  0.        ]\n",
            " [0.         0.03089431 0.         0.15934959 0.         0.00487805\n",
            "  0.         0.00162602 0.         0.80325203]]\n",
            "                                           precision    recall  f1-score   support\n",
            "\n",
            "             /content/EuroSAT_RGB/Highway     0.5140    0.8612    0.6438       490\n",
            "               /content/EuroSAT_RGB/River     0.6576    0.9684    0.7833       601\n",
            "             /content/EuroSAT_RGB/Pasture     0.7102    0.9868    0.8260       606\n",
            "              /content/EuroSAT_RGB/Forest     0.7182    0.8549    0.7806       641\n",
            "         /content/EuroSAT_RGB/Residential     0.5088    0.8116    0.6255       605\n",
            "          /content/EuroSAT_RGB/AnnualCrop     0.7483    0.9215    0.8259       484\n",
            "       /content/EuroSAT_RGB/PermanentCrop     0.9356    0.8033    0.8644       615\n",
            "\n",
            "                                micro avg     0.6631    0.8859    0.7585      4042\n",
            "                                macro avg     0.6847    0.8868    0.7642      4042\n",
            "                             weighted avg     0.6886    0.8859    0.7662      4042\n",
            "\n",
            "Epoch 11 ~ Batch 3 (21599) ~ Loss 1.567145 \t\t"
          ]
        },
        {
          "name": "stderr",
          "output_type": "stream",
          "text": [
            "/usr/local/lib/python3.10/dist-packages/sklearn/metrics/_classification.py:2326: UserWarning: labels size, 7, does not match size of target_names, 10\n",
            "  warnings.warn(\n",
            "<ipython-input-15-5540ea416a65>:52: DeprecationWarning: Using a qobj for run() is deprecated as of qiskit-aer 0.9.0 and will be removed no sooner than 3 months from that release date. Transpiled circuits should now be passed directly using `backend.run(circuits, **run_options).\n",
            "  job = self.backend.run(qobj)\n"
          ]
        },
        {
          "name": "stdout",
          "output_type": "stream",
          "text": [
            "Epoch 11 ~ Batch 21599 (21599) ~ Loss 2.395355 \t\tTraining [60%]\t Training Loss: 1.7904 Validation Loss: 1.7898\n",
            "[[0.         0.38429752 0.         0.01239669 0.0661157  0.24173554\n",
            "  0.01446281 0.09710744 0.17975207 0.00413223]\n",
            " [0.         0.85510204 0.         0.01632653 0.00408163 0.06734694\n",
            "  0.00612245 0.00408163 0.04285714 0.00408163]\n",
            " [0.         0.29820051 0.         0.22879177 0.00257069 0.3033419\n",
            "  0.00257069 0.07712082 0.         0.0874036 ]\n",
            " [0.         0.00332779 0.         0.96672213 0.         0.00665557\n",
            "  0.         0.00499168 0.         0.01830283]\n",
            " [0.         0.00660066 0.         0.         0.93564356 0.\n",
            "  0.         0.02970297 0.02805281 0.        ]\n",
            " [0.         0.02340094 0.         0.0124805  0.         0.92355694\n",
            "  0.         0.02184087 0.00468019 0.01404056]\n",
            " [0.         0.0371134  0.         0.00206186 0.01030928 0.52783505\n",
            "  0.02474227 0.37113402 0.02680412 0.        ]\n",
            " [0.         0.03636364 0.         0.03140496 0.03140496 0.05785124\n",
            "  0.00165289 0.8        0.00826446 0.03305785]\n",
            " [0.         0.01239669 0.         0.         0.04545455 0.00413223\n",
            "  0.         0.00206612 0.93595041 0.        ]\n",
            " [0.         0.01788618 0.         0.07479675 0.         0.00813008\n",
            "  0.         0.00162602 0.         0.89756098]]\n",
            "                                           precision    recall  f1-score   support\n",
            "\n",
            "             /content/EuroSAT_RGB/Highway     0.5244    0.8551    0.6501       490\n",
            "               /content/EuroSAT_RGB/River     0.7665    0.9667    0.8550       601\n",
            "             /content/EuroSAT_RGB/Pasture     0.8750    0.9356    0.9043       606\n",
            "              /content/EuroSAT_RGB/Forest     0.5095    0.9236    0.6567       641\n",
            "         /content/EuroSAT_RGB/Residential     0.5000    0.0247    0.0472       485\n",
            "          /content/EuroSAT_RGB/AnnualCrop     0.6205    0.8000    0.6989       605\n",
            "       /content/EuroSAT_RGB/PermanentCrop     0.7563    0.9360    0.8366       484\n",
            "/content/EuroSAT_RGB/HerbaceousVegetation     0.8762    0.8976    0.8867       615\n",
            "\n",
            "                                micro avg     0.6778    0.8085    0.7374      4527\n",
            "                                macro avg     0.6785    0.7924    0.6919      4527\n",
            "                             weighted avg     0.6842    0.8085    0.7063      4527\n",
            "\n",
            "Epoch 12 ~ Batch 3 (21599) ~ Loss 2.333485 \t\t"
          ]
        },
        {
          "name": "stderr",
          "output_type": "stream",
          "text": [
            "/usr/local/lib/python3.10/dist-packages/sklearn/metrics/_classification.py:2326: UserWarning: labels size, 8, does not match size of target_names, 10\n",
            "  warnings.warn(\n",
            "<ipython-input-15-5540ea416a65>:52: DeprecationWarning: Using a qobj for run() is deprecated as of qiskit-aer 0.9.0 and will be removed no sooner than 3 months from that release date. Transpiled circuits should now be passed directly using `backend.run(circuits, **run_options).\n",
            "  job = self.backend.run(qobj)\n"
          ]
        },
        {
          "name": "stdout",
          "output_type": "stream",
          "text": [
            "Epoch 12 ~ Batch 21599 (21599) ~ Loss 2.343777 \t\tTraining [65%]\t Training Loss: 1.7780 Validation Loss: 1.7710\n",
            "[[0.01859504 0.30371901 0.         0.01239669 0.11363636 0.16735537\n",
            "  0.06198347 0.08677686 0.23553719 0.        ]\n",
            " [0.         0.84897959 0.         0.01836735 0.00816327 0.04693878\n",
            "  0.01428571 0.00408163 0.04897959 0.01020408]\n",
            " [0.00257069 0.3033419  0.         0.15938303 0.         0.27763496\n",
            "  0.05141388 0.0848329  0.00514139 0.11568123]\n",
            " [0.         0.00665557 0.         0.95008319 0.         0.01164725\n",
            "  0.00166389 0.01164725 0.         0.01830283]\n",
            " [0.         0.0049505  0.         0.         0.94884488 0.\n",
            "  0.         0.0049505  0.04125413 0.        ]\n",
            " [0.         0.03120125 0.         0.00624025 0.         0.90015601\n",
            "  0.01716069 0.02808112 0.00780031 0.00936037]\n",
            " [0.01443299 0.03092784 0.         0.         0.0185567  0.28247423\n",
            "  0.19587629 0.41443299 0.04329897 0.        ]\n",
            " [0.00330579 0.0214876  0.         0.01652893 0.03140496 0.01322314\n",
            "  0.02809917 0.84628099 0.00826446 0.03140496]\n",
            " [0.         0.00619835 0.         0.         0.0268595  0.00206612\n",
            "  0.00206612 0.         0.96280992 0.        ]\n",
            " [0.         0.01626016 0.         0.05203252 0.         0.00162602\n",
            "  0.         0.         0.         0.9300813 ]]\n",
            "                                           precision    recall  f1-score   support\n",
            "\n",
            "             /content/EuroSAT_RGB/Highway     0.4737    0.0186    0.0358       484\n",
            "               /content/EuroSAT_RGB/River     0.5554    0.8490    0.6715       490\n",
            "             /content/EuroSAT_RGB/Pasture     0.8228    0.9501    0.8819       601\n",
            "              /content/EuroSAT_RGB/Forest     0.8519    0.9488    0.8977       606\n",
            "         /content/EuroSAT_RGB/Residential     0.6119    0.9002    0.7285       641\n",
            "          /content/EuroSAT_RGB/AnnualCrop     0.5220    0.1959    0.2849       485\n",
            "       /content/EuroSAT_RGB/PermanentCrop     0.6259    0.8463    0.7196       605\n",
            "/content/EuroSAT_RGB/HerbaceousVegetation     0.7039    0.9628    0.8133       484\n",
            "          /content/EuroSAT_RGB/Industrial     0.8693    0.9301    0.8987       615\n",
            "\n",
            "                                micro avg     0.7024    0.7569    0.7287      5011\n",
            "                                macro avg     0.6707    0.7335    0.6591      5011\n",
            "                             weighted avg     0.6808    0.7569    0.6799      5011\n",
            "\n",
            "Epoch 13 ~ Batch 3 (21599) ~ Loss 2.221967 \t\t"
          ]
        },
        {
          "name": "stderr",
          "output_type": "stream",
          "text": [
            "/usr/local/lib/python3.10/dist-packages/sklearn/metrics/_classification.py:2326: UserWarning: labels size, 9, does not match size of target_names, 10\n",
            "  warnings.warn(\n",
            "<ipython-input-15-5540ea416a65>:52: DeprecationWarning: Using a qobj for run() is deprecated as of qiskit-aer 0.9.0 and will be removed no sooner than 3 months from that release date. Transpiled circuits should now be passed directly using `backend.run(circuits, **run_options).\n",
            "  job = self.backend.run(qobj)\n"
          ]
        },
        {
          "name": "stdout",
          "output_type": "stream",
          "text": [
            "Epoch 13 ~ Batch 21599 (21599) ~ Loss 2.404501 \t\tTraining [70%]\t Training Loss: 1.7690 Validation Loss: 1.7718\n",
            "[[0.15082645 0.24586777 0.         0.01652893 0.11570248 0.09504132\n",
            "  0.09917355 0.05991736 0.21487603 0.00206612]\n",
            " [0.03877551 0.81836735 0.         0.02653061 0.00612245 0.03469388\n",
            "  0.01632653 0.00204082 0.04285714 0.01428571]\n",
            " [0.02827763 0.3033419  0.         0.28020566 0.         0.12339332\n",
            "  0.08226221 0.08997429 0.         0.09254499]\n",
            " [0.         0.00332779 0.         0.96505824 0.         0.\n",
            "  0.00499168 0.01164725 0.         0.01497504]\n",
            " [0.0049505  0.00330033 0.         0.         0.94389439 0.\n",
            "  0.         0.00330033 0.04455446 0.        ]\n",
            " [0.01092044 0.024961   0.         0.01872075 0.         0.86895476\n",
            "  0.01404056 0.02652106 0.01872075 0.01716069]\n",
            " [0.06185567 0.02061856 0.         0.         0.04329897 0.16494845\n",
            "  0.30103093 0.36907216 0.03917526 0.        ]\n",
            " [0.00991736 0.0214876  0.         0.02644628 0.05289256 0.00661157\n",
            "  0.04793388 0.80165289 0.01157025 0.0214876 ]\n",
            " [0.00413223 0.00413223 0.         0.         0.02272727 0.\n",
            "  0.         0.         0.96900826 0.        ]\n",
            " [0.         0.01626016 0.         0.07804878 0.         0.00325203\n",
            "  0.         0.         0.         0.90243902]]\n",
            "                                           precision    recall  f1-score   support\n",
            "\n",
            "             /content/EuroSAT_RGB/Highway     0.4834    0.1508    0.2299       484\n",
            "               /content/EuroSAT_RGB/River     0.5786    0.8184    0.6779       490\n",
            "             /content/EuroSAT_RGB/Pasture     0.7379    0.9651    0.8363       601\n",
            "              /content/EuroSAT_RGB/Forest     0.8230    0.9439    0.8793       606\n",
            "         /content/EuroSAT_RGB/Residential     0.7387    0.8690    0.7986       641\n",
            "          /content/EuroSAT_RGB/AnnualCrop     0.5309    0.3010    0.3842       485\n",
            "       /content/EuroSAT_RGB/PermanentCrop     0.6424    0.8017    0.7132       605\n",
            "/content/EuroSAT_RGB/HerbaceousVegetation     0.7117    0.9690    0.8206       484\n",
            "          /content/EuroSAT_RGB/Industrial     0.8782    0.9024    0.8901       615\n",
            "\n",
            "                                micro avg     0.7107    0.7659    0.7373      5011\n",
            "                                macro avg     0.6805    0.7468    0.6923      5011\n",
            "                             weighted avg     0.6913    0.7659    0.7091      5011\n",
            "\n",
            "Epoch 14 ~ Batch 3 (21599) ~ Loss 2.369009 \t\t"
          ]
        },
        {
          "name": "stderr",
          "output_type": "stream",
          "text": [
            "/usr/local/lib/python3.10/dist-packages/sklearn/metrics/_classification.py:2326: UserWarning: labels size, 9, does not match size of target_names, 10\n",
            "  warnings.warn(\n",
            "<ipython-input-15-5540ea416a65>:52: DeprecationWarning: Using a qobj for run() is deprecated as of qiskit-aer 0.9.0 and will be removed no sooner than 3 months from that release date. Transpiled circuits should now be passed directly using `backend.run(circuits, **run_options).\n",
            "  job = self.backend.run(qobj)\n"
          ]
        },
        {
          "name": "stdout",
          "output_type": "stream",
          "text": [
            "Epoch 14 ~ Batch 21599 (21599) ~ Loss 2.387110 \t\tTraining [75%]\t Training Loss: 1.7553 Validation Loss: 1.7585\n",
            "[[0.21900826 0.1322314  0.         0.01239669 0.11983471 0.12809917\n",
            "  0.12603306 0.10123967 0.15909091 0.00206612]\n",
            " [0.10204082 0.72857143 0.         0.0122449  0.0122449  0.05918367\n",
            "  0.02857143 0.0122449  0.03877551 0.00612245]\n",
            " [0.07455013 0.26478149 0.         0.17994859 0.         0.24935733\n",
            "  0.09254499 0.07455013 0.         0.06426735]\n",
            " [0.         0.00332779 0.         0.95840266 0.         0.00166389\n",
            "  0.00499168 0.01996672 0.         0.01164725]\n",
            " [0.00165017 0.         0.         0.         0.95709571 0.\n",
            "  0.         0.01815182 0.02310231 0.        ]\n",
            " [0.00780031 0.01404056 0.         0.01092044 0.         0.87675507\n",
            "  0.06084243 0.02340094 0.00312012 0.00312012]\n",
            " [0.05154639 0.00618557 0.         0.         0.02680412 0.15463918\n",
            "  0.3628866  0.37938144 0.0185567  0.        ]\n",
            " [0.00661157 0.00826446 0.         0.00991736 0.03636364 0.00661157\n",
            "  0.04793388 0.85950413 0.00495868 0.01983471]\n",
            " [0.00206612 0.         0.         0.         0.05785124 0.\n",
            "  0.00206612 0.00206612 0.93595041 0.        ]\n",
            " [0.         0.01300813 0.         0.03252033 0.         0.00813008\n",
            "  0.00162602 0.00650407 0.         0.93821138]]\n",
            "                                           precision    recall  f1-score   support\n",
            "\n",
            "             /content/EuroSAT_RGB/Highway     0.4796    0.2190    0.3007       484\n",
            "               /content/EuroSAT_RGB/River     0.6479    0.7286    0.6859       490\n",
            "             /content/EuroSAT_RGB/Pasture     0.8336    0.9584    0.8916       601\n",
            "              /content/EuroSAT_RGB/Forest     0.8204    0.9571    0.8835       606\n",
            "         /content/EuroSAT_RGB/Residential     0.6731    0.8768    0.7615       641\n",
            "          /content/EuroSAT_RGB/AnnualCrop     0.4889    0.3629    0.4166       485\n",
            "       /content/EuroSAT_RGB/PermanentCrop     0.6258    0.8595    0.7242       605\n",
            "/content/EuroSAT_RGB/HerbaceousVegetation     0.7851    0.9360    0.8539       484\n",
            "          /content/EuroSAT_RGB/Industrial     0.9203    0.9382    0.9291       615\n",
            "\n",
            "                                micro avg     0.7235    0.7797    0.7506      5011\n",
            "                                macro avg     0.6972    0.7596    0.7163      5011\n",
            "                             weighted avg     0.7066    0.7797    0.7316      5011\n",
            "\n",
            "Epoch 15 ~ Batch 3 (21599) ~ Loss 2.208006 \t\t"
          ]
        },
        {
          "name": "stderr",
          "output_type": "stream",
          "text": [
            "/usr/local/lib/python3.10/dist-packages/sklearn/metrics/_classification.py:2326: UserWarning: labels size, 9, does not match size of target_names, 10\n",
            "  warnings.warn(\n",
            "<ipython-input-15-5540ea416a65>:52: DeprecationWarning: Using a qobj for run() is deprecated as of qiskit-aer 0.9.0 and will be removed no sooner than 3 months from that release date. Transpiled circuits should now be passed directly using `backend.run(circuits, **run_options).\n",
            "  job = self.backend.run(qobj)\n"
          ]
        },
        {
          "name": "stdout",
          "output_type": "stream",
          "text": [
            "Epoch 15 ~ Batch 21599 (21599) ~ Loss 2.387293 \t\tTraining [80%]\t Training Loss: 1.7452 Validation Loss: 1.7682\n",
            "[[0.32231405 0.16735537 0.         0.01652893 0.11157025 0.05991736\n",
            "  0.09917355 0.07024793 0.14876033 0.00413223]\n",
            " [0.10204082 0.80204082 0.         0.01632653 0.00612245 0.01428571\n",
            "  0.01836735 0.00408163 0.03061224 0.00612245]\n",
            " [0.08997429 0.33676093 0.         0.27506427 0.         0.14652956\n",
            "  0.06683805 0.05398458 0.         0.03084833]\n",
            " [0.00166389 0.00499168 0.         0.97171381 0.         0.\n",
            "  0.00499168 0.00332779 0.         0.01331115]\n",
            " [0.00660066 0.         0.         0.         0.94224422 0.\n",
            "  0.         0.00660066 0.04455446 0.        ]\n",
            " [0.04680187 0.02340094 0.         0.02184087 0.         0.74882995\n",
            "  0.08736349 0.049922   0.00624025 0.01560062]\n",
            " [0.07010309 0.01030928 0.         0.         0.04329897 0.04536082\n",
            "  0.29484536 0.51340206 0.02268041 0.        ]\n",
            " [0.0231405  0.01818182 0.         0.02975207 0.04297521 0.\n",
            "  0.04132231 0.80330579 0.00826446 0.03305785]\n",
            " [0.01033058 0.         0.         0.         0.02892562 0.\n",
            "  0.00206612 0.         0.95867769 0.        ]\n",
            " [0.         0.01300813 0.         0.03252033 0.         0.00325203\n",
            "  0.         0.         0.         0.95121951]]\n",
            "                                           precision    recall  f1-score   support\n",
            "\n",
            "             /content/EuroSAT_RGB/Highway     0.4742    0.3223    0.3838       484\n",
            "               /content/EuroSAT_RGB/River     0.6074    0.8020    0.6913       490\n",
            "             /content/EuroSAT_RGB/Pasture     0.7694    0.9717    0.8588       601\n",
            "              /content/EuroSAT_RGB/Forest     0.8287    0.9422    0.8819       606\n",
            "         /content/EuroSAT_RGB/Residential     0.8040    0.7488    0.7754       641\n",
            "          /content/EuroSAT_RGB/AnnualCrop     0.4598    0.2948    0.3593       485\n",
            "       /content/EuroSAT_RGB/PermanentCrop     0.5855    0.8033    0.6774       605\n",
            "/content/EuroSAT_RGB/HerbaceousVegetation     0.7759    0.9587    0.8577       484\n",
            "          /content/EuroSAT_RGB/Industrial     0.9141    0.9512    0.9323       615\n",
            "\n",
            "                                micro avg     0.7152    0.7707    0.7419      5011\n",
            "                                macro avg     0.6910    0.7550    0.7131      5011\n",
            "                             weighted avg     0.7029    0.7707    0.7273      5011\n",
            "\n",
            "Epoch 16 ~ Batch 3 (21599) ~ Loss 2.150276 \t\t"
          ]
        },
        {
          "name": "stderr",
          "output_type": "stream",
          "text": [
            "/usr/local/lib/python3.10/dist-packages/sklearn/metrics/_classification.py:2326: UserWarning: labels size, 9, does not match size of target_names, 10\n",
            "  warnings.warn(\n",
            "<ipython-input-15-5540ea416a65>:52: DeprecationWarning: Using a qobj for run() is deprecated as of qiskit-aer 0.9.0 and will be removed no sooner than 3 months from that release date. Transpiled circuits should now be passed directly using `backend.run(circuits, **run_options).\n",
            "  job = self.backend.run(qobj)\n"
          ]
        },
        {
          "name": "stdout",
          "output_type": "stream",
          "text": [
            "Epoch 16 ~ Batch 21599 (21599) ~ Loss 2.232310 \t\tTraining [85%]\t Training Loss: 1.7357 Validation Loss: 1.7411\n",
            "[[0.35330579 0.15702479 0.         0.00826446 0.08471074 0.0785124\n",
            "  0.13429752 0.05165289 0.12396694 0.00826446]\n",
            " [0.10408163 0.79591837 0.         0.0122449  0.00612245 0.03061224\n",
            "  0.0122449  0.00204082 0.02244898 0.01428571]\n",
            " [0.1285347  0.33676093 0.         0.20308483 0.         0.19023136\n",
            "  0.07969152 0.03856041 0.00257069 0.02056555]\n",
            " [0.00166389 0.00166389 0.         0.95673877 0.         0.00166389\n",
            "  0.00332779 0.00831947 0.         0.0266223 ]\n",
            " [0.00330033 0.         0.         0.         0.97194719 0.\n",
            "  0.         0.0049505  0.01980198 0.        ]\n",
            " [0.02652106 0.02964119 0.         0.01716069 0.         0.87363495\n",
            "  0.03900156 0.00624025 0.00156006 0.00624025]\n",
            " [0.05773196 0.01030928 0.         0.00206186 0.02680412 0.09484536\n",
            "  0.42061856 0.37525773 0.01237113 0.        ]\n",
            " [0.01157025 0.01322314 0.         0.01652893 0.03801653 0.00991736\n",
            "  0.04958678 0.83305785 0.00330579 0.02479339]\n",
            " [0.02272727 0.         0.         0.         0.05165289 0.\n",
            "  0.00619835 0.00413223 0.91528926 0.        ]\n",
            " [0.00487805 0.0097561  0.         0.01300813 0.         0.00650407\n",
            "  0.         0.         0.         0.96585366]]\n",
            "                                           precision    recall  f1-score   support\n",
            "\n",
            "             /content/EuroSAT_RGB/Highway     0.5015    0.3533    0.4145       484\n",
            "               /content/EuroSAT_RGB/River     0.6132    0.7959    0.6927       490\n",
            "             /content/EuroSAT_RGB/Pasture     0.8285    0.9567    0.8880       601\n",
            "              /content/EuroSAT_RGB/Forest     0.8487    0.9719    0.9062       606\n",
            "         /content/EuroSAT_RGB/Residential     0.7527    0.8736    0.8087       641\n",
            "          /content/EuroSAT_RGB/AnnualCrop     0.5574    0.4206    0.4794       485\n",
            "       /content/EuroSAT_RGB/PermanentCrop     0.6802    0.8331    0.7489       605\n",
            "/content/EuroSAT_RGB/HerbaceousVegetation     0.8265    0.9153    0.8686       484\n",
            "          /content/EuroSAT_RGB/Industrial     0.9167    0.9659    0.9406       615\n",
            "\n",
            "                                micro avg     0.7463    0.8042    0.7742      5011\n",
            "                                macro avg     0.7250    0.7874    0.7497      5011\n",
            "                             weighted avg     0.7351    0.8042    0.7635      5011\n",
            "\n",
            "Epoch 17 ~ Batch 3 (21599) ~ Loss 1.584721 \t\t"
          ]
        },
        {
          "name": "stderr",
          "output_type": "stream",
          "text": [
            "/usr/local/lib/python3.10/dist-packages/sklearn/metrics/_classification.py:2326: UserWarning: labels size, 9, does not match size of target_names, 10\n",
            "  warnings.warn(\n",
            "<ipython-input-15-5540ea416a65>:52: DeprecationWarning: Using a qobj for run() is deprecated as of qiskit-aer 0.9.0 and will be removed no sooner than 3 months from that release date. Transpiled circuits should now be passed directly using `backend.run(circuits, **run_options).\n",
            "  job = self.backend.run(qobj)\n"
          ]
        },
        {
          "name": "stdout",
          "output_type": "stream",
          "text": [
            "Epoch 17 ~ Batch 21599 (21599) ~ Loss 2.258250 \t\tTraining [90%]\t Training Loss: 1.7242 Validation Loss: 1.7361\n",
            "[[0.40082645 0.16735537 0.         0.01033058 0.05371901 0.0785124\n",
            "  0.1446281  0.02066116 0.12190083 0.00206612]\n",
            " [0.1244898  0.79387755 0.         0.0122449  0.00408163 0.02653061\n",
            "  0.01020408 0.00204082 0.02244898 0.00408163]\n",
            " [0.20822622 0.19794344 0.         0.20565553 0.         0.218509\n",
            "  0.09254499 0.03598972 0.         0.04113111]\n",
            " [0.00166389 0.00499168 0.         0.96838602 0.         0.00166389\n",
            "  0.00332779 0.01331115 0.         0.00665557]\n",
            " [0.01155116 0.00165017 0.         0.         0.94224422 0.\n",
            "  0.         0.00660066 0.0379538  0.        ]\n",
            " [0.03120125 0.02184087 0.         0.01716069 0.         0.86895476\n",
            "  0.04368175 0.00936037 0.         0.00780031]\n",
            " [0.09896907 0.01237113 0.         0.         0.01649485 0.08453608\n",
            "  0.62268041 0.1443299  0.02061856 0.        ]\n",
            " [0.01983471 0.01322314 0.         0.01818182 0.0231405  0.00661157\n",
            "  0.15041322 0.73719008 0.00826446 0.0231405 ]\n",
            " [0.01652893 0.00206612 0.         0.         0.02066116 0.\n",
            "  0.00413223 0.00206612 0.95454545 0.        ]\n",
            " [0.00650407 0.01626016 0.         0.03252033 0.         0.00650407\n",
            "  0.         0.         0.         0.93821138]]\n",
            "                                           precision    recall  f1-score   support\n",
            "\n",
            "             /content/EuroSAT_RGB/Highway     0.4450    0.4008    0.4217       484\n",
            "               /content/EuroSAT_RGB/River     0.6593    0.7939    0.7204       490\n",
            "             /content/EuroSAT_RGB/Pasture     0.8140    0.9684    0.8845       601\n",
            "              /content/EuroSAT_RGB/Forest     0.9049    0.9422    0.9232       606\n",
            "         /content/EuroSAT_RGB/Residential     0.7497    0.8690    0.8049       641\n",
            "          /content/EuroSAT_RGB/AnnualCrop     0.5634    0.6227    0.5916       485\n",
            "       /content/EuroSAT_RGB/PermanentCrop     0.7964    0.7372    0.7657       605\n",
            "/content/EuroSAT_RGB/HerbaceousVegetation     0.8105    0.9545    0.8767       484\n",
            "          /content/EuroSAT_RGB/Industrial     0.9321    0.9382    0.9352       615\n",
            "\n",
            "                                micro avg     0.7556    0.8142    0.7838      5011\n",
            "                                macro avg     0.7417    0.8030    0.7693      5011\n",
            "                             weighted avg     0.7538    0.8142    0.7810      5011\n",
            "\n",
            "Epoch 18 ~ Batch 3 (21599) ~ Loss 2.059627 \t\t"
          ]
        },
        {
          "name": "stderr",
          "output_type": "stream",
          "text": [
            "/usr/local/lib/python3.10/dist-packages/sklearn/metrics/_classification.py:2326: UserWarning: labels size, 9, does not match size of target_names, 10\n",
            "  warnings.warn(\n",
            "<ipython-input-15-5540ea416a65>:52: DeprecationWarning: Using a qobj for run() is deprecated as of qiskit-aer 0.9.0 and will be removed no sooner than 3 months from that release date. Transpiled circuits should now be passed directly using `backend.run(circuits, **run_options).\n",
            "  job = self.backend.run(qobj)\n"
          ]
        },
        {
          "name": "stdout",
          "output_type": "stream",
          "text": [
            "Epoch 18 ~ Batch 21599 (21599) ~ Loss 2.331537 \t\tTraining [95%]\t Training Loss: 1.7144 Validation Loss: 1.7256\n",
            "[[0.4731405  0.1322314  0.         0.00413223 0.04545455 0.09090909\n",
            "  0.11983471 0.01859504 0.11157025 0.00413223]\n",
            " [0.13673469 0.76734694 0.         0.01428571 0.         0.03061224\n",
            "  0.01836735 0.00204082 0.02653061 0.00408163]\n",
            " [0.14138817 0.23650386 0.         0.23650386 0.         0.2596401\n",
            "  0.07455013 0.02570694 0.         0.02570694]\n",
            " [0.         0.00332779 0.         0.97171381 0.         0.00499168\n",
            "  0.00166389 0.00332779 0.         0.01497504]\n",
            " [0.0049505  0.         0.         0.         0.94059406 0.\n",
            "  0.         0.00660066 0.04785479 0.        ]\n",
            " [0.03588144 0.01404056 0.         0.01560062 0.         0.89079563\n",
            "  0.03276131 0.00312012 0.         0.00780031]\n",
            " [0.08659794 0.00824742 0.         0.         0.02061856 0.11546392\n",
            "  0.62061856 0.12783505 0.02061856 0.        ]\n",
            " [0.00826446 0.01652893 0.         0.03140496 0.0231405  0.00991736\n",
            "  0.15371901 0.71735537 0.00495868 0.03471074]\n",
            " [0.01652893 0.         0.         0.         0.02479339 0.\n",
            "  0.00413223 0.00206612 0.95247934 0.        ]\n",
            " [0.00650407 0.01788618 0.         0.02276423 0.         0.00813008\n",
            "  0.00162602 0.00162602 0.         0.94146341]]\n",
            "                                           precision    recall  f1-score   support\n",
            "\n",
            "             /content/EuroSAT_RGB/Highway     0.5252    0.4731    0.4978       484\n",
            "               /content/EuroSAT_RGB/River     0.6620    0.7673    0.7108       490\n",
            "             /content/EuroSAT_RGB/Pasture     0.8022    0.9717    0.8789       601\n",
            "              /content/EuroSAT_RGB/Forest     0.9076    0.9406    0.9238       606\n",
            "         /content/EuroSAT_RGB/Residential     0.7129    0.8908    0.7920       641\n",
            "          /content/EuroSAT_RGB/AnnualCrop     0.5845    0.6206    0.6020       485\n",
            "       /content/EuroSAT_RGB/PermanentCrop     0.8251    0.7174    0.7675       605\n",
            "/content/EuroSAT_RGB/HerbaceousVegetation     0.8088    0.9525    0.8748       484\n",
            "          /content/EuroSAT_RGB/Industrial     0.9220    0.9415    0.9316       615\n",
            "\n",
            "                                micro avg     0.7602    0.8192    0.7886      5011\n",
            "                                macro avg     0.7500    0.8084    0.7755      5011\n",
            "                             weighted avg     0.7601    0.8192    0.7858      5011\n",
            "\n",
            "Epoch 19 ~ Batch 3 (21599) ~ Loss 2.204657 \t\t"
          ]
        },
        {
          "name": "stderr",
          "output_type": "stream",
          "text": [
            "/usr/local/lib/python3.10/dist-packages/sklearn/metrics/_classification.py:2326: UserWarning: labels size, 9, does not match size of target_names, 10\n",
            "  warnings.warn(\n",
            "<ipython-input-15-5540ea416a65>:52: DeprecationWarning: Using a qobj for run() is deprecated as of qiskit-aer 0.9.0 and will be removed no sooner than 3 months from that release date. Transpiled circuits should now be passed directly using `backend.run(circuits, **run_options).\n",
            "  job = self.backend.run(qobj)\n"
          ]
        },
        {
          "name": "stdout",
          "output_type": "stream",
          "text": [
            "Epoch 19 ~ Batch 21599 (21599) ~ Loss 2.380311 \t\tTraining [100%]\t Training Loss: 1.6971 Validation Loss: 1.7223\n",
            "[[0.50413223 0.09710744 0.         0.00206612 0.05991736 0.08884298\n",
            "  0.1446281  0.02066116 0.07644628 0.00619835]\n",
            " [0.15510204 0.73877551 0.00204082 0.01836735 0.00408163 0.03061224\n",
            "  0.02653061 0.00408163 0.01020408 0.01020408]\n",
            " [0.08997429 0.19537275 0.10282776 0.16195373 0.         0.31105398\n",
            "  0.09768638 0.02056555 0.         0.02056555]\n",
            " [0.         0.00332779 0.         0.92845258 0.         0.00499168\n",
            "  0.00332779 0.01331115 0.         0.04658902]\n",
            " [0.00660066 0.         0.         0.         0.93564356 0.\n",
            "  0.00165017 0.00990099 0.04620462 0.        ]\n",
            " [0.02964119 0.01716069 0.00156006 0.01092044 0.         0.88455538\n",
            "  0.0374415  0.00624025 0.         0.0124805 ]\n",
            " [0.0371134  0.00618557 0.         0.         0.00824742 0.12371134\n",
            "  0.67010309 0.13814433 0.01649485 0.        ]\n",
            " [0.00661157 0.00826446 0.         0.0214876  0.01652893 0.01322314\n",
            "  0.18842975 0.72231405 0.00495868 0.01818182]\n",
            " [0.02066116 0.         0.         0.         0.02066116 0.\n",
            "  0.01033058 0.00206612 0.94628099 0.        ]\n",
            " [0.00650407 0.0097561  0.00162602 0.00487805 0.00162602 0.00813008\n",
            "  0.         0.         0.         0.96747967]]\n",
            "                                           precision    recall  f1-score   support\n",
            "\n",
            "             /content/EuroSAT_RGB/Highway     0.5894    0.5041    0.5434       484\n",
            "               /content/EuroSAT_RGB/River     0.7070    0.7388    0.7226       490\n",
            "             /content/EuroSAT_RGB/Pasture     0.9302    0.1028    0.1852       389\n",
            "              /content/EuroSAT_RGB/Forest     0.8532    0.9285    0.8892       601\n",
            "         /content/EuroSAT_RGB/Residential     0.9101    0.9356    0.9227       606\n",
            "          /content/EuroSAT_RGB/AnnualCrop     0.6898    0.8846    0.7751       641\n",
            "       /content/EuroSAT_RGB/PermanentCrop     0.5490    0.6701    0.6035       485\n",
            "/content/EuroSAT_RGB/HerbaceousVegetation     0.8048    0.7223    0.7613       605\n",
            "          /content/EuroSAT_RGB/Industrial     0.8497    0.9463    0.8954       484\n",
            "             /content/EuroSAT_RGB/SeaLake     0.9043    0.9675    0.9348       615\n",
            "\n",
            "                                 accuracy                         0.7691      5400\n",
            "                                macro avg     0.7787    0.7401    0.7233      5400\n",
            "                             weighted avg     0.7816    0.7691    0.7484      5400\n",
            "\n"
          ]
        }
      ],
      "source": [
        "train_loss_list = []\n",
        "val_loss_list = []\n",
        "epochs = 20\n",
        "\n",
        "loss_func = nn.CrossEntropyLoss()\n",
        "\n",
        "for epoch in range(epochs):\n",
        "  train_loader = iter(handler.cnn_data_loader(train_imgs, train_labels, batch_size = 1, img_shape = (64,64,3)))\n",
        "  test_loader = iter(handler.cnn_val_loader(val_images, val_labels, batch_size = 1, img_shape = (64,64,3)))\n",
        "  total_loss = []\n",
        "  for batch_idx in range(len(train_labels)):\n",
        "    data, target = next(train_loader)\n",
        "    # print(batch_idx)\n",
        "    optimizer.zero_grad()\n",
        "    # Forward pass\n",
        "    output = hybrid_network(data)\n",
        "    target = target.type(torch.LongTensor).to(device)\n",
        "    # Calculating loss\n",
        "    loss = loss_func(output, target)\n",
        "    # Backward pass\n",
        "    loss.backward()\n",
        "    # Optimize the weights\n",
        "    optimizer.step()\n",
        "\n",
        "    total_loss.append(loss.item())\n",
        "\n",
        "    print('\\rEpoch %d ~ Batch %d (%d) ~ Loss %f ' % (epoch, batch_idx, len(train_imgs)-1, loss.item()), end='\\t\\t')\n",
        "\n",
        "\n",
        "  with torch.no_grad():\n",
        "    val_loss = []\n",
        "    targets = []\n",
        "    predictions = []\n",
        "    for batch_idx in range(len(val_images)):\n",
        "      data, target = next(test_loader)\n",
        "      output = hybrid_network(data)\n",
        "      target = target.type(torch.LongTensor).to(device)\n",
        "\n",
        "      loss = loss_func(output, target)\n",
        "      val_loss.append(loss.item())\n",
        "\n",
        "      targets.append(target.item())\n",
        "\n",
        "      predictions.append(hybrid_network.predict(data).item())\n",
        "\n",
        "\n",
        "    train_loss_list.append(sum(total_loss)/len(total_loss))\n",
        "    val_loss_list.append(sum(val_loss)/len(val_loss))\n",
        "\n",
        "    print('Training [{:.0f}%]\\t Training Loss: {:.4f} Validation Loss: {:.4f}'.format(\n",
        "        100. * (epoch + 1) / epochs, train_loss_list[-1], val_loss_list[-1]))\n",
        "\n",
        "    print(confusion_matrix(targets, predictions,normalize='true'))\n",
        "    print(classification_report(targets, predictions, target_names=handler.classes, digits=4, labels=np.unique(predictions)))\n",
        "\n",
        "    torch.save({\n",
        "            'epoch': epoch,\n",
        "            'model_state_dict': hybrid_network.state_dict(),\n",
        "            'optimizer_state_dict': optimizer.state_dict(),\n",
        "            'loss': train_loss_list[-1],\n",
        "            }, '/content/drive/MyDrive/colab_notebooks/IITD-QML/model-multi-class-hybrid-lenet5-modif.pt')\n"
      ]
    },
    {
      "cell_type": "code",
      "execution_count": 22,
      "metadata": {
        "colab": {
          "base_uri": "https://localhost:8080/"
        },
        "id": "gQdwFVhWkf9E",
        "outputId": "26951c68-3c3b-46cb-9875-8d664dede02f"
      },
      "outputs": [
        {
          "name": "stdout",
          "output_type": "stream",
          "text": [
            "Datahandler init ->  /content/EuroSAT_RGB\n"
          ]
        }
      ],
      "source": [
        "handler = DatasetHandler(dataset_root_path)\n",
        "imgs_path, imgs_label = handler.load_paths_labels(dataset_root_path, handler.classes)\n",
        "train_imgs, train_labels, val_images, val_labels = handler.train_validation_split(imgs_path, imgs_label, split_factor=0.2)"
      ]
    },
    {
      "cell_type": "code",
      "execution_count": 23,
      "metadata": {
        "colab": {
          "base_uri": "https://localhost:8080/"
        },
        "id": "ZjljIxko5RSn",
        "outputId": "fb4561bd-9943-4489-bbdc-1c281a437825"
      },
      "outputs": [
        {
          "data": {
            "text/plain": [
              "['/content/EuroSAT_RGB/Highway',\n",
              " '/content/EuroSAT_RGB/River',\n",
              " '/content/EuroSAT_RGB/Pasture',\n",
              " '/content/EuroSAT_RGB/Forest',\n",
              " '/content/EuroSAT_RGB/Residential',\n",
              " '/content/EuroSAT_RGB/AnnualCrop',\n",
              " '/content/EuroSAT_RGB/PermanentCrop',\n",
              " '/content/EuroSAT_RGB/HerbaceousVegetation',\n",
              " '/content/EuroSAT_RGB/Industrial',\n",
              " '/content/EuroSAT_RGB/SeaLake']"
            ]
          },
          "execution_count": 23,
          "metadata": {},
          "output_type": "execute_result"
        }
      ],
      "source": [
        "handler.classes"
      ]
    },
    {
      "cell_type": "code",
      "execution_count": 49,
      "metadata": {
        "colab": {
          "base_uri": "https://localhost:8080/"
        },
        "id": "LIstb9PUkIUX",
        "outputId": "c2e9fdbb-4255-433f-8654-37f87e36cc7e"
      },
      "outputs": [
        {
          "name": "stderr",
          "output_type": "stream",
          "text": [
            "<ipython-input-15-5540ea416a65>:52: DeprecationWarning: Using a qobj for run() is deprecated as of qiskit-aer 0.9.0 and will be removed no sooner than 3 months from that release date. Transpiled circuits should now be passed directly using `backend.run(circuits, **run_options).\n",
            "  job = self.backend.run(qobj)\n"
          ]
        },
        {
          "name": "stdout",
          "output_type": "stream",
          "text": [
            "Epoch 0 ~ Batch 21599 (21599) ~ Loss 1.461823 \t\tTraining [5%]\t Training Loss: 1.6116 Validation Loss: 1.6590\n",
            "                                           precision    recall  f1-score   support\n",
            "\n",
            "             /content/EuroSAT_RGB/Highway     0.7606    0.6667    0.7105       486\n",
            "               /content/EuroSAT_RGB/River     0.8641    0.7476    0.8017       519\n",
            "             /content/EuroSAT_RGB/Pasture     0.7911    0.7613    0.7759       398\n",
            "              /content/EuroSAT_RGB/Forest     0.9374    0.9595    0.9483       593\n",
            "         /content/EuroSAT_RGB/Residential     0.9372    0.8875    0.9116       622\n",
            "          /content/EuroSAT_RGB/AnnualCrop     0.7943    0.8869    0.8381       601\n",
            "       /content/EuroSAT_RGB/PermanentCrop     0.5356    0.7203    0.6144       522\n",
            "/content/EuroSAT_RGB/HerbaceousVegetation     0.8386    0.6612    0.7394       605\n",
            "          /content/EuroSAT_RGB/Industrial     0.8683    0.9044    0.8859       481\n",
            "             /content/EuroSAT_RGB/SeaLake     0.9345    0.9703    0.9521       573\n",
            "\n",
            "                                 accuracy                         0.8215      5400\n",
            "                                macro avg     0.8262    0.8166    0.8178      5400\n",
            "                             weighted avg     0.8313    0.8215    0.8228      5400\n",
            "\n"
          ]
        }
      ],
      "source": [
        "cm = None\n",
        "\n",
        "for epoch in range(1):\n",
        "  train_loader = iter(handler.cnn_data_loader(train_imgs, train_labels, batch_size = 1, img_shape = (64,64,3)))\n",
        "  test_loader = iter(handler.cnn_val_loader(val_images, val_labels, batch_size = 1, img_shape = (64,64,3)))\n",
        "  total_loss = []\n",
        "  for batch_idx in range(len(train_labels)):\n",
        "    data, target = next(train_loader)\n",
        "    # print(batch_idx)\n",
        "    optimizer.zero_grad()\n",
        "    # Forward pass\n",
        "    output = hybrid_network(data)\n",
        "    target = target.type(torch.LongTensor).to(device)\n",
        "    # Calculating loss\n",
        "    loss = loss_func(output, target)\n",
        "    # Backward pass\n",
        "    loss.backward()\n",
        "    # Optimize the weights\n",
        "    optimizer.step()\n",
        "\n",
        "    total_loss.append(loss.item())\n",
        "\n",
        "    print('\\rEpoch %d ~ Batch %d (%d) ~ Loss %f ' % (epoch, batch_idx, len(train_imgs)-1, loss.item()), end='\\t\\t')\n",
        "\n",
        "\n",
        "  with torch.no_grad():\n",
        "    val_loss = []\n",
        "    targets = []\n",
        "    predictions = []\n",
        "    for batch_idx in range(len(val_images)):\n",
        "      data, target = next(test_loader)\n",
        "      output = hybrid_network(data)\n",
        "      target = target.type(torch.LongTensor).to(device)\n",
        "\n",
        "      loss = loss_func(output, target)\n",
        "      val_loss.append(loss.item())\n",
        "\n",
        "      targets.append(target.item())\n",
        "\n",
        "      predictions.append(hybrid_network.predict(data).item())\n",
        "\n",
        "\n",
        "    train_loss_list.append(sum(total_loss)/len(total_loss))\n",
        "    val_loss_list.append(sum(val_loss)/len(val_loss))\n",
        "\n",
        "    print('Training [{:.0f}%]\\t Training Loss: {:.4f} Validation Loss: {:.4f}'.format(\n",
        "        100. * (epoch + 1) / epochs, train_loss_list[-1], val_loss_list[-1]))\n",
        "\n",
        "    cm = confusion_matrix(targets, predictions,normalize='true')\n",
        "    print(classification_report(targets, predictions, target_names=handler.classes, digits=4, labels=np.unique(predictions)))\n",
        "\n",
        "    torch.save({\n",
        "            'epoch': epoch,\n",
        "            'model_state_dict': hybrid_network.state_dict(),\n",
        "            'optimizer_state_dict': optimizer.state_dict(),\n",
        "            'loss': train_loss_list[-1],\n",
        "            }, '/content/drive/MyDrive/colab_notebooks/IITD-QML/model-multi-class-hybrid-lenet5-modif.pt')\n"
      ]
    },
    {
      "cell_type": "code",
      "execution_count": 44,
      "metadata": {
        "id": "Yl7HJACXMo22"
      },
      "outputs": [],
      "source": [
        "torch.save(hybrid_network.state_dict(), '/content/drive/MyDrive/colab_notebooks/IITD-QML/model-multi-class-hybrid-lenet5-modif.pt')"
      ]
    },
    {
      "cell_type": "code",
      "execution_count": 42,
      "metadata": {
        "colab": {
          "base_uri": "https://localhost:8080/"
        },
        "id": "LNHBys2yVk0P",
        "outputId": "3c3139e5-6dca-4229-f6b8-94a2ef9cde48"
      },
      "outputs": [
        {
          "data": {
            "text/plain": [
              "Net(\n",
              "  (conv1): Conv2d(3, 16, kernel_size=(3, 3), stride=(1, 1))\n",
              "  (conv2): Conv2d(16, 32, kernel_size=(3, 3), stride=(1, 1))\n",
              "  (conv3): Conv2d(32, 64, kernel_size=(3, 3), stride=(1, 1))\n",
              "  (fc1): Linear(in_features=2304, out_features=4, bias=True)\n",
              "  (fc2): Linear(in_features=16, out_features=10, bias=True)\n",
              ")"
            ]
          },
          "execution_count": 42,
          "metadata": {},
          "output_type": "execute_result"
        }
      ],
      "source": [
        "hybrid_network"
      ]
    },
    {
      "cell_type": "code",
      "execution_count": 55,
      "metadata": {
        "colab": {
          "base_uri": "https://localhost:8080/"
        },
        "id": "8f4rAK7_UGol",
        "outputId": "5df6c630-8760-4638-b69c-e45694c2fa50"
      },
      "outputs": [
        {
          "name": "stderr",
          "output_type": "stream",
          "text": [
            "<ipython-input-15-5540ea416a65>:52: DeprecationWarning: Using a qobj for run() is deprecated as of qiskit-aer 0.9.0 and will be removed no sooner than 3 months from that release date. Transpiled circuits should now be passed directly using `backend.run(circuits, **run_options).\n",
            "  job = self.backend.run(qobj)\n"
          ]
        },
        {
          "name": "stdout",
          "output_type": "stream",
          "text": [
            " 5399"
          ]
        }
      ],
      "source": [
        "test_loader = iter(handler.cnn_val_loader(val_images, val_labels, batch_size = 1, img_shape = (64,64,3)))\n",
        "accuracy = 0\n",
        "number = 0\n",
        "\n",
        "predictions = []\n",
        "targets = []\n",
        "\n",
        "for ct in range(len(val_images)):\n",
        "\n",
        "  data, target = next(test_loader)\n",
        "  number +=1\n",
        "  output = hybrid_network.predict(data).item()\n",
        "\n",
        "  predictions.append(output)\n",
        "  targets.append(target.item())\n",
        "\n",
        "  accuracy += (output == target[0].item())*1\n",
        "  print('\\r ' + str(ct), end='')"
      ]
    },
    {
      "cell_type": "code",
      "execution_count": 56,
      "metadata": {
        "colab": {
          "base_uri": "https://localhost:8080/"
        },
        "id": "oB77QxNVItgj",
        "outputId": "007b2aba-28fc-47f3-a667-299ae8c5fb3c"
      },
      "outputs": [
        {
          "name": "stdout",
          "output_type": "stream",
          "text": [
            "Performance on test data is : 4443/5400 = 82.27777777777777%\n"
          ]
        }
      ],
      "source": [
        "print(\"Performance on test data is : {}/{} = {}%\".format(accuracy,number,100*accuracy/number))"
      ]
    },
    {
      "cell_type": "code",
      "execution_count": 57,
      "metadata": {
        "id": "Kj2cyshBLCE6"
      },
      "outputs": [],
      "source": [
        "cm1 = cm\n",
        "from sklearn.metrics import confusion_matrix, ConfusionMatrixDisplay, classification_report\n",
        "cm = confusion_matrix(targets, predictions,normalize='true')"
      ]
    },
    {
      "cell_type": "code",
      "execution_count": 59,
      "metadata": {
        "colab": {
          "base_uri": "https://localhost:8080/",
          "height": 485
        },
        "id": "Enk3A_0mhuH4",
        "outputId": "93092305-0f19-4754-ad41-519e7892e5dc"
      },
      "outputs": [
        {
          "data": {
            "text/plain": [
              "(array([486., 519., 398., 593., 622., 601., 522., 605., 481., 573.]),\n",
              " array([0. , 0.9, 1.8, 2.7, 3.6, 4.5, 5.4, 6.3, 7.2, 8.1, 9. ]),\n",
              " <BarContainer object of 10 artists>)"
            ]
          },
          "execution_count": 59,
          "metadata": {},
          "output_type": "execute_result"
        },
        {
          "data": {
            "image/png": "[encoded data removed]",
            "text/plain": [
              "<Figure size 640x480 with 1 Axes>"
            ]
          },
          "metadata": {},
          "output_type": "display_data"
        }
      ],
      "source": [
        "plt.hist(targets, bins = 10)"
      ]
    },
    {
      "cell_type": "code",
      "execution_count": 60,
      "metadata": {
        "colab": {
          "base_uri": "https://localhost:8080/",
          "height": 1000
        },
        "id": "ljWRzfg1LGZN",
        "outputId": "d5f4365e-1bba-4e06-b847-ee3c637aa753"
      },
      "outputs": [
        {
          "name": "stdout",
          "output_type": "stream",
          "text": [
            "S2\n",
            "Accuracy: [0.66872428 0.7495183  0.75628141 0.95615514 0.88745981 0.88685524\n",
            " 0.73180077 0.6661157  0.9022869  0.97207679] mean:  0.8177274342860116\n",
            "                      precision    recall  f1-score   support\n",
            "\n",
            "             Highway     0.7720    0.6687    0.7166       486\n",
            "               River     0.8664    0.7495    0.8037       519\n",
            "             Pasture     0.7900    0.7563    0.7728       398\n",
            "              Forest     0.9326    0.9562    0.9442       593\n",
            "         Residential     0.9356    0.8875    0.9109       622\n",
            "          AnnualCrop     0.7885    0.8869    0.8348       601\n",
            "       PermanentCrop     0.5449    0.7318    0.6247       522\n",
            "HerbaceousVegetation     0.8431    0.6661    0.7442       605\n",
            "          Industrial     0.8680    0.9023    0.8848       481\n",
            "             SeaLake     0.9346    0.9721    0.9530       573\n",
            "\n",
            "            accuracy                         0.8228      5400\n",
            "           macro avg     0.8276    0.8177    0.8190      5400\n",
            "        weighted avg     0.8325    0.8228    0.8239      5400\n",
            "\n"
          ]
        },
        {
          "data": {
            "image/png": "[encoded data removed]",
            "text/plain": [
              "<Figure size 700x600 with 2 Axes>"
            ]
          },
          "metadata": {},
          "output_type": "display_data"
        }
      ],
      "source": [
        "fig, axes = plt.subplots(nrows = 1, ncols = 1, figsize = (7,6))\n",
        "\n",
        "cmd = ConfusionMatrixDisplay(cm, display_labels=[c.split('/')[-1] for c in handler.classes])\n",
        "cmd.plot(ax=axes, cmap='Blues', xticks_rotation='vertical')\n",
        "print('S2')\n",
        "print('Accuracy:', cm.diagonal(), 'mean: ', cm.diagonal().mean())\n",
        "print(classification_report(targets, predictions, target_names=[c.split('/')[-1] for c in handler.classes], digits=4))\n",
        "axes.get_images()[0].set_clim(0, 1)\n",
        "plt.show()\n",
        "plt.close()"
      ]
    }
  ],
  "metadata": {
    "accelerator": "GPU",
    "colab": {
      "gpuType": "V100",
      "machine_shape": "hm",
      "provenance": []
    },
    "kernelspec": {
      "display_name": "Python 3",
      "name": "python3"
    },
    "language_info": {
      "name": "python"
    }
  },
  "nbformat": 4,
  "nbformat_minor": 0
}

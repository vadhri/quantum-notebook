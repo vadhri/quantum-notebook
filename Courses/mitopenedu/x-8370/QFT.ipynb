{
 "cells": [
  {
   "cell_type": "code",
   "execution_count": 7,
   "metadata": {},
   "outputs": [
    {
     "data": {
      "text/html": [
       "<pre style=\"word-wrap: normal;white-space: pre;background: #fff0;line-height: 1.1;font-family: &quot;Courier New&quot;,Courier,monospace\">     ┌───┐┌──────┐\n",
       "q_0: ┤ H ├┤0     ├\n",
       "     ├───┤│  QFT │\n",
       "q_1: ┤ X ├┤1     ├\n",
       "     └───┘└──────┘</pre>"
      ],
      "text/plain": [
       "     ┌───┐┌──────┐\n",
       "q_0: ┤ H ├┤0     ├\n",
       "     ├───┤│  QFT │\n",
       "q_1: ┤ X ├┤1     ├\n",
       "     └───┘└──────┘"
      ]
     },
     "execution_count": 7,
     "metadata": {},
     "output_type": "execute_result"
    }
   ],
   "source": [
    "from qiskit import *\n",
    "from qiskit.circuit.library import QFT\n",
    "from qiskit.quantum_info import Statevector\n",
    "\n",
    "Q = QFT(2)\n",
    "QC = QuantumCircuit(2)\n",
    "# QC.h(0)\n",
    "QC.x(1)\n",
    "QC.append(Q, [0,1])\n",
    "\n",
    "QC.draw()\n"
   ]
  },
  {
   "cell_type": "code",
   "execution_count": 8,
   "metadata": {},
   "outputs": [
    {
     "data": {
      "text/latex": [
       "$$\\frac{\\sqrt{2}}{2} |00\\rangle+(- \\frac{\\sqrt{2}}{4} - \\frac{\\sqrt{2} i}{4}) |01\\rangle+(- \\frac{\\sqrt{2}}{4} + \\frac{\\sqrt{2} i}{4}) |11\\rangle$$"
      ],
      "text/plain": [
       "<IPython.core.display.Latex object>"
      ]
     },
     "execution_count": 8,
     "metadata": {},
     "output_type": "execute_result"
    }
   ],
   "source": [
    "state = Statevector(QC)\n",
    "state.draw(output=\"Latex\")\n"
   ]
  }
 ],
 "metadata": {
  "kernelspec": {
   "display_name": "QCML",
   "language": "python",
   "name": "python3"
  },
  "language_info": {
   "codemirror_mode": {
    "name": "ipython",
    "version": 3
   },
   "file_extension": ".py",
   "mimetype": "text/x-python",
   "name": "python",
   "nbconvert_exporter": "python",
   "pygments_lexer": "ipython3",
   "version": "3.9.16"
  },
  "orig_nbformat": 4
 },
 "nbformat": 4,
 "nbformat_minor": 2
}

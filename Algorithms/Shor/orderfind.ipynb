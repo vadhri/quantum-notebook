{
 "cells": [
  {
   "cell_type": "code",
   "execution_count": 104,
   "metadata": {},
   "outputs": [
    {
     "name": "stdout",
     "output_type": "stream",
     "text": [
      "[1, 5, 25, 125, 625, 3125, 15625, 78125, 390625, 1953125, 9765625, 48828125, 244140625, 1220703125, 6103515625, 30517578125, 152587890625, 762939453125, 3814697265625, 19073486328125]\n"
     ]
    }
   ],
   "source": [
    "import numpy as np\n",
    "from qiskit import *\n",
    "from qiskit.quantum_info import *\n",
    "from qiskit.circuit.library import PhaseEstimation, QFT, DraperQFTAdder, MCPhaseGate\n",
    "from collections import defaultdict\n",
    "\n",
    "N = 21ß\n",
    "x = 5\n",
    "rot = 2*np.pi*x/N\n",
    "\n",
    "Q = QuantumCircuit(N+1, N)\n",
    "lookup = [x**i for i in range(20)]\n",
    "init = [(1 if i in lookup else 0) for i in range(2**N)]\n",
    "# print (lookup)\n",
    "Q.initialize(init/np.linalg.norm(init), range(N))\n",
    "state = Statevector(Q)\n",
    "state.draw(output='Latex')\n"
   ]
  },
  {
   "cell_type": "code",
   "execution_count": null,
   "metadata": {},
   "outputs": [
    {
     "data": {
      "text/html": [
       "<pre style=\"word-wrap: normal;white-space: pre;background: #fff0;line-height: 1.1;font-family: &quot;Courier New&quot;,Courier,monospace\">     ┌──────────────────────────────────────────────────────────────────────────────────────┐┌───┐ mcp                                              \n",
       "q_0: ┤0                                                                                     ├┤ H ├─■────────────────────────────────────────────────\n",
       "     │                                                                                      │├───┤ │         mcp                                    \n",
       "q_1: ┤1                                                                                     ├┤ H ├─┼─────────■──────────────────────────────────────\n",
       "     │                                                                                      │├───┤ │         │         mcp                          \n",
       "q_2: ┤2 Initialize(0,0.5,0,0.5,0,0,0,0,0,0.5,0,0,0,0,0,0,0,0,0,0,0,0,0,0,0,0,0,0.5,0,0,0,0) ├┤ H ├─┼─────────┼─────────■────────────────────────────\n",
       "     │                                                                                      │├───┤ │         │         │         mcp                \n",
       "q_3: ┤3                                                                                     ├┤ H ├─┼─────────┼─────────┼─────────■──────────────────\n",
       "     │                                                                                      │├───┤ │         │         │         │         mcp      \n",
       "q_4: ┤4                                                                                     ├┤ H ├─┼─────────┼─────────┼─────────┼─────────■────────\n",
       "     └────────────────────────────────────────┬───┬─────────────────────────────────────────┘└───┘ │P(6π/5)  │P(6π/5)  │P(6π/5)  │P(6π/5)  │P(6π/5) \n",
       "q_5: ─────────────────────────────────────────┤ X ├────────────────────────────────────────────────■─────────■─────────■─────────■─────────■────────\n",
       "                                              └───┘                                                                                                 \n",
       "c: 5/═══════════════════════════════════════════════════════════════════════════════════════════════════════════════════════════════════════════════\n",
       "                                                                                                                                                    </pre>"
      ],
      "text/plain": [
       "     ┌──────────────────────────────────────────────────────────────────────────────────────┐┌───┐ mcp                                              \n",
       "q_0: ┤0                                                                                     ├┤ H ├─■────────────────────────────────────────────────\n",
       "     │                                                                                      │├───┤ │         mcp                                    \n",
       "q_1: ┤1                                                                                     ├┤ H ├─┼─────────■──────────────────────────────────────\n",
       "     │                                                                                      │├───┤ │         │         mcp                          \n",
       "q_2: ┤2 Initialize(0,0.5,0,0.5,0,0,0,0,0,0.5,0,0,0,0,0,0,0,0,0,0,0,0,0,0,0,0,0,0.5,0,0,0,0) ├┤ H ├─┼─────────┼─────────■────────────────────────────\n",
       "     │                                                                                      │├───┤ │         │         │         mcp                \n",
       "q_3: ┤3                                                                                     ├┤ H ├─┼─────────┼─────────┼─────────■──────────────────\n",
       "     │                                                                                      │├───┤ │         │         │         │         mcp      \n",
       "q_4: ┤4                                                                                     ├┤ H ├─┼─────────┼─────────┼─────────┼─────────■────────\n",
       "     └────────────────────────────────────────┬───┬─────────────────────────────────────────┘└───┘ │P(6π/5)  │P(6π/5)  │P(6π/5)  │P(6π/5)  │P(6π/5) \n",
       "q_5: ─────────────────────────────────────────┤ X ├────────────────────────────────────────────────■─────────■─────────■─────────■─────────■────────\n",
       "                                              └───┘                                                                                                 \n",
       "c: 5/═══════════════════════════════════════════════════════════════════════════════════════════════════════════════════════════════════════════════\n",
       "                                                                                                                                                    "
      ]
     },
     "execution_count": 97,
     "metadata": {},
     "output_type": "execute_result"
    }
   ],
   "source": [
    "for i in range(N):\n",
    "    Q.h(i)\n",
    "    \n",
    "Q.x(N)\n",
    "\n",
    "for i in range(N):\n",
    "    Q.append(MCPhaseGate(rot, 1, 'mcp'), [i,N])\n",
    "\n",
    "Q.draw(fold=1000)"
   ]
  },
  {
   "cell_type": "code",
   "execution_count": null,
   "metadata": {},
   "outputs": [
    {
     "name": "stdout",
     "output_type": "stream",
     "text": [
      "(0.35355+0j) [0]\n",
      "(0.28603+0.20781j) [1]\n",
      "(-0-0j) [2, 3, 6, 7, 8, 9, 10, 11, 12, 13, 14, 15]\n",
      "(-0.28603-0.20781j) [4]\n",
      "(-0.10925-0.33625j) [5]\n",
      "(-0.14302-0.10391j) [16]\n",
      "(-0.05463-0.16812j) [17]\n",
      "(0.05463+0.16812j) [18, 20, 24]\n",
      "(-0.05463+0.16812j) [19, 21, 25, 26]\n",
      "(0.05463-0.16812j) [22, 28]\n",
      "(0.14302-0.10391j) [23, 29, 30]\n",
      "(-0.14302+0.10391j) [27]\n",
      "(0.17678-0j) [31]\n"
     ]
    }
   ],
   "source": [
    "state = Statevector(Q)\n",
    "h = defaultdict(list)\n",
    "for i in range(2**(N+1)//2,2**(N+1)):\n",
    "    h[np.round(state.data[i],5)].append(i-(2**N))\n",
    "for k,v in h.items():\n",
    "    print (k, v)    "
   ]
  },
  {
   "cell_type": "code",
   "execution_count": null,
   "metadata": {},
   "outputs": [
    {
     "name": "stdout",
     "output_type": "stream",
     "text": [
      "SamplerResult(quasi_dists=[{0: 0.1249999999999999, 1: 0.1249999999999999, 4: 0.1249999999999999, 5: 0.1249999999999999, 16: 0.03125, 17: 0.03125, 18: 0.03125, 19: 0.03125, 20: 0.03125, 21: 0.03125, 22: 0.03125, 23: 0.03125, 24: 0.03125, 25: 0.03125, 26: 0.03125, 27: 0.03125, 28: 0.03125, 29: 0.03125, 30: 0.03125, 31: 0.03125}], metadata=[{}])\n"
     ]
    }
   ],
   "source": [
    "for i in range(N):\n",
    "    Q.measure(i,i)\n",
    "    \n",
    "from qiskit.primitives import Sampler \n",
    "sampler = Sampler()\n",
    "\n",
    "job = sampler.run(Q)\n",
    "\n",
    "print (job.result())"
   ]
  },
  {
   "cell_type": "code",
   "execution_count": null,
   "metadata": {},
   "outputs": [],
   "source": [
    "\n",
    "\n",
    "# import numpy as np \n",
    "\n",
    "# N = 5\n",
    "# L = np.ceil(np.log2(N))\n",
    "# T = int(2*L)\n",
    "\n",
    "# fr = QuantumRegister(T, name=\"First Register\")\n",
    "# sr = QuantumRegister(L, name=\"Second Register\")\n",
    "# N = QuantumRegister(L, name=\"N\")\n",
    "# anc = QuantumRegister(1)\n",
    "# cl = ClassicalRegister(2)\n",
    "\n",
    "# QC = QuantumCircuit(fr, sr, N, anc, cl)\n",
    "\n",
    "# for i in range(T):\n",
    "#     QC.h(fr[i])\n",
    "\n",
    "# QC.x(fr[0])\n",
    "# QC.x(sr[0])\n",
    "# QC.x(sr[1])\n",
    "\n",
    "# QC.barrier()\n",
    "\n",
    "# dqa = DraperQFTAdder(3, kind=\"fixed\", name=\"DraperFullAdder\")\n",
    "# QC.append(dqa ,[0,1,2,3,4,5])\n",
    "\n",
    "# dqa = DraperQFTAdder(3, kind=\"fixed\", name=\"DraperFullAdder\")\n",
    "# QC.append(dqa ,[0,1,2,3,4,5])\n",
    "\n",
    "# # dqa = DraperQFTAdder(3, kind=\"fixed\", name=\"DraperFullAdder\")\n",
    "# # QC.append(dqa ,[0,1,2,3,4,5])\n",
    "\n",
    "# dqa = DraperQFTAdder(3, kind=\"fixed\", name=\"DraperFullAdder\").inverse()\n",
    "# QC.append(dqa ,[6,7,8,3,4,5])\n",
    "\n",
    "# cdqa = DraperQFTAdder(3, kind=\"fixed\", name=\"DraperFullAdder\").control(1)\n",
    "# QC.cx(5,9)\n",
    "# QC.append(cdqa,[9,6,7,8,3,4,5])\n",
    "# QC.x(5)\n",
    "# QC.cx(5,9)\n",
    "\n",
    "# QC.draw(output=\"mpl\", scale=0.5)"
   ]
  },
  {
   "cell_type": "code",
   "execution_count": null,
   "metadata": {},
   "outputs": [],
   "source": [
    "# state = Statevector(QC)\n",
    "# state.draw(output=\"Latex\")"
   ]
  },
  {
   "cell_type": "code",
   "execution_count": null,
   "metadata": {},
   "outputs": [],
   "source": [
    "# QC.measure(0, cl[0])\n",
    "# QC.measure(1, cl[1])\n",
    "\n",
    "# QC.decompose().draw(fold=1000)"
   ]
  },
  {
   "cell_type": "code",
   "execution_count": null,
   "metadata": {},
   "outputs": [],
   "source": [
    "# from qiskit.primitives import Sampler \n",
    "# sampler = Sampler()\n",
    "\n",
    "# job = sampler.run(QC)\n",
    "\n",
    "# print (job.result())"
   ]
  }
 ],
 "metadata": {
  "kernelspec": {
   "display_name": "QCML",
   "language": "python",
   "name": "python3"
  },
  "language_info": {
   "codemirror_mode": {
    "name": "ipython",
    "version": 3
   },
   "file_extension": ".py",
   "mimetype": "text/x-python",
   "name": "python",
   "nbconvert_exporter": "python",
   "pygments_lexer": "ipython3",
   "version": "3.9.16"
  },
  "orig_nbformat": 4
 },
 "nbformat": 4,
 "nbformat_minor": 2
}

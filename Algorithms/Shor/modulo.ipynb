{
 "cells": [
  {
   "cell_type": "code",
   "execution_count": 42,
   "metadata": {},
   "outputs": [
    {
     "name": "stdout",
     "output_type": "stream",
     "text": [
      "0 0 0 0\n",
      "1 1 1 1\n",
      "2 10 2 10\n",
      "3 11 3 11\n",
      "4 100 4 100\n",
      "5 101 5 101\n",
      "6 110 6 110\n",
      "7 111 7 0\n",
      "8 1000 8 1\n",
      "9 1001 9 10\n",
      "10 1010 10 11\n",
      "11 1011 0 100\n",
      "12 1100 1 101\n",
      "13 1101 2 110\n",
      "14 1110 3 0\n",
      "15 1111 4 1\n"
     ]
    }
   ],
   "source": [
    "for i in range(16):\n",
    "    print (i, bin(i)[2:], i%3, bin(i%7)[2:])"
   ]
  },
  {
   "cell_type": "code",
   "execution_count": 43,
   "metadata": {},
   "outputs": [
    {
     "data": {
      "image/png": "[encoded data removed]",
      "text/plain": [
       "<Figure size 120.375x392.972 with 1 Axes>"
      ]
     },
     "execution_count": 43,
     "metadata": {},
     "output_type": "execute_result"
    }
   ],
   "source": [
    "from qiskit import *\n",
    "import math\n",
    "from qiskit.quantum_info import Statevector\n",
    "\n",
    "n=15\n",
    "\n",
    "N = math.ceil(math.log(n, 2))\n",
    "\n",
    "Data = QuantumRegister(N)\n",
    "Period = QuantumRegister(N)\n",
    "\n",
    "PeriodMeasurement = ClassicalRegister(N)\n",
    "\n",
    "QC = QuantumCircuit(Data, Period,PeriodMeasurement)\n",
    "\n",
    "for i in range(N):\n",
    "    QC.h(i)\n",
    "\n",
    "QC.draw(output=\"mpl\", scale=0.5)\n"
   ]
  },
  {
   "cell_type": "code",
   "execution_count": 44,
   "metadata": {},
   "outputs": [
    {
     "data": {
      "text/latex": [
       "$$\\frac{1}{4} |00000000\\rangle+\\frac{1}{4} |00000001\\rangle+\\frac{1}{4} |00000010\\rangle+\\frac{1}{4} |00000011\\rangle+\\frac{1}{4} |00000100\\rangle+\\frac{1}{4} |00000101\\rangle + \\ldots +\\frac{1}{4} |00001011\\rangle+\\frac{1}{4} |00001100\\rangle+\\frac{1}{4} |00001101\\rangle+\\frac{1}{4} |00001110\\rangle+\\frac{1}{4} |00001111\\rangle$$"
      ],
      "text/plain": [
       "<IPython.core.display.Latex object>"
      ]
     },
     "execution_count": 44,
     "metadata": {},
     "output_type": "execute_result"
    }
   ],
   "source": [
    "state = Statevector(QC)\n",
    "state.draw(\"Latex\")"
   ]
  }
 ],
 "metadata": {
  "kernelspec": {
   "display_name": "QCML",
   "language": "python",
   "name": "python3"
  },
  "language_info": {
   "codemirror_mode": {
    "name": "ipython",
    "version": 3
   },
   "file_extension": ".py",
   "mimetype": "text/x-python",
   "name": "python",
   "nbconvert_exporter": "python",
   "pygments_lexer": "ipython3",
   "version": "3.9.16"
  },
  "orig_nbformat": 4
 },
 "nbformat": 4,
 "nbformat_minor": 2
}

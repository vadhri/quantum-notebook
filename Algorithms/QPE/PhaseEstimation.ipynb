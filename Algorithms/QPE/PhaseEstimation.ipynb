{
 "cells": [
  {
   "attachments": {},
   "cell_type": "markdown",
   "metadata": {},
   "source": [
    "Describe a QPE procedure to find $ \\theta $ when $ U |\\psi\\rangle = e^{2\\pi i \\theta} |\\psi \\rangle $\n"
   ]
  },
  {
   "cell_type": "code",
   "execution_count": 7,
   "metadata": {},
   "outputs": [],
   "source": [
    "from qiskit import *\n",
    "from qiskit.quantum_info import Statevector\n",
    "from qiskit.visualization import plot_state_city, plot_bloch_multivector, plot_histogram\n",
    "from IPython.display import display, Latex\n",
    "from math import pi\n",
    "import math\n",
    "from qiskit.circuit.library import QFT, CUGate\n",
    "from qiskit.circuit.library import UGate\n",
    "\n",
    "import numpy as np"
   ]
  },
  {
   "attachments": {},
   "cell_type": "markdown",
   "metadata": {},
   "source": [
    "Lets take the example of U as pauli X opearator, if we produce hadamard gate as initial state, it would give its eigenvector. "
   ]
  },
  {
   "cell_type": "code",
   "execution_count": 8,
   "metadata": {},
   "outputs": [],
   "source": [
    "def IQFT(no_of_Qubits):\n",
    "    qc = QuantumCircuit(no_of_Qubits, name=\"myIQFT\")\n",
    "        \n",
    "    for q in range(no_of_Qubits-1, -1, -1):\n",
    "        for i in range(no_of_Qubits-1, q, -1):\n",
    "            qc.cp(-pi/(2**(i-q)), i, q)\n",
    "        qc.h(q)\n",
    "        \n",
    "    qc.to_gate()\n",
    "    return qc\n",
    "        "
   ]
  },
  {
   "cell_type": "code",
   "execution_count": 9,
   "metadata": {},
   "outputs": [
    {
     "ename": "TypeError",
     "evalue": "t() takes 2 positional arguments but 3 were given",
     "output_type": "error",
     "traceback": [
      "\u001b[0;31m---------------------------------------------------------------------------\u001b[0m",
      "\u001b[0;31mTypeError\u001b[0m                                 Traceback (most recent call last)",
      "\u001b[1;32m/Users/venkat/Documents/GitHub/quantum-notebook/qiskit/Quantum Algorithms/QPE/PhaseEstimation.ipynb Cell 5\u001b[0m line \u001b[0;36m1\n\u001b[1;32m     <a href='vscode-notebook-cell:/Users/venkat/Documents/GitHub/quantum-notebook/qiskit/Quantum%20Algorithms/QPE/PhaseEstimation.ipynb#W4sZmlsZQ%3D%3D?line=12'>13</a>\u001b[0m \u001b[39mfor\u001b[39;00m i \u001b[39min\u001b[39;00m \u001b[39mrange\u001b[39m(Precision):\n\u001b[1;32m     <a href='vscode-notebook-cell:/Users/venkat/Documents/GitHub/quantum-notebook/qiskit/Quantum%20Algorithms/QPE/PhaseEstimation.ipynb#W4sZmlsZQ%3D%3D?line=13'>14</a>\u001b[0m     \u001b[39mfor\u001b[39;00m t \u001b[39min\u001b[39;00m \u001b[39mrange\u001b[39m(\u001b[39m2\u001b[39m\u001b[39m*\u001b[39m\u001b[39m*\u001b[39m(i)):\n\u001b[0;32m---> <a href='vscode-notebook-cell:/Users/venkat/Documents/GitHub/quantum-notebook/qiskit/Quantum%20Algorithms/QPE/PhaseEstimation.ipynb#W4sZmlsZQ%3D%3D?line=14'>15</a>\u001b[0m         QC\u001b[39m.\u001b[39;49mt(Precision\u001b[39m-\u001b[39;49mi\u001b[39m-\u001b[39;49m\u001b[39m1\u001b[39;49m, Precision)\n\u001b[1;32m     <a href='vscode-notebook-cell:/Users/venkat/Documents/GitHub/quantum-notebook/qiskit/Quantum%20Algorithms/QPE/PhaseEstimation.ipynb#W4sZmlsZQ%3D%3D?line=15'>16</a>\u001b[0m myIQfT \u001b[39m=\u001b[39m IQFT(Precision)\n\u001b[1;32m     <a href='vscode-notebook-cell:/Users/venkat/Documents/GitHub/quantum-notebook/qiskit/Quantum%20Algorithms/QPE/PhaseEstimation.ipynb#W4sZmlsZQ%3D%3D?line=16'>17</a>\u001b[0m QC\u001b[39m.\u001b[39mappend(QFT(Precision, \u001b[39m0\u001b[39m, inverse\u001b[39m=\u001b[39m\u001b[39mTrue\u001b[39;00m, do_swaps\u001b[39m=\u001b[39m\u001b[39mFalse\u001b[39;00m), \u001b[39mrange\u001b[39m(Precision) )\n",
      "\u001b[0;31mTypeError\u001b[0m: t() takes 2 positional arguments but 3 were given"
     ]
    }
   ],
   "source": [
    "Precision = 3\n",
    "\n",
    "QREG = QuantumRegister(Precision+1)\n",
    "CREG = ClassicalRegister(Precision)\n",
    "\n",
    "QC = QuantumCircuit(QREG, CREG)\n",
    "QC.h(Precision)\n",
    "QC.barrier()\n",
    "\n",
    "for i in range(Precision):\n",
    "    QC.h(i)\n",
    "\n",
    "from qiskit.circuit.library.standard_gates import TGate\n",
    "U = TGate.control(1)\n",
    "\n",
    "for i in range(Precision):\n",
    "    for t in range(2**(i)):\n",
    "        QC.append(U, [Precision-i-1, Precision])\n",
    "\n",
    "myIQfT = IQFT(Precision)\n",
    "QC.append(QFT(Precision, 0, inverse=True, do_swaps=False), range(Precision) )\n",
    "state = Statevector(QC)\n",
    "state.draw(output=\"latex\")\n"
   ]
  },
  {
   "cell_type": "code",
   "execution_count": null,
   "metadata": {},
   "outputs": [
    {
     "data": {
      "image/png": "[encoded data removed]",
      "text/plain": [
       "<Figure size 654.429x225.75 with 1 Axes>"
      ]
     },
     "execution_count": 4,
     "metadata": {},
     "output_type": "execute_result"
    }
   ],
   "source": [
    "QC.measure(range(Precision),range(Precision))\n",
    "QC.draw(scale=0.5, output=\"mpl\", fold=1000)"
   ]
  },
  {
   "cell_type": "code",
   "execution_count": null,
   "metadata": {},
   "outputs": [],
   "source": [
    "def convertBinaryToDecimal(str):\n",
    "    str = list(str)\n",
    "    o = 0 \n",
    "    multiplication_factor = 2\n",
    "    while str:\n",
    "        if int(str.pop(0)): \n",
    "            o += 1/multiplication_factor\n",
    "        multiplication_factor *= 2\n",
    "    return o\n"
   ]
  },
  {
   "cell_type": "code",
   "execution_count": null,
   "metadata": {},
   "outputs": [
    {
     "name": "stdout",
     "output_type": "stream",
     "text": [
      "0 prob =  1.0  Eigen value =  (1+0j)\n"
     ]
    }
   ],
   "source": [
    "from qiskit.primitives import Sampler\n",
    "sampler = Sampler()\n",
    "job = sampler.run(QC)\n",
    "\n",
    "for key, value in job.result().quasi_dists[0].items():\n",
    "    val = convertBinaryToDecimal(bin(key)[2:])\n",
    "    print(key, \"prob = \", round(value, 3), \" Eigen value = \", np.round(np.cos(2*np.pi*val)+1j*np.sin(2*np.pi*val), 2))"
   ]
  }
 ],
 "metadata": {
  "kernelspec": {
   "display_name": "QCML",
   "language": "python",
   "name": "python3"
  },
  "language_info": {
   "codemirror_mode": {
    "name": "ipython",
    "version": 3
   },
   "file_extension": ".py",
   "mimetype": "text/x-python",
   "name": "python",
   "nbconvert_exporter": "python",
   "pygments_lexer": "ipython3",
   "version": "3.9.16"
  },
  "orig_nbformat": 4
 },
 "nbformat": 4,
 "nbformat_minor": 2
}

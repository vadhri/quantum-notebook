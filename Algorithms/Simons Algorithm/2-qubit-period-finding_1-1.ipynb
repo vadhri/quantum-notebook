{
 "cells": [
  {
   "attachments": {},
   "cell_type": "markdown",
   "metadata": {},
   "source": [
    "# Find the period when the function is a 2 to 1 function or 1-1 function. \n",
    "\n",
    "|domain I|range f(x)|\n",
    "|-|-|\n",
    "|00|00|\n",
    "|01|01|\n",
    "|10|10|\n",
    "|11|11|\n",
    "\n",
    "The period we are looking for f(x) = f(x+b) is 11. The number on the right, value it equals to is not important.\n",
    "\n",
    "|f(x)|f(x+b)|value|\n",
    "|-|-|-|\n",
    "|00|00|00|\n",
    "|01|01|01|\n",
    "|10|10|10|\n",
    "|11|11|11|\n",
    "\n"
   ]
  },
  {
   "cell_type": "code",
   "execution_count": 21,
   "metadata": {},
   "outputs": [
    {
     "data": {
      "image/png": "[encoded data removed]",
      "text/plain": [
       "<Figure size 162.181x225.75 with 1 Axes>"
      ]
     },
     "execution_count": 21,
     "metadata": {},
     "output_type": "execute_result"
    }
   ],
   "source": [
    "# Generating an oracle from the truth table.\n",
    "from qiskit import *\n",
    "from qiskit import IBMQ\n",
    "from qiskit.visualization import *\n",
    "\n",
    "N = 2\n",
    "\n",
    "qr = QuantumRegister(2*N)\n",
    "cr = ClassicalRegister(N)\n",
    "\n",
    "QC = QuantumCircuit(qr, cr)\n",
    "\n",
    "for i in range(N):\n",
    "    QC.h(i)\n",
    "\n",
    "QC.draw(output=\"mpl\", scale=0.5)\n",
    "\n",
    "QC.barrier()\n",
    "QC.draw(output=\"mpl\", scale=0.5)\n"
   ]
  },
  {
   "cell_type": "code",
   "execution_count": 22,
   "metadata": {},
   "outputs": [
    {
     "data": {
      "image/png": "[encoded data removed]",
      "text/plain": [
       "<Figure size 413.014x225.75 with 1 Axes>"
      ]
     },
     "execution_count": 22,
     "metadata": {},
     "output_type": "execute_result"
    }
   ],
   "source": [
    "#2 Blackbox\n",
    "# Copy the contents of the first register to second register.\n",
    "\n",
    "# for i in range(N):\n",
    "#     QC.cx(i, i+N)\n",
    "#     QC.cx(i+N, i)\n",
    "\n",
    "QC.cx(1,2)\n",
    "QC.cx(2,1)\n",
    "    \n",
    "QC.barrier()\n",
    "\n",
    "# Step 4 apply Hadamard gates to the first register\n",
    "for i in range(N):\n",
    "    QC.h(qr[i])\n",
    "    \n",
    "# Step 5 perform measurement on the first register\n",
    "for i in range(N):\n",
    "    QC.measure(qr[i], cr[i])\n",
    "\n",
    "QC.draw(output=\"mpl\", scale=0.5)"
   ]
  },
  {
   "cell_type": "code",
   "execution_count": 23,
   "metadata": {},
   "outputs": [
    {
     "data": {
      "image/png": "[encoded data removed]",
      "text/plain": [
       "<Figure size 300x200 with 1 Axes>"
      ]
     },
     "execution_count": 23,
     "metadata": {},
     "output_type": "execute_result"
    }
   ],
   "source": [
    "# use local simulator\n",
    "backend = BasicAer.get_backend(\"qasm_simulator\")\n",
    "# the number of shots is twice the length of the bitstring\n",
    "shots = 1024\n",
    "job = execute(QC, backend=backend, shots=shots)\n",
    "answer = job.result().get_counts()\n",
    "\n",
    "plot_histogram(answer, figsize=(3,2))"
   ]
  },
  {
   "cell_type": "code",
   "execution_count": 24,
   "metadata": {},
   "outputs": [
    {
     "name": "stdout",
     "output_type": "stream",
     "text": [
      "[1  0]\n",
      "([1  0], (0,))\n",
      "[1  0]\n",
      "The hidden bistring s[ 0 ], s[ 1 ]....s[ 1 ] is the one satisfying the following system of linear equations:\n",
      "s[ 0 ] = 0\n"
     ]
    }
   ],
   "source": [
    "lAnswer = [ (k[::-1],v) for k,v in answer.items() if k != \"0\"*N  ] #excluding the trivial all-zero\n",
    "#Sort the basis by their probabilities\n",
    "lAnswer.sort(key = lambda x: x[1], reverse=True)\n",
    "\n",
    "Y = []\n",
    "for k, v in lAnswer:\n",
    "    Y.append( [ int(c) for c in k ] )\n",
    "\n",
    "\n",
    "#import tools from sympy\n",
    "from sympy import Matrix, pprint, MatrixSymbol, expand, mod_inverse\n",
    "\n",
    "Y = Matrix(Y)\n",
    "\n",
    "pprint(Y)\n",
    "\n",
    "#Perform Gaussian elimination on Y\n",
    "Y_transformed = Y.rref(iszerofunc=lambda x: x % 2==0) # linear algebra on GF(2) \n",
    "\n",
    "pprint(Y_transformed)\n",
    "\n",
    "#to convert rational and negatives in rref of linear algebra on GF(2)\n",
    "def mod(x,modulus):\n",
    "    numer, denom = x.as_numer_denom()\n",
    "    return numer*mod_inverse(denom,modulus) % modulus\n",
    "\n",
    "Y_new = Y_transformed[0].applyfunc(lambda x: mod(x,2)) #must takecare of negatives and fractional values\n",
    "pprint(Y_new)\n",
    "\n",
    "print(\"The hidden bistring s[ 0 ], s[ 1 ]....s[\",N-1,\"] is the one satisfying the following system of linear equations:\")\n",
    "rows, cols = Y_new.shape\n",
    "for r in range(rows):\n",
    "    Yr = [ \"s[ \"+str(i)+\" ]\" for i, v in enumerate(list(Y_new[r,:])) if v == 1 ]\n",
    "    if len(Yr) > 0:\n",
    "        tStr = \" + \".join(Yr)\n",
    "        print(tStr, \"= 0\")"
   ]
  },
  {
   "attachments": {},
   "cell_type": "markdown",
   "metadata": {},
   "source": [
    "Hence the string is '00' for this case."
   ]
  }
 ],
 "metadata": {
  "kernelspec": {
   "display_name": "QCML",
   "language": "python",
   "name": "python3"
  },
  "language_info": {
   "codemirror_mode": {
    "name": "ipython",
    "version": 3
   },
   "file_extension": ".py",
   "mimetype": "text/x-python",
   "name": "python",
   "nbconvert_exporter": "python",
   "pygments_lexer": "ipython3",
   "version": "3.9.16"
  },
  "orig_nbformat": 4
 },
 "nbformat": 4,
 "nbformat_minor": 2
}

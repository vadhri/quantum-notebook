{
 "cells": [
  {
   "cell_type": "code",
   "execution_count": 7,
   "metadata": {},
   "outputs": [
    {
     "name": "stdout",
     "output_type": "stream",
     "text": [
      "Running test case 0 with input '[0.5,0.8,0.2,1]'...\n",
      "[0.9900332889206209, 0.0, 0.0, 0.009966711079379187]\n",
      "Correct!\n",
      "Running test case 1 with input '[0.9,1.0,0.4,2]'...\n",
      "[0.8759028645704475, 0.0, 0.0, 0.12409713542955253]\n",
      "Correct!\n"
     ]
    }
   ],
   "source": [
    "import json\n",
    "import pennylane as qml\n",
    "import pennylane.numpy as np\n",
    "\n",
    "dev = qml.device('default.qubit', wires = 2)\n",
    "\n",
    "@qml.qnode(dev)\n",
    "def trotterize(alpha, beta, time, depth):\n",
    "    # Put your code here #\n",
    "    for i in range(depth):\n",
    "        qml.IsingXX(alpha*2*(time/depth), wires=[0,1])\n",
    "        qml.IsingZZ(beta*2*(time/depth), wires=[0,1])\n",
    "\n",
    "    return qml.probs()\n",
    "    # Return the probabilities\n",
    "\n",
    "# These functions are responsible for testing the solution.\n",
    "def run(test_case_input: str) -> str:\n",
    "    dev = qml.device(\"default.qubit\", wires=2)\n",
    "    ins = json.loads(test_case_input)\n",
    "    output = list(trotterize(*ins).numpy())\n",
    "\n",
    "    return str(output)\n",
    "\n",
    "def check(solution_output: str, expected_output: str) -> None:\n",
    "    solution_output = json.loads(solution_output)\n",
    "    expected_output = json.loads(expected_output)\n",
    "    assert np.allclose(\n",
    "        solution_output, expected_output, rtol=1e-4\n",
    "    ), \"Your circuit does not give the correct probabilities.\"\n",
    "\n",
    "    tape = trotterize.qtape\n",
    "\n",
    "    names = [op.name for op in tape.operations]\n",
    "    \n",
    "    assert names.count('ApproxTimeEvolution') == 0, \"Your circuit is using the built-in PennyLane Trotterization!\"\n",
    "    assert names.count('Evolve') == 0, \"Your circuit is using the built-in PennyLane Trotterization!\"\n",
    "    assert names.count('QubitUnitary') == 0, \"Can't use custom-built gates!\"\n",
    "\n",
    "# These are the public test cases\n",
    "test_cases = [\n",
    "    ('[0.5,0.8,0.2,1]', '[0.99003329, 0, 0, 0.00996671]'),\n",
    "    ('[0.9,1.0,0.4,2]', '[0.87590286, 0, 0, 0.12409714]')\n",
    "]\n",
    "\n",
    "# This will run the public test cases locally\n",
    "for i, (input_, expected_output) in enumerate(test_cases):\n",
    "    print(f\"Running test case {i} with input '{input_}'...\")\n",
    "\n",
    "    try:\n",
    "        output = run(input_)\n",
    "        print (output)\n",
    "    except Exception as exc:\n",
    "        print(f\"Runtime Error. {exc}\")\n",
    "\n",
    "    else:\n",
    "        if message := check(output, expected_output):\n",
    "            print(f\"Wrong Answer. Have: '{output}'. Want: '{expected_output}'.\")\n",
    "\n",
    "        else:\n",
    "            print(\"Correct!\")"
   ]
  }
 ],
 "metadata": {
  "kernelspec": {
   "display_name": "QCML",
   "language": "python",
   "name": "python3"
  },
  "language_info": {
   "codemirror_mode": {
    "name": "ipython",
    "version": 3
   },
   "file_extension": ".py",
   "mimetype": "text/x-python",
   "name": "python",
   "nbconvert_exporter": "python",
   "pygments_lexer": "ipython3",
   "version": "3.9.16"
  }
 },
 "nbformat": 4,
 "nbformat_minor": 2
}

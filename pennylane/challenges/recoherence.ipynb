{
 "cells": [
  {
   "cell_type": "markdown",
   "metadata": {},
   "source": [
    "Find recoherence time ( the time != 0 ) where the purity of the state is 1 again. \n",
    "\n",
    "Purity of state is calculated using the density matrix using the forumula below.\n",
    "$ p = tr(\\rho^2) $\n",
    "\n",
    "The following source does the following.\n",
    "- Start with an initial quantum state described the RY operators below for 5 qubits. \n",
    "- Evolve the state using coefficiennts and operators that construct the interaction hamiltonian.\n",
    "- Calculate purity by the formula above for the quantum state. \n",
    "- Evolve the state and measure the closeness to one of the purity of the state. "
   ]
  },
  {
   "cell_type": "code",
   "execution_count": 50,
   "metadata": {},
   "outputs": [
    {
     "name": "stdout",
     "output_type": "stream",
     "text": [
      "Running test case 0 with input '[5,5,5,5]'...\n",
      "0.31\n",
      "Correct!\n",
      "Running test case 1 with input '[1.1,1.3,1,2.3]'...\n",
      "15.68\n",
      "Correct!\n"
     ]
    }
   ],
   "source": [
    "import json\n",
    "import pennylane as qml\n",
    "import pennylane.numpy as np\n",
    "\n",
    "dev = qml.device(\"default.qubit\", wires=5)\n",
    "\n",
    "@qml.qnode(dev)\n",
    "def evolve_state(coeffs, time):\n",
    "    operators = [\n",
    "        qml.PauliZ(0) @ qml.PauliZ(1),\n",
    "        qml.PauliZ(0) @ qml.PauliZ(2),\n",
    "        qml.PauliZ(0) @ qml.PauliZ(3),\n",
    "        qml.PauliZ(0) @ qml.PauliZ(4),\n",
    "    ]\n",
    "\n",
    "    qml.RY(0.5 * np.pi, wires=0)\n",
    "    qml.RY(0.4 , wires=1)\n",
    "    qml.RY(1.2 , wires=2)\n",
    "    qml.RY(1.8 , wires=3)\n",
    "    qml.RY(0.6 , wires=4)\n",
    "\n",
    "    qml.ApproxTimeEvolution(qml.Hamiltonian(coeffs, operators), time, n=1)\n",
    "    return qml.density_matrix(wires=[0])\n",
    "\n",
    "def purity(rho):\n",
    "    return qml.math.purity(rho, [0,1,2,3,4])\n",
    "\n",
    "def recoherence_time(coeffs):\n",
    "    start = 0.1\n",
    "    for t in range(10000):\n",
    "        t = start + t*0.01\n",
    "        rho = evolve_state(coeffs, t)\n",
    "        puriity = purity(rho)\n",
    "        if np.isclose(puriity, 1, 1e-2):\n",
    "            return t\n",
    "    return t\n",
    "    # Return the recoherence time\n",
    "\n",
    "\n",
    "# These functions are responsible for testing the solution.\n",
    "def run(test_case_input: str) -> str:\n",
    "    params = json.loads(test_case_input)\n",
    "    output = recoherence_time(params)\n",
    "\n",
    "    return str(output)\n",
    "\n",
    "\n",
    "def check(solution_output: str, expected_output: str) -> None:\n",
    "    solution_output = json.loads(solution_output)\n",
    "    expected_output = json.loads(expected_output)\n",
    "\n",
    "    assert np.isclose(solution_output, expected_output, rtol=5e-2)\n",
    "\n",
    "\n",
    "# These are the public test cases\n",
    "test_cases = [\n",
    "    ('[5,5,5,5]', '0.314'),\n",
    "    ('[1.1,1.3,1,2.3]', '15.71')\n",
    "]\n",
    "\n",
    "# This will run the public test cases locally\n",
    "for i, (input_, expected_output) in enumerate(test_cases):\n",
    "    print(f\"Running test case {i} with input '{input_}'...\")\n",
    "\n",
    "    try:\n",
    "        output = run(input_)\n",
    "        print (output)\n",
    "    except Exception as exc:\n",
    "        print(f\"Runtime Error. {exc}\")\n",
    "\n",
    "    else:\n",
    "        if message := check(output, expected_output):\n",
    "            print(f\"Wrong Answer. Have: '{output}'. Want: '{expected_output}'.\")\n",
    "\n",
    "        else:\n",
    "            print(\"Correct!\")"
   ]
  }
 ],
 "metadata": {
  "kernelspec": {
   "display_name": "QCML",
   "language": "python",
   "name": "python3"
  },
  "language_info": {
   "codemirror_mode": {
    "name": "ipython",
    "version": 3
   },
   "file_extension": ".py",
   "mimetype": "text/x-python",
   "name": "python",
   "nbconvert_exporter": "python",
   "pygments_lexer": "ipython3",
   "version": "3.9.16"
  }
 },
 "nbformat": 4,
 "nbformat_minor": 2
}

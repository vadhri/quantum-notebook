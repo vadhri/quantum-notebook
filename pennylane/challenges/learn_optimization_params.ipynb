{
 "cells": [
  {
   "cell_type": "markdown",
   "metadata": {},
   "source": [
    "Use optimization method to find the rotation parameters of a U3 gate in the circuit. "
   ]
  },
  {
   "cell_type": "code",
   "execution_count": 82,
   "metadata": {},
   "outputs": [
    {
     "name": "stdout",
     "output_type": "stream",
     "text": [
      "Running test case 0 with input '[[ 0.70710678,  0 ,  0.70710678,  0], [0 ,0.70710678, 0, 0.70710678], [ 0,  0.70710678,  0, -0.70710678], [ 0.70710678,  0, -0.70710678,  0]]'...\n",
      "Cat state generated\n",
      "check = (0.6205445805637455+0j)\n",
      "Correct!\n",
      "Running test case 1 with input '[[-0.00202114,  0.99211964, -0.05149589, -0.11420469], [-0.13637119, -0.1236727 , -0.30532593, -0.93428263], [0.89775373,  0.00794205, -0.363445  ,  0.24876274], [ 0.41885207, -0.01845563, -0.8786535 ,  0.22845207]]'...\n",
      "Cat state generated\n",
      "check = (0.6205445805637455+0j)\n",
      "Correct!\n"
     ]
    }
   ],
   "source": [
    "import json\n",
    "import pennylane as qml\n",
    "import pennylane.numpy as np\n",
    "\n",
    "dev = qml.device('default.qubit', wires = ['atom', 'cat'])\n",
    "\n",
    "@qml.qnode(dev)\n",
    "def evolve_atom_cat(unitary, params):\n",
    "    qml.QubitUnitary(unitary, wires=['atom', 'cat'])\n",
    "    qml.U3(params[0], params[1], params[2], wires='atom')\n",
    "    return qml.state()\n",
    "\n",
    "def u3_parameters(unitary):\n",
    "    opt = qml.GradientDescentOptimizer()\n",
    "    params = np.array([0,0,0])\n",
    "\n",
    "    def cf(params):\n",
    "        state = np.array(evolve_atom_cat(unitary, params))\n",
    "        return np.abs(state[0] - state[1])\n",
    "\n",
    "    for i in range(1000):\n",
    "        params = opt.step(cf, params)\n",
    "\n",
    "    return np.array(params)\n",
    "\n",
    "\n",
    "# These functions are responsible for testing the solution.\n",
    "def run(test_case_input: str) -> str:\n",
    "\n",
    "    ins = json.loads(test_case_input)\n",
    "    output = u3_parameters(ins).tolist()\n",
    "\n",
    "    if np.isclose(evolve_atom_cat(ins,output)[0], evolve_atom_cat(ins,output)[1], atol = 5e-2):\n",
    "        return \"Cat state generated\"\n",
    "    return \"Cat state not generated\"\n",
    "\n",
    "def check(solution_output: str, expected_output: str) -> None:\n",
    "    def unitary_circ():\n",
    "        qml.Hadamard(wires=0)\n",
    "        qml.CNOT(wires=[0,1])\n",
    "    \n",
    "    U1 = qml.matrix(unitary_circ)()\n",
    "    print (\"check =\", evolve_atom_cat(U1,[1,1,1])[0])\n",
    "    assert np.isclose(evolve_atom_cat(U1,[1,1,1])[0], 0.62054458), \"Your evolve_atom_cat circuit does not do what is expected.\"\n",
    "    assert solution_output == expected_output, \"Your parameters do not generate a Schrodinger cat\"\n",
    "\n",
    "\n",
    "# These are the public test cases\n",
    "test_cases = [\n",
    "    ('[[ 0.70710678,  0 ,  0.70710678,  0], [0 ,0.70710678, 0, 0.70710678], [ 0,  0.70710678,  0, -0.70710678], [ 0.70710678,  0, -0.70710678,  0]]', 'Cat state generated'),\n",
    "    ('[[-0.00202114,  0.99211964, -0.05149589, -0.11420469], [-0.13637119, -0.1236727 , -0.30532593, -0.93428263], [0.89775373,  0.00794205, -0.363445  ,  0.24876274], [ 0.41885207, -0.01845563, -0.8786535 ,  0.22845207]]', 'Cat state generated')\n",
    "]\n",
    "\n",
    "# This will run the public test cases locally\n",
    "for i, (input_, expected_output) in enumerate(test_cases):\n",
    "    print(f\"Running test case {i} with input '{input_}'...\")\n",
    "\n",
    "    try:\n",
    "        output = run(input_)\n",
    "        print (output)\n",
    "    except Exception as exc:\n",
    "        print(f\"Runtime Error. {exc}\")\n",
    "\n",
    "    else:\n",
    "        if message := check(output, expected_output):\n",
    "            print(f\"Wrong Answer. Have: '{output}'. Want: '{expected_output}'.\")\n",
    "\n",
    "        else:\n",
    "            print(\"Correct!\")"
   ]
  }
 ],
 "metadata": {
  "kernelspec": {
   "display_name": "QCML",
   "language": "python",
   "name": "python3"
  },
  "language_info": {
   "codemirror_mode": {
    "name": "ipython",
    "version": 3
   },
   "file_extension": ".py",
   "mimetype": "text/x-python",
   "name": "python",
   "nbconvert_exporter": "python",
   "pygments_lexer": "ipython3",
   "version": "3.9.16"
  }
 },
 "nbformat": 4,
 "nbformat_minor": 2
}

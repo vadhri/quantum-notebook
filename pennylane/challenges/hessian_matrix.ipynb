{
 "cells": [
  {
   "cell_type": "markdown",
   "metadata": {},
   "source": [
    "Calculate a hessian matrix using quantum circuit. \n",
    "\n",
    "- https://pennylane.ai/blog/2021/04/how-to-calculate-the-hessian-of-a-classical-quantum-hybrid-model/\n",
    "- https://en.wikipedia.org/wiki/Hessian_matrix\n",
    "- https://docs.pennylane.ai/en/stable/code/api/pennylane.gradients.param_shift_hessian.html"
   ]
  },
  {
   "cell_type": "code",
   "execution_count": 36,
   "metadata": {},
   "outputs": [
    {
     "name": "stdout",
     "output_type": "stream",
     "text": [
      "Running test case 0 with input '[3,[0.1,0.2,0.1,0.2,0.7]]'...\n",
      "[[0.01271, 0.0, 0.01271, 0.00629, 0.00151], [0.0, -0.62104, 0.07695, 0.12481, -0.60364], [0.01271, 0.07695, -0.60833, -0.62762, -0.07254], [0.00629, 0.12481, -0.62762, 0.13752, -0.04442], [0.00151, -0.60364, -0.07254, -0.04442, -0.60833]]\n",
      "Correct!\n",
      "Running test case 1 with input '[2,[0.3, 1.1, 0.4, 1.3]]'...\n",
      "[[-0.0, 0.0, -0.0, 0.0], [0.0, -0.12134, 0.0, 0.85873], [-0.0, 0.0, -0.0, 0.0], [0.0, 0.85873, 0.0, -0.12134]]\n",
      "Correct!\n"
     ]
    }
   ],
   "source": [
    "import json\n",
    "import pennylane as qml\n",
    "import pennylane.numpy as np\n",
    "\n",
    "def compute_hessian(num_wires, w):\n",
    "    num_wires = len(w)-2\n",
    "    dev = qml.device(\"default.qubit\", wires=num_wires)\n",
    "\n",
    "    @qml.qnode(dev)\n",
    "    def variational_circuit(params):\n",
    "        for wire in range(num_wires):\n",
    "            qml.RX(params[wire], wires=wire)\n",
    "\n",
    "        for wire in range(num_wires-1):\n",
    "            qml.CNOT(wires=[wire, wire+1])\n",
    "        \n",
    "        qml.CNOT(wires=[num_wires-1, 0])\n",
    "\n",
    "        qml.RY(params[num_wires], wires=1)\n",
    "        \n",
    "        for wire in range(num_wires-1):\n",
    "            qml.CNOT(wires=[wire, wire+1])\n",
    "    \n",
    "        qml.CNOT(wires=[num_wires-1, 0])\n",
    "\n",
    "        qml.RX(params[num_wires+1], wires=num_wires-1)\n",
    "    \n",
    "        return [qml.expval(qml.PauliZ(0) @ qml.PauliZ(num_wires-1))]\n",
    "\n",
    "    return np.round(qml.gradients.param_shift_hessian(variational_circuit)(w), 5)\n",
    "\n",
    "def run(test_case_input: str) -> str:\n",
    "    ins = json.loads(test_case_input)\n",
    "    wires = ins[0]\n",
    "    weights = np.array(ins[1], requires_grad = True)\n",
    "    output = compute_hessian(wires, weights)\n",
    "    \n",
    "    if isinstance(output,(tuple)):\n",
    "        output = np.array(output).numpy().round(3)    \n",
    "        return str([elem.tolist() for elem in output])\n",
    "    \n",
    "    elif isinstance(output,(np.tensor)):\n",
    "        \n",
    "        return str(output.tolist())\n",
    "    \n",
    "def check(solution_output: str, expected_output: str) -> None:\n",
    "    solution_output = json.loads(solution_output)\n",
    "    expected_output = json.loads(expected_output)\n",
    "    \n",
    "    assert np.allclose(solution_output, expected_output, atol=1e-2), \"Your function does not calculate the Hessian correctly.\"\n",
    "\n",
    "\n",
    "# These are the public test cases\n",
    "test_cases = [\n",
    "    ('[3,[0.1,0.2,0.1,0.2,0.7]]', '[[0.013, 0.0, 0.013, 0.006, 0.002], [0.0, -0.621, 0.077, 0.125, -0.604], [0.013, 0.077, -0.608, -0.628, -0.073], [0.006, 0.125, -0.628, 0.138, -0.044], [0.002, -0.604, -0.073, -0.044, -0.608]]'),\n",
    "    ('[2,[0.3, 1.1, 0.4, 1.3]]', '[[0.0, 0.0, -0.0, 0.0], [0.0, -0.121, 0.0, 0.859], [0.0, 0.0, 0.0, 0.0], [0.0, 0.859, 0.0, -0.121]]')\n",
    "]\n",
    "\n",
    "# This will run the public test cases locally\n",
    "for i, (input_, expected_output) in enumerate(test_cases):\n",
    "    print(f\"Running test case {i} with input '{input_}'...\")\n",
    "\n",
    "    try:\n",
    "        output = run(input_)\n",
    "        print (output)\n",
    "    except Exception as exc:\n",
    "        print(f\"Runtime Error. {exc}\")\n",
    "\n",
    "    else:\n",
    "        if message := check(output, expected_output):\n",
    "            print(f\"Wrong Answer. Have: '{output}'. Want: '{expected_output}'.\")\n",
    "\n",
    "        else:\n",
    "            print(\"Correct!\")"
   ]
  },
  {
   "cell_type": "code",
   "execution_count": 27,
   "metadata": {},
   "outputs": [
    {
     "name": "stdout",
     "output_type": "stream",
     "text": [
      "0: ──RX(1.00)─╭●────╭X───────────╭●────╭X───────────┤ ╭<Z@Z>\n",
      "1: ──RX(2.00)─╰X─╭●─│───RY(4.00)─╰X─╭●─│────────────┤ │     \n",
      "2: ──RX(3.00)────╰X─╰●──────────────╰X─╰●──RX(5.00)─┤ ╰<Z@Z>\n"
     ]
    }
   ],
   "source": [
    "num_wires=3\n",
    "dev = qml.device(\"default.qubit\", wires=num_wires)\n",
    "\n",
    "@qml.qnode(dev)\n",
    "def variational_circuit(params):\n",
    "    for wire in range(num_wires):\n",
    "        qml.RX(params[wire], wires=wire)\n",
    "\n",
    "    for wire in range(num_wires-1):\n",
    "        qml.CNOT(wires=[wire, wire+1])\n",
    "    \n",
    "    qml.CNOT(wires=[num_wires-1, 0])\n",
    "\n",
    "    qml.RY(params[num_wires], wires=1)\n",
    "    \n",
    "    for wire in range(num_wires-1):\n",
    "        qml.CNOT(wires=[wire, wire+1])\n",
    "\n",
    "    qml.CNOT(wires=[num_wires-1, 0])\n",
    "\n",
    "    qml.RX(params[num_wires+1], wires=num_wires-1)\n",
    "\n",
    "    return [qml.expval(qml.PauliZ(0) @ qml.PauliZ(num_wires-1))]\n",
    "\n",
    "print(qml.draw(variational_circuit)([1,2,3,4,5]))"
   ]
  }
 ],
 "metadata": {
  "kernelspec": {
   "display_name": "QCML",
   "language": "python",
   "name": "python3"
  },
  "language_info": {
   "codemirror_mode": {
    "name": "ipython",
    "version": 3
   },
   "file_extension": ".py",
   "mimetype": "text/x-python",
   "name": "python",
   "nbconvert_exporter": "python",
   "pygments_lexer": "ipython3",
   "version": "3.9.16"
  }
 },
 "nbformat": 4,
 "nbformat_minor": 2
}

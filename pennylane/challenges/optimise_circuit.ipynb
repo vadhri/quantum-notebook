{
 "cells": [
  {
   "cell_type": "markdown",
   "metadata": {},
   "source": [
    "Find the minimum expectation value parameters of a variational quantum circuit."
   ]
  },
  {
   "cell_type": "code",
   "execution_count": 50,
   "metadata": {},
   "outputs": [
    {
     "name": "stdout",
     "output_type": "stream",
     "text": [
      "Running test case 0 with input '[0.863327072347624,0.0167108057202516,0.07991447085492759,0.0854049026262154,0.0167108057202516,0.8237963773906136,-0.07695947154193797,0.03131548733285282,0.07991447085492759,-0.07695947154193795,0.8355417021014687,-0.11345916130631205,0.08540490262621539,0.03131548733285283,-0.11345916130631205,0.758156886827099]'...\n",
      "iter =  0 cost =  0.8983867690643812\n",
      "iter =  500 cost =  0.617454135843657\n",
      "iter =  1000 cost =  0.6174534088688909\n",
      "iter =  1500 cost =  0.6174534088307673\n",
      "Correct!\n",
      "Running test case 1 with input '[0.32158897156285354,-0.20689268438270836,0.12366748295758379,-0.11737425017261123,-0.20689268438270836,0.7747346055276305,-0.05159966365446514,0.08215539696259792,0.12366748295758379,-0.05159966365446514,0.5769050487087416,0.3853362904758938,-0.11737425017261123,0.08215539696259792,0.3853362904758938,0.3986256655167206]'...\n",
      "iter =  0 cost =  0.314257943347217\n",
      "iter =  500 cost =  0.0024648812008908763\n",
      "iter =  1000 cost =  0.0024648812008859922\n",
      "iter =  1500 cost =  0.002464881200885996\n",
      "Correct!\n"
     ]
    }
   ],
   "source": [
    "import json\n",
    "import pennylane as qml\n",
    "import pennylane.numpy as np\n",
    "\n",
    "WIRES = 2\n",
    "LAYERS = 5\n",
    "NUM_PARAMETERS = LAYERS * WIRES * 3\n",
    "\n",
    "initial_params = np.random.random(NUM_PARAMETERS)\n",
    "\n",
    "def variational_circuit(params,hamiltonian):\n",
    "    parameters = params.reshape((LAYERS, WIRES, 3))\n",
    "    qml.templates.StronglyEntanglingLayers(parameters, wires=range(WIRES))\n",
    "    return qml.expval(qml.Hermitian(hamiltonian, wires = [0,1]))  \n",
    "\n",
    "def optimize_circuit(params,hamiltonian):\n",
    "    dev = qml.device('default.qubit', wires=WIRES)\n",
    "    opt = qml.GradientDescentOptimizer(0.1)\n",
    "         \n",
    "    def cf(params):\n",
    "        return variational_circuit(params, hamiltonian)\n",
    "    \n",
    "    cost_function = qml.QNode(cf, dev)\n",
    "\n",
    "    for i in range(2000):\n",
    "        params = opt.step(cost_function, params)\n",
    "        if i % 500 == 0:\n",
    "            output = cost_function(params)\n",
    "            print (\"iter = \", i, \"cost = \", output)\n",
    "\n",
    "    return output\n",
    "\n",
    "\n",
    "# These functions are responsible for testing the solution.\n",
    "def run(test_case_input: str) -> str:\n",
    "       \n",
    "    ins = np.array(json.loads(test_case_input), requires_grad = False)\n",
    "    hamiltonian = np.array(ins,float).reshape((2 ** WIRES), (2 ** WIRES))\n",
    "    np.random.seed(1967)\n",
    "    initial_params = np.random.random(NUM_PARAMETERS)\n",
    "    out = str(optimize_circuit(initial_params,hamiltonian))    \n",
    "    \n",
    "    return out\n",
    "\n",
    "\n",
    "def check(solution_output: str, expected_output: str) -> None:\n",
    "    solution_output = json.loads(solution_output)\n",
    "    expected_output = json.loads(expected_output)\n",
    "    assert np.isclose(solution_output, expected_output, rtol=5e-2)\n",
    "\n",
    "\n",
    "# These are the public test cases\n",
    "test_cases = [\n",
    "    ('[0.863327072347624,0.0167108057202516,0.07991447085492759,0.0854049026262154,0.0167108057202516,0.8237963773906136,-0.07695947154193797,0.03131548733285282,0.07991447085492759,-0.07695947154193795,0.8355417021014687,-0.11345916130631205,0.08540490262621539,0.03131548733285283,-0.11345916130631205,0.758156886827099]', '0.61745341'),\n",
    "    ('[0.32158897156285354,-0.20689268438270836,0.12366748295758379,-0.11737425017261123,-0.20689268438270836,0.7747346055276305,-0.05159966365446514,0.08215539696259792,0.12366748295758379,-0.05159966365446514,0.5769050487087416,0.3853362904758938,-0.11737425017261123,0.08215539696259792,0.3853362904758938,0.3986256655167206]', '0.00246488')\n",
    "]\n",
    "\n",
    "# This will run the public test cases locally\n",
    "for i, (input_, expected_output) in enumerate(test_cases):\n",
    "    print(f\"Running test case {i} with input '{input_}'...\")\n",
    "\n",
    "    try:\n",
    "        output = run(input_)\n",
    "\n",
    "    except Exception as exc:\n",
    "        print(f\"Runtime Error. {exc}\")\n",
    "\n",
    "    else:\n",
    "        if message := check(output, expected_output):\n",
    "            print(f\"Wrong Answer. Have: '{output}'. Want: '{expected_output}'.\")\n",
    "\n",
    "        else:\n",
    "            print(\"Correct!\")"
   ]
  }
 ],
 "metadata": {
  "kernelspec": {
   "display_name": "QCML",
   "language": "python",
   "name": "python3"
  },
  "language_info": {
   "codemirror_mode": {
    "name": "ipython",
    "version": 3
   },
   "file_extension": ".py",
   "mimetype": "text/x-python",
   "name": "python",
   "nbconvert_exporter": "python",
   "pygments_lexer": "ipython3",
   "version": "3.9.16"
  }
 },
 "nbformat": 4,
 "nbformat_minor": 2
}

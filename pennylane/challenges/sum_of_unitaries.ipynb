{
 "cells": [
  {
   "cell_type": "code",
   "execution_count": 18,
   "metadata": {},
   "outputs": [
    {
     "name": "stdout",
     "output_type": "stream",
     "text": [
      "Running test case 0 with input '[[[ 0.70710678,  0.70710678], [ 0.70710678, -0.70710678]],[[1, 0], [0, -1]], 1, 3]'...\n",
      "Correct!\n"
     ]
    },
    {
     "data": {
      "image/png": "[encoded data removed]",
      "text/plain": [
       "<Figure size 700x300 with 1 Axes>"
      ]
     },
     "metadata": {},
     "output_type": "display_data"
    }
   ],
   "source": [
    "import json\n",
    "import pennylane as qml\n",
    "import pennylane.numpy as np\n",
    "def W(alpha, beta):\n",
    "    A = np.sqrt(alpha+beta)\n",
    "    \n",
    "    W_matrix = np.array([\n",
    "        [np.sqrt(alpha), -np.sqrt(beta)],\n",
    "        [np.sqrt(beta),np.sqrt(alpha)]])\n",
    "    \n",
    "    W_matrix = W_matrix/A\n",
    "\n",
    "    return W_matrix\n",
    "\n",
    "dev = qml.device('default.qubit', wires = 2)\n",
    "\n",
    "@qml.qnode(dev)\n",
    "def linear_combination(U, V,  alpha, beta):\n",
    "    unitary = W(alpha,beta)\n",
    "    qml.QubitUnitary(unitary, wires=0)\n",
    "    qml.ControlledQubitUnitary(U, control_wires=[0], control_values=\"0\", wires=1)\n",
    "    qml.ControlledQubitUnitary(V, control_wires=[0], control_values=\"1\", wires=1)\n",
    "    qml.adjoint(qml.QubitUnitary)(unitary, wires=0)\n",
    "    return qml.probs(wires=0)\n",
    "\n",
    "def run(test_case_input: str) -> str:\n",
    "    dev = qml.device('default.qubit', wires = 2)\n",
    "    ins = json.loads(test_case_input)\n",
    "    output = linear_combination(*ins)[0].numpy()\n",
    "    qml.draw_mpl(linear_combination, wires=[0,1])(*ins)\n",
    "    return str(output)\n",
    "\n",
    "def check(solution_output: str, expected_output: str) -> None:\n",
    "    solution_output = json.loads(solution_output)\n",
    "    expected_output = json.loads(expected_output)\n",
    "    assert np.allclose(\n",
    "        solution_output, expected_output, atol=1e-3\n",
    "    ), \"Your circuit doesn't look quite right \"\n",
    "\n",
    "# These are the public test cases\n",
    "test_cases = [\n",
    "    ('[[[ 0.70710678,  0.70710678], [ 0.70710678, -0.70710678]],[[1, 0], [0, -1]], 1, 3]', '0.8901650422902458')\n",
    "]\n",
    "# This will run the public test cases locally\n",
    "for i, (input_, expected_output) in enumerate(test_cases):\n",
    "    print(f\"Running test case {i} with input '{input_}'...\")\n",
    "\n",
    "    try:\n",
    "        output = run(input_)\n",
    "\n",
    "    except Exception as exc:\n",
    "        print(f\"Runtime Error. {exc}\")\n",
    "\n",
    "    else:\n",
    "        if message := check(output, expected_output):\n",
    "            print(f\"Wrong Answer. Have: '{output}'. Want: '{expected_output}'.\")\n",
    "\n",
    "        else:\n",
    "            print(\"Correct!\")"
   ]
  }
 ],
 "metadata": {
  "kernelspec": {
   "display_name": "QCML",
   "language": "python",
   "name": "python3"
  },
  "language_info": {
   "codemirror_mode": {
    "name": "ipython",
    "version": 3
   },
   "file_extension": ".py",
   "mimetype": "text/x-python",
   "name": "python",
   "nbconvert_exporter": "python",
   "pygments_lexer": "ipython3",
   "version": "3.9.16"
  }
 },
 "nbformat": 4,
 "nbformat_minor": 2
}

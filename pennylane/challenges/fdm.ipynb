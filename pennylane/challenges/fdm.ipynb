{
 "cells": [
  {
   "cell_type": "code",
   "execution_count": 38,
   "metadata": {},
   "outputs": [
    {
     "name": "stdout",
     "output_type": "stream",
     "text": [
      "[1, 0, 0, 0]\n",
      "[7.2, -16.2, 10.8, 0]\n",
      "[0, 6.230769230769231, -16.615384615384617, 11.76923076923077]\n",
      "[0, 0, 0, 1]\n",
      "0\n",
      "1.7999999999999998\n",
      "1.3846153846153846\n",
      "0.5\n"
     ]
    },
    {
     "data": {
      "text/plain": [
       "array([1.23358114e-16, 9.25925926e-02, 3.05555556e-01, 5.00000000e-01])"
      ]
     },
     "execution_count": 38,
     "metadata": {},
     "output_type": "execute_result"
    }
   ],
   "source": [
    "import numpy as np \n",
    "\n",
    "A_x = lambda x: (4*x)/(1+x**2)\n",
    "B_x = lambda x: 2/(1+x**2)\n",
    "C_x = lambda x: 2/(1+x**2)\n",
    "\n",
    "x = [1/3,2/3]\n",
    "\n",
    "l = lambda h,i: ((1/(h**2)) - (A_x(i)/(2*h)))\n",
    "r = lambda h,i: ((1/(h**2)) + (A_x(i)/(2*h)))\n",
    "m = lambda h,i: (B_x(i) - (2/(h**2)))\n",
    "\n",
    "a= [\n",
    "    [1,0,0,0],\n",
    "    [0,0,0,0],\n",
    "    [0,0,0,0],\n",
    "    [0,0,0,1]\n",
    "]\n",
    "\n",
    "a[1][0], a[1][1], a[1][2] =l(1/3,1/3), m(1/3, 1/3), r(1/3, 1/3)\n",
    "a[2][1], a[2][2], a[2][3]  =l(1/3,2/3), m(1/3, 2/3), r(1/3, 2/3)\n",
    "\n",
    "b =  [0,0,0,1/2]\n",
    "b[1] = C_x(1/3)\n",
    "b[2] = C_x(2/3)\n",
    "\n",
    "for i in a:\n",
    "    print (i)\n",
    "\n",
    "for j in b:\n",
    "    print (j)\n",
    "\n",
    "np.linalg.solve(a,b)\n"
   ]
  },
  {
   "cell_type": "code",
   "execution_count": 3,
   "metadata": {},
   "outputs": [
    {
     "name": "stdout",
     "output_type": "stream",
     "text": [
      "[1, 0, 0, 0, 0]\n",
      "[15.333333333333334, -33.333333333333336, 16.666666666666668, 0, 0]\n",
      "[0, 14.0, -34.0, 18.0, 0]\n",
      "[0, 0, 14.0, -34.0, 18.0]\n",
      "[0, 0, 0, 0, 1]\n",
      "1\n",
      "0.75\n",
      "0.5\n",
      "0.25\n",
      "3\n"
     ]
    },
    {
     "data": {
      "text/plain": [
       "array([1.        , 1.30743243, 1.73986486, 2.2972973 , 3.        ])"
      ]
     },
     "execution_count": 3,
     "metadata": {},
     "output_type": "execute_result"
    }
   ],
   "source": [
    "import numpy as np \n",
    "\n",
    "A_x = lambda x: (x)/(1-x)\n",
    "B_x = lambda x: 1/(x-1)\n",
    "C_x = lambda x: (1-x)\n",
    "\n",
    "x = [0,25, 0,50, 0.75]\n",
    "\n",
    "l = lambda h,i: ((1/(h**2)) - (A_x(i)/(2*h)))\n",
    "r = lambda h,i: ((1/(h**2)) + (A_x(i)/(2*h)))\n",
    "m = lambda h,i: (B_x(i) - (2/(h**2)))\n",
    "\n",
    "a= [\n",
    "    [1,0,0,0,0],\n",
    "    [0,0,0,0,0],\n",
    "    [0,0,0,0,0],\n",
    "    [0,0,0,0,0],\n",
    "    [0,0,0,0,1]\n",
    "]\n",
    "\n",
    "a[1][0], a[1][1], a[1][2] =l(1/4,1/4), m(1/4, 1/4), r(1/4, 1/4)\n",
    "a[2][1], a[2][2], a[2][3]  =l(1/4,2/4), m(1/4,2/4), r(1/4,2/4)\n",
    "a[3][2], a[3][3], a[3][4]  =l(1/4,2/4), m(1/4,2/4), r(1/4,2/4)\n",
    "\n",
    "b =  [1,0,0,0,3]\n",
    "b[1] = C_x(1/4)\n",
    "b[2] = C_x(2/4)\n",
    "b[3] = C_x(3/4)\n",
    "\n",
    "for i in a:\n",
    "    print (i)\n",
    "\n",
    "for j in b:\n",
    "    print (j)\n",
    "\n",
    "np.linalg.solve(a,b)\n"
   ]
  }
 ],
 "metadata": {
  "kernelspec": {
   "display_name": "QCML",
   "language": "python",
   "name": "python3"
  },
  "language_info": {
   "codemirror_mode": {
    "name": "ipython",
    "version": 3
   },
   "file_extension": ".py",
   "mimetype": "text/x-python",
   "name": "python",
   "nbconvert_exporter": "python",
   "pygments_lexer": "ipython3",
   "version": "3.9.16"
  }
 },
 "nbformat": 4,
 "nbformat_minor": 2
}

{
 "cells": [
  {
   "cell_type": "code",
   "execution_count": 67,
   "metadata": {},
   "outputs": [
    {
     "name": "stdout",
     "output_type": "stream",
     "text": [
      "Running test case 0 with input '0.5'...\n",
      "outs =>  [0.8124999999999999, 0.18749999999999997]\n",
      "Correct!\n",
      "Running test case 1 with input '0.577350269'...\n",
      "outs =>  [0.7777777778507647, 0.2222222221492352]\n",
      "Correct!\n"
     ]
    },
    {
     "data": {
      "image/png": "[encoded data removed]",
      "text/plain": [
       "<Figure size 500x300 with 1 Axes>"
      ]
     },
     "metadata": {},
     "output_type": "display_data"
    },
    {
     "data": {
      "image/png": "[encoded data removed]",
      "text/plain": [
       "<Figure size 500x300 with 1 Axes>"
      ]
     },
     "metadata": {},
     "output_type": "display_data"
    }
   ],
   "source": [
    "import json\n",
    "import pennylane as qml\n",
    "import pennylane.numpy as np\n",
    "\n",
    "def beam_splitter(r):\n",
    "    t = np.sqrt(1-r**2)\n",
    "\n",
    "    return np.array([[t,r],\n",
    "                     [r,-t]])\n",
    "\n",
    "def beam_splitter_rt(r):\n",
    "    t = np.sqrt(1-r**2)\n",
    "\n",
    "    return np.array([[r,t], \n",
    "                   [t, -r]])\n",
    "\n",
    "\n",
    "dev = qml.device('default.qubit')\n",
    "\n",
    "@qml.qnode(dev)\n",
    "def mz_interferometer(r):\n",
    "    def beam_splitter_rt(r):\n",
    "        t = np.sqrt(1-r**2)\n",
    "\n",
    "        return np.array([[r,t], \n",
    "                    [t, -r]])    \n",
    "    qml.QubitUnitary(beam_splitter(r), wires=[1])\n",
    "    qml.ctrl(qml.QubitUnitary, control=[1], control_values=[1])(beam_splitter_rt(r), wires=[0])\n",
    "    return qml.probs([0])\n",
    "\n",
    "def run(test_case_input: str) -> str:\n",
    "    ins = json.loads(test_case_input)\n",
    "    outs = mz_interferometer(ins).tolist()\n",
    "    print (\"outs => \", outs)\n",
    "    qml.draw_mpl(mz_interferometer)(ins)\n",
    "    return str(outs)\n",
    "\n",
    "def check(solution_output: str, expected_output: str) -> None:\n",
    "    solution_output = json.loads(solution_output)\n",
    "    expected_output = json.loads(expected_output)\n",
    "    assert np.allclose(solution_output,expected_output), \"Not the correct probabilities\"\n",
    "\n",
    "# These are the public test cases\n",
    "test_cases = [\n",
    "    ('0.5', '[0.8125, 0.1875]'),\n",
    "    ('0.577350269', '[0.777778, 0.222222]')\n",
    "]\n",
    "\n",
    "# This will run the public test cases locally\n",
    "for i, (input_, expected_output) in enumerate(test_cases):\n",
    "    print(f\"Running test case {i} with input '{input_}'...\")\n",
    "\n",
    "    try:\n",
    "        output = run(input_)\n",
    "\n",
    "    except Exception as exc:\n",
    "        print(f\"Runtime Error. {exc}\")\n",
    "\n",
    "    else:\n",
    "        if message := check(output, expected_output):\n",
    "            print(f\"Wrong Answer. Have: '{output}'. Want: '{expected_output}'.\")\n",
    "\n",
    "        else:\n",
    "            print(\"Correct!\")"
   ]
  },
  {
   "cell_type": "code",
   "execution_count": 43,
   "metadata": {},
   "outputs": [
    {
     "name": "stdout",
     "output_type": "stream",
     "text": [
      "Running test case 0 with input '[[0.74199663, 0.17932039, 0.45677413], [0.28034464, 0.95989941], 0.999, 0.99, 0.98]'...\n",
      "[0.08584768105869747, 0.9141523318169253] [0.08584767923415959, 0.9141523336414634]\n",
      "Correct!\n",
      "Running test case 1 with input '[[0.09737041, 0.40230525, 0.64368839], [0.00111111, 0.99999938], 0.9, 0.95, 0.92]'...\n",
      "[0.06629469524528334, 0.9337053025174313] [0.06629469110239884, 0.9337053066603161]\n",
      "Correct!\n"
     ]
    }
   ],
   "source": [
    "\n",
    "dev = qml.device(\"default.qubit\", wires=[\"player1\", \"player2\", \"goalie\"])\n",
    "\n",
    "# Put any extra functions you want here\n",
    "\n",
    "def state_prep(player_coeffs, goalie_coeffs):\n",
    "    alpha, beta, kappa = player_coeffs\n",
    "    gamma, delta = 1,0\n",
    "    coeffs = [kappa*gamma, kappa*delta, alpha*gamma, alpha*delta, beta*gamma, beta*delta, kappa*gamma, kappa*delta]\n",
    "    qml.AmplitudeEmbedding(coeffs, wires=['player1', 'player2', 'goalie'])\n",
    "    \n",
    "@qml.qnode(dev)\n",
    "def save_percentage(player_coeffs, goalie_coeffs, x, y, z):\n",
    "    state_prep(player_coeffs, goalie_coeffs)\n",
    "\n",
    "    pm1 = qml.measure('player1')\n",
    "    pm2 = qml.measure('player2')\n",
    "\n",
    "    gamma, delta = np.array(goalie_coeffs)\n",
    "\n",
    "    def player_10():\n",
    "        qml.RY(np.arccos(np.sqrt(x)*gamma)*2, wires='goalie')\n",
    "\n",
    "    def player_01():\n",
    "        qml.RY(np.arccos(np.sqrt(y)*gamma)*2, wires='goalie')\n",
    "\n",
    "    def player_00_11():\n",
    "        qml.RY(np.arcsin(np.sqrt(z)*delta)*2, wires='goalie')\n",
    "        \n",
    "    qml.cond(pm1 > pm2, player_10, None)()\n",
    "    qml.cond(pm1 < pm2, player_01, None)()\n",
    "    qml.cond(pm1 == pm2, player_00_11, None)()\n",
    "\n",
    "    return qml.probs(wires=\"goalie\")\n",
    "# These functions are responsible for testing the solution.\n",
    "def run(test_case_input: str) -> str:\n",
    "    ins = json.loads(test_case_input)\n",
    "    player_coeffs, goalie_coeffs, x, y, z = ins\n",
    "    output = save_percentage(player_coeffs, goalie_coeffs, x, y, z).tolist()\n",
    "    return str(output)\n",
    "\n",
    "def check(solution_output: str, expected_output: str) -> None:\n",
    "    solution_output = json.loads(solution_output)\n",
    "    sp = solution_output\n",
    "    _sp = json.loads(expected_output)\n",
    "    print (sp, _sp)\n",
    "    ops = save_percentage.tape._ops\n",
    "    num_ops = len(ops)\n",
    "    num_cond = [op.name for op in ops].count('Conditional')\n",
    "    names = [op.name for op in ops]\n",
    "    state_prep_check = ('StatePrep' or 'MottonenStatePreparation' or 'AmplitudeEmbedding') in names\n",
    "\n",
    "    assert np.allclose(sp, _sp, rtol=1e-4), \"Your calculated save percentage is incorrect.\"\n",
    "    assert num_ops < 8, \"You used more than 7 operations in your save_percentage function.\"\n",
    "    assert num_ops > 2, \"You definitely need more than 2 operations...\"\n",
    "    # assert state_prep_check, \"You can use StatePrep, MottonenStatePreparation, or AmplitudeEmbedding to prepare states.\"\n",
    "    assert num_cond == 3, \"You haven't used exactly 3 qml.cond operators.\"\n",
    "\n",
    "# These are the public test cases\n",
    "test_cases = [\n",
    "    ('[[0.74199663, 0.17932039, 0.45677413], [0.28034464, 0.95989941], 0.999, 0.99, 0.98]', '[0.08584767923415959, 0.9141523336414634]'),\n",
    "    ('[[0.09737041, 0.40230525, 0.64368839], [0.00111111, 0.99999938], 0.9, 0.95, 0.92]', '[0.06629469110239884, 0.9337053066603161]')\n",
    "]\n",
    "\n",
    "# This will run the public test cases locally\n",
    "for i, (input_, expected_output) in enumerate(test_cases):\n",
    "    print(f\"Running test case {i} with input '{input_}'...\")\n",
    "\n",
    "    try:\n",
    "        output = run(input_)\n",
    "\n",
    "    except Exception as exc:\n",
    "        print(f\"Runtime Error. {exc}\")\n",
    "\n",
    "    else:\n",
    "        if message := check(output, expected_output):\n",
    "            print(f\"Wrong Answer. Have: '{output}'. Want: '{expected_output}'.\")\n",
    "\n",
    "        else:\n",
    "            print(\"Correct!\")"
   ]
  },
  {
   "cell_type": "code",
   "execution_count": 59,
   "metadata": {},
   "outputs": [
    {
     "data": {
      "text/plain": [
       "0.7499999999999999"
      ]
     },
     "execution_count": 59,
     "metadata": {},
     "output_type": "execute_result"
    }
   ],
   "source": [
    "np.sqrt(1-(0.5**2))**2"
   ]
  }
 ],
 "metadata": {
  "kernelspec": {
   "display_name": "QCML",
   "language": "python",
   "name": "python3"
  },
  "language_info": {
   "codemirror_mode": {
    "name": "ipython",
    "version": 3
   },
   "file_extension": ".py",
   "mimetype": "text/x-python",
   "name": "python",
   "nbconvert_exporter": "python",
   "pygments_lexer": "ipython3",
   "version": "3.9.16"
  }
 },
 "nbformat": 4,
 "nbformat_minor": 2
}

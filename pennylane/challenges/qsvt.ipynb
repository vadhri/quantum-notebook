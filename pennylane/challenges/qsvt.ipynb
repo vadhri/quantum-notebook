{
 "cells": [
  {
   "cell_type": "code",
   "execution_count": 40,
   "metadata": {},
   "outputs": [
    {
     "name": "stdout",
     "output_type": "stream",
     "text": [
      "Running test case 0 with input '[0.5,0.8,1.0,1.0]'...\n",
      "[[0.25, 1], [0.16000000000000003, 1]] [tensor(-0.85938156+1.64862098j, requires_grad=True), tensor(-0.84400977+1.86538498j, requires_grad=True)]\n",
      "Correct!\n",
      "Running test case 1 with input '[-0.20409113, -0.91173829, 0.91173829, 0.20409113]'...\n",
      "[[0.25, 1], [0.16000000000000003, 1]] [tensor(-0.875+2.77555756e-17j, requires_grad=True), tensor(-1.1-6.9388939e-17j, requires_grad=True)]\n",
      "Correct!\n"
     ]
    }
   ],
   "source": [
    "import json\n",
    "import pennylane as qml\n",
    "import pennylane.numpy as np\n",
    "\n",
    "# Write any helper functions you need\n",
    "\n",
    "\n",
    "def coefficients(angles):\n",
    "    def qsvt_output(a):\n",
    "        out = qml.matrix(qml.qsvt(a, angles, wires=[0]))\n",
    "        return out[0, 0]\n",
    "\n",
    "    # Put your code here\n",
    "    a_vals = [0.5,0.4]\n",
    "    q = [qsvt_output(a) for a in a_vals]  \n",
    "    a = [[a_vals[0]**2, 1], [a_vals[1]**2, 1]]\n",
    "    b = [q[0]/a_vals[0], q[1]/a_vals[1],] \n",
    "    return np.linalg.solve(a,b)\n",
    "# These functions are responsible for testing the solution.\n",
    "\n",
    "\n",
    "def run(test_case_input: str) -> str:\n",
    "    ins = np.array(json.loads(test_case_input))\n",
    "    coeffs = coefficients(ins)\n",
    "    outs = [[np.real(elem).numpy(), np.imag(elem).numpy()] for elem in coeffs]\n",
    "    \n",
    "    return str(outs)\n",
    "\n",
    "\n",
    "def check(solution_output: str, expected_output: str) -> None:\n",
    "    solution_output = json.loads(solution_output)\n",
    "    expected_output = json.loads(expected_output)\n",
    "\n",
    "    assert np.allclose(solution_output, expected_output, rtol = 1e-4)\n",
    "\n",
    "\n",
    "# These are the public test cases\n",
    "test_cases = [\n",
    "    ('[0.5,0.8,1.0,1.0]', '[[-0.1707976, -2.4084889], [-0.8166822, 2.2507432]]'),\n",
    "    ('[-0.20409113, -0.91173829, 0.91173829, 0.20409113]', '[[2.5,0],[-1.5,0]]')\n",
    "]\n",
    "\n",
    "# This will run the public test cases locally\n",
    "for i, (input_, expected_output) in enumerate(test_cases):\n",
    "    print(f\"Running test case {i} with input '{input_}'...\")\n",
    "\n",
    "    try:\n",
    "        output = run(input_)\n",
    "\n",
    "    except Exception as exc:\n",
    "        print(f\"Runtime Error. {exc}\")\n",
    "\n",
    "    else:\n",
    "        if message := check(output, expected_output):\n",
    "            print(f\"Wrong Answer. Have: '{output}'. Want: '{expected_output}'.\")\n",
    "\n",
    "        else:\n",
    "            print(\"Correct!\")"
   ]
  },
  {
   "cell_type": "code",
   "execution_count": 33,
   "metadata": {},
   "outputs": [
    {
     "data": {
      "text/plain": [
       "tensor([-1.02318744-2.40848883j, -0.17389392+2.25074319j], requires_grad=True)"
      ]
     },
     "execution_count": 33,
     "metadata": {},
     "output_type": "execute_result"
    }
   ],
   "source": [
    "-0.42969078+0.82431049j/0.5, -0.33760391+0.74615399j/0.4\n",
    "a=[[0.25, 1], [0.16,1]]\n",
    "b = [(-0.42969078+1.64862098j), (-0.33760391+1.865384975j)]\n",
    "\n",
    "np.linalg.solve(a, b)"
   ]
  }
 ],
 "metadata": {
  "kernelspec": {
   "display_name": "QCML",
   "language": "python",
   "name": "python3"
  },
  "language_info": {
   "codemirror_mode": {
    "name": "ipython",
    "version": 3
   },
   "file_extension": ".py",
   "mimetype": "text/x-python",
   "name": "python",
   "nbconvert_exporter": "python",
   "pygments_lexer": "ipython3",
   "version": "3.9.16"
  }
 },
 "nbformat": 4,
 "nbformat_minor": 2
}

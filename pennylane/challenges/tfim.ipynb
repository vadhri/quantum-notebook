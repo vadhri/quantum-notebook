{
 "cells": [
  {
   "cell_type": "code",
   "execution_count": 102,
   "metadata": {},
   "outputs": [
    {
     "name": "stdout",
     "output_type": "stream",
     "text": [
      "Running test case 0 with input '2'...\n",
      "[tensor(-0.1401572, requires_grad=True), tensor(-0.13926669, requires_grad=True), tensor(0.13837986, requires_grad=True), tensor(0.13749685, requires_grad=True), tensor(-0.13661778, requires_grad=True), tensor(0.13574279, requires_grad=True), tensor(-0.13487198, requires_grad=True), tensor(-0.13400546, requires_grad=True), tensor(0.13314336, requires_grad=True), tensor(-0.13228576, requires_grad=True), tensor(0.13143278, requires_grad=True), tensor(-0.13058449, requires_grad=True), tensor(0.129741, requires_grad=True), tensor(0.12890238, requires_grad=True), tensor(-0.12806872, requires_grad=True), tensor(-0.12724008, requires_grad=True), tensor(-0.12641655, requires_grad=True), tensor(-0.12559819, requires_grad=True), tensor(-0.12478505, requires_grad=True), tensor(-0.12397721, requires_grad=True), tensor(0.1231747, requires_grad=True), tensor(-0.12237759, requires_grad=True), tensor(-0.12158592, requires_grad=True), tensor(-0.12079972, requires_grad=True), tensor(0.12001905, requires_grad=True), tensor(0.11924393, requires_grad=True), tensor(-0.11847439, requires_grad=True), tensor(-0.11771047, requires_grad=True), tensor(0.11695218, requires_grad=True), tensor(0.11619955, requires_grad=True), tensor(0.1154526, requires_grad=True), tensor(-0.11471133, requires_grad=True), tensor(0.11397578, requires_grad=True), tensor(0.11324593, requires_grad=True), tensor(-0.1125218, requires_grad=True), tensor(-0.1118034, requires_grad=True), tensor(0.11109072, requires_grad=True), tensor(0.11038376, requires_grad=True), tensor(0.10968253, requires_grad=True), tensor(-0.108987, requires_grad=True), tensor(-0.10829718, requires_grad=True), tensor(-0.10761306, requires_grad=True), tensor(-0.10693462, requires_grad=True), tensor(0.10626185, requires_grad=True), tensor(-0.10559473, requires_grad=True), tensor(0.10493325, requires_grad=True), tensor(-0.10427738, requires_grad=True), tensor(0.10362711, requires_grad=True), tensor(-0.10298242, requires_grad=True), tensor(-0.10234327, requires_grad=True), tensor(0.10170965, requires_grad=True), tensor(-0.10108152, requires_grad=True), tensor(-0.10045886, requires_grad=True), tensor(0.09984165, requires_grad=True), tensor(-0.09922985, requires_grad=True), tensor(-0.09862342, requires_grad=True), tensor(0.09802235, requires_grad=True), tensor(-0.09742659, requires_grad=True), tensor(-0.09683611, requires_grad=True), tensor(0.09625088, requires_grad=True), tensor(-0.09567086, requires_grad=True), tensor(-0.09509602, requires_grad=True), tensor(-0.09452631, requires_grad=True), tensor(-0.09396171, requires_grad=True), tensor(0.09340218, requires_grad=True), tensor(0.09284767, requires_grad=True), tensor(-0.09229815, requires_grad=True), tensor(0.09175358, requires_grad=True), tensor(0.09121392, requires_grad=True), tensor(-0.09067913, requires_grad=True), tensor(-0.09014917, requires_grad=True), tensor(-0.089624, requires_grad=True), tensor(-0.08910358, requires_grad=True), tensor(0.08858787, requires_grad=True), tensor(-0.08807683, requires_grad=True), tensor(-0.08757041, requires_grad=True), tensor(0.08706859, requires_grad=True), tensor(-0.0865713, requires_grad=True), tensor(-0.08607853, requires_grad=True), tensor(0.08559021, requires_grad=True), tensor(-0.08510632, requires_grad=True), tensor(0.0846268, requires_grad=True), tensor(-0.08415163, requires_grad=True), tensor(-0.08368075, requires_grad=True), tensor(-0.08321414, requires_grad=True), tensor(0.08275174, requires_grad=True), tensor(0.08229351, requires_grad=True), tensor(0.08183942, requires_grad=True), tensor(-0.08138942, requires_grad=True), tensor(-0.08094348, requires_grad=True), tensor(-0.08050155, requires_grad=True), tensor(-0.0800636, requires_grad=True), tensor(-0.07962958, requires_grad=True), tensor(0.07919946, requires_grad=True), tensor(-0.07877319, requires_grad=True), tensor(-0.07835074, requires_grad=True), tensor(-0.07793206, requires_grad=True), tensor(0.07751712, requires_grad=True), tensor(0.07710588, requires_grad=True), tensor(-0.07669831, requires_grad=True), tensor(0.07629436, requires_grad=True), tensor(0.07589399, requires_grad=True), tensor(-0.07549718, requires_grad=True), tensor(0.07510387, requires_grad=True), tensor(0.07471405, requires_grad=True), tensor(0.07432766, requires_grad=True), tensor(0.07394467, requires_grad=True), tensor(-0.07356505, requires_grad=True), tensor(0.07318876, requires_grad=True), tensor(0.07281577, requires_grad=True), tensor(-0.07244604, requires_grad=True), tensor(-0.07207953, requires_grad=True), tensor(-0.07171622, requires_grad=True), tensor(0.07135607, requires_grad=True), tensor(-0.07099904, requires_grad=True), tensor(0.0706451, requires_grad=True), tensor(-0.07029422, requires_grad=True), tensor(-0.06994636, requires_grad=True), tensor(0.0696015, requires_grad=True), tensor(0.0692596, requires_grad=True), tensor(-0.06892063, requires_grad=True), tensor(-0.06858455, requires_grad=True), tensor(0.06825135, requires_grad=True), tensor(0.06792098, requires_grad=True), tensor(0.06759341, requires_grad=True), tensor(0.06726862, requires_grad=True), tensor(-0.06694658, requires_grad=True), tensor(0.06662725, requires_grad=True), tensor(0.06631061, requires_grad=True), tensor(-0.06599663, requires_grad=True), tensor(-0.06568528, requires_grad=True), tensor(0.06537653, requires_grad=True), tensor(-0.06507035, requires_grad=True), tensor(0.06476672, requires_grad=True), tensor(-0.06446561, requires_grad=True), tensor(0.06416698, requires_grad=True), tensor(-0.06387083, requires_grad=True), tensor(-0.06357711, requires_grad=True), tensor(-0.0632858, requires_grad=True), tensor(0.06299688, requires_grad=True), tensor(-0.06271033, requires_grad=True), tensor(0.06242611, requires_grad=True), tensor(-0.06214419, requires_grad=True), tensor(0.06186457, requires_grad=True), tensor(-0.06158721, requires_grad=True), tensor(-0.06131208, requires_grad=True), tensor(0.06103917, requires_grad=True), tensor(-0.06076845, requires_grad=True), tensor(-0.0604999, requires_grad=True), tensor(-0.06023349, requires_grad=True), tensor(-0.05996921, requires_grad=True), tensor(0.05970702, requires_grad=True), tensor(-0.05944691, requires_grad=True), tensor(0.05918885, requires_grad=True), tensor(0.05893283, requires_grad=True), tensor(-0.05867882, requires_grad=True), tensor(-0.05842681, requires_grad=True), tensor(0.05817676, requires_grad=True), tensor(-0.05792866, requires_grad=True), tensor(-0.05768249, requires_grad=True), tensor(-0.05743823, requires_grad=True), tensor(-0.05719586, requires_grad=True), tensor(0.05695536, requires_grad=True), tensor(-0.05671671, requires_grad=True), tensor(-0.05647989, requires_grad=True), tensor(-0.05624488, requires_grad=True), tensor(-0.05601166, requires_grad=True), tensor(-0.05578022, requires_grad=True), tensor(-0.05555053, requires_grad=True), tensor(0.05532259, requires_grad=True), tensor(-0.05509636, requires_grad=True), tensor(-0.05487183, requires_grad=True), tensor(-0.054649, requires_grad=True), tensor(0.05442782, requires_grad=True), tensor(0.0542083, requires_grad=True), tensor(0.05399042, requires_grad=True), tensor(0.05377415, requires_grad=True), tensor(-0.05355948, requires_grad=True), tensor(-0.0533464, requires_grad=True), tensor(0.05313489, requires_grad=True), tensor(-0.05292492, requires_grad=True)]\n",
      "0.20750000000000002 0.3535\n"
     ]
    },
    {
     "ename": "AssertionError",
     "evalue": "",
     "output_type": "error",
     "traceback": [
      "\u001b[0;31m---------------------------------------------------------------------------\u001b[0m",
      "\u001b[0;31mAssertionError\u001b[0m                            Traceback (most recent call last)",
      "Cell \u001b[0;32mIn[102], line 134\u001b[0m\n\u001b[1;32m    131\u001b[0m     \u001b[38;5;28mprint\u001b[39m(\u001b[38;5;124mf\u001b[39m\u001b[38;5;124m\"\u001b[39m\u001b[38;5;124mRuntime Error. \u001b[39m\u001b[38;5;132;01m{\u001b[39;00mexc\u001b[38;5;132;01m}\u001b[39;00m\u001b[38;5;124m\"\u001b[39m)\n\u001b[1;32m    133\u001b[0m \u001b[38;5;28;01melse\u001b[39;00m:\n\u001b[0;32m--> 134\u001b[0m     \u001b[38;5;28;01mif\u001b[39;00m message \u001b[38;5;241m:=\u001b[39m \u001b[43mcheck\u001b[49m\u001b[43m(\u001b[49m\u001b[43moutput\u001b[49m\u001b[43m,\u001b[49m\u001b[43m \u001b[49m\u001b[43mexpected_output\u001b[49m\u001b[43m)\u001b[49m:\n\u001b[1;32m    135\u001b[0m         \u001b[38;5;28mprint\u001b[39m(\u001b[38;5;124mf\u001b[39m\u001b[38;5;124m\"\u001b[39m\u001b[38;5;124mWrong Answer. Have: \u001b[39m\u001b[38;5;124m'\u001b[39m\u001b[38;5;132;01m{\u001b[39;00moutput\u001b[38;5;132;01m}\u001b[39;00m\u001b[38;5;124m'\u001b[39m\u001b[38;5;124m. Want: \u001b[39m\u001b[38;5;124m'\u001b[39m\u001b[38;5;132;01m{\u001b[39;00mexpected_output\u001b[38;5;132;01m}\u001b[39;00m\u001b[38;5;124m'\u001b[39m\u001b[38;5;124m.\u001b[39m\u001b[38;5;124m\"\u001b[39m)\n\u001b[1;32m    137\u001b[0m     \u001b[38;5;28;01melse\u001b[39;00m:\n",
      "Cell \u001b[0;32mIn[102], line 114\u001b[0m, in \u001b[0;36mcheck\u001b[0;34m(solution_output, expected_output)\u001b[0m\n\u001b[1;32m    112\u001b[0m expected_output \u001b[38;5;241m=\u001b[39m json\u001b[38;5;241m.\u001b[39mloads(expected_output)\n\u001b[1;32m    113\u001b[0m \u001b[38;5;28mprint\u001b[39m (solution_output, expected_output)\n\u001b[0;32m--> 114\u001b[0m \u001b[38;5;28;01massert\u001b[39;00m np\u001b[38;5;241m.\u001b[39misclose(solution_output, expected_output, rtol\u001b[38;5;241m=\u001b[39m\u001b[38;5;241m5e-3\u001b[39m)\n",
      "\u001b[0;31mAssertionError\u001b[0m: "
     ]
    }
   ],
   "source": [
    "import json\n",
    "import pennylane as qml\n",
    "import pennylane.numpy as np\n",
    "from pennylane import qaoa \n",
    "\n",
    "def finite_gs_energy(L, J, g, return_psi=False):\n",
    "    \"\"\"For comparison: obtain ground state energy from exact diagonalization.\n",
    "\n",
    "    Exponentially expensive in L, only works for small enough `L` <~ 20.\n",
    "    \"\"\"\n",
    "    if L >= 20:\n",
    "        warnings.warn(\"Large L: Exact diagonalization might take a long time!\")\n",
    "    # get single site operaors\n",
    "    sx = sparse.csr_matrix(np.array([[0., 1.], [1., 0.]]))\n",
    "    sz = sparse.csr_matrix(np.array([[1., 0.], [0., -1.]]))\n",
    "    id = sparse.csr_matrix(np.eye(2))\n",
    "    sx_list = []  # sx_list[i] = kron([id, id, ..., id, sx, id, .... id])\n",
    "    sz_list = []\n",
    "    for i_site in range(L):\n",
    "        x_ops = [id] * L\n",
    "        z_ops = [id] * L\n",
    "        x_ops[i_site] = sx\n",
    "        z_ops[i_site] = sz\n",
    "        X = x_ops[0]\n",
    "        Z = z_ops[0]\n",
    "        for j in range(1, L):\n",
    "            X = sparse.kron(X, x_ops[j], 'csr')\n",
    "            Z = sparse.kron(Z, z_ops[j], 'csr')\n",
    "        sx_list.append(X)\n",
    "        sz_list.append(Z)\n",
    "    H_zz = sparse.csr_matrix((2**L, 2**L))\n",
    "    H_x = sparse.csr_matrix((2**L, 2**L))\n",
    "    for i in range(L - 1):\n",
    "        H_zz = H_zz + sz_list[i] * sz_list[(i + 1) % L]\n",
    "    for i in range(L):\n",
    "        H_x = H_x + sx_list[i]\n",
    "    H = -J * H_zz - g * H_x\n",
    "    E, V = eigsh(H, k=1, which='SA', return_eigenvectors=True, ncv=20)\n",
    "    if return_psi:\n",
    "        return E[0], V[:, 0]\n",
    "    return E[0]\n",
    "\n",
    "class AbsMagnetization(qml.measurements.StateMeasurement):\n",
    "    \"\"\"Custom measurement for calculating the absolute magnetization.\"\"\"\n",
    "\n",
    "    def process_state(self, state):\n",
    "        \"\"\"Process the quantum state to compute the absolute magnetization.\n",
    "\n",
    "        Args:\n",
    "            state (array): Complex-valued quantum state vector.\n",
    "\n",
    "        Returns:\n",
    "            float: Absolute magnetization.\n",
    "        \"\"\"\n",
    "\n",
    "        # Get the number of qubits\n",
    "        num_qubits = int(np.log2(len(state)))\n",
    "\n",
    "        # Initialize the absolute magnetization\n",
    "        abs_magnetization = 0\n",
    "\n",
    "        # Loop over all possible spin configurations\n",
    "        for sigma in range(2 ** num_qubits):\n",
    "            sigma_binary = bin(sigma)[2:].zfill(num_qubits)  # Convert to binary\n",
    "            sigma_state = np.array([int(bit) for bit in sigma_binary])  # Convert to array\n",
    "\n",
    "            # Compute the expectation value of the Pauli Z operator for this spin configuration\n",
    "            expectation = np.abs(np.vdot(state, np.kron([1], [1] * (2 ** num_qubits - 1)) @ np.kron([1], np.diag([(-1) ** bit for bit in sigma_state])) @ state)) ** 2\n",
    "\n",
    "            # Add the contribution to the absolute magnetization\n",
    "            abs_magnetization += expectation\n",
    "\n",
    "        return abs_magnetization\n",
    "def tfim_ground_state(num_qubits, h):\n",
    "    g, v = finite_gs_energy(num_qubits, -1,-h, True)\n",
    "    return v\n",
    "def magnetization(num_qubits, h):\n",
    "    ground_state_vector = tfim_ground_state(num_qubits, h)\n",
    "    # Put your code here #\n",
    "    ground_state_vector = np.array(ground_state_vector)\n",
    "\n",
    "    # Calculate the total magnetization\n",
    "    total_magnetization = np.sum(ground_state_vector)\n",
    "\n",
    "    # Calculate the average magnetization per site\n",
    "    average_magnetization = total_magnetization / len(ground_state_vector)\n",
    "    return average_magnetization\n",
    "\n",
    "def critical_point_estimate(mags, h_values):\n",
    "    differences = [np.abs(mags[i] - mags[i + 1]) for i in range(len(mags) - 1)]\n",
    "    ind = np.argmax(np.array(differences))\n",
    "\n",
    "    h_c = np.mean([h_values[ind], h_values[ind + 1]])\n",
    "    return h_c\n",
    "\n",
    "\n",
    "# These functions are responsible for testing the solution.\n",
    "def run(test_case_input: str) -> str:\n",
    "    num_qubits = json.loads(test_case_input)\n",
    "    h_values = np.arange(0.2, 1.1, 0.005)\n",
    "    mags = []\n",
    "\n",
    "    for h in h_values:\n",
    "        mags.append(magnetization(num_qubits, h) / num_qubits)\n",
    "    print (mags)\n",
    "    output = critical_point_estimate(np.array(mags), h_values)\n",
    "    return str(output)\n",
    "\n",
    "\n",
    "def check(solution_output: str, expected_output: str) -> None:\n",
    "    solution_output = json.loads(solution_output)\n",
    "    expected_output = json.loads(expected_output)\n",
    "    print (solution_output, expected_output)\n",
    "    assert np.isclose(solution_output, expected_output, rtol=5e-3)\n",
    "\n",
    "\n",
    "# These are the public test cases\n",
    "test_cases = [\n",
    "    ('2', '0.3535'),\n",
    "    # ('5', '0.6735'),\n",
    "]\n",
    "\n",
    "# This will run the public test cases locally\n",
    "for i, (input_, expected_output) in enumerate(test_cases):\n",
    "    print(f\"Running test case {i} with input '{input_}'...\")\n",
    "\n",
    "    try:\n",
    "        output = run(input_)\n",
    "\n",
    "    except Exception as exc:\n",
    "        print(f\"Runtime Error. {exc}\")\n",
    "\n",
    "    else:\n",
    "        if message := check(output, expected_output):\n",
    "            print(f\"Wrong Answer. Have: '{output}'. Want: '{expected_output}'.\")\n",
    "\n",
    "        else:\n",
    "            print(\"Correct!\")"
   ]
  },
  {
   "cell_type": "code",
   "execution_count": 73,
   "metadata": {},
   "outputs": [
    {
     "data": {
      "text/plain": [
       "0.35416666666666696"
      ]
     },
     "execution_count": 73,
     "metadata": {},
     "output_type": "execute_result"
    }
   ],
   "source": [
    "1.0625000000000009/3"
   ]
  },
  {
   "cell_type": "code",
   "execution_count": 91,
   "metadata": {},
   "outputs": [
    {
     "name": "stdout",
     "output_type": "stream",
     "text": [
      "[[-1. +0.j -0.2+0.j  0. +0.j  0. +0.j]\n",
      " [-0.2+0.j  1. +0.j  0. +0.j  0. +0.j]\n",
      " [ 0. +0.j  0. +0.j  1. +0.j -0.2+0.j]\n",
      " [ 0. +0.j  0. +0.j -0.2+0.j -1. +0.j]]\n",
      "[[ 0.   0.   0.   0. ]\n",
      " [ 0.  -0.2  0.   0. ]\n",
      " [ 0.   0.  -0.2  0. ]\n",
      " [ 0.   0.   0.  -2.4]]\n",
      "[-2.4 -0.2 -0.2  0. ] [[0. 0. 0. 1.]\n",
      " [0. 1. 0. 0.]\n",
      " [0. 0. 1. 0.]\n",
      " [1. 0. 0. 0.]]\n"
     ]
    },
    {
     "data": {
      "text/plain": [
       "tensor(0., requires_grad=True)"
      ]
     },
     "execution_count": 91,
     "metadata": {},
     "output_type": "execute_result"
    }
   ],
   "source": [
    "ch = [qml.PauliZ(0)@qml.PauliZ(1), qml.PauliX(1) ]\n",
    "coeff = [-1, -h]\n",
    "\n",
    "cost_hamiltonian = qml.Hamiltonian(coeff[::-1], ch[::-1])\n",
    "cost_hamiltonian = np.matrix(qml.matrix(cost_hamiltonian))\n",
    "print (cost_hamiltonian)\n",
    "N = 2\n",
    "B = 0.2\n",
    "J = 1\n",
    "\n",
    "# Initialize the Hamiltonian matrix\n",
    "H = np.zeros((2**N, 2**N))\n",
    "\n",
    "# Loop over all possible spin configurations\n",
    "for i in range(2**N):\n",
    "    spin_config = np.array([int(x) for x in bin(i)[2:].zfill(N)])  # Convert integer to binary representation\n",
    "    \n",
    "    # Calculate the energy contribution from nearest neighbor interactions\n",
    "    for j in range(N):\n",
    "        H[i, i] += -B * spin_config[j]  # External magnetic field term\n",
    "        H[i, i] += -J * spin_config[j] * spin_config[(j+1) % N]  # Interaction term\n",
    "        \n",
    "        \n",
    "cost_hamiltonian = np.array(H)\n",
    "print(cost_hamiltonian)\n",
    "\n",
    "eigenvalues, eigenvectors = np.linalg.eigh(cost_hamiltonian)\n",
    "print (eigenvalues, eigenvectors)\n",
    "ground_state_index = np.argmin(eigenvalues)\n",
    "ground_state_energy = eigenvalues[ground_state_index]\n",
    "ground_state_vector = eigenvectors[ground_state_index]\n",
    "ground_state_vector = ground_state_vector[:4]\n",
    "\n",
    "gsv = np.array(ground_state_vector)[0]\n",
    "gsv\n"
   ]
  },
  {
   "cell_type": "code",
   "execution_count": 96,
   "metadata": {},
   "outputs": [
    {
     "name": "stdout",
     "output_type": "stream",
     "text": [
      "[[-0.37174803]\n",
      " [ 0.60150096]\n",
      " [ 0.60150096]\n",
      " [-0.37174803]]\n"
     ]
    },
    {
     "data": {
      "text/plain": [
       "(-2.23606797749979,\n",
       " array([-0.37174803,  0.60150096,  0.60150096, -0.37174803]))"
      ]
     },
     "execution_count": 96,
     "metadata": {},
     "output_type": "execute_result"
    }
   ],
   "source": [
    "import numpy as np\n",
    "import scipy.sparse as sparse\n",
    "from scipy.sparse.linalg import eigsh\n",
    "import warnings\n",
    "import scipy.integrate\n",
    "\n",
    "\n",
    "def finite_gs_energy(L, J, g, return_psi=False):\n",
    "    \"\"\"For comparison: obtain ground state energy from exact diagonalization.\n",
    "\n",
    "    Exponentially expensive in L, only works for small enough `L` <~ 20.\n",
    "    \"\"\"\n",
    "    if L >= 20:\n",
    "        warnings.warn(\"Large L: Exact diagonalization might take a long time!\")\n",
    "    # get single site operaors\n",
    "    sx = sparse.csr_matrix(np.array([[0., 1.], [1., 0.]]))\n",
    "    sz = sparse.csr_matrix(np.array([[1., 0.], [0., -1.]]))\n",
    "    id = sparse.csr_matrix(np.eye(2))\n",
    "    sx_list = []  # sx_list[i] = kron([id, id, ..., id, sx, id, .... id])\n",
    "    sz_list = []\n",
    "    for i_site in range(L):\n",
    "        x_ops = [id] * L\n",
    "        z_ops = [id] * L\n",
    "        x_ops[i_site] = sx\n",
    "        z_ops[i_site] = sz\n",
    "        X = x_ops[0]\n",
    "        Z = z_ops[0]\n",
    "        for j in range(1, L):\n",
    "            X = sparse.kron(X, x_ops[j], 'csr')\n",
    "            Z = sparse.kron(Z, z_ops[j], 'csr')\n",
    "        sx_list.append(X)\n",
    "        sz_list.append(Z)\n",
    "    H_zz = sparse.csr_matrix((2**L, 2**L))\n",
    "    H_x = sparse.csr_matrix((2**L, 2**L))\n",
    "    for i in range(L - 1):\n",
    "        H_zz = H_zz + sz_list[i] * sz_list[(i + 1) % L]\n",
    "    for i in range(L):\n",
    "        H_x = H_x + sx_list[i]\n",
    "    H = -J * H_zz - g * H_x\n",
    "    E, V = eigsh(H, k=1, which='SA', return_eigenvectors=True, ncv=20)\n",
    "    print (V)\n",
    "    if return_psi:\n",
    "        return E[0], V[:, 0]\n",
    "    return E[0]\n",
    "\n",
    "finite_gs_energy(2, -1, -1, True)"
   ]
  },
  {
   "cell_type": "code",
   "execution_count": null,
   "metadata": {},
   "outputs": [],
   "source": []
  }
 ],
 "metadata": {
  "kernelspec": {
   "display_name": "QCML",
   "language": "python",
   "name": "python3"
  },
  "language_info": {
   "codemirror_mode": {
    "name": "ipython",
    "version": 3
   },
   "file_extension": ".py",
   "mimetype": "text/x-python",
   "name": "python",
   "nbconvert_exporter": "python",
   "pygments_lexer": "ipython3",
   "version": "3.9.16"
  }
 },
 "nbformat": 4,
 "nbformat_minor": 2
}

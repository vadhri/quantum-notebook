{
 "cells": [
  {
   "cell_type": "markdown",
   "metadata": {},
   "source": [
    "Distinguishability of non-orthogonal quantum states.\n",
    "\n",
    "https://qubit.guide/4.9-distinguishing-non-orthogonal-states.html\n",
    "\n",
    "1. Find the angle $\\alpha$ between the two quantum states, $\\phi_1$ and $\\phi_2$.\n",
    "2. $Pr_{success} = \\frac{1}{2} * [1 + \\sqrt{1-\\cos^2(\\alpha)}] $ or \n",
    "3. Find the eigen values of the delta operator $(|\\phi1 \\rangle \\otimes \\langle \\phi1| + |\\phi2 \\rangle \\otimes \\langle \\phi2|)$, Use the max eigen value to achieve the same result as above. \n",
    "\n",
    "TODO: For all test cases to pass, not the max eigenvalue but all eigenvalue absolute values must be considered. \n"
   ]
  },
  {
   "cell_type": "code",
   "execution_count": 95,
   "metadata": {},
   "outputs": [
    {
     "name": "stdout",
     "output_type": "stream",
     "text": [
      "Running test case 0 with input '[0, 0.7853981633974483, 0.25, 0.75]'...\n",
      "=====  0.8535533905932737\n",
      "0.8952847075210474\n",
      "Correct!\n",
      "Running test case 1 with input '[1.83259571459, 1.88495559215, 0.5, 0.5]'...\n",
      "=====  0.5261679781215569\n",
      "0.5261679781215569\n",
      "Correct!\n"
     ]
    }
   ],
   "source": [
    "import json\n",
    "import pennylane as qml\n",
    "import pennylane.numpy as np\n",
    "\n",
    "def maximal_probability(theta_1, theta_2, p_1, p_2):    \n",
    "    alpha = 0.5*(1+np.sqrt(1-np.dot(phi_1, phi_2)**2))\n",
    "    print ('===== ', alpha)\n",
    "\n",
    "    phi_1 = np.array([np.cos(theta_1), np.sin(theta_1)])\n",
    "    phi_2 = np.array([np.cos(theta_2), np.sin(theta_2)])\n",
    "    D = p_1 * np.outer(phi_1, np.conj(phi_1)) - p_2 * np.outer(phi_2, np.conj(phi_2))\n",
    "    ev, _ = np.linalg.eigh(D)\n",
    "    maxp = 0.5 + 0.5*np.sum(np.abs(ev))\n",
    "\n",
    "    return maxp\n",
    "\n",
    "def run(test_case_input: str) -> str:\n",
    "    theta1, theta2, p_1, p_2 = json.loads(test_case_input)\n",
    "    prob = np.array(maximal_probability(theta1, theta2, p_1, p_2)).numpy()\n",
    "\n",
    "    return str(prob)\n",
    "\n",
    "def check(solution_output: str, expected_output: str) -> None:\n",
    "    solution_output = json.loads(solution_output)\n",
    "    expected_output = json.loads(expected_output)\n",
    "\n",
    "    assert np.allclose(solution_output, expected_output, rtol=1e-4)\n",
    "\n",
    "\n",
    "# These are the public test cases\n",
    "test_cases = [\n",
    "    ('[0, 0.7853981633974483, 0.25, 0.75]', '0.8952847075210476'),\n",
    "    ('[1.83259571459, 1.88495559215, 0.5, 0.5]', '0.52616798')\n",
    "]\n",
    "\n",
    "# This will run the public test cases locally\n",
    "for i, (input_, expected_output) in enumerate(test_cases):\n",
    "    print(f\"Running test case {i} with input '{input_}'...\")\n",
    "\n",
    "    try:\n",
    "        output = run(input_)\n",
    "        print (output)\n",
    "    except Exception as exc:\n",
    "        print(f\"Runtime Error. {exc}\")\n",
    "\n",
    "    else:\n",
    "        if message := check(output, expected_output):\n",
    "            print(f\"Wrong Answer. Have: '{output}'. Want: '{expected_output}'.\")\n",
    "\n",
    "        else:\n",
    "            print(\"Correct!\")"
   ]
  },
  {
   "cell_type": "code",
   "execution_count": 18,
   "metadata": {},
   "outputs": [
    {
     "name": "stdout",
     "output_type": "stream",
     "text": [
      "[0.92387953-0.38268343j 0.        +0.j        ]\n",
      "0 0.7853981633974483 1.0\n"
     ]
    },
    {
     "data": {
      "image/png": "[encoded data removed]",
      "text/plain": [
       "<Figure size 400x200 with 1 Axes>"
      ]
     },
     "metadata": {},
     "output_type": "display_data"
    }
   ],
   "source": [
    "dev = qml.device('default.qubit', wires=1)\n",
    "\n",
    "theta_1 = 0\n",
    "theta_2 = np.pi/4\n",
    "\n",
    "@qml.qnode(dev)\n",
    "def circuit(angle):\n",
    "    qml.RZ(angle, wires=0)\n",
    "    return qml.expval(qml.PauliZ(0))\n",
    "\n",
    "qml.draw_mpl(circuit, decimals=2)(theta_2)\n",
    "\n",
    "out = circuit(theta_2)\n",
    "\n",
    "print (dev._state)\n",
    "\n",
    "print (theta_1, theta_2, out)\n"
   ]
  }
 ],
 "metadata": {
  "kernelspec": {
   "display_name": "QCML",
   "language": "python",
   "name": "python3"
  },
  "language_info": {
   "codemirror_mode": {
    "name": "ipython",
    "version": 3
   },
   "file_extension": ".py",
   "mimetype": "text/x-python",
   "name": "python",
   "nbconvert_exporter": "python",
   "pygments_lexer": "ipython3",
   "version": "3.9.16"
  }
 },
 "nbformat": 4,
 "nbformat_minor": 2
}

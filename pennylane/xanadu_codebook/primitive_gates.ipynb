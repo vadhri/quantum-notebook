{
 "cells": [
  {
   "cell_type": "markdown",
   "metadata": {},
   "source": [
    "### Implement a H gate using RZ and RX gates only. "
   ]
  },
  {
   "cell_type": "code",
   "execution_count": 10,
   "metadata": {},
   "outputs": [],
   "source": [
    "import pennylane as qml\n",
    "import numpy as np"
   ]
  },
  {
   "cell_type": "code",
   "execution_count": 11,
   "metadata": {},
   "outputs": [
    {
     "name": "stdout",
     "output_type": "stream",
     "text": [
      "[0.70710678+0.00000000e+00j 0.70710678+1.11022302e-16j]\n",
      "[0.70710678+0.j 0.70710678+0.j]\n",
      "[0.70711+0.j 0.70711-0.j]\n"
     ]
    }
   ],
   "source": [
    "dev = qml.device(\"default.qubit\", wires=1)\n",
    "\n",
    "phi, theta, omega = np.pi/2,-np.pi/2,-np.pi/2\n",
    "\n",
    "@qml.qnode(dev)\n",
    "def hadamard_with_rz_rx():\n",
    "    qml.RZ(phi, wires=0)\n",
    "    qml.RX(theta, wires=0)\n",
    "    qml.RZ(omega, wires=0)\n",
    "    return qml.state()\n",
    "\n",
    "qnode = qml.QNode(hadamard_with_rz_rx, dev)()\n",
    "print (qnode)\n",
    "dev = qml.device(\"default.qubit\", wires=1)\n",
    "\n",
    "@qml.qnode(dev)\n",
    "def hadamard_with_rz_rx():\n",
    "    qml.Hadamard(wires=0)\n",
    "    return qml.state()\n",
    "\n",
    "qnode = qml.QNode(hadamard_with_rz_rx, dev)()\n",
    "print (qnode)\n",
    "dev = qml.device(\"default.qubit\", wires=1)\n",
    "\n",
    "phi, theta, omega = np.pi/2,np.pi/2,np.pi/2\n",
    "\n",
    "@qml.qnode(dev)\n",
    "def hadamard_with_rz_rx():\n",
    "    qml.RZ(phi, wires=0)\n",
    "    qml.RX(theta, wires=0)\n",
    "    qml.RZ(omega, wires=0)\n",
    "    return qml.state()\n",
    "\n",
    "qnode = qml.QNode(hadamard_with_rz_rx, dev)()\n",
    "phi = np.pi/2\n",
    "print (np.round((qnode*(np.cos(phi)+1j*np.sin(phi))),5))"
   ]
  },
  {
   "cell_type": "markdown",
   "metadata": {},
   "source": [
    "### Convert a single qubit circuit with H, S, $T^\\dagger$ and PauliY gate to RZ and RX only"
   ]
  },
  {
   "cell_type": "code",
   "execution_count": 12,
   "metadata": {},
   "outputs": [
    {
     "name": "stdout",
     "output_type": "stream",
     "text": [
      "[0.5-0.5j        0. +0.70710678j]\n"
     ]
    },
    {
     "data": {
      "text/plain": [
       "(<Figure size 600x200 with 1 Axes>, <Axes: >)"
      ]
     },
     "execution_count": 12,
     "metadata": {},
     "output_type": "execute_result"
    },
    {
     "data": {
      "image/png": "[encoded data removed]",
      "text/plain": [
       "<Figure size 600x200 with 1 Axes>"
      ]
     },
     "metadata": {},
     "output_type": "display_data"
    }
   ],
   "source": [
    "dev = qml.device(\"default.qubit\", wires=1)\n",
    "\n",
    "@qml.qnode(dev)\n",
    "def convert_to_rz_rx():\n",
    "    qml.Hadamard(0)\n",
    "    qml.T(0)\n",
    "    qml.PauliY(0)\n",
    "    return qml.state()\n",
    "\n",
    "qnode = qml.QNode(convert_to_rz_rx, dev)()\n",
    "print (qnode)\n",
    "qml.draw_mpl(convert_to_rz_rx)()"
   ]
  },
  {
   "cell_type": "code",
   "execution_count": 13,
   "metadata": {},
   "outputs": [
    {
     "name": "stdout",
     "output_type": "stream",
     "text": [
      "[0.5-0.5j        0. +0.70710678j]\n"
     ]
    },
    {
     "data": {
      "text/plain": [
       "(<Figure size 1000x200 with 1 Axes>, <Axes: >)"
      ]
     },
     "execution_count": 13,
     "metadata": {},
     "output_type": "execute_result"
    },
    {
     "data": {
      "image/png": "[encoded data removed]",
      "text/plain": [
       "<Figure size 1000x200 with 1 Axes>"
      ]
     },
     "metadata": {},
     "output_type": "display_data"
    }
   ],
   "source": [
    "dev1 = qml.device(\"default.qubit\", wires=1)\n",
    "@qml.qnode(dev1)\n",
    "def convert_to_rz_rx():\n",
    "    qml.RZ(np.pi/2, wires=0)\n",
    "    qml.RX(np.pi/2, wires=0)\n",
    "    qml.RZ(np.pi/2, wires=0)\n",
    "    qml.RZ(np.pi/4, wires=0)\n",
    "\n",
    "    qml.RZ(-np.pi/2, wires=0)\n",
    "    qml.RX(-np.pi, wires=0)\n",
    "    qml.RZ(np.pi/2, wires=0)\n",
    "    \n",
    "    return qml.state()\n",
    "\n",
    "qnode = qml.QNode(convert_to_rz_rx, dev1)()\n",
    "HPhase= (np.cos(phi)+1j*np.sin(phi))\n",
    "RZ_T_Phase = np.cos(np.pi/8)+1j*np.sin(np.pi/8)\n",
    "RZ_S_Phase = np.cos(np.pi/4)+1j*np.sin(np.pi/4)\n",
    "RZ_S_Phase_M = np.cos(-np.pi/4)+1j*np.sin(-np.pi/4)\n",
    "print (np.round((qnode*HPhase*RZ_T_Phase*RZ_S_Phase*-1j*RZ_S_Phase_M), 10))\n",
    "qml.draw_mpl(convert_to_rz_rx, decimals=2)()\n"
   ]
  }
 ],
 "metadata": {
  "kernelspec": {
   "display_name": "QCML",
   "language": "python",
   "name": "python3"
  },
  "language_info": {
   "codemirror_mode": {
    "name": "ipython",
    "version": 3
   },
   "file_extension": ".py",
   "mimetype": "text/x-python",
   "name": "python",
   "nbconvert_exporter": "python",
   "pygments_lexer": "ipython3",
   "version": "3.9.16"
  },
  "orig_nbformat": 4
 },
 "nbformat": 4,
 "nbformat_minor": 2
}

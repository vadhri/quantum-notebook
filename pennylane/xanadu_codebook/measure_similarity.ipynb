{
 "cells": [
  {
   "cell_type": "code",
   "execution_count": 1,
   "metadata": {},
   "outputs": [],
   "source": [
    "import numpy as np"
   ]
  },
  {
   "cell_type": "code",
   "execution_count": 3,
   "metadata": {},
   "outputs": [
    {
     "name": "stdout",
     "output_type": "stream",
     "text": [
      "The trace distance for P and Q is:  0.25\n",
      "Lower bound:  0.0340741737109318\n",
      "Upper bound:  0.258819045102521\n"
     ]
    }
   ],
   "source": [
    "def bhattacharyya_coefficient(p, q):\n",
    "    bc = np.sum(np.sqrt(p * q))\n",
    "    return bc\n",
    "\n",
    "# bounds \n",
    "\n",
    "def kolmogorov_distance(p, q):\n",
    "    return np.sum(np.abs(p-q))/2\n",
    "\n",
    "def kolmogorov_lower_bound(p, q):\n",
    "    return 1-bhattacharyya_coefficient(p,q)\n",
    "\n",
    "\n",
    "def kolmogorov_upper_bound(p, q):\n",
    "    return np.sqrt(1-bhattacharyya_coefficient(p,q)**2)\n",
    "    \n",
    "\n",
    "P = np.array([0.5,0.5])\n",
    "Q = np.array([0.25,0.75])\n",
    "\n",
    "print(\"The trace distance for P and Q is: \" , kolmogorov_distance(P,Q))\n",
    "print(\"Lower bound: \", kolmogorov_lower_bound(P,Q))\n",
    "print(\"Upper bound: \",kolmogorov_upper_bound(P,Q))\n"
   ]
  },
  {
   "cell_type": "markdown",
   "metadata": {},
   "source": [
    "![image.png](./similarity.png)"
   ]
  },
  {
   "cell_type": "markdown",
   "metadata": {},
   "source": []
  }
 ],
 "metadata": {
  "kernelspec": {
   "display_name": "deeplearning",
   "language": "python",
   "name": "python3"
  },
  "language_info": {
   "codemirror_mode": {
    "name": "ipython",
    "version": 3
   },
   "file_extension": ".py",
   "mimetype": "text/x-python",
   "name": "python",
   "nbconvert_exporter": "python",
   "pygments_lexer": "ipython3",
   "version": "3.11.10"
  }
 },
 "nbformat": 4,
 "nbformat_minor": 2
}

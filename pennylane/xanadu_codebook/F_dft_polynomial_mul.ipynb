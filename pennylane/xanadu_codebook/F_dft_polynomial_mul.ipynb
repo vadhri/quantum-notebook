{
 "cells": [
  {
   "cell_type": "markdown",
   "metadata": {},
   "source": [
    "Multiply two polynomials using DFT,  $ 2x+3 $ and $6x+2$\n",
    "\n",
    "Expected answer = $ 12x^2 + 22x + 6 = \\begin{bmatrix} 6 \\\\ 12 \\\\ 22 \\\\ 0\\end{bmatrix}$"
   ]
  },
  {
   "cell_type": "code",
   "execution_count": 8,
   "metadata": {},
   "outputs": [
    {
     "data": {
      "text/plain": [
       "array([ 6.+0.j, 22.+0.j, 12.+0.j,  0.+0.j])"
      ]
     },
     "execution_count": 8,
     "metadata": {},
     "output_type": "execute_result"
    }
   ],
   "source": [
    "import numpy as np \n",
    "\n",
    "def nearest_power_of_2(x):\n",
    "    return int(pow(2, np.ceil(np.log(x)/np.log(2))));\n",
    "\n",
    "def values_to_coefficients(values):\n",
    "    return np.fft.ifft(values)\n",
    "\n",
    "def coefficients_to_values(coefficients):\n",
    "    return np.fft.fft(coefficients)\n",
    "\n",
    "def fft_multiplication(poly_a, poly_b):\n",
    "    n2 = nearest_power_of_2(len(poly_a)+1)\n",
    "    \n",
    "    poly_a = np.append(poly_a, [0]*(n2-len(poly_a)))\n",
    "    poly_b = np.append(poly_b, [0]*(n2-len(poly_b)))\n",
    "    \n",
    "    poly_a, poly_b =coefficients_to_values(poly_a), coefficients_to_values(poly_b)\n",
    "\n",
    "    return values_to_coefficients(poly_a*poly_b)\n",
    "    \n",
    "fft_multiplication([3,2], [2,6])"
   ]
  }
 ],
 "metadata": {
  "kernelspec": {
   "display_name": "QCML",
   "language": "python",
   "name": "python3"
  },
  "language_info": {
   "codemirror_mode": {
    "name": "ipython",
    "version": 3
   },
   "file_extension": ".py",
   "mimetype": "text/x-python",
   "name": "python",
   "nbconvert_exporter": "python",
   "pygments_lexer": "ipython3",
   "version": "3.9.16"
  },
  "orig_nbformat": 4
 },
 "nbformat": 4,
 "nbformat_minor": 2
}

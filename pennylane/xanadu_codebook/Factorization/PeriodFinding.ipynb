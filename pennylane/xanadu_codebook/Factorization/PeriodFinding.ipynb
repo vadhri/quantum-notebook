{
 "cells": [
  {
   "cell_type": "markdown",
   "metadata": {},
   "source": [
    "### Period finding\n",
    "\n",
    "The file below demonstrates how to find period of a given function. For example the Unitary U, represents a periodic function which has a period of 4. \n",
    "The steps below implemented are as follows. \n",
    "\n",
    "- Use the unitary (U) as input into QPE circuit and calculate phase which will be equal to $ s/r $ s = state of the eigenvector and r being the period of the function \n",
    "- Find the phase using Fraction library; keep the largest r found. \n",
    "- Repeat unitary on the circuit for r times and verify if the circuit state returns to the same value. "
   ]
  },
  {
   "cell_type": "code",
   "execution_count": 50,
   "metadata": {},
   "outputs": [],
   "source": [
    "import pennylane as qml\n",
    "import numpy as np\n",
    "import matplotlib.pyplot as plt"
   ]
  },
  {
   "cell_type": "code",
   "execution_count": 51,
   "metadata": {},
   "outputs": [
    {
     "name": "stdout",
     "output_type": "stream",
     "text": [
      "[0 1 0] shot 1, phase: 0.0\n",
      "[1 1 0] shot 2, phase: 0.25\n",
      "[0 1 0] shot 3, phase: 0.75\n",
      "[1 0 0] shot 4, phase: 0.75\n",
      "[0 0 0] shot 5, phase: 0.25\n"
     ]
    }
   ],
   "source": [
    "import pennylane.transforms \n",
    "\n",
    "def U():\n",
    "    qml.SWAP(wires=[2,3])\n",
    "    qml.SWAP(wires=[1,2])\n",
    "    qml.SWAP(wires=[0,1])\n",
    "    for i in range(4):\n",
    "        qml.PauliX(wires=i)\n",
    "\n",
    "matrix = qml.matrix(U, wire_order=range(4))()\n",
    "\n",
    "n_target_wires = 4\n",
    "target_wires = range(n_target_wires)\n",
    "n_estimation_wires = 3\n",
    "estimation_wires = range(4, 4 + n_estimation_wires)\n",
    "\n",
    "\n",
    "dev = qml.device(\"default.qubit\", shots=1, wires=n_target_wires+n_estimation_wires)\n",
    "\n",
    "@qml.qnode(dev)\n",
    "def circuit(matrix):\n",
    "    qml.PauliX(target_wires[-1])\n",
    "    qml.QuantumPhaseEstimation(matrix, target_wires=target_wires, estimation_wires=estimation_wires)\n",
    "    \n",
    "    return qml.sample(wires=estimation_wires)\n",
    "\n",
    "def get_phase(matrix):\n",
    "    binary = \"\".join([str(b) for b in circuit(matrix)])\n",
    "    return int(binary, 2) / 2 ** n_estimation_wires\n",
    "\n",
    "for i in range(5):\n",
    "    print(circuit(matrix), f\"shot {i+1}, phase:\",get_phase(matrix))\n"
   ]
  },
  {
   "cell_type": "code",
   "execution_count": 52,
   "metadata": {},
   "outputs": [
    {
     "name": "stdout",
     "output_type": "stream",
     "text": [
      "Period of the matrix =  4\n"
     ]
    }
   ],
   "source": [
    "from fractions import Fraction\n",
    "\n",
    "def U():\n",
    "    qml.SWAP(wires=[2,3])\n",
    "    qml.SWAP(wires=[1,2])\n",
    "    qml.SWAP(wires=[0,1])\n",
    "    for i in range(4):\n",
    "        qml.PauliX(wires=i)\n",
    "\n",
    "matrix = qml.matrix(U, wire_order=range(4))()\n",
    "\n",
    "target_wires = range(4)\n",
    "n_estimation_wires = 3\n",
    "estimation_wires = range(4, 4 + n_estimation_wires)\n",
    "\n",
    "def get_period(matrix):\n",
    "    shots = 10\n",
    "    r = float('-inf')\n",
    "    \n",
    "    for i in range(shots):\n",
    "        ph = get_phase(matrix)\n",
    "        r = max(r, Fraction(ph).denominator)\n",
    "    return r\n",
    "\n",
    "period = (get_period(matrix))\n",
    "print ('Period of the matrix = ', period)\n"
   ]
  },
  {
   "cell_type": "code",
   "execution_count": 53,
   "metadata": {},
   "outputs": [
    {
     "data": {
      "image/png": "[encoded data removed]",
      "text/plain": [
       "<Figure size 640x480 with 1 Axes>"
      ]
     },
     "metadata": {},
     "output_type": "display_data"
    }
   ],
   "source": [
    "def U():\n",
    "    qml.SWAP(wires=[2,3])\n",
    "    qml.SWAP(wires=[1,2])\n",
    "    qml.SWAP(wires=[0,1])\n",
    "\n",
    "    for i in range(4):\n",
    "        qml.PauliX(wires=i)\n",
    "\n",
    "dev = qml.device(\"default.qubit\", wires=4)\n",
    "\n",
    "@qml.qnode(dev)\n",
    "def circuit(state):\n",
    "    qml.MottonenStatePreparation(state, wires=range(4))\n",
    "    for i in range(period):\n",
    "        qml.QubitUnitary(qml.matrix(U)(), wires=range(4))\n",
    "    \n",
    "    return qml.probs(wires=range(4))\n",
    "\n",
    "state = [0 for _ in range(2**4)]\n",
    "state[10] = 1\n",
    "\n",
    "data = qml.QNode(circuit, dev)(state)\n",
    "data = [np.real(i) for i in data]\n",
    "plt.bar(range(2**4), data)\n",
    "plt.show()\n"
   ]
  }
 ],
 "metadata": {
  "kernelspec": {
   "display_name": "QCML",
   "language": "python",
   "name": "python3"
  },
  "language_info": {
   "codemirror_mode": {
    "name": "ipython",
    "version": 3
   },
   "file_extension": ".py",
   "mimetype": "text/x-python",
   "name": "python",
   "nbconvert_exporter": "python",
   "pygments_lexer": "ipython3",
   "version": "3.9.16"
  },
  "orig_nbformat": 4
 },
 "nbformat": 4,
 "nbformat_minor": 2
}

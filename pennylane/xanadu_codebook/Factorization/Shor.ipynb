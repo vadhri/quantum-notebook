{
 "cells": [
  {
   "cell_type": "code",
   "execution_count": null,
   "metadata": {},
   "outputs": [],
   "source": [
    "import pennylane as qml\n",
    "import numpy as np\n",
    "import matplotlib.pyplot as plt"
   ]
  },
  {
   "cell_type": "code",
   "execution_count": null,
   "metadata": {},
   "outputs": [],
   "source": [
    "def is_coprime(a, N):  \n",
    "    return np.gcd(a,N) == 1\n",
    "\n",
    "def is_odd(r):\n",
    "    return r%2 != 0\n",
    "    \n",
    "def is_not_one(x, N):\n",
    "    return x % N != 1 and x*x % N != 1\n",
    "\n",
    "\n",
    "def shor(N):\n",
    "    while True:\n",
    "        value = np.random.randint(2,N-2)\n",
    "\n",
    "        if is_coprime(value, N):\n",
    "            return [value, N/value]\n",
    "            \n",
    "        U = get_matrix_a_mod_N(value, N)\n",
    "        period = get_period(U, value)\n",
    "        \n",
    "        if is_odd(period):\n",
    "            continue\n",
    "        \n",
    "        x = value**(period/2)%N\n",
    "        \n",
    "        if is_not_one(x, N):\n",
    "            p = np.gcd(x-1, N)\n",
    "            q = np.gcd(x+1, N)\n",
    "            return [p,q]\n",
    "\n",
    "print(shor(21))\n"
   ]
  }
 ],
 "metadata": {
  "kernelspec": {
   "display_name": "QCML",
   "language": "python",
   "name": "python3"
  },
  "language_info": {
   "codemirror_mode": {
    "name": "ipython",
    "version": 3
   },
   "file_extension": ".py",
   "mimetype": "text/x-python",
   "name": "python",
   "nbconvert_exporter": "python",
   "pygments_lexer": "ipython3",
   "version": "3.9.16"
  },
  "orig_nbformat": 4
 },
 "nbformat": 4,
 "nbformat_minor": 2
}

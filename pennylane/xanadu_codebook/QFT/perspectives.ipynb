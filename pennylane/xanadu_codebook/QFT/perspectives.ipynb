{
 "cells": [
  {
   "cell_type": "code",
   "execution_count": 2,
   "metadata": {},
   "outputs": [],
   "source": [
    "import numpy as np"
   ]
  },
  {
   "cell_type": "code",
   "execution_count": 3,
   "metadata": {},
   "outputs": [
    {
     "name": "stdout",
     "output_type": "stream",
     "text": [
      "[10.+0.0000000e+00j  2.-2.0000000e+00j  2.-2.4492936e-16j\n",
      "  2.+2.0000000e+00j]\n"
     ]
    }
   ],
   "source": [
    "# F1.1 \n",
    "\n",
    "def nth_roots_matrix(N):\n",
    "    nth_roots = np.array([[np.exp(-2 * np.pi * 1j * (r * k) / N) for k in range(N)] for r in range(N)])\n",
    "    return nth_roots\n",
    "    \n",
    "def coefficients_to_values(coefficients):\n",
    "    # return np.fft.fft(coefficients)\n",
    "    N = len(coefficients)\n",
    "    nth_roots = nth_roots_matrix(N)\n",
    "    values = np.dot(nth_roots, coefficients) \n",
    "    return values\n",
    "A = [4, 3, 2, 1]\n",
    "print(coefficients_to_values(A))\n"
   ]
  },
  {
   "cell_type": "code",
   "execution_count": 19,
   "metadata": {},
   "outputs": [
    {
     "name": "stdout",
     "output_type": "stream",
     "text": [
      "[4.+0.0000000e+00j 3.-6.1232340e-17j 2.+1.2246468e-16j 1.+5.5109106e-16j]\n"
     ]
    }
   ],
   "source": [
    "# F1.2 \n",
    "def nth_roots_matrix(N):\n",
    "    nth_roots = np.array([[np.exp(2 * np.pi * 1j * (r * k) / N) for k in range(N)] for r in range(N)])\n",
    "    return nth_roots\n",
    "    \n",
    "def values_to_coefficients(values):\n",
    "    # return np.fft.ifft(values)\n",
    "    N = len(values)\n",
    "    nth_roots = nth_roots_matrix(N)\n",
    "    values = np.dot(nth_roots, values)/4\n",
    "    return values\n",
    "\n",
    "A = [10.+0.j,  2.-2.j,  2.+0.j,  2.+2.j]\n",
    "print(values_to_coefficients(A))"
   ]
  },
  {
   "cell_type": "code",
   "execution_count": 5,
   "metadata": {},
   "outputs": [],
   "source": [
    "# F1.3\n",
    "def nearest_power_of_2(x):\n",
    "    p = np.round(np.log2(x))\n",
    "    return int(2**p) if int(2**p) >= x else int(2**(p+1))"
   ]
  },
  {
   "cell_type": "code",
   "execution_count": 26,
   "metadata": {},
   "outputs": [],
   "source": [
    "def fft_multiplication(poly_a, poly_b):\n",
    "    # Calculate the number of values required\n",
    "    N = len(poly_a) - 1  + len(poly_b) -1 + 1\n",
    "    \n",
    "    # Figure out the nearest power of 2\n",
    "    Nr = nearest_power_of_2(N)\n",
    "    \n",
    "    # Pad zeros to the polynomial\n",
    "    for i in range(Nr- len(poly_a)):\n",
    "        poly_a.append(0)\n",
    "    \n",
    "    for i in range(Nr - len(poly_b)):\n",
    "        poly_b.append(0)\n",
    "    \n",
    "    # Convert the polynomials to value representation \n",
    "    poly_a_value = coefficients_to_values(poly_a)\n",
    "    poly_b_value = coefficients_to_values(poly_b)\n",
    "    \n",
    "    # Multiply\n",
    "    value = poly_a_value*poly_b_value\n",
    "    \n",
    "    # Convert back to coefficient representation\n",
    "    return np.fft.ifft(value)"
   ]
  },
  {
   "cell_type": "code",
   "execution_count": 25,
   "metadata": {},
   "outputs": [
    {
     "name": "stdout",
     "output_type": "stream",
     "text": [
      "3 4\n"
     ]
    },
    {
     "data": {
      "text/plain": [
       "array([ 1.00000000e+00-2.96059473e-16j, -1.00000000e+00+5.32622274e-16j,\n",
       "        1.48029737e-16-2.36562801e-16j])"
      ]
     },
     "execution_count": 25,
     "metadata": {},
     "output_type": "execute_result"
    }
   ],
   "source": [
    "fft_multiplication([1,1], [1,-1])"
   ]
  }
 ],
 "metadata": {
  "kernelspec": {
   "display_name": "QCML",
   "language": "python",
   "name": "python3"
  },
  "language_info": {
   "codemirror_mode": {
    "name": "ipython",
    "version": 3
   },
   "file_extension": ".py",
   "mimetype": "text/x-python",
   "name": "python",
   "nbconvert_exporter": "python",
   "pygments_lexer": "ipython3",
   "version": "3.9.16"
  }
 },
 "nbformat": 4,
 "nbformat_minor": 2
}

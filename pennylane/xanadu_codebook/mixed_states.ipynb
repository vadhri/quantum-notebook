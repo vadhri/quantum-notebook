{
 "cells": [
  {
   "cell_type": "code",
   "execution_count": 4,
   "metadata": {},
   "outputs": [],
   "source": [
    "!pip install -q pennylane"
   ]
  },
  {
   "cell_type": "code",
   "execution_count": 5,
   "metadata": {},
   "outputs": [],
   "source": [
    "import numpy as np \n",
    "import pennylane as qml"
   ]
  },
  {
   "cell_type": "code",
   "execution_count": null,
   "metadata": {},
   "outputs": [
    {
     "name": "stdout",
     "output_type": "stream",
     "text": [
      "A pi/3 RX rotation applied on [[3/4,1/4],[1/4,1/4]] gives:\n",
      "[[0.62+0.j   0.25+0.22j]\n",
      " [0.25-0.22j 0.38+0.j  ]]\n"
     ]
    }
   ],
   "source": [
    "# N.2.1a - Gates on mixed states\n",
    "\n",
    "def apply_gate_mixed(rho,U):\n",
    "    U_dagger = np.conjugate(U.T)\n",
    "    return U @ rho @ U_dagger\n",
    "\n",
    "U = qml.matrix(qml.RX(np.pi/3,0))\n",
    "rho = np.array([[3/4,1/4],[1/4,1/4]])\n",
    "\n",
    "print(\"A pi/3 RX rotation applied on [[3/4,1/4],[1/4,1/4]] gives:\")\n",
    "print(apply_gate_mixed(rho,U).round(2))\n"
   ]
  },
  {
   "cell_type": "code",
   "execution_count": 7,
   "metadata": {},
   "outputs": [
    {
     "name": "stdout",
     "output_type": "stream",
     "text": [
      "A pi/3 RX rotation applied on [[3/4,1/4],[1/4,1/4]] gives:\n",
      "[[0.62+0.j   0.25+0.22j]\n",
      " [0.25-0.22j 0.38+0.j  ]]\n"
     ]
    }
   ],
   "source": [
    "# N.2.1b - Applying a gate with PennyLane\n",
    "    \n",
    "dev = qml.device(\"default.mixed\", wires=1)\n",
    "\n",
    "@qml.qnode(dev)\n",
    "def apply_gate_circuit(rho,U):\n",
    "    \n",
    "    # Prepare a state with density operator rho\n",
    "    qml.QubitDensityMatrix(rho, wires=[0])\n",
    "    \n",
    "    # Apply the unitary U\n",
    "    qml.QubitUnitary(U, wires=[0])\n",
    "    \n",
    "    return qml.state()\n",
    "\n",
    "U = qml.matrix(qml.RX(np.pi/3,0))\n",
    "rho = np.array([[3/4,1/4],[1/4,1/4]])\n",
    "\n",
    "print(\"A pi/3 RX rotation applied on [[3/4,1/4],[1/4,1/4]] gives:\")\n",
    "print(apply_gate_circuit(rho,U).round(2))\n"
   ]
  },
  {
   "cell_type": "code",
   "execution_count": null,
   "metadata": {},
   "outputs": [
    {
     "name": "stdout",
     "output_type": "stream",
     "text": [
      "State: [[3/4,0],[0,1/4]], Observable: [[ 0.+0.j -0.-1.j]\n",
      " [ 0.+1.j  0.+0.j]]\n",
      "Measurement probabilities [0.5+0.j 0.5+0.j]\n"
     ]
    }
   ],
   "source": [
    "# Eigen projectors and eigenvalues.\n",
    "def eigenprojectors(obs):\n",
    "    eigenvalue, eigenvectors = np.linalg.eig(obs)\n",
    "    projectors = [np.outer(p, np.conjugate(p)) for p in eigenvectors]\n",
    "    return projectors\n",
    "\n",
    "def outcome_probs(rho, B):\n",
    "    eigen_projectors = eigenprojectors(B)\n",
    "    prob_list = [np.trace(rho @ P) for P in eigen_projectors]  # Calculate probabilities\n",
    "    return np.array(prob_list)\n",
    "\n",
    "rho = np.array([[3/4,0],[0,1/4]])\n",
    "B = qml.matrix(qml.PauliY(0))\n",
    "\n",
    "print(\"State: [[3/4,0],[0,1/4]], Observable: {}\".format(B))\n",
    "print(\"Measurement probabilities {}\".format(outcome_probs(rho,B).round(2)))"
   ]
  },
  {
   "cell_type": "code",
   "execution_count": 9,
   "metadata": {},
   "outputs": [
    {
     "name": "stdout",
     "output_type": "stream",
     "text": [
      "State: [[3/4,0],[0,1/4]], Observable: [[ 0.+0.j -0.-1.j]\n",
      " [ 0.+1.j  0.+0.j]]\n",
      "Measurement probabilities [0.5 0.5]\n"
     ]
    }
   ],
   "source": [
    "# N.2.2c - Measuring projective operators\n",
    "dev = qml.device('default.mixed', wires = 1)\n",
    "\n",
    "@qml.qnode(dev)\n",
    "def mixed_probs_circuit(rho, obs):\n",
    "    # Prepare the density matrix\n",
    "    qml.QubitDensityMatrix(rho, wires=[0])\n",
    "    \n",
    "    return qml.probs(op=obs)\n",
    "\n",
    "rho = np.array([[3/4,0],[0,1/4]])\n",
    "B = qml.PauliY(0)\n",
    "\n",
    "print(\"State: [[3/4,0],[0,1/4]], Observable: {}\".format(qml.matrix(B)))\n",
    "print(\"Measurement probabilities {}\".format(mixed_probs_circuit(rho,B))) \n"
   ]
  },
  {
   "cell_type": "code",
   "execution_count": 11,
   "metadata": {},
   "outputs": [
    {
     "name": "stdout",
     "output_type": "stream",
     "text": [
      "State: [[0.75 0.  ]\n",
      " [0.   0.25]]\n",
      "Observable: [[ 1  0]\n",
      " [ 0 -1]]\n",
      "Expectation value: 0.5\n",
      "State: [[0.75 0.  ]\n",
      " [0.   0.25]]\n",
      "Observable: [[ 1  0]\n",
      " [ 0 -1]]\n",
      "Expectation value: 0.5\n"
     ]
    }
   ],
   "source": [
    "# N.2.3a - Calculating the expectation values\n",
    "def mixed_expval(rho, B):\n",
    "    eigenvalue, eigenvectors = np.linalg.eig(B)\n",
    "    projectors = [np.outer(p, np.conjugate(p)) for p in eigenvectors]\n",
    "    prob_list = [np.trace(rho @ P) for P in projectors]  # Calculate probabilities\n",
    "\n",
    "    exp_val = np.sum([a*b for a,b in zip(prob_list, eigenvalue)])\n",
    "    \n",
    "    return exp_val # Return the expectation value\n",
    "\n",
    "rho = np.array([[3/4,0],[0,1/4]])\n",
    "B = qml.matrix(qml.PauliZ(0))\n",
    "\n",
    "print(\"State: {}\".format(rho))\n",
    "print(\"Observable: {}\".format(B))\n",
    "print(\"Expectation value: {}\".format(mixed_expval(rho,B)))\n",
    "\n",
    "# N.2.3b - Returning expectation values\n",
    "\n",
    "dev = qml.device('default.mixed', wires = 1)\n",
    "\n",
    "@qml.qnode(dev)\n",
    "def expval_circuit(rho,obs):\n",
    "    qml.QubitDensityMatrix(rho, wires=[0])\n",
    "    return qml.expval(B) # Return the expectation value\n",
    "\n",
    "rho = np.array([[3/4,0],[0,1/4]])\n",
    "B = qml.PauliZ(0)\n",
    "\n",
    "print(\"State: {}\".format(rho))\n",
    "print(\"Observable: {}\".format(qml.matrix(B)))\n",
    "print(\"Expectation value: {}\".format(expval_circuit(rho,B)))\n"
   ]
  }
 ],
 "metadata": {
  "kernelspec": {
   "display_name": "deeplearning",
   "language": "python",
   "name": "python3"
  },
  "language_info": {
   "codemirror_mode": {
    "name": "ipython",
    "version": 3
   },
   "file_extension": ".py",
   "mimetype": "text/x-python",
   "name": "python",
   "nbconvert_exporter": "python",
   "pygments_lexer": "ipython3",
   "version": "3.11.10"
  }
 },
 "nbformat": 4,
 "nbformat_minor": 2
}

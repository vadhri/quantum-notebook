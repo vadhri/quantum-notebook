{
 "cells": [
  {
   "cell_type": "code",
   "execution_count": 122,
   "metadata": {},
   "outputs": [],
   "source": [
    "import pennylane as qml "
   ]
  },
  {
   "cell_type": "code",
   "execution_count": 121,
   "metadata": {},
   "outputs": [
    {
     "name": "stdout",
     "output_type": "stream",
     "text": [
      "[1. 0.]\n"
     ]
    }
   ],
   "source": [
    "dev = qml.device(\"default.qubit\", wires=2)\n",
    "\n",
    "@qml.qnode(dev)\n",
    "def guess_the_unitary(unitary):\n",
    "    qml.Hadamard(0)\n",
    "    qml.ctrl(qml.QubitUnitary(unitary, wires=[1]), control=[0])\n",
    "    qml.Hadamard(0)\n",
    "    return qml.probs(wires=0)\n",
    "\n",
    "U = qml.PauliZ.compute_matrix() \n",
    "\n",
    "# -Z gate\n",
    "# U = (-1)*qml.PauliZ.compute_matrix()\n",
    "\n",
    "print(qml.QNode(guess_the_unitary, dev)(U))\n",
    "# qml.draw_mpl(guess_the_unitary)(U)\n"
   ]
  },
  {
   "cell_type": "markdown",
   "metadata": {},
   "source": [
    "### phase kickback "
   ]
  },
  {
   "cell_type": "code",
   "execution_count": 123,
   "metadata": {},
   "outputs": [
    {
     "name": "stdout",
     "output_type": "stream",
     "text": [
      "[1. 0.]\n",
      "[0. 1.]\n"
     ]
    },
    {
     "data": {
      "text/plain": [
       "<function __main__.phase_kickback_X(eigenvector)>"
      ]
     },
     "execution_count": 123,
     "metadata": {},
     "output_type": "execute_result"
    }
   ],
   "source": [
    "dev = qml.device(\"default.qubit\", wires=2)\n",
    "        \n",
    "@qml.qnode(dev)\n",
    "def phase_kickback_X(eigenvector):\n",
    "    if eigenvector == 'minus':\n",
    "        qml.PauliX(0)\n",
    "    \n",
    "    qml.Hadamard(0)\n",
    "    qml.ctrl(qml.PauliZ, control=0)(wires=1)\n",
    "    qml.Hadamard(0)\n",
    "\n",
    "    return qml.probs(wires=[0])   \n",
    "\n",
    "print(phase_kickback_X(\"plus\"))\n",
    "print(phase_kickback_X(\"minus\"))\n",
    "\n",
    "# MODIFY EIGENVALUES BELOW \n",
    "eigenvalue_of_X_plus = 1\n",
    "eigenvalue_of_X_minus = -1\n",
    "\n",
    "qml.draw_mpl(phase_kickback_X, wires=[0,1])\n"
   ]
  },
  {
   "cell_type": "markdown",
   "metadata": {},
   "source": [
    "### Estimate phase of T gate"
   ]
  },
  {
   "cell_type": "code",
   "execution_count": 125,
   "metadata": {},
   "outputs": [
    {
     "name": "stdout",
     "output_type": "stream",
     "text": [
      "[0.0, 0.12499999999999989, 6.96079367267386e-33, 9.244463733058709e-33, 1.6933850256285527e-32, 3.5057943518923853e-32, 6.352361076440473e-32, 2.291856633820814e-31]\n"
     ]
    }
   ],
   "source": [
    "import numpy as np\n",
    "\n",
    "estimation_wires = [0, 1, 2]\n",
    "target_wires = [3]\n",
    "\n",
    "def U_power_2k(unitary, k):\n",
    "    return np.linalg.matrix_power(unitary, 2**k)\n",
    "\n",
    "def apply_controlled_powers_of_U(unitary):\n",
    "    p = len(estimation_wires)\n",
    "    for wire in range(p):\n",
    "        u = U_power_2k(unitary, (p-wire-1))\n",
    "        qml.ctrl(qml.QubitUnitary(u, wires=3), control=wire)\n",
    "\n",
    "dev = qml.device('default.qubit', wires=4)\n",
    "\n",
    "def prepare_eigenvector():\n",
    "    qml.PauliX(wires=target_wires)\n",
    "\n",
    "def binary2decimal(probs):\n",
    "    pval = [1/2**i for i in range(1,len(estimation_wires)+1)]\n",
    "    res = []\n",
    "    for index,p in enumerate(probs):\n",
    "        s = 0\n",
    "        for idx,val in enumerate(bin(2**len(estimation_wires)+index)[3:]):\n",
    "            s+=int(val)*pval[idx]\n",
    "        res.append(float(s*p))\n",
    "    return res\n",
    "    \n",
    "def estimate_phase(probs):\n",
    "    return binary2decimal(probs)\n",
    "\n",
    "\n",
    "@qml.qnode(dev)\n",
    "def qpe(unitary):\n",
    "    prepare_eigenvector()\n",
    "    for i in estimation_wires:\n",
    "        qml.Hadamard(i)\n",
    "    apply_controlled_powers_of_U(unitary)\n",
    "    qml.adjoint(qml.QFT)( wires=estimation_wires)\n",
    "    return qml.probs(wires=estimation_wires)\n",
    "U = qml.T.compute_matrix()\n",
    "probs = qpe(U)\n",
    "estimated_phasev = estimate_phase(probs)\n",
    "print (estimated_phasev)"
   ]
  },
  {
   "cell_type": "markdown",
   "metadata": {},
   "source": [
    "### P3 Rational number bounds"
   ]
  },
  {
   "cell_type": "code",
   "execution_count": null,
   "metadata": {},
   "outputs": [],
   "source": [
    "dev = qml.device(\"default.qubit\", wires=10)\n",
    "\n",
    "def fractional_binary_to_decimal(binary_fraction, wires):\n",
    "    return float(binary_fraction/ 2 ** len(wires))\n",
    "\n",
    "def binary2decimal(probs, estimation_wires):\n",
    "    pval = [1/2**i for i in range(1,len(estimation_wires)+1)]\n",
    "    res = []\n",
    "    for index,p in enumerate(probs):\n",
    "        s = 0\n",
    "        for idx,val in enumerate(bin(2**len(estimation_wires)+index)[3:]):\n",
    "            s+=int(val)*pval[idx]\n",
    "        res.append(float(s))\n",
    "    return res\n",
    "    \n",
    "def estimate_phase(probs, estimation_wires):\n",
    "    return binary2decimal(probs,estimation_wires)\n",
    "    \n",
    "def phase_window(probs, estimation_wires):\n",
    "    p = sorted(zip(probs, estimate_phase(probs, estimation_wires)), key=lambda x: x[0])\n",
    "    bound_1 = p[-1][1]\n",
    "    bound_2 = p[-2][1]\n",
    "    return (bound_1, bound_2)\n",
    "\n",
    "# Test your solution\n",
    "\n",
    "# You can increase the number of estimation wires to a maximum of range(0, 9)\n",
    "estimation_wires = range(0, 9)\n",
    "\n",
    "# The target is set to the last qubit\n",
    "target_wires = [9]\n",
    "\n",
    "# Define the unitary\n",
    "U = np.array([[1, 0], [0, np.exp((2*np.pi*1j/7))]])\n",
    "\n",
    "probs = qpe(U, estimation_wires, target_wires)\n",
    "\n",
    "print(phase_window(probs, estimation_wires))\n",
    "\n",
    "# MODIFY TO TRUE AFTER TESTING YOUR SOLUTION\n",
    "done = True\n"
   ]
  }
 ],
 "metadata": {
  "kernelspec": {
   "display_name": "QCML",
   "language": "python",
   "name": "python3"
  },
  "language_info": {
   "codemirror_mode": {
    "name": "ipython",
    "version": 3
   },
   "file_extension": ".py",
   "mimetype": "text/x-python",
   "name": "python",
   "nbconvert_exporter": "python",
   "pygments_lexer": "ipython3",
   "version": "3.9.16"
  },
  "orig_nbformat": 4
 },
 "nbformat": 4,
 "nbformat_minor": 2
}

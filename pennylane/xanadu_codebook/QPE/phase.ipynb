{
 "cells": [
  {
   "cell_type": "code",
   "execution_count": 1,
   "metadata": {},
   "outputs": [],
   "source": [
    "import pennylane as qml\n",
    "import numpy as np"
   ]
  },
  {
   "cell_type": "code",
   "execution_count": 5,
   "metadata": {},
   "outputs": [
    {
     "name": "stdout",
     "output_type": "stream",
     "text": [
      "[0. 1.]\n"
     ]
    }
   ],
   "source": [
    "dev = qml.device(\"default.qubit\", wires=2)\n",
    "\n",
    "@qml.qnode(dev)\n",
    "def guess_the_unitary(unitary):\n",
    "    qml.Hadamard(0)\n",
    "    qml.ControlledQubitUnitary(unitary, control_wires=[0], wires=1)\n",
    "    qml.Hadamard(0)\n",
    "\n",
    "    return qml.probs(wires=0)\n",
    "\n",
    "# Z gate \n",
    "U = qml.PauliZ.compute_matrix() \n",
    "\n",
    "# -Z gate\n",
    "U = (-1)*qml.PauliZ.compute_matrix()\n",
    "\n",
    "print(guess_the_unitary(U))\n"
   ]
  },
  {
   "cell_type": "code",
   "execution_count": 39,
   "metadata": {},
   "outputs": [
    {
     "name": "stdout",
     "output_type": "stream",
     "text": [
      "[1. 0.]\n"
     ]
    },
    {
     "data": {
      "text/plain": [
       "((1+0j), (-1+0j))"
      ]
     },
     "execution_count": 39,
     "metadata": {},
     "output_type": "execute_result"
    },
    {
     "data": {
      "image/png": "[encoded data removed]",
      "text/plain": [
       "<Figure size 600x300 with 1 Axes>"
      ]
     },
     "metadata": {},
     "output_type": "display_data"
    }
   ],
   "source": [
    "dev = qml.device(\"default.qubit\", wires=2)\n",
    "        \n",
    "@qml.qnode(dev)\n",
    "def phase_kickback_X(eigenvector):\n",
    "    if eigenvector == \"minus\":\n",
    "        qml.PauliX(1)\n",
    "    qml.Hadamard(1)\n",
    "    unitary = qml.PauliX.compute_matrix() \n",
    "    qml.Hadamard(0)\n",
    "    qml.ControlledQubitUnitary(unitary, control_wires=[0], wires=1)\n",
    "    qml.Hadamard(0)\n",
    "\n",
    "    return qml.probs(wires=0) \n",
    "\n",
    "print(phase_kickback_X(\"plus\"))\n",
    "# print(phase_kickback_X(\"minus\"))\n",
    "\n",
    "# MODIFY EIGENVALUES BELOW \n",
    "eigenvalue_of_X_plus = np.round(np.exp((np.arcsin(np.sqrt(0))/np.pi)*2*np.pi*1j))\n",
    "eigenvalue_of_X_minus = np.round(np.exp((np.arcsin(np.sqrt(1))/np.pi)*2*np.pi*1j))\n",
    "\n",
    "qml.draw_mpl(phase_kickback_X)(\"plus\")\n",
    "eigenvalue_of_X_plus, eigenvalue_of_X_minus"
   ]
  },
  {
   "cell_type": "markdown",
   "metadata": {},
   "source": [
    "$ H \\otimes H = \\frac{1}{2} (|00> + |01> + |10> + |11>) $\n",
    "\n",
    "Conditional X (0,1) $ = \\frac{1}{2} (|00> + |01> + |11> + |10>) $\n",
    "\n",
    "(Apply H to Qubit 0)$ = \\frac{1}{2} (|00> + |01> ) $\n",
    "\n",
    "P(1) = 0; for x_plus\n",
    "\n",
    "Similarly P(1) = 1 for x_minus \n",
    "\n",
    "\n"
   ]
  },
  {
   "cell_type": "code",
   "execution_count": 78,
   "metadata": {},
   "outputs": [
    {
     "name": "stdout",
     "output_type": "stream",
     "text": [
      "Mystery phase =  0.9375\n"
     ]
    }
   ],
   "source": [
    "dev = qml.device(\"default.qubit\", wires=6)\n",
    "estimation_wires = [0, 1, 2, 3]\n",
    "target_wires = [4, 5]\n",
    "\n",
    "def prepare_eigenvector_superposition(alpha, beta, gamma, delta):\n",
    "    # Normalize alpha, beta, gamma, and delta\n",
    "    norm_squared = np.abs(alpha) ** 2 + np.abs(beta) ** 2 + np.abs(gamma) ** 2 + np.abs(delta) ** 2 \n",
    "    norm = np.sqrt(norm_squared)\n",
    "    state = np.array([alpha/norm, beta/norm, gamma/norm, delta/norm])\n",
    "    \n",
    "    # Prepare the state\n",
    "    qml.MottonenStatePreparation(state, wires=target_wires)\n",
    "\n",
    "@qml.qnode(dev)\n",
    "def qpe(unitary):\n",
    "    # MODIFY ALPHA, BETA, GAMMA, DELTA TO PREPARE EIGENVECTOR \n",
    "    prepare_eigenvector_superposition(0.5, 0.5, 0.5, 0.5)\n",
    "    # prepare_eigenvector_superposition(1, 0, 0, 0)\n",
    "    # prepare_eigenvector_superposition(0, 1, 0, 0)\n",
    "    # OR UNCOMMENT LINES ABOVE TO PREPARE THE STATE OF YOUR CHOICE\n",
    "    \n",
    "    qml.QuantumPhaseEstimation(\n",
    "        unitary,\n",
    "        target_wires=target_wires,\n",
    "        estimation_wires=estimation_wires,\n",
    "    )\n",
    "    return qml.probs(wires=estimation_wires)\n",
    "\n",
    "# UNCOMMENT THE LINE CORRESPONDING TO THE MATRIX YOU'D LIKE \n",
    "# TO ESTIMATE PHASES OF\n",
    "# U = qml.CZ.compute_matrix()\n",
    "# U = qml.CRZ.compute_matrix(0.4)    \n",
    "U=qml.CRX.compute_matrix(1/3)\n",
    "# U = qml.CRot.compute_matrix(0.9, 0.7, 0.4)\n",
    "\n",
    "probs = sorted(zip(qpe(U), range(2**len(estimation_wires))), reverse=True)\n",
    "value, prob = probs[1]\n",
    "mystery_phase = 0 # MODIFY THIS\n",
    "\n",
    "for idx,value in enumerate(np.binary_repr(prob)):\n",
    "    if value == \"1\":\n",
    "        mystery_phase += 2**-(idx+1)\n",
    "\n",
    "print (f\"Mystery phase = \", mystery_phase)"
   ]
  }
 ],
 "metadata": {
  "kernelspec": {
   "display_name": "QCML",
   "language": "python",
   "name": "python3"
  },
  "language_info": {
   "codemirror_mode": {
    "name": "ipython",
    "version": 3
   },
   "file_extension": ".py",
   "mimetype": "text/x-python",
   "name": "python",
   "nbconvert_exporter": "python",
   "pygments_lexer": "ipython3",
   "version": "3.9.16"
  }
 },
 "nbformat": 4,
 "nbformat_minor": 2
}

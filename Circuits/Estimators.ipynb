{
 "cells": [
  {
   "cell_type": "markdown",
   "metadata": {},
   "source": [
    "### Measurement of observables includes that the hamiltonian is split into pauli strings and measured. \n",
    "#### The following notebook contains various examples of the same. "
   ]
  },
  {
   "cell_type": "code",
   "execution_count": 34,
   "metadata": {},
   "outputs": [],
   "source": [
    "from qiskit_ibm_runtime import QiskitRuntimeService, Session, Sampler, Estimator, Options\n",
    "from qiskit.test.reference_circuits import ReferenceCircuits\n",
    "from qiskit.quantum_info import *\n",
    "from qiskit import *\n",
    "import numpy as np \n",
    "\n",
    "# Initialize account.\n",
    "service = QiskitRuntimeService()\n",
    "\n",
    "# Set options, which can be overwritten at job level.\n",
    "options = Options(optimization_level=3, resilience_level=2)"
   ]
  },
  {
   "cell_type": "markdown",
   "metadata": {},
   "source": [
    "### Example 1\n",
    "\n",
    "Hadamard gate as the observable.\n",
    "\n",
    "$ \\langle \\psi | H | \\psi \\rangle $\n",
    "\n",
    "$ | \\psi \\rangle = |1 \\rangle $\n",
    "\n",
    "$ H |1 \\rangle = \\frac{1}{\\sqrt2} (|0 \\rangle - |1 \\rangle) $\n",
    "\n",
    "$  \\langle 1 | H | 1 \\rangle = \\langle 1 |  \\frac{1}{\\sqrt2} (|0 \\rangle - |1 \\rangle) = \\frac{1}{\\sqrt2} ( \\langle1|0\\rangle - \\langle1|1\\rangle ) = -\\frac{1}{\\sqrt2} = -0.70710678 $"
   ]
  },
  {
   "cell_type": "code",
   "execution_count": 37,
   "metadata": {},
   "outputs": [
    {
     "name": "stdout",
     "output_type": "stream",
     "text": [
      "SparsePauliOp(['X', 'Z'],\n",
      "              coeffs=[0.70710678+0.j, 0.70710678+0.j])\n",
      "Estimator results: EstimatorResult(values=array([-0.73014668]), metadata=[{'zne': {'noise_amplification': {'noise_amplifier': \"<TwoQubitAmplifier:{'noise_factor_relative_tolerance': 0.01, 'random_seed': None, 'sub_folding_option': 'from_first'}>\", 'noise_factors': [1, 3, 5], 'values': [-0.7290270914033304, -0.7032176938900214, -0.7056925676241743], 'variance': [0.4995194999999999, 0.4999848749999999, 0.4999979999999999], 'shots': [4000, 4000, 4000]}, 'extrapolation': {'extrapolator': 'LinearExtrapolator'}}}])\n"
     ]
    }
   ],
   "source": [
    "psi = QuantumCircuit(1)\n",
    "psi.x(0)\n",
    "\n",
    "H1 = SparsePauliOp.from_operator([\n",
    "    [1/np.sqrt(2), 1/np.sqrt(2)],\n",
    "    [1/np.sqrt(2), -1/np.sqrt(2)]\n",
    "])\n",
    "\n",
    "print (H1)\n",
    "\n",
    "with Session(service=service, backend=\"ibmq_qasm_simulator\") as session:\n",
    "    estimator = Estimator(session=session, options=options)\n",
    "    job = estimator.run(\n",
    "        circuits=[psi], observables=[H1]\n",
    "    )\n",
    "    print(f\"Estimator results: {job.result()}\")\n",
    "    session.close()"
   ]
  },
  {
   "cell_type": "markdown",
   "metadata": {},
   "source": [
    "#### Example 2\n",
    "\n",
    "$\\langle \\psi | ZZ | \\psi\\rangle $\n",
    "\n",
    "$ \\quad = \\frac{1}{\\sqrt2}.\\frac{1}{\\sqrt2} \\begin{bmatrix} \\langle 00| + \\langle 11 | ZZ | 00 \\rangle + |11\\rangle \\end{bmatrix} $\n",
    "\n",
    "$ \\quad = \\frac{1}{2} \\begin{bmatrix}\\begin{bmatrix} \\langle 00| + \\langle 11 \\end{bmatrix} |  \\begin{bmatrix} Z|0 \\rangle.Z|0 \\rangle + Z|1 \\rangle.Z|1\\rangle\\end{bmatrix} \\end{bmatrix} $\n",
    "\n",
    "$ \\quad = \\frac{1}{2} \\begin{bmatrix}\\begin{bmatrix} \\langle 00| + \\langle 11 \\end{bmatrix} |  \\begin{bmatrix} |00 \\rangle + |11 \\rangle \\end{bmatrix} \\end{bmatrix} $\n",
    "\n",
    "$ \\quad = \\frac{1}{2}.2 = 1 $\n"
   ]
  },
  {
   "cell_type": "code",
   "execution_count": 40,
   "metadata": {},
   "outputs": [
    {
     "name": "stdout",
     "output_type": "stream",
     "text": [
      "SparsePauliOp(['ZZ'],\n",
      "              coeffs=[1.+0.j])\n",
      "Estimator results: EstimatorResult(values=array([1.]), metadata=[{'zne': {'noise_amplification': {'noise_amplifier': \"<TwoQubitAmplifier:{'noise_factor_relative_tolerance': 0.01, 'random_seed': None, 'sub_folding_option': 'from_first'}>\", 'noise_factors': [1, 3, 5], 'values': [1.0, 1.0, 1.0], 'variance': [0.0, 0.0, 0.0], 'shots': [4000, 4000, 4000]}, 'extrapolation': {'extrapolator': 'LinearExtrapolator'}}}])\n"
     ]
    }
   ],
   "source": [
    "psi = QuantumCircuit(1)\n",
    "psi.x(0)\n",
    "\n",
    "Z = [\n",
    "    [1,0],\n",
    "    [0,-1]\n",
    "]\n",
    "\n",
    "ZZ = np.kron(Z,Z)\n",
    "\n",
    "H1 = SparsePauliOp.from_operator(ZZ)\n",
    "\n",
    "print (H1)\n",
    "\n",
    "psi = QuantumCircuit(2)\n",
    "psi.h(0)\n",
    "psi.cx(0,1)\n",
    "\n",
    "with Session(service=service, backend=\"ibmq_qasm_simulator\") as session:\n",
    "    estimator = Estimator(session=session, options=options)\n",
    "    job = estimator.run(\n",
    "        circuits=[psi], observables=[H1]\n",
    "    )\n",
    "    print(f\"Estimator results: {job.result()}\")\n",
    "    session.close()\n"
   ]
  },
  {
   "cell_type": "markdown",
   "metadata": {},
   "source": [
    "#### Example 3\n",
    "\n",
    "$\\langle \\psi | ZZ + XX | \\psi\\rangle $\n",
    "\n",
    "$ \\quad = \\frac{1}{\\sqrt2}.\\frac{1}{\\sqrt2} \\begin{bmatrix} \\langle 00| + \\langle 11 | ZZ + XX | 00 \\rangle + |11\\rangle \\end{bmatrix} $\n",
    "\n",
    "$ \\quad = \\frac{1}{2} \\begin{bmatrix} \\begin{bmatrix} \\langle 00| + \\langle 11 \\end{bmatrix} |  \\begin{bmatrix} \\begin{bmatrix} Z|0 \\rangle.Z|0 \\rangle + Z|1 \\rangle.Z|1\\rangle \\end{bmatrix} \\end{bmatrix} + \\begin{bmatrix} X|0 \\rangle.X|0 \\rangle + X|1 \\rangle.X|1\\rangle \\end{bmatrix} \\end{bmatrix}  $\n",
    "\n",
    "$ \\quad = \\frac{1}{2} \\begin{bmatrix}\\begin{bmatrix} \\langle 00| + \\langle 11 \\end{bmatrix} |  \\begin{bmatrix} \\begin{bmatrix} |00 \\rangle + |11 \\rangle \\end{bmatrix} \\end{bmatrix} + \\begin{bmatrix} |11 \\rangle + |00 \\rangle \\end{bmatrix} \\end{bmatrix} $\n",
    "\n",
    "$ \\quad = \\frac{1}{2}.(2 + 2) = 2 $\n"
   ]
  },
  {
   "cell_type": "code",
   "execution_count": 41,
   "metadata": {},
   "outputs": [
    {
     "name": "stdout",
     "output_type": "stream",
     "text": [
      "SparsePauliOp(['XX', 'ZZ'],\n",
      "              coeffs=[1.+0.j, 1.+0.j])\n",
      "Estimator results: EstimatorResult(values=array([2.]), metadata=[{'zne': {'noise_amplification': {'noise_amplifier': \"<TwoQubitAmplifier:{'noise_factor_relative_tolerance': 0.01, 'random_seed': None, 'sub_folding_option': 'from_first'}>\", 'noise_factors': [1, 3, 5], 'values': [2.0, 2.0, 2.0], 'variance': [0.0, 0.0, 0.0], 'shots': [4000, 4000, 4000]}, 'extrapolation': {'extrapolator': 'LinearExtrapolator'}}}])\n"
     ]
    }
   ],
   "source": [
    "psi = QuantumCircuit(1)\n",
    "psi.x(0)\n",
    "\n",
    "Z = [\n",
    "    [1,0],\n",
    "    [0,-1]\n",
    "]\n",
    "\n",
    "X = [\n",
    "    [0,1],\n",
    "    [1,0]\n",
    "]\n",
    "\n",
    "ZZ = np.kron(Z,Z)\n",
    "XX = np.kron(X,X)\n",
    "\n",
    "H1 = SparsePauliOp.from_operator(np.add(ZZ, XX))\n",
    "\n",
    "print (H1)\n",
    "\n",
    "psi = QuantumCircuit(2)\n",
    "psi.h(0)\n",
    "psi.cx(0,1)\n",
    "\n",
    "with Session(service=service, backend=\"ibmq_qasm_simulator\") as session:\n",
    "    estimator = Estimator(session=session, options=options)\n",
    "    job = estimator.run(\n",
    "        circuits=[psi], observables=[H1]\n",
    "    )\n",
    "    print(f\"Estimator results: {job.result()}\")\n",
    "    session.close()\n"
   ]
  }
 ],
 "metadata": {
  "kernelspec": {
   "display_name": "QCML",
   "language": "python",
   "name": "python3"
  },
  "language_info": {
   "codemirror_mode": {
    "name": "ipython",
    "version": 3
   },
   "file_extension": ".py",
   "mimetype": "text/x-python",
   "name": "python",
   "nbconvert_exporter": "python",
   "pygments_lexer": "ipython3",
   "version": "3.9.16"
  },
  "orig_nbformat": 4
 },
 "nbformat": 4,
 "nbformat_minor": 2
}

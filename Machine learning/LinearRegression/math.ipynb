{
 "cells": [
  {
   "attachments": {},
   "cell_type": "markdown",
   "metadata": {},
   "source": [
    "#### Linear regression math. \n",
    "\n",
    "$ Y = X.\\theta $\n",
    "\n",
    "$Y_p$ is the expected value of Y. \n",
    "\n",
    "Error $ E = Y - Y_p $\n",
    "\n",
    "Loss function \n",
    "\n",
    "$ L(\\theta) =  \\sum_{i=1}^m E^2$\n",
    "    $= (Y-X\\theta)^2$ \n",
    "    $\\quad = (Y-X\\theta)^T * (Y-X\\theta) $\\\n",
    "    $\\quad = (Y^T-\\theta^T X^T) * (Y-X\\theta) $ \\\n",
    "    $\\quad = (Y^T.Y -\\theta^T.X^T.Y - Y^T.X.\\theta + \\theta^T.X^T.X.\\theta) $ \\\n",
    "    Substitute the third value $ Y^T.X.\\theta = \\theta^T.X^T.Y$ \\\n",
    "    $\\quad = (Y^T.Y -\\theta^T.X^T.Y - \\theta^T.X^T.Y + \\theta^T.X^T.X.\\theta) $ \n",
    "    $\\quad = (Y^T.Y -2*\\theta^T.X^T.Y + \\theta^T.X^T.X.\\theta) $ \n",
    "    \n",
    "$ \\frac{d(L(\\theta))}{d\\theta} = \\frac{d}{d\\theta} \\begin{bmatrix} (Y^T.X.\\theta -2*\\theta^T.X^T.Y + \\theta^T.X^T.X.\\theta) \\end{bmatrix} $ \n",
    "\n",
    "$ \\quad = \\frac{d}{d\\theta} \\begin{bmatrix} (Y^T.X.\\theta -2*\\theta^T.X^T.(X.\\theta) + \\theta^T.X^T.X.\\theta) \\end{bmatrix} $ \n",
    "\n",
    "$ \\quad = (Y^T.X -2*\\theta^T.X^T.X + \\theta^T.X^T.X) $ \n",
    "\n",
    "$ (Y^T.X -\\theta^T.X^T.X) = 0 $\n",
    "\n",
    "$ Y^T.X  = \\theta^T.(X^T.X) $\n",
    "\n",
    "Take tanspose on both sides. \n",
    "\n",
    "$ X^T.Y = (X^T.X)^T.\\theta $\n",
    "\n",
    "$ X^T.Y = (X.X^T).\\theta $\n"
   ]
  }
 ],
 "metadata": {
  "kernelspec": {
   "display_name": "QCML",
   "language": "python",
   "name": "python3"
  },
  "language_info": {
   "name": "python",
   "version": "3.9.16"
  },
  "orig_nbformat": 4
 },
 "nbformat": 4,
 "nbformat_minor": 2
}

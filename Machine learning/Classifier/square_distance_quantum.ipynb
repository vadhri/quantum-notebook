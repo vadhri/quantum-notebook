{
 "cells": [
  {
   "cell_type": "markdown",
   "metadata": {},
   "source": [
    "#### Quantum square distance classifier."
   ]
  },
  {
   "cell_type": "code",
   "execution_count": 509,
   "metadata": {},
   "outputs": [
    {
     "name": "stdout",
     "output_type": "stream",
     "text": [
      "0.9999999999999997\n",
      "[0.         0.46048653 0.         0.1949943  0.07049794 0.\n",
      " 0.49498552 0.         0.         0.43298734 0.         0.24999269\n",
      " 0.43298734 0.         0.24999269 0.        ]\n"
     ]
    },
    {
     "data": {
      "text/plain": [
       "<qiskit.circuit.instructionset.InstructionSet at 0x7fdb7a5a92b0>"
      ]
     },
     "execution_count": 509,
     "metadata": {},
     "output_type": "execute_result"
    }
   ],
   "source": [
    "from qiskit import *\n",
    "import numpy as np\n",
    "\n",
    "from qiskit.quantum_info import Statevector\n",
    "\n",
    "data = np.array([0,0.921,0,0.39,0.141,0,0.99,0,0,0.866,0,0.5,0.866,0,0.5,0])\n",
    "data_normlized = data/np.linalg.norm(data)\n",
    "\n",
    "print(np.sum([i*i for i in data_normlized]))\n",
    "print (data_normlized)\n",
    "\n",
    "creg = ClassicalRegister(4)\n",
    "qreg = QuantumRegister(4)\n",
    "QC = QuantumCircuit(qreg,creg)\n",
    "QC.initialize(data_normlized)\n",
    "QC.barrier()\n",
    "QC.h(-1)"
   ]
  },
  {
   "cell_type": "code",
   "execution_count": 510,
   "metadata": {},
   "outputs": [
    {
     "data": {
      "text/latex": [
       "$$0.6317814297 |0001\\rangle+0.3146533142 |0011\\rangle+0.356017851 |0100\\rangle+0.5267791439 |0110\\rangle+0.0194448677 |1001\\rangle- \\frac{187570506627 \\cdot 2^{\\frac{19}{29}} \\cdot 3^{\\frac{8}{29}} \\cdot 5^{\\frac{5}{58}} \\cdot 7^{\\frac{43}{58}}}{50000000000000} |1011\\rangle-0.256318711 |1100\\rangle+0.1732360943 |1110\\rangle$$"
      ],
      "text/plain": [
       "<IPython.core.display.Latex object>"
      ]
     },
     "execution_count": 510,
     "metadata": {},
     "output_type": "execute_result"
    }
   ],
   "source": [
    "state = Statevector(QC)\n",
    "state.draw(output=\"Latex\")"
   ]
  },
  {
   "cell_type": "code",
   "execution_count": 511,
   "metadata": {},
   "outputs": [
    {
     "data": {
      "image/png": "[encoded data removed]",
      "text/plain": [
       "<Figure size 631.157x225.75 with 1 Axes>"
      ]
     },
     "execution_count": 511,
     "metadata": {},
     "output_type": "execute_result"
    }
   ],
   "source": [
    "QC.measure(qreg,creg)\n",
    "QC.draw(output=\"mpl\", scale=0.5)\n"
   ]
  },
  {
   "cell_type": "code",
   "execution_count": 512,
   "metadata": {},
   "outputs": [],
   "source": [
    "# from qiskit.primitives import Sampler \n",
    "\n",
    "# job = Sampler().run(QC, shots=1000)\n",
    "\n",
    "# for k,v in (job.result().quasi_dists[0]).items():\n",
    "#     print (bin(k)[2:], v)\n"
   ]
  },
  {
   "cell_type": "code",
   "execution_count": 513,
   "metadata": {},
   "outputs": [
    {
     "name": "stdout",
     "output_type": "stream",
     "text": [
      "{1: 0.403, 3: 0.0984, 4: 0.1308, 6: 0.272, 9: 0.0002, 11: 0.0004, 12: 0.0672, 14: 0.028}\n",
      "0.9042000000000001 0.0958\n"
     ]
    }
   ],
   "source": [
    "from qiskit.primitives import Sampler\n",
    "S = Sampler().run(QC, shots=5000)\n",
    "print (S.result().quasi_dists[0])\n",
    "\n",
    "prob_0 = 0\n",
    "prob_1 = 0\n",
    "for k,v in S.result().quasi_dists[0].items():\n",
    "    if len(bin(k)[2:]) <= 3:\n",
    "        prob_0 += v \n",
    "    else:\n",
    "        prob_1 += v \n",
    "\n",
    "print (prob_0, prob_1)"
   ]
  }
 ],
 "metadata": {
  "kernelspec": {
   "display_name": "QCML",
   "language": "python",
   "name": "python3"
  },
  "language_info": {
   "codemirror_mode": {
    "name": "ipython",
    "version": 3
   },
   "file_extension": ".py",
   "mimetype": "text/x-python",
   "name": "python",
   "nbconvert_exporter": "python",
   "pygments_lexer": "ipython3",
   "version": "3.9.16"
  },
  "orig_nbformat": 4
 },
 "nbformat": 4,
 "nbformat_minor": 2
}

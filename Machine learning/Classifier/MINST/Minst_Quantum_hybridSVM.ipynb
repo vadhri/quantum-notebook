{
 "cells": [
  {
   "cell_type": "code",
   "execution_count": 38,
   "metadata": {},
   "outputs": [
    {
     "name": "stdout",
     "output_type": "stream",
     "text": [
      "Number of qubits being used :  3\n",
      "2 3 1.0\n",
      "Number of qubits being used :  4\n",
      "2 4 1.0\n",
      "Number of qubits being used :  5\n",
      "2 5 1.0\n",
      "Number of qubits being used :  3\n",
      "10 3 0.7022222222222222\n",
      "Number of qubits being used :  4\n",
      "10 4 0.7644444444444445\n",
      "Number of qubits being used :  5\n",
      "10 5 0.7977777777777778\n",
      "defaultdict(<class 'list'>, {'quantum': defaultdict(<class 'list'>, {2: [(3, 1.0), (4, 1.0), (5, 1.0)], 10: [(3, 0.7022222222222222), (4, 0.7644444444444445), (5, 0.7977777777777778)]}), 'classical': defaultdict(<class 'list'>, {2: [(3, 1.0), (4, 1.0), (5, 1.0)], 10: [(3, 0.7088888888888889), (4, 0.7688888888888888), (5, 0.8244444444444444)]})})\n"
     ]
    }
   ],
   "source": [
    "import sklearn.datasets\n",
    "import numpy as np\n",
    "import torch\n",
    "from torch.nn.functional import relu\n",
    "\n",
    "from sklearn.svm import SVC\n",
    "from sklearn.datasets import load_iris\n",
    "from sklearn.preprocessing import StandardScaler\n",
    "from sklearn.model_selection import train_test_split\n",
    "from sklearn.metrics import accuracy_score\n",
    "\n",
    "import pennylane as qml\n",
    "from pennylane.templates import AngleEmbedding, StronglyEntanglingLayers\n",
    "from pennylane.operation import Tensor\n",
    "\n",
    "import matplotlib.pyplot as plt\n",
    "from sklearn.decomposition import PCA\n",
    "\n",
    "from collections import defaultdict\n",
    "\n",
    "np.random.seed(42)\n",
    "results = defaultdict(list)\n",
    "\n",
    "results[\"quantum\"] = defaultdict(list)\n",
    "results[\"classical\"] = defaultdict(list)\n",
    "\n",
    "for no_of_classes in [2,10]:\n",
    "    for p in [3,4,5]:\n",
    "        X = sklearn.datasets.load_digits(n_class=no_of_classes)\n",
    "\n",
    "        scaler = StandardScaler().fit(X.data)\n",
    "        X_scaled = scaler.transform(X.data)\n",
    "\n",
    "        pca = PCA(n_components=p)\n",
    "        pca.fit(X_scaled)\n",
    "        X_transform_pca = pca.transform(X_scaled)\n",
    "\n",
    "        y_scaled = 2 * (X.target - 0.5)\n",
    "\n",
    "        X_train, X_test, y_train, y_test = train_test_split(X_transform_pca, y_scaled)\n",
    "        \n",
    "        for x in range(len(X_train)):\n",
    "            X_train[x] = X_train[x]/np.linalg.norm(X_train[x])\n",
    "\n",
    "        for x in range(len(X_test)):\n",
    "            X_test[x] = X_test[x]/np.linalg.norm(X_test[x])\n",
    "\n",
    "        n_qubits = len(X_train[0])\n",
    "        \n",
    "        print('Number of qubits being used : ', n_qubits)\n",
    "\n",
    "        dev_kernel = qml.device(\"lightning.qubit\", wires=n_qubits)\n",
    "\n",
    "        projector = np.zeros((2**n_qubits, 2**n_qubits))\n",
    "        projector[0, 0] = 1\n",
    "\n",
    "        @qml.qnode(dev_kernel, interface=\"autograd\")\n",
    "        def kernel(x1, x2):\n",
    "            AngleEmbedding(x1, wires=range(n_qubits))\n",
    "            qml.adjoint(AngleEmbedding)(x2, wires=range(n_qubits))            \n",
    "            return qml.expval(qml.Hermitian(projector, wires=range(n_qubits)))\n",
    "\n",
    "        def kernel_matrix(A, B):\n",
    "            return np.array([[kernel(a, b) for b in B] for a in A])\n",
    "\n",
    "        qclassifier = SVC(kernel=kernel_matrix).fit(X_train, y_train)\n",
    "\n",
    "        predictions = qclassifier.predict(X_test)\n",
    "        score = accuracy_score(predictions, y_test)\n",
    "\n",
    "        results['quantum'][no_of_classes].append((p,score))\n",
    "        print (no_of_classes, p, score)f\n",
    "\n",
    "        clf = svm.SVC(kernel='rbf')\n",
    "        clf.fit(X_train, y_train)\n",
    "        predictions = clf.predict(X_test)\n",
    "        results['classical'][no_of_classes].append((p,accuracy_score(predictions, y_test)))\n",
    "\n",
    "print (results)"
   ]
  },
  {
   "cell_type": "code",
   "execution_count": 59,
   "metadata": {},
   "outputs": [
    {
     "name": "stdout",
     "output_type": "stream",
     "text": [
      "No of dimensions used for 10 classes -  2\n"
     ]
    },
    {
     "data": {
      "image/png": "[encoded data removed]",
      "text/plain": [
       "<Figure size 640x480 with 1 Axes>"
      ]
     },
     "metadata": {},
     "output_type": "display_data"
    },
    {
     "name": "stdout",
     "output_type": "stream",
     "text": [
      "No of dimensions used for 10 classes -  10\n"
     ]
    },
    {
     "data": {
      "image/png": "[encoded data removed]",
      "text/plain": [
       "<Figure size 640x480 with 1 Axes>"
      ]
     },
     "metadata": {},
     "output_type": "display_data"
    }
   ],
   "source": [
    "for i in results['quantum'].keys():\n",
    "        print ('No of dimensions used for 10 classes - ', i)\n",
    "        qubits, accuracies = list(zip(*results['quantum'][i]))\n",
    "\n",
    "        plt.bar(qubits, accuracies)\n",
    "        plt.show()\n",
    "\n",
    "for i in results['classical'].keys():\n",
    "        print ('No of dimensions used for 10 classes - ', i)\n",
    "        qubits, accuracies = list(zip(*results['quantum'][i]))\n",
    "\n",
    "        plt.bar(qubits, accuracies)\n",
    "        plt.show()\n"
   ]
  }
 ],
 "metadata": {
  "kernelspec": {
   "display_name": "QCML",
   "language": "python",
   "name": "python3"
  },
  "language_info": {
   "codemirror_mode": {
    "name": "ipython",
    "version": 3
   },
   "file_extension": ".py",
   "mimetype": "text/x-python",
   "name": "python",
   "nbconvert_exporter": "python",
   "pygments_lexer": "ipython3",
   "version": "3.9.16"
  }
 },
 "nbformat": 4,
 "nbformat_minor": 2
}

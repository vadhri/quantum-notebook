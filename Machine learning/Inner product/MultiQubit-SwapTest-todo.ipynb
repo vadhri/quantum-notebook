{
 "cells": [
  {
   "attachments": {},
   "cell_type": "markdown",
   "metadata": {},
   "source": [
    "Swap test for an arbitrary nnumber of quantum states.\n",
    "https://arxiv.org/pdf/2110.13261.pdf"
   ]
  },
  {
   "cell_type": "code",
   "execution_count": 79,
   "metadata": {},
   "outputs": [
    {
     "data": {
      "text/latex": [
       "$$\\frac{\\sqrt{2}}{2} |00000\\rangle+\\frac{\\sqrt{2}}{4} |00110\\rangle- \\frac{\\sqrt{2}}{4} |00111\\rangle- \\frac{\\sqrt{2}}{4} |11000\\rangle- \\frac{\\sqrt{2}}{4} |11001\\rangle$$"
      ],
      "text/plain": [
       "<IPython.core.display.Latex object>"
      ]
     },
     "execution_count": 79,
     "metadata": {},
     "output_type": "execute_result"
    }
   ],
   "source": [
    "from qiskit import *\n",
    "from qiskit.quantum_info import Statevector\n",
    "from qiskit.visualization import *\n",
    "\n",
    "anc = QuantumRegister(1)\n",
    "psi = QuantumRegister(2)\n",
    "phi = QuantumRegister(2)\n",
    "creg = ClassicalRegister(1)\n",
    "\n",
    "QC = QuantumCircuit(anc, psi, phi, creg)\n",
    "\n",
    "QC.h(anc[0])\n",
    "\n",
    "StatePsi = QuantumCircuit(2)\n",
    "StatePsi.h(0)\n",
    "StatePsi.cx(0, 1)\n",
    "UStatePsi = StatePsi.to_gate().control(1)\n",
    "\n",
    "QC.append(UStatePsi, [anc[0], psi[0], psi[1]])\n",
    "\n",
    "StatePhi = QuantumCircuit(2)\n",
    "StatePhi.x(0)\n",
    "StatePhi.h(0)\n",
    "StatePhi.cx(0, 1)\n",
    "UStatePhi = StatePhi.to_gate().control(1)\n",
    "\n",
    "QC.x(anc[0])\n",
    "\n",
    "QC.append(UStatePhi, [anc[0], phi[0], phi[1]])\n",
    "QC.x(anc[0])\n",
    "QC.barrier()\n",
    "\n",
    "QC.h(anc[0])\n",
    "state = Statevector(QC)\n",
    "state.draw(output=\"Latex\")"
   ]
  },
  {
   "cell_type": "code",
   "execution_count": 80,
   "metadata": {},
   "outputs": [
    {
     "data": {
      "text/html": [
       "<pre style=\"word-wrap: normal;white-space: pre;background: #fff0;line-height: 1.1;font-family: &quot;Courier New&quot;,Courier,monospace\">        ┌───┐                ┌───┐                ┌───┐ ░ ┌───┐┌─┐\n",
       "  q196: ┤ H ├───────■────────┤ X ├───────■────────┤ X ├─░─┤ H ├┤M├\n",
       "        └───┘┌──────┴───────┐└───┘       │        └───┘ ░ └───┘└╥┘\n",
       "q197_0: ─────┤0             ├────────────┼──────────────░───────╫─\n",
       "             │  circuit-782 │            │              ░       ║ \n",
       "q197_1: ─────┤1             ├────────────┼──────────────░───────╫─\n",
       "             └──────────────┘     ┌──────┴───────┐      ░       ║ \n",
       "q198_0: ──────────────────────────┤0             ├──────░───────╫─\n",
       "                                  │  circuit-792 │      ░       ║ \n",
       "q198_1: ──────────────────────────┤1             ├──────░───────╫─\n",
       "                                  └──────────────┘      ░       ║ \n",
       " c23: 1/════════════════════════════════════════════════════════╩═\n",
       "                                                                0 </pre>"
      ],
      "text/plain": [
       "        ┌───┐                ┌───┐                ┌───┐ ░ ┌───┐┌─┐\n",
       "  q196: ┤ H ├───────■────────┤ X ├───────■────────┤ X ├─░─┤ H ├┤M├\n",
       "        └───┘┌──────┴───────┐└───┘       │        └───┘ ░ └───┘└╥┘\n",
       "q197_0: ─────┤0             ├────────────┼──────────────░───────╫─\n",
       "             │  circuit-782 │            │              ░       ║ \n",
       "q197_1: ─────┤1             ├────────────┼──────────────░───────╫─\n",
       "             └──────────────┘     ┌──────┴───────┐      ░       ║ \n",
       "q198_0: ──────────────────────────┤0             ├──────░───────╫─\n",
       "                                  │  circuit-792 │      ░       ║ \n",
       "q198_1: ──────────────────────────┤1             ├──────░───────╫─\n",
       "                                  └──────────────┘      ░       ║ \n",
       " c23: 1/════════════════════════════════════════════════════════╩═\n",
       "                                                                0 "
      ]
     },
     "execution_count": 80,
     "metadata": {},
     "output_type": "execute_result"
    }
   ],
   "source": [
    "\n",
    "QC.measure(anc[0],creg[0])\n",
    "QC.draw()\n"
   ]
  },
  {
   "cell_type": "code",
   "execution_count": 81,
   "metadata": {},
   "outputs": [
    {
     "data": {
      "image/png": "[encoded data removed]",
      "text/plain": [
       "<Figure size 200x200 with 1 Axes>"
      ]
     },
     "execution_count": 81,
     "metadata": {},
     "output_type": "execute_result"
    }
   ],
   "source": [
    "nShots = 1000\n",
    "backend = Aer.get_backend('aer_simulator_statevector') \n",
    "result = backend.run(transpile(QC, backend), shots=nShots).result()\n",
    "counts = result.get_counts()\n",
    "\n",
    "plot_histogram(result.get_counts(), figsize=(2,2))"
   ]
  },
  {
   "cell_type": "code",
   "execution_count": 82,
   "metadata": {},
   "outputs": [
    {
     "name": "stdout",
     "output_type": "stream",
     "text": [
      "Squared Inner Product: 0.522\n"
     ]
    }
   ],
   "source": [
    "if '0' in counts:\n",
    "    p0 = counts['0']\n",
    "else:\n",
    "    p0 = 0\n",
    "    \n",
    "s = 2*(p0/nShots)-1\n",
    "\n",
    "print(\"Squared Inner Product:\",str(s))"
   ]
  }
 ],
 "metadata": {
  "kernelspec": {
   "display_name": "QCML",
   "language": "python",
   "name": "python3"
  },
  "language_info": {
   "codemirror_mode": {
    "name": "ipython",
    "version": 3
   },
   "file_extension": ".py",
   "mimetype": "text/x-python",
   "name": "python",
   "nbconvert_exporter": "python",
   "pygments_lexer": "ipython3",
   "version": "3.9.16"
  },
  "orig_nbformat": 4
 },
 "nbformat": 4,
 "nbformat_minor": 2
}

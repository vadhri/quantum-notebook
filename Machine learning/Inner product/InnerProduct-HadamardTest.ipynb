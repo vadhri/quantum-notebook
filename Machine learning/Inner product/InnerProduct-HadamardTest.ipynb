{
 "cells": [
  {
   "attachments": {},
   "cell_type": "markdown",
   "metadata": {},
   "source": [
    "Hardmard test for calculation of vector inner product. Lets assume there are two states on qubits $ |a \\rangle $ and $|b \\rangle $ whose values are as below. \n",
    "\n",
    "Convert $|a \\rangle$ and $|b \\rangle$ to be loaded into Unitary 1 and Unitary 2\n",
    "\n",
    "The steps are below. \n",
    "- Prepare qubit 0, in superposition with H. \n",
    "- Apply unitary 1 conditionally to load the state 1 into $ |1 \\rangle $ branch of qubit 0\n",
    "- Apply X gate to Qubit 0 to invert the states\n",
    "- Apply unitary 2 conditionally to load the state 2 into $ |0 \\rangle $ branch of qubit 0\n",
    "- Apply X gate to Qubit 0 to invert the states\n",
    "\n",
    "The example below is for states |+ \\rangle and |- \\rangle"
   ]
  },
  {
   "cell_type": "code",
   "execution_count": 1,
   "metadata": {},
   "outputs": [
    {
     "data": {
      "text/latex": [
       "$$\\frac{\\sqrt{2}}{2} |000\\rangle+\\frac{\\sqrt{2}}{2} |001\\rangle$$"
      ],
      "text/plain": [
       "<IPython.core.display.Latex object>"
      ]
     },
     "execution_count": 1,
     "metadata": {},
     "output_type": "execute_result"
    }
   ],
   "source": [
    "from qiskit import *\n",
    "from qiskit.quantum_info import Statevector\n",
    "from qiskit.visualization import *\n",
    "import math\n",
    "\n",
    "QC = QuantumCircuit(3,1)\n",
    "\n",
    "QC.h(0)\n",
    "\n",
    "Unitary1 = QuantumCircuit(1, name=\"State 1\")\n",
    "Unitary1.h(0)\n",
    "Unitary1 = Unitary1.to_gate().control(1)\n",
    "\n",
    "Unitary2 = QuantumCircuit(1, name=\"State 2\")\n",
    "Unitary2.x(0)\n",
    "Unitary2.h(0)\n",
    "Unitary2 = Unitary2.to_gate().control(1)\n",
    "\n",
    "state = Statevector(QC)\n",
    "state.draw(output=\"Latex\")"
   ]
  },
  {
   "cell_type": "code",
   "execution_count": 2,
   "metadata": {},
   "outputs": [
    {
     "data": {
      "text/latex": [
       "$$\\frac{\\sqrt{2}}{2} |000\\rangle+\\frac{1}{2} |001\\rangle+\\frac{1}{2} |011\\rangle$$"
      ],
      "text/plain": [
       "<IPython.core.display.Latex object>"
      ]
     },
     "execution_count": 2,
     "metadata": {},
     "output_type": "execute_result"
    }
   ],
   "source": [
    "\n",
    "QC.barrier()\n",
    "QC.append(Unitary1, [0,1])\n",
    "\n",
    "state = Statevector(QC)\n",
    "state.draw(output=\"Latex\")"
   ]
  },
  {
   "cell_type": "code",
   "execution_count": 3,
   "metadata": {},
   "outputs": [
    {
     "data": {
      "text/latex": [
       "$$\\frac{1}{2} |000\\rangle+\\frac{1}{2} |001\\rangle- \\frac{1}{2} |010\\rangle+\\frac{1}{2} |011\\rangle$$"
      ],
      "text/plain": [
       "<IPython.core.display.Latex object>"
      ]
     },
     "execution_count": 3,
     "metadata": {},
     "output_type": "execute_result"
    }
   ],
   "source": [
    "QC.x(0)\n",
    "QC.append(Unitary2, [0,1])\n",
    "QC.x(0)\n",
    "state = Statevector(QC)\n",
    "state.draw(output=\"Latex\")"
   ]
  },
  {
   "cell_type": "code",
   "execution_count": 4,
   "metadata": {},
   "outputs": [
    {
     "data": {
      "image/png": "[encoded data removed]",
      "text/plain": [
       "<Figure size 478.193x183.944 with 1 Axes>"
      ]
     },
     "execution_count": 4,
     "metadata": {},
     "output_type": "execute_result"
    }
   ],
   "source": [
    "QC.h(0)\n",
    "QC.measure(0,0)\n",
    "\n",
    "QC.draw(output=\"mpl\", scale=0.5)"
   ]
  },
  {
   "cell_type": "code",
   "execution_count": 5,
   "metadata": {},
   "outputs": [
    {
     "data": {
      "image/png": "[encoded data removed]",
      "text/plain": [
       "<Figure size 200x200 with 1 Axes>"
      ]
     },
     "execution_count": 5,
     "metadata": {},
     "output_type": "execute_result"
    }
   ],
   "source": [
    "nShots = 1000\n",
    "backend = Aer.get_backend('aer_simulator_statevector') \n",
    "result = backend.run(transpile(QC, backend), shots=nShots).result()\n",
    "counts = result.get_counts()\n",
    "\n",
    "plot_histogram(result.get_counts(), figsize=(2,2))"
   ]
  },
  {
   "cell_type": "code",
   "execution_count": 6,
   "metadata": {},
   "outputs": [
    {
     "name": "stdout",
     "output_type": "stream",
     "text": [
      "Squared Inner Product: -0.02400000000000002\n"
     ]
    }
   ],
   "source": [
    "if '0' in counts:\n",
    "    p0 = counts['0']\n",
    "else:\n",
    "    p0 = 0\n",
    "    \n",
    "s = 2*(p0/nShots)-1\n",
    "\n",
    "print(\"Squared Inner Product:\",str(s))"
   ]
  }
 ],
 "metadata": {
  "kernelspec": {
   "display_name": "QCML",
   "language": "python",
   "name": "python3"
  },
  "language_info": {
   "codemirror_mode": {
    "name": "ipython",
    "version": 3
   },
   "file_extension": ".py",
   "mimetype": "text/x-python",
   "name": "python",
   "nbconvert_exporter": "python",
   "pygments_lexer": "ipython3",
   "version": "3.9.16"
  },
  "orig_nbformat": 4
 },
 "nbformat": 4,
 "nbformat_minor": 2
}

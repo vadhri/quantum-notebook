{
 "cells": [
  {
   "cell_type": "code",
   "execution_count": 261,
   "metadata": {},
   "outputs": [],
   "source": [
    "from qiskit import *\n",
    "from qiskit.quantum_info import *\n",
    "from qiskit.circuit.library import *\n",
    "\n",
    "import numpy as np\n",
    "from random import randrange"
   ]
  },
  {
   "cell_type": "code",
   "execution_count": 262,
   "metadata": {},
   "outputs": [],
   "source": [
    "def beta_j_s(j, s, alpha):\n",
    "    num = np.sqrt(sum([alpha[(((2*j)-1)*(2**(s-1)))+l]**1 for l in range(1,2**(s-1)+1)]))\n",
    "    den = np.sqrt(sum([alpha[((j-1)*(2**s))+l]**1 for l in range(1,2**s+1)]))\n",
    "    return (2*np.arcsin(num/den) if num else 0)\n",
    "\n",
    "def prep_state(amplitudes):\n",
    "    alpha = [0]+ amplitudes\n",
    "    alpha = np.round(alpha/np.linalg.norm(alpha,1.0), 20)\n",
    "    num_qubits = int(np.ceil(np.log2(len(alpha)-1)))\n",
    "    total_len = 2**num_qubits\n",
    "    alpha = np.append(alpha, [0]*(total_len-len(alpha)+1))\n",
    "\n",
    "    h = {}\n",
    "\n",
    "    s = 1\n",
    "    for i in range(num_qubits):\n",
    "        total = 2**(num_qubits-s)\n",
    "        jlist = range(1, total+1)\n",
    "\n",
    "        for j in jlist:\n",
    "            h[(s,j)] = beta_j_s(j,s,alpha)\n",
    "\n",
    "        s += 1\n",
    "\n",
    "    QC = QuantumCircuit(num_qubits)\n",
    "    for wire in range(num_qubits, 0, -1):\n",
    "        for j in range(1, 2**(num_qubits-wire)+1):\n",
    "            bitstring = format(j-1, \"#010b\")[-(num_qubits-wire):] if wire != num_qubits else \"\"\n",
    "            print (\"Beta (wire, j)\", (wire,j),num_qubits-wire, \"Rotation angle : \", h[(wire,j)])\n",
    "            control_wires = []\n",
    "            \n",
    "            if not h[(wire,j)]: \n",
    "                continue\n",
    "\n",
    "            for i,b in zip(bitstring, range(wire, num_qubits)):\n",
    "                if i == '0': \n",
    "                    QC.x(b)\n",
    "                control_wires.append(b)\n",
    "                    \n",
    "            G = RYGate(h[(wire,j)], label=\"RY(\" + str(wire) + str(j) + \")\").control(len(control_wires)) if len(control_wires) else RYGate(h[(wire,j)])\n",
    "            QC.append(G, control_wires + [wire-1])\n",
    "\n",
    "            for i,b in zip(bitstring, range(wire, num_qubits)):\n",
    "                if i == '0': \n",
    "                    QC.x(b)\n",
    "\n",
    "    return QC"
   ]
  },
  {
   "cell_type": "code",
   "execution_count": 263,
   "metadata": {},
   "outputs": [
    {
     "name": "stdout",
     "output_type": "stream",
     "text": [
      "Beta (wire, j) (1, 1) 0 Rotation angle :  2.214297435588181\n"
     ]
    },
    {
     "data": {
      "text/latex": [
       "$$\\frac{\\sqrt{5}}{5} |0\\rangle+\\frac{2 \\sqrt{5}}{5} |1\\rangle$$"
      ],
      "text/plain": [
       "<IPython.core.display.Latex object>"
      ]
     },
     "execution_count": 263,
     "metadata": {},
     "output_type": "execute_result"
    }
   ],
   "source": [
    "# prep state 1\n",
    "\n",
    "psiA = prep_state([0.2, 0.8])\n",
    "state = Statevector(psiA)\n",
    "state.draw(output=\"Latex\")"
   ]
  },
  {
   "cell_type": "code",
   "execution_count": 264,
   "metadata": {},
   "outputs": [
    {
     "name": "stdout",
     "output_type": "stream",
     "text": [
      "Beta (wire, j) (1, 1) 0 Rotation angle :  1.9823131728623846\n"
     ]
    },
    {
     "data": {
      "text/latex": [
       "$$\\frac{\\sqrt{30}}{10} |0\\rangle+\\frac{\\sqrt{70}}{10} |1\\rangle$$"
      ],
      "text/plain": [
       "<IPython.core.display.Latex object>"
      ]
     },
     "execution_count": 264,
     "metadata": {},
     "output_type": "execute_result"
    }
   ],
   "source": [
    "# prep state 1\n",
    "psiB = prep_state([0.3, 0.7])\n",
    "state = Statevector(psiB)\n",
    "state.draw(output=\"Latex\")"
   ]
  },
  {
   "cell_type": "code",
   "execution_count": 265,
   "metadata": {},
   "outputs": [
    {
     "data": {
      "text/html": [
       "<pre style=\"word-wrap: normal;white-space: pre;background: #fff0;line-height: 1.1;font-family: &quot;Courier New&quot;,Courier,monospace\">                      ░ ┌───┐   ┌───┐┌─┐\n",
       " anc: ────────────────░─┤ H ├─■─┤ H ├┤M├\n",
       "      ┌─────────────┐ ░ └───┘ │ └───┘└╥┘\n",
       "psiA: ┤ circuit-537 ├─░───────X───────╫─\n",
       "      ├─────────────┤ ░       │       ║ \n",
       "psiB: ┤ circuit-540 ├─░───────X───────╫─\n",
       "      └─────────────┘ ░               ║ \n",
       "c4: 1/════════════════════════════════╩═\n",
       "                                      0 </pre>"
      ],
      "text/plain": [
       "                      ░ ┌───┐   ┌───┐┌─┐\n",
       " anc: ────────────────░─┤ H ├─■─┤ H ├┤M├\n",
       "      ┌─────────────┐ ░ └───┘ │ └───┘└╥┘\n",
       "psiA: ┤ circuit-537 ├─░───────X───────╫─\n",
       "      ├─────────────┤ ░       │       ║ \n",
       "psiB: ┤ circuit-540 ├─░───────X───────╫─\n",
       "      └─────────────┘ ░               ║ \n",
       "c4: 1/════════════════════════════════╩═\n",
       "                                      0 "
      ]
     },
     "execution_count": 265,
     "metadata": {},
     "output_type": "execute_result"
    }
   ],
   "source": [
    "anc = QuantumRegister(1, name=\"anc\")\n",
    "pA = QuantumRegister(1, name=\"psiA\")\n",
    "pB = QuantumRegister(1, name=\"psiB\")\n",
    "classical = ClassicalRegister(1)\n",
    "\n",
    "QC = QuantumCircuit(anc,pA, pB, classical)\n",
    "QC.append(psiA, [1])\n",
    "QC.append(psiB, [2])\n",
    "QC.barrier()\n",
    "QC.h(0)\n",
    "QC.cswap(0,1,2)\n",
    "QC.h(0)\n",
    "QC.measure(0,0)\n",
    "QC.draw()\n"
   ]
  },
  {
   "cell_type": "code",
   "execution_count": 266,
   "metadata": {},
   "outputs": [
    {
     "name": "stdout",
     "output_type": "stream",
     "text": [
      "SamplerResult(quasi_dists=[{0: 0.993, 1: 0.007}], metadata=[{'shots': 1000}])\n"
     ]
    }
   ],
   "source": [
    "from qiskit.primitives import Sampler\n",
    "S = Sampler().run(QC, shots=1000)\n",
    "print (S.result())"
   ]
  },
  {
   "cell_type": "markdown",
   "metadata": {},
   "source": [
    "$ P(0) = \\frac{1}{2}((\\langle a|b \\rangle)^2 + 1) $"
   ]
  },
  {
   "cell_type": "code",
   "execution_count": 267,
   "metadata": {},
   "outputs": [
    {
     "name": "stdout",
     "output_type": "stream",
     "text": [
      "0.993 0.986 0.9929753269845127\n"
     ]
    }
   ],
   "source": [
    "Prob0 = S.result().quasi_dists[0][0]\n",
    "inner_product = np.sqrt(2*Prob0-1)\n",
    "print (Prob0, 2*Prob0-1, inner_product)"
   ]
  },
  {
   "cell_type": "code",
   "execution_count": null,
   "metadata": {},
   "outputs": [],
   "source": []
  }
 ],
 "metadata": {
  "kernelspec": {
   "display_name": "QCML",
   "language": "python",
   "name": "python3"
  },
  "language_info": {
   "codemirror_mode": {
    "name": "ipython",
    "version": 3
   },
   "file_extension": ".py",
   "mimetype": "text/x-python",
   "name": "python",
   "nbconvert_exporter": "python",
   "pygments_lexer": "ipython3",
   "version": "3.9.16"
  },
  "orig_nbformat": 4
 },
 "nbformat": 4,
 "nbformat_minor": 2
}

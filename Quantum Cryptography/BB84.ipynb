{
 "cells": [
  {
   "attachments": {},
   "cell_type": "markdown",
   "id": "73c919a4",
   "metadata": {},
   "source": [
    "# BB84 protocol.\n",
    "\n",
    "## Objective; Transfer 15 bits data from Alice to bob\n",
    "https://en.wikipedia.org/wiki/BB84"
   ]
  },
  {
   "cell_type": "code",
   "execution_count": 13,
   "id": "a761288e",
   "metadata": {},
   "outputs": [],
   "source": [
    "from qiskit import *\n",
    "from qiskit.visualization import *\n",
    "import random \n",
    "\n",
    "def measure_and_count(circuit, N):\n",
    "    for i in range(N):\n",
    "        circuit.measure(i, i)\n",
    "    sim = Aer.get_backend('aer_simulator')\n",
    "    job = execute(circuit, sim)\n",
    "    result = job.result()\n",
    "    counts = result.get_counts()\n",
    "    return counts\n"
   ]
  },
  {
   "attachments": {},
   "cell_type": "markdown",
   "id": "ca76636b",
   "metadata": {},
   "source": [
    "### Generate a 15 bit key for transfer using random choices python library."
   ]
  },
  {
   "cell_type": "code",
   "execution_count": 14,
   "id": "e520f8fa",
   "metadata": {},
   "outputs": [
    {
     "name": "stdout",
     "output_type": "stream",
     "text": [
      "111010111001001\n"
     ]
    }
   ],
   "source": [
    "KeyRandom = random.choices([0,1], k=15)\n",
    "KeyToBeTransimtted = \"\".join([str(a) for a in KeyRandom])\n",
    "\n",
    "print (KeyToBeTransimtted)"
   ]
  },
  {
   "attachments": {},
   "cell_type": "markdown",
   "id": "e4afe50f",
   "metadata": {},
   "source": [
    "The following code, does the following. \n",
    "\n",
    "- Prepares the circuit with the key to be transmitted.\n",
    "- Alice applies random bases and transmits the state ( for the example, we dont have a quantum communication channel, we use the same circuit as alice. )\n",
    "- Bob applies random bases to the state received.\n",
    "- At places, where bases were same, the measurement is compared for same bits for all possiblities and if its same, its used as the key. \n",
    "- At some point, bob receives all the bits. "
   ]
  },
  {
   "cell_type": "code",
   "execution_count": 15,
   "id": "d75583d5",
   "metadata": {},
   "outputs": [
    {
     "name": "stdout",
     "output_type": "stream",
     "text": [
      "Alice key => 111010111001001 \n",
      "Bobs  key => 111010111001001 \n",
      "retrieved in 6 iterations\n"
     ]
    }
   ],
   "source": [
    "\n",
    "N = len(KeyToBeTransimtted)\n",
    "BobFullKeyReceived = False \n",
    "BobsKey = [-1]*N\n",
    "iterations = 0 \n",
    "\n",
    "for i in range(2*N):\n",
    "    QuantumBB84Circuit = QuantumCircuit(N,N)\n",
    "    for idx, i in enumerate(KeyToBeTransimtted):\n",
    "        if i == \"1\":\n",
    "            QuantumBB84Circuit.x(idx)\n",
    "\n",
    "    # Alice choses a basis randomly.\n",
    "\n",
    "    alice_basis_choice = random.choices([0,1], k=N)\n",
    "    for idx, c in enumerate(alice_basis_choice):\n",
    "        if c == 1:\n",
    "            QuantumBB84Circuit.h(idx)\n",
    "\n",
    "    # Bob choses a basis randomly.\n",
    "    bob_basis_choice = random.choices([0,1], k=N)\n",
    "    for idx, c in enumerate(bob_basis_choice):\n",
    "        if c == 1:\n",
    "            QuantumBB84Circuit.h(idx)\n",
    "\n",
    "    z = measure_and_count(QuantumBB84Circuit, N)\n",
    "    \n",
    "    ## publicly share alice and bob basis. \n",
    "\n",
    "    reference = list(z.keys())\n",
    "    reference = [k[::-1] for k in reference]\n",
    "\n",
    "    def get_all_values_at_index(reference, bit_no): \n",
    "        ans = reference[0][bit_no]\n",
    "\n",
    "        for i in range(1, len(reference)):\n",
    "            if ans != reference[i][bit_no]:\n",
    "                return -1\n",
    "        \n",
    "        return ans \n",
    "\n",
    "    for idx, (alice_choice, bob_choice) in enumerate(zip(alice_basis_choice, bob_basis_choice)):\n",
    "        if alice_choice == bob_choice:\n",
    "            ans = get_all_values_at_index(reference, idx)\n",
    "            if BobsKey[idx] == -1 and ans != -1:\n",
    "                BobsKey[idx] = ans\n",
    "\n",
    "    iterations += 1\n",
    "\n",
    "    if -1 not in BobsKey:\n",
    "        break\n",
    "\n",
    "print(\"Alice key =>\", KeyToBeTransimtted, \"\\nBobs  key =>\", \"\".join(BobsKey), '\\nretrieved in' , iterations, 'iterations')"
   ]
  }
 ],
 "metadata": {
  "kernelspec": {
   "display_name": "Python 3 (ipykernel)",
   "language": "python",
   "name": "python3"
  },
  "language_info": {
   "codemirror_mode": {
    "name": "ipython",
    "version": 3
   },
   "file_extension": ".py",
   "mimetype": "text/x-python",
   "name": "python",
   "nbconvert_exporter": "python",
   "pygments_lexer": "ipython3",
   "version": "3.9.16"
  }
 },
 "nbformat": 4,
 "nbformat_minor": 5
}

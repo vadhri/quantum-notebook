{
 "cells": [
  {
   "attachments": {},
   "cell_type": "markdown",
   "id": "73c919a4",
   "metadata": {},
   "source": [
    "# BB84 protocol.\n",
    "\n",
    "https://en.wikipedia.org/wiki/BB84"
   ]
  },
  {
   "cell_type": "code",
   "execution_count": 225,
   "id": "a761288e",
   "metadata": {},
   "outputs": [],
   "source": [
    "from qiskit import *\n",
    "from qiskit.visualization import *\n",
    "import random \n",
    "\n",
    "def measure_and_count(circuit, N):\n",
    "    for i in range(N):\n",
    "        circuit.measure(i, i)\n",
    "    sim = Aer.get_backend('aer_simulator')\n",
    "    job = execute(circuit, sim)\n",
    "    result = job.result()\n",
    "    counts = result.get_counts()\n",
    "    return counts\n"
   ]
  },
  {
   "attachments": {},
   "cell_type": "markdown",
   "id": "ae7d8749",
   "metadata": {},
   "source": [
    "### Objective 1; Transfer 10 bits data from Alice to bob"
   ]
  },
  {
   "cell_type": "code",
   "execution_count": 226,
   "id": "e520f8fa",
   "metadata": {},
   "outputs": [
    {
     "name": "stdout",
     "output_type": "stream",
     "text": [
      "Alice key => 100101110111111 \n",
      "Bobs  key => 100101110111111 \n",
      "retrieved in 4 iterations\n"
     ]
    }
   ],
   "source": [
    "KeyRandom = random.choices([0,1], k=15)\n",
    "KeyToBeTransimtted = \"\".join([str(a) for a in KeyRandom])\n",
    "\n",
    "N = len(KeyToBeTransimtted)\n",
    "BobFullKeyReceived = False \n",
    "BobsKey = [-1]*N\n",
    "iterations = 0 \n",
    "\n",
    "for i in range(4*N):\n",
    "    QuantumBB84Circuit = QuantumCircuit(N,N)\n",
    "    for idx, i in enumerate(KeyToBeTransimtted):\n",
    "        if i == \"1\":\n",
    "            QuantumBB84Circuit.x(idx)\n",
    "\n",
    "    QuantumBB84Circuit.barrier()\n",
    "\n",
    "    # Alice choses a basis randomly.\n",
    "\n",
    "    alice_basis_choice = random.choices([0,1], k=N)\n",
    "    for idx, c in enumerate(alice_basis_choice):\n",
    "        if c == 1:\n",
    "            QuantumBB84Circuit.h(idx)\n",
    "\n",
    "    QuantumBB84Circuit.barrier()\n",
    "\n",
    "    # Bob choses a basis randomly.\n",
    "    bob_basis_choice = random.choices([0,1], k=N)\n",
    "    for idx, c in enumerate(bob_basis_choice):\n",
    "        if c == 1:\n",
    "            QuantumBB84Circuit.h(idx)\n",
    "    QuantumBB84Circuit.barrier()\n",
    "    QuantumBB84Circuit.draw()\n",
    "    z = measure_and_count(QuantumBB84Circuit, N)\n",
    "    \n",
    "    ## publicly share alice and bob basis. \n",
    "\n",
    "    reference = list(z.keys())\n",
    "\n",
    "    reference = [k[::-1] for k in reference]\n",
    "\n",
    "    def get_all_values_at_index(reference, bit_no): \n",
    "        ans = reference[0][bit_no]\n",
    "\n",
    "        for i in range(1, len(reference)):\n",
    "            if ans != reference[i][bit_no]:\n",
    "                return -1\n",
    "        \n",
    "        return ans \n",
    "\n",
    "    for idx, (alice_choice, bob_choice) in enumerate(zip(alice_basis_choice, bob_basis_choice)):\n",
    "        if alice_choice == bob_choice:\n",
    "            ans = get_all_values_at_index(reference, idx)\n",
    "            if BobsKey[idx] == -1 and ans != -1:\n",
    "                BobsKey[idx] = ans\n",
    "\n",
    "    iterations += 1\n",
    "\n",
    "    if -1 not in BobsKey:\n",
    "        break\n",
    "\n",
    "print(\"Alice key =>\", KeyToBeTransimtted, \"\\nBobs  key =>\", \"\".join(BobsKey), '\\nretrieved in' , iterations, 'iterations')\n"
   ]
  }
 ],
 "metadata": {
  "kernelspec": {
   "display_name": "Python 3 (ipykernel)",
   "language": "python",
   "name": "python3"
  },
  "language_info": {
   "codemirror_mode": {
    "name": "ipython",
    "version": 3
   },
   "file_extension": ".py",
   "mimetype": "text/x-python",
   "name": "python",
   "nbconvert_exporter": "python",
   "pygments_lexer": "ipython3",
   "version": "3.9.16"
  }
 },
 "nbformat": 4,
 "nbformat_minor": 5
}

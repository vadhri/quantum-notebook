{
 "cells": [
  {
   "cell_type": "code",
   "execution_count": 3,
   "metadata": {},
   "outputs": [
    {
     "name": "stdout",
     "output_type": "stream",
     "text": [
      "0 0.8754299193299608 [0.09 0.21]\n",
      "1 0.7782623984030669 [0.07999406 0.22000533]\n",
      "2 0.6763756747471665 [0.06998222 0.23003145]\n",
      "3 0.5725516650187013 [0.0599684 0.240081 ]\n",
      "4 0.4695980898674646 [0.04996101 0.25013851]\n",
      "5 0.37027248001722735 [0.03997351 0.26016503]\n",
      "6 0.2771639791667506 [0.03002477 0.27009069]\n",
      "7 0.19253618566684294 [0.02013901 0.27980527]\n",
      "8 0.1181378133808218 [0.01034512 0.28914792]\n",
      "9 0.05499700635038507 [0.00067514 0.29790028]\n",
      "10 0.003232389966376231 [-0.00883841  0.30579012]\n",
      "11 -0.03806255159496605 [-0.01816608  0.31251375]\n",
      "12 -0.07079048791417328 [-0.02728552  0.31777934]\n",
      "13 -0.09762991326905746 [-0.03618503  0.32135951]\n",
      "14 -0.12165699275383413 [-0.04486589  0.32313149]\n",
      "15 -0.14593264484162857 [-0.05334286  0.32308772]\n",
      "16 -0.17319038618708837 [-0.06164291  0.32131798]\n",
      "17 -0.20568044790221496 [-0.06980277  0.31797643]\n",
      "18 -0.24513528612357963 [-0.07786558  0.31324823]\n",
      "19 -0.29278935897310476 [-0.08587737  0.3073236 ]\n",
      "[-0.08587737  0.3073236 ]\n",
      "0b000 0.09707951001965114\n",
      "0b001 0.10924507766141038\n",
      "0b010 0.10924507766141035\n",
      "0b011 0.18443033465752753\n",
      "0b100 0.18443033465752753\n",
      "0b101 0.10924507766141035\n",
      "0b110 0.10924507766141038\n",
      "0b111 0.09707951001965114\n"
     ]
    }
   ],
   "source": [
    "import pennylane as qml \n",
    "import pennylane.numpy as np \n",
    "\n",
    "num_wires = 3\n",
    "dev = qml.device('default.qubit', wires=num_wires)\n",
    "\n",
    "coeffs = [3, -1]\n",
    "obs = [qml.PauliZ(0)@qml.PauliZ(1), qml.PauliZ(0) @ qml.PauliZ(2)]\n",
    "H = qml.Hamiltonian(coeffs, obs)\n",
    "\n",
    "@qml.qnode(dev)\n",
    "def circuit(gamma, alpha, exp=False):\n",
    "    for i in range(num_wires):\n",
    "        qml.Hadamard(i)\n",
    "\n",
    "    for _ in range(3):\n",
    "        qml.CNOT(wires=[0,1])\n",
    "        qml.RZ(2*gamma, 1)\n",
    "        qml.CNOT(wires=[0,1])\n",
    "\n",
    "        qml.CNOT(wires=[0,2])\n",
    "        qml.RZ(2*gamma, 2)\n",
    "        qml.CNOT(wires=[0,2])    \n",
    "\n",
    "        for i in range(num_wires):\n",
    "            qml.RX(2*alpha, wires=i)\n",
    "\n",
    "    if exp: \n",
    "        return qml.probs()\n",
    "\n",
    "    return qml.expval(H)\n",
    "\n",
    "def cost_function(params):\n",
    "    gamma, alpha = params[0], params[1]\n",
    "    return circuit(gamma, alpha)\n",
    "\n",
    "opt = qml.AdamOptimizer(stepsize=0.01)\n",
    "params = np.array([0.1, 0.2], requires_grad=True)\n",
    "\n",
    "for step in range(20):\n",
    "    params, prev_cost = opt.step_and_cost(cost_function, params)\n",
    "    print (step, prev_cost, params)\n",
    "\n",
    "print(params)\n",
    "\n",
    "probs = circuit(params[0], params[1], True)\n",
    "for k,v in enumerate(probs):\n",
    "    print (format(k, '#005b'), v)"
   ]
  }
 ],
 "metadata": {
  "kernelspec": {
   "display_name": "QCML",
   "language": "python",
   "name": "python3"
  },
  "language_info": {
   "codemirror_mode": {
    "name": "ipython",
    "version": 3
   },
   "file_extension": ".py",
   "mimetype": "text/x-python",
   "name": "python",
   "nbconvert_exporter": "python",
   "pygments_lexer": "ipython3",
   "version": "3.9.16"
  }
 },
 "nbformat": 4,
 "nbformat_minor": 2
}

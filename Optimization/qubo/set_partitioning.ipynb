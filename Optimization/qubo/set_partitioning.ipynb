{
 "cells": [
  {
   "cell_type": "markdown",
   "metadata": {},
   "source": [
    "### Set partitioning problem\n",
    "\n",
    "Involves partitioning a set of items into subsets so that\n",
    "each item appears in exactly one subset and the cost of the subsets chosen is minimized"
   ]
  },
  {
   "cell_type": "code",
   "execution_count": 29,
   "metadata": {},
   "outputs": [],
   "source": [
    "from qiskit_optimization import QuadraticProgram\n",
    "from qiskit import BasicAer\n",
    "from qiskit_optimization.algorithms import MinimumEigenOptimizer\n",
    "from qiskit.utils import QuantumInstance\n",
    "from qiskit.primitives import Sampler\n",
    "from qiskit.algorithms.minimum_eigensolvers import QAOA\n",
    "from qiskit_algorithms.optimizers import COBYLA"
   ]
  },
  {
   "cell_type": "markdown",
   "metadata": {},
   "source": [
    "$ min (Y) = 3.x_1 + 2.x_2 + x_3 + x_4 + 3.x_5 + 2.x_6 $ \n",
    "\n",
    "#### Penalty \n",
    "P = -50\n",
    "\n",
    "#### Constraints \n",
    "- $ x_1 + x_3 + x_6 = 1 $\n",
    "- $ x_2 + x_3 + x_5 + x_6 = 1 $\n",
    "- $ x_3 + x_4 + x_5 = 1 $\n",
    "- $ x_1 + x_2 + x_4 + x_6 = 1 $\n",
    "\n",
    "Considering constraints with a penalty, they would look like below. \n",
    " \n",
    "$ min (y) =  3.x_1 + 2.x_2 + x_3 + x_4 + 3.x_5 + 2.x_6 + P(x_1 + x_3 + x_6 - 1)^2 + P( x_2 + x_3 + x_5 + x_6 - 1)^2 + P(x_3 + x_4 + x_5 - 1)^2 + P(x_1 + x_2 + x_4 + x_6 -1)^2 $\n",
    "\n",
    "Subsitute $ x_i = x_i^2 $\n",
    "\n",
    "$ min (y) =  3.x_1^2 + 2.x_2^2 + x_3^2 + x_4^2 + 3.x_5^2 + 2.x_6^2 - 50(x_1 + x_3 + x_6 - 1)^2 - 50( x_2 + x_3 + x_5 + x_6 - 1)^2 - 50(x_3 + x_4 + x_5 - 1)^2 - 50(x_1 + x_2 + x_4 + x_6 -1)^2 $\n",
    "\n",
    "$ min (y) =  -97 x_1^2 + 100 x_1 x_2 + 100 x_1 x_3 + 100 x_1 x_4 + 200 x_1 x_6 + -98 x_2^2 + 100 x_2 x_3 + 100 x_2 x_4 + 100 x_2 x_5 + 200 x_2 x_6 + -149 x_3^2 + 100 x_3 x_4 + 200 x_3 x_5 + 200 x_3 x_6 + -99 x_4^2 + 100 x_4 x_5 + 100 x_4 x_6 + -97 x_5^2 + 100 x_5 x_6 + -148 x_6^2 + 200 $\n",
    "\n",
    "Drop the 200, use the rest for quadratic expression and use it later for substraction."
   ]
  },
  {
   "cell_type": "code",
   "execution_count": 30,
   "metadata": {},
   "outputs": [
    {
     "name": "stdout",
     "output_type": "stream",
     "text": [
      "Problem name: set_partitioning\n",
      "\n",
      "Maximize\n",
      "  -97*x1^2 + 100*x1*x2 + 100*x1*x3 + 100*x1*x4 + 200*x1*x6 - 98*x2^2 + 100*x2*x3\n",
      "  + 100*x2*x4 + 100*x2*x5 + 200*x2*x6 - 149*x3^2 + 100*x3*x4 + 200*x3*x5\n",
      "  + 200*x3*x6 - 99*x4^2 + 100*x4*x5 + 100*x4*x6 - 97*x5^2 + 100*x5*x6 - 148*x6^2\n",
      "\n",
      "Subject to\n",
      "  Linear constraints (4)\n",
      "    x1 + x3 + x6 == 1  'lin_eq1'\n",
      "    x2 + x3 + x5 + x6 == 1  'lin_eq2'\n",
      "    x3 + x4 + x5 == 1  'lin_eq3'\n",
      "    x1 + x2 + x4 + x6 == 1  'lin_eq4'\n",
      "\n",
      "  Binary variables (6)\n",
      "    x1 x2 x3 x4 x5 x6\n",
      "\n"
     ]
    }
   ],
   "source": [
    "subset_cost = [3,2,1,1,3,2]\n",
    "constraints = [\n",
    "    [[1,3,6], [1]],\n",
    "    [[2,3,5,6], [1]],\n",
    "    [[3,4,5], [1]],\n",
    "    [[1,2,4,6], [1]]\n",
    "]\n",
    "mod = QuadraticProgram(\"set_partitioning\")\n",
    "[mod.binary_var(\"x\"+str(i+1)) for i in range(6)]\n",
    "cnt = 1\n",
    "for c,p in constraints:\n",
    "    linear_constraints = {}\n",
    "    for k in c:\n",
    "        linear_constraints[\"x\"+str(k)] = p[0]\n",
    "    mod.linear_constraint(linear=linear_constraints, sense=\"==\", rhs=1, name=\"lin_eq\" + str(cnt))\n",
    "    cnt += 1\n",
    "\n",
    "mod.maximize(quadratic={\n",
    "    (\"x1\", \"x1\"):-97, \n",
    "    (\"x2\", \"x2\"): -98, \n",
    "    (\"x3\", \"x3\"): -149, \n",
    "    (\"x4\", \"x4\"): -99, \n",
    "    (\"x5\", \"x5\"): -97, \n",
    "    (\"x6\", \"x6\"): -148, \n",
    "    (\"x1\", \"x2\"):100,\n",
    "    (\"x1\", \"x3\"):100,(\"x2\", \"x3\"):100,\n",
    "    (\"x1\", \"x4\"):100,(\"x2\", \"x4\"):100,(\"x3\", \"x4\"):100,\n",
    "    (\"x1\", \"x6\"):200,(\"x2\", \"x5\"):100,(\"x2\", \"x6\"):200,(\"x3\", \"x5\"):200,(\"x3\", \"x6\"):200,(\"x4\", \"x5\"):100,(\"x4\", \"x6\"):100,(\"x5\", \"x6\"):100,\n",
    "})\n",
    "\n",
    "print(mod.prettyprint())\n"
   ]
  },
  {
   "cell_type": "code",
   "execution_count": 31,
   "metadata": {},
   "outputs": [
    {
     "data": {
      "text/plain": [
       "([array([1., 0., 0., 0., 1., 0.])], [6.0])"
      ]
     },
     "execution_count": 31,
     "metadata": {},
     "output_type": "execute_result"
    }
   ],
   "source": [
    "quantum_instance = Sampler()\n",
    "qaoa_mes = QAOA(quantum_instance, COBYLA(), reps=2)\n",
    "qaoa = MinimumEigenOptimizer(qaoa_mes)\n",
    "\n",
    "qaoa_result = qaoa.solve(mod)\n",
    "[qaoa_result.x], [200+qaoa_result.fval]\n"
   ]
  },
  {
   "cell_type": "code",
   "execution_count": null,
   "metadata": {},
   "outputs": [],
   "source": []
  }
 ],
 "metadata": {
  "kernelspec": {
   "display_name": "QCML",
   "language": "python",
   "name": "python3"
  },
  "language_info": {
   "codemirror_mode": {
    "name": "ipython",
    "version": 3
   },
   "file_extension": ".py",
   "mimetype": "text/x-python",
   "name": "python",
   "nbconvert_exporter": "python",
   "pygments_lexer": "ipython3",
   "version": "3.9.16"
  },
  "orig_nbformat": 4
 },
 "nbformat": 4,
 "nbformat_minor": 2
}

{
 "cells": [
  {
   "cell_type": "markdown",
   "metadata": {},
   "source": [
    "Solve the following qubo problem for maximum value. \n",
    "\n",
    "$ y = = 2x_1 + 2x_2 + 3x_3 + 3x_4 + 2x_5 − 2x_1.x_2 − 2x_1.x_3 − 2x_2.x_4 − 2x_3.x_4 − 2x_3.x_5 − 2x_4.x_5 $"
   ]
  },
  {
   "cell_type": "code",
   "execution_count": 8,
   "metadata": {},
   "outputs": [],
   "source": [
    "from qiskit_optimization import QuadraticProgram\n",
    "from qiskit import BasicAer\n",
    "from qiskit_optimization.algorithms import MinimumEigenOptimizer\n",
    "from qiskit.utils import QuantumInstance\n",
    "from qiskit.primitives import Sampler\n",
    "from qiskit.algorithms.minimum_eigensolvers import QAOA\n",
    "from qiskit_algorithms.optimizers import COBYLA\n",
    "\n"
   ]
  },
  {
   "cell_type": "markdown",
   "metadata": {},
   "source": [
    "Construct the qubo matrix that satisfies the equation below. \n",
    "\n",
    "$ X^T Q X $"
   ]
  },
  {
   "cell_type": "code",
   "execution_count": 9,
   "metadata": {},
   "outputs": [
    {
     "name": "stdout",
     "output_type": "stream",
     "text": [
      "Problem name: qproblem\n",
      "\n",
      "Maximize\n",
      "  2*x0^2 - 2*x0*x1 - 2*x0*x2 + 2*x1^2 - 2*x1*x3 + 3*x2^2 - 2*x2*x3 - 2*x2*x4\n",
      "  + 3*x3^2 - 2*x3*x4 + 2*x4^2\n",
      "\n",
      "Subject to\n",
      "  No constraints\n",
      "\n",
      "  Binary variables (5)\n",
      "    x0 x1 x2 x3 x4\n",
      "\n"
     ]
    }
   ],
   "source": [
    "\n",
    "Q = [\n",
    "    [2,-1,-1,0,0],\n",
    "    [-1,2,0,-1,0],\n",
    "    [-1,0,3,-1,-1],\n",
    "    [0,-1,-1,3,-1],\n",
    "    [0,0,-1,-1,2]\n",
    "]\n",
    "\n",
    "mod = QuadraticProgram(\"qproblem\")\n",
    "[mod.binary_var() for _ in range(5)]\n",
    "mod.maximize(quadratic=Q)\n",
    "print(mod.prettyprint())"
   ]
  },
  {
   "cell_type": "code",
   "execution_count": 10,
   "metadata": {},
   "outputs": [
    {
     "data": {
      "text/plain": [
       "([array([0., 1., 1., 0., 0.])], [5.0])"
      ]
     },
     "execution_count": 10,
     "metadata": {},
     "output_type": "execute_result"
    }
   ],
   "source": [
    "quantum_instance = Sampler()\n",
    "qaoa_mes = QAOA(quantum_instance, COBYLA(), reps=2)\n",
    "qaoa = MinimumEigenOptimizer(qaoa_mes)\n",
    "\n",
    "qaoa_result = qaoa.solve(mod)\n",
    "[qaoa_result.x], [qaoa_result.fval]\n"
   ]
  }
 ],
 "metadata": {
  "kernelspec": {
   "display_name": "QCML",
   "language": "python",
   "name": "python3"
  },
  "language_info": {
   "codemirror_mode": {
    "name": "ipython",
    "version": 3
   },
   "file_extension": ".py",
   "mimetype": "text/x-python",
   "name": "python",
   "nbconvert_exporter": "python",
   "pygments_lexer": "ipython3",
   "version": "3.9.16"
  },
  "orig_nbformat": 4
 },
 "nbformat": 4,
 "nbformat_minor": 2
}

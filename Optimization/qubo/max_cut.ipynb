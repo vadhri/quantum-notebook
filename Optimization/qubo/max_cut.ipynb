{
 "cells": [
  {
   "cell_type": "markdown",
   "metadata": {},
   "source": [
    "# maxcut graph\n",
    "\n",
    "Given an undirected graph G(V, E) with a vertex set V and an edge set E, \n",
    "the Max Cut problem seeks to partition V into two sets such that the number \n",
    "of edges between the two sets (considered to be severed by the cut), is a large as possible. \n",
    "\n",
    "Maximize $ y = \\sum_{i,j \\in E} (x_i + x_j + 2.x_1.x_2) $ "
   ]
  },
  {
   "cell_type": "code",
   "execution_count": 24,
   "metadata": {},
   "outputs": [
    {
     "data": {
      "image/png": "[encoded data removed]",
      "text/plain": [
       "<Figure size 200x200 with 1 Axes>"
      ]
     },
     "metadata": {},
     "output_type": "display_data"
    }
   ],
   "source": [
    "import networkx as nx \n",
    "import matplotlib.pyplot as plt\n",
    "fig = plt.figure(1, figsize=(2, 2))\n",
    "\n",
    "G = nx.Graph()\n",
    "\n",
    "nodes = [1,2,3,4,5]\n",
    "edges = [(1,2),(1,3),(2,4),(3,4),(3,5),(4,5)]\n",
    "\n",
    "linear = [0]*len(nodes)\n",
    "\n",
    "G.add_nodes_from(nodes)\n",
    "for s,e in edges:\n",
    "    G.add_edge(s,e)\n",
    "    linear[s-1]+=1\n",
    "    linear[e-1]+=1\n",
    "\n",
    "nx.draw(G, with_labels=True)"
   ]
  },
  {
   "cell_type": "code",
   "execution_count": 11,
   "metadata": {},
   "outputs": [],
   "source": [
    "from qiskit_optimization import QuadraticProgram\n",
    "from qiskit import BasicAer\n",
    "from qiskit_optimization.algorithms import MinimumEigenOptimizer\n",
    "from qiskit.utils import QuantumInstance\n",
    "from qiskit.primitives import Sampler\n",
    "from qiskit.algorithms.minimum_eigensolvers import QAOA\n",
    "from qiskit_algorithms.optimizers import COBYLA"
   ]
  },
  {
   "cell_type": "code",
   "execution_count": 25,
   "metadata": {},
   "outputs": [
    {
     "name": "stdout",
     "output_type": "stream",
     "text": [
      "Problem name: maxcut\n",
      "\n",
      "Maximize\n",
      "  -2*x1*x2 - 2*x1*x3 - 2*x2*x4 - 2*x3*x4 - 2*x3*x5 - 2*x4*x5 + 2*x1 + 2*x2\n",
      "  + 3*x3 + 3*x4 + 2*x5\n",
      "\n",
      "Subject to\n",
      "  No constraints\n",
      "\n",
      "  Binary variables (5)\n",
      "    x1 x2 x3 x4 x5\n",
      "\n"
     ]
    }
   ],
   "source": [
    "mod = QuadraticProgram(\"maxcut\")\n",
    "[mod.binary_var(\"x\"+str(i+1)) for i in range(5)]\n",
    "quadratic = {}\n",
    "\n",
    "for s, e in edges:\n",
    "    quadratic[(\"x\"+str(s), \"x\"+str(e))] = -2\n",
    "\n",
    "mod.maximize(linear=linear, quadratic=quadratic)\n",
    "print(mod.prettyprint())"
   ]
  },
  {
   "cell_type": "code",
   "execution_count": 26,
   "metadata": {},
   "outputs": [
    {
     "data": {
      "text/plain": [
       "([array([0., 1., 1., 0., 0.])], [5.0])"
      ]
     },
     "execution_count": 26,
     "metadata": {},
     "output_type": "execute_result"
    }
   ],
   "source": [
    "quantum_instance = Sampler()\n",
    "qaoa_mes = QAOA(quantum_instance, COBYLA(), reps=2)\n",
    "qaoa = MinimumEigenOptimizer(qaoa_mes)\n",
    "\n",
    "qaoa_result = qaoa.solve(mod)\n",
    "[qaoa_result.x], [qaoa_result.fval]"
   ]
  }
 ],
 "metadata": {
  "kernelspec": {
   "display_name": "QCML",
   "language": "python",
   "name": "python3"
  },
  "language_info": {
   "codemirror_mode": {
    "name": "ipython",
    "version": 3
   },
   "file_extension": ".py",
   "mimetype": "text/x-python",
   "name": "python",
   "nbconvert_exporter": "python",
   "pygments_lexer": "ipython3",
   "version": "3.9.16"
  },
  "orig_nbformat": 4
 },
 "nbformat": 4,
 "nbformat_minor": 2
}

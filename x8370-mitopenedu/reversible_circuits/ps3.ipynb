{
 "cells": [
  {
   "attachments": {},
   "cell_type": "markdown",
   "metadata": {},
   "source": [
    "# Reversible two-input demultiplexer\n",
    "\n",
    "Design a reversible circuit, using NOT, CNOT, Toffoli, and Fredkin gates, which acts on the two arbitrary inputs  𝑎,𝑏 , and the two fixed inputs  𝑐=0 ,  𝑑=0 , to produce four bits  𝑎′ ,  𝑏′ ,  𝑐′ ,  𝑑′  of output, where only the  𝑛th  output is  1  (the others are all  0 ), and  𝑛=2𝑏+𝑎 .\n",
    "\n",
    "One-hot-encoding."
   ]
  },
  {
   "attachments": {},
   "cell_type": "markdown",
   "metadata": {},
   "source": [
    "toffoli(a,b,d)\n",
    "\n",
    "not(a)\n",
    "\n",
    "toffoli(a,b,c)\n",
    "\n",
    "not(a)\n",
    "\n",
    "cnot(a,b)\n",
    "\n",
    "not(a)\n",
    "\n",
    "cnot(c,b)\n",
    "\n",
    "cnot(c,a)\n",
    "\n",
    "![alt text](img1.png \"Reversible two-input demultiplexer\")"
   ]
  },
  {
   "cell_type": "code",
   "execution_count": 83,
   "metadata": {},
   "outputs": [
    {
     "data": {
      "image/png": "[encoded data removed]",
      "text/plain": [
       "<Figure size 872.774x451.5 with 1 Axes>"
      ]
     },
     "execution_count": 83,
     "metadata": {},
     "output_type": "execute_result"
    }
   ],
   "source": [
    "from qiskit import *\n",
    "from qiskit.quantum_info import Statevector\n",
    "Q = QuantumCircuit(4, 4)\n",
    "\n",
    "Q.ccx(0,1,3)\n",
    "Q.x(0)\n",
    "Q.ccx(0,1,2)\n",
    "Q.x(0)\n",
    "Q.cx(0,1)\n",
    "Q.x(0)\n",
    "Q.barrier()\n",
    "Q.cx(2,1)\n",
    "Q.cx(2,0)\n",
    "\n",
    "Q.draw(output=\"mpl\")"
   ]
  },
  {
   "cell_type": "code",
   "execution_count": 84,
   "metadata": {},
   "outputs": [
    {
     "data": {
      "text/latex": [
       "$$ |0001\\rangle$$"
      ],
      "text/plain": [
       "<IPython.core.display.Latex object>"
      ]
     },
     "execution_count": 84,
     "metadata": {},
     "output_type": "execute_result"
    }
   ],
   "source": [
    "state = Statevector(Q)\n",
    "state.draw(output=\"Latex\")"
   ]
  },
  {
   "cell_type": "code",
   "execution_count": 85,
   "metadata": {},
   "outputs": [
    {
     "name": "stdout",
     "output_type": "stream",
     "text": [
      "00\n"
     ]
    },
    {
     "data": {
      "text/latex": [
       "$$ |0001\\rangle$$"
      ],
      "text/plain": [
       "<IPython.core.display.Latex object>"
      ]
     },
     "execution_count": 85,
     "metadata": {},
     "output_type": "execute_result"
    }
   ],
   "source": [
    "\n",
    "from qiskit import *\n",
    "from qiskit.quantum_info import Statevector\n",
    "from IPython.core import display\n",
    "h = {}\n",
    "\n",
    "for x in range(4,8):\n",
    "    circuit = (bin(x)[3:])\n",
    "    Q = QuantumCircuit(4, 4)\n",
    "    \n",
    "    if int(circuit[0]):\n",
    "        Q.x(0)\n",
    "    if int(circuit[1]):\n",
    "        Q.x(1)\n",
    "\n",
    "    Q.barrier()\n",
    "\n",
    "    Q.ccx(0,1,3)\n",
    "    Q.x(0)\n",
    "    Q.ccx(0,1,2)\n",
    "    Q.x(0)\n",
    "    Q.cx(0,1)\n",
    "    Q.x(0)\n",
    "    Q.barrier()\n",
    "    Q.cx(2,1)\n",
    "    Q.cx(2,0)\n",
    "    \n",
    "    state = Statevector(Q)\n",
    "    h[circuit]  = state.draw(\"Latex\").data\n",
    "\n",
    "print (\"00\")\n",
    "display.Latex(h['00'])\n"
   ]
  },
  {
   "cell_type": "code",
   "execution_count": 86,
   "metadata": {},
   "outputs": [
    {
     "name": "stdout",
     "output_type": "stream",
     "text": [
      "01\n"
     ]
    },
    {
     "data": {
      "text/latex": [
       "$$ |0100\\rangle$$"
      ],
      "text/plain": [
       "<IPython.core.display.Latex object>"
      ]
     },
     "execution_count": 86,
     "metadata": {},
     "output_type": "execute_result"
    }
   ],
   "source": [
    "print (\"01\")\n",
    "display.Latex(h['01'])"
   ]
  },
  {
   "cell_type": "code",
   "execution_count": 87,
   "metadata": {},
   "outputs": [
    {
     "name": "stdout",
     "output_type": "stream",
     "text": [
      "10\n"
     ]
    },
    {
     "data": {
      "text/latex": [
       "$$ |0010\\rangle$$"
      ],
      "text/plain": [
       "<IPython.core.display.Latex object>"
      ]
     },
     "execution_count": 87,
     "metadata": {},
     "output_type": "execute_result"
    }
   ],
   "source": [
    "print (\"10\")\n",
    "display.Latex(h['10'])"
   ]
  },
  {
   "cell_type": "code",
   "execution_count": 88,
   "metadata": {},
   "outputs": [
    {
     "name": "stdout",
     "output_type": "stream",
     "text": [
      "11\n"
     ]
    },
    {
     "data": {
      "text/latex": [
       "$$ |1000\\rangle$$"
      ],
      "text/plain": [
       "<IPython.core.display.Latex object>"
      ]
     },
     "execution_count": 88,
     "metadata": {},
     "output_type": "execute_result"
    }
   ],
   "source": [
    "print (\"11\")\n",
    "display.Latex(h['11'])"
   ]
  }
 ],
 "metadata": {
  "kernelspec": {
   "display_name": "QCML",
   "language": "python",
   "name": "python3"
  },
  "language_info": {
   "codemirror_mode": {
    "name": "ipython",
    "version": 3
   },
   "file_extension": ".py",
   "mimetype": "text/x-python",
   "name": "python",
   "nbconvert_exporter": "python",
   "pygments_lexer": "ipython3",
   "version": "3.9.16"
  },
  "orig_nbformat": 4
 },
 "nbformat": 4,
 "nbformat_minor": 2
}

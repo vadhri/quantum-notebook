{
 "cells": [
  {
   "cell_type": "markdown",
   "metadata": {},
   "source": [
    "# Assignment 6\n",
    "#### VADHRI VENKATA RATNAM\n",
    "#### 17.06.2023"
   ]
  },
  {
   "cell_type": "code",
   "execution_count": 1,
   "metadata": {},
   "outputs": [],
   "source": [
    "from qiskit import *\n",
    "from qiskit.quantum_info import *\n",
    "from qiskit.extensions import *\n",
    "from random import randrange\n",
    "import numpy\n",
    "from qiskit.circuit.library import CPhaseGate\n",
    "import pennylane as qml\n",
    "import numpy as np\n",
    "\n",
    "from qiskit.extensions import HamiltonianGate\n",
    "from qiskit.quantum_info import Statevector\n",
    "\n",
    "np.set_printoptions(precision=3)\n",
    "\n",
    "import math\n"
   ]
  },
  {
   "cell_type": "markdown",
   "metadata": {},
   "source": [
    "## 1. Fixed point Binary notation of decimal numbers. \n",
    "\n",
    "|Number|Fixed point binary|\n",
    "|-|-|\n",
    "|53|0 110101|\n",
    "|26.5|0 11010.1|\n",
    "|-43.625|1 101011.101|\n",
    "|0.6875|0 0.1011|\n",
    "|55.66|0 110111.101010001111010111|"
   ]
  },
  {
   "cell_type": "markdown",
   "metadata": {},
   "source": [
    "## 2. no of qubits required for basis encoding\n",
    "\n",
    "|F1|F2|F3|F4|F5|F6|F7|F8|F9|F10|F11|F12|F13|F14|F15|F16|F17|F18|F19|F20|\n",
    "|-|-|-|-|-|-|-|-|-|-|-|-|-|-|-|-|-|-|-|-|\n",
    "|6|6|6|6|6|6|6|6|6|6|6|6|6|6|6|6|6|6|6|6|\n",
    "|6|6|6|6|6|6|6|6|6|6|6|6|6|6|6|6|6|6|6|6|\n",
    "|6|6|6|6|6|6|6|6|6|6|6|6|6|6|6|6|6|6|6|6|\n",
    "|6|6|6|6|6|6|6|6|6|6|6|6|6|6|6|6|6|6|6|6|\n",
    "|6|6|6|6|6|6|6|6|6|6|6|6|6|6|6|6|6|6|6|6|\n",
    "|6|6|6|6|6|6|6|6|6|6|6|6|6|6|6|6|6|6|6|6|\n",
    "|6|6|6|6|6|6|6|6|6|6|6|6|6|6|6|6|6|6|6|6|\n",
    "|6|6|6|6|6|6|6|6|6|6|6|6|6|6|6|6|6|6|6|6|\n",
    "|6|6|6|6|6|6|6|6|6|6|6|6|6|6|6|6|6|6|6|6|\n",
    "|6|6|6|6|6|6|6|6|6|6|6|6|6|6|6|6|6|6|6|6|\n",
    "|6|6|6|6|6|6|6|6|6|6|6|6|6|6|6|6|6|6|6|6|\n",
    "|6|6|6|6|6|6|6|6|6|6|6|6|6|6|6|6|6|6|6|6|\n",
    "|6|6|6|6|6|6|6|6|6|6|6|6|6|6|6|6|6|6|6|6|\n",
    "|6|6|6|6|6|6|6|6|6|6|6|6|6|6|6|6|6|6|6|6|\n",
    "|6|6|6|6|6|6|6|6|6|6|6|6|6|6|6|6|6|6|6|6|\n",
    "|6|6|6|6|6|6|6|6|6|6|6|6|6|6|6|6|6|6|6|6|\n",
    "|6|6|6|6|6|6|6|6|6|6|6|6|6|6|6|6|6|6|6|6|\n",
    "|6|6|6|6|6|6|6|6|6|6|6|6|6|6|6|6|6|6|6|6|\n",
    "|6|6|6|6|6|6|6|6|6|6|6|6|6|6|6|6|6|6|6|6|\n",
    "|6|6|6|6|6|6|6|6|6|6|6|6|6|6|6|6|6|6|6|6|\n",
    "\n",
    "\n",
    "1200 (6 * 10 * 20) qubits for 10 features, 20 data points 6 bits each ( assumig that 6 bits contain the full representation.)"
   ]
  },
  {
   "cell_type": "markdown",
   "metadata": {},
   "source": [
    "## 3. Superposition can improve the number of qubits required. \n",
    "\n",
    "One training iteration data would be loaded at one shot which is one row of the table in problem #2. \n",
    "\n",
    "That is 6*20 = 120 qubits. \n",
    "\n",
    "Loading and storage two branches - 2*120 = 240. Two aniclla bits, 242 Qubits."
   ]
  },
  {
   "cell_type": "markdown",
   "metadata": {},
   "source": [
    "## 4. Produce |0101> + |1110> using basis encoding technique. "
   ]
  },
  {
   "cell_type": "markdown",
   "metadata": {},
   "source": [
    "#### Method 1 : Initialize"
   ]
  },
  {
   "cell_type": "code",
   "execution_count": 2,
   "metadata": {},
   "outputs": [
    {
     "data": {
      "image/png": "[encoded data removed]",
      "text/plain": [
       "<Figure size 269.165x183.944 with 1 Axes>"
      ]
     },
     "execution_count": 2,
     "metadata": {},
     "output_type": "execute_result"
    }
   ],
   "source": [
    "from qiskit import *\n",
    "from qiskit.quantum_info import Statevector\n",
    "import math\n",
    "import random\n",
    "\n",
    "data = [0,0,0,0,0, 1/math.sqrt(2), 0,0,0,0,0,0,0,0, 1/math.sqrt(2), 0]\n",
    "total = math.sqrt(sum([i*i for i in data]))\n",
    "normalized_data = [i/total for i in data]\n",
    "\n",
    "num_qubits = 4\n",
    "circ = QuantumCircuit(num_qubits)\n",
    "circ.prepare_state(normalized_data, [0, 1, 2, 3])\n",
    "circ.draw(output=\"mpl\", scale=0.5)"
   ]
  },
  {
   "cell_type": "code",
   "execution_count": 3,
   "metadata": {},
   "outputs": [
    {
     "data": {
      "text/latex": [
       "$$\\frac{\\sqrt{2}}{2} |0101\\rangle+\\frac{\\sqrt{2}}{2} |1110\\rangle$$"
      ],
      "text/plain": [
       "<IPython.core.display.Latex object>"
      ]
     },
     "execution_count": 3,
     "metadata": {},
     "output_type": "execute_result"
    }
   ],
   "source": [
    "state = Statevector(circ)\n",
    "state.draw(output=\"Latex\")"
   ]
  },
  {
   "cell_type": "markdown",
   "metadata": {},
   "source": [
    "#### Method 2 : Superposition\n",
    "\n",
    "A. If the number of bits of training data is 6 bits of a feature, then Processing branch + Storage branch + Ancilla Qubits = 6 + 6 + 2 = 14\n",
    "\n",
    "B. Split the branches by using H gate on A2. \n",
    "\n",
    "C. Load the training vector ( all features of one training vector ) into the processing branch. \n",
    "\n",
    "D. Move the data to storage branch. \n",
    "\n",
    "E. Split the processing branch with Unitary gate which calculates $ U(\\mu) = \\begin{bmatrix} \\sqrt\\frac{\\mu-1}{\\mu} &\\frac{1}{\\sqrt\\mu} \\\\ \\frac{-1}{\\sqrt\\mu}& \\sqrt\\frac{\\mu-1}{\\mu} \\end{bmatrix}$\n",
    "\n",
    "F. Flip A1 for branch where loading register == storage register. \n",
    "\n",
    "G. Reset the storage register and loading register of both both branches.\n",
    "\n",
    "H. Repeat from C, until all vectors are loaded."
   ]
  },
  {
   "cell_type": "code",
   "execution_count": 4,
   "metadata": {},
   "outputs": [
    {
     "name": "stdout",
     "output_type": "stream",
     "text": [
      "1010\n",
      "0111\n"
     ]
    },
    {
     "data": {
      "text/latex": [
       "$$\\frac{\\sqrt{2}}{2} |0000000000\\rangle+0.176776695297 |0000000111\\rangle+0.176776695297 |0000001010\\rangle+\\frac{\\sqrt{7}}{4} |0000010000\\rangle$$"
      ],
      "text/plain": [
       "<IPython.core.display.Latex object>"
      ]
     },
     "execution_count": 4,
     "metadata": {},
     "output_type": "execute_result"
    }
   ],
   "source": [
    "## Load the first training vector\n",
    "from qiskit.circuit.library import MCXGate\n",
    "from qiskit import *\n",
    "from qiskit.quantum_info import *\n",
    "from qiskit.extensions import *\n",
    "from random import randrange\n",
    "import numpy\n",
    "from qiskit.circuit.library import CPhaseGate\n",
    "\n",
    "L = QuantumRegister(4, name=\"L\")\n",
    "A = QuantumRegister(2, name=\"A\")\n",
    "S = QuantumRegister(4, name=\"S\")\n",
    "\n",
    "C = ClassicalRegister(4)\n",
    "QC = QuantumCircuit(S,A,L,C)\n",
    "\n",
    "QC.barrier()\n",
    "\n",
    "# data = [format(randrange(1,100), \"#010b\")[6:] for _ in range(2)]\n",
    "data = ['0101', '1110']\n",
    "QC.h(A[0])\n",
    "m = 1\n",
    "M = 2**len(data[0])\n",
    "\n",
    "for d in data:\n",
    "    print (d[::-1])\n",
    "    QC.barrier()\n",
    "    for i, v in enumerate(d):\n",
    "        if v == '1':\n",
    "            QC.x(L[i])\n",
    "\n",
    "    for i in range(4):\n",
    "        if d[i] == '1':\n",
    "            QC.ccx(A[0], L[i], S[i])\n",
    "    QC.barrier()\n",
    "\n",
    "    QC.cx(A[0], A[1])\n",
    "    Mu = M + 1 - m\n",
    "    UMu = UnitaryGate([[math.sqrt((Mu-1)/(Mu)),1/math.sqrt(Mu)],[-1/math.sqrt(Mu),math.sqrt((Mu-1)/(Mu))]], label=\"UMu\").control()\n",
    "    QC.append(UMu, [A[1], A[0]])\n",
    "    QC.barrier()\n",
    "\n",
    "    gate = MCXGate(8)\n",
    "\n",
    "    # ## reset the first training vector\n",
    "    for i, v in enumerate(d):\n",
    "        if v == '0':\n",
    "            QC.x(L[i])\n",
    "            QC.x(S[i])\n",
    "\n",
    "    QC.barrier()\n",
    "    QC.append(gate, [0,1,2,3,6,7,8,9,5])\n",
    "    QC.barrier()\n",
    "\n",
    "    # ## reset the first training vector\n",
    "    for i, v in enumerate(d):\n",
    "        if v == '0':\n",
    "            QC.x(L[i])\n",
    "            QC.x(S[i])\n",
    "\n",
    "    for i, v in enumerate(d):\n",
    "        if v == '1':\n",
    "            QC.x(L[i])\n",
    "\n",
    "\n",
    "    for i, v in enumerate(d):\n",
    "        if v == '1':\n",
    "            QC.cx(A[0], S[i])\n",
    "    m += 1\n",
    "state = Statevector(QC)\n",
    "state.draw(output=\"Latex\")"
   ]
  },
  {
   "cell_type": "code",
   "execution_count": 5,
   "metadata": {},
   "outputs": [
    {
     "data": {
      "image/png": "[encoded data removed]",
      "text/plain": [
       "<Figure size 1691.25x476.583 with 1 Axes>"
      ]
     },
     "execution_count": 5,
     "metadata": {},
     "output_type": "execute_result"
    }
   ],
   "source": [
    "QC.barrier()\n",
    "for i in range(4):\n",
    "    QC.measure(S[i], C[i])\n",
    "\n",
    "QC.draw(output=\"mpl\", scale=0.5, fold=1000)"
   ]
  },
  {
   "cell_type": "code",
   "execution_count": 6,
   "metadata": {},
   "outputs": [
    {
     "data": {
      "image/png": "[encoded data removed]",
      "text/plain": [
       "<Figure size 300x200 with 1 Axes>"
      ]
     },
     "execution_count": 6,
     "metadata": {},
     "output_type": "execute_result"
    }
   ],
   "source": [
    "backend = Aer.get_backend(\"aer_simulator\")\n",
    "\n",
    "result = execute(QC, backend=backend, shots=10000).result()\n",
    "\n",
    "from IPython.display import Latex\n",
    "from qiskit.visualization import *\n",
    "\n",
    "state_to_latex = result.get_counts()\n",
    "\n",
    "# removing for better visualization\n",
    "del state_to_latex['0000']\n",
    "\n",
    "plot_histogram(state_to_latex, figsize=(3,2))"
   ]
  },
  {
   "cell_type": "markdown",
   "metadata": {},
   "source": [
    "## 5.How many Qubits may be required for the state preperation in amplitude encoding ?  \n",
    "\n",
    "Total number of data points for all rows of data = 10*20 = 200 \n",
    "\n",
    "Number of qubits required = math.ceil(math.log(200,2)) = 8 qubits"
   ]
  },
  {
   "cell_type": "markdown",
   "metadata": {},
   "source": [
    "## 6. Product the state below in amplitude encoding. \n",
    "\n",
    "{0.2, 0.5}, {0.2, 0.1}\n",
    "\n",
    "The following is an example of mottgen state preparration circuit with uniform rotation. \n",
    " "
   ]
  },
  {
   "cell_type": "markdown",
   "metadata": {},
   "source": [
    "### 3 Qubit implementation"
   ]
  },
  {
   "cell_type": "markdown",
   "metadata": {},
   "source": [
    "#### Qiskit"
   ]
  },
  {
   "cell_type": "code",
   "execution_count": 7,
   "metadata": {},
   "outputs": [
    {
     "data": {
      "image/png": "[encoded data removed]",
      "text/plain": [
       "<Figure size 905.414x213.208 with 1 Axes>"
      ]
     },
     "execution_count": 7,
     "metadata": {},
     "output_type": "execute_result"
    }
   ],
   "source": [
    "QC = QuantumCircuit(3)\n",
    "QC.ry(1.15928, 0)\n",
    "QC.ry(2.57765, 1)\n",
    "QC.ry(0.30774, 2)\n",
    "QC.barrier()\n",
    "QC.cx(0,1)\n",
    "\n",
    "QC.ry(-0.56394, 1)\n",
    "QC.cnot(0,1)\n",
    "QC.cnot(1,2)\n",
    "QC.ry(-0.30774, 2)\n",
    "QC.barrier()\n",
    "QC.cnot(0,2)\n",
    "QC.ry(0.30774, 2)\n",
    "QC.cnot(1,2)\n",
    "QC.ry(-0.30774, 2)\n",
    "QC.cnot(0,2)\n",
    "\n",
    "QC.draw(output=\"mpl\", scale=0.75)"
   ]
  },
  {
   "cell_type": "code",
   "execution_count": 8,
   "metadata": {},
   "outputs": [
    {
     "data": {
      "text/latex": [
       "$$0.447212589948 |000\\rangle+7.26716 \\cdot 10^{-7} |001\\rangle+0.707107248889 |010\\rangle+0.447213680738 |011\\rangle+0.316228021719 |111\\rangle$$"
      ],
      "text/plain": [
       "<IPython.core.display.Latex object>"
      ]
     },
     "execution_count": 8,
     "metadata": {},
     "output_type": "execute_result"
    }
   ],
   "source": [
    "S = Statevector(QC)\n",
    "S.draw(output=\"Latex\")"
   ]
  },
  {
   "cell_type": "markdown",
   "metadata": {},
   "source": [
    "#### Pennylane"
   ]
  },
  {
   "cell_type": "code",
   "execution_count": 9,
   "metadata": {},
   "outputs": [
    {
     "name": "stdout",
     "output_type": "stream",
     "text": [
      "[0.4472135954999579, 0.0, 0.7071067811865476, 0.0, 0.0, 0.0, 0.4472135954999579, 0.31622776601683794]\n"
     ]
    }
   ],
   "source": [
    "dev = qml.device('default.qubit', wires=3)\n",
    "\n",
    "@qml.qnode(dev)\n",
    "def circuit(state):\n",
    "    qml.MottonenStatePreparation(state_vector=state, wires=range(3))\n",
    "    return qml.state()\n",
    "\n",
    "state = np.array([0.2, 0, 0.5, 0, 0, 0, 0.2, 0.1])\n",
    "state = [math.sqrt(i) for i in state]\n",
    "print (state)"
   ]
  },
  {
   "cell_type": "code",
   "execution_count": 10,
   "metadata": {},
   "outputs": [
    {
     "name": "stdout",
     "output_type": "stream",
     "text": [
      "(<Figure size 1400x400 with 1 Axes>, <Axes: >)\n"
     ]
    },
    {
     "data": {
      "image/png": "[encoded data removed]",
      "text/plain": [
       "<Figure size 1400x400 with 1 Axes>"
      ]
     },
     "metadata": {},
     "output_type": "display_data"
    }
   ],
   "source": [
    "print(qml.draw_mpl(circuit, decimals=5, expansion_strategy=\"device\", max_length=80)(state))"
   ]
  },
  {
   "cell_type": "markdown",
   "metadata": {},
   "source": [
    "### 2 Qubit implementation"
   ]
  },
  {
   "cell_type": "code",
   "execution_count": 11,
   "metadata": {},
   "outputs": [
    {
     "name": "stdout",
     "output_type": "stream",
     "text": [
      "[0.4472135954999579, 0.7071067811865476, 0.4472135954999579, 0.31622776601683794]\n"
     ]
    }
   ],
   "source": [
    "dev = qml.device('default.qubit', wires=3)\n",
    "\n",
    "@qml.qnode(dev)\n",
    "def circuit(state):\n",
    "    qml.MottonenStatePreparation(state_vector=state, wires=range(2))\n",
    "    return qml.state()\n",
    "\n",
    "state = np.array([0.2, 0.5, 0.2, 0.1])\n",
    "state = [math.sqrt(i) for i in state]\n",
    "print (state)"
   ]
  },
  {
   "cell_type": "code",
   "execution_count": 12,
   "metadata": {},
   "outputs": [
    {
     "name": "stdout",
     "output_type": "stream",
     "text": [
      "(<Figure size 700x300 with 1 Axes>, <Axes: >)\n"
     ]
    },
    {
     "data": {
      "image/png": "[encoded data removed]",
      "text/plain": [
       "<Figure size 700x300 with 1 Axes>"
      ]
     },
     "metadata": {},
     "output_type": "display_data"
    }
   ],
   "source": [
    "print(qml.draw_mpl(circuit, decimals=5, expansion_strategy=\"device\", max_length=80)(state))"
   ]
  },
  {
   "cell_type": "code",
   "execution_count": 13,
   "metadata": {},
   "outputs": [
    {
     "data": {
      "image/png": "[encoded data removed]",
      "text/plain": [
       "<Figure size 403.596x150.5 with 1 Axes>"
      ]
     },
     "execution_count": 13,
     "metadata": {},
     "output_type": "execute_result"
    }
   ],
   "source": [
    "QC = QuantumCircuit(2)\n",
    "QC.ry(1.15928, 0)\n",
    "QC.ry(1.62233, 1)\n",
    "QC.barrier()\n",
    "QC.cx(0,1)\n",
    "\n",
    "QC.ry(0.39137, 1)\n",
    "QC.cnot(0,1)\n",
    "\n",
    "QC.draw(output=\"mpl\", scale=0.75)"
   ]
  },
  {
   "cell_type": "code",
   "execution_count": 14,
   "metadata": {},
   "outputs": [
    {
     "data": {
      "text/latex": [
       "$$0.447216125478 |00\\rangle+0.447213680739 |01\\rangle+0.707105012817 |10\\rangle+0.31622802172 |11\\rangle$$"
      ],
      "text/plain": [
       "<IPython.core.display.Latex object>"
      ]
     },
     "execution_count": 14,
     "metadata": {},
     "output_type": "execute_result"
    }
   ],
   "source": [
    "S = Statevector(QC)\n",
    "S.draw(output=\"Latex\")"
   ]
  },
  {
   "cell_type": "markdown",
   "metadata": {},
   "source": [
    "## 7. For a given matrix A, Do hamiltonian encoding.\n",
    "\n",
    "Provided matrix A is not hermitian, hence we need to convert matrix as below, \n",
    "\n",
    "$ data = \\begin{bmatrix}0 & 0 & 0.073 & -0.438 \\\\\n",
    "0 & 0 & 0.73 & 0 \\\\\n",
    "0.073 & 0.73 & 0 & 0 \\\\\n",
    "-0.438 & 0 & 0 & 0 \\end{bmatrix} $\n",
    "\n",
    "Hamiltonian encoding of above is to convert the data to the form $ e^{iHt} $\n",
    "\n",
    "$ e^{iHt} = \\sum_i \\lambda_i |i \\rangle \\langle i| $ \n",
    "\n",
    "Note : The example below uses the time evolution of 0.05\n",
    "\n",
    "#### Method 1 : Eigen values and vectors"
   ]
  },
  {
   "cell_type": "code",
   "execution_count": 15,
   "metadata": {},
   "outputs": [
    {
     "name": "stdout",
     "output_type": "stream",
     "text": [
      "[[ 1.   -0.j     0.   +0.j     0.   +0.002j  0.   +0.022j]\n",
      " [ 0.   +0.j     0.999+0.j     0.   -0.037j -0.   -0.002j]\n",
      " [ 0.   +0.002j  0.   -0.037j  0.999+0.j    -0.   -0.j   ]\n",
      " [ 0.   +0.022j -0.   -0.002j -0.   -0.j     1.   -0.j   ]]\n"
     ]
    }
   ],
   "source": [
    "data = [[0,0,0.073,0.-0.438],\n",
    "        [0,0,0.730,0],\n",
    "        [0.073,0.730,0,0],\n",
    "        [-0.438,0,0,0]]\n",
    "        \n",
    "eigval, eigvec = np.linalg.eig(data)\n",
    "\n",
    "A = np.array(eigvec[0])\n",
    "AT = np.atleast_2d(A).transpose()\n",
    "l1 = numpy.kron(A, AT)\n",
    "\n",
    "A = np.array(eigvec[1])\n",
    "AT = np.atleast_2d(A).transpose()\n",
    "l2 = numpy.kron(A, AT)\n",
    "\n",
    "A = np.array(eigvec[2])\n",
    "AT = np.atleast_2d(A).transpose()\n",
    "l3 = numpy.kron(A, AT)\n",
    "\n",
    "A = np.array(eigvec[3])\n",
    "AT = np.atleast_2d(A).transpose()\n",
    "l4 = numpy.kron(A, AT)\n",
    "\n",
    "Z = np.exp(1j*eigval[0]*0.05)*l1 + np.exp(1j*eigval[1]*0.05)*l2 + np.exp(1j*eigval[2]*0.05)*l3 + np.exp(1j*eigval[3]*0.05)*l4\n",
    "print(numpy.matrix.round(Z, 3))"
   ]
  },
  {
   "cell_type": "markdown",
   "metadata": {},
   "source": [
    "#### Method 2: Use internal qiskit support for HamiltonianGate. \n"
   ]
  },
  {
   "cell_type": "code",
   "execution_count": 16,
   "metadata": {},
   "outputs": [
    {
     "name": "stdout",
     "output_type": "stream",
     "text": [
      "[[ 1.   +0.j    -0.   +0.j     0.   -0.004j  0.   +0.022j]\n",
      " [-0.   +0.j     0.999+0.j     0.   -0.036j  0.   -0.j   ]\n",
      " [ 0.   -0.004j  0.   -0.036j  0.999+0.j     0.   +0.j   ]\n",
      " [ 0.   +0.022j  0.   -0.j     0.   +0.j     1.   +0.j   ]]\n"
     ]
    },
    {
     "data": {
      "text/html": [
       "<pre style=\"word-wrap: normal;white-space: pre;background: #fff0;line-height: 1.1;font-family: &quot;Courier New&quot;,Courier,monospace\">     ┌──────────┐\n",
       "q_0: ┤0         ├\n",
       "     │  Unitary │\n",
       "q_1: ┤1         ├\n",
       "     └──────────┘</pre>"
      ],
      "text/plain": [
       "     ┌──────────┐\n",
       "q_0: ┤0         ├\n",
       "     │  Unitary │\n",
       "q_1: ┤1         ├\n",
       "     └──────────┘"
      ]
     },
     "execution_count": 16,
     "metadata": {},
     "output_type": "execute_result"
    }
   ],
   "source": [
    "gate = HamiltonianGate(data, 0.05, label=\"H\")\n",
    "Unitary = gate.to_matrix()\n",
    "print(numpy.matrix.round(Unitary, 3))\n",
    "QC = QuantumCircuit(2)\n",
    "QC.append(gate, [0,1])\n",
    "\n",
    "QC.draw()\n",
    "decom = QC.decompose()\n",
    "decom.draw()"
   ]
  },
  {
   "cell_type": "markdown",
   "metadata": {},
   "source": [
    "## 8. Construct a swap gate using CNOT gates.\n",
    "\n",
    "The method below is from Nielsen Fig 1.7 and also in the following research paper.\n",
    "\n",
    "https://www.researchgate.net/publication/216778423_The_cost_of_quantum_gate_primitives"
   ]
  },
  {
   "cell_type": "markdown",
   "metadata": {},
   "source": [
    "#### Swap gate with 3 CNOT gates"
   ]
  },
  {
   "cell_type": "code",
   "execution_count": 17,
   "metadata": {},
   "outputs": [
    {
     "data": {
      "image/png": "[encoded data removed]",
      "text/plain": [
       "<Figure size 269.064x142.139 with 1 Axes>"
      ]
     },
     "execution_count": 17,
     "metadata": {},
     "output_type": "execute_result"
    }
   ],
   "source": [
    "from numpy import pi\n",
    "\n",
    "qreg_q = QuantumRegister(2, 'q')\n",
    "creg_c = ClassicalRegister(1, 'c')\n",
    "circuit = QuantumCircuit(qreg_q, creg_c)\n",
    "\n",
    "circuit.ry(pi / 3, qreg_q[0])\n",
    "circuit.ry(pi / 6, qreg_q[1])\n",
    "circuit.barrier(qreg_q[0], qreg_q[1])\n",
    "circuit.cx(qreg_q[0], qreg_q[1])\n",
    "circuit.cx(qreg_q[1], qreg_q[0])\n",
    "circuit.cx(qreg_q[0], qreg_q[1])\n",
    "circuit.draw(output=\"mpl\", scale=0.5)"
   ]
  },
  {
   "cell_type": "code",
   "execution_count": 18,
   "metadata": {},
   "outputs": [
    {
     "data": {
      "text/latex": [
       "$$0.836516303738 |00\\rangle+0.224143868042 |01\\rangle+0.482962913145 |10\\rangle+0.129409522551 |11\\rangle$$"
      ],
      "text/plain": [
       "<IPython.core.display.Latex object>"
      ]
     },
     "execution_count": 18,
     "metadata": {},
     "output_type": "execute_result"
    }
   ],
   "source": [
    "state = Statevector(circuit)\n",
    "state.draw(output=\"Latex\")"
   ]
  },
  {
   "cell_type": "markdown",
   "metadata": {},
   "source": [
    "#### Swap gate primitive"
   ]
  },
  {
   "cell_type": "code",
   "execution_count": 19,
   "metadata": {},
   "outputs": [
    {
     "data": {
      "text/latex": [
       "$$0.836516303738 |00\\rangle+0.224143868042 |01\\rangle+0.482962913145 |10\\rangle+0.129409522551 |11\\rangle$$"
      ],
      "text/plain": [
       "<IPython.core.display.Latex object>"
      ]
     },
     "execution_count": 19,
     "metadata": {},
     "output_type": "execute_result"
    }
   ],
   "source": [
    "qreg_q = QuantumRegister(2, 'q')\n",
    "creg_c = ClassicalRegister(1, 'c')\n",
    "circuit = QuantumCircuit(qreg_q, creg_c)\n",
    "\n",
    "circuit.ry(pi / 3, qreg_q[0])\n",
    "circuit.ry(pi / 6, qreg_q[1])\n",
    "circuit.barrier(qreg_q[0], qreg_q[1])\n",
    "circuit.swap(qreg_q[0], qreg_q[1])\n",
    "\n",
    "state = Statevector(circuit)\n",
    "state.draw(output=\"Latex\")"
   ]
  },
  {
   "cell_type": "markdown",
   "metadata": {},
   "source": [
    "## 9. Construct the control swap gate matrix using bra-ket notation.\n",
    "\n",
    "A general swap gate, is like the one below. \n",
    "\n",
    "|I|O|\n",
    "|-|-|\n",
    "|00|00|\n",
    "|01|10|\n",
    "|10|01|\n",
    "|11|11|\n",
    "\n",
    "SWAP = $ |00 \\rangle \\langle 00| + |01 \\rangle \\langle 10| + |10 \\rangle \\langle 01| + |11 \\rangle \\langle 11| $\n",
    "\n",
    "CSWAP = $ (|0\\rangle \\langle 0| \\otimes I \\otimes I ) + (|1\\rangle \\langle 1| \\otimes SWAP ) $"
   ]
  },
  {
   "cell_type": "markdown",
   "metadata": {},
   "source": [
    "#### CSWAP matix representation is as below. "
   ]
  },
  {
   "cell_type": "code",
   "execution_count": 20,
   "metadata": {},
   "outputs": [
    {
     "data": {
      "text/plain": [
       "array([[1., 0., 0., 0., 0., 0., 0., 0.],\n",
       "       [0., 1., 0., 0., 0., 0., 0., 0.],\n",
       "       [0., 0., 1., 0., 0., 0., 0., 0.],\n",
       "       [0., 0., 0., 1., 0., 0., 0., 0.],\n",
       "       [0., 0., 0., 0., 1., 0., 0., 0.],\n",
       "       [0., 0., 0., 0., 0., 0., 1., 0.],\n",
       "       [0., 0., 0., 0., 0., 1., 0., 0.],\n",
       "       [0., 0., 0., 0., 0., 0., 0., 1.]])"
      ]
     },
     "execution_count": 20,
     "metadata": {},
     "output_type": "execute_result"
    }
   ],
   "source": [
    "ZB = np.array([[1],[0]])\n",
    "ZK = np.atleast_2d(ZB).transpose()\n",
    "\n",
    "OB = np.array([[0],[1]])\n",
    "OK = np.atleast_2d(OB).transpose()\n",
    "\n",
    "S00 = np.kron(ZB, ZB)\n",
    "S01 = np.kron(ZB, OB)\n",
    "S10 = np.kron(OB, ZB)\n",
    "S11 = np.kron(OB, OB)\n",
    "\n",
    "S00x00 = np.kron(S00, S00.T)\n",
    "S01x10 = np.kron(S01, S10.T)\n",
    "S10x01 = np.kron(S10, S01.T)\n",
    "S11x11 = np.kron(S11, S11.T)\n",
    "\n",
    "SWAP = S00x00 + S01x10 + S10x01 + S11x11\n",
    "Z = np.kron(np.kron(np.kron(ZB,ZK), np.eye(2)), np.eye(2))\n",
    "O = np.kron(np.kron(OB, OK), SWAP)\n",
    "\n",
    "Z + O"
   ]
  },
  {
   "cell_type": "markdown",
   "metadata": {},
   "source": [
    "## 10. SWAP test\n",
    "\n",
    "#### +, 0"
   ]
  },
  {
   "cell_type": "code",
   "execution_count": 21,
   "metadata": {},
   "outputs": [
    {
     "data": {
      "image/png": "[encoded data removed]",
      "text/plain": [
       "<Figure size 310.97x183.944 with 1 Axes>"
      ]
     },
     "execution_count": 21,
     "metadata": {},
     "output_type": "execute_result"
    }
   ],
   "source": [
    "qreg_q = QuantumRegister(3, 'q')\n",
    "creg_c = ClassicalRegister(1, 'c')\n",
    "circuit = QuantumCircuit(qreg_q, creg_c)\n",
    "\n",
    "circuit.h(qreg_q[0])\n",
    "\n",
    "circuit.barrier(qreg_q[0], qreg_q[1], qreg_q[2])\n",
    "circuit.h(qreg_q[2])\n",
    "circuit.cswap(qreg_q[2], qreg_q[0], qreg_q[1])\n",
    "circuit.h(qreg_q[2])\n",
    "circuit.measure(qreg_q[2], creg_c[0])\n",
    "circuit.draw(output=\"mpl\", scale=0.5)"
   ]
  },
  {
   "cell_type": "code",
   "execution_count": 22,
   "metadata": {},
   "outputs": [
    {
     "name": "stdout",
     "output_type": "stream",
     "text": [
      "Squared Inner Product: 0.5 Inner product : 0.7071067811865476\n"
     ]
    }
   ],
   "source": [
    "\n",
    "nShots = 5000\n",
    "backend = Aer.get_backend('aer_simulator_statevector') \n",
    "result = backend.run(transpile(circuit, backend), shots=nShots).result()\n",
    "counts = result.get_counts()\n",
    "if '0' in counts:\n",
    "    b = counts['0']\n",
    "else:\n",
    "    b = 0\n",
    "    \n",
    "s = round(abs(1 - (2*(b/nShots))),1)\n",
    "\n",
    "print(\"Squared Inner Product:\",str(s), 'Inner product :', math.sqrt(s))"
   ]
  },
  {
   "cell_type": "markdown",
   "metadata": {},
   "source": [
    "#### +, +"
   ]
  },
  {
   "cell_type": "code",
   "execution_count": 23,
   "metadata": {},
   "outputs": [
    {
     "data": {
      "image/png": "[encoded data removed]",
      "text/plain": [
       "<Figure size 310.97x183.944 with 1 Axes>"
      ]
     },
     "execution_count": 23,
     "metadata": {},
     "output_type": "execute_result"
    }
   ],
   "source": [
    "qreg_q = QuantumRegister(3, 'q')\n",
    "creg_c = ClassicalRegister(1, 'c')\n",
    "circuit = QuantumCircuit(qreg_q, creg_c)\n",
    "\n",
    "circuit.h(qreg_q[0])\n",
    "circuit.h(qreg_q[1])\n",
    "\n",
    "circuit.barrier(qreg_q[0], qreg_q[1], qreg_q[2])\n",
    "circuit.h(qreg_q[2])\n",
    "circuit.cswap(qreg_q[2], qreg_q[0], qreg_q[1])\n",
    "circuit.h(qreg_q[2])\n",
    "circuit.measure(qreg_q[2], creg_c[0])\n",
    "circuit.draw(output=\"mpl\", scale=0.5)"
   ]
  },
  {
   "cell_type": "code",
   "execution_count": 24,
   "metadata": {},
   "outputs": [
    {
     "name": "stdout",
     "output_type": "stream",
     "text": [
      "Squared Inner Product: 1.0 Inner product : 1.0\n"
     ]
    }
   ],
   "source": [
    "\n",
    "nShots = 5000\n",
    "backend = Aer.get_backend('aer_simulator_statevector') \n",
    "result = backend.run(transpile(circuit, backend), shots=nShots).result()\n",
    "counts = result.get_counts()\n",
    "if '0' in counts:\n",
    "    b = counts['0']\n",
    "else:\n",
    "    b = 0\n",
    "    \n",
    "s = round(abs(1 - (2*(b/nShots))),3)\n",
    "\n",
    "print(\"Squared Inner Product:\",str(s), 'Inner product :', math.sqrt(s))"
   ]
  },
  {
   "cell_type": "markdown",
   "metadata": {},
   "source": [
    "### +, -"
   ]
  },
  {
   "cell_type": "code",
   "execution_count": 25,
   "metadata": {},
   "outputs": [
    {
     "data": {
      "image/png": "[encoded data removed]",
      "text/plain": [
       "<Figure size 352.776x183.944 with 1 Axes>"
      ]
     },
     "execution_count": 25,
     "metadata": {},
     "output_type": "execute_result"
    }
   ],
   "source": [
    "qreg_q = QuantumRegister(3, 'q')\n",
    "creg_c = ClassicalRegister(1, 'c')\n",
    "circuit = QuantumCircuit(qreg_q, creg_c)\n",
    "\n",
    "circuit.h(qreg_q[0])\n",
    "circuit.x(qreg_q[1])\n",
    "circuit.h(qreg_q[1])\n",
    "\n",
    "circuit.barrier(qreg_q[0], qreg_q[1], qreg_q[2])\n",
    "circuit.h(qreg_q[2])\n",
    "circuit.cswap(qreg_q[2], qreg_q[0], qreg_q[1])\n",
    "circuit.h(qreg_q[2])\n",
    "circuit.measure(qreg_q[2], creg_c[0])\n",
    "circuit.draw(output=\"mpl\", scale=0.5)"
   ]
  },
  {
   "cell_type": "code",
   "execution_count": 26,
   "metadata": {},
   "outputs": [
    {
     "name": "stdout",
     "output_type": "stream",
     "text": [
      "Squared Inner Product: 0.0 Inner product : 0.0\n"
     ]
    }
   ],
   "source": [
    "nShots = 5000\n",
    "backend = Aer.get_backend('aer_simulator_statevector') \n",
    "result = backend.run(transpile(circuit, backend), shots=nShots).result()\n",
    "counts = result.get_counts()\n",
    "if '0' in counts:\n",
    "    b = counts['0']\n",
    "else:\n",
    "    b = 0\n",
    "    \n",
    "s = round(abs(1 - (2*(b/nShots))),1)\n",
    "\n",
    "print(\"Squared Inner Product:\",str(s), 'Inner product :', math.sqrt(s))"
   ]
  },
  {
   "cell_type": "code",
   "execution_count": 27,
   "metadata": {},
   "outputs": [
    {
     "data": {
      "image/png": "[encoded data removed]",
      "text/plain": [
       "<Figure size 310.97x183.944 with 1 Axes>"
      ]
     },
     "execution_count": 27,
     "metadata": {},
     "output_type": "execute_result"
    }
   ],
   "source": [
    "qreg_q = QuantumRegister(3, 'q')\n",
    "creg_c = ClassicalRegister(1, 'c')\n",
    "circuit = QuantumCircuit(qreg_q, creg_c)\n",
    "\n",
    "circuit.initialize([3/5, 4/5], 0)\n",
    "circuit.h(qreg_q[1])\n",
    "\n",
    "circuit.barrier(qreg_q[0], qreg_q[1], qreg_q[2])\n",
    "circuit.h(qreg_q[2])\n",
    "circuit.cswap(qreg_q[2], qreg_q[0], qreg_q[1])\n",
    "circuit.h(qreg_q[2])\n",
    "circuit.measure(qreg_q[2], creg_c[0])\n",
    "circuit.draw(output=\"mpl\", scale=0.5)"
   ]
  },
  {
   "cell_type": "code",
   "execution_count": 28,
   "metadata": {},
   "outputs": [
    {
     "name": "stdout",
     "output_type": "stream",
     "text": [
      "Squared Inner Product: 0.9796 Inner product : 0.9897474425326898\n"
     ]
    }
   ],
   "source": [
    "nShots = 5000\n",
    "backend = Aer.get_backend('aer_simulator_statevector') \n",
    "result = backend.run(transpile(circuit, backend), shots=nShots).result()\n",
    "counts = result.get_counts()\n",
    "if '0' in counts:\n",
    "    b = counts['0']\n",
    "else:\n",
    "    b = 0\n",
    "    \n",
    "s = round(abs(1 - (2*(b/nShots))),10)\n",
    "\n",
    "print(\"Squared Inner Product:\",str(s), 'Inner product :', math.sqrt(s))"
   ]
  }
 ],
 "metadata": {
  "kernelspec": {
   "display_name": "Python 3 (ipykernel)",
   "language": "python",
   "name": "python3"
  },
  "language_info": {
   "codemirror_mode": {
    "name": "ipython",
    "version": 3
   },
   "file_extension": ".py",
   "mimetype": "text/x-python",
   "name": "python",
   "nbconvert_exporter": "python",
   "pygments_lexer": "ipython3",
   "version": "3.9.16"
  }
 },
 "nbformat": 4,
 "nbformat_minor": 2
}

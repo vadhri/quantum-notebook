{
 "cells": [
  {
   "cell_type": "markdown",
   "metadata": {},
   "source": [
    "# Expressibility and entangling capability of parameterized quantum circuits for hybrid quantum-classical algorithms\n",
    "\n",
    "In this document, we are replicating the work by S.Sim,P.D.Johnson and A.Aspuru-Guzik *Adv.Quantum.Technol.* **2** 1900070 (2019): https://arxiv.org/abs/1905.10876\n",
    "\n",
    "Consider a parameterized quantum circuit $U(\\mathbf{x})$, and define the quantity\n",
    "$$f(\\mathbf{x},\\mathbf{y}) = |\\langle 0 | U^{\\dagger}(\\mathbf{y})U(\\mathbf{x})|0\\rangle|^{2}$$\n",
    "This quantity is the fidelity of the two states\n",
    "$$\\begin{align*}\n",
    "|\\psi_{\\mathbf{x}}\\rangle = U(\\mathbf{x})|0\\rangle~~&\\text{and}~~|\\psi_{\\mathbf{y}}\\rangle = U(\\mathbf{y})|0\\rangle:\\\\\n",
    "|\\langle \\psi_{\\mathbf{y}}|\\psi_{\\mathbf{x}}\\rangle|^{2} &= |\\langle 0 |U^{\\dagger}(\\mathbf{y})U(\\mathbf{x})|0\\rangle|^{2}.\n",
    "\\end{align*}$$\n",
    "\n",
    "Suppose we generate a bunch of random realizations of $\\mathbf{x},\\mathbf{y}$. This gives us a set of random realizations of $f$; let's call that set $F = \\{f_{1}, f_{2}, \\cdots \\}$.\n",
    "\n",
    "To calculate the expressibility, we need to do 2 things:\n",
    "* Generate a _histogram_ of the elements of $F$. The output of this histogram is a set of bins $B = \\{(l_1, u_1), (l_2, u_2), \\cdots \\}$ where $l_{j}$ ($u_j$) denotes the lower (upper) limit of bin $j$. It also produces an empirical probability distribution function $\\mathrm{Pr}_{\\text{emp}}(j)$, which is simply the probability that a given value of $f$ falls in a bin $j$.\n",
    "* Given the bins of the histogram, we need to compute the probability that a given fidelity value would fall into bin $j$ if the circuit generating that fidelity is drawn from a Haar-random distribution. If the circuit acts on $n$ qubits, the probability of a given fidelity value $f$ is:\n",
    "$$ \\mathrm{Pr}_{\\text{Haar}}(f) = (N -1)*(1-f)^{N-2}~~N=2^{n}.$$\n",
    "To calculate the probability over a bin of the histogram, we do an integral:\n",
    "$$\\mathrm{Pr}_{\\text{Haar}}(j) = \\int_{l_{j}}^{u_{j}}  \\mathrm{Pr}_{\\text{Haar}}(f) ~df =  (1-l_{j})^{N-1}  - (1-u_{j})^{N-1}$$\n",
    "The expressibility is then estimated as the KL divergence between the empirically-observed probability distribution (i.e., the histogram) and the probability distribution that would result under a Haar-random unitary.\n",
    "$$\\text{Expr} = \\mathrm{KL}(\\mathrm{Pr}_{\\text{emp}}|| \\mathrm{Pr}_{\\text{Haar}}) = \\sum_{j} \\mathrm{Pr}_{\\text{emp}}(j)\\log\\left(\\frac{\\mathrm{Pr}_{\\text{emp}}(j)}{\\mathrm{Pr}_{\\text{Haar}}(j)}\\right)$$"
   ]
  },
  {
   "cell_type": "markdown",
   "metadata": {},
   "source": [
    "$x$"
   ]
  },
  {
   "cell_type": "code",
   "execution_count": 73,
   "metadata": {},
   "outputs": [],
   "source": [
    "from matplotlib import pyplot\n",
    "from qiskit import *\n",
    "from qiskit import QuantumRegister, ClassicalRegister, QuantumCircuit\n",
    "from qiskit import IBMQ, Aer, execute,assemble,QuantumCircuit, transpile\n",
    "from qiskit.visualization import plot_histogram, plot_bloch_vector, plot_bloch_multivector\n",
    "from qiskit.quantum_info import Statevector\n",
    "from qiskit.extensions import *\n",
    "\n",
    "from qiskit.quantum_info import random_unitary\n",
    "\n",
    "import matplotlib.pyplot as plt\n",
    "from qiskit.circuit import Parameter,ControlledGate\n",
    "\n",
    "%matplotlib inline\n",
    "import numpy as np\n",
    "import math\n",
    "from math import pi, sqrt\n",
    "\n",
    "from scipy.special import rel_entr\n",
    "from random import seed\n",
    "from random import random\n",
    "import cmath"
   ]
  },
  {
   "cell_type": "code",
   "execution_count": 74,
   "metadata": {},
   "outputs": [],
   "source": [
    "\n",
    "#Possible Bin\n",
    "bins_list=[];\n",
    "for i in range(76):\n",
    "    bins_list.append((i)/75)\n",
    "#Center of the Bean\n",
    "bins_x=[]    \n",
    "for i in range(75):\n",
    "    bins_x.append(bins_list[1]+bins_list[i])\n",
    "def P_harr(l,u,N):\n",
    "    return (1-l)**(N-1)-(1-u)**(N-1)\n",
    "#Harr historgram\n",
    "P_harr_hist=[]\n",
    "for i in range(75):\n",
    "    P_harr_hist.append(P_harr(bins_list[i],bins_list[i+1],2))    \n",
    "#Imaginary    \n",
    "j=(-1)**(1/2)\n",
    "\n",
    "print (P_harr_hist)"
   ]
  },
  {
   "cell_type": "markdown",
   "metadata": {},
   "source": [
    "## Idle Circuit"
   ]
  },
  {
   "cell_type": "code",
   "execution_count": 75,
   "metadata": {},
   "outputs": [],
   "source": [
    "from qiskit.providers.aer import QasmSimulator, StatevectorSimulator, UnitarySimulator\n",
    "backend = QasmSimulator(method='matrix_product_state')\n",
    "\n",
    "nshot=10000\n",
    "nparam=4000\n",
    "fidelity=[]    \n",
    "for x in range(nparam):\n",
    "    th=2*pi*random()\n",
    "    qr = QuantumRegister(1)\n",
    "    cr = ClassicalRegister(1)\n",
    "    qc = QuantumCircuit(qr, cr)\n",
    "    qc.i(qr[0])\n",
    "    qc.i(qr[0])\n",
    "    qc.measure(qr[0],cr[0])\n",
    "    job = execute(qc, backend, shots=nshot)\n",
    "    result = job.result()\n",
    "    count =result.get_counts()\n",
    "\n",
    "    if '0' in count:\n",
    "        ratio=count['0']/nshot\n",
    "    else:\n",
    "        ratio=0\n",
    "    fidelity.append(ratio)\n"
   ]
  },
  {
   "cell_type": "code",
   "execution_count": 76,
   "metadata": {},
   "outputs": [
    {
     "data": {
      "image/png": "[encoded data removed]",
      "text/plain": [
       "<Figure size 640x480 with 1 Axes>"
      ]
     },
     "metadata": {},
     "output_type": "display_data"
    }
   ],
   "source": [
    "weights = np.ones_like(fidelity)/float(len(fidelity))\n",
    "plt.hist(fidelity, bins=bins_list, weights=weights, label='Idle', range=[0, 1])\n",
    "plt.plot(bins_x, P_harr_hist, label='Harr')\n",
    "plt.legend(loc='upper right')\n",
    "plt.show()"
   ]
  },
  {
   "cell_type": "code",
   "execution_count": 77,
   "metadata": {},
   "outputs": [
    {
     "name": "stdout",
     "output_type": "stream",
     "text": [
      "KL(P || Q): 4.317 nats\n"
     ]
    }
   ],
   "source": [
    "# example of calculating the kl divergence (relative entropy) with scipy\n",
    "P_I_hist=np.histogram(fidelity, bins=bins_list, weights=weights, range=[0, 1])[0]\n",
    "kl_pq = rel_entr(P_I_hist, P_harr_hist)\n",
    "print('KL(P || Q): %.3f nats' % sum(kl_pq))"
   ]
  },
  {
   "cell_type": "code",
   "execution_count": 78,
   "metadata": {},
   "outputs": [],
   "source": [
    "class QCNeuron():\n",
    "    def __init__(self, n_qubits, backend, shots):\n",
    "        self.qr = QuantumRegister(n_qubits)\n",
    "        self.cr = ClassicalRegister(1)\n",
    "\n",
    "        self.qc = QuantumCircuit(self.qr, self.cr)\n",
    "        self.n_qubits = n_qubits\n",
    "        self.thetas = {k : Parameter('Theta'+str(k)) for k in range(self.n_qubits)}\n",
    "\n",
    "        self.qc.h(0)\n",
    "        self.qc.cx(1, 0)\n",
    "        self.qc.cx(2, 1)\n",
    "        self.qc.cx(3, 2)\n",
    "\n",
    "        self.qc.barrier()\n",
    "\n",
    "        for k in range(0, 4):\n",
    "            self.qc.ry(self.thetas[k], k)\n",
    "\n",
    "        self.qc.barrier()\n",
    "\n",
    "        self.qc.cx(3, 2)\n",
    "        self.qc.cx(2, 1)\n",
    "        self.qc.cx(1, 0)\n",
    "        self.qc.h(0)\n",
    "\n",
    "        self.qc.measure(self.qr[0], self.cr[0])\n",
    "        # ---------------------------\n",
    "\n",
    "        self.backend = backend\n",
    "        self.shots = shots\n",
    "\n",
    "        self.tqc = transpile(self.qc, backend=self.backend)\n",
    "\n",
    "    def run(self, params):\n",
    "        parameters = {}\n",
    "\n",
    "        for k in range(self.n_qubits):\n",
    "          parameters[self.thetas[k]] = params[k]\n",
    "\n",
    "        qobj = assemble(self.tqc,\n",
    "                        shots=self.shots,\n",
    "                        parameter_binds = [parameters])\n",
    "\n",
    "        job = self.backend.run(qobj)\n",
    "        return job.result().get_counts()"
   ]
  },
  {
   "cell_type": "markdown",
   "metadata": {},
   "source": [
    "## Circuit A"
   ]
  },
  {
   "cell_type": "code",
   "execution_count": 79,
   "metadata": {},
   "outputs": [
    {
     "name": "stdout",
     "output_type": "stream",
     "text": [
      "round  1\n"
     ]
    },
    {
     "name": "stderr",
     "output_type": "stream",
     "text": [
      "/var/folders/n5/sr7wwb8n1wggd7jsk_k37l_w0000gn/T/ipykernel_70247/2085690804.py:45: DeprecationWarning: Using a qobj for run() is deprecated as of qiskit-aer 0.9.0 and will be removed no sooner than 3 months from that release date. Transpiled circuits should now be passed directly using `backend.run(circuits, **run_options).\n",
      "  job = self.backend.run(qobj)\n"
     ]
    },
    {
     "name": "stdout",
     "output_type": "stream",
     "text": [
      "round  501\n",
      "round  1001\n",
      "round  1501\n",
      "round  2001\n",
      "round  2501\n",
      "round  3001\n",
      "round  3501\n"
     ]
    }
   ],
   "source": [
    "from qiskit.providers.aer import QasmSimulator, StatevectorSimulator, UnitarySimulator\n",
    "backend = QasmSimulator(method='matrix_product_state')\n",
    "\n",
    "nshot=3000\n",
    "nparam=4000\n",
    "QC = QCNeuron(4, backend, nshot)\n",
    "\n",
    "fidelity=[]    \n",
    "for x in range(nparam):\n",
    "    if x%500 == 0:\n",
    "        print ('round ', x+1)\n",
    "    th1=2*pi*random()\n",
    "    th2=2*pi*random()\n",
    "    th3=2*pi*random()\n",
    "    th4=2*pi*random()\n",
    "    \n",
    "    count =QC.run([th1, th2, th3, th4])\n",
    "    if '0' in count and '1' in count:\n",
    "        ratio=count['0']/nshot\n",
    "    elif '0' in count and '1' not in count:\n",
    "        ratio=count['0']/nshot\n",
    "    else:\n",
    "        ratio=0\n",
    "\n",
    "    \n",
    "    fidelity.append(ratio)\n"
   ]
  },
  {
   "cell_type": "code",
   "execution_count": 80,
   "metadata": {},
   "outputs": [
    {
     "data": {
      "image/png": "[encoded data removed]",
      "text/plain": [
       "<Figure size 640x480 with 1 Axes>"
      ]
     },
     "metadata": {},
     "output_type": "display_data"
    }
   ],
   "source": [
    "weights = np.ones_like(fidelity)/float(len(fidelity))\n",
    "plt.hist(fidelity, bins=bins_list, weights=weights, label='Bell state')\n",
    "plt.plot(bins_x, P_harr_hist, label='Harr')\n",
    "plt.legend(loc='upper right')\n",
    "plt.show()"
   ]
  },
  {
   "cell_type": "code",
   "execution_count": 81,
   "metadata": {},
   "outputs": [
    {
     "name": "stdout",
     "output_type": "stream",
     "text": [
      "KL(P || Q): 0.215 nats\n"
     ]
    }
   ],
   "source": [
    "#Kullback Leibler divergence\n",
    "P_A_hist=np.histogram(fidelity, bins=bins_list, weights=weights, range=[0, 1])[0]\n",
    "kl_pq = rel_entr(P_A_hist, P_harr_hist)\n",
    "print('KL(P || Q): %.3f nats' % sum(kl_pq))"
   ]
  },
  {
   "cell_type": "code",
   "execution_count": 82,
   "metadata": {},
   "outputs": [],
   "source": [
    "class QCNeuron():\n",
    "    def __init__(self, n_qubits, backend, shots):\n",
    "        self.qr = QuantumRegister(n_qubits)\n",
    "        self.cr = ClassicalRegister(1)\n",
    "        self.n_qubits = n_qubits\n",
    "\n",
    "        self.qc = QuantumCircuit(self.qr, self.cr)\n",
    "        self.thetas = {k : Parameter('Theta'+str(k))for k in range(2*self.n_qubits)}\n",
    "\n",
    "        all_qubits = [i for i in range(n_qubits)]\n",
    "        self.qc.h(all_qubits)\n",
    "        self.qc.barrier()\n",
    "\n",
    "        for k in range(0, 4):\n",
    "          self.qc.ry(self.thetas[k], k)\n",
    "\n",
    "        self.qc.barrier()\n",
    "\n",
    "        self.qc.cx(1, 0)\n",
    "        self.qc.cx(2, 0)\n",
    "        self.qc.cx(3, 0)\n",
    "        self.qc.cx(2, 1)\n",
    "        self.qc.cx(3, 1)\n",
    "        self.qc.cx(3, 2)\n",
    "        self.qc.barrier()\n",
    "\n",
    "        for k in range(0, 4):\n",
    "          self.qc.ry(self.thetas[k+4], k)\n",
    "\n",
    "        self.qc.measure(self.qr[0], self.cr[0])\n",
    "        # ---------------------------\n",
    "\n",
    "        self.backend = backend\n",
    "        self.shots = shots\n",
    "\n",
    "        self.tqc = transpile(self.qc, backend=self.backend)\n",
    "\n",
    "    def run(self, params):\n",
    "        parameters = {}\n",
    "\n",
    "        for k in range(2*self.n_qubits):\n",
    "          parameters[self.thetas[k]] = params[k]\n",
    "\n",
    "        qobj = assemble(self.tqc,\n",
    "                        shots=self.shots,\n",
    "                        parameter_binds = [parameters])\n",
    "\n",
    "        job = self.backend.run(qobj)\n",
    "        return job.result().get_counts()"
   ]
  },
  {
   "cell_type": "code",
   "execution_count": 83,
   "metadata": {},
   "outputs": [
    {
     "name": "stdout",
     "output_type": "stream",
     "text": [
      "round  1\n"
     ]
    },
    {
     "name": "stderr",
     "output_type": "stream",
     "text": [
      "/var/folders/n5/sr7wwb8n1wggd7jsk_k37l_w0000gn/T/ipykernel_70247/1164067958.py:48: DeprecationWarning: Using a qobj for run() is deprecated as of qiskit-aer 0.9.0 and will be removed no sooner than 3 months from that release date. Transpiled circuits should now be passed directly using `backend.run(circuits, **run_options).\n",
      "  job = self.backend.run(qobj)\n"
     ]
    },
    {
     "name": "stdout",
     "output_type": "stream",
     "text": [
      "round  501\n",
      "round  1001\n",
      "round  1501\n",
      "round  2001\n",
      "round  2501\n",
      "round  3001\n",
      "round  3501\n"
     ]
    }
   ],
   "source": [
    "from qiskit.providers.aer import QasmSimulator, StatevectorSimulator, UnitarySimulator\n",
    "backend = QasmSimulator(method='matrix_product_state')\n",
    "\n",
    "nshot=3000\n",
    "nparam=4000\n",
    "QC = QCNeuron(4, backend, nshot)\n",
    "\n",
    "fidelity=[]    \n",
    "for x in range(nparam):\n",
    "    if x%500 == 0:\n",
    "        print ('round ', x+1)\n",
    "\n",
    "    th1=2*pi*random()\n",
    "    th2=2*pi*random()\n",
    "    th3=2*pi*random()\n",
    "    th4=2*pi*random()\n",
    "    th5=2*pi*random()\n",
    "    th6=2*pi*random()\n",
    "    th7=2*pi*random()\n",
    "    th8=2*pi*random()\n",
    "    \n",
    "    count =QC.run([th1, th2, th3, th4, th5, th6, th7, th8])\n",
    "    \n",
    "    if '0' in count and '1' in count:\n",
    "        ratio=count['0']/nshot\n",
    "    elif '0' in count and '1' not in count:\n",
    "        ratio=count['0']/nshot\n",
    "    else:\n",
    "        ratio=0\n",
    "\n",
    "    \n",
    "    fidelity.append(ratio)\n"
   ]
  },
  {
   "cell_type": "code",
   "execution_count": 84,
   "metadata": {},
   "outputs": [
    {
     "data": {
      "image/png": "[encoded data removed]",
      "text/plain": [
       "<Figure size 640x480 with 1 Axes>"
      ]
     },
     "metadata": {},
     "output_type": "display_data"
    }
   ],
   "source": [
    "weights = np.ones_like(fidelity)/float(len(fidelity))\n",
    "plt.hist(fidelity, bins=bins_list, weights=weights, label='Real Amplitudes')\n",
    "plt.plot(bins_x, P_harr_hist, label='Harr')\n",
    "plt.legend(loc='upper right')\n",
    "plt.show()"
   ]
  },
  {
   "cell_type": "code",
   "execution_count": 85,
   "metadata": {},
   "outputs": [
    {
     "name": "stdout",
     "output_type": "stream",
     "text": [
      "KL(P || Q): 0.033 nats\n"
     ]
    }
   ],
   "source": [
    "#Kullback Leibler divergence\n",
    "P_A_hist=np.histogram(fidelity, bins=bins_list, weights=weights, range=[0, 1])[0]\n",
    "kl_pq = rel_entr(P_A_hist, P_harr_hist)\n",
    "print('KL(P || Q): %.3f nats' % sum(kl_pq))"
   ]
  }
 ],
 "metadata": {
  "kernelspec": {
   "display_name": "Python 3",
   "language": "python",
   "name": "python3"
  },
  "language_info": {
   "codemirror_mode": {
    "name": "ipython",
    "version": 3
   },
   "file_extension": ".py",
   "mimetype": "text/x-python",
   "name": "python",
   "nbconvert_exporter": "python",
   "pygments_lexer": "ipython3",
   "version": "3.9.16"
  }
 },
 "nbformat": 4,
 "nbformat_minor": 4
}

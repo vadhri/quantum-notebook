{
  "nbformat": 4,
  "nbformat_minor": 0,
  "metadata": {
    "colab": {
      "provenance": [],
      "toc_visible": true,
      "machine_shape": "hm",
      "gpuType": "V100"
    },
    "kernelspec": {
      "name": "python3",
      "display_name": "Python 3"
    },
    "language_info": {
      "name": "python"
    },
    "accelerator": "GPU"
  },
  "cells": [
    {
      "cell_type": "code",
      "execution_count": null,
      "metadata": {
        "id": "0GDm6UUHYsR6"
      },
      "outputs": [],
      "source": []
    },
    {
      "cell_type": "markdown",
      "source": [
        "# Introduction\n",
        "\n",
        "This notebook demonstrates hybrid cnn with one layer of quantum for binary classification problem using eurosat dataset."
      ],
      "metadata": {
        "id": "PxsfCA0DY_SX"
      }
    },
    {
      "cell_type": "markdown",
      "source": [
        "# Runtime req"
      ],
      "metadata": {
        "id": "p2X5m6n1ZJuL"
      }
    },
    {
      "cell_type": "code",
      "source": [
        "from google.colab import drive\n",
        "drive.mount('/content/drive')"
      ],
      "metadata": {
        "colab": {
          "base_uri": "https://localhost:8080/"
        },
        "id": "RdcLTbjyYvJV",
        "outputId": "ad9fbc23-3acf-483d-a17d-d8af12865812"
      },
      "execution_count": 1,
      "outputs": [
        {
          "output_type": "stream",
          "name": "stdout",
          "text": [
            "Drive already mounted at /content/drive; to attempt to forcibly remount, call drive.mount(\"/content/drive\", force_remount=True).\n"
          ]
        }
      ]
    },
    {
      "cell_type": "code",
      "source": [
        "!pip install -q torch\n",
        "!pip install -q matplotlib\n",
        "!pip install -q visualkeras\n",
        "!pip install -q qiskit\n",
        "!pip install pylatexenc\n",
        "\n",
        "!unzip -q \"/content/drive/MyDrive/colab_notebooks/IITD-QML/EuroSAT_RGB.zip\""
      ],
      "metadata": {
        "colab": {
          "base_uri": "https://localhost:8080/"
        },
        "id": "vNmFdplIZSMu",
        "outputId": "c8691267-0a40-4d46-db88-08c421f97714"
      },
      "execution_count": 2,
      "outputs": [
        {
          "output_type": "stream",
          "name": "stdout",
          "text": [
            "\u001b[?25l     \u001b[90m━━━━━━━━━━━━━━━━━━━━━━━━━━━━━━━━━━━━━━━━\u001b[0m \u001b[32m0.0/993.0 kB\u001b[0m \u001b[31m?\u001b[0m eta \u001b[36m-:--:--\u001b[0m\r\u001b[2K     \u001b[91m━━━━━\u001b[0m\u001b[91m╸\u001b[0m\u001b[90m━━━━━━━━━━━━━━━━━━━━━━━━━━━━━━━━━\u001b[0m \u001b[32m143.4/993.0 kB\u001b[0m \u001b[31m4.5 MB/s\u001b[0m eta \u001b[36m0:00:01\u001b[0m\r\u001b[2K     \u001b[91m━━━━━━━━━━━━━━━━━━━━━━━━━━━━━━━━━━━━━\u001b[0m\u001b[91m╸\u001b[0m \u001b[32m983.0/993.0 kB\u001b[0m \u001b[31m15.8 MB/s\u001b[0m eta \u001b[36m0:00:01\u001b[0m\r\u001b[2K     \u001b[90m━━━━━━━━━━━━━━━━━━━━━━━━━━━━━━━━━━━━━━\u001b[0m \u001b[32m993.0/993.0 kB\u001b[0m \u001b[31m13.1 MB/s\u001b[0m eta \u001b[36m0:00:00\u001b[0m\n",
            "\u001b[?25h  Installing build dependencies ... \u001b[?25l\u001b[?25hdone\n",
            "  Getting requirements to build wheel ... \u001b[?25l\u001b[?25hdone\n",
            "  Installing backend dependencies ... \u001b[?25l\u001b[?25hdone\n",
            "  Preparing metadata (pyproject.toml) ... \u001b[?25l\u001b[?25hdone\n",
            "\u001b[2K     \u001b[90m━━━━━━━━━━━━━━━━━━━━━━━━━━━━━━━━━━━━━━━━\u001b[0m \u001b[32m6.0/6.0 MB\u001b[0m \u001b[31m15.7 MB/s\u001b[0m eta \u001b[36m0:00:00\u001b[0m\n",
            "\u001b[2K     \u001b[90m━━━━━━━━━━━━━━━━━━━━━━━━━━━━━━━━━━━━━━━━\u001b[0m \u001b[32m12.8/12.8 MB\u001b[0m \u001b[31m41.6 MB/s\u001b[0m eta \u001b[36m0:00:00\u001b[0m\n",
            "\u001b[2K     \u001b[90m━━━━━━━━━━━━━━━━━━━━━━━━━━━━━━━━━━━━━━\u001b[0m \u001b[32m241.5/241.5 kB\u001b[0m \u001b[31m16.5 MB/s\u001b[0m eta \u001b[36m0:00:00\u001b[0m\n",
            "\u001b[2K     \u001b[90m━━━━━━━━━━━━━━━━━━━━━━━━━━━━━━━━━━━━━━\u001b[0m \u001b[32m129.9/129.9 kB\u001b[0m \u001b[31m14.2 MB/s\u001b[0m eta \u001b[36m0:00:00\u001b[0m\n",
            "\u001b[2K     \u001b[90m━━━━━━━━━━━━━━━━━━━━━━━━━━━━━━━━━━━━━━━━\u001b[0m \u001b[32m1.9/1.9 MB\u001b[0m \u001b[31m53.1 MB/s\u001b[0m eta \u001b[36m0:00:00\u001b[0m\n",
            "\u001b[2K     \u001b[90m━━━━━━━━━━━━━━━━━━━━━━━━━━━━━━━━━━━━━━━━\u001b[0m \u001b[32m49.6/49.6 kB\u001b[0m \u001b[31m5.3 MB/s\u001b[0m eta \u001b[36m0:00:00\u001b[0m\n",
            "\u001b[2K     \u001b[90m━━━━━━━━━━━━━━━━━━━━━━━━━━━━━━━━━━━━━━\u001b[0m \u001b[32m110.5/110.5 kB\u001b[0m \u001b[31m10.5 MB/s\u001b[0m eta \u001b[36m0:00:00\u001b[0m\n",
            "\u001b[2K     \u001b[90m━━━━━━━━━━━━━━━━━━━━━━━━━━━━━━━━━━━━━━━━\u001b[0m \u001b[32m49.6/49.6 kB\u001b[0m \u001b[31m5.1 MB/s\u001b[0m eta \u001b[36m0:00:00\u001b[0m\n",
            "\u001b[2K     \u001b[90m━━━━━━━━━━━━━━━━━━━━━━━━━━━━━━━━━━━━━━━━\u001b[0m \u001b[32m37.5/37.5 MB\u001b[0m \u001b[31m42.5 MB/s\u001b[0m eta \u001b[36m0:00:00\u001b[0m\n",
            "\u001b[2K     \u001b[90m━━━━━━━━━━━━━━━━━━━━━━━━━━━━━━━━━━━━━━\u001b[0m \u001b[32m112.7/112.7 kB\u001b[0m \u001b[31m10.7 MB/s\u001b[0m eta \u001b[36m0:00:00\u001b[0m\n",
            "\u001b[?25h  Building wheel for qiskit (pyproject.toml) ... \u001b[?25l\u001b[?25hdone\n",
            "Collecting pylatexenc\n",
            "  Downloading pylatexenc-2.10.tar.gz (162 kB)\n",
            "\u001b[2K     \u001b[90m━━━━━━━━━━━━━━━━━━━━━━━━━━━━━━━━━━━━━━━\u001b[0m \u001b[32m162.6/162.6 kB\u001b[0m \u001b[31m3.4 MB/s\u001b[0m eta \u001b[36m0:00:00\u001b[0m\n",
            "\u001b[?25h  Preparing metadata (setup.py) ... \u001b[?25l\u001b[?25hdone\n",
            "Building wheels for collected packages: pylatexenc\n",
            "  Building wheel for pylatexenc (setup.py) ... \u001b[?25l\u001b[?25hdone\n",
            "  Created wheel for pylatexenc: filename=pylatexenc-2.10-py3-none-any.whl size=136820 sha256=e8a70b8700ce55ec52db17f3dda0099965c2b923944e54bc5f1c07eb8d160c3b\n",
            "  Stored in directory: /root/.cache/pip/wheels/d3/31/8b/e09b0386afd80cfc556c00408c9aeea5c35c4d484a9c762fd5\n",
            "Successfully built pylatexenc\n",
            "Installing collected packages: pylatexenc\n",
            "Successfully installed pylatexenc-2.10\n"
          ]
        }
      ]
    },
    {
      "cell_type": "code",
      "source": [
        "import qiskit\n",
        "import sys\n",
        "import os\n",
        "import glob\n",
        "import numpy as np\n",
        "from matplotlib import pyplot as plt\n",
        "from sklearn.metrics import confusion_matrix, ConfusionMatrixDisplay, classification_report\n",
        "from qiskit import execute\n",
        "from qiskit.circuit import Parameter,ControlledGate\n",
        "from qiskit import Aer\n",
        "import random\n",
        "import time\n",
        "\n",
        "import torch\n",
        "from torch.autograd import Function\n",
        "import torch.optim as optim\n",
        "import torch.nn as nn\n",
        "import torch.nn.functional as F\n",
        "%matplotlib inline\n",
        "\n",
        "from qiskit import *\n",
        "provider = qiskit\n",
        "backend = Aer.get_backend(\"aer_simulator\", device=\"GPU\")\n"
      ],
      "metadata": {
        "colab": {
          "base_uri": "https://localhost:8080/"
        },
        "id": "C2Y8IB9dY6pw",
        "outputId": "ef388d10-7051-41d6-aec4-f76485652ba7"
      },
      "execution_count": 236,
      "outputs": [
        {
          "output_type": "stream",
          "name": "stdout",
          "text": [
            "<module 'qiskit' from '/usr/local/lib/python3.10/dist-packages/qiskit/__init__.py'> aer_simulator\n"
          ]
        }
      ]
    },
    {
      "cell_type": "code",
      "source": [],
      "metadata": {
        "id": "0Yn7Yn84bXF6"
      },
      "execution_count": 3,
      "outputs": []
    },
    {
      "cell_type": "markdown",
      "source": [
        "## GPU and CPU detection choice"
      ],
      "metadata": {
        "id": "XKr7FQb6VmOT"
      }
    },
    {
      "cell_type": "code",
      "source": [
        "device = torch.device(\"cuda:0\" if torch.cuda.is_available() else \"cpu\")\n",
        "device"
      ],
      "metadata": {
        "colab": {
          "base_uri": "https://localhost:8080/"
        },
        "id": "p6w27nOSd-JA",
        "outputId": "e1848b56-8d5a-4dd8-99cf-99eb90a18ca3"
      },
      "execution_count": 4,
      "outputs": [
        {
          "output_type": "execute_result",
          "data": {
            "text/plain": [
              "device(type='cuda', index=0)"
            ]
          },
          "metadata": {},
          "execution_count": 4
        }
      ]
    },
    {
      "cell_type": "markdown",
      "source": [
        "# Dataset handling for loading, splitting, training.\n",
        "\n",
        "The following section has the utilities required for operating with the data.\n",
        "- Detect list of classes from the dataset root directory provided ( inside the constructor )\n",
        "- Load path labels, ( image paths and labels per class ) and shuffle the data set to generate randomness.\n",
        "- Provide a generator which can be provided into the torch circuit with random data set selection insde the training or test data set.\n",
        "\n",
        ""
      ],
      "metadata": {
        "id": "dyGRrDmLb-UL"
      }
    },
    {
      "cell_type": "code",
      "source": [
        "import glob\n",
        "import os\n",
        "import numpy as np\n",
        "import random\n",
        "\n",
        "class DatasetHandler:\n",
        "    def __init__(self, ds_root_path):\n",
        "        print ('Datahandler init -> ', ds_root_path)\n",
        "        self.dataset_path = ds_root_path\n",
        "        self.classes = glob.glob(os.path.join(ds_root_path, '*'))\n",
        "        self.classes_dict = {}\n",
        "        for c, i in zip(self.classes, range(len(self.classes))):\n",
        "          self.classes_dict[c] = i\n",
        "\n",
        "    def print_classes(self):\n",
        "        print('Classes in the path: ')\n",
        "        for i,c in enumerate(self.classes):\n",
        "            print(i, ' ->', c)\n",
        "\n",
        "    def load_paths_labels(self, root, classes):\n",
        "        imgs_path = []\n",
        "        imgs_label = []\n",
        "\n",
        "        for clss in classes:\n",
        "            for path in glob.glob(os.path.join(root, clss+'/*')):\n",
        "              imgs_path.append(path)\n",
        "              imgs_label.append(self.classes_dict[clss])\n",
        "\n",
        "        dataset = list(zip(imgs_path, imgs_label))\n",
        "        random.shuffle(dataset)\n",
        "        paths, labels = zip(*dataset)\n",
        "        return np.array(paths), np.array(labels)\n",
        "\n",
        "    # Split the dataset into training and validation dataset\n",
        "    def train_validation_split(self, images, labels, split_factor = 0.2):\n",
        "        val_size = int(len(images)*split_factor)\n",
        "        train_size = int(len(images) - val_size)\n",
        "        return images[0:train_size], labels[0:train_size, ...], images[train_size:train_size+val_size], labels[train_size:train_size+val_size, ...]\n",
        "\n",
        "    # Data genertor: given images paths and images labels yield a batch of images and labels\n",
        "    def cnn_data_loader(self, imgs_path, imgs_label, batch_size = 1, img_shape = (64, 64, 3), n_classes = 2):\n",
        "      # Initialize the vectors to be yield\n",
        "      batch_in = np.zeros((batch_size, img_shape[2], img_shape[0], img_shape[1]))\n",
        "      batch_out = np.zeros((batch_size))\n",
        "      random.seed(time.time())\n",
        "\n",
        "      while True:\n",
        "        for i in range(batch_size):\n",
        "          index = random.randint(0, len(imgs_path)-1)\n",
        "          batch_in[i, ...] = np.transpose(plt.imread(imgs_path[index])/255.0)\n",
        "          batch_out[i] = imgs_label[index]\n",
        "          yield  torch.tensor(batch_in).type(torch.float).to(device),  torch.tensor(batch_out).type(torch.float).to(device)\n",
        "\n"
      ],
      "metadata": {
        "id": "xVdItZWEcKz6"
      },
      "execution_count": 186,
      "outputs": []
    },
    {
      "cell_type": "code",
      "source": [
        "sys.path.append('/content/drive/MyDrive/colab_notebooks/IITD-QML/')\n",
        "dataset_root_path = '/content/EuroSAT_RGB'\n"
      ],
      "metadata": {
        "id": "WnvcGbCpbfuf"
      },
      "execution_count": 6,
      "outputs": []
    },
    {
      "cell_type": "code",
      "source": [
        "handler = DatasetHandler(dataset_root_path)\n",
        "imgs_path, imgs_label = handler.load_paths_labels(dataset_root_path, handler.classes[:2])\n",
        "print('Dataset images:', len(imgs_path), 'Dataset labels:', len(imgs_label))\n",
        "print('Dataset sample ->', imgs_path[0], imgs_label[0])"
      ],
      "metadata": {
        "colab": {
          "base_uri": "https://localhost:8080/"
        },
        "id": "QA6Q08-gb9Qv",
        "outputId": "1365d1db-0ef8-4209-86f8-370b5ddb684e"
      },
      "execution_count": 187,
      "outputs": [
        {
          "output_type": "stream",
          "name": "stdout",
          "text": [
            "Datahandler init ->  /content/EuroSAT_RGB\n",
            "Dataset images: 5000 Dataset labels: 5000\n",
            "Dataset sample -> /content/EuroSAT_RGB/Highway/Highway_663.jpg 0\n"
          ]
        }
      ]
    },
    {
      "cell_type": "code",
      "source": [
        "train_imgs, train_labels, val_images, val_labels = handler.train_validation_split(imgs_path, imgs_label, split_factor=0.2)\n",
        "print('X_train shape:', train_imgs.shape, 'Y_train shape:', train_labels.shape)\n",
        "print('  X_val shape: ', val_images.shape, '  Y_val shape: ', val_labels.shape)"
      ],
      "metadata": {
        "colab": {
          "base_uri": "https://localhost:8080/"
        },
        "id": "0xIl3QV0coKo",
        "outputId": "32f2546c-d619-46a2-fa2f-e0b69e2bc9d4"
      },
      "execution_count": 188,
      "outputs": [
        {
          "output_type": "stream",
          "name": "stdout",
          "text": [
            "X_train shape: (4000,) Y_train shape: (4000,)\n",
            "  X_val shape:  (1000,)   Y_val shape:  (1000,)\n"
          ]
        }
      ]
    },
    {
      "cell_type": "code",
      "source": [
        "def plotDataset(images, labels, classes, columns, rows):\n",
        "    fig, axes = plt.subplots(nrows = rows, ncols = columns, figsize = (columns*4,rows*4))\n",
        "    for x in range(columns):\n",
        "        for y in range(rows):\n",
        "            index = random.randint(0, len(images)-1)\n",
        "\n",
        "            axes[y,x].imshow(plt.imread(images[index]))\n",
        "            axes[y,x].set_title('Label: ' + str(labels[index]) +\n",
        "                                '\\n Class: ' + classes[labels[index]].split('/')[-1])\n",
        "            axes[y,x].axis(False)\n",
        "\n",
        "    plt.show()\n",
        "plotDataset(train_imgs, train_labels, handler.classes[:2], columns = 5, rows = 2)"
      ],
      "metadata": {
        "colab": {
          "base_uri": "https://localhost:8080/",
          "height": 621
        },
        "id": "yoeU5baMcqR_",
        "outputId": "3f7c300a-5690-4a15-d682-9735187473b0"
      },
      "execution_count": 9,
      "outputs": [
        {
          "output_type": "display_data",
          "data": {
            "text/plain": [
              "<Figure size 2000x800 with 10 Axes>"
            ],
            "image/png": "[encoded data removed]"
          },
          "metadata": {}
        }
      ]
    },
    {
      "cell_type": "markdown",
      "source": [
        "# Classical binary classification CNN"
      ],
      "metadata": {
        "id": "emh69EvabWrj"
      }
    },
    {
      "cell_type": "code",
      "source": [
        "class Net(nn.Module):\n",
        "    def __init__(self):\n",
        "        super(Net, self).__init__()\n",
        "        self.conv1 = nn.Conv2d(3, 16, kernel_size=3)\n",
        "        self.conv2 = nn.Conv2d(16, 32, kernel_size=3)\n",
        "        self.conv3 = nn.Conv2d(32, 64, kernel_size=3)\n",
        "\n",
        "        self.fc1 = nn.Linear(2304, 120)\n",
        "        self.fc2 = nn.Linear(120, 84)\n",
        "        self.fc3 = nn.Linear(84, 42)\n",
        "        self.fc4 = nn.Linear(42, 16)\n",
        "        self.fc5 = nn.Linear(16, 2)\n",
        "\n",
        "    def forward(self, x):\n",
        "        x = F.relu(F.max_pool2d(self.conv1(x), 2))\n",
        "        x = F.relu(F.max_pool2d(self.conv2(x), 2))\n",
        "        x = F.relu(F.max_pool2d(self.conv3(x), 2))\n",
        "\n",
        "        x = x.view(-1, 2304)\n",
        "        x = F.relu(self.fc1(x))\n",
        "        x = F.dropout(x, training=self.training)\n",
        "        x = F.relu(self.fc2(x))\n",
        "\n",
        "        x = F.relu(self.fc3(x))\n",
        "\n",
        "        x = self.fc4(x)\n",
        "        x = np.pi*torch.tanh(x)\n",
        "        x = self.fc5(x.float())\n",
        "        x = F.softmax(x, 1)\n",
        "\n",
        "        return x\n",
        "\n",
        "\n",
        "    def predict(self, x):\n",
        "        pred = self.forward(x)\n",
        "        ans = torch.argmax(pred[0]).item()\n",
        "        return torch.tensor(ans)\n",
        "\n",
        "network = Net().to(device)\n",
        "optimizer = optim.Adam(network.parameters(), lr=0.0002)"
      ],
      "metadata": {
        "id": "bqiLvkeQdBjg"
      },
      "execution_count": 10,
      "outputs": []
    },
    {
      "cell_type": "code",
      "source": [
        "from torchsummary import summary\n",
        "summary(network, (3, 64, 64))"
      ],
      "metadata": {
        "colab": {
          "base_uri": "https://localhost:8080/"
        },
        "id": "lPXuBt1PcIPr",
        "outputId": "6c8bbf35-c320-441f-d785-6d5cea26464f"
      },
      "execution_count": 11,
      "outputs": [
        {
          "output_type": "stream",
          "name": "stdout",
          "text": [
            "----------------------------------------------------------------\n",
            "        Layer (type)               Output Shape         Param #\n",
            "================================================================\n",
            "            Conv2d-1           [-1, 16, 62, 62]             448\n",
            "            Conv2d-2           [-1, 32, 29, 29]           4,640\n",
            "            Conv2d-3           [-1, 64, 12, 12]          18,496\n",
            "            Linear-4                  [-1, 120]         276,600\n",
            "            Linear-5                   [-1, 84]          10,164\n",
            "            Linear-6                   [-1, 42]           3,570\n",
            "            Linear-7                   [-1, 16]             688\n",
            "            Linear-8                    [-1, 2]              34\n",
            "================================================================\n",
            "Total params: 314,640\n",
            "Trainable params: 314,640\n",
            "Non-trainable params: 0\n",
            "----------------------------------------------------------------\n",
            "Input size (MB): 0.05\n",
            "Forward/backward pass size (MB): 0.75\n",
            "Params size (MB): 1.20\n",
            "Estimated Total Size (MB): 1.99\n",
            "----------------------------------------------------------------\n"
          ]
        }
      ]
    },
    {
      "cell_type": "code",
      "source": [
        "train_loss_list = []\n",
        "val_loss_list = []\n",
        "epochs = 20\n",
        "\n",
        "loss_func = nn.CrossEntropyLoss()\n",
        "\n",
        "for epoch in range(epochs):\n",
        "  dataset = list(zip(train_imgs, train_labels))\n",
        "  random.shuffle(dataset)\n",
        "  train_imgs, train_labels = zip(*dataset)\n",
        "  train_loader = iter(handler.cnn_data_loader(train_imgs, train_labels, batch_size = 1, img_shape = (64,64,3)))\n",
        "  test_loader = iter(handler.cnn_data_loader(val_images, val_labels, batch_size = 1, img_shape = (64,64,3)))\n",
        "  total_loss = []\n",
        "  for batch_idx in range(len(train_labels)):\n",
        "    data, target = next(train_loader)\n",
        "    # print(batch_idx)\n",
        "    optimizer.zero_grad()\n",
        "    # Forward pass\n",
        "    output = network(data)\n",
        "    target = target.type(torch.LongTensor).to(device)\n",
        "    # Calculating loss\n",
        "    loss = loss_func(output, target)\n",
        "    # Backward pass\n",
        "    loss.backward()\n",
        "    # Optimize the weights\n",
        "    optimizer.step()\n",
        "\n",
        "    total_loss.append(loss.item())\n",
        "\n",
        "    print('\\r Epoch %d ~ Batch %d (%d) ~ Loss %f ' % (epoch, batch_idx, len(train_imgs)-1, loss.item()), end='\\t\\t')\n",
        "\n",
        "\n",
        "  with torch.no_grad():\n",
        "    val_loss = []\n",
        "    targets = []\n",
        "    predictions = []\n",
        "    for batch_idx in range(len(val_images)):\n",
        "      data, target = next(test_loader)\n",
        "      output = network(data)\n",
        "      target = target.type(torch.LongTensor).to(device)\n",
        "\n",
        "      loss = loss_func(output, target)\n",
        "      val_loss.append(loss.item())\n",
        "\n",
        "      targets.append(target.item())\n",
        "\n",
        "      predictions.append(network.predict(data).item())\n",
        "\n",
        "\n",
        "    train_loss_list.append(sum(total_loss)/len(total_loss))\n",
        "    val_loss_list.append(sum(val_loss)/len(val_loss))\n",
        "\n",
        "    print('Training [{:.0f}%]\\t Training Loss: {:.4f} Validation Loss: {:.4f}'.format(\n",
        "        100. * (epoch + 1) / epochs, train_loss_list[-1], val_loss_list[-1]))\n",
        "\n",
        "    print(confusion_matrix(targets, predictions,normalize='true'))\n",
        "    print(classification_report(targets, predictions, target_names=handler.classes[:2], digits=4))\n",
        "\n",
        "    torch.save({\n",
        "            'epoch': epoch,\n",
        "            'model_state_dict': network.state_dict(),\n",
        "            'optimizer_state_dict': optimizer.state_dict(),\n",
        "            'loss': train_loss_list[-1],\n",
        "            }, '/content/drive/MyDrive/colab_notebooks/IITD-QML/model-classical.pt')\n"
      ],
      "metadata": {
        "colab": {
          "base_uri": "https://localhost:8080/"
        },
        "id": "yoqTDZzTe-tR",
        "outputId": "c65a3211-f880-4c32-9f65-a198f3af980a"
      },
      "execution_count": 12,
      "outputs": [
        {
          "output_type": "stream",
          "name": "stdout",
          "text": [
            " Epoch 0 ~ Batch 3999 (3999) ~ Loss 0.316987 \t\tTraining [5%]\t Training Loss: 0.6400 Validation Loss: 0.5728\n",
            "[[0.66859345 0.33140655]\n",
            " [0.1975052  0.8024948 ]]\n",
            "                              precision    recall  f1-score   support\n",
            "\n",
            "/content/EuroSAT_RGB/Highway     0.7851    0.6686    0.7222       519\n",
            "  /content/EuroSAT_RGB/River     0.6918    0.8025    0.7430       481\n",
            "\n",
            "                    accuracy                         0.7330      1000\n",
            "                   macro avg     0.7384    0.7355    0.7326      1000\n",
            "                weighted avg     0.7402    0.7330    0.7322      1000\n",
            "\n",
            " Epoch 1 ~ Batch 3999 (3999) ~ Loss 0.322361 \t\tTraining [10%]\t Training Loss: 0.5779 Validation Loss: 0.5780\n",
            "[[0.61153846 0.38846154]\n",
            " [0.17291667 0.82708333]]\n",
            "                              precision    recall  f1-score   support\n",
            "\n",
            "/content/EuroSAT_RGB/Highway     0.7930    0.6115    0.6906       520\n",
            "  /content/EuroSAT_RGB/River     0.6628    0.8271    0.7359       480\n",
            "\n",
            "                    accuracy                         0.7150      1000\n",
            "                   macro avg     0.7279    0.7193    0.7132      1000\n",
            "                weighted avg     0.7305    0.7150    0.7123      1000\n",
            "\n",
            " Epoch 2 ~ Batch 3999 (3999) ~ Loss 0.746156 \t\tTraining [15%]\t Training Loss: 0.5427 Validation Loss: 0.5677\n",
            "[[0.72597137 0.27402863]\n",
            " [0.25636008 0.74363992]]\n",
            "                              precision    recall  f1-score   support\n",
            "\n",
            "/content/EuroSAT_RGB/Highway     0.7305    0.7260    0.7282       489\n",
            "  /content/EuroSAT_RGB/River     0.7393    0.7436    0.7415       511\n",
            "\n",
            "                    accuracy                         0.7350      1000\n",
            "                   macro avg     0.7349    0.7348    0.7348      1000\n",
            "                weighted avg     0.7350    0.7350    0.7350      1000\n",
            "\n",
            " Epoch 3 ~ Batch 3999 (3999) ~ Loss 0.371401 \t\tTraining [20%]\t Training Loss: 0.5134 Validation Loss: 0.5121\n",
            "[[0.84897959 0.15102041]\n",
            " [0.26666667 0.73333333]]\n",
            "                              precision    recall  f1-score   support\n",
            "\n",
            "/content/EuroSAT_RGB/Highway     0.7536    0.8490    0.7985       490\n",
            "  /content/EuroSAT_RGB/River     0.8348    0.7333    0.7808       510\n",
            "\n",
            "                    accuracy                         0.7900      1000\n",
            "                   macro avg     0.7942    0.7912    0.7896      1000\n",
            "                weighted avg     0.7950    0.7900    0.7895      1000\n",
            "\n",
            " Epoch 4 ~ Batch 3999 (3999) ~ Loss 1.312847 \t\tTraining [25%]\t Training Loss: 0.5032 Validation Loss: 0.7806\n",
            "[[0.15828678 0.84171322]\n",
            " [0.01943844 0.98056156]]\n",
            "                              precision    recall  f1-score   support\n",
            "\n",
            "/content/EuroSAT_RGB/Highway     0.9043    0.1583    0.2694       537\n",
            "  /content/EuroSAT_RGB/River     0.5011    0.9806    0.6633       463\n",
            "\n",
            "                    accuracy                         0.5390      1000\n",
            "                   macro avg     0.7027    0.5694    0.4663      1000\n",
            "                weighted avg     0.7176    0.5390    0.4518      1000\n",
            "\n",
            " Epoch 5 ~ Batch 3999 (3999) ~ Loss 0.313265 \t\tTraining [30%]\t Training Loss: 0.5084 Validation Loss: 0.5362\n",
            "[[0.92352941 0.07647059]\n",
            " [0.3877551  0.6122449 ]]\n",
            "                              precision    recall  f1-score   support\n",
            "\n",
            "/content/EuroSAT_RGB/Highway     0.7126    0.9235    0.8044       510\n",
            "  /content/EuroSAT_RGB/River     0.8850    0.6122    0.7238       490\n",
            "\n",
            "                    accuracy                         0.7710      1000\n",
            "                   macro avg     0.7988    0.7679    0.7641      1000\n",
            "                weighted avg     0.7970    0.7710    0.7649      1000\n",
            "\n",
            " Epoch 6 ~ Batch 3999 (3999) ~ Loss 0.313688 \t\tTraining [35%]\t Training Loss: 0.4712 Validation Loss: 0.4736\n",
            "[[0.80896686 0.19103314]\n",
            " [0.14168378 0.85831622]]\n",
            "                              precision    recall  f1-score   support\n",
            "\n",
            "/content/EuroSAT_RGB/Highway     0.8574    0.8090    0.8325       513\n",
            "  /content/EuroSAT_RGB/River     0.8101    0.8583    0.8335       487\n",
            "\n",
            "                    accuracy                         0.8330      1000\n",
            "                   macro avg     0.8338    0.8336    0.8330      1000\n",
            "                weighted avg     0.8344    0.8330    0.8330      1000\n",
            "\n",
            " Epoch 7 ~ Batch 3999 (3999) ~ Loss 0.326302 \t\tTraining [40%]\t Training Loss: 0.4761 Validation Loss: 0.4778\n",
            "[[0.80859375 0.19140625]\n",
            " [0.1454918  0.8545082 ]]\n",
            "                              precision    recall  f1-score   support\n",
            "\n",
            "/content/EuroSAT_RGB/Highway     0.8536    0.8086    0.8305       512\n",
            "  /content/EuroSAT_RGB/River     0.8097    0.8545    0.8315       488\n",
            "\n",
            "                    accuracy                         0.8310      1000\n",
            "                   macro avg     0.8317    0.8316    0.8310      1000\n",
            "                weighted avg     0.8322    0.8310    0.8310      1000\n",
            "\n",
            " Epoch 8 ~ Batch 3999 (3999) ~ Loss 0.313290 \t\tTraining [45%]\t Training Loss: 0.4648 Validation Loss: 0.4830\n",
            "[[0.92621359 0.07378641]\n",
            " [0.28865979 0.71134021]]\n",
            "                              precision    recall  f1-score   support\n",
            "\n",
            "/content/EuroSAT_RGB/Highway     0.7731    0.9262    0.8428       515\n",
            "  /content/EuroSAT_RGB/River     0.9008    0.7113    0.7949       485\n",
            "\n",
            "                    accuracy                         0.8220      1000\n",
            "                   macro avg     0.8369    0.8188    0.8188      1000\n",
            "                weighted avg     0.8350    0.8220    0.8196      1000\n",
            "\n",
            " Epoch 9 ~ Batch 3999 (3999) ~ Loss 0.313263 \t\tTraining [50%]\t Training Loss: 0.4507 Validation Loss: 0.5452\n",
            "[[0.97093023 0.02906977]\n",
            " [0.45247934 0.54752066]]\n",
            "                              precision    recall  f1-score   support\n",
            "\n",
            "/content/EuroSAT_RGB/Highway     0.6958    0.9709    0.8107       516\n",
            "  /content/EuroSAT_RGB/River     0.9464    0.5475    0.6937       484\n",
            "\n",
            "                    accuracy                         0.7660      1000\n",
            "                   macro avg     0.8211    0.7592    0.7522      1000\n",
            "                weighted avg     0.8171    0.7660    0.7541      1000\n",
            "\n",
            " Epoch 10 ~ Batch 3999 (3999) ~ Loss 0.313264 \t\tTraining [55%]\t Training Loss: 0.4441 Validation Loss: 0.4551\n",
            "[[0.874 0.126]\n",
            " [0.178 0.822]]\n",
            "                              precision    recall  f1-score   support\n",
            "\n",
            "/content/EuroSAT_RGB/Highway     0.8308    0.8740    0.8519       500\n",
            "  /content/EuroSAT_RGB/River     0.8671    0.8220    0.8439       500\n",
            "\n",
            "                    accuracy                         0.8480      1000\n",
            "                   macro avg     0.8489    0.8480    0.8479      1000\n",
            "                weighted avg     0.8489    0.8480    0.8479      1000\n",
            "\n",
            " Epoch 11 ~ Batch 3999 (3999) ~ Loss 1.294002 \t\tTraining [60%]\t Training Loss: 0.4569 Validation Loss: 0.4422\n",
            "[[0.87726358 0.12273642]\n",
            " [0.16302187 0.83697813]]\n",
            "                              precision    recall  f1-score   support\n",
            "\n",
            "/content/EuroSAT_RGB/Highway     0.8417    0.8773    0.8591       497\n",
            "  /content/EuroSAT_RGB/River     0.8734    0.8370    0.8548       503\n",
            "\n",
            "                    accuracy                         0.8570      1000\n",
            "                   macro avg     0.8576    0.8571    0.8570      1000\n",
            "                weighted avg     0.8577    0.8570    0.8570      1000\n",
            "\n",
            " Epoch 12 ~ Batch 3999 (3999) ~ Loss 0.315535 \t\tTraining [65%]\t Training Loss: 0.4477 Validation Loss: 0.4555\n",
            "[[0.88888889 0.11111111]\n",
            " [0.18685832 0.81314168]]\n",
            "                              precision    recall  f1-score   support\n",
            "\n",
            "/content/EuroSAT_RGB/Highway     0.8336    0.8889    0.8604       513\n",
            "  /content/EuroSAT_RGB/River     0.8742    0.8131    0.8426       487\n",
            "\n",
            "                    accuracy                         0.8520      1000\n",
            "                   macro avg     0.8539    0.8510    0.8515      1000\n",
            "                weighted avg     0.8534    0.8520    0.8517      1000\n",
            "\n",
            " Epoch 13 ~ Batch 3999 (3999) ~ Loss 0.434169 \t\tTraining [70%]\t Training Loss: 0.4214 Validation Loss: 0.4486\n",
            "[[0.93536122 0.06463878]\n",
            " [0.21097046 0.78902954]]\n",
            "                              precision    recall  f1-score   support\n",
            "\n",
            "/content/EuroSAT_RGB/Highway     0.8311    0.9354    0.8801       526\n",
            "  /content/EuroSAT_RGB/River     0.9167    0.7890    0.8481       474\n",
            "\n",
            "                    accuracy                         0.8660      1000\n",
            "                   macro avg     0.8739    0.8622    0.8641      1000\n",
            "                weighted avg     0.8716    0.8660    0.8649      1000\n",
            "\n",
            " Epoch 14 ~ Batch 3999 (3999) ~ Loss 0.313266 \t\tTraining [75%]\t Training Loss: 0.4162 Validation Loss: 0.5174\n",
            "[[0.953125   0.046875  ]\n",
            " [0.36065574 0.63934426]]\n",
            "                              precision    recall  f1-score   support\n",
            "\n",
            "/content/EuroSAT_RGB/Highway     0.7349    0.9531    0.8299       512\n",
            "  /content/EuroSAT_RGB/River     0.9286    0.6393    0.7573       488\n",
            "\n",
            "                    accuracy                         0.8000      1000\n",
            "                   macro avg     0.8318    0.7962    0.7936      1000\n",
            "                weighted avg     0.8294    0.8000    0.7945      1000\n",
            "\n",
            " Epoch 15 ~ Batch 3999 (3999) ~ Loss 0.313268 \t\tTraining [80%]\t Training Loss: 0.4280 Validation Loss: 0.4352\n",
            "[[0.88235294 0.11764706]\n",
            " [0.15102041 0.84897959]]\n",
            "                              precision    recall  f1-score   support\n",
            "\n",
            "/content/EuroSAT_RGB/Highway     0.8588    0.8824    0.8704       510\n",
            "  /content/EuroSAT_RGB/River     0.8739    0.8490    0.8613       490\n",
            "\n",
            "                    accuracy                         0.8660      1000\n",
            "                   macro avg     0.8664    0.8657    0.8658      1000\n",
            "                weighted avg     0.8662    0.8660    0.8659      1000\n",
            "\n",
            " Epoch 16 ~ Batch 3999 (3999) ~ Loss 0.543291 \t\tTraining [85%]\t Training Loss: 0.4153 Validation Loss: 0.4433\n",
            "[[0.90744467 0.09255533]\n",
            " [0.17693837 0.82306163]]\n",
            "                              precision    recall  f1-score   support\n",
            "\n",
            "/content/EuroSAT_RGB/Highway     0.8352    0.9074    0.8698       497\n",
            "  /content/EuroSAT_RGB/River     0.9000    0.8231    0.8598       503\n",
            "\n",
            "                    accuracy                         0.8650      1000\n",
            "                   macro avg     0.8676    0.8653    0.8648      1000\n",
            "                weighted avg     0.8678    0.8650    0.8648      1000\n",
            "\n",
            " Epoch 17 ~ Batch 3999 (3999) ~ Loss 0.313268 \t\tTraining [90%]\t Training Loss: 0.4116 Validation Loss: 0.4344\n",
            "[[0.86653772 0.13346228]\n",
            " [0.11801242 0.88198758]]\n",
            "                              precision    recall  f1-score   support\n",
            "\n",
            "/content/EuroSAT_RGB/Highway     0.8871    0.8665    0.8767       517\n",
            "  /content/EuroSAT_RGB/River     0.8606    0.8820    0.8712       483\n",
            "\n",
            "                    accuracy                         0.8740      1000\n",
            "                   macro avg     0.8739    0.8743    0.8739      1000\n",
            "                weighted avg     0.8743    0.8740    0.8740      1000\n",
            "\n",
            " Epoch 18 ~ Batch 3999 (3999) ~ Loss 0.313271 \t\tTraining [95%]\t Training Loss: 0.4065 Validation Loss: 0.4417\n",
            "[[0.93220339 0.06779661]\n",
            " [0.21321962 0.78678038]]\n",
            "                              precision    recall  f1-score   support\n",
            "\n",
            "/content/EuroSAT_RGB/Highway     0.8319    0.9322    0.8792       531\n",
            "  /content/EuroSAT_RGB/River     0.9111    0.7868    0.8444       469\n",
            "\n",
            "                    accuracy                         0.8640      1000\n",
            "                   macro avg     0.8715    0.8595    0.8618      1000\n",
            "                weighted avg     0.8691    0.8640    0.8629      1000\n",
            "\n",
            " Epoch 19 ~ Batch 3999 (3999) ~ Loss 0.313298 \t\tTraining [100%]\t Training Loss: 0.3917 Validation Loss: 0.4328\n",
            "[[0.94433781 0.05566219]\n",
            " [0.19415449 0.80584551]]\n",
            "                              precision    recall  f1-score   support\n",
            "\n",
            "/content/EuroSAT_RGB/Highway     0.8410    0.9443    0.8897       521\n",
            "  /content/EuroSAT_RGB/River     0.9301    0.8058    0.8635       479\n",
            "\n",
            "                    accuracy                         0.8780      1000\n",
            "                   macro avg     0.8856    0.8751    0.8766      1000\n",
            "                weighted avg     0.8837    0.8780    0.8772      1000\n",
            "\n"
          ]
        }
      ]
    },
    {
      "cell_type": "code",
      "source": [
        "torch.save(network.state_dict(), '/content/drive/MyDrive/colab_notebooks/IITD-QML/model-classical.pt')"
      ],
      "metadata": {
        "id": "8EUpsuSm57Fz"
      },
      "execution_count": 13,
      "outputs": []
    },
    {
      "cell_type": "code",
      "source": [
        "test_loader = iter(handler.cnn_data_loader(val_images, val_labels, batch_size = 1, img_shape = (64,64,3)))\n",
        "accuracy = 0\n",
        "number = 0\n",
        "\n",
        "predictions = []\n",
        "targets = []\n",
        "\n",
        "for ct in range(len(val_images)):\n",
        "\n",
        "  data, target = next(test_loader)\n",
        "  number +=1\n",
        "  output = network.predict(data).item()\n",
        "\n",
        "  predictions.append(output)\n",
        "  targets.append(target.item())\n",
        "\n",
        "  accuracy += (output == target[0].item())*1\n",
        "  print('\\r ' + str(ct), end='')"
      ],
      "metadata": {
        "id": "g5C3VOjJy80Y",
        "colab": {
          "base_uri": "https://localhost:8080/"
        },
        "outputId": "8a0e0a21-eff7-4cd2-8fee-730c5b88d8fc"
      },
      "execution_count": 14,
      "outputs": [
        {
          "output_type": "stream",
          "name": "stdout",
          "text": [
            " 999"
          ]
        }
      ]
    },
    {
      "cell_type": "code",
      "source": [
        "plt.hist(targets, bins = 10)"
      ],
      "metadata": {
        "id": "YpS4m-muzCyj",
        "colab": {
          "base_uri": "https://localhost:8080/",
          "height": 482
        },
        "outputId": "a7a4dbd1-85cc-46e6-bd35-6e2724796f82"
      },
      "execution_count": 15,
      "outputs": [
        {
          "output_type": "execute_result",
          "data": {
            "text/plain": [
              "(array([513.,   0.,   0.,   0.,   0.,   0.,   0.,   0.,   0., 487.]),\n",
              " array([0. , 0.1, 0.2, 0.3, 0.4, 0.5, 0.6, 0.7, 0.8, 0.9, 1. ]),\n",
              " <BarContainer object of 10 artists>)"
            ]
          },
          "metadata": {},
          "execution_count": 15
        },
        {
          "output_type": "display_data",
          "data": {
            "text/plain": [
              "<Figure size 640x480 with 1 Axes>"
            ],
            "image/png": "[encoded data removed]"
          },
          "metadata": {}
        }
      ]
    },
    {
      "cell_type": "code",
      "source": [
        "print(\"Performance on test data is : {}/{} = {}%\".format(accuracy,number,100*accuracy/number))"
      ],
      "metadata": {
        "id": "85v7YQ11zFzT",
        "colab": {
          "base_uri": "https://localhost:8080/"
        },
        "outputId": "0e55f25e-9087-45ca-a965-ec3465aaab98"
      },
      "execution_count": 16,
      "outputs": [
        {
          "output_type": "stream",
          "name": "stdout",
          "text": [
            "Performance on test data is : 880/1000 = 88.0%\n"
          ]
        }
      ]
    },
    {
      "cell_type": "code",
      "source": [
        "from sklearn.metrics import confusion_matrix, ConfusionMatrixDisplay, classification_report\n",
        "cm = confusion_matrix(targets, predictions,normalize='true')"
      ],
      "metadata": {
        "id": "xgfyvPCjzKZz"
      },
      "execution_count": 17,
      "outputs": []
    },
    {
      "cell_type": "code",
      "source": [
        "fig, axes = plt.subplots(nrows = 1, ncols = 1, figsize = (6,5))\n",
        "\n",
        "cmd = ConfusionMatrixDisplay(cm, display_labels=handler.classes[:2])\n",
        "cmd.plot(ax=axes, cmap='Blues', xticks_rotation='vertical')\n",
        "print('S2')\n",
        "print('Accuracy:', cm.diagonal(), 'mean: ', cm.diagonal().mean())\n",
        "print(classification_report(targets, predictions, target_names=handler.classes[:2], digits=4))\n",
        "axes.get_images()[0].set_clim(0, 1)\n",
        "plt.show()\n",
        "plt.close()"
      ],
      "metadata": {
        "id": "DGKik5uuzMEG",
        "colab": {
          "base_uri": "https://localhost:8080/",
          "height": 862
        },
        "outputId": "e16be2c4-3278-45af-f3c8-dd6422e781db"
      },
      "execution_count": 18,
      "outputs": [
        {
          "output_type": "stream",
          "name": "stdout",
          "text": [
            "S2\n",
            "Accuracy: [0.95711501 0.79876797] mean:  0.8779414884461896\n",
            "                              precision    recall  f1-score   support\n",
            "\n",
            "/content/EuroSAT_RGB/Highway     0.8336    0.9571    0.8911       513\n",
            "  /content/EuroSAT_RGB/River     0.9465    0.7988    0.8664       487\n",
            "\n",
            "                    accuracy                         0.8800      1000\n",
            "                   macro avg     0.8900    0.8779    0.8787      1000\n",
            "                weighted avg     0.8886    0.8800    0.8791      1000\n",
            "\n"
          ]
        },
        {
          "output_type": "display_data",
          "data": {
            "text/plain": [
              "<Figure size 600x500 with 2 Axes>"
            ],
            "image/png": "[encoded data removed]"
          },
          "metadata": {}
        }
      ]
    },
    {
      "cell_type": "code",
      "source": [
        "!pip install torchview"
      ],
      "metadata": {
        "colab": {
          "base_uri": "https://localhost:8080/"
        },
        "id": "cdlUd5xN_KN0",
        "outputId": "6a66447d-c2a6-4eed-ce79-e6f81f9c0785"
      },
      "execution_count": 19,
      "outputs": [
        {
          "output_type": "stream",
          "name": "stdout",
          "text": [
            "Collecting torchview\n",
            "  Downloading torchview-0.2.6-py3-none-any.whl (25 kB)\n",
            "Installing collected packages: torchview\n",
            "Successfully installed torchview-0.2.6\n"
          ]
        }
      ]
    },
    {
      "cell_type": "markdown",
      "source": [
        "# Quantum classification layer."
      ],
      "metadata": {
        "id": "pAXg_Cwp7U2U"
      }
    },
    {
      "cell_type": "code",
      "source": [
        "NUM_QUBITS = 4\n",
        "NUM_SHOTS = 1500\n",
        "SHIFT = np.pi/4\n",
        "LEARNING_RATE = 0.0002\n",
        "MOMENTUM = 0.5\n",
        "\n",
        "SIMULATOR = Aer.get_backend('aer_simulator')"
      ],
      "metadata": {
        "id": "yICpAeq3BOZT"
      },
      "execution_count": 148,
      "outputs": []
    },
    {
      "cell_type": "markdown",
      "source": [
        "## Quantum circuit to be embedded into the layer.\n",
        "\n",
        "The following circuit code below, generates a bell circuit of 4 Qubits for usage in the CNN down under.\n",
        "4 Qubit circuit generates, 16 states which can be used as inputs to the state next.\n",
        "The previous layer in quantum has 4 as outputs which are connected to the QC circuit as inputs."
      ],
      "metadata": {
        "id": "EWVLg7QlEvgU"
      }
    },
    {
      "cell_type": "code",
      "source": [
        "import itertools\n",
        "def create_QC_OUTPUTS():\n",
        "    measurements = list(itertools.product([0, 1], repeat=NUM_QUBITS))\n",
        "    return [''.join([str(bit) for bit in measurement]) for measurement in measurements]\n",
        "\n",
        "QC_OUTPUTS = create_QC_OUTPUTS()\n",
        "print(QC_OUTPUTS)"
      ],
      "metadata": {
        "colab": {
          "base_uri": "https://localhost:8080/"
        },
        "id": "vdsFCbycM0U3",
        "outputId": "6c9aa2a7-fae5-4e97-e772-2e42f153df68"
      },
      "execution_count": 21,
      "outputs": [
        {
          "output_type": "stream",
          "name": "stdout",
          "text": [
            "['0000', '0001', '0010', '0011', '0100', '0101', '0110', '0111', '1000', '1001', '1010', '1011', '1100', '1101', '1110', '1111']\n"
          ]
        }
      ]
    },
    {
      "cell_type": "code",
      "source": [
        "class QCNeuron():\n",
        "    def __init__(self, n_qubits, backend, shots):\n",
        "        self.qc = QuantumCircuit(n_qubits)\n",
        "        self.n_qubits = n_qubits\n",
        "        self.thetas = {k : Parameter('Theta'+str(k)) for k in range(self.n_qubits)}\n",
        "\n",
        "        self.qc.h(0)\n",
        "        self.qc.cx(1, 0)\n",
        "        self.qc.cx(2, 1)\n",
        "        self.qc.cx(3, 2)\n",
        "\n",
        "        self.qc.barrier()\n",
        "\n",
        "        for k in range(0, 4):\n",
        "            self.qc.ry(self.thetas[k], k)\n",
        "\n",
        "        self.qc.barrier()\n",
        "\n",
        "        self.qc.cx(3, 2)\n",
        "        self.qc.cx(2, 1)\n",
        "        self.qc.cx(1, 0)\n",
        "        self.qc.h(0)\n",
        "\n",
        "        self.qc.measure_all()\n",
        "        # ---------------------------\n",
        "\n",
        "        self.backend = backend\n",
        "        self.shots = shots\n",
        "\n",
        "        self.tqc = transpile(self.qc, backend=self.backend)\n",
        "\n",
        "\n",
        "    def N_qubit_expectation_Z(self,counts, shots, nr_qubits):\n",
        "        expects = np.zeros(len(QC_OUTPUTS))\n",
        "        for k in range(len(QC_OUTPUTS)):\n",
        "            key = QC_OUTPUTS[k]\n",
        "            perc = counts.get(key, 0)/shots\n",
        "            expects[k] = perc\n",
        "        return expects\n",
        "\n",
        "    def run(self, i):\n",
        "        params = i.cpu().data.numpy()\n",
        "        parameters = {}\n",
        "\n",
        "        for k in range(self.n_qubits):\n",
        "          parameters[self.thetas[k]] = params[k].item()\n",
        "\n",
        "        qobj = assemble(self.tqc,\n",
        "                        shots=self.shots,\n",
        "                        parameter_binds = [parameters])\n",
        "\n",
        "        job = self.backend.run(qobj)\n",
        "        res =  self.N_qubit_expectation_Z(job.result().get_counts(), self.shots, self.n_qubits)\n",
        "        return res"
      ],
      "metadata": {
        "id": "ECgepAaMBGUZ"
      },
      "execution_count": 237,
      "outputs": []
    },
    {
      "cell_type": "markdown",
      "source": [
        "## Sample QC circuit with 4 parameters is below."
      ],
      "metadata": {
        "id": "dqIntqC9UioT"
      }
    },
    {
      "cell_type": "code",
      "source": [
        "circuit = QCNeuron(NUM_QUBITS, Aer.get_backend('aer_simulator', device=\"GPU\"), NUM_SHOTS)\n",
        "circuit.qc.draw(fold=2000)"
      ],
      "metadata": {
        "colab": {
          "base_uri": "https://localhost:8080/",
          "height": 186
        },
        "id": "Cl8dJiVJBKvL",
        "outputId": "08d3c15f-9621-465d-b3a5-06c7a65317a1"
      },
      "execution_count": 233,
      "outputs": [
        {
          "output_type": "execute_result",
          "data": {
            "text/plain": [
              "        ┌───┐┌───┐           ░ ┌────────────┐ ░           ┌───┐┌───┐ ░ ┌─┐         \n",
              "   q_0: ┤ H ├┤ X ├───────────░─┤ Ry(Theta0) ├─░───────────┤ X ├┤ H ├─░─┤M├─────────\n",
              "        └───┘└─┬─┘┌───┐      ░ ├────────────┤ ░      ┌───┐└─┬─┘└───┘ ░ └╥┘┌─┐      \n",
              "   q_1: ───────■──┤ X ├──────░─┤ Ry(Theta1) ├─░──────┤ X ├──■────────░──╫─┤M├──────\n",
              "                  └─┬─┘┌───┐ ░ ├────────────┤ ░ ┌───┐└─┬─┘           ░  ║ └╥┘┌─┐   \n",
              "   q_2: ────────────■──┤ X ├─░─┤ Ry(Theta2) ├─░─┤ X ├──■─────────────░──╫──╫─┤M├───\n",
              "                       └─┬─┘ ░ ├────────────┤ ░ └─┬─┘                ░  ║  ║ └╥┘┌─┐\n",
              "   q_3: ─────────────────■───░─┤ Ry(Theta3) ├─░───■──────────────────░──╫──╫──╫─┤M├\n",
              "                             ░ └────────────┘ ░                      ░  ║  ║  ║ └╥┘\n",
              "meas: 4/════════════════════════════════════════════════════════════════╩══╩══╩══╩═\n",
              "                                                                        0  1  2  3 "
            ],
            "text/html": [
              "<pre style=\"word-wrap: normal;white-space: pre;background: #fff0;line-height: 1.1;font-family: &quot;Courier New&quot;,Courier,monospace\">        ┌───┐┌───┐           ░ ┌────────────┐ ░           ┌───┐┌───┐ ░ ┌─┐         \n",
              "   q_0: ┤ H ├┤ X ├───────────░─┤ Ry(Theta0) ├─░───────────┤ X ├┤ H ├─░─┤M├─────────\n",
              "        └───┘└─┬─┘┌───┐      ░ ├────────────┤ ░      ┌───┐└─┬─┘└───┘ ░ └╥┘┌─┐      \n",
              "   q_1: ───────■──┤ X ├──────░─┤ Ry(Theta1) ├─░──────┤ X ├──■────────░──╫─┤M├──────\n",
              "                  └─┬─┘┌───┐ ░ ├────────────┤ ░ ┌───┐└─┬─┘           ░  ║ └╥┘┌─┐   \n",
              "   q_2: ────────────■──┤ X ├─░─┤ Ry(Theta2) ├─░─┤ X ├──■─────────────░──╫──╫─┤M├───\n",
              "                       └─┬─┘ ░ ├────────────┤ ░ └─┬─┘                ░  ║  ║ └╥┘┌─┐\n",
              "   q_3: ─────────────────■───░─┤ Ry(Theta3) ├─░───■──────────────────░──╫──╫──╫─┤M├\n",
              "                             ░ └────────────┘ ░                      ░  ║  ║  ║ └╥┘\n",
              "meas: 4/════════════════════════════════════════════════════════════════╩══╩══╩══╩═\n",
              "                                                                        0  1  2  3 </pre>"
            ]
          },
          "metadata": {},
          "execution_count": 233
        }
      ]
    },
    {
      "cell_type": "code",
      "source": [
        "np_array = np.array([5, 7, 1, 2])\n",
        "\n",
        "# Convert Numpy array to torch.Tensor\n",
        "tensor_a = torch.from_numpy(np_array)\n",
        "\n",
        "circuit.run(tensor_a)"
      ],
      "metadata": {
        "colab": {
          "base_uri": "https://localhost:8080/"
        },
        "id": "WwNvB4s1oIaj",
        "outputId": "44fedd6e-911b-4dad-c08a-2d82453ab679"
      },
      "execution_count": 234,
      "outputs": [
        {
          "output_type": "stream",
          "name": "stderr",
          "text": [
            "<ipython-input-230-9c9c9004f7cc>:52: DeprecationWarning: Using a qobj for run() is deprecated as of qiskit-aer 0.9.0 and will be removed no sooner than 3 months from that release date. Transpiled circuits should now be passed directly using `backend.run(circuits, **run_options).\n",
            "  job = self.backend.run(qobj)\n"
          ]
        },
        {
          "output_type": "execute_result",
          "data": {
            "text/plain": [
              "array([0.12933333, 0.062     , 0.01666667, 0.01      , 0.00466667,\n",
              "       0.00133333, 0.04266667, 0.01933333, 0.09666667, 0.04866667,\n",
              "       0.014     , 0.00466667, 0.03866667, 0.024     , 0.32866667,\n",
              "       0.15866667])"
            ]
          },
          "metadata": {},
          "execution_count": 234
        }
      ]
    },
    {
      "cell_type": "markdown",
      "source": [
        "## Quantum neural network hidden layer"
      ],
      "metadata": {
        "id": "DavrLqfrFPBP"
      }
    },
    {
      "cell_type": "code",
      "source": [
        "class QuantumLayer(Function):\n",
        "    @staticmethod\n",
        "    def forward(ctx, i):\n",
        "        if not hasattr(ctx, 'qc'):\n",
        "            ctx.qc = QCNeuron(NUM_QUBITS, SIMULATOR, shots=NUM_SHOTS)\n",
        "\n",
        "        exp_value = ctx.qc.run(i)\n",
        "        result = torch.tensor([exp_value]).to(device)\n",
        "        ctx.save_for_backward(result, i)\n",
        "        return result\n",
        "\n",
        "    @staticmethod\n",
        "    def backward(ctx, grad_output):\n",
        "        forward_tensor, i = ctx.saved_tensors\n",
        "        input_numbers = i\n",
        "        gradients = torch.Tensor()\n",
        "\n",
        "        for k in range(NUM_QUBITS):\n",
        "            shift_right = input_numbers.detach().clone()\n",
        "            shift_right[k] = shift_right[k] + SHIFT\n",
        "            shift_left = input_numbers.detach().clone()\n",
        "            shift_left[k] = shift_left[k] - SHIFT\n",
        "\n",
        "            expectation_right = ctx.qc.run(shift_right)\n",
        "            expectation_left  = ctx.qc.run(shift_left)\n",
        "\n",
        "            gradient = torch.tensor([expectation_right]) - torch.tensor([expectation_left])\n",
        "            gradients = torch.cat((gradients, gradient.float()))\n",
        "\n",
        "        result = torch.Tensor(gradients).to(device)\n",
        "\n",
        "        return (result.float() * grad_output.float()).T"
      ],
      "metadata": {
        "id": "9xdFEeM3Dvbt"
      },
      "execution_count": 238,
      "outputs": []
    },
    {
      "cell_type": "code",
      "source": [
        "class Net(nn.Module):\n",
        "    def __init__(self):\n",
        "        super(Net, self).__init__()\n",
        "        self.conv1 = nn.Conv2d(3, 16, kernel_size=3)\n",
        "        self.conv2 = nn.Conv2d(16, 32, kernel_size=3)\n",
        "        self.conv3 = nn.Conv2d(32, 64, kernel_size=3)\n",
        "        self.fc1 = nn.Linear(2304, 120)\n",
        "        self.fc2 = nn.Linear(120, 84)\n",
        "        self.fc3 = nn.Linear(84, 42)\n",
        "        self.fc4 = nn.Linear(42, 4)\n",
        "        self.qc = QuantumLayer.apply\n",
        "        self.fc5 = nn.Linear(16, 2)\n",
        "\n",
        "    def forward(self, x):\n",
        "        x = F.relu(F.max_pool2d(self.conv1(x), 2))\n",
        "        x = F.relu(F.max_pool2d(self.conv2(x), 2))\n",
        "        x = F.relu(F.max_pool2d(self.conv3(x), 2))\n",
        "\n",
        "        x = x.view(-1, 2304)\n",
        "        x = F.relu(self.fc1(x))\n",
        "        x = F.dropout(x, training=self.training)\n",
        "        x = F.relu(self.fc2(x))\n",
        "\n",
        "        x = F.relu(self.fc3(x))\n",
        "\n",
        "        x = self.fc4(x)\n",
        "        x = np.pi*torch.tanh(x)\n",
        "\n",
        "        x = self.qc(x[0]) # QUANTUM LAYER\n",
        "        x = F.relu(x)\n",
        "\n",
        "        x = self.fc5(x.float())\n",
        "        x = F.softmax(x, 1)\n",
        "        return x\n",
        "\n",
        "\n",
        "    def predict(self, x):\n",
        "        # apply softmax\n",
        "        pred = self.forward(x)\n",
        "#         print(pred)\n",
        "        ans = torch.argmax(pred[0]).item()\n",
        "        return torch.tensor(ans)\n",
        "\n",
        "hybrid_network = Net().to(device)\n",
        "optimizer = optim.Adam(hybrid_network.parameters(), lr=0.0002)"
      ],
      "metadata": {
        "id": "yToACOCwFMOa"
      },
      "execution_count": 241,
      "outputs": []
    },
    {
      "cell_type": "code",
      "source": [
        "summary(hybrid_network, (3, 64, 64))"
      ],
      "metadata": {
        "colab": {
          "base_uri": "https://localhost:8080/"
        },
        "id": "Oj6jT3o8GK19",
        "outputId": "5dee18cf-5c0c-466a-9c2e-17c52ca03fb8"
      },
      "execution_count": 155,
      "outputs": [
        {
          "output_type": "stream",
          "name": "stdout",
          "text": [
            "----------------------------------------------------------------\n",
            "        Layer (type)               Output Shape         Param #\n",
            "================================================================\n",
            "            Conv2d-1           [-1, 16, 62, 62]             448\n",
            "            Conv2d-2           [-1, 32, 29, 29]           4,640\n",
            "            Conv2d-3           [-1, 64, 12, 12]          18,496\n",
            "            Linear-4                  [-1, 120]         276,600\n",
            "            Linear-5                   [-1, 84]          10,164\n",
            "            Linear-6                   [-1, 42]           3,570\n",
            "            Linear-7                    [-1, 4]             172\n",
            "            Linear-8                    [-1, 2]              34\n",
            "================================================================\n",
            "Total params: 314,124\n",
            "Trainable params: 314,124\n",
            "Non-trainable params: 0\n",
            "----------------------------------------------------------------\n",
            "Input size (MB): 0.05\n",
            "Forward/backward pass size (MB): 0.75\n",
            "Params size (MB): 1.20\n",
            "Estimated Total Size (MB): 1.99\n",
            "----------------------------------------------------------------\n"
          ]
        },
        {
          "output_type": "stream",
          "name": "stderr",
          "text": [
            "<ipython-input-149-9c9c9004f7cc>:52: DeprecationWarning: Using a qobj for run() is deprecated as of qiskit-aer 0.9.0 and will be removed no sooner than 3 months from that release date. Transpiled circuits should now be passed directly using `backend.run(circuits, **run_options).\n",
            "  job = self.backend.run(qobj)\n"
          ]
        }
      ]
    },
    {
      "cell_type": "code",
      "source": [
        "train_loss_list = []\n",
        "val_loss_list = []\n",
        "epochs = 50\n",
        "\n",
        "loss_func = nn.CrossEntropyLoss()\n",
        "\n",
        "for epoch in range(epochs):\n",
        "  train_loader = iter(handler.cnn_data_loader(train_imgs, train_labels, batch_size = 1, img_shape = (64,64,3)))\n",
        "  test_loader = iter(handler.cnn_data_loader(val_images, val_labels, batch_size = 1, img_shape = (64,64,3)))\n",
        "  total_loss = []\n",
        "  for batch_idx in range(len(train_labels)):\n",
        "    data, target = next(train_loader)\n",
        "    # print(batch_idx)\n",
        "    optimizer.zero_grad()\n",
        "    # Forward pass\n",
        "    output = hybrid_network(data)\n",
        "    target = target.type(torch.LongTensor).to(device)\n",
        "    # Calculating loss\n",
        "    loss = loss_func(output, target)\n",
        "    # Backward pass\n",
        "    loss.backward()\n",
        "    # Optimize the weights\n",
        "    optimizer.step()\n",
        "\n",
        "    total_loss.append(loss.item())\n",
        "\n",
        "    print('\\rEpoch %d ~ Batch %d (%d) ~ Loss %f ' % (epoch, batch_idx, len(train_imgs)-1, loss.item()), end='\\t\\t')\n",
        "\n",
        "\n",
        "  with torch.no_grad():\n",
        "    val_loss = []\n",
        "    targets = []\n",
        "    predictions = []\n",
        "    for batch_idx in range(len(val_images)):\n",
        "      data, target = next(test_loader)\n",
        "      output = hybrid_network(data)\n",
        "      target = target.type(torch.LongTensor).to(device)\n",
        "\n",
        "      loss = loss_func(output, target)\n",
        "      val_loss.append(loss.item())\n",
        "\n",
        "      targets.append(target.item())\n",
        "\n",
        "      predictions.append(hybrid_network.predict(data).item())\n",
        "\n",
        "\n",
        "    train_loss_list.append(sum(total_loss)/len(total_loss))\n",
        "    val_loss_list.append(sum(val_loss)/len(val_loss))\n",
        "\n",
        "    print('Training [{:.0f}%]\\t Training Loss: {:.4f} Validation Loss: {:.4f}'.format(\n",
        "        100. * (epoch + 1) / epochs, train_loss_list[-1], val_loss_list[-1]))\n",
        "\n",
        "    print(confusion_matrix(targets, predictions,normalize='true'))\n",
        "    print(classification_report(targets, predictions, target_names=handler.classes[:2], digits=4, labels=np.unique(predictions)))\n",
        "\n",
        "    torch.save({\n",
        "            'epoch': epoch,\n",
        "            'model_state_dict': hybrid_network.state_dict(),\n",
        "            'optimizer_state_dict': optimizer.state_dict(),\n",
        "            'loss': train_loss_list[-1],\n",
        "            }, '/content/drive/MyDrive/colab_notebooks/IITD-QML/model-hybrid-binary-classification.pt')\n"
      ],
      "metadata": {
        "colab": {
          "base_uri": "https://localhost:8080/"
        },
        "id": "1KfyCkL3Obji",
        "outputId": "022dc1ac-7f63-4574-8336-e14109a3673f"
      },
      "execution_count": 243,
      "outputs": [
        {
          "output_type": "stream",
          "name": "stderr",
          "text": [
            "<ipython-input-237-9c9c9004f7cc>:52: DeprecationWarning: Using a qobj for run() is deprecated as of qiskit-aer 0.9.0 and will be removed no sooner than 3 months from that release date. Transpiled circuits should now be passed directly using `backend.run(circuits, **run_options).\n",
            "  job = self.backend.run(qobj)\n"
          ]
        },
        {
          "output_type": "stream",
          "name": "stdout",
          "text": [
            "Epoch 0 ~ Batch 3999 (3999) ~ Loss 0.744893 \t\tTraining [2%]\t Training Loss: 0.5955 Validation Loss: 0.5611\n",
            "[[0.77099237 0.22900763]\n",
            " [0.23109244 0.76890756]]\n",
            "                              precision    recall  f1-score   support\n",
            "\n",
            "/content/EuroSAT_RGB/Highway     0.7860    0.7710    0.7784       524\n",
            "  /content/EuroSAT_RGB/River     0.7531    0.7689    0.7609       476\n",
            "\n",
            "                    accuracy                         0.7700      1000\n",
            "                   macro avg     0.7695    0.7699    0.7697      1000\n",
            "                weighted avg     0.7703    0.7700    0.7701      1000\n",
            "\n",
            "Epoch 1 ~ Batch 2 (3999) ~ Loss 1.035413 \t\t"
          ]
        },
        {
          "output_type": "stream",
          "name": "stderr",
          "text": [
            "<ipython-input-237-9c9c9004f7cc>:52: DeprecationWarning: Using a qobj for run() is deprecated as of qiskit-aer 0.9.0 and will be removed no sooner than 3 months from that release date. Transpiled circuits should now be passed directly using `backend.run(circuits, **run_options).\n",
            "  job = self.backend.run(qobj)\n"
          ]
        },
        {
          "output_type": "stream",
          "name": "stdout",
          "text": [
            "Epoch 1 ~ Batch 3999 (3999) ~ Loss 0.412486 \t\tTraining [4%]\t Training Loss: 0.5674 Validation Loss: 0.5457\n",
            "[[0.948 0.052]\n",
            " [0.358 0.642]]\n",
            "                              precision    recall  f1-score   support\n",
            "\n",
            "/content/EuroSAT_RGB/Highway     0.7259    0.9480    0.8222       500\n",
            "  /content/EuroSAT_RGB/River     0.9251    0.6420    0.7580       500\n",
            "\n",
            "                    accuracy                         0.7950      1000\n",
            "                   macro avg     0.8255    0.7950    0.7901      1000\n",
            "                weighted avg     0.8255    0.7950    0.7901      1000\n",
            "\n",
            "Epoch 2 ~ Batch 2 (3999) ~ Loss 0.382176 \t\t"
          ]
        },
        {
          "output_type": "stream",
          "name": "stderr",
          "text": [
            "<ipython-input-237-9c9c9004f7cc>:52: DeprecationWarning: Using a qobj for run() is deprecated as of qiskit-aer 0.9.0 and will be removed no sooner than 3 months from that release date. Transpiled circuits should now be passed directly using `backend.run(circuits, **run_options).\n",
            "  job = self.backend.run(qobj)\n"
          ]
        },
        {
          "output_type": "stream",
          "name": "stdout",
          "text": [
            "Epoch 2 ~ Batch 3999 (3999) ~ Loss 0.364341 \t\tTraining [6%]\t Training Loss: 0.5428 Validation Loss: 0.4860\n",
            "[[0.80665281 0.19334719]\n",
            " [0.10597303 0.89402697]]\n",
            "                              precision    recall  f1-score   support\n",
            "\n",
            "/content/EuroSAT_RGB/Highway     0.8758    0.8067    0.8398       481\n",
            "  /content/EuroSAT_RGB/River     0.8330    0.8940    0.8625       519\n",
            "\n",
            "                    accuracy                         0.8520      1000\n",
            "                   macro avg     0.8544    0.8503    0.8511      1000\n",
            "                weighted avg     0.8536    0.8520    0.8516      1000\n",
            "\n",
            "Epoch 3 ~ Batch 2 (3999) ~ Loss 0.378070 \t\t"
          ]
        },
        {
          "output_type": "stream",
          "name": "stderr",
          "text": [
            "<ipython-input-237-9c9c9004f7cc>:52: DeprecationWarning: Using a qobj for run() is deprecated as of qiskit-aer 0.9.0 and will be removed no sooner than 3 months from that release date. Transpiled circuits should now be passed directly using `backend.run(circuits, **run_options).\n",
            "  job = self.backend.run(qobj)\n"
          ]
        },
        {
          "output_type": "stream",
          "name": "stdout",
          "text": [
            "Epoch 3 ~ Batch 3999 (3999) ~ Loss 0.376791 \t\tTraining [8%]\t Training Loss: 0.5087 Validation Loss: 0.5202\n",
            "[[0.86470588 0.13529412]\n",
            " [0.25102041 0.74897959]]\n",
            "                              precision    recall  f1-score   support\n",
            "\n",
            "/content/EuroSAT_RGB/Highway     0.7819    0.8647    0.8212       510\n",
            "  /content/EuroSAT_RGB/River     0.8417    0.7490    0.7927       490\n",
            "\n",
            "                    accuracy                         0.8080      1000\n",
            "                   macro avg     0.8118    0.8068    0.8069      1000\n",
            "                weighted avg     0.8112    0.8080    0.8072      1000\n",
            "\n",
            "Epoch 4 ~ Batch 2 (3999) ~ Loss 0.361499 \t\t"
          ]
        },
        {
          "output_type": "stream",
          "name": "stderr",
          "text": [
            "<ipython-input-237-9c9c9004f7cc>:52: DeprecationWarning: Using a qobj for run() is deprecated as of qiskit-aer 0.9.0 and will be removed no sooner than 3 months from that release date. Transpiled circuits should now be passed directly using `backend.run(circuits, **run_options).\n",
            "  job = self.backend.run(qobj)\n"
          ]
        },
        {
          "output_type": "stream",
          "name": "stdout",
          "text": [
            "Epoch 4 ~ Batch 3999 (3999) ~ Loss 0.376189 \t\tTraining [10%]\t Training Loss: 0.5124 Validation Loss: 0.4687\n",
            "[[0.83137255 0.16862745]\n",
            " [0.11020408 0.88979592]]\n",
            "                              precision    recall  f1-score   support\n",
            "\n",
            "/content/EuroSAT_RGB/Highway     0.8870    0.8314    0.8583       510\n",
            "  /content/EuroSAT_RGB/River     0.8352    0.8898    0.8617       490\n",
            "\n",
            "                    accuracy                         0.8600      1000\n",
            "                   macro avg     0.8611    0.8606    0.8600      1000\n",
            "                weighted avg     0.8617    0.8600    0.8599      1000\n",
            "\n",
            "Epoch 5 ~ Batch 2 (3999) ~ Loss 0.349472 \t\t"
          ]
        },
        {
          "output_type": "stream",
          "name": "stderr",
          "text": [
            "<ipython-input-237-9c9c9004f7cc>:52: DeprecationWarning: Using a qobj for run() is deprecated as of qiskit-aer 0.9.0 and will be removed no sooner than 3 months from that release date. Transpiled circuits should now be passed directly using `backend.run(circuits, **run_options).\n",
            "  job = self.backend.run(qobj)\n"
          ]
        },
        {
          "output_type": "stream",
          "name": "stdout",
          "text": [
            "Epoch 5 ~ Batch 3999 (3999) ~ Loss 0.337249 \t\tTraining [12%]\t Training Loss: 0.4771 Validation Loss: 0.4680\n",
            "[[0.77799607 0.22200393]\n",
            " [0.0712831  0.9287169 ]]\n",
            "                              precision    recall  f1-score   support\n",
            "\n",
            "/content/EuroSAT_RGB/Highway     0.9188    0.7780    0.8426       509\n",
            "  /content/EuroSAT_RGB/River     0.8014    0.9287    0.8604       491\n",
            "\n",
            "                    accuracy                         0.8520      1000\n",
            "                   macro avg     0.8601    0.8534    0.8515      1000\n",
            "                weighted avg     0.8612    0.8520    0.8513      1000\n",
            "\n",
            "Epoch 6 ~ Batch 2 (3999) ~ Loss 0.330377 \t\t"
          ]
        },
        {
          "output_type": "stream",
          "name": "stderr",
          "text": [
            "<ipython-input-237-9c9c9004f7cc>:52: DeprecationWarning: Using a qobj for run() is deprecated as of qiskit-aer 0.9.0 and will be removed no sooner than 3 months from that release date. Transpiled circuits should now be passed directly using `backend.run(circuits, **run_options).\n",
            "  job = self.backend.run(qobj)\n"
          ]
        },
        {
          "output_type": "stream",
          "name": "stdout",
          "text": [
            "Epoch 6 ~ Batch 3999 (3999) ~ Loss 0.755988 \t\tTraining [14%]\t Training Loss: 0.4802 Validation Loss: 0.4465\n",
            "[[0.88931298 0.11068702]\n",
            " [0.16176471 0.83823529]]\n",
            "                              precision    recall  f1-score   support\n",
            "\n",
            "/content/EuroSAT_RGB/Highway     0.8582    0.8893    0.8735       524\n",
            "  /content/EuroSAT_RGB/River     0.8731    0.8382    0.8553       476\n",
            "\n",
            "                    accuracy                         0.8650      1000\n",
            "                   macro avg     0.8656    0.8638    0.8644      1000\n",
            "                weighted avg     0.8653    0.8650    0.8648      1000\n",
            "\n",
            "Epoch 7 ~ Batch 2 (3999) ~ Loss 0.327115 \t\t"
          ]
        },
        {
          "output_type": "stream",
          "name": "stderr",
          "text": [
            "<ipython-input-237-9c9c9004f7cc>:52: DeprecationWarning: Using a qobj for run() is deprecated as of qiskit-aer 0.9.0 and will be removed no sooner than 3 months from that release date. Transpiled circuits should now be passed directly using `backend.run(circuits, **run_options).\n",
            "  job = self.backend.run(qobj)\n"
          ]
        },
        {
          "output_type": "stream",
          "name": "stdout",
          "text": [
            "Epoch 7 ~ Batch 3999 (3999) ~ Loss 0.323713 \t\tTraining [16%]\t Training Loss: 0.4581 Validation Loss: 0.4365\n",
            "[[0.92       0.08      ]\n",
            " [0.16631579 0.83368421]]\n",
            "                              precision    recall  f1-score   support\n",
            "\n",
            "/content/EuroSAT_RGB/Highway     0.8594    0.9200    0.8887       525\n",
            "  /content/EuroSAT_RGB/River     0.9041    0.8337    0.8675       475\n",
            "\n",
            "                    accuracy                         0.8790      1000\n",
            "                   macro avg     0.8818    0.8768    0.8781      1000\n",
            "                weighted avg     0.8807    0.8790    0.8786      1000\n",
            "\n",
            "Epoch 8 ~ Batch 2 (3999) ~ Loss 0.912531 \t\t"
          ]
        },
        {
          "output_type": "stream",
          "name": "stderr",
          "text": [
            "<ipython-input-237-9c9c9004f7cc>:52: DeprecationWarning: Using a qobj for run() is deprecated as of qiskit-aer 0.9.0 and will be removed no sooner than 3 months from that release date. Transpiled circuits should now be passed directly using `backend.run(circuits, **run_options).\n",
            "  job = self.backend.run(qobj)\n"
          ]
        },
        {
          "output_type": "stream",
          "name": "stdout",
          "text": [
            "Epoch 8 ~ Batch 3999 (3999) ~ Loss 0.320819 \t\tTraining [18%]\t Training Loss: 0.4534 Validation Loss: 0.4044\n",
            "[[0.93612774 0.06387226]\n",
            " [0.11022044 0.88977956]]\n",
            "                              precision    recall  f1-score   support\n",
            "\n",
            "/content/EuroSAT_RGB/Highway     0.8950    0.9361    0.9151       501\n",
            "  /content/EuroSAT_RGB/River     0.9328    0.8898    0.9108       499\n",
            "\n",
            "                    accuracy                         0.9130      1000\n",
            "                   macro avg     0.9139    0.9130    0.9129      1000\n",
            "                weighted avg     0.9139    0.9130    0.9129      1000\n",
            "\n",
            "Epoch 9 ~ Batch 2 (3999) ~ Loss 0.320947 \t\t"
          ]
        },
        {
          "output_type": "stream",
          "name": "stderr",
          "text": [
            "<ipython-input-237-9c9c9004f7cc>:52: DeprecationWarning: Using a qobj for run() is deprecated as of qiskit-aer 0.9.0 and will be removed no sooner than 3 months from that release date. Transpiled circuits should now be passed directly using `backend.run(circuits, **run_options).\n",
            "  job = self.backend.run(qobj)\n"
          ]
        },
        {
          "output_type": "stream",
          "name": "stdout",
          "text": [
            "Epoch 9 ~ Batch 3999 (3999) ~ Loss 0.320395 \t\tTraining [20%]\t Training Loss: 0.4428 Validation Loss: 0.4122\n",
            "[[0.88627451 0.11372549]\n",
            " [0.07142857 0.92857143]]\n",
            "                              precision    recall  f1-score   support\n",
            "\n",
            "/content/EuroSAT_RGB/Highway     0.9281    0.8863    0.9067       510\n",
            "  /content/EuroSAT_RGB/River     0.8869    0.9286    0.9073       490\n",
            "\n",
            "                    accuracy                         0.9070      1000\n",
            "                   macro avg     0.9075    0.9074    0.9070      1000\n",
            "                weighted avg     0.9079    0.9070    0.9070      1000\n",
            "\n",
            "Epoch 10 ~ Batch 2 (3999) ~ Loss 0.318339 \t\t"
          ]
        },
        {
          "output_type": "stream",
          "name": "stderr",
          "text": [
            "<ipython-input-237-9c9c9004f7cc>:52: DeprecationWarning: Using a qobj for run() is deprecated as of qiskit-aer 0.9.0 and will be removed no sooner than 3 months from that release date. Transpiled circuits should now be passed directly using `backend.run(circuits, **run_options).\n",
            "  job = self.backend.run(qobj)\n"
          ]
        },
        {
          "output_type": "stream",
          "name": "stdout",
          "text": [
            "Epoch 10 ~ Batch 3999 (3999) ~ Loss 0.340736 \t\tTraining [22%]\t Training Loss: 0.4259 Validation Loss: 0.3794\n",
            "[[0.95306122 0.04693878]\n",
            " [0.07843137 0.92156863]]\n",
            "                              precision    recall  f1-score   support\n",
            "\n",
            "/content/EuroSAT_RGB/Highway     0.9211    0.9531    0.9368       490\n",
            "  /content/EuroSAT_RGB/River     0.9533    0.9216    0.9372       510\n",
            "\n",
            "                    accuracy                         0.9370      1000\n",
            "                   macro avg     0.9372    0.9373    0.9370      1000\n",
            "                weighted avg     0.9375    0.9370    0.9370      1000\n",
            "\n",
            "Epoch 11 ~ Batch 2 (3999) ~ Loss 0.317385 \t\t"
          ]
        },
        {
          "output_type": "stream",
          "name": "stderr",
          "text": [
            "<ipython-input-237-9c9c9004f7cc>:52: DeprecationWarning: Using a qobj for run() is deprecated as of qiskit-aer 0.9.0 and will be removed no sooner than 3 months from that release date. Transpiled circuits should now be passed directly using `backend.run(circuits, **run_options).\n",
            "  job = self.backend.run(qobj)\n"
          ]
        },
        {
          "output_type": "stream",
          "name": "stdout",
          "text": [
            "Epoch 11 ~ Batch 3999 (3999) ~ Loss 0.316004 \t\tTraining [24%]\t Training Loss: 0.4277 Validation Loss: 0.3919\n",
            "[[0.90759754 0.09240246]\n",
            " [0.06822612 0.93177388]]\n",
            "                              precision    recall  f1-score   support\n",
            "\n",
            "/content/EuroSAT_RGB/Highway     0.9266    0.9076    0.9170       487\n",
            "  /content/EuroSAT_RGB/River     0.9140    0.9318    0.9228       513\n",
            "\n",
            "                    accuracy                         0.9200      1000\n",
            "                   macro avg     0.9203    0.9197    0.9199      1000\n",
            "                weighted avg     0.9201    0.9200    0.9200      1000\n",
            "\n",
            "Epoch 12 ~ Batch 2 (3999) ~ Loss 0.316048 \t\t"
          ]
        },
        {
          "output_type": "stream",
          "name": "stderr",
          "text": [
            "<ipython-input-237-9c9c9004f7cc>:52: DeprecationWarning: Using a qobj for run() is deprecated as of qiskit-aer 0.9.0 and will be removed no sooner than 3 months from that release date. Transpiled circuits should now be passed directly using `backend.run(circuits, **run_options).\n",
            "  job = self.backend.run(qobj)\n"
          ]
        },
        {
          "output_type": "stream",
          "name": "stdout",
          "text": [
            "Epoch 12 ~ Batch 3999 (3999) ~ Loss 0.316319 \t\tTraining [26%]\t Training Loss: 0.4235 Validation Loss: 0.4200\n",
            "[[0.85346535 0.14653465]\n",
            " [0.06060606 0.93939394]]\n",
            "                              precision    recall  f1-score   support\n",
            "\n",
            "/content/EuroSAT_RGB/Highway     0.9349    0.8535    0.8923       505\n",
            "  /content/EuroSAT_RGB/River     0.8627    0.9394    0.8994       495\n",
            "\n",
            "                    accuracy                         0.8960      1000\n",
            "                   macro avg     0.8988    0.8964    0.8959      1000\n",
            "                weighted avg     0.8992    0.8960    0.8958      1000\n",
            "\n",
            "Epoch 13 ~ Batch 1 (3999) ~ Loss 0.315696 \t\t"
          ]
        },
        {
          "output_type": "stream",
          "name": "stderr",
          "text": [
            "<ipython-input-237-9c9c9004f7cc>:52: DeprecationWarning: Using a qobj for run() is deprecated as of qiskit-aer 0.9.0 and will be removed no sooner than 3 months from that release date. Transpiled circuits should now be passed directly using `backend.run(circuits, **run_options).\n",
            "  job = self.backend.run(qobj)\n"
          ]
        },
        {
          "output_type": "stream",
          "name": "stdout",
          "text": [
            "Epoch 13 ~ Batch 3999 (3999) ~ Loss 0.590039 \t\tTraining [28%]\t Training Loss: 0.5151 Validation Loss: 0.6674\n",
            "[[0.99798387 0.00201613]\n",
            " [1.         0.        ]]\n",
            "                              precision    recall  f1-score   support\n",
            "\n",
            "/content/EuroSAT_RGB/Highway     0.4955    0.9980    0.6622       496\n",
            "  /content/EuroSAT_RGB/River     0.0000    0.0000    0.0000       504\n",
            "\n",
            "                    accuracy                         0.4950      1000\n",
            "                   macro avg     0.2477    0.4990    0.3311      1000\n",
            "                weighted avg     0.2458    0.4950    0.3285      1000\n",
            "\n",
            "Epoch 14 ~ Batch 1 (3999) ~ Loss 0.392709 \t\t"
          ]
        },
        {
          "output_type": "stream",
          "name": "stderr",
          "text": [
            "<ipython-input-237-9c9c9004f7cc>:52: DeprecationWarning: Using a qobj for run() is deprecated as of qiskit-aer 0.9.0 and will be removed no sooner than 3 months from that release date. Transpiled circuits should now be passed directly using `backend.run(circuits, **run_options).\n",
            "  job = self.backend.run(qobj)\n"
          ]
        },
        {
          "output_type": "stream",
          "name": "stdout",
          "text": [
            "Epoch 14 ~ Batch 3999 (3999) ~ Loss 0.317613 \t\tTraining [30%]\t Training Loss: 0.6358 Validation Loss: 0.6211\n",
            "[[0.9496124  0.0503876 ]\n",
            " [0.55991736 0.44008264]]\n",
            "                              precision    recall  f1-score   support\n",
            "\n",
            "/content/EuroSAT_RGB/Highway     0.6439    0.9496    0.7674       516\n",
            "  /content/EuroSAT_RGB/River     0.8912    0.4401    0.5892       484\n",
            "\n",
            "                    accuracy                         0.7030      1000\n",
            "                   macro avg     0.7676    0.6948    0.6783      1000\n",
            "                weighted avg     0.7636    0.7030    0.6812      1000\n",
            "\n",
            "Epoch 15 ~ Batch 2 (3999) ~ Loss 0.612874 \t\t"
          ]
        },
        {
          "output_type": "stream",
          "name": "stderr",
          "text": [
            "<ipython-input-237-9c9c9004f7cc>:52: DeprecationWarning: Using a qobj for run() is deprecated as of qiskit-aer 0.9.0 and will be removed no sooner than 3 months from that release date. Transpiled circuits should now be passed directly using `backend.run(circuits, **run_options).\n",
            "  job = self.backend.run(qobj)\n"
          ]
        },
        {
          "output_type": "stream",
          "name": "stdout",
          "text": [
            "Epoch 15 ~ Batch 3999 (3999) ~ Loss 0.585585 \t\tTraining [32%]\t Training Loss: 0.5695 Validation Loss: 0.5281\n",
            "[[0.87596899 0.12403101]\n",
            " [0.23966942 0.76033058]]\n",
            "                              precision    recall  f1-score   support\n",
            "\n",
            "/content/EuroSAT_RGB/Highway     0.7958    0.8760    0.8339       516\n",
            "  /content/EuroSAT_RGB/River     0.8519    0.7603    0.8035       484\n",
            "\n",
            "                    accuracy                         0.8200      1000\n",
            "                   macro avg     0.8238    0.8181    0.8187      1000\n",
            "                weighted avg     0.8229    0.8200    0.8192      1000\n",
            "\n",
            "Epoch 16 ~ Batch 2 (3999) ~ Loss 0.716747 \t\t"
          ]
        },
        {
          "output_type": "stream",
          "name": "stderr",
          "text": [
            "<ipython-input-237-9c9c9004f7cc>:52: DeprecationWarning: Using a qobj for run() is deprecated as of qiskit-aer 0.9.0 and will be removed no sooner than 3 months from that release date. Transpiled circuits should now be passed directly using `backend.run(circuits, **run_options).\n",
            "  job = self.backend.run(qobj)\n"
          ]
        },
        {
          "output_type": "stream",
          "name": "stdout",
          "text": [
            "Epoch 16 ~ Batch 3999 (3999) ~ Loss 0.857797 \t\tTraining [34%]\t Training Loss: 0.5414 Validation Loss: 0.5552\n",
            "[[0.75648703 0.24351297]\n",
            " [0.26653307 0.73346693]]\n",
            "                              precision    recall  f1-score   support\n",
            "\n",
            "/content/EuroSAT_RGB/Highway     0.7402    0.7565    0.7483       501\n",
            "  /content/EuroSAT_RGB/River     0.7500    0.7335    0.7416       499\n",
            "\n",
            "                    accuracy                         0.7450      1000\n",
            "                   macro avg     0.7451    0.7450    0.7450      1000\n",
            "                weighted avg     0.7451    0.7450    0.7450      1000\n",
            "\n",
            "Epoch 17 ~ Batch 2 (3999) ~ Loss 0.922464 \t\t"
          ]
        },
        {
          "output_type": "stream",
          "name": "stderr",
          "text": [
            "<ipython-input-237-9c9c9004f7cc>:52: DeprecationWarning: Using a qobj for run() is deprecated as of qiskit-aer 0.9.0 and will be removed no sooner than 3 months from that release date. Transpiled circuits should now be passed directly using `backend.run(circuits, **run_options).\n",
            "  job = self.backend.run(qobj)\n"
          ]
        },
        {
          "output_type": "stream",
          "name": "stdout",
          "text": [
            "Epoch 17 ~ Batch 3999 (3999) ~ Loss 0.373864 \t\tTraining [36%]\t Training Loss: 0.5560 Validation Loss: 0.5400\n",
            "[[0.88973384 0.11026616]\n",
            " [0.32700422 0.67299578]]\n",
            "                              precision    recall  f1-score   support\n",
            "\n",
            "/content/EuroSAT_RGB/Highway     0.7512    0.8897    0.8146       526\n",
            "  /content/EuroSAT_RGB/River     0.8462    0.6730    0.7497       474\n",
            "\n",
            "                    accuracy                         0.7870      1000\n",
            "                   macro avg     0.7987    0.7814    0.7822      1000\n",
            "                weighted avg     0.7962    0.7870    0.7839      1000\n",
            "\n",
            "Epoch 18 ~ Batch 2 (3999) ~ Loss 0.326102 \t\t"
          ]
        },
        {
          "output_type": "stream",
          "name": "stderr",
          "text": [
            "<ipython-input-237-9c9c9004f7cc>:52: DeprecationWarning: Using a qobj for run() is deprecated as of qiskit-aer 0.9.0 and will be removed no sooner than 3 months from that release date. Transpiled circuits should now be passed directly using `backend.run(circuits, **run_options).\n",
            "  job = self.backend.run(qobj)\n"
          ]
        },
        {
          "output_type": "stream",
          "name": "stdout",
          "text": [
            "Epoch 18 ~ Batch 3999 (3999) ~ Loss 1.205742 \t\tTraining [38%]\t Training Loss: 0.5169 Validation Loss: 0.5236\n",
            "[[0.63747454 0.36252546]\n",
            " [0.06090373 0.93909627]]\n",
            "                              precision    recall  f1-score   support\n",
            "\n",
            "/content/EuroSAT_RGB/Highway     0.9099    0.6375    0.7497       491\n",
            "  /content/EuroSAT_RGB/River     0.7287    0.9391    0.8206       509\n",
            "\n",
            "                    accuracy                         0.7910      1000\n",
            "                   macro avg     0.8193    0.7883    0.7852      1000\n",
            "                weighted avg     0.8176    0.7910    0.7858      1000\n",
            "\n",
            "Epoch 19 ~ Batch 2 (3999) ~ Loss 0.865552 \t\t"
          ]
        },
        {
          "output_type": "stream",
          "name": "stderr",
          "text": [
            "<ipython-input-237-9c9c9004f7cc>:52: DeprecationWarning: Using a qobj for run() is deprecated as of qiskit-aer 0.9.0 and will be removed no sooner than 3 months from that release date. Transpiled circuits should now be passed directly using `backend.run(circuits, **run_options).\n",
            "  job = self.backend.run(qobj)\n"
          ]
        },
        {
          "output_type": "stream",
          "name": "stdout",
          "text": [
            "Epoch 19 ~ Batch 3999 (3999) ~ Loss 0.361383 \t\tTraining [40%]\t Training Loss: 0.4998 Validation Loss: 0.4710\n",
            "[[0.82680412 0.17319588]\n",
            " [0.15339806 0.84660194]]\n",
            "                              precision    recall  f1-score   support\n",
            "\n",
            "/content/EuroSAT_RGB/Highway     0.8354    0.8268    0.8311       485\n",
            "  /content/EuroSAT_RGB/River     0.8385    0.8466    0.8425       515\n",
            "\n",
            "                    accuracy                         0.8370      1000\n",
            "                   macro avg     0.8369    0.8367    0.8368      1000\n",
            "                weighted avg     0.8370    0.8370    0.8370      1000\n",
            "\n",
            "Epoch 20 ~ Batch 2 (3999) ~ Loss 0.345026 \t\t"
          ]
        },
        {
          "output_type": "stream",
          "name": "stderr",
          "text": [
            "<ipython-input-237-9c9c9004f7cc>:52: DeprecationWarning: Using a qobj for run() is deprecated as of qiskit-aer 0.9.0 and will be removed no sooner than 3 months from that release date. Transpiled circuits should now be passed directly using `backend.run(circuits, **run_options).\n",
            "  job = self.backend.run(qobj)\n"
          ]
        },
        {
          "output_type": "stream",
          "name": "stdout",
          "text": [
            "Epoch 20 ~ Batch 3999 (3999) ~ Loss 0.320324 \t\tTraining [42%]\t Training Loss: 0.4657 Validation Loss: 0.4414\n",
            "[[0.85904762 0.14095238]\n",
            " [0.10947368 0.89052632]]\n",
            "                              precision    recall  f1-score   support\n",
            "\n",
            "/content/EuroSAT_RGB/Highway     0.8966    0.8590    0.8774       525\n",
            "  /content/EuroSAT_RGB/River     0.8511    0.8905    0.8704       475\n",
            "\n",
            "                    accuracy                         0.8740      1000\n",
            "                   macro avg     0.8739    0.8748    0.8739      1000\n",
            "                weighted avg     0.8750    0.8740    0.8741      1000\n",
            "\n",
            "Epoch 21 ~ Batch 2 (3999) ~ Loss 0.322759 \t\t"
          ]
        },
        {
          "output_type": "stream",
          "name": "stderr",
          "text": [
            "<ipython-input-237-9c9c9004f7cc>:52: DeprecationWarning: Using a qobj for run() is deprecated as of qiskit-aer 0.9.0 and will be removed no sooner than 3 months from that release date. Transpiled circuits should now be passed directly using `backend.run(circuits, **run_options).\n",
            "  job = self.backend.run(qobj)\n"
          ]
        },
        {
          "output_type": "stream",
          "name": "stdout",
          "text": [
            "Epoch 21 ~ Batch 3999 (3999) ~ Loss 0.320674 \t\tTraining [44%]\t Training Loss: 0.4452 Validation Loss: 0.4281\n",
            "[[0.89473684 0.10526316]\n",
            " [0.1211499  0.8788501 ]]\n",
            "                              precision    recall  f1-score   support\n",
            "\n",
            "/content/EuroSAT_RGB/Highway     0.8861    0.8947    0.8904       513\n",
            "  /content/EuroSAT_RGB/River     0.8880    0.8789    0.8834       487\n",
            "\n",
            "                    accuracy                         0.8870      1000\n",
            "                   macro avg     0.8870    0.8868    0.8869      1000\n",
            "                weighted avg     0.8870    0.8870    0.8870      1000\n",
            "\n",
            "Epoch 22 ~ Batch 2 (3999) ~ Loss 0.396642 \t\t"
          ]
        },
        {
          "output_type": "stream",
          "name": "stderr",
          "text": [
            "<ipython-input-237-9c9c9004f7cc>:52: DeprecationWarning: Using a qobj for run() is deprecated as of qiskit-aer 0.9.0 and will be removed no sooner than 3 months from that release date. Transpiled circuits should now be passed directly using `backend.run(circuits, **run_options).\n",
            "  job = self.backend.run(qobj)\n"
          ]
        },
        {
          "output_type": "stream",
          "name": "stdout",
          "text": [
            "Epoch 22 ~ Batch 3999 (3999) ~ Loss 0.325299 \t\tTraining [46%]\t Training Loss: 0.4489 Validation Loss: 0.4859\n",
            "[[0.70661157 0.29338843]\n",
            " [0.06395349 0.93604651]]\n",
            "                              precision    recall  f1-score   support\n",
            "\n",
            "/content/EuroSAT_RGB/Highway     0.9120    0.7066    0.7963       484\n",
            "  /content/EuroSAT_RGB/River     0.7728    0.9360    0.8466       516\n",
            "\n",
            "                    accuracy                         0.8250      1000\n",
            "                   macro avg     0.8424    0.8213    0.8215      1000\n",
            "                weighted avg     0.8402    0.8250    0.8223      1000\n",
            "\n",
            "Epoch 23 ~ Batch 2 (3999) ~ Loss 0.325301 \t\t"
          ]
        },
        {
          "output_type": "stream",
          "name": "stderr",
          "text": [
            "<ipython-input-237-9c9c9004f7cc>:52: DeprecationWarning: Using a qobj for run() is deprecated as of qiskit-aer 0.9.0 and will be removed no sooner than 3 months from that release date. Transpiled circuits should now be passed directly using `backend.run(circuits, **run_options).\n",
            "  job = self.backend.run(qobj)\n"
          ]
        },
        {
          "output_type": "stream",
          "name": "stdout",
          "text": [
            "Epoch 23 ~ Batch 3999 (3999) ~ Loss 0.319272 \t\tTraining [48%]\t Training Loss: 0.4423 Validation Loss: 0.4174\n",
            "[[0.91714836 0.08285164]\n",
            " [0.12889813 0.87110187]]\n",
            "                              precision    recall  f1-score   support\n",
            "\n",
            "/content/EuroSAT_RGB/Highway     0.8848    0.9171    0.9007       519\n",
            "  /content/EuroSAT_RGB/River     0.9069    0.8711    0.8887       481\n",
            "\n",
            "                    accuracy                         0.8950      1000\n",
            "                   macro avg     0.8958    0.8941    0.8947      1000\n",
            "                weighted avg     0.8954    0.8950    0.8949      1000\n",
            "\n",
            "Epoch 24 ~ Batch 2 (3999) ~ Loss 0.319325 \t\t"
          ]
        },
        {
          "output_type": "stream",
          "name": "stderr",
          "text": [
            "<ipython-input-237-9c9c9004f7cc>:52: DeprecationWarning: Using a qobj for run() is deprecated as of qiskit-aer 0.9.0 and will be removed no sooner than 3 months from that release date. Transpiled circuits should now be passed directly using `backend.run(circuits, **run_options).\n",
            "  job = self.backend.run(qobj)\n"
          ]
        },
        {
          "output_type": "stream",
          "name": "stdout",
          "text": [
            "Epoch 24 ~ Batch 3999 (3999) ~ Loss 0.321289 \t\tTraining [50%]\t Training Loss: 0.4285 Validation Loss: 0.4467\n",
            "[[0.78674948 0.21325052]\n",
            " [0.05996132 0.94003868]]\n",
            "                              precision    recall  f1-score   support\n",
            "\n",
            "/content/EuroSAT_RGB/Highway     0.9246    0.7867    0.8501       483\n",
            "  /content/EuroSAT_RGB/River     0.8251    0.9400    0.8788       517\n",
            "\n",
            "                    accuracy                         0.8660      1000\n",
            "                   macro avg     0.8749    0.8634    0.8645      1000\n",
            "                weighted avg     0.8732    0.8660    0.8650      1000\n",
            "\n",
            "Epoch 25 ~ Batch 2 (3999) ~ Loss 0.321336 \t\t"
          ]
        },
        {
          "output_type": "stream",
          "name": "stderr",
          "text": [
            "<ipython-input-237-9c9c9004f7cc>:52: DeprecationWarning: Using a qobj for run() is deprecated as of qiskit-aer 0.9.0 and will be removed no sooner than 3 months from that release date. Transpiled circuits should now be passed directly using `backend.run(circuits, **run_options).\n",
            "  job = self.backend.run(qobj)\n"
          ]
        },
        {
          "output_type": "stream",
          "name": "stdout",
          "text": [
            "Epoch 25 ~ Batch 3999 (3999) ~ Loss 0.318852 \t\tTraining [52%]\t Training Loss: 0.4344 Validation Loss: 0.4246\n",
            "[[0.93117409 0.06882591]\n",
            " [0.15217391 0.84782609]]\n",
            "                              precision    recall  f1-score   support\n",
            "\n",
            "/content/EuroSAT_RGB/Highway     0.8566    0.9312    0.8923       494\n",
            "  /content/EuroSAT_RGB/River     0.9266    0.8478    0.8854       506\n",
            "\n",
            "                    accuracy                         0.8890      1000\n",
            "                   macro avg     0.8916    0.8895    0.8889      1000\n",
            "                weighted avg     0.8920    0.8890    0.8889      1000\n",
            "\n",
            "Epoch 26 ~ Batch 2 (3999) ~ Loss 1.278085 \t\t"
          ]
        },
        {
          "output_type": "stream",
          "name": "stderr",
          "text": [
            "<ipython-input-237-9c9c9004f7cc>:52: DeprecationWarning: Using a qobj for run() is deprecated as of qiskit-aer 0.9.0 and will be removed no sooner than 3 months from that release date. Transpiled circuits should now be passed directly using `backend.run(circuits, **run_options).\n",
            "  job = self.backend.run(qobj)\n"
          ]
        },
        {
          "output_type": "stream",
          "name": "stdout",
          "text": [
            "Epoch 26 ~ Batch 3999 (3999) ~ Loss 0.317987 \t\tTraining [54%]\t Training Loss: 0.4440 Validation Loss: 0.4419\n",
            "[[0.87692308 0.12307692]\n",
            " [0.13958333 0.86041667]]\n",
            "                              precision    recall  f1-score   support\n",
            "\n",
            "/content/EuroSAT_RGB/Highway     0.8719    0.8769    0.8744       520\n",
            "  /content/EuroSAT_RGB/River     0.8658    0.8604    0.8631       480\n",
            "\n",
            "                    accuracy                         0.8690      1000\n",
            "                   macro avg     0.8689    0.8687    0.8688      1000\n",
            "                weighted avg     0.8690    0.8690    0.8690      1000\n",
            "\n",
            "Epoch 27 ~ Batch 2 (3999) ~ Loss 0.318018 \t\t"
          ]
        },
        {
          "output_type": "stream",
          "name": "stderr",
          "text": [
            "<ipython-input-237-9c9c9004f7cc>:52: DeprecationWarning: Using a qobj for run() is deprecated as of qiskit-aer 0.9.0 and will be removed no sooner than 3 months from that release date. Transpiled circuits should now be passed directly using `backend.run(circuits, **run_options).\n",
            "  job = self.backend.run(qobj)\n"
          ]
        },
        {
          "output_type": "stream",
          "name": "stdout",
          "text": [
            "Epoch 27 ~ Batch 3999 (3999) ~ Loss 0.317757 \t\tTraining [56%]\t Training Loss: 0.4227 Validation Loss: 0.4410\n",
            "[[0.94388778 0.05611222]\n",
            " [0.20359281 0.79640719]]\n",
            "                              precision    recall  f1-score   support\n",
            "\n",
            "/content/EuroSAT_RGB/Highway     0.8220    0.9439    0.8787       499\n",
            "  /content/EuroSAT_RGB/River     0.9344    0.7964    0.8599       501\n",
            "\n",
            "                    accuracy                         0.8700      1000\n",
            "                   macro avg     0.8782    0.8701    0.8693      1000\n",
            "                weighted avg     0.8783    0.8700    0.8693      1000\n",
            "\n",
            "Epoch 28 ~ Batch 2 (3999) ~ Loss 0.318530 \t\t"
          ]
        },
        {
          "output_type": "stream",
          "name": "stderr",
          "text": [
            "<ipython-input-237-9c9c9004f7cc>:52: DeprecationWarning: Using a qobj for run() is deprecated as of qiskit-aer 0.9.0 and will be removed no sooner than 3 months from that release date. Transpiled circuits should now be passed directly using `backend.run(circuits, **run_options).\n",
            "  job = self.backend.run(qobj)\n"
          ]
        },
        {
          "output_type": "stream",
          "name": "stdout",
          "text": [
            "Epoch 28 ~ Batch 3999 (3999) ~ Loss 0.318067 \t\tTraining [58%]\t Training Loss: 0.4383 Validation Loss: 0.4200\n",
            "[[0.93927894 0.06072106]\n",
            " [0.15221987 0.84778013]]\n",
            "                              precision    recall  f1-score   support\n",
            "\n",
            "/content/EuroSAT_RGB/Highway     0.8730    0.9393    0.9049       527\n",
            "  /content/EuroSAT_RGB/River     0.9261    0.8478    0.8852       473\n",
            "\n",
            "                    accuracy                         0.8960      1000\n",
            "                   macro avg     0.8996    0.8935    0.8951      1000\n",
            "                weighted avg     0.8981    0.8960    0.8956      1000\n",
            "\n",
            "Epoch 29 ~ Batch 2 (3999) ~ Loss 1.300071 \t\t"
          ]
        },
        {
          "output_type": "stream",
          "name": "stderr",
          "text": [
            "<ipython-input-237-9c9c9004f7cc>:52: DeprecationWarning: Using a qobj for run() is deprecated as of qiskit-aer 0.9.0 and will be removed no sooner than 3 months from that release date. Transpiled circuits should now be passed directly using `backend.run(circuits, **run_options).\n",
            "  job = self.backend.run(qobj)\n"
          ]
        },
        {
          "output_type": "stream",
          "name": "stdout",
          "text": [
            "Epoch 29 ~ Batch 3999 (3999) ~ Loss 1.302763 \t\tTraining [60%]\t Training Loss: 0.4176 Validation Loss: 0.4021\n",
            "[[0.93426295 0.06573705]\n",
            " [0.11445783 0.88554217]]\n",
            "                              precision    recall  f1-score   support\n",
            "\n",
            "/content/EuroSAT_RGB/Highway     0.8916    0.9343    0.9125       502\n",
            "  /content/EuroSAT_RGB/River     0.9304    0.8855    0.9074       498\n",
            "\n",
            "                    accuracy                         0.9100      1000\n",
            "                   macro avg     0.9110    0.9099    0.9099      1000\n",
            "                weighted avg     0.9109    0.9100    0.9099      1000\n",
            "\n",
            "Epoch 30 ~ Batch 2 (3999) ~ Loss 0.317075 \t\t"
          ]
        },
        {
          "output_type": "stream",
          "name": "stderr",
          "text": [
            "<ipython-input-237-9c9c9004f7cc>:52: DeprecationWarning: Using a qobj for run() is deprecated as of qiskit-aer 0.9.0 and will be removed no sooner than 3 months from that release date. Transpiled circuits should now be passed directly using `backend.run(circuits, **run_options).\n",
            "  job = self.backend.run(qobj)\n"
          ]
        },
        {
          "output_type": "stream",
          "name": "stdout",
          "text": [
            "Epoch 30 ~ Batch 3999 (3999) ~ Loss 0.317629 \t\tTraining [62%]\t Training Loss: 0.4206 Validation Loss: 0.4169\n",
            "[[0.93240557 0.06759443]\n",
            " [0.138833   0.861167  ]]\n",
            "                              precision    recall  f1-score   support\n",
            "\n",
            "/content/EuroSAT_RGB/Highway     0.8717    0.9324    0.9011       503\n",
            "  /content/EuroSAT_RGB/River     0.9264    0.8612    0.8926       497\n",
            "\n",
            "                    accuracy                         0.8970      1000\n",
            "                   macro avg     0.8991    0.8968    0.8968      1000\n",
            "                weighted avg     0.8989    0.8970    0.8969      1000\n",
            "\n",
            "Epoch 31 ~ Batch 2 (3999) ~ Loss 0.316765 \t\t"
          ]
        },
        {
          "output_type": "stream",
          "name": "stderr",
          "text": [
            "<ipython-input-237-9c9c9004f7cc>:52: DeprecationWarning: Using a qobj for run() is deprecated as of qiskit-aer 0.9.0 and will be removed no sooner than 3 months from that release date. Transpiled circuits should now be passed directly using `backend.run(circuits, **run_options).\n",
            "  job = self.backend.run(qobj)\n"
          ]
        },
        {
          "output_type": "stream",
          "name": "stdout",
          "text": [
            "Epoch 31 ~ Batch 3999 (3999) ~ Loss 0.317202 \t\tTraining [64%]\t Training Loss: 0.4268 Validation Loss: 0.4188\n",
            "[[0.87726358 0.12273642]\n",
            " [0.10139165 0.89860835]]\n",
            "                              precision    recall  f1-score   support\n",
            "\n",
            "/content/EuroSAT_RGB/Highway     0.8953    0.8773    0.8862       497\n",
            "  /content/EuroSAT_RGB/River     0.8811    0.8986    0.8898       503\n",
            "\n",
            "                    accuracy                         0.8880      1000\n",
            "                   macro avg     0.8882    0.8879    0.8880      1000\n",
            "                weighted avg     0.8881    0.8880    0.8880      1000\n",
            "\n",
            "Epoch 32 ~ Batch 2 (3999) ~ Loss 0.316620 \t\t"
          ]
        },
        {
          "output_type": "stream",
          "name": "stderr",
          "text": [
            "<ipython-input-237-9c9c9004f7cc>:52: DeprecationWarning: Using a qobj for run() is deprecated as of qiskit-aer 0.9.0 and will be removed no sooner than 3 months from that release date. Transpiled circuits should now be passed directly using `backend.run(circuits, **run_options).\n",
            "  job = self.backend.run(qobj)\n"
          ]
        },
        {
          "output_type": "stream",
          "name": "stdout",
          "text": [
            "Epoch 32 ~ Batch 3999 (3999) ~ Loss 0.316654 \t\tTraining [66%]\t Training Loss: 0.4138 Validation Loss: 0.3947\n",
            "[[0.91417166 0.08582834]\n",
            " [0.08016032 0.91983968]]\n",
            "                              precision    recall  f1-score   support\n",
            "\n",
            "/content/EuroSAT_RGB/Highway     0.9197    0.9142    0.9169       501\n",
            "  /content/EuroSAT_RGB/River     0.9143    0.9198    0.9171       499\n",
            "\n",
            "                    accuracy                         0.9170      1000\n",
            "                   macro avg     0.9170    0.9170    0.9170      1000\n",
            "                weighted avg     0.9170    0.9170    0.9170      1000\n",
            "\n",
            "Epoch 33 ~ Batch 2 (3999) ~ Loss 0.316688 \t\t"
          ]
        },
        {
          "output_type": "stream",
          "name": "stderr",
          "text": [
            "<ipython-input-237-9c9c9004f7cc>:52: DeprecationWarning: Using a qobj for run() is deprecated as of qiskit-aer 0.9.0 and will be removed no sooner than 3 months from that release date. Transpiled circuits should now be passed directly using `backend.run(circuits, **run_options).\n",
            "  job = self.backend.run(qobj)\n"
          ]
        },
        {
          "output_type": "stream",
          "name": "stdout",
          "text": [
            "Epoch 33 ~ Batch 3999 (3999) ~ Loss 1.248021 \t\tTraining [68%]\t Training Loss: 0.4060 Validation Loss: 0.3845\n",
            "[[0.94003868 0.05996132]\n",
            " [0.07867495 0.92132505]]\n",
            "                              precision    recall  f1-score   support\n",
            "\n",
            "/content/EuroSAT_RGB/Highway     0.9275    0.9400    0.9337       517\n",
            "  /content/EuroSAT_RGB/River     0.9349    0.9213    0.9281       483\n",
            "\n",
            "                    accuracy                         0.9310      1000\n",
            "                   macro avg     0.9312    0.9307    0.9309      1000\n",
            "                weighted avg     0.9311    0.9310    0.9310      1000\n",
            "\n",
            "Epoch 34 ~ Batch 2 (3999) ~ Loss 0.316318 \t\t"
          ]
        },
        {
          "output_type": "stream",
          "name": "stderr",
          "text": [
            "<ipython-input-237-9c9c9004f7cc>:52: DeprecationWarning: Using a qobj for run() is deprecated as of qiskit-aer 0.9.0 and will be removed no sooner than 3 months from that release date. Transpiled circuits should now be passed directly using `backend.run(circuits, **run_options).\n",
            "  job = self.backend.run(qobj)\n"
          ]
        },
        {
          "output_type": "stream",
          "name": "stdout",
          "text": [
            "Epoch 34 ~ Batch 3999 (3999) ~ Loss 1.258157 \t\tTraining [70%]\t Training Loss: 0.4180 Validation Loss: 0.4263\n",
            "[[0.80039526 0.19960474]\n",
            " [0.02226721 0.97773279]]\n",
            "                              precision    recall  f1-score   support\n",
            "\n",
            "/content/EuroSAT_RGB/Highway     0.9736    0.8004    0.8785       506\n",
            "  /content/EuroSAT_RGB/River     0.8271    0.9777    0.8961       494\n",
            "\n",
            "                    accuracy                         0.8880      1000\n",
            "                   macro avg     0.9003    0.8891    0.8873      1000\n",
            "                weighted avg     0.9012    0.8880    0.8872      1000\n",
            "\n",
            "Epoch 35 ~ Batch 2 (3999) ~ Loss 0.316169 \t\t"
          ]
        },
        {
          "output_type": "stream",
          "name": "stderr",
          "text": [
            "<ipython-input-237-9c9c9004f7cc>:52: DeprecationWarning: Using a qobj for run() is deprecated as of qiskit-aer 0.9.0 and will be removed no sooner than 3 months from that release date. Transpiled circuits should now be passed directly using `backend.run(circuits, **run_options).\n",
            "  job = self.backend.run(qobj)\n"
          ]
        },
        {
          "output_type": "stream",
          "name": "stdout",
          "text": [
            "Epoch 35 ~ Batch 3999 (3999) ~ Loss 0.316009 \t\tTraining [72%]\t Training Loss: 0.4164 Validation Loss: 0.4090\n",
            "[[0.89224953 0.10775047]\n",
            " [0.08280255 0.91719745]]\n",
            "                              precision    recall  f1-score   support\n",
            "\n",
            "/content/EuroSAT_RGB/Highway     0.9237    0.8922    0.9077       529\n",
            "  /content/EuroSAT_RGB/River     0.8834    0.9172    0.9000       471\n",
            "\n",
            "                    accuracy                         0.9040      1000\n",
            "                   macro avg     0.9036    0.9047    0.9038      1000\n",
            "                weighted avg     0.9047    0.9040    0.9041      1000\n",
            "\n",
            "Epoch 36 ~ Batch 2 (3999) ~ Loss 0.315915 \t\t"
          ]
        },
        {
          "output_type": "stream",
          "name": "stderr",
          "text": [
            "<ipython-input-237-9c9c9004f7cc>:52: DeprecationWarning: Using a qobj for run() is deprecated as of qiskit-aer 0.9.0 and will be removed no sooner than 3 months from that release date. Transpiled circuits should now be passed directly using `backend.run(circuits, **run_options).\n",
            "  job = self.backend.run(qobj)\n"
          ]
        },
        {
          "output_type": "stream",
          "name": "stdout",
          "text": [
            "Epoch 36 ~ Batch 3999 (3999) ~ Loss 0.315863 \t\tTraining [74%]\t Training Loss: 0.4065 Validation Loss: 0.3816\n",
            "[[0.94390716 0.05609284]\n",
            " [0.08281573 0.91718427]]\n",
            "                              precision    recall  f1-score   support\n",
            "\n",
            "/content/EuroSAT_RGB/Highway     0.9242    0.9439    0.9340       517\n",
            "  /content/EuroSAT_RGB/River     0.9386    0.9172    0.9277       483\n",
            "\n",
            "                    accuracy                         0.9310      1000\n",
            "                   macro avg     0.9314    0.9305    0.9309      1000\n",
            "                weighted avg     0.9312    0.9310    0.9310      1000\n",
            "\n",
            "Epoch 37 ~ Batch 2 (3999) ~ Loss 0.316271 \t\t"
          ]
        },
        {
          "output_type": "stream",
          "name": "stderr",
          "text": [
            "<ipython-input-237-9c9c9004f7cc>:52: DeprecationWarning: Using a qobj for run() is deprecated as of qiskit-aer 0.9.0 and will be removed no sooner than 3 months from that release date. Transpiled circuits should now be passed directly using `backend.run(circuits, **run_options).\n",
            "  job = self.backend.run(qobj)\n"
          ]
        },
        {
          "output_type": "stream",
          "name": "stdout",
          "text": [
            "Epoch 37 ~ Batch 3999 (3999) ~ Loss 0.489103 \t\tTraining [76%]\t Training Loss: 0.4126 Validation Loss: 0.4190\n",
            "[[0.94117647 0.05882353]\n",
            " [0.16734694 0.83265306]]\n",
            "                              precision    recall  f1-score   support\n",
            "\n",
            "/content/EuroSAT_RGB/Highway     0.8541    0.9412    0.8955       510\n",
            "  /content/EuroSAT_RGB/River     0.9315    0.8327    0.8793       490\n",
            "\n",
            "                    accuracy                         0.8880      1000\n",
            "                   macro avg     0.8928    0.8869    0.8874      1000\n",
            "                weighted avg     0.8920    0.8880    0.8876      1000\n",
            "\n",
            "Epoch 38 ~ Batch 2 (3999) ~ Loss 0.315700 \t\t"
          ]
        },
        {
          "output_type": "stream",
          "name": "stderr",
          "text": [
            "<ipython-input-237-9c9c9004f7cc>:52: DeprecationWarning: Using a qobj for run() is deprecated as of qiskit-aer 0.9.0 and will be removed no sooner than 3 months from that release date. Transpiled circuits should now be passed directly using `backend.run(circuits, **run_options).\n",
            "  job = self.backend.run(qobj)\n"
          ]
        },
        {
          "output_type": "stream",
          "name": "stdout",
          "text": [
            "Epoch 38 ~ Batch 3999 (3999) ~ Loss 0.315504 \t\tTraining [78%]\t Training Loss: 0.4136 Validation Loss: 0.5126\n",
            "[[0.98364008 0.01635992]\n",
            " [0.36399217 0.63600783]]\n",
            "                              precision    recall  f1-score   support\n",
            "\n",
            "/content/EuroSAT_RGB/Highway     0.7211    0.9836    0.8322       489\n",
            "  /content/EuroSAT_RGB/River     0.9760    0.6360    0.7701       511\n",
            "\n",
            "                    accuracy                         0.8060      1000\n",
            "                   macro avg     0.8486    0.8098    0.8012      1000\n",
            "                weighted avg     0.8514    0.8060    0.8005      1000\n",
            "\n",
            "Epoch 39 ~ Batch 2 (3999) ~ Loss 0.319188 \t\t"
          ]
        },
        {
          "output_type": "stream",
          "name": "stderr",
          "text": [
            "<ipython-input-237-9c9c9004f7cc>:52: DeprecationWarning: Using a qobj for run() is deprecated as of qiskit-aer 0.9.0 and will be removed no sooner than 3 months from that release date. Transpiled circuits should now be passed directly using `backend.run(circuits, **run_options).\n",
            "  job = self.backend.run(qobj)\n"
          ]
        },
        {
          "output_type": "stream",
          "name": "stdout",
          "text": [
            "Epoch 39 ~ Batch 3999 (3999) ~ Loss 0.317367 \t\tTraining [80%]\t Training Loss: 0.3948 Validation Loss: 0.3993\n",
            "[[0.92555332 0.07444668]\n",
            " [0.08349901 0.91650099]]\n",
            "                              precision    recall  f1-score   support\n",
            "\n",
            "/content/EuroSAT_RGB/Highway     0.9163    0.9256    0.9209       497\n",
            "  /content/EuroSAT_RGB/River     0.9257    0.9165    0.9211       503\n",
            "\n",
            "                    accuracy                         0.9210      1000\n",
            "                   macro avg     0.9210    0.9210    0.9210      1000\n",
            "                weighted avg     0.9210    0.9210    0.9210      1000\n",
            "\n",
            "Epoch 40 ~ Batch 2 (3999) ~ Loss 0.315319 \t\t"
          ]
        },
        {
          "output_type": "stream",
          "name": "stderr",
          "text": [
            "<ipython-input-237-9c9c9004f7cc>:52: DeprecationWarning: Using a qobj for run() is deprecated as of qiskit-aer 0.9.0 and will be removed no sooner than 3 months from that release date. Transpiled circuits should now be passed directly using `backend.run(circuits, **run_options).\n",
            "  job = self.backend.run(qobj)\n"
          ]
        },
        {
          "output_type": "stream",
          "name": "stdout",
          "text": [
            "Epoch 40 ~ Batch 3999 (3999) ~ Loss 0.315298 \t\tTraining [82%]\t Training Loss: 0.4003 Validation Loss: 0.3940\n",
            "[[0.9781746 0.0218254]\n",
            " [0.125     0.875    ]]\n",
            "                              precision    recall  f1-score   support\n",
            "\n",
            "/content/EuroSAT_RGB/Highway     0.8883    0.9782    0.9311       504\n",
            "  /content/EuroSAT_RGB/River     0.9753    0.8750    0.9224       496\n",
            "\n",
            "                    accuracy                         0.9270      1000\n",
            "                   macro avg     0.9318    0.9266    0.9267      1000\n",
            "                weighted avg     0.9314    0.9270    0.9268      1000\n",
            "\n",
            "Epoch 41 ~ Batch 2 (3999) ~ Loss 0.315224 \t\t"
          ]
        },
        {
          "output_type": "stream",
          "name": "stderr",
          "text": [
            "<ipython-input-237-9c9c9004f7cc>:52: DeprecationWarning: Using a qobj for run() is deprecated as of qiskit-aer 0.9.0 and will be removed no sooner than 3 months from that release date. Transpiled circuits should now be passed directly using `backend.run(circuits, **run_options).\n",
            "  job = self.backend.run(qobj)\n"
          ]
        },
        {
          "output_type": "stream",
          "name": "stdout",
          "text": [
            "Epoch 41 ~ Batch 3999 (3999) ~ Loss 0.315143 \t\tTraining [84%]\t Training Loss: 0.4033 Validation Loss: 0.4017\n",
            "[[0.91035857 0.08964143]\n",
            " [0.10040161 0.89959839]]\n",
            "                              precision    recall  f1-score   support\n",
            "\n",
            "/content/EuroSAT_RGB/Highway     0.9014    0.9104    0.9058       502\n",
            "  /content/EuroSAT_RGB/River     0.9087    0.8996    0.9041       498\n",
            "\n",
            "                    accuracy                         0.9050      1000\n",
            "                   macro avg     0.9051    0.9050    0.9050      1000\n",
            "                weighted avg     0.9050    0.9050    0.9050      1000\n",
            "\n",
            "Epoch 42 ~ Batch 1 (3999) ~ Loss 0.384986 \t\t"
          ]
        },
        {
          "output_type": "stream",
          "name": "stderr",
          "text": [
            "<ipython-input-237-9c9c9004f7cc>:52: DeprecationWarning: Using a qobj for run() is deprecated as of qiskit-aer 0.9.0 and will be removed no sooner than 3 months from that release date. Transpiled circuits should now be passed directly using `backend.run(circuits, **run_options).\n",
            "  job = self.backend.run(qobj)\n"
          ]
        },
        {
          "output_type": "stream",
          "name": "stdout",
          "text": [
            "Epoch 42 ~ Batch 3999 (3999) ~ Loss 1.307948 \t\tTraining [86%]\t Training Loss: 0.4011 Validation Loss: 0.4107\n",
            "[[0.86390533 0.13609467]\n",
            " [0.0811359  0.9188641 ]]\n",
            "                              precision    recall  f1-score   support\n",
            "\n",
            "/content/EuroSAT_RGB/Highway     0.9163    0.8639    0.8893       507\n",
            "  /content/EuroSAT_RGB/River     0.8678    0.9189    0.8926       493\n",
            "\n",
            "                    accuracy                         0.8910      1000\n",
            "                   macro avg     0.8921    0.8914    0.8910      1000\n",
            "                weighted avg     0.8924    0.8910    0.8910      1000\n",
            "\n",
            "Epoch 43 ~ Batch 2 (3999) ~ Loss 0.315408 \t\t"
          ]
        },
        {
          "output_type": "stream",
          "name": "stderr",
          "text": [
            "<ipython-input-237-9c9c9004f7cc>:52: DeprecationWarning: Using a qobj for run() is deprecated as of qiskit-aer 0.9.0 and will be removed no sooner than 3 months from that release date. Transpiled circuits should now be passed directly using `backend.run(circuits, **run_options).\n",
            "  job = self.backend.run(qobj)\n"
          ]
        },
        {
          "output_type": "stream",
          "name": "stdout",
          "text": [
            "Epoch 43 ~ Batch 3999 (3999) ~ Loss 0.314976 \t\tTraining [88%]\t Training Loss: 0.3873 Validation Loss: 0.3761\n",
            "[[0.93810445 0.06189555]\n",
            " [0.06625259 0.93374741]]\n",
            "                              precision    recall  f1-score   support\n",
            "\n",
            "/content/EuroSAT_RGB/Highway     0.9381    0.9381    0.9381       517\n",
            "  /content/EuroSAT_RGB/River     0.9337    0.9337    0.9337       483\n",
            "\n",
            "                    accuracy                         0.9360      1000\n",
            "                   macro avg     0.9359    0.9359    0.9359      1000\n",
            "                weighted avg     0.9360    0.9360    0.9360      1000\n",
            "\n",
            "Epoch 44 ~ Batch 2 (3999) ~ Loss 0.314976 \t\t"
          ]
        },
        {
          "output_type": "stream",
          "name": "stderr",
          "text": [
            "<ipython-input-237-9c9c9004f7cc>:52: DeprecationWarning: Using a qobj for run() is deprecated as of qiskit-aer 0.9.0 and will be removed no sooner than 3 months from that release date. Transpiled circuits should now be passed directly using `backend.run(circuits, **run_options).\n",
            "  job = self.backend.run(qobj)\n"
          ]
        },
        {
          "output_type": "stream",
          "name": "stdout",
          "text": [
            "Epoch 44 ~ Batch 3999 (3999) ~ Loss 0.314906 \t\tTraining [90%]\t Training Loss: 0.3962 Validation Loss: 0.4041\n",
            "[[0.87122736 0.12877264]\n",
            " [0.05765408 0.94234592]]\n",
            "                              precision    recall  f1-score   support\n",
            "\n",
            "/content/EuroSAT_RGB/Highway     0.9372    0.8712    0.9030       497\n",
            "  /content/EuroSAT_RGB/River     0.8810    0.9423    0.9107       503\n",
            "\n",
            "                    accuracy                         0.9070      1000\n",
            "                   macro avg     0.9091    0.9068    0.9068      1000\n",
            "                weighted avg     0.9090    0.9070    0.9069      1000\n",
            "\n",
            "Epoch 45 ~ Batch 2 (3999) ~ Loss 0.314908 \t\t"
          ]
        },
        {
          "output_type": "stream",
          "name": "stderr",
          "text": [
            "<ipython-input-237-9c9c9004f7cc>:52: DeprecationWarning: Using a qobj for run() is deprecated as of qiskit-aer 0.9.0 and will be removed no sooner than 3 months from that release date. Transpiled circuits should now be passed directly using `backend.run(circuits, **run_options).\n",
            "  job = self.backend.run(qobj)\n"
          ]
        },
        {
          "output_type": "stream",
          "name": "stdout",
          "text": [
            "Epoch 45 ~ Batch 3999 (3999) ~ Loss 0.314806 \t\tTraining [92%]\t Training Loss: 0.3879 Validation Loss: 0.4231\n",
            "[[0.98870056 0.01129944]\n",
            " [0.20895522 0.79104478]]\n",
            "                              precision    recall  f1-score   support\n",
            "\n",
            "/content/EuroSAT_RGB/Highway     0.8427    0.9887    0.9099       531\n",
            "  /content/EuroSAT_RGB/River     0.9841    0.7910    0.8771       469\n",
            "\n",
            "                    accuracy                         0.8960      1000\n",
            "                   macro avg     0.9134    0.8899    0.8935      1000\n",
            "                weighted avg     0.9090    0.8960    0.8945      1000\n",
            "\n",
            "Epoch 46 ~ Batch 2 (3999) ~ Loss 0.314806 \t\t"
          ]
        },
        {
          "output_type": "stream",
          "name": "stderr",
          "text": [
            "<ipython-input-237-9c9c9004f7cc>:52: DeprecationWarning: Using a qobj for run() is deprecated as of qiskit-aer 0.9.0 and will be removed no sooner than 3 months from that release date. Transpiled circuits should now be passed directly using `backend.run(circuits, **run_options).\n",
            "  job = self.backend.run(qobj)\n"
          ]
        },
        {
          "output_type": "stream",
          "name": "stdout",
          "text": [
            "Epoch 46 ~ Batch 3999 (3999) ~ Loss 0.314739 \t\tTraining [94%]\t Training Loss: 0.3892 Validation Loss: 0.4594\n",
            "[[0.97813121 0.02186879]\n",
            " [0.28169014 0.71830986]]\n",
            "                              precision    recall  f1-score   support\n",
            "\n",
            "/content/EuroSAT_RGB/Highway     0.7785    0.9781    0.8670       503\n",
            "  /content/EuroSAT_RGB/River     0.9701    0.7183    0.8254       497\n",
            "\n",
            "                    accuracy                         0.8490      1000\n",
            "                   macro avg     0.8743    0.8482    0.8462      1000\n",
            "                weighted avg     0.8737    0.8490    0.8463      1000\n",
            "\n",
            "Epoch 47 ~ Batch 2 (3999) ~ Loss 0.314751 \t\t"
          ]
        },
        {
          "output_type": "stream",
          "name": "stderr",
          "text": [
            "<ipython-input-237-9c9c9004f7cc>:52: DeprecationWarning: Using a qobj for run() is deprecated as of qiskit-aer 0.9.0 and will be removed no sooner than 3 months from that release date. Transpiled circuits should now be passed directly using `backend.run(circuits, **run_options).\n",
            "  job = self.backend.run(qobj)\n"
          ]
        },
        {
          "output_type": "stream",
          "name": "stdout",
          "text": [
            "Epoch 47 ~ Batch 3999 (3999) ~ Loss 0.314934 \t\tTraining [96%]\t Training Loss: 0.3961 Validation Loss: 0.3815\n",
            "[[0.91198502 0.08801498]\n",
            " [0.05150215 0.94849785]]\n",
            "                              precision    recall  f1-score   support\n",
            "\n",
            "/content/EuroSAT_RGB/Highway     0.9530    0.9120    0.9321       534\n",
            "  /content/EuroSAT_RGB/River     0.9039    0.9485    0.9257       466\n",
            "\n",
            "                    accuracy                         0.9290      1000\n",
            "                   macro avg     0.9285    0.9302    0.9289      1000\n",
            "                weighted avg     0.9301    0.9290    0.9291      1000\n",
            "\n",
            "Epoch 48 ~ Batch 1 (3999) ~ Loss 0.314718 \t\t"
          ]
        },
        {
          "output_type": "stream",
          "name": "stderr",
          "text": [
            "<ipython-input-237-9c9c9004f7cc>:52: DeprecationWarning: Using a qobj for run() is deprecated as of qiskit-aer 0.9.0 and will be removed no sooner than 3 months from that release date. Transpiled circuits should now be passed directly using `backend.run(circuits, **run_options).\n",
            "  job = self.backend.run(qobj)\n"
          ]
        },
        {
          "output_type": "stream",
          "name": "stdout",
          "text": [
            "Epoch 48 ~ Batch 3999 (3999) ~ Loss 0.314622 \t\tTraining [98%]\t Training Loss: 0.3776 Validation Loss: 0.4536\n",
            "[[0.96101365 0.03898635]\n",
            " [0.26283368 0.73716632]]\n",
            "                              precision    recall  f1-score   support\n",
            "\n",
            "/content/EuroSAT_RGB/Highway     0.7939    0.9610    0.8695       513\n",
            "  /content/EuroSAT_RGB/River     0.9472    0.7372    0.8291       487\n",
            "\n",
            "                    accuracy                         0.8520      1000\n",
            "                   macro avg     0.8706    0.8491    0.8493      1000\n",
            "                weighted avg     0.8686    0.8520    0.8498      1000\n",
            "\n",
            "Epoch 49 ~ Batch 2 (3999) ~ Loss 1.267821 \t\t"
          ]
        },
        {
          "output_type": "stream",
          "name": "stderr",
          "text": [
            "<ipython-input-237-9c9c9004f7cc>:52: DeprecationWarning: Using a qobj for run() is deprecated as of qiskit-aer 0.9.0 and will be removed no sooner than 3 months from that release date. Transpiled circuits should now be passed directly using `backend.run(circuits, **run_options).\n",
            "  job = self.backend.run(qobj)\n"
          ]
        },
        {
          "output_type": "stream",
          "name": "stdout",
          "text": [
            "Epoch 49 ~ Batch 3999 (3999) ~ Loss 0.314530 \t\tTraining [100%]\t Training Loss: 0.3872 Validation Loss: 0.3724\n",
            "[[0.95652174 0.04347826]\n",
            " [0.07930368 0.92069632]]\n",
            "                              precision    recall  f1-score   support\n",
            "\n",
            "/content/EuroSAT_RGB/Highway     0.9185    0.9565    0.9371       483\n",
            "  /content/EuroSAT_RGB/River     0.9577    0.9207    0.9389       517\n",
            "\n",
            "                    accuracy                         0.9380      1000\n",
            "                   macro avg     0.9381    0.9386    0.9380      1000\n",
            "                weighted avg     0.9388    0.9380    0.9380      1000\n",
            "\n"
          ]
        }
      ]
    },
    {
      "cell_type": "code",
      "source": [],
      "metadata": {
        "id": "Yl7HJACXMo22"
      },
      "execution_count": 185,
      "outputs": []
    },
    {
      "cell_type": "code",
      "source": [
        "test_loader = iter(handler.cnn_data_loader(val_images, val_labels, batch_size = 1, img_shape = (64,64,3)))\n",
        "accuracy = 0\n",
        "number = 0\n",
        "\n",
        "predictions = []\n",
        "targets = []\n",
        "\n",
        "for ct in range(len(val_images)):\n",
        "\n",
        "  data, target = next(test_loader)\n",
        "  number +=1\n",
        "  output = hybrid_network.predict(data).item()\n",
        "\n",
        "  predictions.append(output)\n",
        "  targets.append(target.item())\n",
        "\n",
        "  accuracy += (output == target[0].item())*1\n",
        "  print('\\r ' + str(ct), end='')"
      ],
      "metadata": {
        "colab": {
          "base_uri": "https://localhost:8080/"
        },
        "id": "8f4rAK7_UGol",
        "outputId": "38b1f355-8ca9-4f2d-88da-b45c5962a5aa"
      },
      "execution_count": 244,
      "outputs": [
        {
          "output_type": "stream",
          "name": "stderr",
          "text": [
            "<ipython-input-237-9c9c9004f7cc>:52: DeprecationWarning: Using a qobj for run() is deprecated as of qiskit-aer 0.9.0 and will be removed no sooner than 3 months from that release date. Transpiled circuits should now be passed directly using `backend.run(circuits, **run_options).\n",
            "  job = self.backend.run(qobj)\n"
          ]
        },
        {
          "output_type": "stream",
          "name": "stdout",
          "text": [
            " 999"
          ]
        }
      ]
    },
    {
      "cell_type": "code",
      "source": [
        "print(\"Performance on test data is : {}/{} = {}%\".format(accuracy,number,100*accuracy/number))"
      ],
      "metadata": {
        "colab": {
          "base_uri": "https://localhost:8080/"
        },
        "id": "oB77QxNVItgj",
        "outputId": "c57182af-0f08-46ec-a65b-e5a9390f9cd3"
      },
      "execution_count": 245,
      "outputs": [
        {
          "output_type": "stream",
          "name": "stdout",
          "text": [
            "Performance on test data is : 937/1000 = 93.7%\n"
          ]
        }
      ]
    },
    {
      "cell_type": "code",
      "source": [
        "from sklearn.metrics import confusion_matrix, ConfusionMatrixDisplay, classification_report\n",
        "cm = confusion_matrix(targets, predictions,normalize='true')"
      ],
      "metadata": {
        "id": "Kj2cyshBLCE6"
      },
      "execution_count": 246,
      "outputs": []
    },
    {
      "cell_type": "code",
      "source": [
        "fig, axes = plt.subplots(nrows = 1, ncols = 1, figsize = (6,5))\n",
        "\n",
        "cmd = ConfusionMatrixDisplay(cm, display_labels=handler.classes[:2])\n",
        "cmd.plot(ax=axes, cmap='Blues', xticks_rotation='vertical')\n",
        "print('S2')\n",
        "print('Accuracy:', cm.diagonal(), 'mean: ', cm.diagonal().mean())\n",
        "print(classification_report(targets, predictions, target_names=handler.classes[:2], digits=4))\n",
        "axes.get_images()[0].set_clim(0, 1)\n",
        "plt.show()\n",
        "plt.close()"
      ],
      "metadata": {
        "colab": {
          "base_uri": "https://localhost:8080/",
          "height": 862
        },
        "id": "ljWRzfg1LGZN",
        "outputId": "ef030ab0-7d9d-4310-db48-f4cfaf34f060"
      },
      "execution_count": 247,
      "outputs": [
        {
          "output_type": "stream",
          "name": "stdout",
          "text": [
            "S2\n",
            "Accuracy: [0.94545455 0.92871287] mean:  0.9370837083708371\n",
            "                              precision    recall  f1-score   support\n",
            "\n",
            "/content/EuroSAT_RGB/Highway     0.9286    0.9455    0.9369       495\n",
            "  /content/EuroSAT_RGB/River     0.9456    0.9287    0.9371       505\n",
            "\n",
            "                    accuracy                         0.9370      1000\n",
            "                   macro avg     0.9371    0.9371    0.9370      1000\n",
            "                weighted avg     0.9372    0.9370    0.9370      1000\n",
            "\n"
          ]
        },
        {
          "output_type": "display_data",
          "data": {
            "text/plain": [
              "<Figure size 600x500 with 2 Axes>"
            ],
            "image/png": "[encoded data removed]"
          },
          "metadata": {}
        }
      ]
    }
  ]
}
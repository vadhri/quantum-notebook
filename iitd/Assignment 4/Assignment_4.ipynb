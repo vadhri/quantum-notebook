{
 "cells": [
  {
   "cell_type": "markdown",
   "id": "40f82f5c",
   "metadata": {},
   "source": [
    "# Assignment 4\n",
    "\n",
    "VADHRI VENKATA RATNAM"
   ]
  },
  {
   "cell_type": "code",
   "execution_count": 1,
   "id": "cc74b5fa",
   "metadata": {},
   "outputs": [],
   "source": [
    "from numpy import pi\n",
    "from qiskit import *\n",
    "from qiskit import QuantumRegister, ClassicalRegister, QuantumCircuit, Aer, assemble\n",
    "from qiskit.visualization import plot_histogram, plot_bloch_vector, plot_state_qsphere\n",
    "from math import sqrt, pi\n",
    "import numpy as np"
   ]
  },
  {
   "cell_type": "code",
   "execution_count": 2,
   "id": "b0350f4c",
   "metadata": {},
   "outputs": [
    {
     "data": {
      "text/html": [
       "<style>\n",
       "    img {float:left}\n",
       "</style>\n"
      ],
      "text/plain": [
       "<IPython.core.display.HTML object>"
      ]
     },
     "metadata": {},
     "output_type": "display_data"
    }
   ],
   "source": [
    "%%html\n",
    "<style>\n",
    "    img {float:left}\n",
    "</style>"
   ]
  },
  {
   "cell_type": "markdown",
   "id": "87e33e08",
   "metadata": {},
   "source": [
    "## 1 Design a network consisting of conditional gate and two hadamard gates\n",
    "\n",
    "There are the following three gates for construction. \n",
    "\n",
    "- A conditional $U_f$ gate with transformation function $|\\phi \\rangle = (-1)^y |\\phi \\rangle $\n",
    "- Two Hadamard Gates\n",
    "\n",
    "The objective is to find the vaue of y added by the $ U_f $ gate. \n",
    "\n",
    "### Multiple Qubits\n",
    "\n",
    "Consider the following circuit. \n",
    "\n",
    "![Circuit](1.png)"
   ]
  },
  {
   "cell_type": "markdown",
   "id": "95c953be",
   "metadata": {},
   "source": [
    "\n",
    "\n",
    "$ T0 = |00 \\rangle $\n",
    "\n",
    "$ T1 = |0 \\rangle \\otimes H |0 \\rangle $\n",
    "\n",
    "$ \\quad = \\frac{1}{\\sqrt2}|0 \\rangle \\otimes (|0 \\rangle + |1 \\rangle) $\n",
    "\n",
    "$ \\quad =  \\frac{1}{\\sqrt2} (|00 \\rangle + |01 \\rangle) $ \n",
    "\n",
    "$ T2 = U_f (T1) $\n",
    "\n",
    "$ \\quad = U_f \\frac{1}{\\sqrt2} (|00 \\rangle + |01 \\rangle) $\n",
    "\n",
    "Conditional activation of $U_f$ => activates when Qubit 1 is 1\n",
    "\n",
    "$ \\quad =  \\frac{1}{\\sqrt2} (|00 \\rangle + U_f|01 \\rangle) $\n",
    "\n",
    "$ \\quad =  \\frac{1}{\\sqrt2} |0 \\rangle \\otimes (|0 \\rangle + U_f|1 \\rangle) $\n",
    "\n",
    "$ \\quad =  \\frac{1}{\\sqrt2} |0 \\rangle \\otimes (|0 \\rangle + (-1)^y |1 \\rangle) $\n",
    "\n",
    "#### If y = 0 ( unknown bit inside the $ U_f $ gate ) \n",
    "\n",
    "$ T2 =  \\frac{1}{\\sqrt2} |0 \\rangle \\otimes (|0 \\rangle + |1 \\rangle) = |0+ \\rangle $\n",
    "\n",
    "Apply hadamard on Qubit 1. \n",
    "\n",
    "$ T3 = |0 \\rangle H |+ \\rangle = |00 \\rangle $\n",
    "\n",
    "#### Measurement on Qubit 1 gives 0 \n",
    "\n",
    "#### If y = 1 ( unknown bit inside the $ U_f $ gate ) \n",
    "\n",
    "$ T2 =  \\frac{1}{\\sqrt2} |0 \\rangle \\otimes (|0 \\rangle - |1 \\rangle) = |0- \\rangle $\n",
    "\n",
    "Apply hadamard on Qubit 1. \n",
    "\n",
    "$ T3 = |0 \\rangle H |- \\rangle = |01 \\rangle $\n",
    "\n",
    "#### Measurement on Qubit 1 gives 1\n",
    "\n",
    "### Single Qubit\n",
    "\n",
    "![Circuit](10.png)\n"
   ]
  },
  {
   "cell_type": "markdown",
   "id": "d1355b6f",
   "metadata": {},
   "source": [
    "$ T0 = |0 \\rangle $\n",
    "\n",
    "$ T1 = H |0 \\rangle $\n",
    "\n",
    "$ \\quad = \\frac{1}{\\sqrt2}(|0 \\rangle + |1 \\rangle) $\n",
    "\n",
    "$ T2 = U_f (T1) $\n",
    "\n",
    "$ \\quad = U_f \\frac{1}{\\sqrt2} (|0 \\rangle + |1 \\rangle) $\n",
    "\n",
    "Conditional activation of $U_f$ => activates when Qubit 1 is 1\n",
    "\n",
    "$ \\quad =  \\frac{1}{\\sqrt2} (|0 \\rangle + U_f|1 \\rangle) $\n",
    "\n",
    "$ \\quad =  \\frac{1}{\\sqrt2} (|0 \\rangle + (-1)^y |1 \\rangle) $\n",
    "\n",
    "#### If y = 0 ( unknown bit inside the $ U_f $ gate ) \n",
    "\n",
    "$ T2 =  \\frac{1}{\\sqrt2} (|0 \\rangle + |1 \\rangle) = |+ \\rangle $\n",
    "\n",
    "Apply hadamard on Qubit 1. \n",
    "\n",
    "$ T3 = H |+ \\rangle = |0 \\rangle $\n",
    "\n",
    "#### Measurement on Qubit 1 gives 0 \n",
    "\n",
    "#### If y = 1 ( unknown bit inside the $ U_f $ gate ) \n",
    "\n",
    "$ T2 =  \\frac{1}{\\sqrt2} (|0 \\rangle - |1 \\rangle) = |- \\rangle $\n",
    "\n",
    "Apply hadamard on Qubit 1. \n",
    "\n",
    "$ T3 = H |- \\rangle = |1 \\rangle $\n",
    "\n",
    "#### Measurement on Qubit 1 gives 1\n"
   ]
  },
  {
   "cell_type": "markdown",
   "id": "06856cc7",
   "metadata": {},
   "source": [
    "## 2. Which single operator application will yield value of x.\n",
    "\n",
    "Hardamard Gate"
   ]
  },
  {
   "cell_type": "markdown",
   "id": "91a2731e",
   "metadata": {},
   "source": [
    "## 3. Proove the following\n",
    "\n",
    "$ H^{\\otimes n} |x \\rangle_n = (-1)^{x.y} |y\\rangle_n $\n",
    "\n",
    "$ x.y = x_1y_1 \\oplus x_2y_2 \\oplus ... x_ny_n $\n",
    "\n",
    "### Method 1\n",
    "\n",
    "Single hadamard gate is reprsented as below.\n",
    "\n",
    "$ H|x\\rangle = \\Sigma_y (-1)^{x.y} |y \\rangle  $\n",
    "\n",
    "For all values of x => 0,1,2...n\n",
    "\n",
    "$ H^{\\otimes n} |x \\rangle_n = \\Sigma_{y_1, y_2, y_3 .. y_n} (-1)^{x1.y1 \\oplus x_2.y_2 .. \\oplus x_n.y_n} |y_1 \\rangle y_2 \\rangle ... |y_n \\rangle $\n",
    "\n",
    "$ \\quad =  \\Sigma_{y} (-1)^{x.y} |y\\rangle_n $\n",
    "\n",
    "Hence proved that \n",
    "\n",
    "$ H^{\\otimes n} |x \\rangle_n = (-1)^{x.y} |y\\rangle_n $\n",
    "\n",
    "### Method 2\n",
    "\n",
    "$ H|x\\rangle = \\Sigma_y (-1)^{x.y} |y \\rangle  $\n",
    "\n",
    "$ H^{\\otimes n} |x \\rangle_n  = H^{\\otimes n} |x_1 \\rangle |x_2 \\rangle  .. |x_n \\rangle = H|x_1 \\rangle H|x_2 \\rangle  .. H|x_n \\rangle $\n",
    "\n",
    "$\\quad = \\Sigma_{y_1} (-1)^{x_1.y_1} |y_1 \\rangle \\otimes \\Sigma_{y_2} (-1)^{x_2.y_2} |y_2 \\rangle ... \\Sigma_{y_n} (-1)^{x_n.y_n} |y_n \\rangle  $\n",
    "\n",
    "$ \\quad = \\Sigma_{y_1, y_2, y_3 .. y_n} (-1)^{x1.y1 \\oplus x_2.y_2 .. \\oplus x_n.y_n} |y_1 \\rangle y_2 \\rangle ... |y_n \\rangle $\n",
    "\n",
    "$ \\quad =  \\Sigma_{y} (-1)^{x.y} |y\\rangle_n $\n",
    "\n",
    "Hence proved that \n",
    "\n",
    "$ H^{\\otimes n} |x \\rangle_n = (-1)^{x.y} |y\\rangle_n $\n",
    "\n"
   ]
  },
  {
   "cell_type": "markdown",
   "id": "ba0a2652",
   "metadata": {},
   "source": [
    "# 4. Probability of detection of a balanced function. \n",
    "\n",
    "The probability of having a balanced function or const function is $\\frac{1}{2}$\n",
    "\n",
    "The minimum number of queries to make so that we have a 100% accurate answer is $ 2^{N/2} + 1 $\n",
    "\n",
    "The probablity of error happens in the case where we have a balanced function and all the $2^{N/2}$ queries returned the same value (0 or 1). \n",
    "\n",
    "$ P(Error) = P(0)_1.P(0)_2 ... P(0)_K $\n",
    "\n",
    "$ \\quad = \\frac{1}{2}.\\frac{1}{2}......\\frac{1}{2} {k times} $\n",
    "\n",
    "$ \\quad = \\frac{1}{2^k} $\n",
    "\n",
    "Probability of error is inversely proportional to the number of tries (k). \n",
    "\n",
    "Hence the larger the number of tries, the more the probability of detection of balanced function. \n"
   ]
  },
  {
   "cell_type": "markdown",
   "id": "f8c9c71b",
   "metadata": {},
   "source": [
    "# 5. Probability of getting y != a is 0.\n",
    "\n",
    "The final state of the function is below.\n",
    "\n",
    "Final state = $ \\sum_{x,y \\in \\{0,1\\}_n } (-1)^{f(x)+x.y} |y \\rangle $\n",
    "\n",
    "For a specific y, the probablity is the square of the term below\n",
    "\n",
    "$ P(Y=y) = \\begin{bmatrix}\\sum_{x \\in \\{0,1\\}_n } (-1)^{x.a+x.y} \\end{bmatrix}^2 $\n",
    "\n",
    "$ \\quad = \\begin{bmatrix}\\sum_{x \\in \\{0,1\\}_n } (-1)^{x.(a \\oplus y)} \\end{bmatrix}^2 $\n",
    "\n",
    "$ \\quad = \\begin{bmatrix}\\sum_{x \\in \\{0,1\\}_n } (-1)^{x.(a \\oplus y)}\\end{bmatrix}^2 $\n",
    "\n",
    "$ P(Y=y) = 1 $ if $a == y$ else 0\n"
   ]
  },
  {
   "cell_type": "markdown",
   "id": "4cfc96db",
   "metadata": {},
   "source": [
    "# 6. Execute Bernstein-Vazirani for f(x) = a.x with a = 100101 "
   ]
  },
  {
   "cell_type": "code",
   "execution_count": 3,
   "id": "1cfa4403",
   "metadata": {},
   "outputs": [
    {
     "data": {
      "image/png": "[encoded data removed]",
      "text/plain": [
       "<Figure size 687.22x351.167 with 1 Axes>"
      ]
     },
     "execution_count": 3,
     "metadata": {},
     "output_type": "execute_result"
    }
   ],
   "source": [
    "qreg_q = QuantumRegister(7, 'q')\n",
    "creg_c = ClassicalRegister(6, 'c')\n",
    "circuit = QuantumCircuit(qreg_q, creg_c)\n",
    "\n",
    "circuit.x(qreg_q[6])\n",
    "circuit.barrier(qreg_q[0], qreg_q[1], qreg_q[2], qreg_q[3], qreg_q[4], qreg_q[5], qreg_q[6])\n",
    "circuit.h(qreg_q[0])\n",
    "circuit.h(qreg_q[1])\n",
    "circuit.h(qreg_q[2])\n",
    "circuit.h(qreg_q[3])\n",
    "circuit.h(qreg_q[4])\n",
    "circuit.h(qreg_q[5])\n",
    "circuit.h(qreg_q[6])\n",
    "circuit.barrier(qreg_q[0], qreg_q[1], qreg_q[2], qreg_q[3], qreg_q[4], qreg_q[5], qreg_q[6])\n",
    "circuit.cx(qreg_q[0], qreg_q[6])\n",
    "circuit.cx(qreg_q[2], qreg_q[6])\n",
    "circuit.cx(qreg_q[5], qreg_q[6])\n",
    "circuit.barrier(qreg_q[0], qreg_q[1], qreg_q[2], qreg_q[3], qreg_q[4], qreg_q[5], qreg_q[6])\n",
    "circuit.h(qreg_q[0])\n",
    "circuit.h(qreg_q[1])\n",
    "circuit.h(qreg_q[2])\n",
    "circuit.h(qreg_q[3])\n",
    "circuit.h(qreg_q[4])\n",
    "circuit.h(qreg_q[5])\n",
    "circuit.h(qreg_q[6])\n",
    "\n",
    "circuit.measure(qreg_q[0], creg_c[0])\n",
    "circuit.measure(qreg_q[1], creg_c[1])\n",
    "circuit.measure(qreg_q[2], creg_c[2])\n",
    "circuit.measure(qreg_q[3], creg_c[3])\n",
    "circuit.measure(qreg_q[4], creg_c[4])\n",
    "circuit.measure(qreg_q[5], creg_c[5])\n",
    "\n",
    "circuit.draw(output='mpl', scale=0.5)"
   ]
  },
  {
   "cell_type": "code",
   "execution_count": 4,
   "id": "637039ef",
   "metadata": {},
   "outputs": [
    {
     "data": {
      "image/png": "[encoded data removed]",
      "text/plain": [
       "<Figure size 25x200 with 1 Axes>"
      ]
     },
     "execution_count": 4,
     "metadata": {},
     "output_type": "execute_result"
    }
   ],
   "source": [
    "sim = Aer.get_backend('aer_simulator')\n",
    "\n",
    "job = execute(circuit, sim)\n",
    "result = job.result()\n",
    "\n",
    "counts = result.get_counts()\n",
    "plot_histogram(counts, figsize=(0.25,2))"
   ]
  },
  {
   "cell_type": "markdown",
   "id": "1a398a12",
   "metadata": {},
   "source": [
    "# 7. Step by step: Bernstien vaziarni\n",
    "\n",
    "### Method 1\n",
    "\n",
    "we start with s = 0110\n",
    "\n",
    "Step 1. Start with Hadamard gates applied to 4 Qubits. 5th Qubit used for gate calc.\n",
    "\n",
    "$ |\\psi_0 \\rangle = H^{\\otimes 4} | 0000 \\rangle $ \n",
    "\n",
    "$ \\quad = \\frac{1}{\\sqrt{2^n}} \\begin{bmatrix} \\Sigma_{x \\in \\{0,1\\}^4} |x \\rangle \\end{bmatrix}$\n",
    "\n",
    "Step 2. Apply $U_f$ gate for the Qubits.\n",
    "\n",
    "$ \\quad = \\frac{1}{\\sqrt{2^4}} \\begin{bmatrix} \\Sigma_{x \\in \\{0,1\\}^4} (-1)^{f(x)} |x \\rangle \\end{bmatrix}$\n",
    "\n",
    "Step 3. Apply Hadamard gate. \n",
    "\n",
    "$ \\quad = H^{\\otimes 4} \\frac{1}{\\sqrt{2^4}} \\begin{bmatrix} \\Sigma_{x \\in \\{0,1\\}^4} (-1)^{f(x)} |x \\rangle \\end{bmatrix}$\n",
    "\n",
    "$ \\quad = \\frac{1}{2^4} \\begin{bmatrix} \\Sigma_{x \\in \\{0,1\\}^4} (-1)^{f(x)} \\begin{bmatrix}\\Sigma_{y \\in \\{0,1\\}^4} (-1)^{x.y} |y \\rangle \\end{bmatrix} \\end{bmatrix}$\n",
    "\n",
    "$ \\quad = \\frac{1}{2^4} \\begin{bmatrix} \\Sigma_{x \\in \\{0,1\\}^4} (-1)^{f(x)+x.y} |y \\rangle \\end{bmatrix}$\n",
    "\n",
    "$ \\quad = \\frac{1}{2^4} \\begin{bmatrix} \\Sigma_{x \\in \\{0,1\\}^4} (-1)^{s.x+x.y} |y \\rangle \\end{bmatrix}$\n",
    "\n",
    "$ \\quad = |0110 \\rangle $\n",
    "\n",
    "### Method 2\n",
    "\n",
    "Step 1 : Init (0,1,2,3,4) qubits\n",
    "\n",
    "$ |\\psi \\rangle_0= |10000\\rangle $\n",
    "\n",
    "Step 2: Apply Hadamard gates to all bits\n",
    "\n",
    "$|\\psi \\rangle_1 = |-++++ \\rangle $\n",
    "\n",
    "Step 3: Apply CNOT gates as per secret message (0110) inside $U_f$\n",
    "\n",
    "Due to phase kickback, $CNOT|+-\\rangle$ becomes $CNOT|-- \\rangle $\n",
    "\n",
    "$ CNOT(3,0)|\\psi \\rangle_2 = |-++-+ \\rangle $\n",
    "\n",
    "$ CNOT(2,0)|\\psi \\rangle_3 = |-+--+ \\rangle $\n",
    "\n",
    "Step 4 : Apply Hadamard gates again.\n",
    "\n",
    "$|\\psi \\rangle_4 = H|-+--+ \\rangle $\n",
    "\n",
    "$ \\quad = |10110 \\rangle $\n",
    "\n",
    "If we drop the 0th bit and measure 1,2,3,4 they are the secret key. \n"
   ]
  },
  {
   "cell_type": "code",
   "execution_count": 5,
   "id": "3a63833e",
   "metadata": {},
   "outputs": [
    {
     "data": {
      "image/png": "[encoded data removed]",
      "text/plain": [
       "<Figure size 561.804x267.556 with 1 Axes>"
      ]
     },
     "execution_count": 5,
     "metadata": {},
     "output_type": "execute_result"
    }
   ],
   "source": [
    "qreg_q = QuantumRegister(5, 'q')\n",
    "creg_c = ClassicalRegister(4, 'c')\n",
    "circuit = QuantumCircuit(qreg_q, creg_c)\n",
    "\n",
    "circuit.x(qreg_q[4])\n",
    "circuit.barrier(qreg_q[0], qreg_q[1], qreg_q[2], qreg_q[3], qreg_q[4])\n",
    "circuit.h(qreg_q[0])\n",
    "circuit.h(qreg_q[1])\n",
    "circuit.h(qreg_q[2])\n",
    "circuit.h(qreg_q[3])\n",
    "circuit.h(qreg_q[4])\n",
    "circuit.barrier(qreg_q[0], qreg_q[1], qreg_q[2], qreg_q[3], qreg_q[4])\n",
    "circuit.cx(qreg_q[1], qreg_q[4])\n",
    "circuit.cx(qreg_q[2], qreg_q[4])\n",
    "circuit.barrier(qreg_q[0], qreg_q[1], qreg_q[2], qreg_q[3], qreg_q[4])\n",
    "circuit.h(qreg_q[0])\n",
    "circuit.h(qreg_q[1])\n",
    "circuit.h(qreg_q[2])\n",
    "circuit.h(qreg_q[3])\n",
    "circuit.h(qreg_q[4])\n",
    "circuit.measure(qreg_q[0], creg_c[0])\n",
    "circuit.measure(qreg_q[1], creg_c[1])\n",
    "circuit.measure(qreg_q[2], creg_c[2])\n",
    "circuit.measure(qreg_q[3], creg_c[3])\n",
    "\n",
    "circuit.draw(output='mpl', scale=0.5)"
   ]
  },
  {
   "cell_type": "code",
   "execution_count": 6,
   "id": "254a0e86",
   "metadata": {},
   "outputs": [
    {
     "data": {
      "image/png": "[encoded data removed]",
      "text/plain": [
       "<Figure size 25x200 with 1 Axes>"
      ]
     },
     "execution_count": 6,
     "metadata": {},
     "output_type": "execute_result"
    }
   ],
   "source": [
    "sim = Aer.get_backend('aer_simulator')\n",
    "\n",
    "job = execute(circuit, sim)\n",
    "result = job.result()\n",
    "\n",
    "counts = result.get_counts()\n",
    "plot_histogram(counts,figsize=(0.25,2))"
   ]
  },
  {
   "cell_type": "markdown",
   "id": "e8f476bb",
   "metadata": {},
   "source": [
    "# 8. Find new quantum state after applying QFT\n",
    "\n",
    "#### (i) $ |\\psi \\rangle = \\alpha |0\\rangle + \\beta |1\\rangle $ \n",
    "\n",
    "$ QFT |\\psi \\rangle = \\frac{1}{\\sqrt2}\\begin{bmatrix} 1&1\\\\1&-1 \\end{bmatrix} \\begin{bmatrix} \\alpha\\\\\\beta\\end{bmatrix} $\n",
    "\n",
    "$ \\quad = \\frac{1}{\\sqrt2} \\begin{bmatrix} \\alpha+\\beta\\\\\\alpha-\\beta\\end{bmatrix}$\n",
    "\n",
    "#### (ii) $ |\\psi \\rangle = \\alpha |10\\rangle $ \n",
    "\n",
    "$ |\\psi \\rangle = \\frac{1}{\\sqrt2} \\begin{bmatrix} 0\\\\1 \\end{bmatrix} \\otimes \\begin{bmatrix} 1\\\\0 \\end{bmatrix} $\n",
    "\n",
    "$ QFT |\\psi \\rangle = \\frac{1}{2} \\begin{bmatrix} 1&1&1&1\\\\1&i&-1&-i \\\\ 1&-1&1&-1 \\\\ 1&-i&-1&i\\end{bmatrix} \\begin{bmatrix} 0\\\\0\\\\1\\\\0 \\end{bmatrix} = \\frac{1}{2} \\begin{bmatrix} 1\\\\-1\\\\1\\\\-1 \\end{bmatrix} = \\frac{1}{\\sqrt2} \\begin{bmatrix} 1\\\\1 \\end{bmatrix} \\otimes \\frac{1}{\\sqrt2}\\begin{bmatrix} 1\\\\-1 \\end{bmatrix} = |+- \\rangle $\n",
    "\n",
    "#### (iii)  $ |\\psi \\rangle = \\frac{1}{\\sqrt2} \\begin{bmatrix}|10\\rangle + |01\\rangle \\end{bmatrix}$ \n",
    "\n",
    "$ QFT |\\psi \\rangle = \\frac{1}{2\\sqrt2} \\begin{bmatrix} 1&1&1&1\\\\1&i&-1&-i \\\\ 1&-1&1&-1 \\\\ 1&-i&-1&i\\end{bmatrix} \\begin{bmatrix} 0\\\\1\\\\1\\\\0 \\end{bmatrix} = \\frac{1}{2\\sqrt2} \\begin{bmatrix} 2\\\\i-1\\\\0\\\\-i-1 \\end{bmatrix} $\n"
   ]
  },
  {
   "cell_type": "markdown",
   "id": "e8093274",
   "metadata": {},
   "source": [
    "# 9. Rotation gates in QFT.\n",
    "\n",
    "The following is the circuit that can achieve quantum addition. If we need to add x to y, we can add that in the freq domain too. \n",
    "\n",
    "$ |x \\rangle = \\frac{1}{\\sqrt{2^n}} \\sum_{p} {e^{2\\pi i \\frac{xp}{2^n}}} |p \\rangle $\n",
    "\n",
    "Add y to the phase .. \n",
    "\n",
    "$ |x \\rangle = \\frac{1}{\\sqrt{2^n}} \\sum_{p} {e^{2\\pi i \\frac{x(p+y)}{2^n}}} |p \\rangle $\n",
    "\n",
    "Apply $ QFT^{-1} $ ... \n",
    "\n",
    "$ |x + y \\quad \\% 2^n \\rangle $\n",
    "\n",
    "![alt text](9.png \"Title\")\n",
    "\n"
   ]
  },
  {
   "cell_type": "markdown",
   "id": "88d8df33",
   "metadata": {},
   "source": [
    "Y can take values raised to power of 2, with less gates. \n",
    "\n",
    "No of operations : $ y^{(2^n-1)} $"
   ]
  },
  {
   "cell_type": "markdown",
   "id": "67675d9c",
   "metadata": {},
   "source": [
    "# 10. First stage of QPE\n",
    "\n",
    "![alt text](10.jpeg \"Title\")\n"
   ]
  }
 ],
 "metadata": {
  "kernelspec": {
   "display_name": "Python 3 (ipykernel)",
   "language": "python",
   "name": "python3"
  },
  "language_info": {
   "codemirror_mode": {
    "name": "ipython",
    "version": 3
   },
   "file_extension": ".py",
   "mimetype": "text/x-python",
   "name": "python",
   "nbconvert_exporter": "python",
   "pygments_lexer": "ipython3",
   "version": "3.9.16"
  }
 },
 "nbformat": 4,
 "nbformat_minor": 5
}
